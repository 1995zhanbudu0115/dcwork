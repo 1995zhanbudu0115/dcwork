{
 "cells": [
  {
   "cell_type": "code",
   "execution_count": 1,
   "metadata": {
    "ExecuteTime": {
     "end_time": "2021-02-24T03:18:01.620007Z",
     "start_time": "2021-02-24T03:18:00.385166Z"
    }
   },
   "outputs": [],
   "source": [
    "import pandas as pd \n",
    "import json\n",
    "import numpy as np\n",
    "import datetime\n",
    "import time\n",
    "import numpy as np \n",
    "import matplotlib.pyplot as plt\n",
    "from sklearn.linear_model import LogisticRegression\n",
    "from sklearn.ensemble import RandomForestClassifier,GradientBoostingClassifier\n",
    "from sklearn.model_selection import KFold,StratifiedKFold,train_test_split\n",
    "from sklearn.metrics import f1_score,accuracy_score,recall_score,roc_auc_score\n",
    "from sklearn import tree\n",
    "import scikitplot as skplt"
   ]
  },
  {
   "cell_type": "code",
   "execution_count": 2,
   "metadata": {
    "ExecuteTime": {
     "end_time": "2021-02-24T03:18:01.629896Z",
     "start_time": "2021-02-24T03:18:01.625942Z"
    },
    "code_folding": [
     0
    ]
   },
   "outputs": [],
   "source": [
    "# bd_3 = pd.read_excel(r'F://svn/新建文件夹 (2)//通用分项目/0_基础信息/百度进件数据/百度3月进件.xlsx')\n",
    "# bd_4 = pd.read_excel(r'F://svn/新建文件夹 (2)//通用分项目/0_基础信息/百度进件数据/百度4月进件.xlsx')\n",
    "# bd_5 = pd.read_excel(r'F://svn/新建文件夹 (2)//通用分项目/0_基础信息/百度进件数据/百度5月进件.xlsx')\n",
    "# bd_6 = pd.read_excel(r'F://svn/新建文件夹 (2)//通用分项目/0_基础信息/百度进件数据/百度6月进件.xlsx')\n",
    "# bd_7 = pd.read_excel(r'F://svn/新建文件夹 (2)//通用分项目/0_基础信息/百度进件数据/百度7月份进件.xlsx')\n",
    "# bd_8 = pd.read_excel(r'F://svn/新建文件夹 (2)//通用分项目/0_基础信息/百度进件数据/百度8月份进件.xlsx')"
   ]
  },
  {
   "cell_type": "code",
   "execution_count": 3,
   "metadata": {
    "ExecuteTime": {
     "end_time": "2021-02-24T03:18:01.638872Z",
     "start_time": "2021-02-24T03:18:01.631891Z"
    }
   },
   "outputs": [],
   "source": [
    "# bd =pd.concat([bd_3,bd_4,bd_5,bd_6,bd_7,bd_8],axis=0)"
   ]
  },
  {
   "cell_type": "code",
   "execution_count": 4,
   "metadata": {
    "ExecuteTime": {
     "end_time": "2021-02-24T03:18:01.681905Z",
     "start_time": "2021-02-24T03:18:01.639868Z"
    },
    "code_folding": [
     7,
     15,
     32,
     47,
     71
    ]
   },
   "outputs": [],
   "source": [
    "#!/usr/bin/python\n",
    "# -*- coding: utf-8 -*-\n",
    "\n",
    "from numpy import log\n",
    "import datetime\n",
    "from dateutil.relativedelta import relativedelta\n",
    "\n",
    "class IV:\n",
    "    # func: calcWOE\n",
    "    # input:\n",
    "    #       dataset: 数据集\n",
    "    #       col:  需要观测的特征\n",
    "    #       targe: 标签\n",
    "    # output:\n",
    "    #       该标签的WOE结果集 \n",
    "    def calcWOE(dataset,col,targe):\n",
    "        subdata=pd.DataFrame(dataset.groupby(col)[col].count())\n",
    "        suby=pd.DataFrame(dataset.groupby(col)[targe].sum())\n",
    "        data=pd.DataFrame(pd.merge(subdata,suby,how=\"left\",left_index=True,right_index=True))\n",
    "        b_total=data[targe].sum()\n",
    "        total=data[col].sum()\n",
    "        g_total=total-b_total\n",
    "        data[\"bad\"]=data.apply(lambda x:round(x[targe]/b_total,11),axis=1)\n",
    "        data[\"good\"]=data.apply(lambda x:round((x[col]-x[targe])/g_total,11),axis=1)\n",
    "        data[\"WOE\"]=data.apply(lambda x:log(x.bad/x.good),axis=1)\n",
    "        return data.loc[:,[\"bad\",\"good\",\"WOE\"]]\n",
    "    \n",
    "    # func: calcIV\n",
    "    # input: \n",
    "    #       dataset: 该标签的WOE结果集 \n",
    "    # output\n",
    "    #       特征IV值\n",
    "    def calcIV(dataset):\n",
    "        dataset[\"IV\"]=dataset.apply(lambda x:(x.bad-x.good)*x.WOE,axis=1)\n",
    "#         print(dataset)\n",
    "        IV=sum(dataset[\"IV\"])\n",
    "        return IV\n",
    "    \n",
    "    # func:IV\n",
    "    # 主函数\n",
    "    # input：\n",
    "    #       data; 数据集，\n",
    "    #       target:  标签名（标签数据需要在数据内）\n",
    "    #       all_feature:  需要进行计算IV值的特征集合\n",
    "    #       binning: 是否分箱\n",
    "    # output:\n",
    "    #       无,打印输出\n",
    "    def IV(data,target,all_feature=[],check=False,binning=True):\n",
    "        # 分箱\n",
    "        # 如果未分箱，要进行分箱默认只有四等分\n",
    "        if all_feature==[]: \n",
    "            all_feature = data.columns.values.tolist()[2:]\n",
    "        for feature in all_feature:\n",
    "            try:\n",
    "                if not binning:\n",
    "                    data[feature] = pd.cut(data[feature],4)\n",
    "                # 去除其中WOE值为无穷大的 \n",
    "                data_WOE=(IV.calcWOE(data,feature,target).fillna(0)).query('WOE!=inf&WOE!=-inf')\n",
    "                if check:\n",
    "#                     print(data_WOE)\n",
    "#                     print('------')\n",
    "                    print(pd.DataFrame(IV.calcWOE(data,feature,target).fillna(0)))\n",
    "                data_IV=IV.calcIV(data_WOE)\n",
    "                print(\"{0}\\t\\t:{1}\".format(feature,data_IV))\n",
    "            except:\n",
    "                print(\"{0} has some error\".format(feature))\n",
    "        return pd.DataFrame(IV.calcWOE(data,feature,target).fillna(0))\n",
    "        # if(data_IV==0.0):\n",
    "        #     print(data_WOE)\n",
    "\n",
    "\n",
    "class PSI:\n",
    "    # 含两个版本的PSI计算方式\n",
    "    # 分为非loop版本 和 loop版本\n",
    "    # loop 版本在处理批量数据上的处理熟读会优于非loop版本\n",
    "    # 大概200的特征处理后的数据能优化20倍, 非loop版本会多次统计处理数据表\n",
    "    def binning(data,col,_type=1,X=10):\n",
    "        # func: binning\n",
    "        # input: data -- 数据集\n",
    "        # input: col -- 需要进行分箱的特征\n",
    "        # input: _type -- 用什么办法进行分箱\n",
    "        # input: X  -- 分箱数量\n",
    "        try:\n",
    "            mark = False\n",
    "            if data[col].value_counts().shape[0]>10:            \n",
    "                if _type == 1:# 等频\n",
    "                    data[col+'_newbin'] = pd.qcut(data[col],X,labels=False,duplicates='drop')\n",
    "                if _type == 2:# 等宽\n",
    "                    data[col+'_newbin'] = pd.cut(data[col],X,labels=False)\n",
    "                if _type == 3:# 等频 速度会比较慢\n",
    "                    edages = pd.Series([i/n for i in range(n)])\n",
    "                    data[col+'_newbin'] = data[col].rank(pct=1).astype(float).apply(lambda x: (x<=edages).idxmax())\n",
    "                mark = True\n",
    "            return data,mark\n",
    "        except:\n",
    "            print(\"{0} 不是连续性变量，不做分箱处理 \".format(col))\n",
    "            return data,False\n",
    "        \n",
    "    def get_base_exp_data(data,time_col, base_year, base_month,gap,target):\n",
    "        # func:get_base_exp_data\n",
    "        # input:\n",
    "        #       _data: 数据集\n",
    "        #       time_col:时间变量\n",
    "        #       base_year: 基准时间-年\n",
    "        #       base_month: 基准时间-月\n",
    "        #       gap: 间隔时间\n",
    "        #       target: 目标变量\n",
    "        # output:\n",
    "        #       目标变量的计算基础数据\n",
    "        data['base_year'] = base_year\n",
    "        data['base_month'] = base_month\n",
    "        data['exp_month'] = base_month+gap     \n",
    "        if df['exp_month'].values[1]<=12:  # 只看一列中的第一个\n",
    "            data['exp_year']  = base_year\n",
    "        else:\n",
    "            data['exp_year']  = base_year+1\n",
    "            data['exp_month'] = base_month+gap-12\n",
    "        data[time_col+'_year'] = data[time_col].apply(lambda x:x.year)\n",
    "        data[time_col+'_month'] = data[time_col].apply(lambda x:x.month)\n",
    "        data_base = data.query(time_col+'_year==base_year&'+time_col+'_month==base_month')\n",
    "        data_exp  = data.query(time_col+'_year==exp_year&'+time_col+'_month==exp_month')\n",
    "        return data_base.loc[:,[target]],data_exp.loc[:,[target]]\n",
    "    \n",
    "    def get_base_exp_data_loop(data,time_col, base_year, base_month,gap):\n",
    "        # func:get_base_exp_data\n",
    "        # input:\n",
    "        #       _data: 数据集\n",
    "        #       time_col:时间变量\n",
    "        #       base_year: 基准时间-年\n",
    "        #       base_month: 基准时间-月\n",
    "        #       gap: 间隔时间\n",
    "        # output:\n",
    "        #       全量的计算基础数据\n",
    "        data['base_year'] = base_year\n",
    "        data['base_month'] = base_month\n",
    "\n",
    "        data['exp_month'] = base_month+gap  \n",
    "        #print(data['exp_month'][0])\n",
    "        \n",
    "        if df['exp_month'].values[1]<=12:  # 只看一列中的第一个\n",
    "            data['exp_year']  = base_year\n",
    "        else:\n",
    "            data['exp_year']  = base_year+1\n",
    "            data['exp_month'] = base_month+gap-12\n",
    "        data[time_col+'_year'] = data[time_col].apply(lambda x:x.year)\n",
    "        data[time_col+'_month'] = data[time_col].apply(lambda x:x.month)\n",
    "        data_base = data.query(time_col+'_year==base_year&'+time_col+'_month==base_month')\n",
    "        data_exp  = data.query(time_col+'_year==exp_year&'+time_col+'_month==exp_month')\n",
    "        return data_base.loc[:],data_exp.loc[:]\n",
    "    \n",
    "    def get_base_exp_data_loop_part(data):\n",
    "        # func:get_base_exp_data\n",
    "        # input:\n",
    "        #       _data: 数据集\n",
    "        #       time_col:时间变量\n",
    "        #       base_year: 基准时间-年\n",
    "        #       base_month: 基准时间-月\n",
    "        #       gap: 间隔时间\n",
    "        # output:\n",
    "        #       全量的计算基础数据\n",
    "#         data['base_year'] = base_year\n",
    "#         data['base_month'] = base_month\n",
    "\n",
    "#         data['exp_month'] = base_month+gap  \n",
    "        #print(data['exp_month'][0])\n",
    "        \n",
    "#         if df['exp_month'].values[1]<=12:  # 只看一列中的第一个\n",
    "#             data['exp_year']  = base_year\n",
    "#         else:\n",
    "#             data['exp_year']  = base_year+1\n",
    "#             data['exp_month'] = base_month+gap-12\n",
    "#         data[time_col+'_year'] = data[time_col].apply(lambda x:x.year)\n",
    "#         data[time_col+'_month'] = data[time_col].apply(lambda x:x.month)\n",
    "#         data_base = data.query(time_col+'_year==base_year&'+time_col+'_month==base_month')\n",
    "#         data_exp  = data.query(time_col+'_year==exp_year&'+time_col+'_month==exp_month')\n",
    "        data_base = data.query('tag==0|tag==1').query('CREATED_DATE<\"2020-07-01\"')\n",
    "        data_exp = data.query('tag==0|tag==1').query('CREATED_DATE>\"2020-08-01\"')\n",
    "        return data_base.loc[:],data_exp.loc[:]\n",
    "    \n",
    "    def PSI(data, time_col, base_year, base_month, gap,target,ignore_inf=True,test=False):\n",
    "        # input\n",
    "        # base_time = year+month like '2019-06-01'\n",
    "        data, mark = PSI.binning(data,target,1,8)\n",
    "        if mark: target = target+'_newbin'\n",
    "        data_base, data_exp = PSI.get_base_exp_data(data, time_col,base_year, base_month, gap, target)\n",
    "        if test: print(data_base,data_exp)\n",
    "        # 分箱统计\n",
    "        result_base = pd.DataFrame(data_base[target].value_counts())\n",
    "        result_base['base_p'] = result_base[target].apply(lambda x: x/result_base[target].sum())\n",
    "        result_exp  = pd.DataFrame(data_exp[target].value_counts())\n",
    "        result_exp['exp_p'] = result_exp[target].apply(lambda x: x/result_exp[target].sum())\n",
    "        result =pd.DataFrame(pd.merge(result_base,result_exp,how=\"left\",left_index=True,right_index=True))\n",
    "        result = result.loc[:,['base_p','exp_p']]\n",
    "        result = result.fillna(0)\n",
    "        length = result.shape[0]\n",
    "        if test: print(result)\n",
    "        if test: print(result.query('base_p==0'))\n",
    "        psi = 0 \n",
    "        result['psi'] = (result['exp_p'].apply(lambda x:x)-result['base_p'].apply(lambda x:x))*log(result['exp_p'].apply(lambda x:x)/result['base_p'].apply(lambda x:x))\n",
    "        if test: print(result['psi'])\n",
    "        print('{0}\\t{1}'.format(target,result.query('psi!=inf')['psi'].sum())) if ignore_inf else print('{0}\\t{1}'.format(target,result['psi'].sum()))\n",
    "    \n",
    "    def PSI_loop_part(data, targets, bin=True, ignore_inf=True, test=False):\n",
    "        if bin:\n",
    "            bin_list = []\n",
    "            bin_listadd = []\n",
    "            for target in targets:\n",
    "                data, mark = PSI.binning(data,target,1,8)\n",
    "                if mark: \n",
    "                    bin_list.append(target)\n",
    "                    bin_listadd.append(target+'_newbin')        \n",
    "            targets = list((set(targets)-set(bin_list))|set(bin_listadd))\n",
    "        \n",
    "        data_base, data_exp = PSI.get_base_exp_data_loop_part(data)\n",
    "        for target in targets:\n",
    "            result_base = pd.DataFrame(data_base[target].value_counts())\n",
    "            result_base['base_p'] = result_base[target].apply(lambda x: x/result_base[target].sum())\n",
    "            result_exp  = pd.DataFrame(data_exp[target].value_counts())\n",
    "            result_exp['exp_p'] = result_exp[target].apply(lambda x: x/result_exp[target].sum())\n",
    "            result =pd.DataFrame(pd.merge(result_base,result_exp,how=\"left\",left_index=True,right_index=True))\n",
    "            result = result.loc[:,['base_p','exp_p']]\n",
    "            result = result.fillna(0)\n",
    "            length = result.shape[0]\n",
    "            if test: print(result)\n",
    "            if test: print(result.query('base_p==0'))\n",
    "            psi = 0 \n",
    "            result['psi'] = (result['exp_p'].apply(lambda x:x)-result['base_p'].apply(lambda x:x))*log(result['exp_p'].apply(lambda x:x)/result['base_p'].apply(lambda x:x))\n",
    "            if test: print(result['psi'])\n",
    "            print('{0}\\t{1}'.format(target,result.query('psi!=inf')['psi'].sum())) if ignore_inf else print('{0}\\t{1}'.format(target,result['psi'].sum()))\n",
    "    \n",
    "\n"
   ]
  },
  {
   "cell_type": "code",
   "execution_count": 5,
   "metadata": {
    "ExecuteTime": {
     "end_time": "2021-02-24T03:18:01.699740Z",
     "start_time": "2021-02-24T03:18:01.683752Z"
    },
    "code_folding": [
     5,
     21,
     42
    ]
   },
   "outputs": [],
   "source": [
    "import pandas as pd\n",
    "import numpy as np\n",
    "from scipy.stats import chi2\n",
    "\n",
    "def Chi2(df, total_col, bad_col,overallRate):\n",
    "    '''\n",
    "     #此函数计算卡方值\n",
    "     :df dataFrame\n",
    "     :total_col 每个值得总数量\n",
    "     :bad_col 每个值的坏数据数量\n",
    "     :overallRate 坏数据的占比\n",
    "     : return 卡方值\n",
    "    '''\n",
    "    df2=df.copy()\n",
    "    df2['expected']=df[total_col].apply(lambda x: x*overallRate)\n",
    "    combined=zip(df2['expected'], df2[bad_col])\n",
    "    chi=[(i[0]-i[1])**2/i[0] for i in combined]\n",
    "    chi2=sum(chi)\n",
    "    return chi2\n",
    "\n",
    "def chi22(arr):\n",
    "    '''\n",
    "    计算卡方值\n",
    "    arr：频数统计表，二维numpy数组\n",
    "    '''\n",
    "    assert(arr.ndim == 2) \n",
    "    # assert断言是声明其布尔值必须为真的判定，如果发生异常就说明表达示为假。\n",
    "    # 可以理解assert断言语句为raise-if-not，用来测试表示式，其返回值为假，就会触发异常。\n",
    "    \n",
    "    R_N = arr.sum(axis=1) # 计算每行总频数\n",
    "    C_N = arr.sum(axis=0) # 计算每列总频数\n",
    "    N = arr.sum() # 总频数\n",
    "    \n",
    "    E = np.ones(arr.shape)*C_N/N # 计算期望频数\n",
    "    E = (E.T*R_N).T\n",
    "    square = (arr-E)**2/E\n",
    "    square[E==0] = 0 # 当期望频数为0时，作为分母无意义，不计入卡方值\n",
    "    \n",
    "    v = square.sum() # 卡方值\n",
    "    return v\n",
    "\n",
    "def chiMerge(df,col,target,max_groups = None,threshold = None):\n",
    "    '''\n",
    "    卡方分箱\n",
    "    df: pandas DataFrame 数据集\n",
    "    col: 需要分箱的变量名（数值型）/score\n",
    "    target：类标签 mark\n",
    "    max_groups: 最大分组数 N\n",
    "    threshold： 卡方阈值，如果未指定max_groups，默认使用置信度95%设置threshold\n",
    "    return：包括各组的起始值的列表\n",
    "    '''\n",
    "    freq_tab = pd.crosstab(df[col],df[target])\n",
    "    \n",
    "    # 转成numpy数组用于计算\n",
    "    freq = freq_tab.values\n",
    "    \n",
    "    # 初始分组切分点，每个变量值都是切分点，每组中只包含一个变量值\n",
    "    # 分组区间是左闭右开的，如cutoffs = [1,2,3]，表示区间，[1,2),[2,3).[3,3+)\n",
    "    cutoffs = freq_tab.index.values\n",
    "    \n",
    "    # 如果没有指定最大分组\n",
    "    if max_groups is None:\n",
    "        # 如果没有指定卡方阈值，就以95%的置信度（自由度为类数目-1）设定阈值\n",
    "        if threshold is None:\n",
    "            # 类数目\n",
    "            cls_num = freq.shape[-1]\n",
    "            threshold = chi2.isf(0.05,df = cls_num-1)\n",
    "    \n",
    "    while True:\n",
    "        minvalue = None\n",
    "        minidx = None\n",
    "        # 从第一组开始，依次计算两组卡方值，并判断是否小于当前最小的卡方\n",
    "        for i in range(len(freq)-1):\n",
    "            v = chi22(freq[i:i+2])\n",
    "            if minvalue is None or minvalue > v: # 小于当前最小卡方，更换最小值\n",
    "                minvalue = v\n",
    "                minidx = i\n",
    "        \n",
    "        # 如果最小卡方值小于阈值，则合并最小卡方值的相邻两组，并继续循环\n",
    "        if (max_groups is not None and max_groups < len(freq)) or (threshold is not None and minvalue < threshold):\n",
    "            # minidx 后一行合并到minidx\n",
    "            tmp = freq[minidx] + freq[minidx+1]\n",
    "            freq[minidx] = tmp\n",
    "            # 删除minidx后一行\n",
    "            freq = np.delete(freq,minidx+1,0)\n",
    "            # 删除对应的切分点\n",
    "            cutoffs = np.delete(cutoffs,minidx+1,0)\n",
    "            \n",
    "        else: # 最小卡方值不小于阈值，停止合并\n",
    "            break\n",
    "    return cutoffs"
   ]
  },
  {
   "cell_type": "code",
   "execution_count": 6,
   "metadata": {
    "ExecuteTime": {
     "end_time": "2021-02-24T03:18:01.705693Z",
     "start_time": "2021-02-24T03:18:01.700744Z"
    }
   },
   "outputs": [],
   "source": [
    "# bd_apply = bd.query('TRANSACTION_TYPE==\"apply\"').drop_duplicates(['ID_CARD_NO','CREATED_DATE'])"
   ]
  },
  {
   "cell_type": "code",
   "execution_count": 7,
   "metadata": {
    "ExecuteTime": {
     "end_time": "2021-02-24T03:18:01.710680Z",
     "start_time": "2021-02-24T03:18:01.706691Z"
    }
   },
   "outputs": [],
   "source": [
    "def tran(JSON,feature):\n",
    "    try:\n",
    "        return json.loads(JSON)[feature]\n",
    "    except:\n",
    "        print(JSON)\n",
    "        return JSON"
   ]
  },
  {
   "cell_type": "code",
   "execution_count": 8,
   "metadata": {
    "ExecuteTime": {
     "end_time": "2021-02-24T03:18:01.716664Z",
     "start_time": "2021-02-24T03:18:01.712675Z"
    }
   },
   "outputs": [],
   "source": [
    "# bd_apply.reset_index(drop=True,inplace=True)"
   ]
  },
  {
   "cell_type": "code",
   "execution_count": 9,
   "metadata": {
    "ExecuteTime": {
     "end_time": "2021-02-24T03:18:01.848400Z",
     "start_time": "2021-02-24T03:18:01.845368Z"
    }
   },
   "outputs": [],
   "source": [
    "# for i in json.loads(bd_apply['EXPANDING'][0]).keys():\n",
    "#     bd_apply[i] = bd_apply['EXPANDING'].map(lambda x:tran(x,i))"
   ]
  },
  {
   "cell_type": "code",
   "execution_count": 10,
   "metadata": {
    "ExecuteTime": {
     "end_time": "2021-02-24T03:18:02.022100Z",
     "start_time": "2021-02-24T03:18:02.019105Z"
    }
   },
   "outputs": [],
   "source": [
    "# bd_apply.to_csv(r'./merge_1st_ver.csv',index=False)"
   ]
  },
  {
   "cell_type": "code",
   "execution_count": 11,
   "metadata": {
    "ExecuteTime": {
     "end_time": "2021-02-24T03:18:02.191364Z",
     "start_time": "2021-02-24T03:18:02.187351Z"
    }
   },
   "outputs": [],
   "source": [
    "# import pandas_profiling\n",
    "# report = pandas_profiling.ProfileReport(bd_apply)\n",
    "# report.to_file('report.html')"
   ]
  },
  {
   "cell_type": "code",
   "execution_count": 12,
   "metadata": {
    "ExecuteTime": {
     "end_time": "2021-02-24T03:18:02.385066Z",
     "start_time": "2021-02-24T03:18:02.382074Z"
    }
   },
   "outputs": [],
   "source": [
    "# bd_apply =pd.read_csv(r'./merge_1st_ver.csv')"
   ]
  },
  {
   "cell_type": "code",
   "execution_count": 13,
   "metadata": {
    "ExecuteTime": {
     "end_time": "2021-02-24T03:18:02.535557Z",
     "start_time": "2021-02-24T03:18:02.531568Z"
    }
   },
   "outputs": [],
   "source": [
    "# bd_apply1 = bd_apply.drop_duplicates('ID_CARD_NO',keep='last')"
   ]
  },
  {
   "cell_type": "code",
   "execution_count": 14,
   "metadata": {
    "ExecuteTime": {
     "end_time": "2021-02-24T03:18:02.724273Z",
     "start_time": "2021-02-24T03:18:02.720283Z"
    }
   },
   "outputs": [],
   "source": [
    "# bd_tag_1 = pd.read_csv(r'./百度6月前表现.csv')\n",
    "# bd_tag_2 = pd.read_csv(r'./百度7月180天表现.csv')\n",
    "# bd_tag_3 = pd.read_csv(r'./百度8月150天表现.csv')\n",
    "# bd_tag_1['Tt']=1\n",
    "# bd_tag_2['Tt']=2\n",
    "# bd_tag_3['Tt']=2"
   ]
  },
  {
   "cell_type": "code",
   "execution_count": 15,
   "metadata": {
    "ExecuteTime": {
     "end_time": "2021-02-24T03:18:02.884085Z",
     "start_time": "2021-02-24T03:18:02.881094Z"
    }
   },
   "outputs": [],
   "source": [
    "# bd_tag = pd.concat([bd_tag_1,bd_tag_2,bd_tag_3],axis=0)"
   ]
  },
  {
   "cell_type": "code",
   "execution_count": 16,
   "metadata": {
    "ExecuteTime": {
     "end_time": "2021-02-24T03:18:03.063798Z",
     "start_time": "2021-02-24T03:18:03.060818Z"
    }
   },
   "outputs": [],
   "source": [
    "# bd_tag.drop('cust_no',axis=1,inplace=True)"
   ]
  },
  {
   "cell_type": "code",
   "execution_count": 17,
   "metadata": {
    "ExecuteTime": {
     "end_time": "2021-02-24T03:18:03.237272Z",
     "start_time": "2021-02-24T03:18:03.234282Z"
    }
   },
   "outputs": [],
   "source": [
    "# bd_tag_avli = pd.DataFrame(bd_tag.groupby('cert_no')['ovdue_days'].max()).reset_index()"
   ]
  },
  {
   "cell_type": "code",
   "execution_count": 18,
   "metadata": {
    "ExecuteTime": {
     "end_time": "2021-02-24T03:18:03.450403Z",
     "start_time": "2021-02-24T03:18:03.447412Z"
    }
   },
   "outputs": [],
   "source": [
    "# bd_tag_avli.rename(columns={'cert_no':'ID_CARD_NO'},inplace=True)"
   ]
  },
  {
   "cell_type": "code",
   "execution_count": null,
   "metadata": {
    "ExecuteTime": {
     "end_time": "2021-02-03T03:28:01.281257Z",
     "start_time": "2021-02-03T03:28:01.179490Z"
    }
   },
   "outputs": [],
   "source": []
  },
  {
   "cell_type": "code",
   "execution_count": 19,
   "metadata": {
    "ExecuteTime": {
     "end_time": "2021-02-24T03:18:03.811299Z",
     "start_time": "2021-02-24T03:18:03.808307Z"
    }
   },
   "outputs": [],
   "source": [
    "# bd_avli = pd.merge(bd_apply1,bd_tag_avli,on='ID_CARD_NO',how='left')"
   ]
  },
  {
   "cell_type": "code",
   "execution_count": 20,
   "metadata": {
    "ExecuteTime": {
     "end_time": "2021-02-24T03:18:03.987988Z",
     "start_time": "2021-02-24T03:18:03.985987Z"
    }
   },
   "outputs": [],
   "source": [
    "# bd_tag_avli.shape"
   ]
  },
  {
   "cell_type": "code",
   "execution_count": 21,
   "metadata": {
    "ExecuteTime": {
     "end_time": "2021-02-24T03:18:04.169301Z",
     "start_time": "2021-02-24T03:18:04.165298Z"
    }
   },
   "outputs": [],
   "source": [
    "# bd_avli['ovdue_days'].fillna(-1,inplace=True)"
   ]
  },
  {
   "cell_type": "code",
   "execution_count": 22,
   "metadata": {
    "ExecuteTime": {
     "end_time": "2021-02-24T03:18:04.336880Z",
     "start_time": "2021-02-24T03:18:04.333888Z"
    }
   },
   "outputs": [],
   "source": [
    "# def tag(v):\n",
    "#     if v>30:\n",
    "#         return 1\n",
    "#     elif v>0:\n",
    "#         return 0.5\n",
    "#     elif v==0:\n",
    "#         return 0\n",
    "#     else:\n",
    "#         return -1\n",
    "# bd_avli['tag'] = bd_avli['ovdue_days'].map(tag)"
   ]
  },
  {
   "cell_type": "markdown",
   "metadata": {},
   "source": [
    "bd_avli 为输入整合后的数据表 base merge_with_fake_4"
   ]
  },
  {
   "cell_type": "code",
   "execution_count": 23,
   "metadata": {
    "ExecuteTime": {
     "end_time": "2021-02-24T03:18:06.311110Z",
     "start_time": "2021-02-24T03:18:04.693353Z"
    }
   },
   "outputs": [
    {
     "name": "stderr",
     "output_type": "stream",
     "text": [
      "E:\\Users\\zhengkw\\AppData\\Local\\Continuum\\anaconda3\\lib\\site-packages\\IPython\\core\\interactiveshell.py:3058: DtypeWarning: Columns (4) have mixed types.Specify dtype option on import or set low_memory=False.\n",
      "  interactivity=interactivity, compiler=compiler, result=result)\n"
     ]
    }
   ],
   "source": [
    "bd_avli = pd.read_csv(r'./merge_with_fake_4.csv')"
   ]
  },
  {
   "cell_type": "code",
   "execution_count": 24,
   "metadata": {
    "ExecuteTime": {
     "end_time": "2021-02-24T03:18:06.321082Z",
     "start_time": "2021-02-24T03:18:06.313104Z"
    }
   },
   "outputs": [
    {
     "data": {
      "text/plain": [
       "0.0    37144\n",
       "1.0      915\n",
       "Name: tag, dtype: int64"
      ]
     },
     "execution_count": 24,
     "metadata": {},
     "output_type": "execute_result"
    }
   ],
   "source": [
    "bd_avli['tag'].value_counts()"
   ]
  },
  {
   "cell_type": "code",
   "execution_count": 25,
   "metadata": {
    "ExecuteTime": {
     "end_time": "2021-02-24T03:18:06.326069Z",
     "start_time": "2021-02-24T03:18:06.323077Z"
    }
   },
   "outputs": [],
   "source": [
    "# bd_avli.query('CREATED_DATE<\"2020-07-01\"')['tag'].value_counts()"
   ]
  },
  {
   "cell_type": "code",
   "execution_count": 26,
   "metadata": {
    "ExecuteTime": {
     "end_time": "2021-02-24T03:18:06.333050Z",
     "start_time": "2021-02-24T03:18:06.327067Z"
    }
   },
   "outputs": [
    {
     "data": {
      "text/plain": [
       "0.024041619590635593"
      ]
     },
     "execution_count": 26,
     "metadata": {},
     "output_type": "execute_result"
    }
   ],
   "source": [
    "bd_avli['tag'].mean()"
   ]
  },
  {
   "cell_type": "code",
   "execution_count": 27,
   "metadata": {
    "ExecuteTime": {
     "end_time": "2021-02-24T03:18:06.338037Z",
     "start_time": "2021-02-24T03:18:06.334048Z"
    }
   },
   "outputs": [],
   "source": [
    "# import pandas_profiling\n",
    "# report = pandas_profiling.ProfileReport(bd_avli.query('CREATED_DATE<\"2020-07-01\"')[zx_feature])\n",
    "# report.to_file('report.html')"
   ]
  },
  {
   "cell_type": "code",
   "execution_count": 28,
   "metadata": {
    "ExecuteTime": {
     "end_time": "2021-02-24T03:18:06.369952Z",
     "start_time": "2021-02-24T03:18:06.339035Z"
    }
   },
   "outputs": [
    {
     "data": {
      "text/plain": [
       "Series([], Name: tag, dtype: int64)"
      ]
     },
     "execution_count": 28,
     "metadata": {},
     "output_type": "execute_result"
    }
   ],
   "source": [
    "bd_avli.query('CREATED_DATE>\"2020-07-01\"&CREATED_DATE<\"2020-08-01\"')['tag'].value_counts()"
   ]
  },
  {
   "cell_type": "code",
   "execution_count": 29,
   "metadata": {
    "ExecuteTime": {
     "end_time": "2021-02-24T03:18:06.384912Z",
     "start_time": "2021-02-24T03:18:06.371946Z"
    }
   },
   "outputs": [
    {
     "data": {
      "text/plain": [
       "Series([], Name: tag, dtype: int64)"
      ]
     },
     "execution_count": 29,
     "metadata": {},
     "output_type": "execute_result"
    }
   ],
   "source": [
    "bd_avli.query('CREATED_DATE>\"2020-08-01\"')['tag'].value_counts()"
   ]
  },
  {
   "cell_type": "code",
   "execution_count": 30,
   "metadata": {
    "ExecuteTime": {
     "end_time": "2021-02-24T03:18:06.390895Z",
     "start_time": "2021-02-24T03:18:06.386906Z"
    }
   },
   "outputs": [],
   "source": [
    "# 数据处理"
   ]
  },
  {
   "cell_type": "code",
   "execution_count": 31,
   "metadata": {
    "ExecuteTime": {
     "end_time": "2021-02-24T03:18:06.397878Z",
     "start_time": "2021-02-24T03:18:06.392892Z"
    },
    "code_folding": [
     0
    ]
   },
   "outputs": [],
   "source": [
    "# zx_feature = [\n",
    "#    'zxCreditCardDelqStatus30To60Days',\n",
    "#    'zxHouseFundPayStatus',\n",
    "#    'zxLoanRcyDelqDate',\n",
    "#    'zxDomicile',\n",
    "#    'zx1MthDelqMaxAmt',\n",
    "#    'zxCreditCardAccuDelqCnt',\n",
    "#    'zxCreditCardDelqStatus90To180Days',\n",
    "#    'zxAccountCnt',\n",
    "#    'zxRcy24MCreCardMaxDelqPeriod',\n",
    "#    'zxHouseFundPayLastMonth',\n",
    "#    'zxCreditCardDelqStatus30Dayyues',\n",
    "#    'zxBadBebtsBalance',\n",
    "#    'zxMaxMonths',\n",
    "#    'zxMaxCreditAmt',\n",
    "#    'zxLoanBalanceAmt',\n",
    "#    'zxCommerHouseLoanBlance',\n",
    "#    'zxGuaranteeCnt',\n",
    "#    'zxMaxUpdated',\n",
    "#    'zxRcy6MCreCardQueryCompanyCnt',\n",
    "#    'zxCareer',\n",
    "#    'zxLoanDelqStatus30Dayyues',\n",
    "#    'zxFirstLoanMonth',\n",
    "#    'zxBlanceShouldPayAmt',\n",
    "#    'zxRcy12MCreCardMaxDelqPeriod',\n",
    "#    'zxRestDisposalCnt',\n",
    "#    'zxCreCardUseCreditRate',\n",
    "#    'zxRcy3MCreCardQueryCnt',\n",
    "#    'zxCreCardMaxMonthsCnt',\n",
    "#    'zxRcy6MCreCardQueryCnt',\n",
    "#    'zxCreCardStatus4',\n",
    "#    'zxCreCardStatus5',\n",
    "#    'zxCreCardStatus2',\n",
    "#    'zxCreCardStatus3',\n",
    "#    'zxPermanentAddress',\n",
    "#    'zxLoanCompanyBalCnt',\n",
    "#    'zxWarrantLoanRate1',\n",
    "#    'zxFirstCreCardDate',\n",
    "#    'zxCreCardStatus1',\n",
    "#    'zxLoanRcyUpdateDate',\n",
    "#    'zxRcy6MLoanQueryCnt',\n",
    "#    'zxWarrantLoanType',\n",
    "#    'zxCreCardDelqAccoutCnt',\n",
    "#    'zxRcy24MAcctMaxDelqPeriod',\n",
    "#    'zxIssuBankCnt',\n",
    "#    'zxLoanDelqStatus6To12Months',\n",
    "#    'zxDelqCnt',\n",
    "#    'zxRcy1MLoanQueryCompanyCnt',\n",
    "#    'zxCreCardNowShouldPayAmt',\n",
    "#    'zxFirstLoanDate',\n",
    "#    'zxLoanDelqStatus60To90Days',\n",
    "#    'zxRcy1MCreCardQueryCnt',\n",
    "#    'zxRcy6MAvgUseCreditAmt',\n",
    "#    'zxCreditCardRcyUpdateDate',\n",
    "#    'zxRcy24MCreCardTotalDelqCnt',\n",
    "#    'zxEducation',\n",
    "#    'zxRcyQueryDate',\n",
    "#    'zxHouseFundCompanyRate',\n",
    "#    'zxLoanDelqStatus90To180Days',\n",
    "#    'zxHouseLoan1MAvgPayAmt',\n",
    "#    'zxRcy3MCreCardQueryCompanyCnt',\n",
    "#    'zxCreditCardDelqStatus6To12Months',\n",
    "#    'zxBadBebtsCnt',\n",
    "#    'zxPersonalLoanCnt',\n",
    "#    'zxCreditBal',\n",
    "#    'zxSex',\n",
    "#    'zxAccountNowTotalDelqAmt',\n",
    "#    'zxHouseFundMonthPayAmt',\n",
    "#    'zxHouseFundSelfRate',\n",
    "#    'zxLoanBalCnt',\n",
    "#    'zxMinCreditAmt',\n",
    "#    'zxTotalCreditAmt',\n",
    "#    'zxMaritalStatus',\n",
    "#    'zxRcy3MLoanQueryCompanyCnt',\n",
    "#    'zxWarrantLoanCnt',\n",
    "#    'zxCreditAvgLimit',\n",
    "#    'zxCreditCardDelqStatus60To90Days',\n",
    "#    'zxRcy6MLoanQueryCompanyCnt',\n",
    "#    'zxRcy3MLoanQueryCnt',\n",
    "#    'zxUseCreditAmt',\n",
    "#    'zxCreCardAcctNowTotalDelqAmt',\n",
    "#    'zxCreditRetCode',\n",
    "#    'zxLoanDelqStatus30To60Days',\n",
    "#    'zxRcy1MLoanQueryCnt',\n",
    "#    'zxRcy1MCreCardQueryCompanyCnt',\n",
    "#    'zxHouseFundRecordUpdate',\n",
    "#    'zxWarrantLoanTypeUnnormal',\n",
    "#    'zxHouseFundMonthShouldPayAmt',\n",
    "#    'zxRcy6MCreCardMaxDelqPeriod',\n",
    "#    'zxCreditCardDelqStatus24Months',\n",
    "#    'zxRcy6MAvgPayAmt',\n",
    "#    'zxCreCardDelqMaxAmt',\n",
    "#    'zxCreditCardRcyDelqDate'\n",
    "# ]"
   ]
  },
  {
   "cell_type": "code",
   "execution_count": 32,
   "metadata": {
    "ExecuteTime": {
     "end_time": "2021-02-24T03:18:06.402865Z",
     "start_time": "2021-02-24T03:18:06.398875Z"
    }
   },
   "outputs": [],
   "source": [
    "# zxCreditCardDelqStatus30To60Days   字典 不动 \n",
    "# zxCreditCardDelqStatus30To60Days   zxHouseFundPayStatus# "
   ]
  },
  {
   "cell_type": "code",
   "execution_count": 33,
   "metadata": {
    "ExecuteTime": {
     "end_time": "2021-02-24T03:18:06.623378Z",
     "start_time": "2021-02-24T03:18:06.591458Z"
    }
   },
   "outputs": [],
   "source": [
    "bd_avli_limit =bd_avli.query('tag==0|tag==1')"
   ]
  },
  {
   "cell_type": "code",
   "execution_count": 34,
   "metadata": {
    "ExecuteTime": {
     "end_time": "2021-02-24T03:18:06.775161Z",
     "start_time": "2021-02-24T03:18:06.755186Z"
    }
   },
   "outputs": [],
   "source": [
    "bd_avli_test = bd_avli_limit.copy()"
   ]
  },
  {
   "cell_type": "code",
   "execution_count": null,
   "metadata": {},
   "outputs": [],
   "source": []
  },
  {
   "cell_type": "code",
   "execution_count": 35,
   "metadata": {
    "ExecuteTime": {
     "end_time": "2021-02-24T03:18:07.150586Z",
     "start_time": "2021-02-24T03:18:07.141563Z"
    },
    "code_folding": [
     84,
     88
    ]
   },
   "outputs": [],
   "source": [
    "zx_feature_enum = [\n",
    "    'zxCreditCardDelqStatus30Dayyues',\n",
    "    'zxCreditCardDelqStatus30To60Days',\n",
    "    'zxCreditCardDelqStatus60To90Days',\n",
    "    'zxCreditCardDelqStatus90To180Days',\n",
    "    'zxCreditCardDelqStatus6To12Months',\n",
    "    'zxCreditCardDelqStatus24Months',\n",
    "    'zxLoanDelqStatus30Dayyues',# 留 0.01\n",
    "    'zxLoanDelqStatus30To60Days',\n",
    "    'zxLoanDelqStatus60To90Days',\n",
    "    'zxLoanDelqStatus90To180Days',\n",
    "    'zxLoanDelqStatus6To12Months',\n",
    "    'zxCreCardStatus1',\n",
    "    'zxCreCardStatus3',# 留0.01\n",
    "    'zxCreCardStatus4',\n",
    "    'zxCreCardStatus5',# 留0.01\n",
    "    'zxHouseFundPayStatus',\n",
    "    'zxCareer',\n",
    "    'zxMaritalStatus',\n",
    "    'zxEducation',\n",
    "    'zxSex'\n",
    "]\n",
    "zx_feature_date = [\n",
    "    'zxCreditCardRcyDelqDate',  #贷记卡字孔明偶从逾期日期  不留\n",
    "    'zxCreditCardRcyUpdateDate', # 贷记卡记录最新更新时间   不留 \n",
    "    'zxLoanRcyDelqDate',#贷款最近一次逾期日期  不留\n",
    "#     'zxFirstLoanDate', # 首笔贷款获批日期 高度相关与 发放\n",
    "    'zxFirstCreCardDate', # 首笔信用卡获批日期\n",
    "    'zxFirstLoanMonth', #首笔贷款发放月份\n",
    "#     'zxMaxUpdated',  #是信息最新更新日期  IV 太低 0.01\n",
    "    'zxHouseFundPayLastMonth', # 缴至月份（住房公积金）\n",
    "    'zxHouseFundRecordUpdate',\n",
    "    'zxLoanRcyUpdateDate', # 贷款记录最新更新时间\n",
    "]\n",
    "zx_feature_date_str=[\n",
    "    'zxRcy6MLoanQueryCnt',\n",
    "    'zxRcy6MLoanQueryCompanyCnt',\n",
    "#     'zxRcy6MCreCardQueryCompanyCnt', # IV_太低\n",
    "#     'zxRcy6MCreCardQueryCnt', # IV_太低\n",
    "    'zxRcy1MLoanQueryCnt',\n",
    "    'zxRcy1MLoanQueryCompanyCnt',\n",
    "#     'zxRcy1MCreCardQueryCompanyCnt',# IV_太低\n",
    "#     'zxRcy1MCreCardQueryCnt', # IV_太低\n",
    "    'zxRcy3MLoanQueryCompanyCnt',\n",
    "    'zxRcy3MLoanQueryCnt',\n",
    "#     'zxRcy3MCreCardQueryCompanyCnt', # IV_太低\n",
    "#     'zxRcy3MCreCardQueryCnt', # IV_太低\n",
    "    'zxAccountCnt',\n",
    "    'zxTotalCreditAmt',\n",
    "#     'zx1MthDelqMaxAmt',  合并后IV过低\n",
    "    'zxIssuBankCnt',\n",
    "    'zxUseCreditAmt',\n",
    "    'zxCreditBal',\n",
    "    'zxRcy6MAvgUseCreditAmt',\n",
    "    'zxCreditAvgLimit',\n",
    "    'zxCreCardUseCreditRate',\n",
    "    'zxMaxCreditAmt',\n",
    "    'zxMinCreditAmt',\n",
    "    'zxBlanceShouldPayAmt',\n",
    "    'zxCreCardNowShouldPayAmt',\n",
    "    'zxHouseLoan1MAvgPayAmt',\n",
    "#     'zxAccountNowTotalDelqAmt',  基本单一值\n",
    "#     'zxDelqCnt', # IV 低\n",
    "#     'zxWarrantLoanCnt', 基本单一值\n",
    "    'zxRcy6MAvgPayAmt',\n",
    "    'zxHouseFundMonthPayAmt',\n",
    "    'zxHouseFundSelfRate',\n",
    "    'zxHouseFundCompanyRate',\n",
    "#     'zxCommerHouseLoanBlance',\n",
    "#     'zxCreCardAcctNowTotalDelqAmt',\n",
    "    'zxCreCardDelqMaxAmt',\n",
    "    'zxCreCardMaxMonthsCnt',\n",
    "    'zxCreCardDelqAccoutCnt',\n",
    "#     'zxHouseFundMonthShouldPayAmt',\n",
    "    'zxCreditCardAccuDelqCnt',\n",
    "    'zxLoanBalCnt',\n",
    "    'zxLoanBalanceAmt',\n",
    "    'zxLoanCompanyBalCnt',\n",
    "#     'zxPersonalLoanCnt',\n",
    "    'zxRcy12MCreCardMaxDelqPeriod',\n",
    "    'zxRcy24MCreCardMaxDelqPeriod',\n",
    "    'zxRcy6MCreCardMaxDelqPeriod',\n",
    "]\n",
    "\n",
    "zx_feature_special=[\n",
    "    'zxPermanentAddress',\n",
    "    'zxDomicile'\n",
    "]\n",
    "zx_feature_drop=[\n",
    "    'zxCreditRetCode',\n",
    "    'zxRestDisposalCnt',  #信息量少\n",
    "    'zxCreCardStatus2', # \n",
    "    'zxWarrantLoanTypeUnnormal',\n",
    "    'zxWarrantLoanType', # 大部分是的未知\n",
    "    'zxBadBebtsBalance', #  非未知值\n",
    "    'zxMaxMonths', \n",
    "    'zxBadBebtsCnt',\n",
    "    'zxRcyQueryDate', # 最近一次PBOC查询日期  留\n",
    "]"
   ]
  },
  {
   "cell_type": "code",
   "execution_count": 36,
   "metadata": {
    "ExecuteTime": {
     "end_time": "2021-02-24T03:18:07.353640Z",
     "start_time": "2021-02-24T03:18:07.349618Z"
    }
   },
   "outputs": [],
   "source": [
    "zx_feature = zx_feature_enum+zx_feature_date+zx_feature_date_str"
   ]
  },
  {
   "cell_type": "code",
   "execution_count": 37,
   "metadata": {
    "ExecuteTime": {
     "end_time": "2021-02-24T03:18:07.987440Z",
     "start_time": "2021-02-24T03:18:07.549163Z"
    }
   },
   "outputs": [
    {
     "name": "stdout",
     "output_type": "stream",
     "text": [
      "['0' '1' '10' '11' '2' '3' '4' '5' '6' '9']\n",
      "['0' '1' '10' '11' '12' '2' '3' '4' '5' '6' '7' '8' '9']\n",
      "['0' '1' '10' '11' '12' '2' '3' '4' '5' '6' '7' '8' '9']\n",
      "['0' '1' '10' '11' '12' '2' '3' '4' '5' '6' '7' '8' '9']\n",
      "['0' '1' '10' '11' '12' '2' '3' '4' '5' '6' '7' '8' '9']\n",
      "['0' '1' '10' '11' '12' '2' '3' '4' '5' '6' '7' '8' '9']\n",
      "['0' '1' '12' '2' '3' '4' '5' '6' '9']\n",
      "['0' '1' '10' '11' '12' '13' '2' '3' '4' '5' '6' '7' '8' '9']\n",
      "['0' '1' '10' '11' '12' '13' '2' '3' '4' '5' '6' '7' '8' '9']\n",
      "['0' '1' '10' '11' '12' '13' '2' '3' '4' '5' '6' '7' '8' '9']\n",
      "['0' '1' '10' '11' '12' '13' '2' '3' '4' '5' '6' '7' '8' '9']\n"
     ]
    }
   ],
   "source": [
    "# 枚举类\n",
    "from sklearn import preprocessing\n",
    "lbl = preprocessing.LabelEncoder()\n",
    "\n",
    "for i in ['zxCreditCardDelqStatus30Dayyues','zxCreditCardDelqStatus30To60Days','zxCreditCardDelqStatus60To90Days',\n",
    "          'zxCreditCardDelqStatus90To180Days','zxCreditCardDelqStatus6To12Months','zxCreditCardDelqStatus24Months',\n",
    "          'zxLoanDelqStatus30Dayyues','zxLoanDelqStatus30To60Days','zxLoanDelqStatus60To90Days',\n",
    "          'zxLoanDelqStatus90To180Days','zxLoanDelqStatus6To12Months']:\n",
    "    bd_avli_test[i] = lbl.fit_transform(bd_avli_test[i].astype(str))#将提示的包含错误数据类型这一列进行转换  \n",
    "    print(lbl.classes_)"
   ]
  },
  {
   "cell_type": "code",
   "execution_count": 38,
   "metadata": {
    "ExecuteTime": {
     "end_time": "2021-02-24T03:18:08.343488Z",
     "start_time": "2021-02-24T03:18:07.988441Z"
    }
   },
   "outputs": [
    {
     "name": "stdout",
     "output_type": "stream",
     "text": [
      "['0' '1' '2' '3' '5' '6']\n",
      "['0' '1' '2' '3' '4' '5']\n",
      "['0' '1' '2' '3' '5' '6']\n",
      "['0' '1' '2' '3' '4' '5' '6']\n",
      "['0' '1' '2' '3']\n",
      "['0' '1' '2' '3' '4' '5' '6' '7' '8' '9']\n",
      "['0' '1' '2' '3' '4']\n",
      "['0' '1' '2' '3' '4' '5' '6' '7' '8' '9']\n",
      "['0' '1' '2']\n"
     ]
    }
   ],
   "source": [
    "for i in ['zxCreCardStatus1','zxCreCardStatus3','zxCreCardStatus4','zxCreCardStatus5','zxHouseFundPayStatus',\n",
    "          'zxCareer','zxMaritalStatus','zxEducation','zxSex']:\n",
    "    bd_avli_test[i] = lbl.fit_transform(bd_avli_test[i].astype(str))#将提示的包含错误数据类型这一列进行转换  \n",
    "    print(lbl.classes_)"
   ]
  },
  {
   "cell_type": "code",
   "execution_count": 39,
   "metadata": {
    "ExecuteTime": {
     "end_time": "2021-02-24T03:18:08.650912Z",
     "start_time": "2021-02-24T03:18:08.345511Z"
    }
   },
   "outputs": [
    {
     "name": "stdout",
     "output_type": "stream",
     "text": [
      "zxCreditCardDelqStatus30Dayyues\t\t:0.781094501896974\n",
      "zxCreditCardDelqStatus30To60Days\t\t:0.5398086546354927\n",
      "zxCreditCardDelqStatus60To90Days\t\t:0.5333839304370908\n",
      "zxCreditCardDelqStatus90To180Days\t\t:0.5347789450410516\n",
      "zxCreditCardDelqStatus6To12Months\t\t:0.5409567922011805\n",
      "zxCreditCardDelqStatus24Months\t\t:0.5482141917501533\n",
      "zxLoanDelqStatus30Dayyues\t\t:0.5155717435352335\n",
      "zxLoanDelqStatus30To60Days\t\t:0.003976220575813837\n"
     ]
    },
    {
     "name": "stderr",
     "output_type": "stream",
     "text": [
      "E:\\Users\\zhengkw\\AppData\\Local\\Continuum\\anaconda3\\lib\\site-packages\\ipykernel_launcher.py:25: RuntimeWarning: divide by zero encountered in double_scalars\n",
      "E:\\Users\\zhengkw\\AppData\\Local\\Continuum\\anaconda3\\lib\\site-packages\\ipykernel_launcher.py:25: RuntimeWarning: divide by zero encountered in log\n"
     ]
    },
    {
     "name": "stdout",
     "output_type": "stream",
     "text": [
      "zxLoanDelqStatus60To90Days\t\t:0.008173172289481983\n",
      "zxLoanDelqStatus90To180Days\t\t:0.004355480595070135\n",
      "zxLoanDelqStatus6To12Months\t\t:0.012585909006396827\n",
      "zxCreCardStatus1\t\t:0.8152036914550724\n",
      "zxCreCardStatus3\t\t:1.4710662625839852\n",
      "zxCreCardStatus4\t\t:0.49838325421682556\n",
      "zxCreCardStatus5\t\t:0.18322878873872925\n",
      "zxHouseFundPayStatus\t\t:0.18570361864722712\n",
      "zxCareer\t\t:0.01750712310488951\n",
      "zxMaritalStatus\t\t:0.1717659112269594\n",
      "zxEducation\t\t:1.5258439286488041\n",
      "zxSex\t\t:0.003973310964781272\n",
      "            bad      good       WOE\n",
      "zxSex                              \n",
      "0      0.000000  0.000188      -inf\n",
      "1      0.296175  0.267769  0.100827\n",
      "2      0.703825  0.732043 -0.039309\n"
     ]
    }
   ],
   "source": [
    "print(IV.IV(bd_avli_test,'tag',zx_feature_enum))\n",
    "# zxCreditCardDelqStatus30To60Days\n",
    "# zxCreditCardDelqStatus24Months\n",
    "# zxLoanDelqStatus90To180Days\n",
    "# zxLoanDelqStatus6To12Months\n",
    "# zxHouseFundPayStatus\n",
    "# zxCreCardStatus5\n",
    "# zxCareer\n",
    "# zxMaritalStatus\n",
    "# zxEducation"
   ]
  },
  {
   "cell_type": "code",
   "execution_count": 40,
   "metadata": {
    "ExecuteTime": {
     "end_time": "2021-02-24T03:18:08.825495Z",
     "start_time": "2021-02-24T03:18:08.651909Z"
    }
   },
   "outputs": [
    {
     "data": {
      "text/html": [
       "<div>\n",
       "<style scoped>\n",
       "    .dataframe tbody tr th:only-of-type {\n",
       "        vertical-align: middle;\n",
       "    }\n",
       "\n",
       "    .dataframe tbody tr th {\n",
       "        vertical-align: top;\n",
       "    }\n",
       "\n",
       "    .dataframe thead th {\n",
       "        text-align: right;\n",
       "    }\n",
       "</style>\n",
       "<table border=\"1\" class=\"dataframe\">\n",
       "  <thead>\n",
       "    <tr style=\"text-align: right;\">\n",
       "      <th></th>\n",
       "      <th>ID</th>\n",
       "      <th>CUST_NAME</th>\n",
       "      <th>ID_CARD_NO</th>\n",
       "      <th>MOBILE_NO</th>\n",
       "      <th>BANK_CARD_NO</th>\n",
       "      <th>CREATED_DATE</th>\n",
       "      <th>UPDATED_DATE</th>\n",
       "      <th>EXPANDING</th>\n",
       "      <th>TRANSACTION_TYPE</th>\n",
       "      <th>TRANSACTION_ID</th>\n",
       "      <th>...</th>\n",
       "      <th>zxEducation_3</th>\n",
       "      <th>zxEducation_4</th>\n",
       "      <th>zxEducation_5</th>\n",
       "      <th>zxEducation_6</th>\n",
       "      <th>zxEducation_7</th>\n",
       "      <th>zxEducation_8</th>\n",
       "      <th>zxEducation_9</th>\n",
       "      <th>zxSex_0</th>\n",
       "      <th>zxSex_1</th>\n",
       "      <th>zxSex_2</th>\n",
       "    </tr>\n",
       "  </thead>\n",
       "  <tbody>\n",
       "    <tr>\n",
       "      <th>0</th>\n",
       "      <td>99c296b272d77d0b017300cc10382993</td>\n",
       "      <td>李加波</td>\n",
       "      <td>371329198911082714</td>\n",
       "      <td>13668690660</td>\n",
       "      <td>6217002290021005953</td>\n",
       "      <td>2020-06-29 23:57:20</td>\n",
       "      <td>2020-06-29 23:57:20</td>\n",
       "      <td>{\"zxCreditCardDelqStatus30To60Days\":\"N\",\"zxHou...</td>\n",
       "      <td>apply</td>\n",
       "      <td>1160951258133627348</td>\n",
       "      <td>...</td>\n",
       "      <td>0</td>\n",
       "      <td>1</td>\n",
       "      <td>0</td>\n",
       "      <td>0</td>\n",
       "      <td>0</td>\n",
       "      <td>0</td>\n",
       "      <td>0</td>\n",
       "      <td>0</td>\n",
       "      <td>0</td>\n",
       "      <td>1</td>\n",
       "    </tr>\n",
       "    <tr>\n",
       "      <th>1</th>\n",
       "      <td>99c296b272d77d0b017300c59a692920</td>\n",
       "      <td>刘颜树</td>\n",
       "      <td>522728199509140663</td>\n",
       "      <td>13765441464</td>\n",
       "      <td>6228481198806286374</td>\n",
       "      <td>2020-06-29 23:50:16</td>\n",
       "      <td>2020-06-29 23:50:16</td>\n",
       "      <td>{\"zxCreditCardDelqStatus30To60Days\":\"N\",\"zxHou...</td>\n",
       "      <td>apply</td>\n",
       "      <td>901896174999117926</td>\n",
       "      <td>...</td>\n",
       "      <td>0</td>\n",
       "      <td>1</td>\n",
       "      <td>0</td>\n",
       "      <td>0</td>\n",
       "      <td>0</td>\n",
       "      <td>0</td>\n",
       "      <td>0</td>\n",
       "      <td>0</td>\n",
       "      <td>1</td>\n",
       "      <td>0</td>\n",
       "    </tr>\n",
       "    <tr>\n",
       "      <th>2</th>\n",
       "      <td>99c296b272d77d0b017300bf767327e5</td>\n",
       "      <td>宁柳珍</td>\n",
       "      <td>430521198208165687</td>\n",
       "      <td>17363900837</td>\n",
       "      <td>6228481128475650972</td>\n",
       "      <td>2020-06-29 23:43:34</td>\n",
       "      <td>2020-06-29 23:43:34</td>\n",
       "      <td>{\"zxCreditCardDelqStatus30To60Days\":\"N\",\"zxHou...</td>\n",
       "      <td>apply</td>\n",
       "      <td>1824236747107766050</td>\n",
       "      <td>...</td>\n",
       "      <td>0</td>\n",
       "      <td>1</td>\n",
       "      <td>0</td>\n",
       "      <td>0</td>\n",
       "      <td>0</td>\n",
       "      <td>0</td>\n",
       "      <td>0</td>\n",
       "      <td>0</td>\n",
       "      <td>1</td>\n",
       "      <td>0</td>\n",
       "    </tr>\n",
       "    <tr>\n",
       "      <th>3</th>\n",
       "      <td>99c296b172d77605017300ae84e02f5b</td>\n",
       "      <td>云佳琪</td>\n",
       "      <td>150103199401072143</td>\n",
       "      <td>15391141552</td>\n",
       "      <td>6217000410000146485</td>\n",
       "      <td>2020-06-29 23:25:04</td>\n",
       "      <td>2020-06-29 23:25:04</td>\n",
       "      <td>{\"zxCreditCardDelqStatus30To60Days\":\"N\",\"zxHou...</td>\n",
       "      <td>apply</td>\n",
       "      <td>1079515297204273666</td>\n",
       "      <td>...</td>\n",
       "      <td>0</td>\n",
       "      <td>1</td>\n",
       "      <td>0</td>\n",
       "      <td>0</td>\n",
       "      <td>0</td>\n",
       "      <td>0</td>\n",
       "      <td>0</td>\n",
       "      <td>0</td>\n",
       "      <td>1</td>\n",
       "      <td>0</td>\n",
       "    </tr>\n",
       "    <tr>\n",
       "      <th>4</th>\n",
       "      <td>99c296b272d77d0b017300a965dc255e</td>\n",
       "      <td>张伟煌</td>\n",
       "      <td>440583198801063535</td>\n",
       "      <td>15915561358</td>\n",
       "      <td>6216607000010119355</td>\n",
       "      <td>2020-06-29 23:19:28</td>\n",
       "      <td>2020-06-29 23:19:28</td>\n",
       "      <td>{\"zxCreditCardDelqStatus30To60Days\":\"N\",\"zxHou...</td>\n",
       "      <td>apply</td>\n",
       "      <td>975156991924536637</td>\n",
       "      <td>...</td>\n",
       "      <td>0</td>\n",
       "      <td>1</td>\n",
       "      <td>0</td>\n",
       "      <td>0</td>\n",
       "      <td>0</td>\n",
       "      <td>0</td>\n",
       "      <td>0</td>\n",
       "      <td>0</td>\n",
       "      <td>0</td>\n",
       "      <td>1</td>\n",
       "    </tr>\n",
       "    <tr>\n",
       "      <th>...</th>\n",
       "      <td>...</td>\n",
       "      <td>...</td>\n",
       "      <td>...</td>\n",
       "      <td>...</td>\n",
       "      <td>...</td>\n",
       "      <td>...</td>\n",
       "      <td>...</td>\n",
       "      <td>...</td>\n",
       "      <td>...</td>\n",
       "      <td>...</td>\n",
       "      <td>...</td>\n",
       "      <td>...</td>\n",
       "      <td>...</td>\n",
       "      <td>...</td>\n",
       "      <td>...</td>\n",
       "      <td>...</td>\n",
       "      <td>...</td>\n",
       "      <td>...</td>\n",
       "      <td>...</td>\n",
       "      <td>...</td>\n",
       "      <td>...</td>\n",
       "    </tr>\n",
       "    <tr>\n",
       "      <th>38054</th>\n",
       "      <td>99c296b1723cb8a90172566186e51ca4</td>\n",
       "      <td>杨东</td>\n",
       "      <td>140427198711152414</td>\n",
       "      <td>15234530163</td>\n",
       "      <td>6212803600000732819</td>\n",
       "      <td>2020-05-27 21:45:31</td>\n",
       "      <td>2020-05-27 21:45:31</td>\n",
       "      <td>{\"zxCreditCardDelqStatus30To60Days\":\"N\",\"zxHou...</td>\n",
       "      <td>apply</td>\n",
       "      <td>1420567212976606177</td>\n",
       "      <td>...</td>\n",
       "      <td>0</td>\n",
       "      <td>0</td>\n",
       "      <td>0</td>\n",
       "      <td>1</td>\n",
       "      <td>0</td>\n",
       "      <td>0</td>\n",
       "      <td>0</td>\n",
       "      <td>0</td>\n",
       "      <td>0</td>\n",
       "      <td>1</td>\n",
       "    </tr>\n",
       "    <tr>\n",
       "      <th>38055</th>\n",
       "      <td>99c296b2727a70390172a8ad31036be8</td>\n",
       "      <td>郭文芳</td>\n",
       "      <td>141033199308030063</td>\n",
       "      <td>14797400469</td>\n",
       "      <td>6221881600021297145</td>\n",
       "      <td>2020-06-12 21:17:02</td>\n",
       "      <td>2020-06-12 21:17:02</td>\n",
       "      <td>{\"zxCreditCardDelqStatus30To60Days\":\"N\",\"zxHou...</td>\n",
       "      <td>apply</td>\n",
       "      <td>1325988575211528700</td>\n",
       "      <td>...</td>\n",
       "      <td>1</td>\n",
       "      <td>0</td>\n",
       "      <td>0</td>\n",
       "      <td>0</td>\n",
       "      <td>0</td>\n",
       "      <td>0</td>\n",
       "      <td>0</td>\n",
       "      <td>0</td>\n",
       "      <td>1</td>\n",
       "      <td>0</td>\n",
       "    </tr>\n",
       "    <tr>\n",
       "      <th>38056</th>\n",
       "      <td>99c296b1727a67fa0172a93d66f93b13</td>\n",
       "      <td>章穹麓</td>\n",
       "      <td>320524196502215811</td>\n",
       "      <td>13962142006</td>\n",
       "      <td>6228453018053804279</td>\n",
       "      <td>2020-06-12 23:54:32</td>\n",
       "      <td>2020-06-12 23:54:32</td>\n",
       "      <td>{\"zxCreditCardDelqStatus30To60Days\":\"N\",\"zxHou...</td>\n",
       "      <td>apply</td>\n",
       "      <td>1307514927855486465</td>\n",
       "      <td>...</td>\n",
       "      <td>0</td>\n",
       "      <td>0</td>\n",
       "      <td>0</td>\n",
       "      <td>1</td>\n",
       "      <td>0</td>\n",
       "      <td>0</td>\n",
       "      <td>0</td>\n",
       "      <td>0</td>\n",
       "      <td>0</td>\n",
       "      <td>1</td>\n",
       "    </tr>\n",
       "    <tr>\n",
       "      <th>38057</th>\n",
       "      <td>99c296b2725680f501726157b4756d50</td>\n",
       "      <td>张培森</td>\n",
       "      <td>620102199401124317</td>\n",
       "      <td>15393157768</td>\n",
       "      <td>6215593700012630998</td>\n",
       "      <td>2020-05-30 00:50:37</td>\n",
       "      <td>2020-05-30 00:50:37</td>\n",
       "      <td>{\"zxCreditCardDelqStatus30To60Days\":\"N\",\"zxHou...</td>\n",
       "      <td>apply</td>\n",
       "      <td>1251316314324528099</td>\n",
       "      <td>...</td>\n",
       "      <td>1</td>\n",
       "      <td>0</td>\n",
       "      <td>0</td>\n",
       "      <td>0</td>\n",
       "      <td>0</td>\n",
       "      <td>0</td>\n",
       "      <td>0</td>\n",
       "      <td>0</td>\n",
       "      <td>0</td>\n",
       "      <td>1</td>\n",
       "    </tr>\n",
       "    <tr>\n",
       "      <th>38058</th>\n",
       "      <td>99c296b1721d0d9e01722aa2181559c4</td>\n",
       "      <td>解洁</td>\n",
       "      <td>220202198305010324</td>\n",
       "      <td>15545195918</td>\n",
       "      <td>6212263500020775678</td>\n",
       "      <td>2020-05-19 09:52:45</td>\n",
       "      <td>2020-05-19 09:52:45</td>\n",
       "      <td>{\"zxCreditCardDelqStatus30To60Days\":\"C\",\"zxHou...</td>\n",
       "      <td>apply</td>\n",
       "      <td>931016320317915107</td>\n",
       "      <td>...</td>\n",
       "      <td>0</td>\n",
       "      <td>0</td>\n",
       "      <td>0</td>\n",
       "      <td>1</td>\n",
       "      <td>0</td>\n",
       "      <td>0</td>\n",
       "      <td>0</td>\n",
       "      <td>0</td>\n",
       "      <td>1</td>\n",
       "      <td>0</td>\n",
       "    </tr>\n",
       "  </tbody>\n",
       "</table>\n",
       "<p>38059 rows × 303 columns</p>\n",
       "</div>"
      ],
      "text/plain": [
       "                                     ID CUST_NAME          ID_CARD_NO  \\\n",
       "0      99c296b272d77d0b017300cc10382993       李加波  371329198911082714   \n",
       "1      99c296b272d77d0b017300c59a692920       刘颜树  522728199509140663   \n",
       "2      99c296b272d77d0b017300bf767327e5       宁柳珍  430521198208165687   \n",
       "3      99c296b172d77605017300ae84e02f5b       云佳琪  150103199401072143   \n",
       "4      99c296b272d77d0b017300a965dc255e       张伟煌  440583198801063535   \n",
       "...                                 ...       ...                 ...   \n",
       "38054  99c296b1723cb8a90172566186e51ca4        杨东  140427198711152414   \n",
       "38055  99c296b2727a70390172a8ad31036be8       郭文芳  141033199308030063   \n",
       "38056  99c296b1727a67fa0172a93d66f93b13       章穹麓  320524196502215811   \n",
       "38057  99c296b2725680f501726157b4756d50       张培森  620102199401124317   \n",
       "38058  99c296b1721d0d9e01722aa2181559c4        解洁  220202198305010324   \n",
       "\n",
       "         MOBILE_NO         BANK_CARD_NO         CREATED_DATE  \\\n",
       "0      13668690660  6217002290021005953  2020-06-29 23:57:20   \n",
       "1      13765441464  6228481198806286374  2020-06-29 23:50:16   \n",
       "2      17363900837  6228481128475650972  2020-06-29 23:43:34   \n",
       "3      15391141552  6217000410000146485  2020-06-29 23:25:04   \n",
       "4      15915561358  6216607000010119355  2020-06-29 23:19:28   \n",
       "...            ...                  ...                  ...   \n",
       "38054  15234530163  6212803600000732819  2020-05-27 21:45:31   \n",
       "38055  14797400469  6221881600021297145  2020-06-12 21:17:02   \n",
       "38056  13962142006  6228453018053804279  2020-06-12 23:54:32   \n",
       "38057  15393157768  6215593700012630998  2020-05-30 00:50:37   \n",
       "38058  15545195918  6212263500020775678  2020-05-19 09:52:45   \n",
       "\n",
       "              UPDATED_DATE                                          EXPANDING  \\\n",
       "0      2020-06-29 23:57:20  {\"zxCreditCardDelqStatus30To60Days\":\"N\",\"zxHou...   \n",
       "1      2020-06-29 23:50:16  {\"zxCreditCardDelqStatus30To60Days\":\"N\",\"zxHou...   \n",
       "2      2020-06-29 23:43:34  {\"zxCreditCardDelqStatus30To60Days\":\"N\",\"zxHou...   \n",
       "3      2020-06-29 23:25:04  {\"zxCreditCardDelqStatus30To60Days\":\"N\",\"zxHou...   \n",
       "4      2020-06-29 23:19:28  {\"zxCreditCardDelqStatus30To60Days\":\"N\",\"zxHou...   \n",
       "...                    ...                                                ...   \n",
       "38054  2020-05-27 21:45:31  {\"zxCreditCardDelqStatus30To60Days\":\"N\",\"zxHou...   \n",
       "38055  2020-06-12 21:17:02  {\"zxCreditCardDelqStatus30To60Days\":\"N\",\"zxHou...   \n",
       "38056  2020-06-12 23:54:32  {\"zxCreditCardDelqStatus30To60Days\":\"N\",\"zxHou...   \n",
       "38057  2020-05-30 00:50:37  {\"zxCreditCardDelqStatus30To60Days\":\"N\",\"zxHou...   \n",
       "38058  2020-05-19 09:52:45  {\"zxCreditCardDelqStatus30To60Days\":\"C\",\"zxHou...   \n",
       "\n",
       "      TRANSACTION_TYPE       TRANSACTION_ID  ... zxEducation_3  zxEducation_4  \\\n",
       "0                apply  1160951258133627348  ...             0              1   \n",
       "1                apply   901896174999117926  ...             0              1   \n",
       "2                apply  1824236747107766050  ...             0              1   \n",
       "3                apply  1079515297204273666  ...             0              1   \n",
       "4                apply   975156991924536637  ...             0              1   \n",
       "...                ...                  ...  ...           ...            ...   \n",
       "38054            apply  1420567212976606177  ...             0              0   \n",
       "38055            apply  1325988575211528700  ...             1              0   \n",
       "38056            apply  1307514927855486465  ...             0              0   \n",
       "38057            apply  1251316314324528099  ...             1              0   \n",
       "38058            apply   931016320317915107  ...             0              0   \n",
       "\n",
       "       zxEducation_5  zxEducation_6  zxEducation_7  zxEducation_8  \\\n",
       "0                  0              0              0              0   \n",
       "1                  0              0              0              0   \n",
       "2                  0              0              0              0   \n",
       "3                  0              0              0              0   \n",
       "4                  0              0              0              0   \n",
       "...              ...            ...            ...            ...   \n",
       "38054              0              1              0              0   \n",
       "38055              0              0              0              0   \n",
       "38056              0              1              0              0   \n",
       "38057              0              0              0              0   \n",
       "38058              0              1              0              0   \n",
       "\n",
       "       zxEducation_9  zxSex_0  zxSex_1  zxSex_2  \n",
       "0                  0        0        0        1  \n",
       "1                  0        0        1        0  \n",
       "2                  0        0        1        0  \n",
       "3                  0        0        1        0  \n",
       "4                  0        0        0        1  \n",
       "...              ...      ...      ...      ...  \n",
       "38054              0        0        0        1  \n",
       "38055              0        0        1        0  \n",
       "38056              0        0        0        1  \n",
       "38057              0        0        0        1  \n",
       "38058              0        0        1        0  \n",
       "\n",
       "[38059 rows x 303 columns]"
      ]
     },
     "execution_count": 40,
     "metadata": {},
     "output_type": "execute_result"
    }
   ],
   "source": [
    "pd.get_dummies(bd_avli_test,columns=zx_feature_enum)"
   ]
  },
  {
   "cell_type": "code",
   "execution_count": 41,
   "metadata": {
    "ExecuteTime": {
     "end_time": "2021-02-24T03:18:08.912240Z",
     "start_time": "2021-02-24T03:18:08.826479Z"
    }
   },
   "outputs": [],
   "source": [
    "bd_avli_test1 = pd.get_dummies(bd_avli_test,columns=zx_feature_enum)"
   ]
  },
  {
   "cell_type": "code",
   "execution_count": 42,
   "metadata": {
    "ExecuteTime": {
     "end_time": "2021-02-24T03:18:08.917199Z",
     "start_time": "2021-02-24T03:18:08.913214Z"
    }
   },
   "outputs": [],
   "source": [
    "zx_feature_enum_new = list(set(bd_avli_test1.columns[:].to_list()) - set(bd_avli_test.columns[:].to_list()) )"
   ]
  },
  {
   "cell_type": "code",
   "execution_count": 43,
   "metadata": {
    "ExecuteTime": {
     "end_time": "2021-02-24T03:18:08.927173Z",
     "start_time": "2021-02-24T03:18:08.918196Z"
    }
   },
   "outputs": [],
   "source": [
    "zx_feature_enum_new.sort()"
   ]
  },
  {
   "cell_type": "code",
   "execution_count": 44,
   "metadata": {
    "ExecuteTime": {
     "end_time": "2021-02-24T03:18:09.918236Z",
     "start_time": "2021-02-24T03:18:09.003969Z"
    }
   },
   "outputs": [
    {
     "name": "stderr",
     "output_type": "stream",
     "text": [
      "E:\\Users\\zhengkw\\AppData\\Local\\Continuum\\anaconda3\\lib\\site-packages\\ipykernel_launcher.py:25: RuntimeWarning: divide by zero encountered in log\n",
      "E:\\Users\\zhengkw\\AppData\\Local\\Continuum\\anaconda3\\lib\\site-packages\\ipykernel_launcher.py:25: RuntimeWarning: divide by zero encountered in double_scalars\n"
     ]
    },
    {
     "name": "stdout",
     "output_type": "stream",
     "text": [
      "zxCreditCardRcyDelqDate\t\t:0.2082882742928947\n",
      "zxCreditCardRcyUpdateDate\t\t:0.7161441447277286\n",
      "zxLoanRcyDelqDate\t\t:0.11192267619729858\n",
      "zxFirstCreCardDate\t\t:1.4075616294189164\n",
      "zxFirstLoanMonth\t\t:0.23636145503402198\n",
      "zxHouseFundPayLastMonth\t\t:0.185548504807676\n",
      "zxHouseFundRecordUpdate\t\t:0.1722328210402952\n",
      "zxLoanRcyUpdateDate\t\t:0.1733814638507929\n"
     ]
    },
    {
     "data": {
      "text/html": [
       "<div>\n",
       "<style scoped>\n",
       "    .dataframe tbody tr th:only-of-type {\n",
       "        vertical-align: middle;\n",
       "    }\n",
       "\n",
       "    .dataframe tbody tr th {\n",
       "        vertical-align: top;\n",
       "    }\n",
       "\n",
       "    .dataframe thead th {\n",
       "        text-align: right;\n",
       "    }\n",
       "</style>\n",
       "<table border=\"1\" class=\"dataframe\">\n",
       "  <thead>\n",
       "    <tr style=\"text-align: right;\">\n",
       "      <th></th>\n",
       "      <th>bad</th>\n",
       "      <th>good</th>\n",
       "      <th>WOE</th>\n",
       "    </tr>\n",
       "    <tr>\n",
       "      <th>zxLoanRcyUpdateDate</th>\n",
       "      <th></th>\n",
       "      <th></th>\n",
       "      <th></th>\n",
       "    </tr>\n",
       "  </thead>\n",
       "  <tbody>\n",
       "    <tr>\n",
       "      <th>-9999</th>\n",
       "      <td>0.000000</td>\n",
       "      <td>0.000888</td>\n",
       "      <td>-inf</td>\n",
       "    </tr>\n",
       "    <tr>\n",
       "      <th>224</th>\n",
       "      <td>0.000000</td>\n",
       "      <td>0.000081</td>\n",
       "      <td>-inf</td>\n",
       "    </tr>\n",
       "    <tr>\n",
       "      <th>225</th>\n",
       "      <td>0.000000</td>\n",
       "      <td>0.000027</td>\n",
       "      <td>-inf</td>\n",
       "    </tr>\n",
       "    <tr>\n",
       "      <th>226</th>\n",
       "      <td>0.000000</td>\n",
       "      <td>0.000081</td>\n",
       "      <td>-inf</td>\n",
       "    </tr>\n",
       "    <tr>\n",
       "      <th>227</th>\n",
       "      <td>0.000000</td>\n",
       "      <td>0.000135</td>\n",
       "      <td>-inf</td>\n",
       "    </tr>\n",
       "    <tr>\n",
       "      <th>...</th>\n",
       "      <td>...</td>\n",
       "      <td>...</td>\n",
       "      <td>...</td>\n",
       "    </tr>\n",
       "    <tr>\n",
       "      <th>3312</th>\n",
       "      <td>0.000000</td>\n",
       "      <td>0.000027</td>\n",
       "      <td>-inf</td>\n",
       "    </tr>\n",
       "    <tr>\n",
       "      <th>3512</th>\n",
       "      <td>0.000000</td>\n",
       "      <td>0.000027</td>\n",
       "      <td>-inf</td>\n",
       "    </tr>\n",
       "    <tr>\n",
       "      <th>3589</th>\n",
       "      <td>0.000000</td>\n",
       "      <td>0.000027</td>\n",
       "      <td>-inf</td>\n",
       "    </tr>\n",
       "    <tr>\n",
       "      <th>4787</th>\n",
       "      <td>0.001093</td>\n",
       "      <td>0.000000</td>\n",
       "      <td>inf</td>\n",
       "    </tr>\n",
       "    <tr>\n",
       "      <th>5623</th>\n",
       "      <td>0.000000</td>\n",
       "      <td>0.000027</td>\n",
       "      <td>-inf</td>\n",
       "    </tr>\n",
       "  </tbody>\n",
       "</table>\n",
       "<p>377 rows × 3 columns</p>\n",
       "</div>"
      ],
      "text/plain": [
       "                          bad      good  WOE\n",
       "zxLoanRcyUpdateDate                         \n",
       "-9999                0.000000  0.000888 -inf\n",
       " 224                 0.000000  0.000081 -inf\n",
       " 225                 0.000000  0.000027 -inf\n",
       " 226                 0.000000  0.000081 -inf\n",
       " 227                 0.000000  0.000135 -inf\n",
       "...                       ...       ...  ...\n",
       " 3312                0.000000  0.000027 -inf\n",
       " 3512                0.000000  0.000027 -inf\n",
       " 3589                0.000000  0.000027 -inf\n",
       " 4787                0.001093  0.000000  inf\n",
       " 5623                0.000000  0.000027 -inf\n",
       "\n",
       "[377 rows x 3 columns]"
      ]
     },
     "execution_count": 44,
     "metadata": {},
     "output_type": "execute_result"
    }
   ],
   "source": [
    "IV.IV(bd_avli_test1,'tag',zx_feature_date)"
   ]
  },
  {
   "cell_type": "code",
   "execution_count": 45,
   "metadata": {
    "ExecuteTime": {
     "end_time": "2021-02-24T03:18:10.287351Z",
     "start_time": "2021-02-24T03:18:09.920231Z"
    }
   },
   "outputs": [
    {
     "name": "stderr",
     "output_type": "stream",
     "text": [
      "E:\\Users\\zhengkw\\AppData\\Local\\Continuum\\anaconda3\\lib\\site-packages\\dask\\dataframe\\utils.py:14: FutureWarning: pandas.util.testing is deprecated. Use the functions in the public API at pandas.testing instead.\n",
      "  import pandas.util.testing as tm\n"
     ]
    }
   ],
   "source": [
    "from pandas import DataFrame,Series\n",
    "import pandas as pd\n",
    "import numpy as np\n",
    "import xgboost as xgb\n",
    "import lightgbm\n",
    "from sklearn.model_selection import train_test_split\n",
    "from sklearn.metrics import roc_auc_score\n",
    "import matplotlib.pyplot as plt\n",
    "# X_train,X_test,y_train,y_test = train_test_split(bd_avli_limit[zx_feature],bd_avli_limit['tag'],test_size=0.3,random_state=2212333)"
   ]
  },
  {
   "cell_type": "code",
   "execution_count": null,
   "metadata": {},
   "outputs": [],
   "source": []
  },
  {
   "cell_type": "code",
   "execution_count": 46,
   "metadata": {
    "ExecuteTime": {
     "end_time": "2021-02-24T03:18:10.292331Z",
     "start_time": "2021-02-24T03:18:10.289365Z"
    }
   },
   "outputs": [],
   "source": [
    "#时间类特征处理"
   ]
  },
  {
   "cell_type": "code",
   "execution_count": 47,
   "metadata": {
    "ExecuteTime": {
     "end_time": "2021-02-24T03:18:10.301303Z",
     "start_time": "2021-02-24T03:18:10.294306Z"
    },
    "code_folding": [
     1
    ]
   },
   "outputs": [],
   "source": [
    "import math\n",
    "def time_sub(v):\n",
    "    if v==\"-9999\":\n",
    "        return -9999\n",
    "    else:\n",
    "        try:\n",
    "            return math.ceil((datetime.datetime.now()-datetime.datetime.strptime(v, \"%Y-%m-%d %H:%M:%S\")).days/365)\n",
    "        except:\n",
    "            try: \n",
    "                return math.ceil((datetime.datetime.now()-datetime.datetime.strptime(v, \"%Y-%m-%d\")).days/365)\n",
    "            except:\n",
    "                try:\n",
    "                    return math.ceil((datetime.datetime.now()-datetime.datetime.strptime(str(v), \"%Y%m%d\")).days/365)\n",
    "                except:\n",
    "                    try:\n",
    "                        return math.ceil((datetime.datetime.now()-datetime.datetime.strptime(v, \"%Y/%m/%d\")).days/365)\n",
    "                    except:\n",
    "                        try:\n",
    "                            return math.ceil((datetime.datetime.now()-datetime.datetime.strptime(v, \"%Y-%m\")).days/365)\n",
    "                        except:\n",
    "                            print('err')\n",
    "                            return -9999\n"
   ]
  },
  {
   "cell_type": "code",
   "execution_count": 48,
   "metadata": {
    "ExecuteTime": {
     "end_time": "2021-02-24T03:18:10.307272Z",
     "start_time": "2021-02-24T03:18:10.302285Z"
    }
   },
   "outputs": [],
   "source": [
    "# for i in zx_feature_date:\n",
    "#     data = IV.IV(bd_avli_limit.query('CREATED_DATE<\"2020-07-01\"'),'tag',[i],True)\n",
    "#     data.to_csv(i+'.csv')"
   ]
  },
  {
   "cell_type": "code",
   "execution_count": 49,
   "metadata": {
    "ExecuteTime": {
     "end_time": "2021-02-24T03:18:10.319240Z",
     "start_time": "2021-02-24T03:18:10.309267Z"
    },
    "code_folding": [
     0,
     8,
     16,
     24,
     34,
     43,
     51,
     59
    ]
   },
   "outputs": [],
   "source": [
    "def zxCreditCardRcyDelqDate_bin(v):\n",
    "    if v==-9999:\n",
    "        return 0\n",
    "    elif v<=711:\n",
    "        return 1\n",
    "    else:\n",
    "        return 2\n",
    "    \n",
    "def zxCreditCardRcyUpdateDate_bin(v):\n",
    "    if v==-9999:\n",
    "        return 0\n",
    "    elif v<=803:\n",
    "        return 1\n",
    "    else:\n",
    "        return 2\n",
    "    \n",
    "def zxLoanRcyDelqDate_bin(v):\n",
    "    if v==-9999:\n",
    "        return 0\n",
    "    elif v<=436:\n",
    "        return 1\n",
    "    else:\n",
    "        return 2\n",
    "\n",
    "def zxFirstLoanMonth_bin(v):\n",
    "    if v==-9999:\n",
    "        return 0\n",
    "    elif v<=46:\n",
    "        return 1\n",
    "    elif v<=78:\n",
    "        return 2\n",
    "    else:\n",
    "        return 3\n",
    "\n",
    "def zxFirstCreCardDate_bin(v):\n",
    "    v_M = math.ceil(v/30)\n",
    "    if v_M==-333:\n",
    "        return 0\n",
    "    elif v_M<=163:\n",
    "        return 1\n",
    "    else:\n",
    "        return 2\n",
    "    \n",
    "def zxHouseFundPayLastMonth_bin(v):\n",
    "    if v==-9999:\n",
    "        return 0\n",
    "    elif v<=34:\n",
    "        return 1\n",
    "    else:\n",
    "        return 2\n",
    "    \n",
    "def zxHouseFundRecordUpdate_bin(v):\n",
    "    if v==-9999:\n",
    "        return 0\n",
    "    elif v<=2841:\n",
    "        return 1\n",
    "    else:\n",
    "        return 2\n",
    "    \n",
    "def zxLoanRcyUpdateDate_bin(v):\n",
    "    if v==-9999:\n",
    "        return 0\n",
    "    elif v<=245:\n",
    "        return 1\n",
    "    elif v<=268:\n",
    "        return 2\n",
    "    elif v<=323:\n",
    "        return 3\n",
    "    elif v<=472:\n",
    "        return 4\n",
    "    else:\n",
    "        return 5\n"
   ]
  },
  {
   "cell_type": "code",
   "execution_count": 50,
   "metadata": {
    "ExecuteTime": {
     "end_time": "2021-02-24T03:18:10.560665Z",
     "start_time": "2021-02-24T03:18:10.440974Z"
    }
   },
   "outputs": [],
   "source": [
    "bd_avli_test1['zxCreditCardRcyDelqDate_bin'] = bd_avli_test1['zxCreditCardRcyDelqDate'].map(zxCreditCardRcyDelqDate_bin)\n",
    "bd_avli_test1['zxCreditCardRcyUpdateDate_bin'] = bd_avli_test1['zxCreditCardRcyUpdateDate'].map(zxCreditCardRcyUpdateDate_bin)\n",
    "bd_avli_test1['zxLoanRcyDelqDate_bin'] = bd_avli_test1['zxLoanRcyDelqDate'].map(zxLoanRcyDelqDate_bin)\n",
    "bd_avli_test1['zxFirstLoanMonth_bin'] = bd_avli_test1['zxFirstLoanMonth'].map(zxFirstLoanMonth_bin)\n",
    "bd_avli_test1['zxFirstCreCardDate_bin'] = bd_avli_test1['zxFirstCreCardDate'].map(zxFirstCreCardDate_bin)\n",
    "bd_avli_test1['zxHouseFundPayLastMonth_bin'] = bd_avli_test1['zxHouseFundPayLastMonth'].map(zxHouseFundPayLastMonth_bin)\n",
    "bd_avli_test1['zxHouseFundRecordUpdate_bin'] = bd_avli_test1['zxHouseFundRecordUpdate'].map(zxHouseFundRecordUpdate_bin)\n",
    "bd_avli_test1['zxLoanRcyUpdateDate_bin'] = bd_avli_test1['zxLoanRcyUpdateDate'].map(zxLoanRcyUpdateDate_bin)"
   ]
  },
  {
   "cell_type": "code",
   "execution_count": 51,
   "metadata": {
    "ExecuteTime": {
     "end_time": "2021-02-24T03:18:10.704718Z",
     "start_time": "2021-02-24T03:18:10.701727Z"
    },
    "code_folding": [
     0
    ]
   },
   "outputs": [],
   "source": [
    "# no_do = []\n",
    "# cant_do = []\n",
    "# for feature in zx_feature_date:\n",
    "#     if bd_avli_test1[feature].value_counts().shape[0]>10000:\n",
    "#         print(feature+' has so many value')\n",
    "#         no_do.append(feature)\n",
    "#         continue\n",
    "#     try:\n",
    "#         cutoffs = chiMerge(bd_avli_test1.query('CREATED_DATE<\"2020-07-01\"'),feature,\"tag\",10,3.8414588206941285)\n",
    "#     except:\n",
    "#         print(feature+' no long')\n",
    "#         cant_do.append(feature)\n",
    "#         bd_avli_test1[feature+'_bin'] =bd_avli_test1[feature]\n",
    "#         continue\n",
    "#     bd_avli_test1[feature+'_bin'] = 0\n",
    "#     v = 0\n",
    "#     for i in cutoffs:\n",
    "#         v = v+1\n",
    "#         bd_avli_test1.loc[bd_avli_test1[feature]>i,feature+'_bin'] = v\n",
    "#     print(feature+' finish')"
   ]
  },
  {
   "cell_type": "code",
   "execution_count": 52,
   "metadata": {
    "ExecuteTime": {
     "end_time": "2021-02-24T03:18:11.602161Z",
     "start_time": "2021-02-24T03:18:11.598171Z"
    },
    "code_folding": []
   },
   "outputs": [],
   "source": [
    "zx_feature_date_bin =[]\n",
    "for i in zx_feature_date:\n",
    "    zx_feature_date_bin.append(i+'_bin')"
   ]
  },
  {
   "cell_type": "code",
   "execution_count": 53,
   "metadata": {
    "ExecuteTime": {
     "end_time": "2021-02-24T03:18:12.162236Z",
     "start_time": "2021-02-24T03:18:12.160204Z"
    }
   },
   "outputs": [],
   "source": [
    "# bd_avli_test1['zxFirstCreCardDate_M'] = bd_avli_test1['zxFirstCreCardDate'].apply(lambda x:math.ceil(x/30))"
   ]
  },
  {
   "cell_type": "code",
   "execution_count": 54,
   "metadata": {
    "ExecuteTime": {
     "end_time": "2021-02-24T03:18:12.731822Z",
     "start_time": "2021-02-24T03:18:12.727867Z"
    }
   },
   "outputs": [],
   "source": [
    "# print(chiMerge(bd_avli_test1.query('CREATED_DATE<\"2020-07-01\"'),'zxLoanRcyUpdateDate',\"tag\",5,3.8414588206941285))"
   ]
  },
  {
   "cell_type": "code",
   "execution_count": 55,
   "metadata": {
    "ExecuteTime": {
     "end_time": "2021-02-24T03:18:13.902162Z",
     "start_time": "2021-02-24T03:18:13.899202Z"
    }
   },
   "outputs": [],
   "source": [
    "# print(chiMerge(bd_avli_limit.query('CREATED_DATE<\"2020-07-01\"'),'zxFirstLoanMonth',\"tag\",5,3.8414588206941285))"
   ]
  },
  {
   "cell_type": "code",
   "execution_count": 56,
   "metadata": {
    "ExecuteTime": {
     "end_time": "2021-02-24T03:18:14.231128Z",
     "start_time": "2021-02-24T03:18:14.228135Z"
    }
   },
   "outputs": [],
   "source": [
    "# bd_avli_limit.groupby(['zxFirstLoanMonth','tag'])['tag'].count()"
   ]
  },
  {
   "cell_type": "code",
   "execution_count": 57,
   "metadata": {
    "ExecuteTime": {
     "end_time": "2021-02-24T03:18:14.779187Z",
     "start_time": "2021-02-24T03:18:14.479988Z"
    }
   },
   "outputs": [
    {
     "name": "stdout",
     "output_type": "stream",
     "text": [
      "                                  bad      good       WOE\n",
      "zxCreditCardRcyDelqDate_bin                              \n",
      "0                            0.781421  0.618996  0.233014\n",
      "1                            0.116940  0.132350 -0.123788\n",
      "2                            0.101639  0.248654 -0.894631\n",
      "zxCreditCardRcyDelqDate_bin\t\t:0.1712785905414528\n",
      "                                    bad      good       WOE\n",
      "zxCreditCardRcyUpdateDate_bin                              \n",
      "0                              0.380328  0.079071  1.570692\n",
      "1                              0.614208  0.909891 -0.392992\n",
      "2                              0.005464  0.011038 -0.703086\n",
      "zxCreditCardRcyUpdateDate_bin\t\t:0.5933023494373287\n",
      "                            bad      good       WOE\n",
      "zxLoanRcyDelqDate_bin                              \n",
      "0                      0.770492  0.799483 -0.036936\n",
      "1                      0.088525  0.035484  0.914212\n",
      "2                      0.140984  0.165033 -0.157504\n",
      "zxLoanRcyDelqDate_bin\t\t:0.05334954735591893\n",
      "                             bad      good       WOE\n",
      "zxFirstCreCardDate_bin                              \n",
      "0                       0.380328  0.079071  1.570692\n",
      "1                       0.572678  0.801933 -0.336702\n",
      "2                       0.046995  0.118996 -0.929061\n",
      "zxFirstCreCardDate_bin\t\t:0.6172672144366221\n",
      "                           bad      good       WOE\n",
      "zxFirstLoanMonth_bin                              \n",
      "0                     0.000000  0.000888      -inf\n",
      "1                     0.493989  0.343851  0.362305\n",
      "2                     0.358470  0.358820 -0.000975\n",
      "3                     0.147541  0.296441 -0.697742\n",
      "zxFirstLoanMonth_bin\t\t:0.15828982582771947\n",
      "                                  bad      good       WOE\n",
      "zxHouseFundPayLastMonth_bin                              \n",
      "0                            0.804372  0.631300  0.242280\n",
      "1                            0.115847  0.236512 -0.713728\n",
      "2                            0.079781  0.132188 -0.504936\n",
      "zxHouseFundPayLastMonth_bin\t\t:0.1545160286251942\n",
      "                                  bad      good       WOE\n",
      "zxHouseFundRecordUpdate_bin                              \n",
      "0                            0.804372  0.631084  0.242622\n",
      "1                            0.187978  0.345762 -0.609426\n",
      "2                            0.007650  0.023153 -1.107389\n",
      "zxHouseFundRecordUpdate_bin\t\t:0.1553688068715531\n",
      "                              bad      good       WOE\n",
      "zxLoanRcyUpdateDate_bin                              \n",
      "0                        0.000000  0.000888      -inf\n",
      "1                        0.057923  0.097835 -0.524164\n",
      "2                        0.319126  0.344632 -0.076891\n",
      "3                        0.499454  0.397830  0.227490\n",
      "4                        0.104918  0.154776 -0.388800\n",
      "5                        0.018579  0.004038  1.526212\n",
      "zxLoanRcyUpdateDate_bin\t\t:0.08757713077989335\n"
     ]
    },
    {
     "name": "stderr",
     "output_type": "stream",
     "text": [
      "E:\\Users\\zhengkw\\AppData\\Local\\Continuum\\anaconda3\\lib\\site-packages\\ipykernel_launcher.py:25: RuntimeWarning: divide by zero encountered in log\n",
      "E:\\Users\\zhengkw\\AppData\\Local\\Continuum\\anaconda3\\lib\\site-packages\\ipykernel_launcher.py:25: RuntimeWarning: divide by zero encountered in log\n",
      "E:\\Users\\zhengkw\\AppData\\Local\\Continuum\\anaconda3\\lib\\site-packages\\ipykernel_launcher.py:25: RuntimeWarning: divide by zero encountered in log\n"
     ]
    },
    {
     "data": {
      "text/html": [
       "<div>\n",
       "<style scoped>\n",
       "    .dataframe tbody tr th:only-of-type {\n",
       "        vertical-align: middle;\n",
       "    }\n",
       "\n",
       "    .dataframe tbody tr th {\n",
       "        vertical-align: top;\n",
       "    }\n",
       "\n",
       "    .dataframe thead th {\n",
       "        text-align: right;\n",
       "    }\n",
       "</style>\n",
       "<table border=\"1\" class=\"dataframe\">\n",
       "  <thead>\n",
       "    <tr style=\"text-align: right;\">\n",
       "      <th></th>\n",
       "      <th>bad</th>\n",
       "      <th>good</th>\n",
       "      <th>WOE</th>\n",
       "    </tr>\n",
       "    <tr>\n",
       "      <th>zxLoanRcyUpdateDate_bin</th>\n",
       "      <th></th>\n",
       "      <th></th>\n",
       "      <th></th>\n",
       "    </tr>\n",
       "  </thead>\n",
       "  <tbody>\n",
       "    <tr>\n",
       "      <th>0</th>\n",
       "      <td>0.000000</td>\n",
       "      <td>0.000888</td>\n",
       "      <td>-inf</td>\n",
       "    </tr>\n",
       "    <tr>\n",
       "      <th>1</th>\n",
       "      <td>0.057923</td>\n",
       "      <td>0.097835</td>\n",
       "      <td>-0.524164</td>\n",
       "    </tr>\n",
       "    <tr>\n",
       "      <th>2</th>\n",
       "      <td>0.319126</td>\n",
       "      <td>0.344632</td>\n",
       "      <td>-0.076891</td>\n",
       "    </tr>\n",
       "    <tr>\n",
       "      <th>3</th>\n",
       "      <td>0.499454</td>\n",
       "      <td>0.397830</td>\n",
       "      <td>0.227490</td>\n",
       "    </tr>\n",
       "    <tr>\n",
       "      <th>4</th>\n",
       "      <td>0.104918</td>\n",
       "      <td>0.154776</td>\n",
       "      <td>-0.388800</td>\n",
       "    </tr>\n",
       "    <tr>\n",
       "      <th>5</th>\n",
       "      <td>0.018579</td>\n",
       "      <td>0.004038</td>\n",
       "      <td>1.526212</td>\n",
       "    </tr>\n",
       "  </tbody>\n",
       "</table>\n",
       "</div>"
      ],
      "text/plain": [
       "                              bad      good       WOE\n",
       "zxLoanRcyUpdateDate_bin                              \n",
       "0                        0.000000  0.000888      -inf\n",
       "1                        0.057923  0.097835 -0.524164\n",
       "2                        0.319126  0.344632 -0.076891\n",
       "3                        0.499454  0.397830  0.227490\n",
       "4                        0.104918  0.154776 -0.388800\n",
       "5                        0.018579  0.004038  1.526212"
      ]
     },
     "execution_count": 57,
     "metadata": {},
     "output_type": "execute_result"
    }
   ],
   "source": [
    "IV.IV(bd_avli_test1.query('CREATED_DATE<\"2020-07-01\"'),'tag',zx_feature_date_bin,True)"
   ]
  },
  {
   "cell_type": "code",
   "execution_count": null,
   "metadata": {
    "ExecuteTime": {
     "end_time": "2021-02-18T09:13:52.450062Z",
     "start_time": "2021-02-18T09:13:52.441063Z"
    }
   },
   "outputs": [],
   "source": []
  },
  {
   "cell_type": "code",
   "execution_count": 58,
   "metadata": {
    "ExecuteTime": {
     "end_time": "2021-02-24T03:18:15.960614Z",
     "start_time": "2021-02-24T03:18:15.957653Z"
    }
   },
   "outputs": [],
   "source": [
    "# bd_avli_limit['zxHouseFundSelfRate'] = bd_avli_limit['zxHouseFundSelfRate'].map(lambda x:int(x[:-1]))\n",
    "# bd_avli_limit['zxHouseFundCompanyRate'] = bd_avli_limit['zxHouseFundCompanyRate'].map(lambda x:int(x[:-1]))"
   ]
  },
  {
   "cell_type": "code",
   "execution_count": 59,
   "metadata": {
    "ExecuteTime": {
     "end_time": "2021-02-24T03:18:16.590140Z",
     "start_time": "2021-02-24T03:18:16.586152Z"
    }
   },
   "outputs": [],
   "source": [
    "# no_do = []\n",
    "# cant_do = []\n",
    "# for feature in zx_feature_date_str:\n",
    "#     if bd_avli_test1[feature].value_counts().shape[0]>4000:\n",
    "#         print(feature+' has so many value')\n",
    "#         no_do.append(feature)\n",
    "#         continue\n",
    "#     try:\n",
    "#         cutoffs = chiMerge(bd_avli_test1.query('CREATED_DATE<\"2020-07-01\"'),feature,\"tag\",5,3.8414588206941285)\n",
    "#     except:\n",
    "#         print(feature+' no long')\n",
    "#         cant_do.append(feature)\n",
    "#         bd_avli_test1[feature+'_bin'] =bd_avli_test1[feature]\n",
    "#         continue\n",
    "#     bd_avli_test1[feature+'_bin'] = 0\n",
    "#     v = 0\n",
    "#     for i in cutoffs:\n",
    "#         v = v+1\n",
    "#         bd_avli_test1.loc[bd_avli_test1[feature]>0,feature+'_bin'] = v\n",
    "#     print(feature+' finish')"
   ]
  },
  {
   "cell_type": "code",
   "execution_count": 61,
   "metadata": {
    "ExecuteTime": {
     "end_time": "2021-02-24T03:18:29.291473Z",
     "start_time": "2021-02-24T03:18:29.287482Z"
    }
   },
   "outputs": [],
   "source": [
    "#  chiMerge(bd_avli_test1.query('CREATED_DATE<\"2020-07-01\"'),'zxRcy6MLoanQueryCnt',\"tag\",5,3.8414588206941285)\n",
    "# print(chiMerge(bd_avli_limit.query('CREATED_DATE<\"2020-07-01\"'),'zxLoanBalanceAmt',\"tag\",5,3.8414588206941285))"
   ]
  },
  {
   "cell_type": "code",
   "execution_count": 62,
   "metadata": {
    "ExecuteTime": {
     "end_time": "2021-02-24T03:18:30.244711Z",
     "start_time": "2021-02-24T03:18:30.218781Z"
    },
    "code_folding": [
     0,
     8,
     16,
     24,
     32,
     40,
     48,
     56,
     64,
     70,
     76,
     84,
     94,
     104,
     110,
     115,
     116,
     118,
     121,
     122,
     124,
     127,
     135,
     143,
     153,
     163,
     171,
     181,
     189,
     197,
     205,
     215,
     225,
     233,
     245,
     246,
     255
    ]
   },
   "outputs": [],
   "source": [
    "def zxAccountCnt_bin(v):\n",
    "    if v==-9999:\n",
    "        return 0\n",
    "    elif v<=10:\n",
    "        return 1\n",
    "    else:\n",
    "        return 2\n",
    "\n",
    "def zxRcy1MLoanQueryCnt_bin(v):\n",
    "    if v==0:\n",
    "        return 0\n",
    "    elif v<=4:\n",
    "        return 1\n",
    "    else:\n",
    "        return 2\n",
    "\n",
    "def zxRcy1MLoanQueryCompanyCnt_bin(v):\n",
    "    if v==0:\n",
    "        return 0\n",
    "    elif v<=4:\n",
    "        return 1\n",
    "    else:\n",
    "        return 2\n",
    "    \n",
    "def zxRcy6MLoanQueryCnt_bin(v):\n",
    "    if v<=5:\n",
    "        return 0\n",
    "    elif v<=10:\n",
    "        return 1\n",
    "    else:\n",
    "        return 2\n",
    "    \n",
    "def zxRcy6MLoanQueryCompanyCnt_bin(v):\n",
    "    if v<=4:\n",
    "        return 0\n",
    "    elif v<=8:\n",
    "        return 1\n",
    "    else:\n",
    "        return 2\n",
    "\n",
    "def zxRcy3MLoanQueryCnt_bin(v):\n",
    "    if v<=2:\n",
    "        return 0\n",
    "    elif v<=4:\n",
    "        return 1\n",
    "    else:\n",
    "        return 2\n",
    "    \n",
    "def zxRcy3MLoanQueryCompanyCnt_bin(v):\n",
    "    if v<=2:\n",
    "        return 0\n",
    "    elif v<=4:\n",
    "        return 1\n",
    "    else:\n",
    "        return 2\n",
    "    \n",
    "def zxIssuBankCnt_bin(v):\n",
    "    if v==-9999:\n",
    "        return 0\n",
    "    elif v==1:\n",
    "        return 1\n",
    "    else:\n",
    "        return 2\n",
    "    \n",
    "def zxCreCardMaxMonthsCnt_bin(v):\n",
    "    if v==-9999:\n",
    "        return 0\n",
    "    else:\n",
    "        return 1\n",
    "\n",
    "def zxCreCardDelqAccoutCnt_bin(v):\n",
    "    if v==-9999:\n",
    "        return 0\n",
    "    else:\n",
    "        return 1\n",
    "    \n",
    "def zxCreditCardAccuDelqCnt_bin(v):\n",
    "    if v==-9999:\n",
    "        return 0\n",
    "    elif v==0:\n",
    "        return 1\n",
    "    else:\n",
    "        return 2\n",
    "    \n",
    "def zxLoanBalCnt_bin(v):\n",
    "    if v==-9999:\n",
    "        return 0\n",
    "    elif v<=2:\n",
    "        return 1\n",
    "    elif v<=4:\n",
    "        return 2\n",
    "    else:\n",
    "        return 3\n",
    "    \n",
    "def zxLoanCompanyBalCnt_bin(v):\n",
    "    if v==-9999:\n",
    "        return 0\n",
    "    elif v<=3:\n",
    "        return 1\n",
    "    elif v<=7:\n",
    "        return 2\n",
    "    else:\n",
    "        return 3\n",
    "    \n",
    "def zxRcy12MCreCardMaxDelqPeriod_bin(v):\n",
    "    if v==-9999:\n",
    "        return 0\n",
    "    else:\n",
    "        return 1\n",
    "\n",
    "def zxRcy24MCreCardMaxDelqPeriod_bin(v):\n",
    "    if v==-9999:\n",
    "        return 0\n",
    "    else:\n",
    "        return 1\n",
    "def zxHouseFundCompanyRate_bin(v):\n",
    "    if v==0:\n",
    "        return 0\n",
    "    else:\n",
    "        return 1\n",
    "    \n",
    "def zxHouseFundSelfRate_bin(v):\n",
    "    if v==0:\n",
    "        return 0\n",
    "    else:\n",
    "        return 1\n",
    "    \n",
    "def zxCreCardUseCreditRate_bin(v):\n",
    "    if v==-9999:\n",
    "        return 0\n",
    "    elif v<=0.53:\n",
    "        return 1\n",
    "    else:\n",
    "        return 2\n",
    "    \n",
    "def zxTotalCreditAmt_bin(v):\n",
    "    if v==-9999:\n",
    "        return 0\n",
    "    elif v==0:\n",
    "        return 0\n",
    "    else:\n",
    "        return 1\n",
    "    \n",
    "def zxUseCreditAmt_bin(v):\n",
    "    if v==-9999:\n",
    "        return 0\n",
    "    elif v==0:\n",
    "        return 0\n",
    "    elif v<=131000:\n",
    "        return 1\n",
    "    else:\n",
    "        return 2\n",
    "    \n",
    "def zxCreditBal_bin(v):\n",
    "    if v==-9999:\n",
    "        return 0\n",
    "    elif v==0:\n",
    "        return 0\n",
    "    elif v<=131000:\n",
    "        return 1\n",
    "    else:\n",
    "        return 2\n",
    "    \n",
    "def zxRcy6MAvgUseCreditAmt_bin(v):\n",
    "    if v==-9999:\n",
    "        return 0\n",
    "    elif v==0:\n",
    "        return 0\n",
    "    else:\n",
    "        return 1\n",
    "    \n",
    "def zxCreditAvgLimit_bin(v):\n",
    "    if v==-9999:\n",
    "        return 0\n",
    "    elif v==0:\n",
    "        return 0\n",
    "    elif v<=14000:\n",
    "        return 1\n",
    "    else:\n",
    "        return 2\n",
    "    \n",
    "def zxMaxCreditAmt_bin(v):\n",
    "    if v==-9999:\n",
    "        return 0\n",
    "    elif v==0:\n",
    "        return 0\n",
    "    else:\n",
    "        return 1\n",
    "    \n",
    "def zxMinCreditAmt_bin(v):\n",
    "    if v==-9999:\n",
    "        return 0\n",
    "    elif v==0:\n",
    "        return 0\n",
    "    else:\n",
    "        return 1\n",
    "    \n",
    "def zxBlanceShouldPayAmt_bin(v):# 非单调\n",
    "    if v<=1000:\n",
    "        return 0\n",
    "    elif v<=5000:\n",
    "        return 1\n",
    "    else:\n",
    "        return 2\n",
    "    \n",
    "def zxCreCardNowShouldPayAmt_bin(v):\n",
    "    if v==0:\n",
    "        return 0\n",
    "    elif v==-9999:\n",
    "        return 0\n",
    "    elif v<=7800:\n",
    "        return 1\n",
    "    else:\n",
    "        return 2\n",
    "\n",
    "def zxHouseLoan1MAvgPayAmt_bin(v):\n",
    "    if v==-9999:\n",
    "        return 0\n",
    "    elif v==0:\n",
    "        return 0\n",
    "    elif v<=4600:\n",
    "        return 1\n",
    "    else:\n",
    "        return 2\n",
    "    \n",
    "def zxRcy6MAvgPayAmt_bin(v):\n",
    "    if v<=2800:\n",
    "        return 0\n",
    "    elif v<=6800:\n",
    "        return 1\n",
    "    else:\n",
    "        return 2\n",
    "    \n",
    "def zxHouseFundMonthPayAmt_bin(v):\n",
    "    if v<=0:\n",
    "        return 0\n",
    "    elif v<=700:\n",
    "        return 1\n",
    "    else:\n",
    "        return 2\n",
    "\n",
    "# def zxCommerHouseLoanBlance_bin(v):\n",
    "    \n",
    "# def zxCreCardAcctNowTotalDelqAmt_bin(v):\n",
    "    \n",
    "def zxCreCardDelqMaxAmt_bin(v):\n",
    "    if v<=0:\n",
    "        return 0\n",
    "    elif v<=7000:\n",
    "        return 1\n",
    "    else:\n",
    "        return 2\n",
    "\n",
    "# def zxHouseFundMonthShouldPayAmt_bin(v):\n",
    "\n",
    "def zxRcy6MCreCardMaxDelqPeriod_bin(v):\n",
    "    if v==-9999:\n",
    "        return 0\n",
    "    else:\n",
    "        return 1\n",
    "    \n",
    "def zxLoanBalanceAmt_bin(v):\n",
    "    if v<=130000:\n",
    "        return 0\n",
    "    elif v<=1309000:\n",
    "        return 1\n",
    "    else:\n",
    "        return 2"
   ]
  },
  {
   "cell_type": "code",
   "execution_count": 63,
   "metadata": {
    "ExecuteTime": {
     "end_time": "2021-02-24T03:18:31.331210Z",
     "start_time": "2021-02-24T03:18:30.913350Z"
    }
   },
   "outputs": [],
   "source": [
    "bd_avli_test1['zxAccountCnt_bin'] = bd_avli_test1['zxAccountCnt'].map(zxAccountCnt_bin)\n",
    "bd_avli_test1['zxRcy1MLoanQueryCnt_bin'] = bd_avli_test1['zxRcy1MLoanQueryCnt'].map(zxRcy1MLoanQueryCnt_bin)\n",
    "bd_avli_test1['zxRcy1MLoanQueryCompanyCnt_bin'] = bd_avli_test1['zxRcy1MLoanQueryCompanyCnt'].map(zxRcy1MLoanQueryCompanyCnt_bin)\n",
    "bd_avli_test1['zxRcy6MLoanQueryCnt_bin'] = bd_avli_test1['zxRcy6MLoanQueryCnt'].map(zxRcy6MLoanQueryCnt_bin)\n",
    "bd_avli_test1['zxRcy6MLoanQueryCompanyCnt_bin'] = bd_avli_test1['zxRcy6MLoanQueryCompanyCnt'].map(zxRcy6MLoanQueryCompanyCnt_bin)\n",
    "bd_avli_test1['zxRcy3MLoanQueryCnt_bin'] = bd_avli_test1['zxRcy3MLoanQueryCnt'].map(zxRcy3MLoanQueryCnt_bin)\n",
    "bd_avli_test1['zxRcy3MLoanQueryCompanyCnt_bin'] = bd_avli_test1['zxRcy3MLoanQueryCompanyCnt'].map(zxRcy3MLoanQueryCompanyCnt_bin)\n",
    "bd_avli_test1['zxIssuBankCnt_bin'] = bd_avli_test1['zxIssuBankCnt'].map(zxIssuBankCnt_bin)\n",
    "bd_avli_test1['zxCreCardMaxMonthsCnt_bin'] = bd_avli_test1['zxCreCardMaxMonthsCnt'].map(zxCreCardMaxMonthsCnt_bin)\n",
    "bd_avli_test1['zxCreCardDelqAccoutCnt_bin'] = bd_avli_test1['zxCreCardDelqAccoutCnt'].map(zxCreCardDelqAccoutCnt_bin)\n",
    "bd_avli_test1['zxCreditCardAccuDelqCnt_bin'] = bd_avli_test1['zxCreditCardAccuDelqCnt'].map(zxCreditCardAccuDelqCnt_bin)\n",
    "bd_avli_test1['zxLoanBalCnt_bin'] = bd_avli_test1['zxLoanBalCnt'].map(zxLoanBalCnt_bin)\n",
    "bd_avli_test1['zxLoanCompanyBalCnt_bin'] = bd_avli_test1['zxLoanCompanyBalCnt'].map(zxLoanCompanyBalCnt_bin)\n",
    "bd_avli_test1['zxRcy12MCreCardMaxDelqPeriod_bin'] = bd_avli_test1['zxRcy12MCreCardMaxDelqPeriod'].map(zxRcy12MCreCardMaxDelqPeriod_bin)\n",
    "bd_avli_test1['zxRcy24MCreCardMaxDelqPeriod_bin'] = bd_avli_test1['zxRcy24MCreCardMaxDelqPeriod'].map(zxRcy24MCreCardMaxDelqPeriod_bin)\n",
    "bd_avli_test1['zxRcy6MCreCardMaxDelqPeriod_bin'] = bd_avli_test1['zxRcy6MCreCardMaxDelqPeriod'].map(zxRcy6MCreCardMaxDelqPeriod_bin)\n",
    "\n",
    "bd_avli_test1['zxHouseFundCompanyRate_bin'] = bd_avli_test1['zxHouseFundCompanyRate'].map(zxHouseFundCompanyRate_bin)\n",
    "bd_avli_test1['zxHouseFundSelfRate_bin'] = bd_avli_test1['zxHouseFundSelfRate'].map(zxHouseFundSelfRate_bin)\n",
    "bd_avli_test1['zxCreCardUseCreditRate_bin'] = bd_avli_test1['zxCreCardUseCreditRate'].map(zxCreCardUseCreditRate_bin)\n",
    "bd_avli_test1['zxTotalCreditAmt_bin'] = bd_avli_test1['zxTotalCreditAmt'].map(zxTotalCreditAmt_bin)\n",
    "bd_avli_test1['zxUseCreditAmt_bin'] = bd_avli_test1['zxUseCreditAmt'].map(zxUseCreditAmt_bin)\n",
    "bd_avli_test1['zxCreditBal_bin'] = bd_avli_test1['zxCreditBal'].map(zxCreditBal_bin)\n",
    "bd_avli_test1['zxRcy6MAvgUseCreditAmt_bin'] = bd_avli_test1['zxRcy6MAvgUseCreditAmt'].map(zxRcy6MAvgUseCreditAmt_bin)\n",
    "bd_avli_test1['zxCreditAvgLimit_bin'] = bd_avli_test1['zxCreditAvgLimit'].map(zxCreditAvgLimit_bin)\n",
    "bd_avli_test1['zxMaxCreditAmt_bin'] = bd_avli_test1['zxMaxCreditAmt'].map(zxMaxCreditAmt_bin)\n",
    "bd_avli_test1['zxMinCreditAmt_bin'] = bd_avli_test1['zxMinCreditAmt'].map(zxMinCreditAmt_bin)\n",
    "bd_avli_test1['zxBlanceShouldPayAmt_bin'] = bd_avli_test1['zxBlanceShouldPayAmt'].map(zxBlanceShouldPayAmt_bin)\n",
    "bd_avli_test1['zxCreCardNowShouldPayAmt_bin'] = bd_avli_test1['zxCreCardNowShouldPayAmt'].map(zxCreCardNowShouldPayAmt_bin)\n",
    "bd_avli_test1['zxHouseLoan1MAvgPayAmt_bin'] = bd_avli_test1['zxHouseLoan1MAvgPayAmt'].map(zxHouseLoan1MAvgPayAmt_bin)\n",
    "bd_avli_test1['zxRcy6MAvgPayAmt_bin'] = bd_avli_test1['zxRcy6MAvgPayAmt'].map(zxRcy6MAvgPayAmt_bin)\n",
    "bd_avli_test1['zxHouseFundMonthPayAmt_bin'] = bd_avli_test1['zxHouseFundMonthPayAmt'].map(zxHouseFundMonthPayAmt_bin)\n",
    "bd_avli_test1['zxCreCardDelqMaxAmt_bin'] = bd_avli_test1['zxCreCardDelqMaxAmt'].map(zxCreCardDelqMaxAmt_bin)\n",
    "bd_avli_test1['zxLoanBalanceAmt_bin'] = bd_avli_test1['zxLoanBalanceAmt'].map(zxLoanBalanceAmt_bin)"
   ]
  },
  {
   "cell_type": "code",
   "execution_count": null,
   "metadata": {},
   "outputs": [],
   "source": []
  },
  {
   "cell_type": "code",
   "execution_count": 64,
   "metadata": {
    "ExecuteTime": {
     "end_time": "2021-02-24T03:18:32.985818Z",
     "start_time": "2021-02-24T03:18:32.982835Z"
    }
   },
   "outputs": [],
   "source": [
    "zx_feature_date_str_bin =[]\n",
    "for i in zx_feature_date_str:\n",
    "    zx_feature_date_str_bin.append(i+'_bin')"
   ]
  },
  {
   "cell_type": "code",
   "execution_count": 65,
   "metadata": {
    "ExecuteTime": {
     "end_time": "2021-02-24T03:18:41.364897Z",
     "start_time": "2021-02-24T03:18:41.360908Z"
    }
   },
   "outputs": [],
   "source": [
    "# for i in [\n",
    "# #     'zxTotalCreditAmt'\n",
    "# #     ,'zx1MthDelqMaxAmt'   \n",
    "# #     ,'zxUseCreditAmt'\n",
    "# #     ,'zxCreditBal'\n",
    "# #     ,'zxRcy6MAvgUseCreditAmt'\n",
    "# #     ,'zxCreditAvgLimit'\n",
    "# #     ,'zxMaxCreditAmt'\n",
    "# #     ,'zxMinCreditAmt'\n",
    "# #     ,'zxBlanceShouldPayAmt'\n",
    "# #     ,'zxCreCardNowShouldPayAmt'\n",
    "# #     ,'zxHouseLoan1MAvgPayAmt'\n",
    "# #     ,'zxRcy6MAvgPayAmt'\n",
    "# #     ,'zxHouseFundMonthPayAmt'\n",
    "# #     ,'zxCommerHouseLoanBlance'\n",
    "# #     ,'zxCreCardAcctNowTotalDelqAmt'\n",
    "# #     ,'zxCreCardDelqMaxAmt'\n",
    "# #     ,'zxHouseFundMonthShouldPayAmt'\n",
    "# 'zxLoanBalanceAmt'\n",
    "# ]:\n",
    "#     data = IV.IV(bd_avli_limit.query('CREATED_DATE<\"2020-07-01\"'),'tag',[i],True)\n",
    "#     data.to_csv('z_'+i+'.csv')"
   ]
  },
  {
   "cell_type": "code",
   "execution_count": 66,
   "metadata": {
    "ExecuteTime": {
     "end_time": "2021-02-24T03:18:42.413282Z",
     "start_time": "2021-02-24T03:18:42.409326Z"
    }
   },
   "outputs": [],
   "source": [
    "# def AMT_fitst_bin(v):\n",
    "#     if v==-9999:\n",
    "#         return 0\n",
    "#     if v<=10000:\n",
    "#         return math.ceil(v/100)*100\n",
    "#     if v>10000:\n",
    "#         return math.ceil(v/1000)*1000"
   ]
  },
  {
   "cell_type": "code",
   "execution_count": 67,
   "metadata": {
    "ExecuteTime": {
     "end_time": "2021-02-24T03:18:43.162526Z",
     "start_time": "2021-02-24T03:18:43.159534Z"
    }
   },
   "outputs": [],
   "source": [
    "# def Use_Rate_bin(v):\n",
    "#     if v==-9999:\n",
    "#         return -9999\n",
    "#     else:\n",
    "#         return math.ceil(v*100)/100"
   ]
  },
  {
   "cell_type": "code",
   "execution_count": 68,
   "metadata": {
    "ExecuteTime": {
     "end_time": "2021-02-24T03:18:43.898907Z",
     "start_time": "2021-02-24T03:18:43.895914Z"
    }
   },
   "outputs": [],
   "source": [
    "# for i in [\n",
    "# #     'zxTotalCreditAmt'\n",
    "# #     ,'zx1MthDelqMaxAmt'   \n",
    "# #     ,'zxUseCreditAmt'\n",
    "# #     ,'zxCreditBal'\n",
    "# #     ,'zxRcy6MAvgUseCreditAmt'\n",
    "# #     ,'zxCreditAvgLimit'\n",
    "# #     ,'zxMaxCreditAmt'\n",
    "# #     ,'zxMinCreditAmt'\n",
    "# #     ,'zxBlanceShouldPayAmt'\n",
    "# #     ,'zxCreCardNowShouldPayAmt'\n",
    "# #     ,'zxHouseLoan1MAvgPayAmt'\n",
    "# #     ,'zxRcy6MAvgPayAmt'\n",
    "# #     ,'zxHouseFundMonthPayAmt'\n",
    "# #     ,'zxCommerHouseLoanBlance'\n",
    "# #     ,'zxCreCardAcctNowTotalDelqAmt'\n",
    "# #     ,'zxCreCardDelqMaxAmt'\n",
    "# #     ,'zxHouseFundMonthShouldPayAmt'\n",
    "# 'zxLoanBalanceAmt'\n",
    "# ]:\n",
    "#     if i != \"zxCreCardUseCreditRate\":\n",
    "#         bd_avli_limit[i] = bd_avli_limit[i].map(AMT_fitst_bin)\n",
    "#     if i == \"zxCreCardUseCreditRate\":\n",
    "#         bd_avli_limit[i] = bd_avli_limit[i].map(Use_Rate_bin)"
   ]
  },
  {
   "cell_type": "code",
   "execution_count": null,
   "metadata": {
    "ExecuteTime": {
     "end_time": "2021-02-24T03:11:06.543663Z",
     "start_time": "2021-02-24T03:11:06.536648Z"
    }
   },
   "outputs": [],
   "source": []
  },
  {
   "cell_type": "code",
   "execution_count": 69,
   "metadata": {
    "ExecuteTime": {
     "end_time": "2021-02-24T03:18:50.280885Z",
     "start_time": "2021-02-24T03:18:50.277892Z"
    }
   },
   "outputs": [],
   "source": [
    "# bd_avli_limit['zxCreCardUseCreditRate'] = bd_avli_limit['zxCreCardUseCreditRate'].map(Use_Rate_bin)"
   ]
  },
  {
   "cell_type": "code",
   "execution_count": 70,
   "metadata": {
    "ExecuteTime": {
     "end_time": "2021-02-24T03:18:50.629911Z",
     "start_time": "2021-02-24T03:18:50.627911Z"
    }
   },
   "outputs": [],
   "source": [
    "# bd_avli_limit['zxTotalCreditAmt'].value_counts()"
   ]
  },
  {
   "cell_type": "code",
   "execution_count": 71,
   "metadata": {
    "ExecuteTime": {
     "end_time": "2021-02-24T03:18:51.133623Z",
     "start_time": "2021-02-24T03:18:51.029864Z"
    }
   },
   "outputs": [],
   "source": [
    "zx_feature = zx_feature_enum_new+zx_feature_date_bin+zx_feature_date_str_bin\n",
    "X_train,X_test,y_train,y_test = train_test_split(bd_avli_test1[zx_feature],bd_avli_test1['tag'],test_size=0.3,random_state=2212333)"
   ]
  },
  {
   "cell_type": "code",
   "execution_count": 60,
   "metadata": {
    "ExecuteTime": {
     "end_time": "2021-02-09T02:35:22.505964Z",
     "start_time": "2021-02-09T02:35:22.454104Z"
    }
   },
   "outputs": [],
   "source": [
    "X_train = bd_avli_limit.query('CREATED_DATE<\"2020-07-01\"')"
   ]
  },
  {
   "cell_type": "code",
   "execution_count": 61,
   "metadata": {
    "ExecuteTime": {
     "end_time": "2021-02-09T02:35:23.062559Z",
     "start_time": "2021-02-09T02:35:23.056542Z"
    }
   },
   "outputs": [
    {
     "data": {
      "text/plain": [
       "0.0    37144\n",
       "1.0      544\n",
       "Name: tag, dtype: int64"
      ]
     },
     "execution_count": 61,
     "metadata": {},
     "output_type": "execute_result"
    }
   ],
   "source": [
    "X_train['tag'].value_counts()"
   ]
  },
  {
   "cell_type": "code",
   "execution_count": 62,
   "metadata": {
    "ExecuteTime": {
     "end_time": "2021-02-09T02:35:23.660562Z",
     "start_time": "2021-02-09T02:35:23.587728Z"
    }
   },
   "outputs": [],
   "source": [
    "X_train_good = X_train.query('tag==0').sample(10000,random_state=10000)"
   ]
  },
  {
   "cell_type": "code",
   "execution_count": 63,
   "metadata": {
    "ExecuteTime": {
     "end_time": "2021-02-09T02:35:25.642771Z",
     "start_time": "2021-02-09T02:35:25.632763Z"
    }
   },
   "outputs": [],
   "source": [
    "X_train_bad = X_train.query('tag==1')"
   ]
  },
  {
   "cell_type": "code",
   "execution_count": 64,
   "metadata": {
    "ExecuteTime": {
     "end_time": "2021-02-09T02:35:26.775339Z",
     "start_time": "2021-02-09T02:35:26.745420Z"
    }
   },
   "outputs": [],
   "source": [
    "X_train_limit = pd.concat([X_train_bad,X_train_good],axis=0)"
   ]
  },
  {
   "cell_type": "code",
   "execution_count": 65,
   "metadata": {
    "ExecuteTime": {
     "end_time": "2021-02-09T02:35:27.554026Z",
     "start_time": "2021-02-09T02:35:27.543057Z"
    }
   },
   "outputs": [],
   "source": [
    "X_test = bd_avli_limit.query('CREATED_DATE>\"2020-07-01\"')"
   ]
  },
  {
   "cell_type": "code",
   "execution_count": 66,
   "metadata": {
    "ExecuteTime": {
     "end_time": "2021-02-09T02:35:28.910602Z",
     "start_time": "2021-02-09T02:35:28.374170Z"
    }
   },
   "outputs": [
    {
     "name": "stderr",
     "output_type": "stream",
     "text": [
      "E:\\Users\\zhengkw\\AppData\\Local\\Continuum\\anaconda3\\lib\\site-packages\\sklearn\\linear_model\\_logistic.py:765: ConvergenceWarning: lbfgs failed to converge (status=1):\n",
      "STOP: TOTAL NO. of ITERATIONS REACHED LIMIT.\n",
      "\n",
      "Increase the number of iterations (max_iter) or scale the data as shown in:\n",
      "    https://scikit-learn.org/stable/modules/preprocessing.html\n",
      "Please also refer to the documentation for alternative solver options:\n",
      "    https://scikit-learn.org/stable/modules/linear_model.html#logistic-regression\n",
      "  extra_warning_msg=_LOGISTIC_SOLVER_CONVERGENCE_MSG)\n"
     ]
    },
    {
     "data": {
      "text/plain": [
       "SGDClassifier(loss='log')"
      ]
     },
     "execution_count": 66,
     "metadata": {},
     "output_type": "execute_result"
    }
   ],
   "source": [
    "from sklearn.linear_model import LogisticRegression,SGDClassifier\n",
    "\n",
    "LR= LogisticRegression(penalty='l2', dual=False,tol=0.001, C=1, fit_intercept=True, intercept_scaling=1,\n",
    "                       class_weight= None, random_state=None,  \n",
    "                       max_iter=100, multi_class='ovr', verbose=0, warm_start=False, n_jobs=1)\n",
    "SGD = SGDClassifier(loss='log')\n",
    "\n",
    "\n",
    "LR.fit(X_train_limit[zx_feature_date_change+zx_feature_date_str_bin+zx_feature_date_change_bin],X_train_limit['tag'])\n",
    "SGD.fit(X_train_limit[zx_feature_date_change],X_train_limit['tag'])"
   ]
  },
  {
   "cell_type": "code",
   "execution_count": 67,
   "metadata": {
    "ExecuteTime": {
     "end_time": "2021-02-09T02:35:29.612358Z",
     "start_time": "2021-02-09T02:35:29.589394Z"
    }
   },
   "outputs": [
    {
     "ename": "ValueError",
     "evalue": "Found array with 0 sample(s) (shape=(0, 53)) while a minimum of 1 is required.",
     "output_type": "error",
     "traceback": [
      "\u001b[1;31m---------------------------------------------------------------------------\u001b[0m",
      "\u001b[1;31mValueError\u001b[0m                                Traceback (most recent call last)",
      "\u001b[1;32m<ipython-input-67-539d83013a3f>\u001b[0m in \u001b[0;36m<module>\u001b[1;34m\u001b[0m\n\u001b[1;32m----> 1\u001b[1;33m \u001b[0mfinal_pre1\u001b[0m \u001b[1;33m=\u001b[0m \u001b[0mLR\u001b[0m\u001b[1;33m.\u001b[0m\u001b[0mpredict_log_proba\u001b[0m\u001b[1;33m(\u001b[0m\u001b[0mX_test\u001b[0m\u001b[1;33m[\u001b[0m\u001b[0mzx_feature_date_change\u001b[0m\u001b[1;33m+\u001b[0m\u001b[0mzx_feature_date_str_bin\u001b[0m\u001b[1;33m+\u001b[0m\u001b[0mzx_feature_date_change_bin\u001b[0m\u001b[1;33m]\u001b[0m\u001b[1;33m)\u001b[0m\u001b[1;33m[\u001b[0m\u001b[1;33m:\u001b[0m\u001b[1;33m,\u001b[0m\u001b[1;36m1\u001b[0m\u001b[1;33m]\u001b[0m\u001b[1;33m\u001b[0m\u001b[1;33m\u001b[0m\u001b[0m\n\u001b[0m",
      "\u001b[1;32mE:\\Users\\zhengkw\\AppData\\Local\\Continuum\\anaconda3\\lib\\site-packages\\sklearn\\linear_model\\_logistic.py\u001b[0m in \u001b[0;36mpredict_log_proba\u001b[1;34m(self, X)\u001b[0m\n\u001b[0;32m   1497\u001b[0m             \u001b[0mmodel\u001b[0m\u001b[1;33m,\u001b[0m \u001b[0mwhere\u001b[0m \u001b[0mclasses\u001b[0m \u001b[0mare\u001b[0m \u001b[0mordered\u001b[0m \u001b[1;32mas\u001b[0m \u001b[0mthey\u001b[0m \u001b[0mare\u001b[0m \u001b[1;32min\u001b[0m\u001b[0;31m \u001b[0m\u001b[0;31m`\u001b[0m\u001b[0;31m`\u001b[0m\u001b[0mself\u001b[0m\u001b[1;33m.\u001b[0m\u001b[0mclasses_\u001b[0m\u001b[0;31m`\u001b[0m\u001b[0;31m`\u001b[0m\u001b[1;33m.\u001b[0m\u001b[1;33m\u001b[0m\u001b[1;33m\u001b[0m\u001b[0m\n\u001b[0;32m   1498\u001b[0m         \"\"\"\n\u001b[1;32m-> 1499\u001b[1;33m         \u001b[1;32mreturn\u001b[0m \u001b[0mnp\u001b[0m\u001b[1;33m.\u001b[0m\u001b[0mlog\u001b[0m\u001b[1;33m(\u001b[0m\u001b[0mself\u001b[0m\u001b[1;33m.\u001b[0m\u001b[0mpredict_proba\u001b[0m\u001b[1;33m(\u001b[0m\u001b[0mX\u001b[0m\u001b[1;33m)\u001b[0m\u001b[1;33m)\u001b[0m\u001b[1;33m\u001b[0m\u001b[1;33m\u001b[0m\u001b[0m\n\u001b[0m\u001b[0;32m   1500\u001b[0m \u001b[1;33m\u001b[0m\u001b[0m\n\u001b[0;32m   1501\u001b[0m \u001b[1;33m\u001b[0m\u001b[0m\n",
      "\u001b[1;32mE:\\Users\\zhengkw\\AppData\\Local\\Continuum\\anaconda3\\lib\\site-packages\\sklearn\\linear_model\\_logistic.py\u001b[0m in \u001b[0;36mpredict_proba\u001b[1;34m(self, X)\u001b[0m\n\u001b[0;32m   1467\u001b[0m                                                 self.solver == 'liblinear')))\n\u001b[0;32m   1468\u001b[0m         \u001b[1;32mif\u001b[0m \u001b[0movr\u001b[0m\u001b[1;33m:\u001b[0m\u001b[1;33m\u001b[0m\u001b[1;33m\u001b[0m\u001b[0m\n\u001b[1;32m-> 1469\u001b[1;33m             \u001b[1;32mreturn\u001b[0m \u001b[0msuper\u001b[0m\u001b[1;33m(\u001b[0m\u001b[1;33m)\u001b[0m\u001b[1;33m.\u001b[0m\u001b[0m_predict_proba_lr\u001b[0m\u001b[1;33m(\u001b[0m\u001b[0mX\u001b[0m\u001b[1;33m)\u001b[0m\u001b[1;33m\u001b[0m\u001b[1;33m\u001b[0m\u001b[0m\n\u001b[0m\u001b[0;32m   1470\u001b[0m         \u001b[1;32melse\u001b[0m\u001b[1;33m:\u001b[0m\u001b[1;33m\u001b[0m\u001b[1;33m\u001b[0m\u001b[0m\n\u001b[0;32m   1471\u001b[0m             \u001b[0mdecision\u001b[0m \u001b[1;33m=\u001b[0m \u001b[0mself\u001b[0m\u001b[1;33m.\u001b[0m\u001b[0mdecision_function\u001b[0m\u001b[1;33m(\u001b[0m\u001b[0mX\u001b[0m\u001b[1;33m)\u001b[0m\u001b[1;33m\u001b[0m\u001b[1;33m\u001b[0m\u001b[0m\n",
      "\u001b[1;32mE:\\Users\\zhengkw\\AppData\\Local\\Continuum\\anaconda3\\lib\\site-packages\\sklearn\\linear_model\\_base.py\u001b[0m in \u001b[0;36m_predict_proba_lr\u001b[1;34m(self, X)\u001b[0m\n\u001b[0;32m    321\u001b[0m         \u001b[0mmulticlass\u001b[0m \u001b[1;32mis\u001b[0m \u001b[0mhandled\u001b[0m \u001b[0mby\u001b[0m \u001b[0mnormalizing\u001b[0m \u001b[0mthat\u001b[0m \u001b[0mover\u001b[0m \u001b[0mall\u001b[0m \u001b[0mclasses\u001b[0m\u001b[1;33m.\u001b[0m\u001b[1;33m\u001b[0m\u001b[1;33m\u001b[0m\u001b[0m\n\u001b[0;32m    322\u001b[0m         \"\"\"\n\u001b[1;32m--> 323\u001b[1;33m         \u001b[0mprob\u001b[0m \u001b[1;33m=\u001b[0m \u001b[0mself\u001b[0m\u001b[1;33m.\u001b[0m\u001b[0mdecision_function\u001b[0m\u001b[1;33m(\u001b[0m\u001b[0mX\u001b[0m\u001b[1;33m)\u001b[0m\u001b[1;33m\u001b[0m\u001b[1;33m\u001b[0m\u001b[0m\n\u001b[0m\u001b[0;32m    324\u001b[0m         \u001b[0mexpit\u001b[0m\u001b[1;33m(\u001b[0m\u001b[0mprob\u001b[0m\u001b[1;33m,\u001b[0m \u001b[0mout\u001b[0m\u001b[1;33m=\u001b[0m\u001b[0mprob\u001b[0m\u001b[1;33m)\u001b[0m\u001b[1;33m\u001b[0m\u001b[1;33m\u001b[0m\u001b[0m\n\u001b[0;32m    325\u001b[0m         \u001b[1;32mif\u001b[0m \u001b[0mprob\u001b[0m\u001b[1;33m.\u001b[0m\u001b[0mndim\u001b[0m \u001b[1;33m==\u001b[0m \u001b[1;36m1\u001b[0m\u001b[1;33m:\u001b[0m\u001b[1;33m\u001b[0m\u001b[1;33m\u001b[0m\u001b[0m\n",
      "\u001b[1;32mE:\\Users\\zhengkw\\AppData\\Local\\Continuum\\anaconda3\\lib\\site-packages\\sklearn\\linear_model\\_base.py\u001b[0m in \u001b[0;36mdecision_function\u001b[1;34m(self, X)\u001b[0m\n\u001b[0;32m    282\u001b[0m         \u001b[0mcheck_is_fitted\u001b[0m\u001b[1;33m(\u001b[0m\u001b[0mself\u001b[0m\u001b[1;33m)\u001b[0m\u001b[1;33m\u001b[0m\u001b[1;33m\u001b[0m\u001b[0m\n\u001b[0;32m    283\u001b[0m \u001b[1;33m\u001b[0m\u001b[0m\n\u001b[1;32m--> 284\u001b[1;33m         \u001b[0mX\u001b[0m \u001b[1;33m=\u001b[0m \u001b[0mcheck_array\u001b[0m\u001b[1;33m(\u001b[0m\u001b[0mX\u001b[0m\u001b[1;33m,\u001b[0m \u001b[0maccept_sparse\u001b[0m\u001b[1;33m=\u001b[0m\u001b[1;34m'csr'\u001b[0m\u001b[1;33m)\u001b[0m\u001b[1;33m\u001b[0m\u001b[1;33m\u001b[0m\u001b[0m\n\u001b[0m\u001b[0;32m    285\u001b[0m \u001b[1;33m\u001b[0m\u001b[0m\n\u001b[0;32m    286\u001b[0m         \u001b[0mn_features\u001b[0m \u001b[1;33m=\u001b[0m \u001b[0mself\u001b[0m\u001b[1;33m.\u001b[0m\u001b[0mcoef_\u001b[0m\u001b[1;33m.\u001b[0m\u001b[0mshape\u001b[0m\u001b[1;33m[\u001b[0m\u001b[1;36m1\u001b[0m\u001b[1;33m]\u001b[0m\u001b[1;33m\u001b[0m\u001b[1;33m\u001b[0m\u001b[0m\n",
      "\u001b[1;32mE:\\Users\\zhengkw\\AppData\\Local\\Continuum\\anaconda3\\lib\\site-packages\\sklearn\\utils\\validation.py\u001b[0m in \u001b[0;36minner_f\u001b[1;34m(*args, **kwargs)\u001b[0m\n\u001b[0;32m     61\u001b[0m             \u001b[0mextra_args\u001b[0m \u001b[1;33m=\u001b[0m \u001b[0mlen\u001b[0m\u001b[1;33m(\u001b[0m\u001b[0margs\u001b[0m\u001b[1;33m)\u001b[0m \u001b[1;33m-\u001b[0m \u001b[0mlen\u001b[0m\u001b[1;33m(\u001b[0m\u001b[0mall_args\u001b[0m\u001b[1;33m)\u001b[0m\u001b[1;33m\u001b[0m\u001b[1;33m\u001b[0m\u001b[0m\n\u001b[0;32m     62\u001b[0m             \u001b[1;32mif\u001b[0m \u001b[0mextra_args\u001b[0m \u001b[1;33m<=\u001b[0m \u001b[1;36m0\u001b[0m\u001b[1;33m:\u001b[0m\u001b[1;33m\u001b[0m\u001b[1;33m\u001b[0m\u001b[0m\n\u001b[1;32m---> 63\u001b[1;33m                 \u001b[1;32mreturn\u001b[0m \u001b[0mf\u001b[0m\u001b[1;33m(\u001b[0m\u001b[1;33m*\u001b[0m\u001b[0margs\u001b[0m\u001b[1;33m,\u001b[0m \u001b[1;33m**\u001b[0m\u001b[0mkwargs\u001b[0m\u001b[1;33m)\u001b[0m\u001b[1;33m\u001b[0m\u001b[1;33m\u001b[0m\u001b[0m\n\u001b[0m\u001b[0;32m     64\u001b[0m \u001b[1;33m\u001b[0m\u001b[0m\n\u001b[0;32m     65\u001b[0m             \u001b[1;31m# extra_args > 0\u001b[0m\u001b[1;33m\u001b[0m\u001b[1;33m\u001b[0m\u001b[1;33m\u001b[0m\u001b[0m\n",
      "\u001b[1;32mE:\\Users\\zhengkw\\AppData\\Local\\Continuum\\anaconda3\\lib\\site-packages\\sklearn\\utils\\validation.py\u001b[0m in \u001b[0;36mcheck_array\u001b[1;34m(array, accept_sparse, accept_large_sparse, dtype, order, copy, force_all_finite, ensure_2d, allow_nd, ensure_min_samples, ensure_min_features, estimator)\u001b[0m\n\u001b[0;32m    670\u001b[0m                              \u001b[1;34m\" minimum of %d is required%s.\"\u001b[0m\u001b[1;33m\u001b[0m\u001b[1;33m\u001b[0m\u001b[0m\n\u001b[0;32m    671\u001b[0m                              % (n_samples, array.shape, ensure_min_samples,\n\u001b[1;32m--> 672\u001b[1;33m                                 context))\n\u001b[0m\u001b[0;32m    673\u001b[0m \u001b[1;33m\u001b[0m\u001b[0m\n\u001b[0;32m    674\u001b[0m     \u001b[1;32mif\u001b[0m \u001b[0mensure_min_features\u001b[0m \u001b[1;33m>\u001b[0m \u001b[1;36m0\u001b[0m \u001b[1;32mand\u001b[0m \u001b[0marray\u001b[0m\u001b[1;33m.\u001b[0m\u001b[0mndim\u001b[0m \u001b[1;33m==\u001b[0m \u001b[1;36m2\u001b[0m\u001b[1;33m:\u001b[0m\u001b[1;33m\u001b[0m\u001b[1;33m\u001b[0m\u001b[0m\n",
      "\u001b[1;31mValueError\u001b[0m: Found array with 0 sample(s) (shape=(0, 53)) while a minimum of 1 is required."
     ]
    }
   ],
   "source": [
    "final_pre1 = LR.predict_log_proba(X_test[zx_feature_date_change+zx_feature_date_str_bin+zx_feature_date_change_bin])[:,1]"
   ]
  },
  {
   "cell_type": "code",
   "execution_count": 68,
   "metadata": {
    "ExecuteTime": {
     "end_time": "2021-02-09T02:35:31.778021Z",
     "start_time": "2021-02-09T02:35:31.768048Z"
    }
   },
   "outputs": [
    {
     "ename": "NameError",
     "evalue": "name 'final_pre1' is not defined",
     "output_type": "error",
     "traceback": [
      "\u001b[1;31m---------------------------------------------------------------------------\u001b[0m",
      "\u001b[1;31mNameError\u001b[0m                                 Traceback (most recent call last)",
      "\u001b[1;32m<ipython-input-68-446659ff9e08>\u001b[0m in \u001b[0;36m<module>\u001b[1;34m\u001b[0m\n\u001b[1;32m----> 1\u001b[1;33m \u001b[0mpd\u001b[0m\u001b[1;33m.\u001b[0m\u001b[0mDataFrame\u001b[0m\u001b[1;33m(\u001b[0m\u001b[0mfinal_pre1\u001b[0m\u001b[1;33m,\u001b[0m\u001b[0mcolumns\u001b[0m\u001b[1;33m=\u001b[0m\u001b[1;33m[\u001b[0m\u001b[1;34m'predict'\u001b[0m\u001b[1;33m]\u001b[0m\u001b[1;33m)\u001b[0m\u001b[1;33m[\u001b[0m\u001b[1;34m'predict'\u001b[0m\u001b[1;33m]\u001b[0m\u001b[1;33m.\u001b[0m\u001b[0mvalue_counts\u001b[0m\u001b[1;33m(\u001b[0m\u001b[1;33m)\u001b[0m\u001b[1;33m\u001b[0m\u001b[1;33m\u001b[0m\u001b[0m\n\u001b[0m",
      "\u001b[1;31mNameError\u001b[0m: name 'final_pre1' is not defined"
     ]
    }
   ],
   "source": [
    "pd.DataFrame(final_pre1,columns=['predict'])['predict'].value_counts()"
   ]
  },
  {
   "cell_type": "code",
   "execution_count": 69,
   "metadata": {
    "ExecuteTime": {
     "end_time": "2021-02-09T02:35:58.222188Z",
     "start_time": "2021-02-09T02:35:58.212214Z"
    }
   },
   "outputs": [
    {
     "ename": "NameError",
     "evalue": "name 'final_pre1' is not defined",
     "output_type": "error",
     "traceback": [
      "\u001b[1;31m---------------------------------------------------------------------------\u001b[0m",
      "\u001b[1;31mNameError\u001b[0m                                 Traceback (most recent call last)",
      "\u001b[1;32m<ipython-input-69-4b77eda498f0>\u001b[0m in \u001b[0;36m<module>\u001b[1;34m\u001b[0m\n\u001b[0;32m      2\u001b[0m \u001b[1;31m#     print('f1_score: ', f1_score(label_value, final_pre1))\u001b[0m\u001b[1;33m\u001b[0m\u001b[1;33m\u001b[0m\u001b[1;33m\u001b[0m\u001b[0m\n\u001b[0;32m      3\u001b[0m \u001b[1;33m\u001b[0m\u001b[0m\n\u001b[1;32m----> 4\u001b[1;33m \u001b[0mprint\u001b[0m\u001b[1;33m(\u001b[0m\u001b[1;34m'auc: '\u001b[0m\u001b[1;33m,\u001b[0m \u001b[0mroc_auc_score\u001b[0m\u001b[1;33m(\u001b[0m\u001b[0mlabel_value\u001b[0m\u001b[1;33m,\u001b[0m \u001b[0mfinal_pre1\u001b[0m\u001b[1;33m)\u001b[0m\u001b[1;33m)\u001b[0m\u001b[1;33m\u001b[0m\u001b[1;33m\u001b[0m\u001b[0m\n\u001b[0m\u001b[0;32m      5\u001b[0m \u001b[1;33m\u001b[0m\u001b[0m\n\u001b[0;32m      6\u001b[0m \u001b[1;31m#     print('accuracy_scorey: ',\u001b[0m\u001b[1;33m\u001b[0m\u001b[1;33m\u001b[0m\u001b[1;33m\u001b[0m\u001b[0m\n",
      "\u001b[1;31mNameError\u001b[0m: name 'final_pre1' is not defined"
     ]
    }
   ],
   "source": [
    "\n",
    "    label_value = X_test['tag']\n",
    "#     print('f1_score: ', f1_score(label_value, final_pre1))\n",
    "\n",
    "    print('auc: ', roc_auc_score(label_value, final_pre1))\n",
    "\n",
    "#     print('accuracy_scorey: ',\n",
    "#           accuracy_score(label_value, final_pre1))\n",
    "\n",
    "#     print('recall_score: ',\n",
    "#           recall_score(label_value, final_pre1))\n",
    "#     print('recall',help_df.query('predict==1')['decrease2'].sum()/help_df['decrease2'].sum())"
   ]
  },
  {
   "cell_type": "code",
   "execution_count": 145,
   "metadata": {
    "ExecuteTime": {
     "end_time": "2021-02-08T08:55:31.714203Z",
     "start_time": "2021-02-08T08:55:31.709208Z"
    }
   },
   "outputs": [
    {
     "data": {
      "text/plain": [
       "-146515.08342934397"
      ]
     },
     "execution_count": 145,
     "metadata": {},
     "output_type": "execute_result"
    }
   ],
   "source": [
    "final_pre1.sum()"
   ]
  },
  {
   "cell_type": "code",
   "execution_count": 166,
   "metadata": {
    "ExecuteTime": {
     "end_time": "2021-02-03T06:20:39.503423Z",
     "start_time": "2021-02-03T06:20:39.498446Z"
    }
   },
   "outputs": [
    {
     "data": {
      "text/plain": [
       "0.19636895062699325"
      ]
     },
     "execution_count": 166,
     "metadata": {},
     "output_type": "execute_result"
    }
   ],
   "source": [
    "final_pre1.max()"
   ]
  },
  {
   "cell_type": "code",
   "execution_count": 124,
   "metadata": {
    "ExecuteTime": {
     "end_time": "2021-02-03T06:08:28.538852Z",
     "start_time": "2021-02-03T06:08:28.535836Z"
    }
   },
   "outputs": [],
   "source": [
    "final_pre2 = final_pre1*5"
   ]
  },
  {
   "cell_type": "code",
   "execution_count": 125,
   "metadata": {
    "ExecuteTime": {
     "end_time": "2021-02-03T06:08:35.872338Z",
     "start_time": "2021-02-03T06:08:35.868324Z"
    }
   },
   "outputs": [
    {
     "data": {
      "text/plain": [
       "19201.72868305496"
      ]
     },
     "execution_count": 125,
     "metadata": {},
     "output_type": "execute_result"
    }
   ],
   "source": [
    "final_pre2.sum()"
   ]
  },
  {
   "cell_type": "code",
   "execution_count": 127,
   "metadata": {
    "ExecuteTime": {
     "end_time": "2021-02-03T06:08:53.145978Z",
     "start_time": "2021-02-03T06:08:53.140993Z"
    }
   },
   "outputs": [
    {
     "data": {
      "text/plain": [
       "array([0.23774014, 0.27084467, 0.49394937, ..., 0.59268959, 0.86755189,\n",
       "       0.54851522])"
      ]
     },
     "execution_count": 127,
     "metadata": {},
     "output_type": "execute_result"
    }
   ],
   "source": [
    "final_pre2"
   ]
  },
  {
   "cell_type": "code",
   "execution_count": 130,
   "metadata": {
    "ExecuteTime": {
     "end_time": "2021-02-03T06:09:52.627726Z",
     "start_time": "2021-02-03T06:09:52.624722Z"
    }
   },
   "outputs": [],
   "source": [
    "s = pd.DataFrame(final_pre2,columns=['predict'])"
   ]
  },
  {
   "cell_type": "code",
   "execution_count": 133,
   "metadata": {
    "ExecuteTime": {
     "end_time": "2021-02-03T06:11:37.736263Z",
     "start_time": "2021-02-03T06:11:37.716317Z"
    }
   },
   "outputs": [],
   "source": [
    "s['predict2'] = s['predict'].apply(lambda x:1 if x>=0.4 else 0)"
   ]
  },
  {
   "cell_type": "code",
   "execution_count": 134,
   "metadata": {
    "ExecuteTime": {
     "end_time": "2021-02-03T06:11:47.494997Z",
     "start_time": "2021-02-03T06:11:47.489046Z"
    }
   },
   "outputs": [
    {
     "data": {
      "text/plain": [
       "23902"
      ]
     },
     "execution_count": 134,
     "metadata": {},
     "output_type": "execute_result"
    }
   ],
   "source": [
    "s['predict2'].sum()"
   ]
  },
  {
   "cell_type": "code",
   "execution_count": 167,
   "metadata": {
    "ExecuteTime": {
     "end_time": "2021-02-03T06:20:48.362589Z",
     "start_time": "2021-02-03T06:20:48.357603Z"
    }
   },
   "outputs": [
    {
     "name": "stderr",
     "output_type": "stream",
     "text": [
      "E:\\Users\\zhengkw\\AppData\\Local\\Continuum\\anaconda3\\lib\\site-packages\\ipykernel_launcher.py:1: SettingWithCopyWarning: \n",
      "A value is trying to be set on a copy of a slice from a DataFrame.\n",
      "Try using .loc[row_indexer,col_indexer] = value instead\n",
      "\n",
      "See the caveats in the documentation: https://pandas.pydata.org/pandas-docs/stable/user_guide/indexing.html#returning-a-view-versus-a-copy\n",
      "  \"\"\"Entry point for launching an IPython kernel.\n"
     ]
    }
   ],
   "source": [
    "X_test['predict']=final_pre1"
   ]
  },
  {
   "cell_type": "code",
   "execution_count": 168,
   "metadata": {
    "ExecuteTime": {
     "end_time": "2021-02-03T06:20:49.006121Z",
     "start_time": "2021-02-03T06:20:48.978165Z"
    }
   },
   "outputs": [
    {
     "data": {
      "text/html": [
       "<div>\n",
       "<style scoped>\n",
       "    .dataframe tbody tr th:only-of-type {\n",
       "        vertical-align: middle;\n",
       "    }\n",
       "\n",
       "    .dataframe tbody tr th {\n",
       "        vertical-align: top;\n",
       "    }\n",
       "\n",
       "    .dataframe thead th {\n",
       "        text-align: right;\n",
       "    }\n",
       "</style>\n",
       "<table border=\"1\" class=\"dataframe\">\n",
       "  <thead>\n",
       "    <tr style=\"text-align: right;\">\n",
       "      <th></th>\n",
       "      <th>predict</th>\n",
       "      <th>tag</th>\n",
       "    </tr>\n",
       "  </thead>\n",
       "  <tbody>\n",
       "    <tr>\n",
       "      <th>83404</th>\n",
       "      <td>0.082320</td>\n",
       "      <td>1.0</td>\n",
       "    </tr>\n",
       "    <tr>\n",
       "      <th>83566</th>\n",
       "      <td>0.107613</td>\n",
       "      <td>1.0</td>\n",
       "    </tr>\n",
       "    <tr>\n",
       "      <th>83724</th>\n",
       "      <td>0.073610</td>\n",
       "      <td>1.0</td>\n",
       "    </tr>\n",
       "    <tr>\n",
       "      <th>83747</th>\n",
       "      <td>0.076759</td>\n",
       "      <td>1.0</td>\n",
       "    </tr>\n",
       "    <tr>\n",
       "      <th>83793</th>\n",
       "      <td>0.078526</td>\n",
       "      <td>1.0</td>\n",
       "    </tr>\n",
       "    <tr>\n",
       "      <th>...</th>\n",
       "      <td>...</td>\n",
       "      <td>...</td>\n",
       "    </tr>\n",
       "    <tr>\n",
       "      <th>179981</th>\n",
       "      <td>0.061080</td>\n",
       "      <td>1.0</td>\n",
       "    </tr>\n",
       "    <tr>\n",
       "      <th>180431</th>\n",
       "      <td>0.158353</td>\n",
       "      <td>1.0</td>\n",
       "    </tr>\n",
       "    <tr>\n",
       "      <th>180712</th>\n",
       "      <td>0.135670</td>\n",
       "      <td>1.0</td>\n",
       "    </tr>\n",
       "    <tr>\n",
       "      <th>180773</th>\n",
       "      <td>0.131198</td>\n",
       "      <td>1.0</td>\n",
       "    </tr>\n",
       "    <tr>\n",
       "      <th>180966</th>\n",
       "      <td>0.110401</td>\n",
       "      <td>1.0</td>\n",
       "    </tr>\n",
       "  </tbody>\n",
       "</table>\n",
       "<p>497 rows × 2 columns</p>\n",
       "</div>"
      ],
      "text/plain": [
       "         predict  tag\n",
       "83404   0.082320  1.0\n",
       "83566   0.107613  1.0\n",
       "83724   0.073610  1.0\n",
       "83747   0.076759  1.0\n",
       "83793   0.078526  1.0\n",
       "...          ...  ...\n",
       "179981  0.061080  1.0\n",
       "180431  0.158353  1.0\n",
       "180712  0.135670  1.0\n",
       "180773  0.131198  1.0\n",
       "180966  0.110401  1.0\n",
       "\n",
       "[497 rows x 2 columns]"
      ]
     },
     "execution_count": 168,
     "metadata": {},
     "output_type": "execute_result"
    }
   ],
   "source": [
    "X_test.query('tag==1')[['predict','tag']]"
   ]
  },
  {
   "cell_type": "code",
   "execution_count": 170,
   "metadata": {
    "ExecuteTime": {
     "end_time": "2021-02-03T06:20:58.220891Z",
     "start_time": "2021-02-03T06:20:58.129168Z"
    }
   },
   "outputs": [
    {
     "data": {
      "text/html": [
       "<div>\n",
       "<style scoped>\n",
       "    .dataframe tbody tr th:only-of-type {\n",
       "        vertical-align: middle;\n",
       "    }\n",
       "\n",
       "    .dataframe tbody tr th {\n",
       "        vertical-align: top;\n",
       "    }\n",
       "\n",
       "    .dataframe thead th {\n",
       "        text-align: right;\n",
       "    }\n",
       "</style>\n",
       "<table border=\"1\" class=\"dataframe\">\n",
       "  <thead>\n",
       "    <tr style=\"text-align: right;\">\n",
       "      <th></th>\n",
       "      <th>ID</th>\n",
       "      <th>CUST_NAME</th>\n",
       "      <th>ID_CARD_NO</th>\n",
       "      <th>MOBILE_NO</th>\n",
       "      <th>BANK_CARD_NO</th>\n",
       "      <th>CREATED_DATE</th>\n",
       "      <th>UPDATED_DATE</th>\n",
       "      <th>EXPANDING</th>\n",
       "      <th>TRANSACTION_TYPE</th>\n",
       "      <th>TRANSACTION_ID</th>\n",
       "      <th>...</th>\n",
       "      <th>zxLoanRcyDelqDate_change</th>\n",
       "      <th>zxRcyQueryDate_change</th>\n",
       "      <th>zxFirstLoanDate_change</th>\n",
       "      <th>zxFirstCreCardDate_change</th>\n",
       "      <th>zxFirstLoanMonth_change</th>\n",
       "      <th>zxMaxUpdated_change</th>\n",
       "      <th>zxHouseFundPayLastMonth_change</th>\n",
       "      <th>zxHouseFundRecordUpdate_change</th>\n",
       "      <th>zxLoanRcyUpdateDate_change</th>\n",
       "      <th>predict</th>\n",
       "    </tr>\n",
       "  </thead>\n",
       "  <tbody>\n",
       "    <tr>\n",
       "      <th>83208</th>\n",
       "      <td>99c296b172d7760501730801c45d774b</td>\n",
       "      <td>白建涛</td>\n",
       "      <td>511133199708262810</td>\n",
       "      <td>13219670826</td>\n",
       "      <td>6228410334585738170</td>\n",
       "      <td>2020-07-01 09:33:20</td>\n",
       "      <td>2020-07-01 09:33:20</td>\n",
       "      <td>{\"zxCreditCardDelqStatus30To60Days\":\"-9999\",\"z...</td>\n",
       "      <td>apply</td>\n",
       "      <td>1135673425765390188</td>\n",
       "      <td>...</td>\n",
       "      <td>-9999</td>\n",
       "      <td>217</td>\n",
       "      <td>681</td>\n",
       "      <td>-9999</td>\n",
       "      <td>24</td>\n",
       "      <td>-9999</td>\n",
       "      <td>-9999</td>\n",
       "      <td>-9999</td>\n",
       "      <td>230</td>\n",
       "      <td>0.098790</td>\n",
       "    </tr>\n",
       "    <tr>\n",
       "      <th>83212</th>\n",
       "      <td>99c296b272d77d0b017307e7577912f7</td>\n",
       "      <td>包志刚</td>\n",
       "      <td>411302198702020018</td>\n",
       "      <td>15203816128</td>\n",
       "      <td>6226632201313876</td>\n",
       "      <td>2020-07-01 09:04:28</td>\n",
       "      <td>2020-07-01 09:04:28</td>\n",
       "      <td>{\"zxCreditCardDelqStatus30To60Days\":\"N\",\"zxHou...</td>\n",
       "      <td>apply</td>\n",
       "      <td>1186791413431086436</td>\n",
       "      <td>...</td>\n",
       "      <td>308</td>\n",
       "      <td>217</td>\n",
       "      <td>1159</td>\n",
       "      <td>1953</td>\n",
       "      <td>39</td>\n",
       "      <td>237</td>\n",
       "      <td>-9999</td>\n",
       "      <td>-9999</td>\n",
       "      <td>236</td>\n",
       "      <td>0.108527</td>\n",
       "    </tr>\n",
       "    <tr>\n",
       "      <th>83218</th>\n",
       "      <td>99c296b172d776050173084463b10f74</td>\n",
       "      <td>苏尚杰</td>\n",
       "      <td>330327199508212498</td>\n",
       "      <td>15967767763</td>\n",
       "      <td>6217734600594626</td>\n",
       "      <td>2020-07-01 10:46:06</td>\n",
       "      <td>2020-07-01 10:46:06</td>\n",
       "      <td>{\"zxCreditCardDelqStatus30To60Days\":\"N\",\"zxHou...</td>\n",
       "      <td>apply</td>\n",
       "      <td>997148094156734176</td>\n",
       "      <td>...</td>\n",
       "      <td>-9999</td>\n",
       "      <td>219</td>\n",
       "      <td>1397</td>\n",
       "      <td>1712</td>\n",
       "      <td>47</td>\n",
       "      <td>378</td>\n",
       "      <td>-9999</td>\n",
       "      <td>-9999</td>\n",
       "      <td>227</td>\n",
       "      <td>0.082234</td>\n",
       "    </tr>\n",
       "    <tr>\n",
       "      <th>83219</th>\n",
       "      <td>99c296b172d776050173081a6b0e0041</td>\n",
       "      <td>付立鹏</td>\n",
       "      <td>430525199904060037</td>\n",
       "      <td>15774061988</td>\n",
       "      <td>6217002930106916554</td>\n",
       "      <td>2020-07-01 10:00:15</td>\n",
       "      <td>2020-07-01 10:00:15</td>\n",
       "      <td>{\"zxCreditCardDelqStatus30To60Days\":\"N\",\"zxHou...</td>\n",
       "      <td>apply</td>\n",
       "      <td>947198308686227377</td>\n",
       "      <td>...</td>\n",
       "      <td>-9999</td>\n",
       "      <td>242</td>\n",
       "      <td>1007</td>\n",
       "      <td>332</td>\n",
       "      <td>34</td>\n",
       "      <td>332</td>\n",
       "      <td>-9999</td>\n",
       "      <td>-9999</td>\n",
       "      <td>255</td>\n",
       "      <td>0.082582</td>\n",
       "    </tr>\n",
       "    <tr>\n",
       "      <th>83220</th>\n",
       "      <td>99c296b172d776050173081c7406007b</td>\n",
       "      <td>楚子良</td>\n",
       "      <td>130530198505161514</td>\n",
       "      <td>13731130848</td>\n",
       "      <td>6217991430003665225</td>\n",
       "      <td>2020-07-01 10:02:29</td>\n",
       "      <td>2020-07-01 10:02:29</td>\n",
       "      <td>{\"zxCreditCardDelqStatus30To60Days\":\"-9999\",\"z...</td>\n",
       "      <td>apply</td>\n",
       "      <td>951627078263237346</td>\n",
       "      <td>...</td>\n",
       "      <td>-9999</td>\n",
       "      <td>217</td>\n",
       "      <td>1480</td>\n",
       "      <td>-9999</td>\n",
       "      <td>50</td>\n",
       "      <td>-9999</td>\n",
       "      <td>-9999</td>\n",
       "      <td>-9999</td>\n",
       "      <td>248</td>\n",
       "      <td>0.087049</td>\n",
       "    </tr>\n",
       "    <tr>\n",
       "      <th>...</th>\n",
       "      <td>...</td>\n",
       "      <td>...</td>\n",
       "      <td>...</td>\n",
       "      <td>...</td>\n",
       "      <td>...</td>\n",
       "      <td>...</td>\n",
       "      <td>...</td>\n",
       "      <td>...</td>\n",
       "      <td>...</td>\n",
       "      <td>...</td>\n",
       "      <td>...</td>\n",
       "      <td>...</td>\n",
       "      <td>...</td>\n",
       "      <td>...</td>\n",
       "      <td>...</td>\n",
       "      <td>...</td>\n",
       "      <td>...</td>\n",
       "      <td>...</td>\n",
       "      <td>...</td>\n",
       "      <td>...</td>\n",
       "      <td>...</td>\n",
       "    </tr>\n",
       "    <tr>\n",
       "      <th>181239</th>\n",
       "      <td>99c296b173f7ddb301742b3f92102011</td>\n",
       "      <td>干传争</td>\n",
       "      <td>340123198401111911</td>\n",
       "      <td>17715300144</td>\n",
       "      <td>6222021103012286671</td>\n",
       "      <td>2020-08-26 22:50:20</td>\n",
       "      <td>2020-08-26 22:50:20</td>\n",
       "      <td>{\"zxCreditCardDelqStatus30To60Days\":\"N\",\"zxHou...</td>\n",
       "      <td>apply</td>\n",
       "      <td>4610007235995629803</td>\n",
       "      <td>...</td>\n",
       "      <td>-9999</td>\n",
       "      <td>160</td>\n",
       "      <td>1833</td>\n",
       "      <td>1325</td>\n",
       "      <td>62</td>\n",
       "      <td>247</td>\n",
       "      <td>-9999</td>\n",
       "      <td>-9999</td>\n",
       "      <td>175</td>\n",
       "      <td>0.133641</td>\n",
       "    </tr>\n",
       "    <tr>\n",
       "      <th>181240</th>\n",
       "      <td>99c296b173f7ddb301742dce0ef509a5</td>\n",
       "      <td>徐安娜</td>\n",
       "      <td>520102198111023827</td>\n",
       "      <td>18798781484</td>\n",
       "      <td>6222082402002568718</td>\n",
       "      <td>2020-08-27 10:45:13</td>\n",
       "      <td>2020-08-27 10:45:13</td>\n",
       "      <td>{\"zxCreditCardDelqStatus30To60Days\":\"N\",\"zxHou...</td>\n",
       "      <td>apply</td>\n",
       "      <td>4610007717031961900</td>\n",
       "      <td>...</td>\n",
       "      <td>978</td>\n",
       "      <td>160</td>\n",
       "      <td>4265</td>\n",
       "      <td>5613</td>\n",
       "      <td>143</td>\n",
       "      <td>193</td>\n",
       "      <td>-9999</td>\n",
       "      <td>-9999</td>\n",
       "      <td>163</td>\n",
       "      <td>0.080816</td>\n",
       "    </tr>\n",
       "    <tr>\n",
       "      <th>181246</th>\n",
       "      <td>99c296b173f7ddb301742dd9fa11263a</td>\n",
       "      <td>王加飞</td>\n",
       "      <td>330183198711104316</td>\n",
       "      <td>13588783430</td>\n",
       "      <td>6217730800421917</td>\n",
       "      <td>2020-08-27 10:58:14</td>\n",
       "      <td>2020-08-27 10:58:14</td>\n",
       "      <td>{\"zxCreditCardDelqStatus30To60Days\":\"N\",\"zxHou...</td>\n",
       "      <td>apply</td>\n",
       "      <td>4610007717031965939</td>\n",
       "      <td>...</td>\n",
       "      <td>1070</td>\n",
       "      <td>160</td>\n",
       "      <td>2127</td>\n",
       "      <td>4541</td>\n",
       "      <td>72</td>\n",
       "      <td>625</td>\n",
       "      <td>-9999</td>\n",
       "      <td>-9999</td>\n",
       "      <td>172</td>\n",
       "      <td>0.118538</td>\n",
       "    </tr>\n",
       "    <tr>\n",
       "      <th>181253</th>\n",
       "      <td>99c296b173f7ddb3017429fd22f96cfc</td>\n",
       "      <td>杨帅</td>\n",
       "      <td>513701199404141810</td>\n",
       "      <td>18384580806</td>\n",
       "      <td>6217251400022877007</td>\n",
       "      <td>2020-08-26 16:58:09</td>\n",
       "      <td>2020-08-26 16:58:09</td>\n",
       "      <td>{\"zxCreditCardDelqStatus30To60Days\":\"N\",\"zxHou...</td>\n",
       "      <td>apply</td>\n",
       "      <td>4609998027585728168</td>\n",
       "      <td>...</td>\n",
       "      <td>308</td>\n",
       "      <td>160</td>\n",
       "      <td>1405</td>\n",
       "      <td>931</td>\n",
       "      <td>48</td>\n",
       "      <td>205</td>\n",
       "      <td>-9999</td>\n",
       "      <td>-9999</td>\n",
       "      <td>170</td>\n",
       "      <td>0.173510</td>\n",
       "    </tr>\n",
       "    <tr>\n",
       "      <th>181254</th>\n",
       "      <td>99c296b173f7ddb30174267af2f7343b</td>\n",
       "      <td>王辉</td>\n",
       "      <td>130983199402095314</td>\n",
       "      <td>13482904777</td>\n",
       "      <td>6228481738862419870</td>\n",
       "      <td>2020-08-26 00:37:05</td>\n",
       "      <td>2020-08-26 00:37:05</td>\n",
       "      <td>{\"zxCreditCardDelqStatus30To60Days\":\"N\",\"zxHou...</td>\n",
       "      <td>apply</td>\n",
       "      <td>4609997340390968999</td>\n",
       "      <td>...</td>\n",
       "      <td>-9999</td>\n",
       "      <td>161</td>\n",
       "      <td>1701</td>\n",
       "      <td>3231</td>\n",
       "      <td>57</td>\n",
       "      <td>270</td>\n",
       "      <td>-9999</td>\n",
       "      <td>-9999</td>\n",
       "      <td>177</td>\n",
       "      <td>0.109703</td>\n",
       "    </tr>\n",
       "  </tbody>\n",
       "</table>\n",
       "<p>24926 rows × 138 columns</p>\n",
       "</div>"
      ],
      "text/plain": [
       "                                      ID CUST_NAME          ID_CARD_NO  \\\n",
       "83208   99c296b172d7760501730801c45d774b       白建涛  511133199708262810   \n",
       "83212   99c296b272d77d0b017307e7577912f7       包志刚  411302198702020018   \n",
       "83218   99c296b172d776050173084463b10f74       苏尚杰  330327199508212498   \n",
       "83219   99c296b172d776050173081a6b0e0041       付立鹏  430525199904060037   \n",
       "83220   99c296b172d776050173081c7406007b       楚子良  130530198505161514   \n",
       "...                                  ...       ...                 ...   \n",
       "181239  99c296b173f7ddb301742b3f92102011       干传争  340123198401111911   \n",
       "181240  99c296b173f7ddb301742dce0ef509a5       徐安娜  520102198111023827   \n",
       "181246  99c296b173f7ddb301742dd9fa11263a       王加飞  330183198711104316   \n",
       "181253  99c296b173f7ddb3017429fd22f96cfc        杨帅  513701199404141810   \n",
       "181254  99c296b173f7ddb30174267af2f7343b        王辉  130983199402095314   \n",
       "\n",
       "          MOBILE_NO         BANK_CARD_NO         CREATED_DATE  \\\n",
       "83208   13219670826  6228410334585738170  2020-07-01 09:33:20   \n",
       "83212   15203816128     6226632201313876  2020-07-01 09:04:28   \n",
       "83218   15967767763     6217734600594626  2020-07-01 10:46:06   \n",
       "83219   15774061988  6217002930106916554  2020-07-01 10:00:15   \n",
       "83220   13731130848  6217991430003665225  2020-07-01 10:02:29   \n",
       "...             ...                  ...                  ...   \n",
       "181239  17715300144  6222021103012286671  2020-08-26 22:50:20   \n",
       "181240  18798781484  6222082402002568718  2020-08-27 10:45:13   \n",
       "181246  13588783430     6217730800421917  2020-08-27 10:58:14   \n",
       "181253  18384580806  6217251400022877007  2020-08-26 16:58:09   \n",
       "181254  13482904777  6228481738862419870  2020-08-26 00:37:05   \n",
       "\n",
       "               UPDATED_DATE  \\\n",
       "83208   2020-07-01 09:33:20   \n",
       "83212   2020-07-01 09:04:28   \n",
       "83218   2020-07-01 10:46:06   \n",
       "83219   2020-07-01 10:00:15   \n",
       "83220   2020-07-01 10:02:29   \n",
       "...                     ...   \n",
       "181239  2020-08-26 22:50:20   \n",
       "181240  2020-08-27 10:45:13   \n",
       "181246  2020-08-27 10:58:14   \n",
       "181253  2020-08-26 16:58:09   \n",
       "181254  2020-08-26 00:37:05   \n",
       "\n",
       "                                                EXPANDING TRANSACTION_TYPE  \\\n",
       "83208   {\"zxCreditCardDelqStatus30To60Days\":\"-9999\",\"z...            apply   \n",
       "83212   {\"zxCreditCardDelqStatus30To60Days\":\"N\",\"zxHou...            apply   \n",
       "83218   {\"zxCreditCardDelqStatus30To60Days\":\"N\",\"zxHou...            apply   \n",
       "83219   {\"zxCreditCardDelqStatus30To60Days\":\"N\",\"zxHou...            apply   \n",
       "83220   {\"zxCreditCardDelqStatus30To60Days\":\"-9999\",\"z...            apply   \n",
       "...                                                   ...              ...   \n",
       "181239  {\"zxCreditCardDelqStatus30To60Days\":\"N\",\"zxHou...            apply   \n",
       "181240  {\"zxCreditCardDelqStatus30To60Days\":\"N\",\"zxHou...            apply   \n",
       "181246  {\"zxCreditCardDelqStatus30To60Days\":\"N\",\"zxHou...            apply   \n",
       "181253  {\"zxCreditCardDelqStatus30To60Days\":\"N\",\"zxHou...            apply   \n",
       "181254  {\"zxCreditCardDelqStatus30To60Days\":\"N\",\"zxHou...            apply   \n",
       "\n",
       "             TRANSACTION_ID  ... zxLoanRcyDelqDate_change  \\\n",
       "83208   1135673425765390188  ...                    -9999   \n",
       "83212   1186791413431086436  ...                      308   \n",
       "83218    997148094156734176  ...                    -9999   \n",
       "83219    947198308686227377  ...                    -9999   \n",
       "83220    951627078263237346  ...                    -9999   \n",
       "...                     ...  ...                      ...   \n",
       "181239  4610007235995629803  ...                    -9999   \n",
       "181240  4610007717031961900  ...                      978   \n",
       "181246  4610007717031965939  ...                     1070   \n",
       "181253  4609998027585728168  ...                      308   \n",
       "181254  4609997340390968999  ...                    -9999   \n",
       "\n",
       "        zxRcyQueryDate_change  zxFirstLoanDate_change  \\\n",
       "83208                     217                     681   \n",
       "83212                     217                    1159   \n",
       "83218                     219                    1397   \n",
       "83219                     242                    1007   \n",
       "83220                     217                    1480   \n",
       "...                       ...                     ...   \n",
       "181239                    160                    1833   \n",
       "181240                    160                    4265   \n",
       "181246                    160                    2127   \n",
       "181253                    160                    1405   \n",
       "181254                    161                    1701   \n",
       "\n",
       "        zxFirstCreCardDate_change  zxFirstLoanMonth_change  \\\n",
       "83208                       -9999                       24   \n",
       "83212                        1953                       39   \n",
       "83218                        1712                       47   \n",
       "83219                         332                       34   \n",
       "83220                       -9999                       50   \n",
       "...                           ...                      ...   \n",
       "181239                       1325                       62   \n",
       "181240                       5613                      143   \n",
       "181246                       4541                       72   \n",
       "181253                        931                       48   \n",
       "181254                       3231                       57   \n",
       "\n",
       "        zxMaxUpdated_change  zxHouseFundPayLastMonth_change  \\\n",
       "83208                 -9999                           -9999   \n",
       "83212                   237                           -9999   \n",
       "83218                   378                           -9999   \n",
       "83219                   332                           -9999   \n",
       "83220                 -9999                           -9999   \n",
       "...                     ...                             ...   \n",
       "181239                  247                           -9999   \n",
       "181240                  193                           -9999   \n",
       "181246                  625                           -9999   \n",
       "181253                  205                           -9999   \n",
       "181254                  270                           -9999   \n",
       "\n",
       "       zxHouseFundRecordUpdate_change zxLoanRcyUpdateDate_change   predict  \n",
       "83208                           -9999                        230  0.098790  \n",
       "83212                           -9999                        236  0.108527  \n",
       "83218                           -9999                        227  0.082234  \n",
       "83219                           -9999                        255  0.082582  \n",
       "83220                           -9999                        248  0.087049  \n",
       "...                               ...                        ...       ...  \n",
       "181239                          -9999                        175  0.133641  \n",
       "181240                          -9999                        163  0.080816  \n",
       "181246                          -9999                        172  0.118538  \n",
       "181253                          -9999                        170  0.173510  \n",
       "181254                          -9999                        177  0.109703  \n",
       "\n",
       "[24926 rows x 138 columns]"
      ]
     },
     "execution_count": 170,
     "metadata": {},
     "output_type": "execute_result"
    }
   ],
   "source": [
    "X_test.query('predict>0.078526')"
   ]
  },
  {
   "cell_type": "code",
   "execution_count": 173,
   "metadata": {
    "ExecuteTime": {
     "end_time": "2021-02-03T06:21:52.210371Z",
     "start_time": "2021-02-03T06:21:52.203389Z"
    }
   },
   "outputs": [
    {
     "data": {
      "text/plain": [
       "ID                                99c296b272d77d0b0173079f546d79c5\n",
       "CUST_NAME                                                      曾丽妹\n",
       "ID_CARD_NO                                      460028199311242449\n",
       "MOBILE_NO                                              18889492199\n",
       "BANK_CARD_NO                                   6215582201007560228\n",
       "                                                ...               \n",
       "zxMaxUpdated_change                                            308\n",
       "zxHouseFundPayLastMonth_change                                  97\n",
       "zxHouseFundRecordUpdate_change                                 278\n",
       "zxLoanRcyUpdateDate_change                                     228\n",
       "predict                                                  0.0785259\n",
       "Name: 83793, Length: 138, dtype: object"
      ]
     },
     "execution_count": 173,
     "metadata": {},
     "output_type": "execute_result"
    }
   ],
   "source": [
    "X_test.loc[83793].tag()"
   ]
  },
  {
   "cell_type": "code",
   "execution_count": null,
   "metadata": {},
   "outputs": [],
   "source": []
  }
 ],
 "metadata": {
  "kernelspec": {
   "display_name": "Python 3",
   "language": "python",
   "name": "python3"
  },
  "language_info": {
   "codemirror_mode": {
    "name": "ipython",
    "version": 3
   },
   "file_extension": ".py",
   "mimetype": "text/x-python",
   "name": "python",
   "nbconvert_exporter": "python",
   "pygments_lexer": "ipython3",
   "version": "3.6.4"
  },
  "toc": {
   "base_numbering": 1,
   "nav_menu": {},
   "number_sections": true,
   "sideBar": true,
   "skip_h1_title": false,
   "title_cell": "Table of Contents",
   "title_sidebar": "Contents",
   "toc_cell": false,
   "toc_position": {},
   "toc_section_display": true,
   "toc_window_display": false
  }
 },
 "nbformat": 4,
 "nbformat_minor": 2
}
