{
 "cells": [
  {
   "cell_type": "code",
   "execution_count": 1,
   "metadata": {},
   "outputs": [],
   "source": [
    "import sys\n",
    "import pandas as pd\n",
    "import numpy as np\n",
    "sys.path.append('/mnt/disk05/note/workspaces/duxx')\n",
    "from feature_selector import FeatureSelector\n",
    "from unity import init_pkg as ini\n",
    "from unity.eda_func import EdaFunc as edf\n",
    "from unity.fea_eda_func import FeaEdaFunc as fef\n",
    "from sklearn.preprocessing import LabelEncoder\n",
    "from sklearn.model_selection import train_test_split\n",
    "from sklearn.linear_model import LogisticRegression\n",
    "from sklearn.metrics import roc_auc_score,roc_curve\n",
    "import os\n",
    "import json\n",
    "import datetime\n",
    "import gc\n",
    "import scorecardpy as sc\n",
    "from matplotlib import pyplot as plt\n",
    "from imblearn.over_sampling import SMOTE\n",
    "# import pickle\n",
    "# import joblib\n",
    "# import pandas_profiling\n",
    "\n",
    "% matplotlib inline"
   ]
  },
  {
   "cell_type": "code",
   "execution_count": 2,
   "metadata": {},
   "outputs": [],
   "source": [
    "bdbank = ini.pd.read_pickle('data/bd/bdbank.pkl')\n",
    "bdtag = ini.pd.read_csv('data/tag/bd_tag_avli.csv')"
   ]
  },
  {
   "cell_type": "code",
   "execution_count": 7,
   "metadata": {},
   "outputs": [
    {
     "name": "stdout",
     "output_type": "stream",
     "text": [
      "<class 'pandas.core.frame.DataFrame'>\n",
      "RangeIndex: 168028 entries, 0 to 168027\n",
      "Columns: 140 entries, ID to livingPhoto\n",
      "dtypes: datetime64[ns](2), float64(7), int64(1), object(130)\n",
      "memory usage: 179.5+ MB\n"
     ]
    }
   ],
   "source": [
    "# bdbank.head()\n",
    "bdbank.info()"
   ]
  },
  {
   "cell_type": "code",
   "execution_count": 331,
   "metadata": {
    "scrolled": false
   },
   "outputs": [],
   "source": [
    "bdbank=bdbank[bdbank['TRANSACTION_TYPE']=='apply']"
   ]
  },
  {
   "cell_type": "code",
   "execution_count": 5,
   "metadata": {
    "scrolled": true
   },
   "outputs": [
    {
     "data": {
      "text/html": [
       "<div>\n",
       "<style scoped>\n",
       "    .dataframe tbody tr th:only-of-type {\n",
       "        vertical-align: middle;\n",
       "    }\n",
       "\n",
       "    .dataframe tbody tr th {\n",
       "        vertical-align: top;\n",
       "    }\n",
       "\n",
       "    .dataframe thead th {\n",
       "        text-align: right;\n",
       "    }\n",
       "</style>\n",
       "<table border=\"1\" class=\"dataframe\">\n",
       "  <thead>\n",
       "    <tr style=\"text-align: right;\">\n",
       "      <th></th>\n",
       "      <th>dubil_no</th>\n",
       "      <th>cert_no</th>\n",
       "      <th>ovdue_days</th>\n",
       "      <th>lon_dt</th>\n",
       "    </tr>\n",
       "  </thead>\n",
       "  <tbody>\n",
       "    <tr>\n",
       "      <th>0</th>\n",
       "      <td>4176499214121897291</td>\n",
       "      <td>350521197206100033</td>\n",
       "      <td>0</td>\n",
       "      <td>2020-04-02</td>\n",
       "    </tr>\n",
       "    <tr>\n",
       "      <th>1</th>\n",
       "      <td>4176498286408975032</td>\n",
       "      <td>640321198510110730</td>\n",
       "      <td>0</td>\n",
       "      <td>2020-03-29</td>\n",
       "    </tr>\n",
       "    <tr>\n",
       "      <th>2</th>\n",
       "      <td>4170320439806389279</td>\n",
       "      <td>12022219960310582X</td>\n",
       "      <td>0</td>\n",
       "      <td>2020-03-26</td>\n",
       "    </tr>\n",
       "    <tr>\n",
       "      <th>3</th>\n",
       "      <td>4149489607891218124</td>\n",
       "      <td>441623199705305789</td>\n",
       "      <td>0</td>\n",
       "      <td>2020-03-23</td>\n",
       "    </tr>\n",
       "    <tr>\n",
       "      <th>4</th>\n",
       "      <td>4176499660798518798</td>\n",
       "      <td>110102197111170818</td>\n",
       "      <td>0</td>\n",
       "      <td>2020-04-02</td>\n",
       "    </tr>\n",
       "  </tbody>\n",
       "</table>\n",
       "</div>"
      ],
      "text/plain": [
       "              dubil_no             cert_no  ovdue_days      lon_dt\n",
       "0  4176499214121897291  350521197206100033           0  2020-04-02\n",
       "1  4176498286408975032  640321198510110730           0  2020-03-29\n",
       "2  4170320439806389279  12022219960310582X           0  2020-03-26\n",
       "3  4149489607891218124  441623199705305789           0  2020-03-23\n",
       "4  4176499660798518798  110102197111170818           0  2020-04-02"
      ]
     },
     "execution_count": 5,
     "metadata": {},
     "output_type": "execute_result"
    }
   ],
   "source": [
    "bdtag.head()"
   ]
  },
  {
   "cell_type": "code",
   "execution_count": 332,
   "metadata": {},
   "outputs": [],
   "source": [
    "bdtag['tag'] = 0\n",
    "bdtag.loc[bdtag['ovdue_days']>30,'tag'] = 1\n",
    "bdtag = bdtag.groupby('cert_no')['tag'].max().reset_index(name='tag')"
   ]
  },
  {
   "cell_type": "code",
   "execution_count": 333,
   "metadata": {},
   "outputs": [],
   "source": [
    "bdbank = bdbank.sort_values('CREATED_DATE',ascending=0).drop_duplicates('ID_CARD_NO',keep='last')"
   ]
  },
  {
   "cell_type": "code",
   "execution_count": 334,
   "metadata": {},
   "outputs": [],
   "source": [
    "bdbank = bdbank.dropna(subset=['ID','ID_CARD_NO'])\n",
    "bdbank = bdbank.rename({'ID_CARD_NO':'cert_no'},axis=1)\n",
    "bdmain = bdbank.merge(bdtag,on='cert_no')\n",
    "# bdmain = pd.merge(bdbank,bdtag,on='cert_no',how = 'left')\n",
    "del bdbank,bdtag"
   ]
  },
  {
   "cell_type": "code",
   "execution_count": null,
   "metadata": {},
   "outputs": [],
   "source": [
    "bd_avli = pd.read_csv(r'./merge_with_fake_4.csv')"
   ]
  },
  {
   "cell_type": "markdown",
   "metadata": {},
   "source": [
    "# 一、数据清洗\n",
    "\n",
    "## 1.1 剔除单一值、缺失>0.7、相关性>0.7"
   ]
  },
  {
   "cell_type": "code",
   "execution_count": 335,
   "metadata": {},
   "outputs": [],
   "source": [
    "drop_feas = {'ID','BANK_CARD_NO','MOBILE_NO','TRANSACTION_ID','CUST_NAME','ORDER_NO','idpicture0','livingPhoto',\n",
    "             'photowithidcard','orderId','reasonMsg','unionLoanUsed','TRANSACTION_TYPE','zxSex',\n",
    "             'TRANSACTION_ID','BANK_CARD_NO','UPDATED_DATE','zxDomicile','zxPermanentAddress'}\n",
    "\n",
    "bdmain = bdmain.replace([-9999,'-9999'],ini.np.nan)"
   ]
  },
  {
   "cell_type": "code",
   "execution_count": 148,
   "metadata": {},
   "outputs": [],
   "source": [
    "bdmain = bdmain.replace([-9999,'-9999'],ini.np.nan)"
   ]
  },
  {
   "cell_type": "code",
   "execution_count": 336,
   "metadata": {
    "scrolled": false
   },
   "outputs": [
    {
     "name": "stdout",
     "output_type": "stream",
     "text": [
      "37 features with greater than 0.80 missing values.\n",
      "\n",
      "7 features with a single unique value.\n",
      "\n",
      "0 features with a correlation magnitude greater than 0.80.\n",
      "\n",
      "Total of 44 features identified for removal\n"
     ]
    }
   ],
   "source": [
    "fs = FeatureSelector(data=bdmain.drop('tag',axis=1),labels=bdmain['tag'])\n",
    "fs.identify_missing(0.8)\n",
    "fs.identify_single_unique()\n",
    "fs.identify_collinear(0.8)\n",
    "fs_drop = fs.check_removal()"
   ]
  },
  {
   "cell_type": "code",
   "execution_count": 337,
   "metadata": {
    "scrolled": false
   },
   "outputs": [],
   "source": [
    "drop_feas = drop_feas | set(fs_drop)"
   ]
  },
  {
   "cell_type": "code",
   "execution_count": 4,
   "metadata": {},
   "outputs": [
    {
     "ename": "NameError",
     "evalue": "name 'bdmain' is not defined",
     "output_type": "error",
     "traceback": [
      "\u001b[0;31m---------------------------------------------------------------------------\u001b[0m",
      "\u001b[0;31mNameError\u001b[0m                                 Traceback (most recent call last)",
      "\u001b[0;32m<ipython-input-4-25d5cf06b4e0>\u001b[0m in \u001b[0;36m<module>\u001b[0;34m()\u001b[0m\n\u001b[1;32m      1\u001b[0m \u001b[0;31m# bdmain.head()\u001b[0m\u001b[0;34m\u001b[0m\u001b[0;34m\u001b[0m\u001b[0m\n\u001b[0;32m----> 2\u001b[0;31m \u001b[0mbdmain\u001b[0m\u001b[0;34m.\u001b[0m\u001b[0mvalue_counts\u001b[0m\u001b[0;34m(\u001b[0m\u001b[0;34m)\u001b[0m\u001b[0;34m\u001b[0m\u001b[0m\n\u001b[0m",
      "\u001b[0;31mNameError\u001b[0m: name 'bdmain' is not defined"
     ]
    }
   ],
   "source": [
    "bdmain.head()"
   ]
  },
  {
   "cell_type": "code",
   "execution_count": 338,
   "metadata": {},
   "outputs": [],
   "source": [
    "bdmain = bdmain.drop(drop_feas,axis=1)"
   ]
  },
  {
   "cell_type": "markdown",
   "metadata": {},
   "source": [
    "## 1.2 异常值处理"
   ]
  },
  {
   "cell_type": "code",
   "execution_count": 14,
   "metadata": {
    "scrolled": false
   },
   "outputs": [],
   "source": [
    "# bdmain = bdmain.replace([-9999,'-9999'],ini.np.nan)"
   ]
  },
  {
   "cell_type": "markdown",
   "metadata": {},
   "source": [
    "## 1.3 划分数据集"
   ]
  },
  {
   "cell_type": "code",
   "execution_count": 341,
   "metadata": {},
   "outputs": [],
   "source": [
    "train_x,test_x,train_y,test_y = train_test_split(bdmain,bdmain['tag'],test_size=0.3,shuffle=True,random_state=123)"
   ]
  },
  {
   "cell_type": "code",
   "execution_count": 340,
   "metadata": {},
   "outputs": [],
   "source": [
    "train_x =  bdmain.dropna(subset=['tag'])\n",
    "train_y = train_x['tag']\n",
    "train_x = train_x.drop('tag',axis=1)\n",
    "test_x = bdmain.loc[bdmain[np.isnan(bdmain['tag'])].index,:].drop('tag',axis=1)"
   ]
  },
  {
   "cell_type": "code",
   "execution_count": 39,
   "metadata": {},
   "outputs": [
    {
     "data": {
      "text/plain": [
       "(26420, 86)"
      ]
     },
     "execution_count": 39,
     "metadata": {},
     "output_type": "execute_result"
    }
   ],
   "source": [
    "train_x.shape"
   ]
  },
  {
   "cell_type": "code",
   "execution_count": 40,
   "metadata": {},
   "outputs": [
    {
     "data": {
      "text/plain": [
       "0    26104\n",
       "1      316\n",
       "Name: tag, dtype: int64"
      ]
     },
     "execution_count": 40,
     "metadata": {},
     "output_type": "execute_result"
    }
   ],
   "source": [
    "train_x['tag'].value_counts()"
   ]
  },
  {
   "cell_type": "code",
   "execution_count": 41,
   "metadata": {},
   "outputs": [
    {
     "data": {
      "text/plain": [
       "0    11188\n",
       "1      136\n",
       "Name: tag, dtype: int64"
      ]
     },
     "execution_count": 41,
     "metadata": {},
     "output_type": "execute_result"
    }
   ],
   "source": [
    "test_x['tag'].value_counts()"
   ]
  },
  {
   "cell_type": "markdown",
   "metadata": {},
   "source": [
    "# 二、特征工程\n",
    "\n",
    "## 2.1 日期、百分比、地址特征处理"
   ]
  },
  {
   "cell_type": "markdown",
   "metadata": {},
   "source": [
    "### 2.1.1 日期特征衍生"
   ]
  },
  {
   "cell_type": "code",
   "execution_count": 342,
   "metadata": {},
   "outputs": [],
   "source": [
    "date_feas = train_x.loc[:,train_x.columns.str.contains('Date|LastMonth|DATE|FirstLoan|Update')].columns"
   ]
  },
  {
   "cell_type": "code",
   "execution_count": 325,
   "metadata": {},
   "outputs": [
    {
     "data": {
      "text/plain": [
       "Index(['CREATED_DATE', 'zxLoanRcyDelqDate', 'zxHouseFundPayLastMonth',\n",
       "       'zxMaxUpdated', 'zxFirstLoanMonth', 'zxFirstCreCardDate',\n",
       "       'zxLoanRcyUpdateDate', 'zxFirstLoanDate', 'zxCreditCardRcyUpdateDate',\n",
       "       'zxRcyQueryDate', 'zxHouseFundRecordUpdate', 'zxCreditCardRcyDelqDate'],\n",
       "      dtype='object')"
      ]
     },
     "execution_count": 325,
     "metadata": {},
     "output_type": "execute_result"
    }
   ],
   "source": [
    "date_feas"
   ]
  },
  {
   "cell_type": "code",
   "execution_count": 55,
   "metadata": {},
   "outputs": [
    {
     "data": {
      "text/plain": [
       "CREATED_DATE                 datetime64[ns]\n",
       "zxHouseFundPayLastMonth              object\n",
       "zxMaxUpdated                         object\n",
       "zxFirstLoanMonth                     object\n",
       "zxFirstCreCardDate                   object\n",
       "zxLoanRcyUpdateDate                  object\n",
       "zxFirstLoanDate                      object\n",
       "zxCreditCardRcyUpdateDate            object\n",
       "zxRcyQueryDate                       object\n",
       "zxHouseFundRecordUpdate              object\n",
       "zxCreditCardRcyDelqDate              object\n",
       "dtype: object"
      ]
     },
     "execution_count": 55,
     "metadata": {},
     "output_type": "execute_result"
    }
   ],
   "source": [
    "train_x[date_feas].dtypes"
   ]
  },
  {
   "cell_type": "code",
   "execution_count": 343,
   "metadata": {},
   "outputs": [],
   "source": [
    "train_x['zxHouseFundPayLastMonth'] = train_x['zxHouseFundPayLastMonth'].replace('0002-12',ini.np.nan)\n",
    "test_x['zxHouseFundPayLastMonth'] = test_x['zxHouseFundPayLastMonth'].replace('0002-12',ini.np.nan)\n",
    "train_x.loc[:,date_feas] = train_x[date_feas].astype('datetime64[ns]')\n",
    "test_x.loc[:,date_feas] = test_x[date_feas].astype('datetime64[ns]')"
   ]
  },
  {
   "cell_type": "code",
   "execution_count": 344,
   "metadata": {},
   "outputs": [],
   "source": [
    "for c in date_feas[:-1]:\n",
    "    train_x[f'{c}_diff_londt'] = abs((train_x['CREATED_DATE'] - train_x[c]).dt.days)\n",
    "    train_x[f'{c}_diff_londt'] = train_x[f'{c}_diff_londt'].fillna(-9999)\n",
    "    test_x[f'{c}_diff_londt']  = abs((test_x['CREATED_DATE'] - test_x[c]).dt.days)\n",
    "    test_x[f'{c}_diff_londt'] = test_x[f'{c}_diff_londt'].fillna(-9999)"
   ]
  },
  {
   "cell_type": "code",
   "execution_count": 345,
   "metadata": {
    "scrolled": true
   },
   "outputs": [],
   "source": [
    "train_x = train_x.drop(date_feas,axis=1)\n",
    "test_x = test_x.drop(date_feas,axis=1)"
   ]
  },
  {
   "cell_type": "markdown",
   "metadata": {},
   "source": [
    "### 2.1.2 比例特征处理"
   ]
  },
  {
   "cell_type": "code",
   "execution_count": 346,
   "metadata": {},
   "outputs": [],
   "source": [
    "train_x['zxHouseFundCompanyRate'] = train_x['zxHouseFundCompanyRate'].str.extract('(\\d+)').astype(float)/100\n",
    "train_x['zxHouseFundSelfRate'] = train_x['zxHouseFundSelfRate'].str.extract('(\\d+)').astype(float)/100\n",
    "test_x['zxHouseFundCompanyRate'] = test_x['zxHouseFundCompanyRate'].str.extract('(\\d+)').astype(float)/100\n",
    "test_x['zxHouseFundSelfRate'] = test_x['zxHouseFundSelfRate'].str.extract('(\\d+)').astype(float)/100"
   ]
  },
  {
   "cell_type": "markdown",
   "metadata": {},
   "source": [
    "### 2.1.3 地址特征处理"
   ]
  },
  {
   "cell_type": "code",
   "execution_count": 347,
   "metadata": {},
   "outputs": [],
   "source": [
    "train_x = fef.build_cert_refer_feas(train_x,cert_cols='cert_no')\n",
    "test_x = fef.build_cert_refer_feas(test_x,cert_cols='cert_no')"
   ]
  },
  {
   "cell_type": "markdown",
   "metadata": {},
   "source": [
    "## 2.2 类别特征处理"
   ]
  },
  {
   "cell_type": "code",
   "execution_count": 348,
   "metadata": {},
   "outputs": [],
   "source": [
    "def bin_group_single(df, col, target):\n",
    "    \"\"\"\n",
    "    单个特征iv,woe\n",
    "    \"\"\"\n",
    "    regroup = df.groupby([col])['tag'].agg(['count','sum']).replace(0,0.0001)\\\n",
    "                .rename({'count':'total','sum':'bad'},axis=1)\\\n",
    "                .assign(variable=col,\n",
    "                        good=lambda x:x['total']-x['bad'],\n",
    "                        badprob = lambda x:x['bad']/x['total'],\n",
    "                        DistrBad = lambda x:x['good']/sum(x['good']),\n",
    "                        DistrGood = lambda x:x['bad']/sum(x['bad']),\n",
    "                        woe = lambda x:ini.np.log(x['DistrBad']/x['DistrGood']),\n",
    "                        bin_iv = lambda x:(x['DistrBad']-x['DistrGood'])*x['woe'],\n",
    "                        total_iv = lambda x:sum(x.bin_iv))\n",
    "    regroup.reset_index(level=0,inplace=True)\n",
    "    return regroup\n",
    "\n",
    "def bin_group(df, cols, target,missing=True):\n",
    "    \"\"\"\n",
    "    \"\"\"\n",
    "    bin_df_dicts = {}\n",
    "    if missing: df.loc[:,cols] = df.fillna('missing')\n",
    "    for c in cols:\n",
    "        bin_df = bin_group_single(df,c,target)\n",
    "        bin_df_dicts[c] = bin_df\n",
    "    return bin_df_dicts\n",
    "\n",
    "def badrate_ply(df,cols, bin_df_dicts,missing=True):\n",
    "    \"\"\"\n",
    "    badrate编码转化\n",
    "    \"\"\"\n",
    "    if missing: df.loc[:,cols] = df.fillna('missing')\n",
    "    bin_badp_dicts = {c:dict(zip(bin_df_dicts[c][c],bin_df_dicts[c]['badprob'])) for c in cols}\n",
    "    df.replace(bin_badp_dicts,inplace=True)\n",
    "    return df"
   ]
  },
  {
   "cell_type": "code",
   "execution_count": 349,
   "metadata": {},
   "outputs": [],
   "source": [
    "train_x = train_x.loc[:,train_x.columns.str.contains('zx|tag')]\n",
    "test_x = test_x.loc[:,test_x.columns.str.contains('zx|tag')]"
   ]
  },
  {
   "cell_type": "code",
   "execution_count": 350,
   "metadata": {},
   "outputs": [],
   "source": [
    "cat_feas = set(train_x.loc[:,train_x.columns.str.contains('Status|Type|Code|Sex|Seg|LoanUse|Section|ocr|Edu|Career|Mari')].columns)"
   ]
  },
  {
   "cell_type": "code",
   "execution_count": 351,
   "metadata": {},
   "outputs": [],
   "source": [
    "cat_feas_info = edf.get_features_type(train_x[cat_feas])['cat_feas']"
   ]
  },
  {
   "cell_type": "code",
   "execution_count": 31,
   "metadata": {
    "scrolled": true
   },
   "outputs": [
    {
     "data": {
      "text/plain": [
       "zxCreditCardDelqStatus90To180Days    13\n",
       "zxLoanDelqStatus60To90Days           14\n",
       "zxLoanDelqStatus90To180Days          14\n",
       "zxEducation                           8\n",
       "zxCreCardStatus4                      4\n",
       "zxCreCardStatus5                      6\n",
       "zxCreCardStatus3                      3\n",
       "zxLoanDelqStatus6To12Months          14\n",
       "zxCreditCardDelqStatus24Months       13\n",
       "zxCreditCardDelqStatus6To12Months    13\n",
       "zxLoanDelqStatus30Dayyues             6\n",
       "zxCareer                             10\n",
       "zxLoanDelqStatus30To60Days           14\n",
       "zxMaritalStatus                       5\n",
       "zxHouseFundPayStatus                  4\n",
       "zxCreCardStatus1                      4\n",
       "zxCreditCardDelqStatus30Dayyues       7\n",
       "zxCreditCardDelqStatus60To90Days     13\n",
       "zxCreditCardDelqStatus30To60Days     13\n",
       "dtype: int64"
      ]
     },
     "execution_count": 31,
     "metadata": {},
     "output_type": "execute_result"
    }
   ],
   "source": [
    "cat_feas_info"
   ]
  },
  {
   "cell_type": "code",
   "execution_count": 20,
   "metadata": {},
   "outputs": [
    {
     "data": {
      "text/plain": [
       "(37744, 86)"
      ]
     },
     "execution_count": 20,
     "metadata": {},
     "output_type": "execute_result"
    }
   ],
   "source": [
    "bdmain.shape"
   ]
  },
  {
   "cell_type": "markdown",
   "metadata": {},
   "source": [
    "* <font color=red face=仿宋 size=4>lightgbm测试</font>"
   ]
  },
  {
   "cell_type": "code",
   "execution_count": 277,
   "metadata": {},
   "outputs": [
    {
     "name": "stdout",
     "output_type": "stream",
     "text": [
      "0.9999996363135579\n",
      "0.6756286935582242\n",
      "0.3041020841658079\n"
     ]
    }
   ],
   "source": [
    "train_x.loc[:,cat_feas_info.index] = train_x.astype('category')\n",
    "test_x.loc[:,cat_feas_info.index] = test_x.astype('category')\n",
    "obj_feas = train_x.select_dtypes(include=['object','int']).columns\n",
    "train_x.loc[:,obj_feas] = train_x[obj_feas].astype(float)\n",
    "test_x.loc[:,obj_feas] = test_x[obj_feas].astype(float)\n",
    "\n",
    "from lightgbm import LGBMClassifier\n",
    "lgbc = LGBMClassifier(random_state=123,is_unbalanced=True)\n",
    "lgbc.fit(train_x.drop('tag',axis=1),train_y)\n",
    "\n",
    "predict_train_y = lgbc.predict_proba(train_x.drop('tag',axis=1))[:,1]\n",
    "print(roc_auc_score(train_y,predict_train_y))\n",
    "predict_test_y = lgbc.predict_proba(test_x.drop('tag',axis=1))[:,1]\n",
    "print(roc_auc_score(test_y,predict_test_y))\n",
    "fpr,tpr,_= roc_curve(test_y,predict_test_y)\n",
    "print(abs(fpr-tpr).max())"
   ]
  },
  {
   "cell_type": "code",
   "execution_count": 253,
   "metadata": {},
   "outputs": [
    {
     "data": {
      "text/plain": [
       "array([0.52438307, 0.87572071, 0.58311135, 0.74805788, 0.5806765 ,\n",
       "       0.50213322, 0.82270635, 0.54706411])"
      ]
     },
     "execution_count": 253,
     "metadata": {},
     "output_type": "execute_result"
    }
   ],
   "source": [
    "predict_test_y[predict_test_y>0.5]"
   ]
  },
  {
   "cell_type": "code",
   "execution_count": 321,
   "metadata": {},
   "outputs": [
    {
     "name": "stdout",
     "output_type": "stream",
     "text": [
      "0    26104\n",
      "1      850\n",
      "Name: tag, dtype: int64\n",
      "0.9999972508157415\n",
      "0.677710099055711\n",
      "0.3002297629813456\n"
     ]
    }
   ],
   "source": [
    "# train_x.loc[:,cat_feas_info.index] = train_x.astype('category')\n",
    "# test_x.loc[:,cat_feas_info.index] = test_x.astype('category')\n",
    "labelencode_feas = cat_feas_info.index\n",
    "for f in labelencode_feas:\n",
    "    label_trans = LabelEncoder()\n",
    "    train_x[f] = label_trans.fit_transform(train_x[f])\n",
    "    test_x[f] = label_trans.fit_transform(test_x[f])\n",
    "obj_feas = train_x.select_dtypes(include=['object','int']).columns\n",
    "train_x.loc[:,obj_feas] = train_x[obj_feas].astype(float)\n",
    "test_x.loc[:,obj_feas] = test_x[obj_feas].astype(float)\n",
    "smo = SMOTE(sampling_strategy = {1:850},random_state = 42)\n",
    "x1 = train_x.drop('tag',axis=1)\n",
    "y1 = train_y\n",
    "x1 = x1.fillna(0)\n",
    "y1 = y1.fillna(0)\n",
    "x_smo,y_smo = smo.fit_sample(x1,y1)\n",
    "print(y_smo.value_counts())\n",
    "from lightgbm import LGBMClassifier\n",
    "lgbc = LGBMClassifier(random_state=123)\n",
    "lgbc.fit(x_smo,y_smo)\n",
    "\n",
    "predict_train_y = lgbc.predict_proba(x_smo)[:,1]\n",
    "print(roc_auc_score(y_smo,predict_train_y))\n",
    "predict_test_y = lgbc.predict_proba(test_x.drop('tag',axis=1))[:,1]\n",
    "print(roc_auc_score(test_y,predict_test_y))\n",
    "fpr,tpr,_= roc_curve(test_y,predict_test_y)\n",
    "print(abs(fpr-tpr).max())"
   ]
  },
  {
   "cell_type": "markdown",
   "metadata": {},
   "source": [
    "### 2.2.1 类别  < 4 的特征直接label_encode"
   ]
  },
  {
   "cell_type": "code",
   "execution_count": 352,
   "metadata": {},
   "outputs": [],
   "source": [
    "labelencode_feas = cat_feas_info[cat_feas_info < 4].index"
   ]
  },
  {
   "cell_type": "code",
   "execution_count": 353,
   "metadata": {},
   "outputs": [],
   "source": [
    "for f in labelencode_feas:\n",
    "    label_trans = LabelEncoder()\n",
    "    label_trans.fit(train_x[f])\n",
    "    train_x[f] = label_trans.transform(train_x[f])\n",
    "    test_x[f] = label_trans.transform(test_x[f])"
   ]
  },
  {
   "cell_type": "code",
   "execution_count": 354,
   "metadata": {},
   "outputs": [],
   "source": [
    "lab_bin_dicts = bin_group(train_x,labelencode_feas,'tag')"
   ]
  },
  {
   "cell_type": "markdown",
   "metadata": {},
   "source": [
    "### 2.2.2 类别 >= 4 并且<= 8 的直接分箱"
   ]
  },
  {
   "cell_type": "code",
   "execution_count": 355,
   "metadata": {},
   "outputs": [],
   "source": [
    "woeenc_feas = cat_feas_info[(cat_feas_info >= 4)&(cat_feas_info <= 8)].index"
   ]
  },
  {
   "cell_type": "code",
   "execution_count": 38,
   "metadata": {
    "scrolled": false
   },
   "outputs": [
    {
     "data": {
      "text/plain": [
       "Index(['zxEducation', 'zxCreCardStatus4', 'zxCreCardStatus5',\n",
       "       'zxLoanDelqStatus30Dayyues', 'zxMaritalStatus', 'zxHouseFundPayStatus',\n",
       "       'zxCreCardStatus1', 'zxCreditCardDelqStatus30Dayyues'],\n",
       "      dtype='object')"
      ]
     },
     "execution_count": 38,
     "metadata": {},
     "output_type": "execute_result"
    }
   ],
   "source": [
    "woeenc_feas"
   ]
  },
  {
   "cell_type": "code",
   "execution_count": 356,
   "metadata": {},
   "outputs": [],
   "source": [
    "# badp_bin_dicts = bin_group(train_x,badencode_feas,'tag')\n",
    "# train_x = badrate_ply(train_x,badencode_feas,badp_bin_dicts)\n",
    "# test_x = badrate_ply(test_x,badencode_feas,badp_bin_dicts)\n",
    "woeenc_bin_dicts = bin_group(train_x,woeenc_feas,'tag')"
   ]
  },
  {
   "cell_type": "code",
   "execution_count": 40,
   "metadata": {},
   "outputs": [
    {
     "data": {
      "text/html": [
       "<div>\n",
       "<style scoped>\n",
       "    .dataframe tbody tr th:only-of-type {\n",
       "        vertical-align: middle;\n",
       "    }\n",
       "\n",
       "    .dataframe tbody tr th {\n",
       "        vertical-align: top;\n",
       "    }\n",
       "\n",
       "    .dataframe thead th {\n",
       "        text-align: right;\n",
       "    }\n",
       "</style>\n",
       "<table border=\"1\" class=\"dataframe\">\n",
       "  <thead>\n",
       "    <tr style=\"text-align: right;\">\n",
       "      <th></th>\n",
       "      <th>zxHouseFundPayStatus</th>\n",
       "      <th>total</th>\n",
       "      <th>bad</th>\n",
       "      <th>variable</th>\n",
       "      <th>good</th>\n",
       "      <th>badprob</th>\n",
       "      <th>DistrBad</th>\n",
       "      <th>DistrGood</th>\n",
       "      <th>woe</th>\n",
       "      <th>bin_iv</th>\n",
       "      <th>total_iv</th>\n",
       "    </tr>\n",
       "  </thead>\n",
       "  <tbody>\n",
       "    <tr>\n",
       "      <th>0</th>\n",
       "      <td>missing</td>\n",
       "      <td>16688</td>\n",
       "      <td>233</td>\n",
       "      <td>zxHouseFundPayStatus</td>\n",
       "      <td>16455</td>\n",
       "      <td>0.013962</td>\n",
       "      <td>0.630363</td>\n",
       "      <td>0.737342</td>\n",
       "      <td>-0.156755</td>\n",
       "      <td>0.016769</td>\n",
       "      <td>0.120537</td>\n",
       "    </tr>\n",
       "    <tr>\n",
       "      <th>1</th>\n",
       "      <td>封存</td>\n",
       "      <td>3196</td>\n",
       "      <td>44</td>\n",
       "      <td>zxHouseFundPayStatus</td>\n",
       "      <td>3152</td>\n",
       "      <td>0.013767</td>\n",
       "      <td>0.120748</td>\n",
       "      <td>0.139241</td>\n",
       "      <td>-0.142499</td>\n",
       "      <td>0.002635</td>\n",
       "      <td>0.120537</td>\n",
       "    </tr>\n",
       "    <tr>\n",
       "      <th>2</th>\n",
       "      <td>缴交</td>\n",
       "      <td>5823</td>\n",
       "      <td>31</td>\n",
       "      <td>zxHouseFundPayStatus</td>\n",
       "      <td>5792</td>\n",
       "      <td>0.005324</td>\n",
       "      <td>0.221882</td>\n",
       "      <td>0.098101</td>\n",
       "      <td>0.816144</td>\n",
       "      <td>0.101023</td>\n",
       "      <td>0.120537</td>\n",
       "    </tr>\n",
       "    <tr>\n",
       "      <th>3</th>\n",
       "      <td>销户</td>\n",
       "      <td>713</td>\n",
       "      <td>8</td>\n",
       "      <td>zxHouseFundPayStatus</td>\n",
       "      <td>705</td>\n",
       "      <td>0.011220</td>\n",
       "      <td>0.027007</td>\n",
       "      <td>0.025316</td>\n",
       "      <td>0.064655</td>\n",
       "      <td>0.000109</td>\n",
       "      <td>0.120537</td>\n",
       "    </tr>\n",
       "  </tbody>\n",
       "</table>\n",
       "</div>"
      ],
      "text/plain": [
       "  zxHouseFundPayStatus  total  bad              variable   good   badprob  \\\n",
       "0              missing  16688  233  zxHouseFundPayStatus  16455  0.013962   \n",
       "1                   封存   3196   44  zxHouseFundPayStatus   3152  0.013767   \n",
       "2                   缴交   5823   31  zxHouseFundPayStatus   5792  0.005324   \n",
       "3                   销户    713    8  zxHouseFundPayStatus    705  0.011220   \n",
       "\n",
       "   DistrBad  DistrGood       woe    bin_iv  total_iv  \n",
       "0  0.630363   0.737342 -0.156755  0.016769  0.120537  \n",
       "1  0.120748   0.139241 -0.142499  0.002635  0.120537  \n",
       "2  0.221882   0.098101  0.816144  0.101023  0.120537  \n",
       "3  0.027007   0.025316  0.064655  0.000109  0.120537  "
      ]
     },
     "execution_count": 40,
     "metadata": {},
     "output_type": "execute_result"
    }
   ],
   "source": [
    "woeenc_bin_dicts['zxHouseFundPayStatus']"
   ]
  },
  {
   "cell_type": "code",
   "execution_count": 357,
   "metadata": {},
   "outputs": [],
   "source": [
    "adj_cat_feas = ['zxLoanDelqStatus30Dayyues']\n",
    "adj_cat_bin = {aj:woeenc_bin_dicts[aj] for aj in adj_cat_feas}"
   ]
  },
  {
   "cell_type": "code",
   "execution_count": 358,
   "metadata": {},
   "outputs": [],
   "source": [
    "adj_cat_bin['zxLoanDelqStatus30Dayyues'].loc[7] = ['3',1,0.0001,'zxLoanDelqStatus30Dayyues',1.9999,0.0001,0.000958,7.661571554935121e-05,0,0,0.026033]\n",
    "adj_cat_bin['zxLoanDelqStatus30Dayyues'].loc[8] = ['D',1,0.0001,'zxLoanDelqStatus30Dayyues',1.9999,0.0001,0.000958,7.661571554935121e-05,0,0,0.026033]\n",
    "adj_cat_bin['zxLoanDelqStatus30Dayyues'].loc[9] = ['7',1,0.9999,'zxLoanDelqStatus30Dayyues',0.0001,0.9999,0.007777,3.830977326333877e-09,0,0,0.026033]\n",
    "woeenc_bin_dicts.update(adj_cat_bin)"
   ]
  },
  {
   "cell_type": "markdown",
   "metadata": {},
   "source": [
    "### 2.2.3 类别 > 8 的特征badrate_encode"
   ]
  },
  {
   "cell_type": "code",
   "execution_count": 359,
   "metadata": {},
   "outputs": [],
   "source": [
    "badenc_feas = cat_feas_info[cat_feas_info > 8].index\n",
    "badp_bin_dicts = bin_group(train_x,badenc_feas,'tag')\n",
    "train_x = badrate_ply(train_x,badenc_feas,badp_bin_dicts)\n",
    "test_x = badrate_ply(test_x,badenc_feas,badp_bin_dicts)"
   ]
  },
  {
   "cell_type": "code",
   "execution_count": 44,
   "metadata": {},
   "outputs": [],
   "source": [
    "# break"
   ]
  },
  {
   "cell_type": "markdown",
   "metadata": {},
   "source": [
    "## 2.3 连续特征分箱"
   ]
  },
  {
   "cell_type": "code",
   "execution_count": 360,
   "metadata": {},
   "outputs": [],
   "source": [
    "ext_cat_feas = set(cat_feas_info[cat_feas_info <= 8].index)"
   ]
  },
  {
   "cell_type": "code",
   "execution_count": 361,
   "metadata": {},
   "outputs": [],
   "source": [
    "num_feas = list(set(train_x.columns)-ext_cat_feas - {'tag'})"
   ]
  },
  {
   "cell_type": "code",
   "execution_count": 383,
   "metadata": {},
   "outputs": [
    {
     "ename": "AttributeError",
     "evalue": "'list' object has no attribute 'to_csv'",
     "output_type": "error",
     "traceback": [
      "\u001b[0;31m---------------------------------------------------------------------------\u001b[0m",
      "\u001b[0;31mAttributeError\u001b[0m                            Traceback (most recent call last)",
      "\u001b[0;32m<ipython-input-383-d3d9d3f06e47>\u001b[0m in \u001b[0;36m<module>\u001b[0;34m()\u001b[0m\n\u001b[0;32m----> 1\u001b[0;31m \u001b[0mnum_feas\u001b[0m\u001b[0;34m.\u001b[0m\u001b[0mto_csv\u001b[0m\u001b[0;34m(\u001b[0m\u001b[0;34m'num.csv'\u001b[0m\u001b[0;34m)\u001b[0m\u001b[0;34m\u001b[0m\u001b[0m\n\u001b[0m",
      "\u001b[0;31mAttributeError\u001b[0m: 'list' object has no attribute 'to_csv'"
     ]
    }
   ],
   "source": [
    "name = num_feas\n",
    "num_feas.to_csv('num.csv')"
   ]
  },
  {
   "cell_type": "code",
   "execution_count": 362,
   "metadata": {},
   "outputs": [],
   "source": [
    "train_x.loc[:,num_feas] = train_x[num_feas].astype(float)\n",
    "test_x.loc[:,num_feas] = test_x[num_feas].astype(float)"
   ]
  },
  {
   "cell_type": "code",
   "execution_count": 363,
   "metadata": {
    "scrolled": true
   },
   "outputs": [],
   "source": [
    "num_feas_info = edf.get_features_type(train_x[num_feas])['num_feas']"
   ]
  },
  {
   "cell_type": "code",
   "execution_count": 49,
   "metadata": {},
   "outputs": [],
   "source": [
    "# train_x.to_pickle('train_x.pkl')"
   ]
  },
  {
   "cell_type": "code",
   "execution_count": 364,
   "metadata": {},
   "outputs": [
    {
     "name": "stdout",
     "output_type": "stream",
     "text": [
      "[INFO] creating woe binning ...\n",
      "Binning on 26420 rows and 68 columns in 00:00:18\n"
     ]
    }
   ],
   "source": [
    "rf_bin_dicts = sc.woebin(train_x,y='tag',x=num_feas,method='chimerge',bin_num_limit=6)"
   ]
  },
  {
   "cell_type": "code",
   "execution_count": 381,
   "metadata": {},
   "outputs": [],
   "source": [
    "import xlwt"
   ]
  },
  {
   "cell_type": "code",
   "execution_count": 382,
   "metadata": {},
   "outputs": [
    {
     "data": {
      "text/plain": [
       "{'zx1MthDelqMaxAmt':            variable         bin  count  count_distr   good  bad   badprob  \\\n",
       " 0  zx1MthDelqMaxAmt  [-inf,inf)  26420          1.0  26104  316  0.011961   \n",
       " \n",
       "    woe  bin_iv  total_iv breaks  is_special_values  \n",
       " 0  0.0     0.0       0.0    inf              False  ,\n",
       " 'zxAccountCnt':        variable          bin  count  count_distr   good  bad   badprob  \\\n",
       " 0  zxAccountCnt      missing   2393     0.090575   2359   34  0.014208   \n",
       " 1  zxAccountCnt   [-inf,2.0)   1692     0.064042   1659   33  0.019504   \n",
       " 2  zxAccountCnt   [2.0,15.0)  17710     0.670326  17523  187  0.010559   \n",
       " 3  zxAccountCnt  [15.0,22.0)   3152     0.119304   3103   49  0.015546   \n",
       " 4  zxAccountCnt   [22.0,inf)   1473     0.055753   1460   13  0.008826   \n",
       " \n",
       "         woe    bin_iv  total_iv   breaks  is_special_values  \n",
       " 0  0.174469  0.003005  0.047491  missing               True  \n",
       " 1  0.496639  0.020301  0.047491      2.0              False  \n",
       " 2 -0.126059  0.010022  0.047491     15.0              False  \n",
       " 3  0.265797  0.009620  0.047491     22.0              False  \n",
       " 4 -0.307141  0.004543  0.047491      inf              False  ,\n",
       " 'zxBlanceShouldPayAmt':                variable               bin  count  count_distr  good  bad  \\\n",
       " 0  zxBlanceShouldPayAmt     [-inf,1000.0)   3278     0.124073  3254   24   \n",
       " 1  zxBlanceShouldPayAmt   [1000.0,7000.0)   9081     0.343717  8968  113   \n",
       " 2  zxBlanceShouldPayAmt  [7000.0,12000.0)   4445     0.168244  4374   71   \n",
       " 3  zxBlanceShouldPayAmt     [12000.0,inf)   9616     0.363967  9508  108   \n",
       " \n",
       "     badprob       woe    bin_iv  total_iv   breaks  is_special_values  \n",
       " 0  0.007322 -0.495485  0.024133  0.042883   1000.0              False  \n",
       " 1  0.012444  0.040071  0.000563  0.042883   7000.0              False  \n",
       " 2  0.015973  0.293348  0.016757  0.042883  12000.0              False  \n",
       " 3  0.011231 -0.063656  0.001430  0.042883      inf              False  ,\n",
       " 'zxCareer':    variable          bin  count  count_distr   good  bad   badprob       woe  \\\n",
       " 0  zxCareer  [-inf,0.01)  12079     0.457192  11976  103  0.008527 -0.341829   \n",
       " 1  zxCareer   [0.01,inf)  14341     0.542808  14128  213  0.014853  0.219480   \n",
       " \n",
       "      bin_iv  total_iv breaks  is_special_values  \n",
       " 0  0.045405  0.074559   0.01              False  \n",
       " 1  0.029154  0.074559    inf              False  ,\n",
       " 'zxCommerHouseLoanBlance':                   variable         bin  count  count_distr   good  bad  \\\n",
       " 0  zxCommerHouseLoanBlance     missing     25     0.000946     25    0   \n",
       " 1  zxCommerHouseLoanBlance  [-inf,inf)  26395     0.999054  26079  316   \n",
       " \n",
       "     badprob       woe    bin_iv  total_iv   breaks  is_special_values  \n",
       " 0  0.000000  1.087021  0.002046   0.00205  missing               True  \n",
       " 1  0.011972 -0.001886  0.000004   0.00205      inf              False  ,\n",
       " 'zxCreCardDelqAccoutCnt':                  variable         bin  count  count_distr   good  bad  \\\n",
       " 0  zxCreCardDelqAccoutCnt     missing  16442     0.622332  16228  214   \n",
       " 1  zxCreCardDelqAccoutCnt  [-inf,2.0)   4675     0.176949   4616   59   \n",
       " 2  zxCreCardDelqAccoutCnt   [2.0,inf)   5303     0.200719   5260   43   \n",
       " \n",
       "     badprob       woe    bin_iv  total_iv   breaks  is_special_values  \n",
       " 0  0.013015  0.085584  0.004754  0.030976  missing               True  \n",
       " 1  0.012620  0.054355  0.000537  0.030976      2.0              False  \n",
       " 2  0.008109 -0.392585  0.025685  0.030976      inf              False  ,\n",
       " 'zxCreCardDelqMaxAmt':               variable           bin  count  count_distr   good  bad  \\\n",
       " 0  zxCreCardDelqMaxAmt       missing  16442     0.622332  16228  214   \n",
       " 1  zxCreCardDelqMaxAmt  [-inf,500.0)   2832     0.107192   2793   39   \n",
       " 2  zxCreCardDelqMaxAmt   [500.0,inf)   7146     0.270477   7083   63   \n",
       " \n",
       "     badprob       woe    bin_iv  total_iv   breaks  is_special_values  \n",
       " 0  0.013015  0.085584  0.004754  0.029282  missing               True  \n",
       " 1  0.013771  0.142792  0.002345  0.029282    500.0              False  \n",
       " 2  0.008816 -0.308216  0.022183  0.029282      inf              False  ,\n",
       " 'zxCreCardMaxMonthsCnt':                 variable         bin  count  count_distr   good  bad  \\\n",
       " 0  zxCreCardMaxMonthsCnt     missing  16442     0.622332  16228  214   \n",
       " 1  zxCreCardMaxMonthsCnt  [-inf,inf)   9978     0.377668   9876  102   \n",
       " \n",
       "     badprob       woe    bin_iv  total_iv   breaks  is_special_values  \n",
       " 0  0.013015  0.085584  0.004754  0.013574  missing               True  \n",
       " 1  0.010222 -0.158788  0.008820  0.013574      inf              False  ,\n",
       " 'zxCreCardNowShouldPayAmt':                    variable            bin  count  count_distr   good  bad  \\\n",
       " 0  zxCreCardNowShouldPayAmt        missing   2084     0.078880   2053   31   \n",
       " 1  zxCreCardNowShouldPayAmt  [-inf,1000.0)   5485     0.207608   5437   48   \n",
       " 2  zxCreCardNowShouldPayAmt   [1000.0,inf)  18851     0.713512  18614  237   \n",
       " \n",
       "     badprob       woe    bin_iv  total_iv   breaks  is_special_values  \n",
       " 0  0.014875  0.221031  0.004300  0.023964  missing               True  \n",
       " 1  0.008751 -0.315680  0.017799  0.023964   1000.0              False  \n",
       " 2  0.012572  0.050493  0.001865  0.023964      inf              False  ,\n",
       " 'zxCreCardUseCreditRate':                  variable         bin  count  count_distr   good  bad  \\\n",
       " 0  zxCreCardUseCreditRate     missing   2601     0.098448   2564   37   \n",
       " 1  zxCreCardUseCreditRate  [-inf,0.5)   9852     0.372899   9775   77   \n",
       " 2  zxCreCardUseCreditRate   [0.5,inf)  13967     0.528653  13765  202   \n",
       " \n",
       "     badprob       woe    bin_iv  total_iv   breaks  is_special_values  \n",
       " 0  0.014225  0.175696  0.003315  0.081057  missing               True  \n",
       " 1  0.007816 -0.429676  0.056199  0.081057      0.5              False  \n",
       " 2  0.014463  0.192485  0.021544  0.081057      inf              False  ,\n",
       " 'zxCreditAvgLimit':            variable                bin  count  count_distr   good  bad  \\\n",
       " 0  zxCreditAvgLimit            missing   2486     0.094095   2451   35   \n",
       " 1  zxCreditAvgLimit     [-inf,14000.0)  10539     0.398902  10392  147   \n",
       " 2  zxCreditAvgLimit  [14000.0,28000.0)   8417     0.318584   8340   77   \n",
       " 3  zxCreditAvgLimit  [28000.0,38000.0)   2545     0.096329   2508   37   \n",
       " 4  zxCreditAvgLimit      [38000.0,inf)   2433     0.092089   2413   20   \n",
       " \n",
       "     badprob       woe    bin_iv  total_iv   breaks  is_special_values  \n",
       " 0  0.014079  0.165198  0.002786  0.048972  missing               True  \n",
       " 1  0.013948  0.155743  0.010449  0.048972  14000.0              False  \n",
       " 2  0.009148 -0.270911  0.020541  0.048972  28000.0              False  \n",
       " 3  0.014538  0.197779  0.004156  0.048972  38000.0              False  \n",
       " 4  0.008220 -0.378792  0.011041  0.048972      inf              False  ,\n",
       " 'zxCreditBal':       variable                 bin  count  count_distr  good  bad   badprob  \\\n",
       " 0  zxCreditBal             missing   2084     0.078880  2053   31  0.014875   \n",
       " 1  zxCreditBal      [-inf,20000.0)   8446     0.319682  8363   83  0.009827   \n",
       " 2  zxCreditBal   [20000.0,30000.0)   1827     0.069152  1797   30  0.016420   \n",
       " 3  zxCreditBal   [30000.0,50000.0)   2871     0.108668  2846   25  0.008708   \n",
       " 4  zxCreditBal   [50000.0,90000.0)   4137     0.156586  4076   61  0.014745   \n",
       " 5  zxCreditBal  [90000.0,110000.0)   1515     0.057343  1503   12  0.007921   \n",
       " 6  zxCreditBal      [110000.0,inf)   5540     0.209690  5466   74  0.013357   \n",
       " \n",
       "         woe    bin_iv  total_iv    breaks  is_special_values  \n",
       " 0  0.221031  0.004300  0.052501   missing               True  \n",
       " 1 -0.198630  0.011464  0.052501   20000.0              False  \n",
       " 2  0.321425  0.008388  0.052501   30000.0              False  \n",
       " 3 -0.320692  0.009592  0.052501   50000.0              False  \n",
       " 4  0.212104  0.007825  0.052501   90000.0              False  \n",
       " 5 -0.416210  0.008159  0.052501  110000.0              False  \n",
       " 6  0.111864  0.002772  0.052501       inf              False  ,\n",
       " 'zxCreditCardAccuDelqCnt':                   variable         bin  count  count_distr   good  bad  \\\n",
       " 0  zxCreditCardAccuDelqCnt     missing   2084     0.078880   2053   31   \n",
       " 1  zxCreditCardAccuDelqCnt  [-inf,5.0)  20775     0.786336  20515  260   \n",
       " 2  zxCreditCardAccuDelqCnt   [5.0,inf)   3561     0.134784   3536   25   \n",
       " \n",
       "     badprob       woe    bin_iv  total_iv   breaks  is_special_values  \n",
       " 0  0.014875  0.221031  0.004300  0.036293  missing               True  \n",
       " 1  0.012515  0.045872  0.001692  0.036293      5.0              False  \n",
       " 2  0.007020 -0.537774  0.030300  0.036293      inf              False  ,\n",
       " 'zxCreditCardDelqStatus24Months':                          variable         bin  count  count_distr   good  bad  \\\n",
       " 0  zxCreditCardDelqStatus24Months  [-inf,inf)  26420          1.0  26104  316   \n",
       " \n",
       "     badprob  woe  bin_iv  total_iv breaks  is_special_values  \n",
       " 0  0.011961  0.0     0.0       0.0    inf              False  ,\n",
       " 'zxCreditCardDelqStatus30To60Days':                            variable         bin  count  count_distr   good  \\\n",
       " 0  zxCreditCardDelqStatus30To60Days  [-inf,inf)  26420          1.0  26104   \n",
       " \n",
       "    bad   badprob  woe  bin_iv  total_iv breaks  is_special_values  \n",
       " 0  316  0.011961  0.0     0.0       0.0    inf              False  ,\n",
       " 'zxCreditCardDelqStatus60To90Days':                            variable         bin  count  count_distr   good  \\\n",
       " 0  zxCreditCardDelqStatus60To90Days  [-inf,inf)  26420          1.0  26104   \n",
       " \n",
       "    bad   badprob  woe  bin_iv  total_iv breaks  is_special_values  \n",
       " 0  316  0.011961  0.0     0.0       0.0    inf              False  ,\n",
       " 'zxCreditCardDelqStatus6To12Months':                             variable         bin  count  count_distr   good  \\\n",
       " 0  zxCreditCardDelqStatus6To12Months  [-inf,inf)  26420          1.0  26104   \n",
       " \n",
       "    bad   badprob  woe  bin_iv  total_iv breaks  is_special_values  \n",
       " 0  316  0.011961  0.0     0.0       0.0    inf              False  ,\n",
       " 'zxCreditCardDelqStatus90To180Days':                             variable         bin  count  count_distr   good  \\\n",
       " 0  zxCreditCardDelqStatus90To180Days  [-inf,inf)  26420          1.0  26104   \n",
       " \n",
       "    bad   badprob  woe  bin_iv  total_iv breaks  is_special_values  \n",
       " 0  316  0.011961  0.0     0.0       0.0    inf              False  ,\n",
       " 'zxCreditCardRcyUpdateDate_diff_londt':                                variable          bin  count  count_distr  \\\n",
       " 0  zxCreditCardRcyUpdateDate_diff_londt   [-inf,4.0)   3244     0.122786   \n",
       " 1  zxCreditCardRcyUpdateDate_diff_londt   [4.0,18.0)  11355     0.429788   \n",
       " 2  zxCreditCardRcyUpdateDate_diff_londt  [18.0,30.0)   6020     0.227858   \n",
       " 3  zxCreditCardRcyUpdateDate_diff_londt  [30.0,42.0)   3952     0.149584   \n",
       " 4  zxCreditCardRcyUpdateDate_diff_londt   [42.0,inf)   1849     0.069985   \n",
       " \n",
       "     good  bad   badprob       woe    bin_iv  total_iv breaks  \\\n",
       " 0   3197   47  0.014488  0.194281  0.005102  0.058452    4.0   \n",
       " 1  11234  121  0.010656 -0.116808  0.005542  0.058452   18.0   \n",
       " 2   5929   91  0.015116  0.237350  0.014442  0.058452   30.0   \n",
       " 3   3923   29  0.007338 -0.493214  0.028859  0.058452   42.0   \n",
       " 4   1821   28  0.015143  0.239165  0.004508  0.058452    inf   \n",
       " \n",
       "    is_special_values  \n",
       " 0              False  \n",
       " 1              False  \n",
       " 2              False  \n",
       " 3              False  \n",
       " 4              False  ,\n",
       " 'zxDelqCnt':     variable         bin  count  count_distr   good  bad   badprob  woe  \\\n",
       " 0  zxDelqCnt  [-inf,inf)  26420          1.0  26104  316  0.011961  0.0   \n",
       " \n",
       "    bin_iv  total_iv breaks  is_special_values  \n",
       " 0     0.0       0.0    inf              False  ,\n",
       " 'zxFirstCreCardDate_diff_londt':                         variable              bin  count  count_distr   good  \\\n",
       " 0  zxFirstCreCardDate_diff_londt    [-inf,3400.0)  17636     0.667525  17395   \n",
       " 1  zxFirstCreCardDate_diff_londt  [3400.0,4800.0)   6518     0.246707   6456   \n",
       " 2  zxFirstCreCardDate_diff_londt     [4800.0,inf)   2266     0.085768   2253   \n",
       " \n",
       "    bad   badprob       woe    bin_iv  total_iv  breaks  is_special_values  \n",
       " 0  241  0.013665  0.134960  0.012995  0.058299  3400.0              False  \n",
       " 1   62  0.009512 -0.231529  0.011835  0.058299  4800.0              False  \n",
       " 2   13  0.005737 -0.740967  0.033469  0.058299     inf              False  ,\n",
       " 'zxFirstLoanDate_diff_londt':                      variable             bin  count  count_distr   good  bad  \\\n",
       " 0  zxFirstLoanDate_diff_londt    [-inf,600.0)   2247     0.085049   2216   31   \n",
       " 1  zxFirstLoanDate_diff_londt   [600.0,800.0)   2130     0.080621   2115   15   \n",
       " 2  zxFirstLoanDate_diff_londt  [800.0,3300.0)  17624     0.667070  17388  236   \n",
       " 3  zxFirstLoanDate_diff_londt    [3300.0,inf)   4419     0.167260   4385   34   \n",
       " \n",
       "     badprob       woe    bin_iv  total_iv  breaks  is_special_values  \n",
       " 0  0.013796  0.144630  0.001911  0.055987   600.0              False  \n",
       " 1  0.007042 -0.534658  0.017940  0.055987   800.0              False  \n",
       " 2  0.013391  0.114398  0.009235  0.055987  3300.0              False  \n",
       " 3  0.007694 -0.445483  0.026901  0.055987     inf              False  ,\n",
       " 'zxFirstLoanMonth_diff_londt':                       variable              bin  count  count_distr   good  \\\n",
       " 0  zxFirstLoanMonth_diff_londt     [-inf,800.0)   4208     0.159273   4163   \n",
       " 1  zxFirstLoanMonth_diff_londt   [800.0,1100.0)   4369     0.165367   4300   \n",
       " 2  zxFirstLoanMonth_diff_londt  [1100.0,3500.0)  13824     0.523240  13653   \n",
       " 3  zxFirstLoanMonth_diff_londt     [3500.0,inf)   4019     0.152120   3988   \n",
       " \n",
       "    bad   badprob       woe    bin_iv  total_iv  breaks  is_special_values  \n",
       " 0   45  0.010694 -0.113227  0.001933  0.041882   800.0              False  \n",
       " 1   69  0.015793  0.281838  0.015115  0.041882  1100.0              False  \n",
       " 2  171  0.012370  0.034051  0.000617  0.041882  3500.0              False  \n",
       " 3   31  0.007713 -0.442956  0.024217  0.041882     inf              False  ,\n",
       " 'zxHouseFundCompanyRate':                  variable         bin  count  count_distr   good  bad  \\\n",
       " 0  zxHouseFundCompanyRate     missing  16688     0.631643  16455  233   \n",
       " 1  zxHouseFundCompanyRate  [-inf,0.1)   5371     0.203293   5317   54   \n",
       " 2  zxHouseFundCompanyRate   [0.1,inf)   4361     0.165064   4332   29   \n",
       " \n",
       "     badprob       woe    bin_iv  total_iv   breaks  is_special_values  \n",
       " 0  0.013962  0.156755  0.016769  0.066471  missing               True  \n",
       " 1  0.010054 -0.175579  0.005759  0.066471      0.1              False  \n",
       " 2  0.006650 -0.592387  0.043943  0.066471      inf              False  ,\n",
       " 'zxHouseFundMonthPayAmt':                  variable            bin  count  count_distr   good  bad  \\\n",
       " 0  zxHouseFundMonthPayAmt        missing  16688     0.631643  16455  233   \n",
       " 1  zxHouseFundMonthPayAmt   [-inf,500.0)   4606     0.174338   4548   58   \n",
       " 2  zxHouseFundMonthPayAmt  [500.0,900.0)   1874     0.070931   1860   14   \n",
       " 3  zxHouseFundMonthPayAmt    [900.0,inf)   3252     0.123089   3241   11   \n",
       " \n",
       "     badprob       woe    bin_iv  total_iv   breaks  is_special_values  \n",
       " 0  0.013962  0.156755  0.016769  0.143678  missing               True  \n",
       " 1  0.012592  0.052102  0.000485  0.143678    500.0              False  \n",
       " 2  0.007471 -0.475173  0.012806  0.143678    900.0              False  \n",
       " 3  0.003383 -1.271640  0.113617  0.143678      inf              False  ,\n",
       " 'zxHouseFundMonthShouldPayAmt':                        variable         bin  count  count_distr   good  bad  \\\n",
       " 0  zxHouseFundMonthShouldPayAmt     missing     25     0.000946     25    0   \n",
       " 1  zxHouseFundMonthShouldPayAmt  [-inf,inf)  26395     0.999054  26079  316   \n",
       " \n",
       "     badprob       woe    bin_iv  total_iv   breaks  is_special_values  \n",
       " 0  0.000000  1.087021  0.002046   0.00205  missing               True  \n",
       " 1  0.011972 -0.001886  0.000004   0.00205      inf              False  ,\n",
       " 'zxHouseFundPayLastMonth_diff_londt':                              variable              bin  count  count_distr  \\\n",
       " 0  zxHouseFundPayLastMonth_diff_londt   [-inf,-9500.0)  16900     0.639667   \n",
       " 1  zxHouseFundPayLastMonth_diff_londt  [-9500.0,500.0)   5745     0.217449   \n",
       " 2  zxHouseFundPayLastMonth_diff_londt      [500.0,inf)   3775     0.142884   \n",
       " \n",
       "     good  bad   badprob       woe    bin_iv  total_iv   breaks  \\\n",
       " 0  16665  235  0.013905  0.152621  0.016065    0.0896  -9500.0   \n",
       " 1   5710   35  0.006092 -0.680525  0.073484    0.0896    500.0   \n",
       " 2   3729   46  0.012185  0.018848  0.000051    0.0896      inf   \n",
       " \n",
       "    is_special_values  \n",
       " 0              False  \n",
       " 1              False  \n",
       " 2              False  ,\n",
       " 'zxHouseFundRecordUpdate_diff_londt':                              variable             bin  count  count_distr  \\\n",
       " 0  zxHouseFundRecordUpdate_diff_londt  [-inf,-9500.0)  16688     0.631643   \n",
       " 1  zxHouseFundRecordUpdate_diff_londt   [-9500.0,inf)   9732     0.368357   \n",
       " \n",
       "     good  bad   badprob       woe    bin_iv  total_iv   breaks  \\\n",
       " 0  16455  233  0.013962  0.156755  0.016769  0.053321  -9500.0   \n",
       " 1   9649   83  0.008529 -0.341667  0.036551  0.053321      inf   \n",
       " \n",
       "    is_special_values  \n",
       " 0              False  \n",
       " 1              False  ,\n",
       " 'zxHouseFundSelfRate':               variable         bin  count  count_distr   good  bad   badprob  \\\n",
       " 0  zxHouseFundSelfRate     missing  16688     0.631643  16455  233  0.013962   \n",
       " 1  zxHouseFundSelfRate  [-inf,0.1)   5457     0.206548   5402   55  0.010079   \n",
       " 2  zxHouseFundSelfRate   [0.1,inf)   4275     0.161809   4247   28  0.006550   \n",
       " \n",
       "         woe    bin_iv  total_iv   breaks  is_special_values  \n",
       " 0  0.156755  0.016769  0.067483  missing               True  \n",
       " 1 -0.173090  0.005693  0.067483      0.1              False  \n",
       " 2 -0.607662  0.045020  0.067483      inf              False  ,\n",
       " 'zxHouseLoan1MAvgPayAmt':                  variable            bin  count  count_distr   good  bad  \\\n",
       " 0  zxHouseLoan1MAvgPayAmt        missing  17430     0.659727  17203  227   \n",
       " 1  zxHouseLoan1MAvgPayAmt  [-inf,2800.0)   5638     0.213399   5573   65   \n",
       " 2  zxHouseLoan1MAvgPayAmt   [2800.0,inf)   3352     0.126874   3328   24   \n",
       " \n",
       "     badprob       woe    bin_iv  total_iv   breaks  is_special_values  \n",
       " 0  0.013024  0.086213  0.005116  0.032102  missing               True  \n",
       " 1  0.011529 -0.037200  0.000290  0.032102   2800.0              False  \n",
       " 2  0.007160 -0.517971  0.026697  0.032102      inf              False  ,\n",
       " 'zxIssuBankCnt':         variable         bin  count  count_distr  good  bad   badprob  \\\n",
       " 0  zxIssuBankCnt     missing   2393     0.090575  2359   34  0.014208   \n",
       " 1  zxIssuBankCnt  [-inf,2.0)   3365     0.127366  3312   53  0.015750   \n",
       " 2  zxIssuBankCnt   [2.0,4.0)   7132     0.269947  7070   62  0.008693   \n",
       " 3  zxIssuBankCnt   [4.0,7.0)   7933     0.300265  7830  103  0.012984   \n",
       " 4  zxIssuBankCnt   [7.0,8.0)   1765     0.066805  1751   14  0.007932   \n",
       " 5  zxIssuBankCnt   [8.0,inf)   3832     0.145042  3782   50  0.013048   \n",
       " \n",
       "         woe    bin_iv  total_iv   breaks  is_special_values  \n",
       " 0  0.174469  0.003005  0.051249  missing               True  \n",
       " 1  0.279086  0.011399  0.051249      2.0              False  \n",
       " 2 -0.322380  0.024062  0.051249      4.0              False  \n",
       " 3  0.083113  0.002161  0.051249      7.0              False  \n",
       " 4 -0.414783  0.009446  0.051249      8.0              False  \n",
       " 5  0.088116  0.001176  0.051249      inf              False  ,\n",
       " 'zxLoanBalCnt':        variable          bin  count  count_distr   good  bad   badprob  \\\n",
       " 0  zxLoanBalCnt      missing    807     0.030545    799    8  0.009913   \n",
       " 1  zxLoanBalCnt   [-inf,5.0)   8662     0.327858   8602   60  0.006927   \n",
       " 2  zxLoanBalCnt   [5.0,13.0)  11251     0.425852  11080  171  0.015199   \n",
       " 3  zxLoanBalCnt  [13.0,15.0)   1394     0.052763   1382   12  0.008608   \n",
       " 4  zxLoanBalCnt   [15.0,inf)   4306     0.162983   4241   65  0.015095   \n",
       " \n",
       "         woe    bin_iv  total_iv   breaks  is_special_values  \n",
       " 0 -0.189818  0.001004  0.121508  missing               True  \n",
       " 1 -0.551304  0.076992  0.121508      5.0              False  \n",
       " 2  0.242868  0.028339  0.121508     13.0              False  \n",
       " 3 -0.332279  0.004973  0.121508     15.0              False  \n",
       " 4  0.235935  0.010200  0.121508      inf              False  ,\n",
       " 'zxLoanBalanceAmt':            variable                  bin  count  count_distr  good  bad  \\\n",
       " 0  zxLoanBalanceAmt              missing    807     0.030545   799    8   \n",
       " 1  zxLoanBalanceAmt       [-inf,20000.0)   3593     0.135995  3557   36   \n",
       " 2  zxLoanBalanceAmt   [20000.0,120000.0)   9325     0.352952  9174  151   \n",
       " 3  zxLoanBalanceAmt  [120000.0,580000.0)   8705     0.329485  8609   96   \n",
       " 4  zxLoanBalanceAmt       [580000.0,inf)   3990     0.151022  3965   25   \n",
       " \n",
       "     badprob       woe    bin_iv  total_iv    breaks  is_special_values  \n",
       " 0  0.009913 -0.189818  0.001004   0.09345   missing               True  \n",
       " 1  0.010019 -0.179052  0.004000   0.09345   20000.0              False  \n",
       " 2  0.016193  0.307253  0.038839   0.09345  120000.0              False  \n",
       " 3  0.011028 -0.082114  0.002135   0.09345  580000.0              False  \n",
       " 4  0.006266 -0.652284  0.047472   0.09345       inf              False  ,\n",
       " 'zxLoanCompanyBalCnt':               variable         bin  count  count_distr  good  bad   badprob  \\\n",
       " 0  zxLoanCompanyBalCnt     missing    807     0.030545   799    8  0.009913   \n",
       " 1  zxLoanCompanyBalCnt  [-inf,4.0)   9745     0.368849  9682   63  0.006465   \n",
       " 2  zxLoanCompanyBalCnt   [4.0,7.0)   8553     0.323732  8436  117  0.013679   \n",
       " 3  zxLoanCompanyBalCnt   [7.0,inf)   7315     0.276874  7187  128  0.017498   \n",
       " \n",
       "         woe    bin_iv  total_iv   breaks  is_special_values  \n",
       " 0 -0.189818  0.001004  0.163988  missing               True  \n",
       " 1 -0.620787  0.106486  0.163988      4.0              False  \n",
       " 2  0.136012  0.006404  0.163988      7.0              False  \n",
       " 3  0.386103  0.050094  0.163988      inf              False  ,\n",
       " 'zxLoanDelqStatus30To60Days':                      variable         bin  count  count_distr   good  bad  \\\n",
       " 0  zxLoanDelqStatus30To60Days  [-inf,inf)  26420          1.0  26104  316   \n",
       " \n",
       "     badprob  woe  bin_iv  total_iv breaks  is_special_values  \n",
       " 0  0.011961  0.0     0.0       0.0    inf              False  ,\n",
       " 'zxLoanDelqStatus60To90Days':                      variable         bin  count  count_distr   good  bad  \\\n",
       " 0  zxLoanDelqStatus60To90Days  [-inf,inf)  26420          1.0  26104  316   \n",
       " \n",
       "     badprob  woe  bin_iv  total_iv breaks  is_special_values  \n",
       " 0  0.011961  0.0     0.0       0.0    inf              False  ,\n",
       " 'zxLoanDelqStatus6To12Months':                       variable         bin  count  count_distr   good  bad  \\\n",
       " 0  zxLoanDelqStatus6To12Months  [-inf,inf)  26420          1.0  26104  316   \n",
       " \n",
       "     badprob  woe  bin_iv  total_iv breaks  is_special_values  \n",
       " 0  0.011961  0.0     0.0       0.0    inf              False  ,\n",
       " 'zxLoanDelqStatus90To180Days':                       variable         bin  count  count_distr   good  bad  \\\n",
       " 0  zxLoanDelqStatus90To180Days  [-inf,inf)  26420          1.0  26104  316   \n",
       " \n",
       "     badprob  woe  bin_iv  total_iv breaks  is_special_values  \n",
       " 0  0.011961  0.0     0.0       0.0    inf              False  ,\n",
       " 'zxLoanRcyDelqDate_diff_londt':                        variable         bin  count  count_distr   good  bad  \\\n",
       " 0  zxLoanRcyDelqDate_diff_londt  [-inf,inf)  26420          1.0  26104  316   \n",
       " \n",
       "     badprob  woe  bin_iv  total_iv breaks  is_special_values  \n",
       " 0  0.011961  0.0     0.0       0.0    inf              False  ,\n",
       " 'zxLoanRcyUpdateDate_diff_londt':                          variable          bin  count  count_distr   good  \\\n",
       " 0  zxLoanRcyUpdateDate_diff_londt  [-inf,14.0)   8892     0.336563   8779   \n",
       " 1  zxLoanRcyUpdateDate_diff_londt  [14.0,18.0)   2780     0.105223   2733   \n",
       " 2  zxLoanRcyUpdateDate_diff_londt   [18.0,inf)  14748     0.558213  14592   \n",
       " \n",
       "    bad   badprob       woe    bin_iv  total_iv breaks  is_special_values  \n",
       " 0  113  0.012708  0.061372  0.001306  0.024886   14.0              False  \n",
       " 1   47  0.016906  0.351094  0.015461  0.024886   18.0              False  \n",
       " 2  156  0.010578 -0.124271  0.008118  0.024886    inf              False  ,\n",
       " 'zxMaxCreditAmt':          variable             bin  count  count_distr   good  bad   badprob  \\\n",
       " 0  zxMaxCreditAmt         missing   2393     0.090575   2359   34  0.014208   \n",
       " 1  zxMaxCreditAmt  [-inf,15000.0)   4674     0.176911   4598   76  0.016260   \n",
       " 2  zxMaxCreditAmt   [15000.0,inf)  19353     0.732513  19147  206  0.010644   \n",
       " \n",
       "         woe    bin_iv  total_iv   breaks  is_special_values  \n",
       " 0  0.174469  0.003005  0.032674  missing               True  \n",
       " 1  0.311458  0.020047  0.032674  15000.0              False  \n",
       " 2 -0.117924  0.009621  0.032674      inf              False  ,\n",
       " 'zxMaxMonths':       variable         bin  count  count_distr   good  bad   badprob  woe  \\\n",
       " 0  zxMaxMonths  [-inf,inf)  26420          1.0  26104  316  0.011961  0.0   \n",
       " \n",
       "    bin_iv  total_iv breaks  is_special_values  \n",
       " 0     0.0       0.0    inf              False  ,\n",
       " 'zxMaxUpdated_diff_londt':                   variable         bin  count  count_distr   good  bad  \\\n",
       " 0  zxMaxUpdated_diff_londt  [-inf,inf)  26420          1.0  26104  316   \n",
       " \n",
       "     badprob  woe  bin_iv  total_iv breaks  is_special_values  \n",
       " 0  0.011961  0.0     0.0       0.0    inf              False  ,\n",
       " 'zxMinCreditAmt':          variable               bin  count  count_distr   good  bad   badprob  \\\n",
       " 0  zxMinCreditAmt           missing   2393     0.090575   2359   34  0.014208   \n",
       " 1  zxMinCreditAmt     [-inf,1000.0)   4477     0.169455   4436   41  0.009158   \n",
       " 2  zxMinCreditAmt  [1000.0,15000.0)  15856     0.600151  15650  206  0.012992   \n",
       " 3  zxMinCreditAmt     [15000.0,inf)   3694     0.139818   3659   35  0.009475   \n",
       " \n",
       "         woe    bin_iv  total_iv   breaks  is_special_values  \n",
       " 0  0.174469  0.003005  0.025162  missing               True  \n",
       " 1 -0.269835  0.010844  0.025162   1000.0              False  \n",
       " 2  0.083752  0.004386  0.025162  15000.0              False  \n",
       " 3 -0.235495  0.006926  0.025162      inf              False  ,\n",
       " 'zxPersonalLoanCnt':             variable         bin  count  count_distr   good  bad   badprob  \\\n",
       " 0  zxPersonalLoanCnt     missing     25     0.000946     25    0  0.000000   \n",
       " 1  zxPersonalLoanCnt  [-inf,inf)  26395     0.999054  26079  316  0.011972   \n",
       " \n",
       "         woe    bin_iv  total_iv   breaks  is_special_values  \n",
       " 0  1.087021  0.002046   0.00205  missing               True  \n",
       " 1 -0.001886  0.000004   0.00205      inf              False  ,\n",
       " 'zxRcy12MCreCardMaxDelqPeriod':                        variable         bin  count  count_distr   good  bad  \\\n",
       " 0  zxRcy12MCreCardMaxDelqPeriod     missing   2084      0.07888   2053   31   \n",
       " 1  zxRcy12MCreCardMaxDelqPeriod  [-inf,inf)  24336      0.92112  24051  285   \n",
       " \n",
       "     badprob       woe    bin_iv  total_iv   breaks  is_special_values  \n",
       " 0  0.014875  0.221031  0.004300  0.004715  missing               True  \n",
       " 1  0.011711 -0.021341  0.000415  0.004715      inf              False  ,\n",
       " 'zxRcy1MCreCardQueryCnt':                  variable         bin  count  count_distr   good  bad  \\\n",
       " 0  zxRcy1MCreCardQueryCnt  [-inf,1.0)  23255     0.880204  22992  263   \n",
       " 1  zxRcy1MCreCardQueryCnt   [1.0,inf)   3165     0.119796   3112   53   \n",
       " \n",
       "     badprob       woe    bin_iv  total_iv breaks  is_special_values  \n",
       " 0  0.011309 -0.056646  0.002748  0.019306    1.0              False  \n",
       " 1  0.016746  0.341373  0.016559  0.019306    inf              False  ,\n",
       " 'zxRcy1MCreCardQueryCompanyCnt':                         variable         bin  count  count_distr   good  bad  \\\n",
       " 0  zxRcy1MCreCardQueryCompanyCnt  [-inf,1.0)  23255     0.880204  22992  263   \n",
       " 1  zxRcy1MCreCardQueryCompanyCnt   [1.0,inf)   3165     0.119796   3112   53   \n",
       " \n",
       "     badprob       woe    bin_iv  total_iv breaks  is_special_values  \n",
       " 0  0.011309 -0.056646  0.002748  0.019306    1.0              False  \n",
       " 1  0.016746  0.341373  0.016559  0.019306    inf              False  ,\n",
       " 'zxRcy1MLoanQueryCnt':               variable         bin  count  count_distr   good  bad   badprob  \\\n",
       " 0  zxRcy1MLoanQueryCnt  [-inf,1.0)  14217     0.538115  14103  114  0.008019   \n",
       " 1  zxRcy1MLoanQueryCnt   [1.0,3.0)   8967     0.339402   8837  130  0.014498   \n",
       " 2  zxRcy1MLoanQueryCnt   [3.0,4.0)   1785     0.067562   1737   48  0.026891   \n",
       " 3  zxRcy1MLoanQueryCnt   [4.0,inf)   1451     0.054921   1427   24  0.016540   \n",
       " \n",
       "         woe    bin_iv  total_iv breaks  is_special_values  \n",
       " 0 -0.403843  0.072491  0.164145    1.0              False  \n",
       " 1  0.194933  0.014203  0.164145    3.0              False  \n",
       " 2  0.825388  0.070453  0.164145    4.0              False  \n",
       " 3  0.328826  0.006999  0.164145    inf              False  ,\n",
       " 'zxRcy1MLoanQueryCompanyCnt':                      variable         bin  count  count_distr   good  bad  \\\n",
       " 0  zxRcy1MLoanQueryCompanyCnt  [-inf,1.0)  14217     0.538115  14103  114   \n",
       " 1  zxRcy1MLoanQueryCompanyCnt   [1.0,3.0)   9279     0.351211   9149  130   \n",
       " 2  zxRcy1MLoanQueryCompanyCnt   [3.0,inf)   2924     0.110674   2852   72   \n",
       " \n",
       "     badprob       woe    bin_iv  total_iv breaks  is_special_values  \n",
       " 0  0.008019 -0.403843  0.072491  0.169416    1.0              False  \n",
       " 1  0.014010  0.160236  0.009760  0.169416    3.0              False  \n",
       " 2  0.024624  0.734992  0.087165  0.169416    inf              False  ,\n",
       " 'zxRcy24MAcctMaxDelqPeriod':                     variable         bin  count  count_distr   good  bad  \\\n",
       " 0  zxRcy24MAcctMaxDelqPeriod     missing     25     0.000946     25    0   \n",
       " 1  zxRcy24MAcctMaxDelqPeriod  [-inf,1.0)  22974     0.869569  22709  265   \n",
       " 2  zxRcy24MAcctMaxDelqPeriod   [1.0,inf)   3421     0.129485   3370   51   \n",
       " \n",
       "     badprob       woe    bin_iv  total_iv   breaks  is_special_values  \n",
       " 0  0.000000  1.087021  0.002046  0.010396  missing               True  \n",
       " 1  0.011535 -0.039529  0.001333  0.010396      1.0              False  \n",
       " 2  0.014908  0.220415  0.007017  0.010396      inf              False  ,\n",
       " 'zxRcy24MCreCardMaxDelqPeriod':                        variable         bin  count  count_distr   good  bad  \\\n",
       " 0  zxRcy24MCreCardMaxDelqPeriod     missing   2084      0.07888   2053   31   \n",
       " 1  zxRcy24MCreCardMaxDelqPeriod  [-inf,inf)  24336      0.92112  24051  285   \n",
       " \n",
       "     badprob       woe    bin_iv  total_iv   breaks  is_special_values  \n",
       " 0  0.014875  0.221031  0.004300  0.004715  missing               True  \n",
       " 1  0.011711 -0.021341  0.000415  0.004715      inf              False  ,\n",
       " 'zxRcy24MCreCardTotalDelqCnt':                       variable         bin  count  count_distr   good  bad  \\\n",
       " 0  zxRcy24MCreCardTotalDelqCnt     missing   2084      0.07888   2053   31   \n",
       " 1  zxRcy24MCreCardTotalDelqCnt  [-inf,inf)  24336      0.92112  24051  285   \n",
       " \n",
       "     badprob       woe    bin_iv  total_iv   breaks  is_special_values  \n",
       " 0  0.014875  0.221031  0.004300  0.004715  missing               True  \n",
       " 1  0.011711 -0.021341  0.000415  0.004715      inf              False  ,\n",
       " 'zxRcy3MCreCardQueryCnt':                  variable         bin  count  count_distr   good  bad  \\\n",
       " 0  zxRcy3MCreCardQueryCnt  [-inf,1.0)  19336      0.73187  19142  194   \n",
       " 1  zxRcy3MCreCardQueryCnt   [1.0,inf)   7084      0.26813   6962  122   \n",
       " \n",
       "     badprob       woe    bin_iv  total_iv breaks  is_special_values  \n",
       " 0  0.010033 -0.177680  0.021210  0.065367    1.0              False  \n",
       " 1  0.017222  0.369901  0.044156  0.065367    inf              False  ,\n",
       " 'zxRcy3MCreCardQueryCompanyCnt':                         variable         bin  count  count_distr   good  bad  \\\n",
       " 0  zxRcy3MCreCardQueryCompanyCnt  [-inf,1.0)  19336      0.73187  19142  194   \n",
       " 1  zxRcy3MCreCardQueryCompanyCnt   [1.0,inf)   7084      0.26813   6962  122   \n",
       " \n",
       "     badprob       woe    bin_iv  total_iv breaks  is_special_values  \n",
       " 0  0.010033 -0.177680  0.021210  0.065367    1.0              False  \n",
       " 1  0.017222  0.369901  0.044156  0.065367    inf              False  ,\n",
       " 'zxRcy3MLoanQueryCnt':               variable         bin  count  count_distr  good  bad   badprob  \\\n",
       " 0  zxRcy3MLoanQueryCnt  [-inf,1.0)   6073     0.229864  6043   30  0.004940   \n",
       " 1  zxRcy3MLoanQueryCnt   [1.0,2.0)   4892     0.185163  4853   39  0.007972   \n",
       " 2  zxRcy3MLoanQueryCnt   [2.0,4.0)   6465     0.244701  6389   76  0.011756   \n",
       " 3  zxRcy3MLoanQueryCnt   [4.0,inf)   8990     0.340273  8819  171  0.019021   \n",
       " \n",
       "         woe    bin_iv  total_iv breaks  is_special_values  \n",
       " 0 -0.891357  0.121724  0.243175    1.0              False  \n",
       " 1 -0.409689  0.025602  0.243175    2.0              False  \n",
       " 2 -0.017498  0.000074  0.243175    4.0              False  \n",
       " 3  0.471101  0.095774  0.243175    inf              False  ,\n",
       " 'zxRcy3MLoanQueryCompanyCnt':                      variable         bin  count  count_distr  good  bad  \\\n",
       " 0  zxRcy3MLoanQueryCompanyCnt  [-inf,1.0)   6073     0.229864  6043   30   \n",
       " 1  zxRcy3MLoanQueryCompanyCnt   [1.0,2.0)   5446     0.206132  5402   44   \n",
       " 2  zxRcy3MLoanQueryCompanyCnt   [2.0,4.0)   6992     0.264648  6910   82   \n",
       " 3  zxRcy3MLoanQueryCompanyCnt   [4.0,inf)   7909     0.299357  7749  160   \n",
       " \n",
       "     badprob       woe    bin_iv  total_iv breaks  is_special_values  \n",
       " 0  0.004940 -0.891357  0.121724  0.260505    1.0              False  \n",
       " 1  0.008079 -0.396233  0.026825  0.260505    2.0              False  \n",
       " 2  0.011728 -0.019904  0.000104  0.260505    4.0              False  \n",
       " 3  0.020230  0.533956  0.111852  0.260505    inf              False  ,\n",
       " 'zxRcy6MAvgPayAmt':            variable            bin  count  count_distr   good  bad   badprob  \\\n",
       " 0  zxRcy6MAvgPayAmt        missing    807     0.030545    799    8  0.009913   \n",
       " 1  zxRcy6MAvgPayAmt  [-inf,1000.0)   2673     0.101173   2652   21  0.007856   \n",
       " 2  zxRcy6MAvgPayAmt   [1000.0,inf)  22940     0.868282  22653  287  0.012511   \n",
       " \n",
       "         woe    bin_iv  total_iv   breaks  is_special_values  \n",
       " 0 -0.189818  0.001004   0.01776  missing               True  \n",
       " 1 -0.424445  0.014914   0.01776   1000.0              False  \n",
       " 2  0.045536  0.001841   0.01776      inf              False  ,\n",
       " 'zxRcy6MAvgUseCreditAmt':                  variable         bin  count  count_distr   good  bad  \\\n",
       " 0  zxRcy6MAvgUseCreditAmt     missing   2393     0.090575   2359   34   \n",
       " 1  zxRcy6MAvgUseCreditAmt  [-inf,inf)  24027     0.909425  23745  282   \n",
       " \n",
       "     badprob       woe    bin_iv  total_iv   breaks  is_special_values  \n",
       " 0  0.014208  0.174469  0.003005  0.003335  missing               True  \n",
       " 1  0.011737 -0.019119  0.000329  0.003335      inf              False  ,\n",
       " 'zxRcy6MCreCardMaxDelqPeriod':                       variable         bin  count  count_distr   good  bad  \\\n",
       " 0  zxRcy6MCreCardMaxDelqPeriod     missing   2084      0.07888   2053   31   \n",
       " 1  zxRcy6MCreCardMaxDelqPeriod  [-inf,inf)  24336      0.92112  24051  285   \n",
       " \n",
       "     badprob       woe    bin_iv  total_iv   breaks  is_special_values  \n",
       " 0  0.014875  0.221031  0.004300  0.004715  missing               True  \n",
       " 1  0.011711 -0.021341  0.000415  0.004715      inf              False  ,\n",
       " 'zxRcy6MCreCardQueryCnt':                  variable         bin  count  count_distr   good  bad  \\\n",
       " 0  zxRcy6MCreCardQueryCnt  [-inf,2.0)  21412     0.810447  21189  223   \n",
       " 1  zxRcy6MCreCardQueryCnt   [2.0,inf)   5008     0.189553   4915   93   \n",
       " \n",
       "     badprob       woe    bin_iv  total_iv breaks  is_special_values  \n",
       " 0  0.010415 -0.139964  0.014839  0.062192    2.0              False  \n",
       " 1  0.018570  0.446654  0.047354  0.062192    inf              False  ,\n",
       " 'zxRcy6MCreCardQueryCompanyCnt':                         variable         bin  count  count_distr   good  bad  \\\n",
       " 0  zxRcy6MCreCardQueryCompanyCnt  [-inf,2.0)  21792      0.82483  21563  229   \n",
       " 1  zxRcy6MCreCardQueryCompanyCnt   [2.0,inf)   4628      0.17517   4541   87   \n",
       " \n",
       "     badprob       woe    bin_iv  total_iv breaks  is_special_values  \n",
       " 0  0.010508 -0.130911  0.013269  0.059803    2.0              False  \n",
       " 1  0.018799  0.459107  0.046534  0.059803    inf              False  ,\n",
       " 'zxRcy6MLoanQueryCnt':               variable         bin  count  count_distr  good  bad   badprob  \\\n",
       " 0  zxRcy6MLoanQueryCnt  [-inf,3.0)   9103     0.344550  9047   56  0.006152   \n",
       " 1  zxRcy6MLoanQueryCnt   [3.0,7.0)   8451     0.319871  8344  107  0.012661   \n",
       " 2  zxRcy6MLoanQueryCnt   [7.0,inf)   8866     0.335579  8713  153  0.017257   \n",
       " \n",
       "         woe    bin_iv  total_iv breaks  is_special_values  \n",
       " 0 -0.670735  0.113596  0.170631    3.0              False  \n",
       " 1  0.057632  0.001093  0.170631    7.0              False  \n",
       " 2  0.371968  0.055943  0.170631    inf              False  ,\n",
       " 'zxRcy6MLoanQueryCompanyCnt':                      variable         bin  count  count_distr  good  bad  \\\n",
       " 0  zxRcy6MLoanQueryCompanyCnt  [-inf,2.0)   6788     0.256927  6749   39   \n",
       " 1  zxRcy6MLoanQueryCompanyCnt   [2.0,4.0)   6536     0.247388  6475   61   \n",
       " 2  zxRcy6MLoanQueryCompanyCnt   [4.0,7.0)   6535     0.247350  6446   89   \n",
       " 3  zxRcy6MLoanQueryCompanyCnt   [7.0,inf)   6561     0.248335  6434  127   \n",
       " \n",
       "     badprob       woe    bin_iv  total_iv breaks  is_special_values  \n",
       " 0  0.005745 -0.739486  0.099923  0.194273    2.0              False  \n",
       " 1  0.009333 -0.250728  0.013792  0.194273    4.0              False  \n",
       " 2  0.013619  0.131523  0.004565  0.194273    7.0              False  \n",
       " 3  0.019357  0.488937  0.075992  0.194273    inf              False  ,\n",
       " 'zxRcyQueryDate_diff_londt':                     variable         bin  count  count_distr   good  bad  \\\n",
       " 0  zxRcyQueryDate_diff_londt  [-inf,inf)  26420          1.0  26104  316   \n",
       " \n",
       "     badprob  woe  bin_iv  total_iv breaks  is_special_values  \n",
       " 0  0.011961  0.0     0.0       0.0    inf              False  ,\n",
       " 'zxTotalCreditAmt':            variable             bin  count  count_distr   good  bad   badprob  \\\n",
       " 0  zxTotalCreditAmt         missing   2393     0.090575   2359   34  0.014208   \n",
       " 1  zxTotalCreditAmt  [-inf,10000.0)   2134     0.080772   2096   38  0.017807   \n",
       " 2  zxTotalCreditAmt   [10000.0,inf)  21893     0.828653  21649  244  0.011145   \n",
       " \n",
       "         woe    bin_iv  total_iv   breaks  is_special_values  \n",
       " 0  0.174469  0.003005   0.02323  missing               True  \n",
       " 1  0.403902  0.016139   0.02323  10000.0              False  \n",
       " 2 -0.071445  0.004086   0.02323      inf              False  ,\n",
       " 'zxUseCreditAmt':          variable                 bin  count  count_distr  good  bad  \\\n",
       " 0  zxUseCreditAmt             missing   2393     0.090575  2359   34   \n",
       " 1  zxUseCreditAmt      [-inf,20000.0)   8134     0.307873  8054   80   \n",
       " 2  zxUseCreditAmt   [20000.0,30000.0)   1828     0.069190  1798   30   \n",
       " 3  zxUseCreditAmt   [30000.0,50000.0)   2872     0.108706  2847   25   \n",
       " 4  zxUseCreditAmt   [50000.0,90000.0)   4134     0.156472  4073   61   \n",
       " 5  zxUseCreditAmt  [90000.0,110000.0)   1519     0.057494  1507   12   \n",
       " 6  zxUseCreditAmt      [110000.0,inf)   5540     0.209690  5466   74   \n",
       " \n",
       "     badprob       woe    bin_iv  total_iv    breaks  is_special_values  \n",
       " 0  0.014208  0.174469  0.003005  0.050858   missing               True  \n",
       " 1  0.009835 -0.197796  0.010952  0.050858   20000.0              False  \n",
       " 2  0.016411  0.320869  0.008361  0.050858   30000.0              False  \n",
       " 3  0.008705 -0.321044  0.009615  0.050858   50000.0              False  \n",
       " 4  0.014756  0.212840  0.007877  0.050858   90000.0              False  \n",
       " 5  0.007900 -0.418868  0.008275  0.050858  110000.0              False  \n",
       " 6  0.013357  0.111864  0.002772  0.050858       inf              False  }"
      ]
     },
     "execution_count": 382,
     "metadata": {},
     "output_type": "execute_result"
    }
   ],
   "source": [
    "rf_bin_dicts"
   ]
  },
  {
   "cell_type": "code",
   "execution_count": 303,
   "metadata": {},
   "outputs": [
    {
     "data": {
      "image/png": "[encoded data removed]",
      "text/plain": [
       "<Figure size 432x288 with 2 Axes>"
      ]
     },
     "metadata": {},
     "output_type": "display_data"
    }
   ],
   "source": [
    "sc.woebin_plot(rf_bin_dicts,x=['zxLoanCompanyBalCnt'])\n",
    "plt.savefig('badprob.png',bbox_inches = 'tight')"
   ]
  },
  {
   "cell_type": "code",
   "execution_count": 298,
   "metadata": {},
   "outputs": [
    {
     "name": "stdout",
     "output_type": "stream",
     "text": [
      "[INFO] creating woe binning ...\n"
     ]
    },
    {
     "data": {
      "text/plain": [
       "{'zxAccountCnt':        variable         bin  count  count_distr   good  bad   badprob  \\\n",
       " 0  zxAccountCnt     missing   2393     0.090575   2359   34  0.014208   \n",
       " 1  zxAccountCnt  [-inf,5.0)   7461     0.282400   7368   93  0.012465   \n",
       " 2  zxAccountCnt  [5.0,15.0)  11941     0.451968  11814  127  0.010636   \n",
       " 3  zxAccountCnt  [15.0,inf)   4625     0.175057   4563   62  0.013405   \n",
       " \n",
       "         woe    bin_iv  total_iv   breaks  is_special_values  \n",
       " 0  0.174469  0.003005  0.011999  missing               True  \n",
       " 1  0.041800  0.000504  0.011999      5.0              False  \n",
       " 2 -0.118752  0.006018  0.011999     15.0              False  \n",
       " 3  0.115500  0.002472  0.011999      inf              False  }"
      ]
     },
     "execution_count": 298,
     "metadata": {},
     "output_type": "execute_result"
    }
   ],
   "source": [
    "sc.woebin(train_x,y='tag',x='zxAccountCnt',breaks_list={'zxAccountCnt':[5,15]})"
   ]
  },
  {
   "cell_type": "markdown",
   "metadata": {},
   "source": [
    "## 2.4 按照IV值与badprob单调性筛选特征"
   ]
  },
  {
   "cell_type": "code",
   "execution_count": 365,
   "metadata": {},
   "outputs": [],
   "source": [
    "all_bin_df_dicts = {**rf_bin_dicts,**lab_bin_dicts,**woeenc_bin_dicts}\n",
    "feas_info = fef.filter_fea(all_bin_df_dicts)"
   ]
  },
  {
   "cell_type": "code",
   "execution_count": 66,
   "metadata": {
    "scrolled": false
   },
   "outputs": [
    {
     "data": {
      "image/png": "[encoded data removed]",
      "text/plain": [
       "<Figure size 720x432 with 1 Axes>"
      ]
     },
     "metadata": {},
     "output_type": "display_data"
    }
   ],
   "source": [
    "sele_feas = set(feas_info[feas_info['iv'] > 0.01].sort_values('iv',ascending=False).index)\n",
    "# sele_feas = set(feas_info.index)-iv_drop_feas\n",
    "feas_info.reindex(sele_feas).plot.bar(figsize=(10,6))\n",
    "plt.savefig('IV.png',bbox_inches = 'tight')"
   ]
  },
  {
   "cell_type": "code",
   "execution_count": 366,
   "metadata": {},
   "outputs": [],
   "source": [
    "train_x = train_x[sele_feas]\n",
    "test_x = test_x[sele_feas]"
   ]
  },
  {
   "cell_type": "markdown",
   "metadata": {},
   "source": [
    "## 2.5 特征woe编码"
   ]
  },
  {
   "cell_type": "code",
   "execution_count": 367,
   "metadata": {
    "scrolled": true
   },
   "outputs": [
    {
     "name": "stdout",
     "output_type": "stream",
     "text": [
      "[INFO] converting into woe values ...\n",
      "[INFO] converting into woe values ...\n"
     ]
    }
   ],
   "source": [
    "train_x_woe = sc.woebin_ply(train_x,rf_bin_dicts)\n",
    "test_x_woe = sc.woebin_ply(test_x,rf_bin_dicts)"
   ]
  },
  {
   "cell_type": "code",
   "execution_count": 368,
   "metadata": {},
   "outputs": [],
   "source": [
    "labsele_feas = sele_feas & set(labelencode_feas)\n",
    "train_x_woe = sc.lab_woe_ply(train_x_woe,labsele_feas,lab_bin_dicts)\n",
    "test_x_woe = sc.lab_woe_ply(test_x_woe,labsele_feas,lab_bin_dicts)"
   ]
  },
  {
   "cell_type": "code",
   "execution_count": 369,
   "metadata": {},
   "outputs": [],
   "source": [
    "woesele_feas = sele_feas & set(woeenc_feas)\n",
    "train_x_woe = sc.lab_woe_ply(train_x_woe,woesele_feas,woeenc_bin_dicts)\n",
    "test_x_woe = sc.lab_woe_ply(test_x_woe,woesele_feas,woeenc_bin_dicts)"
   ]
  },
  {
   "cell_type": "code",
   "execution_count": 370,
   "metadata": {},
   "outputs": [],
   "source": [
    "train_x_woe = train_x_woe.astype(float)\n",
    "test_x_woe = test_x_woe.astype(float)"
   ]
  },
  {
   "cell_type": "markdown",
   "metadata": {},
   "source": [
    "## 2.6 相关性筛选"
   ]
  },
  {
   "cell_type": "code",
   "execution_count": 58,
   "metadata": {
    "scrolled": true
   },
   "outputs": [],
   "source": [
    "# fs = FeatureSelector(train_x_woe,labels=train_y)\n",
    "# fs.identify_collinear(0.7)\n",
    "# fs.identify_single_unique()\n",
    "# fs_drop_feas = fs.check_removal()\n",
    "# train_x_woe.drop(fs_drop_feas,axis=1,inplace=True)\n",
    "# test_x_woe.drop(fs_drop_feas,axis=1,inplace=True)"
   ]
  },
  {
   "cell_type": "code",
   "execution_count": 59,
   "metadata": {
    "scrolled": false
   },
   "outputs": [
    {
     "data": {
      "text/html": [
       "<div>\n",
       "<style scoped>\n",
       "    .dataframe tbody tr th:only-of-type {\n",
       "        vertical-align: middle;\n",
       "    }\n",
       "\n",
       "    .dataframe tbody tr th {\n",
       "        vertical-align: top;\n",
       "    }\n",
       "\n",
       "    .dataframe thead th {\n",
       "        text-align: right;\n",
       "    }\n",
       "</style>\n",
       "<table border=\"1\" class=\"dataframe\">\n",
       "  <thead>\n",
       "    <tr style=\"text-align: right;\">\n",
       "      <th></th>\n",
       "      <th>variable</th>\n",
       "      <th>bin</th>\n",
       "      <th>count</th>\n",
       "      <th>count_distr</th>\n",
       "      <th>good</th>\n",
       "      <th>bad</th>\n",
       "      <th>badprob</th>\n",
       "      <th>woe</th>\n",
       "      <th>bin_iv</th>\n",
       "      <th>total_iv</th>\n",
       "      <th>breaks</th>\n",
       "      <th>is_special_values</th>\n",
       "    </tr>\n",
       "  </thead>\n",
       "  <tbody>\n",
       "    <tr>\n",
       "      <th>0</th>\n",
       "      <td>zxHouseFundMonthPayAmt</td>\n",
       "      <td>missing</td>\n",
       "      <td>16688</td>\n",
       "      <td>0.631643</td>\n",
       "      <td>16455</td>\n",
       "      <td>233</td>\n",
       "      <td>0.013962</td>\n",
       "      <td>0.156755</td>\n",
       "      <td>0.016769</td>\n",
       "      <td>0.143678</td>\n",
       "      <td>missing</td>\n",
       "      <td>True</td>\n",
       "    </tr>\n",
       "    <tr>\n",
       "      <th>1</th>\n",
       "      <td>zxHouseFundMonthPayAmt</td>\n",
       "      <td>[-inf,500.0)</td>\n",
       "      <td>4606</td>\n",
       "      <td>0.174338</td>\n",
       "      <td>4548</td>\n",
       "      <td>58</td>\n",
       "      <td>0.012592</td>\n",
       "      <td>0.052102</td>\n",
       "      <td>0.000485</td>\n",
       "      <td>0.143678</td>\n",
       "      <td>500.0</td>\n",
       "      <td>False</td>\n",
       "    </tr>\n",
       "    <tr>\n",
       "      <th>2</th>\n",
       "      <td>zxHouseFundMonthPayAmt</td>\n",
       "      <td>[500.0,900.0)</td>\n",
       "      <td>1874</td>\n",
       "      <td>0.070931</td>\n",
       "      <td>1860</td>\n",
       "      <td>14</td>\n",
       "      <td>0.007471</td>\n",
       "      <td>-0.475173</td>\n",
       "      <td>0.012806</td>\n",
       "      <td>0.143678</td>\n",
       "      <td>900.0</td>\n",
       "      <td>False</td>\n",
       "    </tr>\n",
       "    <tr>\n",
       "      <th>3</th>\n",
       "      <td>zxHouseFundMonthPayAmt</td>\n",
       "      <td>[900.0,inf)</td>\n",
       "      <td>3252</td>\n",
       "      <td>0.123089</td>\n",
       "      <td>3241</td>\n",
       "      <td>11</td>\n",
       "      <td>0.003383</td>\n",
       "      <td>-1.271640</td>\n",
       "      <td>0.113617</td>\n",
       "      <td>0.143678</td>\n",
       "      <td>inf</td>\n",
       "      <td>False</td>\n",
       "    </tr>\n",
       "  </tbody>\n",
       "</table>\n",
       "</div>"
      ],
      "text/plain": [
       "                 variable            bin  count  count_distr   good  bad  \\\n",
       "0  zxHouseFundMonthPayAmt        missing  16688     0.631643  16455  233   \n",
       "1  zxHouseFundMonthPayAmt   [-inf,500.0)   4606     0.174338   4548   58   \n",
       "2  zxHouseFundMonthPayAmt  [500.0,900.0)   1874     0.070931   1860   14   \n",
       "3  zxHouseFundMonthPayAmt    [900.0,inf)   3252     0.123089   3241   11   \n",
       "\n",
       "    badprob       woe    bin_iv  total_iv   breaks  is_special_values  \n",
       "0  0.013962  0.156755  0.016769  0.143678  missing               True  \n",
       "1  0.012592  0.052102  0.000485  0.143678    500.0              False  \n",
       "2  0.007471 -0.475173  0.012806  0.143678    900.0              False  \n",
       "3  0.003383 -1.271640  0.113617  0.143678      inf              False  "
      ]
     },
     "execution_count": 59,
     "metadata": {},
     "output_type": "execute_result"
    }
   ],
   "source": [
    "all_bin_df_dicts['zxHouseFundMonthPayAmt']"
   ]
  },
  {
   "cell_type": "code",
   "execution_count": 60,
   "metadata": {
    "scrolled": true
   },
   "outputs": [
    {
     "data": {
      "text/html": [
       "<div>\n",
       "<style scoped>\n",
       "    .dataframe tbody tr th:only-of-type {\n",
       "        vertical-align: middle;\n",
       "    }\n",
       "\n",
       "    .dataframe tbody tr th {\n",
       "        vertical-align: top;\n",
       "    }\n",
       "\n",
       "    .dataframe thead th {\n",
       "        text-align: right;\n",
       "    }\n",
       "</style>\n",
       "<table border=\"1\" class=\"dataframe\">\n",
       "  <thead>\n",
       "    <tr style=\"text-align: right;\">\n",
       "      <th></th>\n",
       "      <th>zxHouseFundPayStatus</th>\n",
       "      <th>total</th>\n",
       "      <th>bad</th>\n",
       "      <th>variable</th>\n",
       "      <th>good</th>\n",
       "      <th>badprob</th>\n",
       "      <th>DistrBad</th>\n",
       "      <th>DistrGood</th>\n",
       "      <th>woe</th>\n",
       "      <th>bin_iv</th>\n",
       "      <th>total_iv</th>\n",
       "    </tr>\n",
       "  </thead>\n",
       "  <tbody>\n",
       "    <tr>\n",
       "      <th>0</th>\n",
       "      <td>missing</td>\n",
       "      <td>16688</td>\n",
       "      <td>233</td>\n",
       "      <td>zxHouseFundPayStatus</td>\n",
       "      <td>16455</td>\n",
       "      <td>0.013962</td>\n",
       "      <td>0.630363</td>\n",
       "      <td>0.737342</td>\n",
       "      <td>-0.156755</td>\n",
       "      <td>0.016769</td>\n",
       "      <td>0.120537</td>\n",
       "    </tr>\n",
       "    <tr>\n",
       "      <th>1</th>\n",
       "      <td>封存</td>\n",
       "      <td>3196</td>\n",
       "      <td>44</td>\n",
       "      <td>zxHouseFundPayStatus</td>\n",
       "      <td>3152</td>\n",
       "      <td>0.013767</td>\n",
       "      <td>0.120748</td>\n",
       "      <td>0.139241</td>\n",
       "      <td>-0.142499</td>\n",
       "      <td>0.002635</td>\n",
       "      <td>0.120537</td>\n",
       "    </tr>\n",
       "    <tr>\n",
       "      <th>2</th>\n",
       "      <td>缴交</td>\n",
       "      <td>5823</td>\n",
       "      <td>31</td>\n",
       "      <td>zxHouseFundPayStatus</td>\n",
       "      <td>5792</td>\n",
       "      <td>0.005324</td>\n",
       "      <td>0.221882</td>\n",
       "      <td>0.098101</td>\n",
       "      <td>0.816144</td>\n",
       "      <td>0.101023</td>\n",
       "      <td>0.120537</td>\n",
       "    </tr>\n",
       "    <tr>\n",
       "      <th>3</th>\n",
       "      <td>销户</td>\n",
       "      <td>713</td>\n",
       "      <td>8</td>\n",
       "      <td>zxHouseFundPayStatus</td>\n",
       "      <td>705</td>\n",
       "      <td>0.011220</td>\n",
       "      <td>0.027007</td>\n",
       "      <td>0.025316</td>\n",
       "      <td>0.064655</td>\n",
       "      <td>0.000109</td>\n",
       "      <td>0.120537</td>\n",
       "    </tr>\n",
       "  </tbody>\n",
       "</table>\n",
       "</div>"
      ],
      "text/plain": [
       "  zxHouseFundPayStatus  total  bad              variable   good   badprob  \\\n",
       "0              missing  16688  233  zxHouseFundPayStatus  16455  0.013962   \n",
       "1                   封存   3196   44  zxHouseFundPayStatus   3152  0.013767   \n",
       "2                   缴交   5823   31  zxHouseFundPayStatus   5792  0.005324   \n",
       "3                   销户    713    8  zxHouseFundPayStatus    705  0.011220   \n",
       "\n",
       "   DistrBad  DistrGood       woe    bin_iv  total_iv  \n",
       "0  0.630363   0.737342 -0.156755  0.016769  0.120537  \n",
       "1  0.120748   0.139241 -0.142499  0.002635  0.120537  \n",
       "2  0.221882   0.098101  0.816144  0.101023  0.120537  \n",
       "3  0.027007   0.025316  0.064655  0.000109  0.120537  "
      ]
     },
     "execution_count": 60,
     "metadata": {},
     "output_type": "execute_result"
    }
   ],
   "source": [
    "all_bin_df_dicts['zxHouseFundPayStatus']"
   ]
  },
  {
   "cell_type": "markdown",
   "metadata": {},
   "source": [
    "## 2.7 逐步回归筛选特征"
   ]
  },
  {
   "cell_type": "code",
   "execution_count": 61,
   "metadata": {
    "scrolled": true
   },
   "outputs": [],
   "source": [
    "# step_drop_feas,res = fef.step_logit(train_x_woe,train_y)\n",
    "# train_x_woe.drop(step_drop_feas,axis=1,inplace=True)\n",
    "# test_x_woe.drop(step_drop_feas,axis=1,inplace=True)"
   ]
  },
  {
   "cell_type": "markdown",
   "metadata": {},
   "source": [
    "## 2.8 lightgbm筛选特征（回选）"
   ]
  },
  {
   "cell_type": "code",
   "execution_count": 62,
   "metadata": {},
   "outputs": [],
   "source": [
    "# lightgbm_feas = {'zxRcy3MLoanQueryCnt','zxCreCardUseCreditRate','zxHouseFundPayStatus','zxRcy6MLoanQueryCompanyCnt','zxLoanCompanyBalCnt',\n",
    "#                 'zxHouseFundMonthPayAmt','zxLoanBalCnt','zxLoanBalanceAmt','zxCreditCardAccuDelqCnt','zxLoanRcyDelqDate_diff_londt',\n",
    "#                  'zxFirstLoanDate_diff_londt','zxFirstLoanMonth_diff_londt','zxCreditCardDelqStatus6To12Months'}\n",
    "# lightgbm_feas = {f+'_woe' for f in lightgbm_feas if f in num_feas}\n",
    "# step_drop_feas = set(step_drop_feas)-lightgbm_feas\n",
    "# train_x_woe.drop(step_drop_feas,axis=1,inplace=True)\n",
    "# test_x_woe.drop(step_drop_feas,axis=1,inplace=True)"
   ]
  },
  {
   "cell_type": "markdown",
   "metadata": {},
   "source": [
    "# 三、建立模型"
   ]
  },
  {
   "cell_type": "markdown",
   "metadata": {},
   "source": [
    "## 3.1 逻辑回归"
   ]
  },
  {
   "cell_type": "code",
   "execution_count": 371,
   "metadata": {
    "scrolled": true
   },
   "outputs": [
    {
     "name": "stdout",
     "output_type": "stream",
     "text": [
      "Optimization terminated successfully.\n",
      "         Current function value: 0.063823\n",
      "         Iterations 10\n",
      "                                                         Results: Logit\n",
      "================================================================================================================================\n",
      "Model:                                    Logit                                 Pseudo R-squared:                      0.016    \n",
      "Dependent Variable:                       y                                     AIC:                                   3470.4108\n",
      "Date:                                     2021-02-09 10:26                      BIC:                                   3871.3228\n",
      "No. Observations:                         26420                                 Log-Likelihood:                        -1686.2  \n",
      "Df Model:                                 48                                    LL-Null:                               -1712.8  \n",
      "Df Residuals:                             26371                                 LLR p-value:                           0.28374  \n",
      "Converged:                                1.0000                                Scale:                                 1.0000   \n",
      "No. Iterations:                           10.0000                                                                               \n",
      "--------------------------------------------------------------------------------------------------------------------------------\n",
      "                                          Coef.        Std.Err.          z     P>|z|          [0.025               0.975]       \n",
      "--------------------------------------------------------------------------------------------------------------------------------\n",
      "zxLoanDelqStatus30Dayyues                -0.7818               0.5170  -1.5121 0.1305               -1.7952               0.2315\n",
      "zxCreCardStatus4                         -0.1845               0.8123  -0.2271 0.8203               -1.7766               1.4076\n",
      "zxHouseFundPayStatus                     -0.4733               0.2649  -1.7868 0.0740               -0.9926               0.0459\n",
      "zxMaritalStatus                          -0.0155               0.2260  -0.0686 0.9453               -0.4585               0.4275\n",
      "zxCreCardStatus5                         -0.5032               0.4398  -1.1441 0.2526               -1.3653               0.3588\n",
      "zxEducation                               0.0731               0.3878   0.1884 0.8505               -0.6870               0.8332\n",
      "zxRcy6MAvgPayAmt_woe                     -0.1612               0.5683  -0.2836 0.7768               -1.2750               0.9527\n",
      "zxHouseFundMonthPayAmt_woe               -0.0936               0.2031  -0.4611 0.6447               -0.4916               0.3043\n",
      "zxHouseFundCompanyRate_woe                1.8193               1.9199   0.9476 0.3433               -1.9437               5.5823\n",
      "zxRcy1MLoanQueryCnt_woe                   0.3404               0.5389   0.6316 0.5276               -0.7159               1.3967\n",
      "zxHouseFundSelfRate_woe                  -0.6772               1.8345  -0.3691 0.7120               -4.2729               2.9184\n",
      "zxUseCreditAmt_woe                       -1.3310               1.5835  -0.8406 0.4006               -4.4347               1.7726\n",
      "zxCreditAvgLimit_woe                     -0.0843               0.2844  -0.2964 0.7669               -0.6418               0.4732\n",
      "zxRcy1MCreCardQueryCnt_woe                0.3417                  nan      nan    nan                   nan                  nan\n",
      "zxCreditCardRcyUpdateDate_diff_londt_woe  0.3204               0.2350   1.3633 0.1728               -0.1402               0.7810\n",
      "zxCareer_woe                             -0.3702               0.2071  -1.7876 0.0738               -0.7760               0.0357\n",
      "zxFirstLoanDate_diff_londt_woe            0.6645               0.3392   1.9592 0.0501               -0.0003               1.3293\n",
      "zxCreCardNowShouldPayAmt_woe             -0.7610               0.4563  -1.6678 0.0954               -1.6553               0.1333\n",
      "zxHouseFundPayLastMonth_diff_londt_woe    0.2751               0.3556   0.7735 0.4392               -0.4219               0.9721\n",
      "zxMinCreditAmt_woe                       -0.2519               0.3676  -0.6851 0.4933               -0.9725               0.4687\n",
      "zxHouseFundRecordUpdate_diff_londt_woe   -1.5181               0.5757  -2.6370 0.0084               -2.6465              -0.3898\n",
      "zxMaxCreditAmt_woe                       -0.6591               0.5463  -1.2065 0.2276               -1.7297               0.4116\n",
      "zxRcy6MLoanQueryCnt_woe                   0.1172               0.2894   0.4048 0.6856               -0.4501               0.6844\n",
      "zxHouseLoan1MAvgPayAmt_woe                0.3562               0.3868   0.9210 0.3571               -0.4019               1.1143\n",
      "zxRcy24MAcctMaxDelqPeriod_woe             0.0652               0.6625   0.0984 0.9216               -1.2334               1.3637\n",
      "zxCreditBal_woe                           1.5843               1.5890   0.9970 0.3188               -1.5301               4.6986\n",
      "zxBlanceShouldPayAmt_woe                  0.3636               0.3671   0.9903 0.3220               -0.3560               1.0831\n",
      "zxRcy1MLoanQueryCompanyCnt_woe           -0.4024               0.5514  -0.7298 0.4655               -1.4831               0.6782\n",
      "zxCreCardDelqMaxAmt_woe                   0.0791               0.4824   0.1641 0.8697               -0.8663               1.0245\n",
      "zxRcy6MCreCardQueryCnt_woe               -0.2172                  nan      nan    nan                   nan                  nan\n",
      "zxRcy3MCreCardQueryCompanyCnt_woe         0.0375 420627000557014.5625   0.0000 1.0000 -824413772016857.7500 824413772016857.7500\n",
      "zxCreditCardAccuDelqCnt_woe               0.3576               0.3741   0.9558 0.3392               -0.3757               1.0908\n",
      "zxLoanBalCnt_woe                          0.0942               0.2030   0.4638 0.6428               -0.3038               0.4921\n",
      "zxRcy3MLoanQueryCnt_woe                  -0.0663               0.5065  -0.1309 0.8959               -1.0591               0.9265\n",
      "zxFirstLoanMonth_diff_londt_woe          -0.6016               0.4076  -1.4759 0.1400               -1.4006               0.1973\n",
      "zxCreCardUseCreditRate_woe               -0.1668               0.2157  -0.7732 0.4394               -0.5896               0.2560\n",
      "zxLoanBalanceAmt_woe                     -0.0034               0.2304  -0.0148 0.9882               -0.4549               0.4481\n",
      "zxCreCardMaxMonthsCnt_woe                -0.6970               0.7248  -0.9617 0.3362               -2.1176               0.7236\n",
      "zxLoanCompanyBalCnt_woe                  -0.0684               0.1929  -0.3545 0.7229               -0.4465               0.3097\n",
      "zxRcy3MCreCardQueryCnt_woe                0.0375 420627000557014.6875   0.0000 1.0000 -824413772016858.0000 824413772016858.0000\n",
      "zxRcy6MLoanQueryCompanyCnt_woe           -0.1993               0.3015  -0.6610 0.5086               -0.7901               0.3916\n",
      "zxAccountCnt_woe                         -0.3459               0.3078  -1.1237 0.2611               -0.9493               0.2574\n",
      "zxRcy6MCreCardQueryCompanyCnt_woe         0.4299               0.0718   5.9865 0.0000                0.2891               0.5706\n",
      "zxRcy3MLoanQueryCompanyCnt_woe            0.0641               0.5041   0.1272 0.8988               -0.9239               1.0521\n",
      "zxIssuBankCnt_woe                         0.3483               0.2702   1.2891 0.1974               -0.1813               0.8779\n",
      "zxLoanRcyUpdateDate_diff_londt_woe        0.0443               0.3813   0.1162 0.9075               -0.7030               0.7916\n",
      "zxRcy1MCreCardQueryCompanyCnt_woe         0.3417                  nan      nan    nan                   nan                  nan\n",
      "zxTotalCreditAmt_woe                      0.8189               0.5968   1.3722 0.1700               -0.3508               1.9885\n",
      "zxCreCardDelqAccoutCnt_woe               -0.5342               0.4859  -1.0993 0.2717               -1.4866               0.4182\n",
      "zxFirstCreCardDate_diff_londt_woe        -0.1209               0.2387  -0.5065 0.6125               -0.5887               0.3469\n",
      "_const                                   -4.4580               0.0650 -68.5800 0.0000               -4.5854              -4.3306\n",
      "================================================================================================================================\n",
      "\n",
      "                                                  chi2        P>chi2  df constraint\n",
      "zxLoanDelqStatus30Dayyues                 2.286536e+00  1.305009e-01              1\n",
      "zxCreCardStatus4                          5.159676e-02  8.203077e-01              1\n",
      "zxHouseFundPayStatus                      3.192576e+00  7.397336e-02              1\n",
      "zxMaritalStatus                           4.700797e-03  9.453380e-01              1\n",
      "zxCreCardStatus5                          1.309066e+00  2.525637e-01              1\n",
      "zxEducation                               3.550389e-02  8.505437e-01              1\n",
      "zxRcy6MAvgPayAmt_woe                      8.040436e-02  7.767502e-01              1\n",
      "zxHouseFundMonthPayAmt_woe                2.126196e-01  6.447219e-01              1\n",
      "zxHouseFundCompanyRate_woe                8.979226e-01  3.433393e-01              1\n",
      "zxRcy1MLoanQueryCnt_woe                   3.989509e-01  5.276315e-01              1\n",
      "zxHouseFundSelfRate_woe                   1.362673e-01  7.120204e-01              1\n",
      "zxUseCreditAmt_woe                        7.065291e-01  4.005985e-01              1\n",
      "zxCreditAvgLimit_woe                      8.784147e-02  7.669394e-01              1\n",
      "zxRcy1MCreCardQueryCnt_woe               -2.889890e-16  1.000000e+00              1\n",
      "zxCreditCardRcyUpdateDate_diff_londt_woe  1.858691e+00  1.727759e-01              1\n",
      "zxCareer_woe                              3.195442e+00  7.384382e-02              1\n",
      "zxFirstLoanDate_diff_londt_woe            3.838567e+00  5.008632e-02              1\n",
      "zxCreCardNowShouldPayAmt_woe              2.781591e+00  9.535343e-02              1\n",
      "zxHouseFundPayLastMonth_diff_londt_woe    5.983734e-01  4.391993e-01              1\n",
      "zxMinCreditAmt_woe                        4.693865e-01  4.932695e-01              1\n",
      "zxHouseFundRecordUpdate_diff_londt_woe    6.953785e+00  8.364209e-03              1\n",
      "zxMaxCreditAmt_woe                        1.455726e+00  2.276114e-01              1\n",
      "zxRcy6MLoanQueryCnt_woe                   1.638765e-01  6.856123e-01              1\n",
      "zxHouseLoan1MAvgPayAmt_woe                8.482164e-01  3.570574e-01              1\n",
      "zxRcy24MAcctMaxDelqPeriod_woe             9.679082e-03  9.216287e-01              1\n",
      "zxCreditBal_woe                           9.940510e-01  3.187543e-01              1\n",
      "zxBlanceShouldPayAmt_woe                  9.807297e-01  3.220187e-01              1\n",
      "zxRcy1MLoanQueryCompanyCnt_woe            5.326808e-01  4.654820e-01              1\n",
      "zxCreCardDelqMaxAmt_woe                   2.691300e-02  8.696903e-01              1\n",
      "zxRcy6MCreCardQueryCnt_woe               -1.950466e+00  1.000000e+00              1\n",
      "zxRcy3MCreCardQueryCompanyCnt_woe         7.941284e-33  1.000000e+00              1\n",
      "zxCreditCardAccuDelqCnt_woe               9.135945e-01  3.391625e-01              1\n",
      "zxLoanBalCnt_woe                          2.151392e-01  6.427688e-01              1\n",
      "zxRcy3MLoanQueryCnt_woe                   1.712535e-02  8.958830e-01              1\n",
      "zxFirstLoanMonth_diff_londt_woe           2.178292e+00  1.399697e-01              1\n",
      "zxCreCardUseCreditRate_woe                5.978704e-01  4.393917e-01              1\n",
      "zxLoanBalanceAmt_woe                      2.194870e-04  9.881797e-01              1\n",
      "zxCreCardMaxMonthsCnt_woe                 9.247920e-01  3.362199e-01              1\n",
      "zxLoanCompanyBalCnt_woe                   1.256888e-01  7.229446e-01              1\n",
      "zxRcy3MCreCardQueryCnt_woe                7.941282e-33  1.000000e+00              1\n",
      "zxRcy6MLoanQueryCompanyCnt_woe            4.369736e-01  5.085868e-01              1\n",
      "zxAccountCnt_woe                          1.262746e+00  2.611320e-01              1\n",
      "zxRcy6MCreCardQueryCompanyCnt_woe         3.583794e+01  2.144307e-09              1\n",
      "zxRcy3MLoanQueryCompanyCnt_woe            1.618919e-02  8.987530e-01              1\n",
      "zxIssuBankCnt_woe                         1.661697e+00  1.973743e-01              1\n",
      "zxLoanRcyUpdateDate_diff_londt_woe        1.349278e-02  9.075270e-01              1\n",
      "zxRcy1MCreCardQueryCompanyCnt_woe        -2.886533e-16  1.000000e+00              1\n",
      "zxTotalCreditAmt_woe                      1.882847e+00  1.700110e-01              1\n",
      "zxCreCardDelqAccoutCnt_woe                1.208359e+00  2.716573e-01              1\n",
      "zxFirstCreCardDate_diff_londt_woe         2.565525e-01  6.124986e-01              1\n",
      "_const                                    4.703211e+03  0.000000e+00              1\n"
     ]
    }
   ],
   "source": [
    "res = fef.step_logit(train_x_woe,train_y,selection='sample')"
   ]
  },
  {
   "cell_type": "code",
   "execution_count": 372,
   "metadata": {
    "scrolled": true
   },
   "outputs": [],
   "source": [
    "train_x_woe['_const'] = 1\n",
    "test_x_woe['_const'] = 1"
   ]
  },
  {
   "cell_type": "code",
   "execution_count": 373,
   "metadata": {},
   "outputs": [],
   "source": [
    "predict_train_y = res.predict(train_x_woe.values)\n",
    "predict_test_y = res.predict(test_x_woe.values)"
   ]
  },
  {
   "cell_type": "code",
   "execution_count": 374,
   "metadata": {},
   "outputs": [
    {
     "data": {
      "text/plain": [
       "0.61445933646136"
      ]
     },
     "execution_count": 374,
     "metadata": {},
     "output_type": "execute_result"
    }
   ],
   "source": [
    "roc_auc_score(train_y,predict_train_y)"
   ]
  },
  {
   "cell_type": "code",
   "execution_count": 375,
   "metadata": {},
   "outputs": [
    {
     "data": {
      "text/plain": [
       "0.5067890491913605"
      ]
     },
     "execution_count": 375,
     "metadata": {},
     "output_type": "execute_result"
    }
   ],
   "source": [
    "roc_auc_score(test_y,predict_test_y)"
   ]
  },
  {
   "cell_type": "code",
   "execution_count": 376,
   "metadata": {},
   "outputs": [
    {
     "name": "stdout",
     "output_type": "stream",
     "text": [
      "0.6162567960873158\n",
      "0.5055488811541778\n",
      "0.04556089507665778\n"
     ]
    }
   ],
   "source": [
    "lr = LogisticRegression(class_weight = 'balanced')\n",
    "lr.fit(train_x_woe,train_y)\n",
    "predict_train_y = lr.predict_proba(train_x_woe)[:,1]\n",
    "print(roc_auc_score(train_y,predict_train_y))\n",
    "predict_test_y = lr.predict_proba(test_x_woe)[:,1]\n",
    "print(roc_auc_score(test_y,predict_test_y))\n",
    "fpr,tpr,_= roc_curve(test_y,predict_test_y)\n",
    "print(abs(fpr-tpr).max())"
   ]
  },
  {
   "cell_type": "code",
   "execution_count": 379,
   "metadata": {},
   "outputs": [
    {
     "name": "stdout",
     "output_type": "stream",
     "text": [
      "0.6335157785148997\n",
      "0.5067443584512819\n",
      "0.04507718353698287\n"
     ]
    }
   ],
   "source": [
    "smo = SMOTE(sampling_strategy = {1:850},random_state = 42)\n",
    "x_smo,y_smo = smo.fit_sample(train_x_woe,train_y)\n",
    "lr = LogisticRegression()\n",
    "lr.fit(x_smo,y_smo)\n",
    "predict_train_y = lr.predict_proba(x_smo)[:,1]\n",
    "print(roc_auc_score(y_smo,predict_train_y))\n",
    "predict_test_y = lr.predict_proba(test_x_woe)[:,1]\n",
    "print(roc_auc_score(test_y,predict_test_y))\n",
    "fpr,tpr,_= roc_curve(test_y,predict_test_y)\n",
    "print(abs(fpr-tpr).max())"
   ]
  },
  {
   "cell_type": "code",
   "execution_count": null,
   "metadata": {},
   "outputs": [],
   "source": []
  }
 ],
 "metadata": {
  "kernelspec": {
   "display_name": "Python 3",
   "language": "python",
   "name": "python3"
  },
  "language_info": {
   "codemirror_mode": {
    "name": "ipython",
    "version": 3
   },
   "file_extension": ".py",
   "mimetype": "text/x-python",
   "name": "python",
   "nbconvert_exporter": "python",
   "pygments_lexer": "ipython3",
   "version": "3.6.4"
  }
 },
 "nbformat": 4,
 "nbformat_minor": 2
}
