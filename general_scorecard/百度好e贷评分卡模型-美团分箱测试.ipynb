{
 "cells": [
  {
   "cell_type": "code",
   "execution_count": 2,
   "metadata": {},
   "outputs": [],
   "source": [
    "import sys\n",
    "sys.path.append('/mnt/disk05/note/workspaces/duxx')\n",
    "from feature_selector import FeatureSelector\n",
    "from unity import init_pkg as ini\n",
    "from unity.eda_func import EdaFunc as edf\n",
    "from unity.fea_eda_func import FeaEdaFunc as fef\n",
    "from sklearn.preprocessing import LabelEncoder\n",
    "from sklearn.model_selection import train_test_split\n",
    "from sklearn.linear_model import LogisticRegression\n",
    "from sklearn.metrics import roc_auc_score,roc_curve\n",
    "import os\n",
    "import json\n",
    "import datetime\n",
    "import gc\n",
    "import scorecardpy as sc\n",
    "# import pandas_profiling\n",
    "\n",
    "% matplotlib inline"
   ]
  },
  {
   "cell_type": "code",
   "execution_count": 3,
   "metadata": {},
   "outputs": [],
   "source": [
    "datset = ini.pd.read_csv('data/comb_main.csv')\n",
    "datset = datset.assign(gender = lambda x:(x.cert_no.str.get(16).astype(int) % 2 == 0).astype(int),\\\n",
    "              resid_prov = lambda x:x.cert_no.str.slice(0,7).astype(int) // 100000 * 10000)\n",
    "bdmain = datset[datset['type']==3]"
   ]
  },
  {
   "cell_type": "code",
   "execution_count": 4,
   "metadata": {},
   "outputs": [
    {
     "data": {
      "text/html": [
       "<div>\n",
       "<style scoped>\n",
       "    .dataframe tbody tr th:only-of-type {\n",
       "        vertical-align: middle;\n",
       "    }\n",
       "\n",
       "    .dataframe tbody tr th {\n",
       "        vertical-align: top;\n",
       "    }\n",
       "\n",
       "    .dataframe thead th {\n",
       "        text-align: right;\n",
       "    }\n",
       "</style>\n",
       "<table border=\"1\" class=\"dataframe\">\n",
       "  <thead>\n",
       "    <tr style=\"text-align: right;\">\n",
       "      <th></th>\n",
       "      <th>cert_no</th>\n",
       "      <th>LN_CNT_UNSQUARE_LEVEL</th>\n",
       "      <th>CC_LIMIT_MAX_LEVEL</th>\n",
       "      <th>CC_ORG_CNT_LEVEL</th>\n",
       "      <th>qd</th>\n",
       "      <th>CC_DELQ_NOW_OVDUE_MAX_LEVEL</th>\n",
       "      <th>CC_DELQ_NOW_STAT_MAX_LEVEL</th>\n",
       "      <th>CC_LN_QRY_TIMES_L1ST_LEVEL</th>\n",
       "      <th>HOUSE_FUND_MONTH_PAYAMT</th>\n",
       "      <th>tag</th>\n",
       "      <th>CUSTOMER_NO</th>\n",
       "      <th>mobile_no</th>\n",
       "      <th>cust_name(md5)</th>\n",
       "      <th>mobile_no(md5)</th>\n",
       "      <th>zx_cc_now_total_amt_level</th>\n",
       "      <th>zx_ln_now_total_amt_level</th>\n",
       "      <th>zx_cc_use_rate</th>\n",
       "      <th>type</th>\n",
       "      <th>gender</th>\n",
       "      <th>resid_prov</th>\n",
       "    </tr>\n",
       "  </thead>\n",
       "  <tbody>\n",
       "    <tr>\n",
       "      <th>1463</th>\n",
       "      <td>450702199312264810</td>\n",
       "      <td>1002.0</td>\n",
       "      <td>1002.0</td>\n",
       "      <td>1003.0</td>\n",
       "      <td>mt</td>\n",
       "      <td>1002</td>\n",
       "      <td>1003</td>\n",
       "      <td>1002</td>\n",
       "      <td>NaN</td>\n",
       "      <td>0.0</td>\n",
       "      <td>450702199312264810</td>\n",
       "      <td>17707773277</td>\n",
       "      <td>fea65a61c0f6416dd772edbd1d2fc716</td>\n",
       "      <td>3bd2267657accc83eda252e720a7eee7</td>\n",
       "      <td>1.0</td>\n",
       "      <td>1.0</td>\n",
       "      <td>1.0</td>\n",
       "      <td>3</td>\n",
       "      <td>0</td>\n",
       "      <td>450000</td>\n",
       "    </tr>\n",
       "    <tr>\n",
       "      <th>13177</th>\n",
       "      <td>422201199206072236</td>\n",
       "      <td>1003.0</td>\n",
       "      <td>1002.0</td>\n",
       "      <td>1003.0</td>\n",
       "      <td>mt</td>\n",
       "      <td>1002</td>\n",
       "      <td>1003</td>\n",
       "      <td>1002</td>\n",
       "      <td>NaN</td>\n",
       "      <td>0.0</td>\n",
       "      <td>422201199206072236</td>\n",
       "      <td>15549638496</td>\n",
       "      <td>f98cafeeafe2ce4e02fff52ba104b709</td>\n",
       "      <td>9fa8bfc2c5f4983287c2614a05a11e47</td>\n",
       "      <td>1.0</td>\n",
       "      <td>1.0</td>\n",
       "      <td>1.0</td>\n",
       "      <td>3</td>\n",
       "      <td>0</td>\n",
       "      <td>420000</td>\n",
       "    </tr>\n",
       "    <tr>\n",
       "      <th>15558</th>\n",
       "      <td>412728199010114030</td>\n",
       "      <td>1003.0</td>\n",
       "      <td>1002.0</td>\n",
       "      <td>1003.0</td>\n",
       "      <td>mt</td>\n",
       "      <td>1002</td>\n",
       "      <td>1002</td>\n",
       "      <td>1002</td>\n",
       "      <td>NaN</td>\n",
       "      <td>0.0</td>\n",
       "      <td>412728199010114030</td>\n",
       "      <td>18638062671</td>\n",
       "      <td>72ebfc1389c369fce37054b459ca400c</td>\n",
       "      <td>5a5e8cd3849aa97e76d4e0cb076ebdd4</td>\n",
       "      <td>1.0</td>\n",
       "      <td>1.0</td>\n",
       "      <td>1.0</td>\n",
       "      <td>3</td>\n",
       "      <td>0</td>\n",
       "      <td>410000</td>\n",
       "    </tr>\n",
       "    <tr>\n",
       "      <th>22105</th>\n",
       "      <td>350426199609014522</td>\n",
       "      <td>1002.0</td>\n",
       "      <td>1002.0</td>\n",
       "      <td>1003.0</td>\n",
       "      <td>mt</td>\n",
       "      <td>1002</td>\n",
       "      <td>1003</td>\n",
       "      <td>1002</td>\n",
       "      <td>NaN</td>\n",
       "      <td>0.0</td>\n",
       "      <td>350426199609014522</td>\n",
       "      <td>18659438096</td>\n",
       "      <td>961f561b314c032c3fed940ecb761358</td>\n",
       "      <td>09cecaa4730ba312527bf63fae837359</td>\n",
       "      <td>1.0</td>\n",
       "      <td>1.0</td>\n",
       "      <td>1.0</td>\n",
       "      <td>3</td>\n",
       "      <td>1</td>\n",
       "      <td>350000</td>\n",
       "    </tr>\n",
       "    <tr>\n",
       "      <th>26086</th>\n",
       "      <td>520103197712202013</td>\n",
       "      <td>1002.0</td>\n",
       "      <td>1003.0</td>\n",
       "      <td>1003.0</td>\n",
       "      <td>mt</td>\n",
       "      <td>1002</td>\n",
       "      <td>1002</td>\n",
       "      <td>1002</td>\n",
       "      <td>NaN</td>\n",
       "      <td>0.0</td>\n",
       "      <td>520103197712202013</td>\n",
       "      <td>18198235828</td>\n",
       "      <td>1e49b429ec5ed48dfef0be87ebcef500</td>\n",
       "      <td>5c448515bc1049e8aa7cead0e425eaa6</td>\n",
       "      <td>1.0</td>\n",
       "      <td>1.0</td>\n",
       "      <td>0.0</td>\n",
       "      <td>3</td>\n",
       "      <td>0</td>\n",
       "      <td>520000</td>\n",
       "    </tr>\n",
       "  </tbody>\n",
       "</table>\n",
       "</div>"
      ],
      "text/plain": [
       "                  cert_no  LN_CNT_UNSQUARE_LEVEL  CC_LIMIT_MAX_LEVEL  \\\n",
       "1463   450702199312264810                 1002.0              1002.0   \n",
       "13177  422201199206072236                 1003.0              1002.0   \n",
       "15558  412728199010114030                 1003.0              1002.0   \n",
       "22105  350426199609014522                 1002.0              1002.0   \n",
       "26086  520103197712202013                 1002.0              1003.0   \n",
       "\n",
       "       CC_ORG_CNT_LEVEL  qd  CC_DELQ_NOW_OVDUE_MAX_LEVEL  \\\n",
       "1463             1003.0  mt                         1002   \n",
       "13177            1003.0  mt                         1002   \n",
       "15558            1003.0  mt                         1002   \n",
       "22105            1003.0  mt                         1002   \n",
       "26086            1003.0  mt                         1002   \n",
       "\n",
       "       CC_DELQ_NOW_STAT_MAX_LEVEL  CC_LN_QRY_TIMES_L1ST_LEVEL  \\\n",
       "1463                         1003                        1002   \n",
       "13177                        1003                        1002   \n",
       "15558                        1002                        1002   \n",
       "22105                        1003                        1002   \n",
       "26086                        1002                        1002   \n",
       "\n",
       "       HOUSE_FUND_MONTH_PAYAMT  tag         CUSTOMER_NO    mobile_no  \\\n",
       "1463                       NaN  0.0  450702199312264810  17707773277   \n",
       "13177                      NaN  0.0  422201199206072236  15549638496   \n",
       "15558                      NaN  0.0  412728199010114030  18638062671   \n",
       "22105                      NaN  0.0  350426199609014522  18659438096   \n",
       "26086                      NaN  0.0  520103197712202013  18198235828   \n",
       "\n",
       "                         cust_name(md5)                    mobile_no(md5)  \\\n",
       "1463   fea65a61c0f6416dd772edbd1d2fc716  3bd2267657accc83eda252e720a7eee7   \n",
       "13177  f98cafeeafe2ce4e02fff52ba104b709  9fa8bfc2c5f4983287c2614a05a11e47   \n",
       "15558  72ebfc1389c369fce37054b459ca400c  5a5e8cd3849aa97e76d4e0cb076ebdd4   \n",
       "22105  961f561b314c032c3fed940ecb761358  09cecaa4730ba312527bf63fae837359   \n",
       "26086  1e49b429ec5ed48dfef0be87ebcef500  5c448515bc1049e8aa7cead0e425eaa6   \n",
       "\n",
       "       zx_cc_now_total_amt_level  zx_ln_now_total_amt_level  zx_cc_use_rate  \\\n",
       "1463                         1.0                        1.0             1.0   \n",
       "13177                        1.0                        1.0             1.0   \n",
       "15558                        1.0                        1.0             1.0   \n",
       "22105                        1.0                        1.0             1.0   \n",
       "26086                        1.0                        1.0             0.0   \n",
       "\n",
       "       type  gender  resid_prov  \n",
       "1463      3       0      450000  \n",
       "13177     3       0      420000  \n",
       "15558     3       0      410000  \n",
       "22105     3       1      350000  \n",
       "26086     3       0      520000  "
      ]
     },
     "execution_count": 4,
     "metadata": {},
     "output_type": "execute_result"
    }
   ],
   "source": [
    "bdmain.head()"
   ]
  },
  {
   "cell_type": "code",
   "execution_count": 5,
   "metadata": {},
   "outputs": [],
   "source": [
    "train_x = bdmain.loc[:,~bdmain.columns.str.contains('cert_no|type|tag|md5|CUS|mobile_no|qd|PAYAMT')]\n",
    "train_y = bdmain['tag']"
   ]
  },
  {
   "cell_type": "code",
   "execution_count": 6,
   "metadata": {},
   "outputs": [
    {
     "data": {
      "text/plain": [
       "LN_CNT_UNSQUARE_LEVEL           True\n",
       "CC_LIMIT_MAX_LEVEL              True\n",
       "CC_ORG_CNT_LEVEL                True\n",
       "CC_DELQ_NOW_OVDUE_MAX_LEVEL    False\n",
       "CC_DELQ_NOW_STAT_MAX_LEVEL     False\n",
       "CC_LN_QRY_TIMES_L1ST_LEVEL     False\n",
       "zx_cc_now_total_amt_level       True\n",
       "zx_ln_now_total_amt_level       True\n",
       "zx_cc_use_rate                 False\n",
       "gender                         False\n",
       "resid_prov                     False\n",
       "dtype: bool"
      ]
     },
     "execution_count": 6,
     "metadata": {},
     "output_type": "execute_result"
    }
   ],
   "source": [
    "train_x.isnull().any()"
   ]
  },
  {
   "cell_type": "code",
   "execution_count": 7,
   "metadata": {},
   "outputs": [],
   "source": [
    "train_x = train_x.drop('CC_LN_QRY_TIMES_L1ST_LEVEL',axis=1)"
   ]
  },
  {
   "cell_type": "code",
   "execution_count": 8,
   "metadata": {},
   "outputs": [],
   "source": [
    "train_x.loc[:,['zx_cc_now_total_amt_level','zx_ln_now_total_amt_level']] = train_x.fillna(-99)\n",
    "train_x.loc[:,['LN_CNT_UNSQUARE_LEVEL','CC_LIMIT_MAX_LEVEL','CC_ORG_CNT_LEVEL']] = train_x.fillna(1001)"
   ]
  },
  {
   "cell_type": "code",
   "execution_count": 9,
   "metadata": {},
   "outputs": [
    {
     "data": {
      "text/plain": [
       "LN_CNT_UNSQUARE_LEVEL             501547.4\n",
       "CC_LIMIT_MAX_LEVEL                501327.4\n",
       "CC_ORG_CNT_LEVEL                  502878.4\n",
       "CC_DELQ_NOW_OVDUE_MAX_LEVEL       501006.3\n",
       "CC_DELQ_NOW_STAT_MAX_LEVEL        500509.8\n",
       "zx_cc_now_total_amt_level          -3520.0\n",
       "zx_ln_now_total_amt_level            430.0\n",
       "zx_cc_use_rate                     -4560.9\n",
       "gender                               132.4\n",
       "resid_prov                     186840000.0\n",
       "dtype: float64"
      ]
     },
     "execution_count": 9,
     "metadata": {},
     "output_type": "execute_result"
    }
   ],
   "source": [
    "train_x.sum()/10"
   ]
  },
  {
   "cell_type": "code",
   "execution_count": 10,
   "metadata": {},
   "outputs": [
    {
     "data": {
      "text/plain": [
       "LogisticRegression(class_weight='balanced')"
      ]
     },
     "execution_count": 10,
     "metadata": {},
     "output_type": "execute_result"
    }
   ],
   "source": [
    "res = LogisticRegression(class_weight='balanced')\n",
    "res.fit(train_x,train_y)"
   ]
  },
  {
   "cell_type": "code",
   "execution_count": 11,
   "metadata": {},
   "outputs": [
    {
     "data": {
      "text/plain": [
       "0.5260642156013844"
      ]
     },
     "execution_count": 11,
     "metadata": {},
     "output_type": "execute_result"
    }
   ],
   "source": [
    "# x['_const'] = 1\n",
    "predict_train_y = res.predict(train_x)\n",
    "roc_auc_score(train_y,predict_train_y)"
   ]
  }
 ],
 "metadata": {
  "kernelspec": {
   "display_name": "Python 3",
   "language": "python",
   "name": "python3"
  },
  "language_info": {
   "codemirror_mode": {
    "name": "ipython",
    "version": 3
   },
   "file_extension": ".py",
   "mimetype": "text/x-python",
   "name": "python",
   "nbconvert_exporter": "python",
   "pygments_lexer": "ipython3",
   "version": "3.6.4"
  }
 },
 "nbformat": 4,
 "nbformat_minor": 2
}
