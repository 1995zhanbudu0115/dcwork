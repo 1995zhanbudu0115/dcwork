{
 "cells": [
  {
   "cell_type": "code",
   "execution_count": 2,
   "metadata": {},
   "outputs": [],
   "source": [
    "import sys\n",
    "sys.path.append('/mnt/disk05/note/workspaces/duxx')\n",
    "from feature_selector import FeatureSelector\n",
    "from unity import init_pkg as ini\n",
    "import os\n",
    "import json\n",
    "import datetime\n",
    "import gc\n",
    "# import pandas_profiling\n",
    "\n",
    "% matplotlib inline"
   ]
  },
  {
   "cell_type": "code",
   "execution_count": 4,
   "metadata": {},
   "outputs": [
    {
     "name": "stdout",
     "output_type": "stream",
     "text": [
      "百度7月份进件.xlsx\n",
      "百度8月份进件.xlsx\n"
     ]
    }
   ],
   "source": [
    "df_list = []\n",
    "for f in os.listdir('data/bd'):\n",
    "    if ('xlsx' in f) and (('7' in f) or ('8' in f)):\n",
    "        print(f)\n",
    "        each = ini.pd.read_excel('data/bd/'+f)\n",
    "        df_list.append(each)\n",
    "bdbank = ini.pd.concat(df_list).reset_index(drop=True)\n",
    "# bdbank = ini.pd.read_pickle('data/bd/bdbank.pkl')\n",
    "bdbank = bdbank.reset_index(drop=True)"
   ]
  },
  {
   "cell_type": "code",
   "execution_count": 5,
   "metadata": {},
   "outputs": [
    {
     "data": {
      "text/html": [
       "<div>\n",
       "<style scoped>\n",
       "    .dataframe tbody tr th:only-of-type {\n",
       "        vertical-align: middle;\n",
       "    }\n",
       "\n",
       "    .dataframe tbody tr th {\n",
       "        vertical-align: top;\n",
       "    }\n",
       "\n",
       "    .dataframe thead th {\n",
       "        text-align: right;\n",
       "    }\n",
       "</style>\n",
       "<table border=\"1\" class=\"dataframe\">\n",
       "  <thead>\n",
       "    <tr style=\"text-align: right;\">\n",
       "      <th></th>\n",
       "      <th>ID</th>\n",
       "      <th>CUST_NAME</th>\n",
       "      <th>ID_CARD_NO</th>\n",
       "      <th>MOBILE_NO</th>\n",
       "      <th>BANK_CARD_NO</th>\n",
       "      <th>CREATED_DATE</th>\n",
       "      <th>UPDATED_DATE</th>\n",
       "      <th>EXPANDING</th>\n",
       "      <th>TRANSACTION_TYPE</th>\n",
       "      <th>TRANSACTION_ID</th>\n",
       "      <th>ORDER_NO</th>\n",
       "      <th>INIT_AMOUNT</th>\n",
       "      <th>ANNUAL_INT_RATE</th>\n",
       "      <th>CASH_AMOUNT</th>\n",
       "      <th>AFTER_LMT</th>\n",
       "      <th>BEFORE_LMT</th>\n",
       "      <th>PRE_A_CUST_SEG</th>\n",
       "    </tr>\n",
       "  </thead>\n",
       "  <tbody>\n",
       "    <tr>\n",
       "      <th>0</th>\n",
       "      <td>99c296b172d776050173062b375340c6</td>\n",
       "      <td>邬敏</td>\n",
       "      <td>340303199104300628</td>\n",
       "      <td>15256088646</td>\n",
       "      <td>6225885550298723</td>\n",
       "      <td>2020-07-01 00:59:22</td>\n",
       "      <td>2020-07-01 00:59:22</td>\n",
       "      <td>{\"zxCreditCardDelqStatus30To60Days\":\"N\",\"zxHou...</td>\n",
       "      <td>transaction</td>\n",
       "      <td>1443285724749185921</td>\n",
       "      <td>2202007014461363434401283652_44613634344012836...</td>\n",
       "      <td>300000.0</td>\n",
       "      <td>1.80</td>\n",
       "      <td>3000.0</td>\n",
       "      <td>NaN</td>\n",
       "      <td>NaN</td>\n",
       "      <td>NaN</td>\n",
       "    </tr>\n",
       "    <tr>\n",
       "      <th>1</th>\n",
       "      <td>99c296b272d77d0b0173066b7ac83999</td>\n",
       "      <td>柴伟昭</td>\n",
       "      <td>130435199511202117</td>\n",
       "      <td>13403205444</td>\n",
       "      <td>6222030405007072035</td>\n",
       "      <td>2020-07-01 02:09:33</td>\n",
       "      <td>2020-07-01 02:09:33</td>\n",
       "      <td>{\"zxCreditCardDelqStatus30To60Days\":\"N\",\"zxHou...</td>\n",
       "      <td>transaction</td>\n",
       "      <td>4404941376746008373</td>\n",
       "      <td>2202007014461371543299543869_44613715432995438...</td>\n",
       "      <td>1600000.0</td>\n",
       "      <td>1.80</td>\n",
       "      <td>3000.0</td>\n",
       "      <td>NaN</td>\n",
       "      <td>NaN</td>\n",
       "      <td>NaN</td>\n",
       "    </tr>\n",
       "    <tr>\n",
       "      <th>2</th>\n",
       "      <td>99c296b172d77605017306bf50774978</td>\n",
       "      <td>叶挺</td>\n",
       "      <td>362321199110083015</td>\n",
       "      <td>18607936769</td>\n",
       "      <td>6214835721919833</td>\n",
       "      <td>2020-07-01 03:41:07</td>\n",
       "      <td>2020-07-01 03:41:07</td>\n",
       "      <td>{\"zxCreditCardDelqStatus30To60Days\":\"N\",\"zxHou...</td>\n",
       "      <td>transaction</td>\n",
       "      <td>1194959719284130132</td>\n",
       "      <td>2202007014458412310832539904_44584123108325399...</td>\n",
       "      <td>3150000.0</td>\n",
       "      <td>1.62</td>\n",
       "      <td>4000.0</td>\n",
       "      <td>NaN</td>\n",
       "      <td>NaN</td>\n",
       "      <td>NaN</td>\n",
       "    </tr>\n",
       "    <tr>\n",
       "      <th>3</th>\n",
       "      <td>99c296b172d77605017306c5c1b1499f</td>\n",
       "      <td>刘兴</td>\n",
       "      <td>51162319870815393X</td>\n",
       "      <td>15086883670</td>\n",
       "      <td>6214830234906617</td>\n",
       "      <td>2020-07-01 03:48:10</td>\n",
       "      <td>2020-07-01 03:48:10</td>\n",
       "      <td>{\"zxCreditCardDelqStatus30To60Days\":\"N\",\"zxHou...</td>\n",
       "      <td>apply</td>\n",
       "      <td>1104147582824328505</td>\n",
       "      <td>2202007014455599897527617134_44555998975276171...</td>\n",
       "      <td>50000.0</td>\n",
       "      <td>0.00</td>\n",
       "      <td>NaN</td>\n",
       "      <td>NaN</td>\n",
       "      <td>NaN</td>\n",
       "      <td>NaN</td>\n",
       "    </tr>\n",
       "    <tr>\n",
       "      <th>4</th>\n",
       "      <td>99c296b272d77d0b017306d7a49e141b</td>\n",
       "      <td>陈智铭</td>\n",
       "      <td>440804199011040510</td>\n",
       "      <td>13668991209</td>\n",
       "      <td>6225881208407428</td>\n",
       "      <td>2020-07-01 04:07:42</td>\n",
       "      <td>2020-07-01 04:07:42</td>\n",
       "      <td>{\"zxCreditCardDelqStatus30To60Days\":\"N\",\"zxHou...</td>\n",
       "      <td>transaction</td>\n",
       "      <td>1170333519472257787</td>\n",
       "      <td>2202007014458420179212638736_44584201792126387...</td>\n",
       "      <td>12000000.0</td>\n",
       "      <td>1.44</td>\n",
       "      <td>10000.0</td>\n",
       "      <td>NaN</td>\n",
       "      <td>NaN</td>\n",
       "      <td>NaN</td>\n",
       "    </tr>\n",
       "  </tbody>\n",
       "</table>\n",
       "</div>"
      ],
      "text/plain": [
       "                                 ID CUST_NAME          ID_CARD_NO  \\\n",
       "0  99c296b172d776050173062b375340c6        邬敏  340303199104300628   \n",
       "1  99c296b272d77d0b0173066b7ac83999       柴伟昭  130435199511202117   \n",
       "2  99c296b172d77605017306bf50774978        叶挺  362321199110083015   \n",
       "3  99c296b172d77605017306c5c1b1499f        刘兴  51162319870815393X   \n",
       "4  99c296b272d77d0b017306d7a49e141b       陈智铭  440804199011040510   \n",
       "\n",
       "     MOBILE_NO         BANK_CARD_NO        CREATED_DATE        UPDATED_DATE  \\\n",
       "0  15256088646     6225885550298723 2020-07-01 00:59:22 2020-07-01 00:59:22   \n",
       "1  13403205444  6222030405007072035 2020-07-01 02:09:33 2020-07-01 02:09:33   \n",
       "2  18607936769     6214835721919833 2020-07-01 03:41:07 2020-07-01 03:41:07   \n",
       "3  15086883670     6214830234906617 2020-07-01 03:48:10 2020-07-01 03:48:10   \n",
       "4  13668991209     6225881208407428 2020-07-01 04:07:42 2020-07-01 04:07:42   \n",
       "\n",
       "                                           EXPANDING TRANSACTION_TYPE  \\\n",
       "0  {\"zxCreditCardDelqStatus30To60Days\":\"N\",\"zxHou...      transaction   \n",
       "1  {\"zxCreditCardDelqStatus30To60Days\":\"N\",\"zxHou...      transaction   \n",
       "2  {\"zxCreditCardDelqStatus30To60Days\":\"N\",\"zxHou...      transaction   \n",
       "3  {\"zxCreditCardDelqStatus30To60Days\":\"N\",\"zxHou...            apply   \n",
       "4  {\"zxCreditCardDelqStatus30To60Days\":\"N\",\"zxHou...      transaction   \n",
       "\n",
       "        TRANSACTION_ID                                           ORDER_NO  \\\n",
       "0  1443285724749185921  2202007014461363434401283652_44613634344012836...   \n",
       "1  4404941376746008373  2202007014461371543299543869_44613715432995438...   \n",
       "2  1194959719284130132  2202007014458412310832539904_44584123108325399...   \n",
       "3  1104147582824328505  2202007014455599897527617134_44555998975276171...   \n",
       "4  1170333519472257787  2202007014458420179212638736_44584201792126387...   \n",
       "\n",
       "   INIT_AMOUNT  ANNUAL_INT_RATE  CASH_AMOUNT  AFTER_LMT  BEFORE_LMT  \\\n",
       "0     300000.0             1.80       3000.0        NaN         NaN   \n",
       "1    1600000.0             1.80       3000.0        NaN         NaN   \n",
       "2    3150000.0             1.62       4000.0        NaN         NaN   \n",
       "3      50000.0             0.00          NaN        NaN         NaN   \n",
       "4   12000000.0             1.44      10000.0        NaN         NaN   \n",
       "\n",
       "   PRE_A_CUST_SEG  \n",
       "0             NaN  \n",
       "1             NaN  \n",
       "2             NaN  \n",
       "3             NaN  \n",
       "4             NaN  "
      ]
     },
     "execution_count": 5,
     "metadata": {},
     "output_type": "execute_result"
    }
   ],
   "source": [
    "bdbank = bdbank[bdbank['CREATED_DATE'].dt.month.isin([3,4,5,6,7,8])]\n",
    "bdbank.head()"
   ]
  },
  {
   "cell_type": "code",
   "execution_count": 6,
   "metadata": {},
   "outputs": [],
   "source": [
    "bdfea = ini.pd.io.json.json_normalize(bdbank['EXPANDING'].fillna('{}').apply(json.loads))"
   ]
  },
  {
   "cell_type": "code",
   "execution_count": 7,
   "metadata": {},
   "outputs": [],
   "source": [
    "bdbank = bdbank.drop('EXPANDING',axis=1)\n",
    "bdbank = ini.pd.concat([bdbank,bdfea],axis=1)\n",
    "del bdfea"
   ]
  },
  {
   "cell_type": "code",
   "execution_count": 8,
   "metadata": {},
   "outputs": [],
   "source": [
    "bdbank.to_pickle('data/bd/ext_bdbank.pkl')\n",
    "# break"
   ]
  },
  {
   "cell_type": "code",
   "execution_count": 32,
   "metadata": {},
   "outputs": [
    {
     "data": {
      "text/html": [
       "<div>\n",
       "<style scoped>\n",
       "    .dataframe tbody tr th:only-of-type {\n",
       "        vertical-align: middle;\n",
       "    }\n",
       "\n",
       "    .dataframe tbody tr th {\n",
       "        vertical-align: top;\n",
       "    }\n",
       "\n",
       "    .dataframe thead th {\n",
       "        text-align: right;\n",
       "    }\n",
       "</style>\n",
       "<table border=\"1\" class=\"dataframe\">\n",
       "  <thead>\n",
       "    <tr style=\"text-align: right;\">\n",
       "      <th></th>\n",
       "      <th>type</th>\n",
       "    </tr>\n",
       "  </thead>\n",
       "  <tbody>\n",
       "    <tr>\n",
       "      <th>ID</th>\n",
       "      <td>object</td>\n",
       "    </tr>\n",
       "    <tr>\n",
       "      <th>CUST_NAME</th>\n",
       "      <td>object</td>\n",
       "    </tr>\n",
       "    <tr>\n",
       "      <th>ID_CARD_NO</th>\n",
       "      <td>object</td>\n",
       "    </tr>\n",
       "    <tr>\n",
       "      <th>MOBILE_NO</th>\n",
       "      <td>int64</td>\n",
       "    </tr>\n",
       "    <tr>\n",
       "      <th>BANK_CARD_NO</th>\n",
       "      <td>object</td>\n",
       "    </tr>\n",
       "  </tbody>\n",
       "</table>\n",
       "</div>"
      ],
      "text/plain": [
       "                type\n",
       "ID            object\n",
       "CUST_NAME     object\n",
       "ID_CARD_NO    object\n",
       "MOBILE_NO      int64\n",
       "BANK_CARD_NO  object"
      ]
     },
     "execution_count": 32,
     "metadata": {},
     "output_type": "execute_result"
    }
   ],
   "source": [
    "summary_df = ini.pd.DataFrame(bdbank.dtypes,columns=['type'])\n",
    "summary_df.head()"
   ]
  },
  {
   "cell_type": "code",
   "execution_count": 33,
   "metadata": {},
   "outputs": [],
   "source": [
    "drop_feas = set()"
   ]
  },
  {
   "cell_type": "markdown",
   "metadata": {},
   "source": [
    "# 1.数据质量检查"
   ]
  },
  {
   "cell_type": "markdown",
   "metadata": {},
   "source": [
    "## 1.1 主键唯一性检查\n",
    "主键没有重复情况"
   ]
  },
  {
   "cell_type": "code",
   "execution_count": 34,
   "metadata": {},
   "outputs": [
    {
     "data": {
      "text/plain": [
       "168028"
      ]
     },
     "execution_count": 34,
     "metadata": {},
     "output_type": "execute_result"
    }
   ],
   "source": [
    "len(bdbank['ID'].unique())"
   ]
  },
  {
   "cell_type": "code",
   "execution_count": 35,
   "metadata": {
    "scrolled": false
   },
   "outputs": [
    {
     "data": {
      "text/plain": [
       "(168028, 140)"
      ]
     },
     "execution_count": 35,
     "metadata": {},
     "output_type": "execute_result"
    }
   ],
   "source": [
    "bdbank.shape"
   ]
  },
  {
   "cell_type": "markdown",
   "metadata": {},
   "source": [
    "## 1.2 历史数据观测\n",
    "数据都是2020年8，9，10，11，12月的进件数据"
   ]
  },
  {
   "cell_type": "code",
   "execution_count": 36,
   "metadata": {},
   "outputs": [
    {
     "data": {
      "text/plain": [
       "array([3, 4, 5, 6])"
      ]
     },
     "execution_count": 36,
     "metadata": {},
     "output_type": "execute_result"
    }
   ],
   "source": [
    "bdbank['CREATED_DATE'].dt.month.unique()"
   ]
  },
  {
   "cell_type": "markdown",
   "metadata": {},
   "source": [
    "## 1.3 缺失值检查"
   ]
  },
  {
   "cell_type": "code",
   "execution_count": 37,
   "metadata": {},
   "outputs": [],
   "source": [
    "fs = FeatureSelector(data=bdbank,labels=bdbank['ID'])"
   ]
  },
  {
   "cell_type": "code",
   "execution_count": 38,
   "metadata": {
    "scrolled": false
   },
   "outputs": [
    {
     "name": "stdout",
     "output_type": "stream",
     "text": [
      "21 features with greater than 0.50 missing values.\n",
      "\n"
     ]
    },
    {
     "data": {
      "text/plain": [
       "['CASH_AMOUNT',\n",
       " 'AFTER_LMT',\n",
       " 'BEFORE_LMT',\n",
       " 'PRE_A_CUST_SEG',\n",
       " 'cashAmount',\n",
       " 'compreAnnualInterestRate',\n",
       " 'dailyInterestRate',\n",
       " 'dailyPenaltyRate',\n",
       " 'idpicture0',\n",
       " 'idpicture1',\n",
       " 'ifIdPicture',\n",
       " 'ifLiving',\n",
       " 'livingPhoto',\n",
       " 'ocrExpdate',\n",
       " 'ocrNation',\n",
       " 'ocrSignOrg',\n",
       " 'orderId',\n",
       " 'photowithidcard',\n",
       " 'term',\n",
       " 'unionLoanUsed',\n",
       " 'usedTotalLimit']"
      ]
     },
     "execution_count": 38,
     "metadata": {},
     "output_type": "execute_result"
    }
   ],
   "source": [
    "fs.identify_missing(0.5)\n",
    "fs.ops['missing']"
   ]
  },
  {
   "cell_type": "code",
   "execution_count": 39,
   "metadata": {},
   "outputs": [],
   "source": [
    "drop_feas = drop_feas | set(fs.ops['missing'])"
   ]
  },
  {
   "cell_type": "markdown",
   "metadata": {},
   "source": [
    "## 1.4 单一值检查"
   ]
  },
  {
   "cell_type": "code",
   "execution_count": 40,
   "metadata": {},
   "outputs": [
    {
     "name": "stdout",
     "output_type": "stream",
     "text": [
      "6 features with a single unique value.\n",
      "\n"
     ]
    },
    {
     "data": {
      "text/plain": [
       "['bidNormalScoreExp3',\n",
       " 'creditValidityDays',\n",
       " 'phoneNormalScoreExp3',\n",
       " 'prcidNormalScoreExp3',\n",
       " 'risCode',\n",
       " 'zxCreCardStatus2']"
      ]
     },
     "execution_count": 40,
     "metadata": {},
     "output_type": "execute_result"
    }
   ],
   "source": [
    "fs.identify_single_unique()\n",
    "fs.ops['single_unique']"
   ]
  },
  {
   "cell_type": "code",
   "execution_count": 41,
   "metadata": {},
   "outputs": [],
   "source": [
    "drop_feas = drop_feas | set(fs.ops['single_unique'])"
   ]
  },
  {
   "cell_type": "code",
   "execution_count": 42,
   "metadata": {},
   "outputs": [],
   "source": [
    "summary_df['缺失大于50%'] = '否'\n",
    "summary_df.loc[fs.ops['missing'],'缺失大于50%'] = '是'\n",
    "summary_df['是否单一值'] = '否'\n",
    "summary_df.loc[fs.ops['single_unique'],'是否单一值'] = '是'\n",
    "summary_df['COUNT'] = bdbank.count()"
   ]
  },
  {
   "cell_type": "code",
   "execution_count": 43,
   "metadata": {},
   "outputs": [],
   "source": [
    "summary_df.to_excel('summary.xlsx')"
   ]
  },
  {
   "cell_type": "markdown",
   "metadata": {},
   "source": [
    "# 2.数据探索"
   ]
  },
  {
   "cell_type": "markdown",
   "metadata": {},
   "source": [
    "## 2.1 申请数量"
   ]
  },
  {
   "cell_type": "code",
   "execution_count": 18,
   "metadata": {
    "scrolled": false
   },
   "outputs": [
    {
     "data": {
      "text/plain": [
       "<matplotlib.axes._subplots.AxesSubplot at 0x7fa192bc3630>"
      ]
     },
     "execution_count": 18,
     "metadata": {},
     "output_type": "execute_result"
    },
    {
     "data": {
      "image/png": "[encoded data removed]",
      "text/plain": [
       "<Figure size 864x360 with 1 Axes>"
      ]
     },
     "metadata": {},
     "output_type": "display_data"
    }
   ],
   "source": [
    "bdbank['CREATED_DATE'].dt.date.value_counts().sort_index().plot(title='apply count',figsize=(12,5))"
   ]
  },
  {
   "cell_type": "code",
   "execution_count": 19,
   "metadata": {},
   "outputs": [
    {
     "data": {
      "text/html": [
       "<div>\n",
       "<style scoped>\n",
       "    .dataframe tbody tr th:only-of-type {\n",
       "        vertical-align: middle;\n",
       "    }\n",
       "\n",
       "    .dataframe tbody tr th {\n",
       "        vertical-align: top;\n",
       "    }\n",
       "\n",
       "    .dataframe thead th {\n",
       "        text-align: right;\n",
       "    }\n",
       "</style>\n",
       "<table border=\"1\" class=\"dataframe\">\n",
       "  <thead>\n",
       "    <tr style=\"text-align: right;\">\n",
       "      <th>上下旬</th>\n",
       "      <th>上旬</th>\n",
       "      <th>下旬</th>\n",
       "    </tr>\n",
       "    <tr>\n",
       "      <th>月份</th>\n",
       "      <th></th>\n",
       "      <th></th>\n",
       "    </tr>\n",
       "  </thead>\n",
       "  <tbody>\n",
       "    <tr>\n",
       "      <th>3</th>\n",
       "      <td>11</td>\n",
       "      <td>13537</td>\n",
       "    </tr>\n",
       "    <tr>\n",
       "      <th>4</th>\n",
       "      <td>12697</td>\n",
       "      <td>11145</td>\n",
       "    </tr>\n",
       "    <tr>\n",
       "      <th>5</th>\n",
       "      <td>15364</td>\n",
       "      <td>16949</td>\n",
       "    </tr>\n",
       "    <tr>\n",
       "      <th>6</th>\n",
       "      <td>44426</td>\n",
       "      <td>53899</td>\n",
       "    </tr>\n",
       "  </tbody>\n",
       "</table>\n",
       "</div>"
      ],
      "text/plain": [
       "上下旬     上旬     下旬\n",
       "月份               \n",
       "3       11  13537\n",
       "4    12697  11145\n",
       "5    15364  16949\n",
       "6    44426  53899"
      ]
     },
     "execution_count": 19,
     "metadata": {},
     "output_type": "execute_result"
    }
   ],
   "source": [
    "bdbank['上下旬'] = '上旬'\n",
    "bdbank.loc[bdbank['CREATED_DATE'].dt.day > 15,'上下旬'] = '下旬'\n",
    "bdbank['月份'] = bdbank['CREATED_DATE'].dt.month\n",
    "bdbank.groupby(['月份','上下旬'])['ID'].count().unstack()"
   ]
  },
  {
   "cell_type": "code",
   "execution_count": 20,
   "metadata": {},
   "outputs": [],
   "source": [
    "bdbank['CREATED_DATE'].dt.date.value_counts().sort_index().to_excel('授信申请数.xlsx')"
   ]
  },
  {
   "cell_type": "code",
   "execution_count": 396,
   "metadata": {},
   "outputs": [
    {
     "data": {
      "text/plain": [
       "<matplotlib.axes._subplots.AxesSubplot at 0x7f9ff81e7400>"
      ]
     },
     "execution_count": 396,
     "metadata": {},
     "output_type": "execute_result"
    },
    {
     "data": {
      "image/png": "[encoded data removed]",
      "text/plain": [
       "<Figure size 576x576 with 1 Axes>"
      ]
     },
     "metadata": {},
     "output_type": "display_data"
    }
   ],
   "source": [
    "# 申请数量地区分布\n",
    "prov_names = {'340':'anhui','320':'jiangsu','370':'shandong','420':'hubei','450':'guangxi','430':'hunan','410':'henan',\n",
    "              '510':'sichuan','440':'guangdong','350':'fujian','330':'zhejiang'}\n",
    "prov_count = (bdbank['ID_CARD_NO'].str.slice(0,2).astype(int) * 10).astype(str).value_counts()\n",
    "prov_count.rename(prov_names,inplace=True)\n",
    "split_index = prov_count.head(10).index[-1]\n",
    "prov_count.loc[split_index] = prov_count.loc[split_index:].sum()\n",
    "prov_count.loc[split_index] = prov_count.loc[split_index:].sum()\n",
    "prov_count.rename({split_index:'other'},inplace=True)\n",
    "prov_count = prov_count[:'other']\n",
    "explodes = [0]*10\n",
    "explodes[0] = 0.08\n",
    "prov_count.plot.pie(figsize=(8,8),labeldistance=1.1,explode=explodes,autopct='%.1f%%',\n",
    "                    wedgeprops={'linewidth':1, 'edgecolor':'white'},\n",
    "                   title='loan distribution ')"
   ]
  },
  {
   "cell_type": "code",
   "execution_count": 54,
   "metadata": {
    "scrolled": false
   },
   "outputs": [
    {
     "data": {
      "text/plain": [
       "<matplotlib.axes._subplots.AxesSubplot at 0x7f5c4edb1cc0>"
      ]
     },
     "execution_count": 54,
     "metadata": {},
     "output_type": "execute_result"
    },
    {
     "data": {
      "image/png": "[encoded data removed]",
      "text/plain": [
       "<Figure size 576x432 with 1 Axes>"
      ]
     },
     "metadata": {},
     "output_type": "display_data"
    }
   ],
   "source": [
    "# 申请数量年龄分布\n",
    "(2020-bdbank['ID_CARD_NO'].str.slice(6,10).astype(int)).plot.hist(figsize=(8,6),title='age distribution',label='AGE',legend=True)"
   ]
  },
  {
   "cell_type": "markdown",
   "metadata": {},
   "source": [
    "## 2.2 授信利率分布"
   ]
  },
  {
   "cell_type": "code",
   "execution_count": 70,
   "metadata": {
    "scrolled": false
   },
   "outputs": [
    {
     "data": {
      "text/plain": [
       "Text(0.5,1,'annual int rate distribution')"
      ]
     },
     "execution_count": 70,
     "metadata": {},
     "output_type": "execute_result"
    },
    {
     "data": {
      "image/png": "[encoded data removed]",
      "text/plain": [
       "<Figure size 576x432 with 1 Axes>"
      ]
     },
     "metadata": {},
     "output_type": "display_data"
    }
   ],
   "source": [
    "ini.plt.figure(figsize=(8,6))\n",
    "ini.sns.kdeplot(bdbank['ANNUAL_INT_RATE'].fillna(0),shade=True,color='orange')\n",
    "ax.set_title('annual int rate distribution')"
   ]
  },
  {
   "cell_type": "markdown",
   "metadata": {},
   "source": [
    "## 2.3 授信金额分布"
   ]
  },
  {
   "cell_type": "code",
   "execution_count": 68,
   "metadata": {},
   "outputs": [
    {
     "data": {
      "text/plain": [
       "Text(0.5,1,'init amount distribution')"
      ]
     },
     "execution_count": 68,
     "metadata": {},
     "output_type": "execute_result"
    },
    {
     "data": {
      "image/png": "[encoded data removed]",
      "text/plain": [
       "<Figure size 576x432 with 1 Axes>"
      ]
     },
     "metadata": {},
     "output_type": "display_data"
    }
   ],
   "source": [
    "ini.plt.figure(figsize=(8,6))\n",
    "ini.sns.kdeplot(bdbank['INIT_AMOUNT'].fillna(0),shade=True)\n",
    "# 取消科学计数法\n",
    "ax = ini.plt.gca()\n",
    "ax.get_xaxis().get_major_formatter().set_scientific(False)\n",
    "ax.set_title('init amount distribution')"
   ]
  },
  {
   "cell_type": "markdown",
   "metadata": {},
   "source": [
    "## 2.4 逾期滚动率"
   ]
  },
  {
   "cell_type": "code",
   "execution_count": 290,
   "metadata": {},
   "outputs": [],
   "source": [
    "# 贷后数据\n",
    "ov_list = []\n",
    "for f in range(3,13):\n",
    "    data = ini.pd.read_csv(f'data/bd/slice/bd_dubil_{f}.csv')\n",
    "    if f > 11:\n",
    "        f = 0\n",
    "        date = f'2021-{f+1}'\n",
    "    else:\n",
    "        date = f'2020-{f+1}'\n",
    "    part_ym = (datetime.datetime.strptime(date,'%Y-%m')-datetime.timedelta(seconds=3)).date()\n",
    "    data['part_ym'] = part_ym\n",
    "    ov_list.append(data)\n",
    "bdovdue = ini.pd.concat(ov_list)\n",
    "bdovdue = bdovdue.reset_index(drop=True)"
   ]
  },
  {
   "cell_type": "code",
   "execution_count": 387,
   "metadata": {},
   "outputs": [],
   "source": [
    "def mob_trans(mob_pivot):\n",
    "    pivot_df = mob_pivot.copy()\n",
    "    pivot_df['M8+'] = pivot_df.iloc[:,8:].sum(axis=1)\n",
    "    pivot_df = pivot_df[['M0','M1','M2','M3','M4','M5','M6','M7','M8+']]\n",
    "    pivot_df.loc['M7+'] = pivot_df['M7':].sum()\n",
    "    pivot_df = pivot_df[:'M6'].append(pivot_df.loc['M7+'])\n",
    "    pivot_df['总计'] = pivot_df.sum(axis=1)\n",
    "    pivot_df.loc['总计'] = pivot_df.sum()\n",
    "    return pivot_df"
   ]
  },
  {
   "cell_type": "code",
   "execution_count": 291,
   "metadata": {
    "scrolled": true
   },
   "outputs": [
    {
     "data": {
      "text/html": [
       "<div>\n",
       "<style scoped>\n",
       "    .dataframe tbody tr th:only-of-type {\n",
       "        vertical-align: middle;\n",
       "    }\n",
       "\n",
       "    .dataframe tbody tr th {\n",
       "        vertical-align: top;\n",
       "    }\n",
       "\n",
       "    .dataframe thead th {\n",
       "        text-align: right;\n",
       "    }\n",
       "</style>\n",
       "<table border=\"1\" class=\"dataframe\">\n",
       "  <thead>\n",
       "    <tr style=\"text-align: right;\">\n",
       "      <th></th>\n",
       "      <th>dubil_no</th>\n",
       "      <th>ovdue_days</th>\n",
       "      <th>lon_dt</th>\n",
       "      <th>cert_no</th>\n",
       "      <th>part_ym</th>\n",
       "    </tr>\n",
       "  </thead>\n",
       "  <tbody>\n",
       "    <tr>\n",
       "      <th>0</th>\n",
       "      <td>4149488817617242325</td>\n",
       "      <td>0</td>\n",
       "      <td>2020-03-21</td>\n",
       "      <td>430281198410177868</td>\n",
       "      <td>2020-03-31</td>\n",
       "    </tr>\n",
       "    <tr>\n",
       "      <th>1</th>\n",
       "      <td>4170320439806389279</td>\n",
       "      <td>0</td>\n",
       "      <td>2020-03-26</td>\n",
       "      <td>12022219960310582X</td>\n",
       "      <td>2020-03-31</td>\n",
       "    </tr>\n",
       "    <tr>\n",
       "      <th>2</th>\n",
       "      <td>4149381924471107758</td>\n",
       "      <td>0</td>\n",
       "      <td>2020-03-24</td>\n",
       "      <td>210111198412071527</td>\n",
       "      <td>2020-03-31</td>\n",
       "    </tr>\n",
       "    <tr>\n",
       "      <th>3</th>\n",
       "      <td>4170354524666868346</td>\n",
       "      <td>0</td>\n",
       "      <td>2020-03-26</td>\n",
       "      <td>510104198211082876</td>\n",
       "      <td>2020-03-31</td>\n",
       "    </tr>\n",
       "    <tr>\n",
       "      <th>4</th>\n",
       "      <td>4176538246784740863</td>\n",
       "      <td>0</td>\n",
       "      <td>2020-03-29</td>\n",
       "      <td>410402198602125677</td>\n",
       "      <td>2020-03-31</td>\n",
       "    </tr>\n",
       "  </tbody>\n",
       "</table>\n",
       "</div>"
      ],
      "text/plain": [
       "              dubil_no  ovdue_days      lon_dt             cert_no     part_ym\n",
       "0  4149488817617242325           0  2020-03-21  430281198410177868  2020-03-31\n",
       "1  4170320439806389279           0  2020-03-26  12022219960310582X  2020-03-31\n",
       "2  4149381924471107758           0  2020-03-24  210111198412071527  2020-03-31\n",
       "3  4170354524666868346           0  2020-03-26  510104198211082876  2020-03-31\n",
       "4  4176538246784740863           0  2020-03-29  410402198602125677  2020-03-31"
      ]
     },
     "execution_count": 291,
     "metadata": {},
     "output_type": "execute_result"
    }
   ],
   "source": [
    "bdovdue.head()"
   ]
  },
  {
   "cell_type": "code",
   "execution_count": 292,
   "metadata": {},
   "outputs": [],
   "source": [
    "bdovdue['lon_mon'] = bdovdue['lon_dt'].astype(str).str.slice(0,7)\n",
    "bdovdue['lon_dt'] = bdovdue['lon_dt'].astype('datetime64[ns]')"
   ]
  },
  {
   "cell_type": "code",
   "execution_count": 301,
   "metadata": {},
   "outputs": [],
   "source": [
    "bse_mons = [datetime.datetime.strptime(d,'%Y-%m-%d').date() for d in ['2020-11-30','2020-12-31']]\n",
    "roll_df = bdovdue[bdovdue['part_ym'].isin(bse_mons)]\n",
    "roll_df['ov1'],roll_df['ov2'] = 0,0\n",
    "roll_df.loc[roll_df['part_ym']==bse_mons[0],'ov1'] = roll_df['ovdue_days']\n",
    "roll_df.loc[roll_df['part_ym']==bse_mons[1],'ov2'] = roll_df['ovdue_days']\n",
    "roll_df = roll_df.groupby('dubil_no')[['ov1','ov2']].max()\n",
    "roll_df['d1'] = roll_df['ov1'].apply(lambda x:'M0' if x == 0 else 'M' + str(((x-1)//30)+1))\n",
    "roll_df['d2'] = roll_df['ov2'].apply(lambda x:'M0' if x == 0 else 'M' + str(((x-1)//30)+1))"
   ]
  },
  {
   "cell_type": "code",
   "execution_count": 388,
   "metadata": {
    "scrolled": true
   },
   "outputs": [
    {
     "data": {
      "text/html": [
       "<div>\n",
       "<style scoped>\n",
       "    .dataframe tbody tr th:only-of-type {\n",
       "        vertical-align: middle;\n",
       "    }\n",
       "\n",
       "    .dataframe tbody tr th {\n",
       "        vertical-align: top;\n",
       "    }\n",
       "\n",
       "    .dataframe thead th {\n",
       "        text-align: right;\n",
       "    }\n",
       "</style>\n",
       "<table border=\"1\" class=\"dataframe\">\n",
       "  <thead>\n",
       "    <tr style=\"text-align: right;\">\n",
       "      <th>d2</th>\n",
       "      <th>M0</th>\n",
       "      <th>M1</th>\n",
       "      <th>M2</th>\n",
       "      <th>M3</th>\n",
       "      <th>M4</th>\n",
       "      <th>M5</th>\n",
       "      <th>M6</th>\n",
       "      <th>M7</th>\n",
       "      <th>M8</th>\n",
       "      <th>M9</th>\n",
       "    </tr>\n",
       "    <tr>\n",
       "      <th>d1</th>\n",
       "      <th></th>\n",
       "      <th></th>\n",
       "      <th></th>\n",
       "      <th></th>\n",
       "      <th></th>\n",
       "      <th></th>\n",
       "      <th></th>\n",
       "      <th></th>\n",
       "      <th></th>\n",
       "      <th></th>\n",
       "    </tr>\n",
       "  </thead>\n",
       "  <tbody>\n",
       "    <tr>\n",
       "      <th>M0</th>\n",
       "      <td>864137.0</td>\n",
       "      <td>1637.0</td>\n",
       "      <td>70.0</td>\n",
       "      <td>NaN</td>\n",
       "      <td>NaN</td>\n",
       "      <td>NaN</td>\n",
       "      <td>NaN</td>\n",
       "      <td>NaN</td>\n",
       "      <td>NaN</td>\n",
       "      <td>NaN</td>\n",
       "    </tr>\n",
       "    <tr>\n",
       "      <th>M1</th>\n",
       "      <td>289.0</td>\n",
       "      <td>226.0</td>\n",
       "      <td>842.0</td>\n",
       "      <td>NaN</td>\n",
       "      <td>NaN</td>\n",
       "      <td>NaN</td>\n",
       "      <td>NaN</td>\n",
       "      <td>NaN</td>\n",
       "      <td>NaN</td>\n",
       "      <td>NaN</td>\n",
       "    </tr>\n",
       "    <tr>\n",
       "      <th>M2</th>\n",
       "      <td>36.0</td>\n",
       "      <td>10.0</td>\n",
       "      <td>23.0</td>\n",
       "      <td>579.0</td>\n",
       "      <td>14.0</td>\n",
       "      <td>NaN</td>\n",
       "      <td>NaN</td>\n",
       "      <td>NaN</td>\n",
       "      <td>NaN</td>\n",
       "      <td>NaN</td>\n",
       "    </tr>\n",
       "    <tr>\n",
       "      <th>M3</th>\n",
       "      <td>3.0</td>\n",
       "      <td>NaN</td>\n",
       "      <td>NaN</td>\n",
       "      <td>1.0</td>\n",
       "      <td>422.0</td>\n",
       "      <td>8.0</td>\n",
       "      <td>NaN</td>\n",
       "      <td>NaN</td>\n",
       "      <td>NaN</td>\n",
       "      <td>NaN</td>\n",
       "    </tr>\n",
       "    <tr>\n",
       "      <th>M4</th>\n",
       "      <td>4.0</td>\n",
       "      <td>NaN</td>\n",
       "      <td>2.0</td>\n",
       "      <td>1.0</td>\n",
       "      <td>2.0</td>\n",
       "      <td>178.0</td>\n",
       "      <td>6.0</td>\n",
       "      <td>NaN</td>\n",
       "      <td>NaN</td>\n",
       "      <td>NaN</td>\n",
       "    </tr>\n",
       "    <tr>\n",
       "      <th>M5</th>\n",
       "      <td>6.0</td>\n",
       "      <td>NaN</td>\n",
       "      <td>NaN</td>\n",
       "      <td>NaN</td>\n",
       "      <td>1.0</td>\n",
       "      <td>2.0</td>\n",
       "      <td>101.0</td>\n",
       "      <td>NaN</td>\n",
       "      <td>NaN</td>\n",
       "      <td>NaN</td>\n",
       "    </tr>\n",
       "    <tr>\n",
       "      <th>M6</th>\n",
       "      <td>NaN</td>\n",
       "      <td>NaN</td>\n",
       "      <td>NaN</td>\n",
       "      <td>NaN</td>\n",
       "      <td>NaN</td>\n",
       "      <td>NaN</td>\n",
       "      <td>1.0</td>\n",
       "      <td>27.0</td>\n",
       "      <td>NaN</td>\n",
       "      <td>NaN</td>\n",
       "    </tr>\n",
       "    <tr>\n",
       "      <th>M7</th>\n",
       "      <td>NaN</td>\n",
       "      <td>NaN</td>\n",
       "      <td>NaN</td>\n",
       "      <td>NaN</td>\n",
       "      <td>NaN</td>\n",
       "      <td>NaN</td>\n",
       "      <td>NaN</td>\n",
       "      <td>NaN</td>\n",
       "      <td>11.0</td>\n",
       "      <td>NaN</td>\n",
       "    </tr>\n",
       "    <tr>\n",
       "      <th>M8</th>\n",
       "      <td>NaN</td>\n",
       "      <td>NaN</td>\n",
       "      <td>NaN</td>\n",
       "      <td>NaN</td>\n",
       "      <td>NaN</td>\n",
       "      <td>NaN</td>\n",
       "      <td>NaN</td>\n",
       "      <td>NaN</td>\n",
       "      <td>NaN</td>\n",
       "      <td>2.0</td>\n",
       "    </tr>\n",
       "  </tbody>\n",
       "</table>\n",
       "</div>"
      ],
      "text/plain": [
       "d2        M0      M1     M2     M3     M4     M5     M6    M7    M8   M9\n",
       "d1                                                                      \n",
       "M0  864137.0  1637.0   70.0    NaN    NaN    NaN    NaN   NaN   NaN  NaN\n",
       "M1     289.0   226.0  842.0    NaN    NaN    NaN    NaN   NaN   NaN  NaN\n",
       "M2      36.0    10.0   23.0  579.0   14.0    NaN    NaN   NaN   NaN  NaN\n",
       "M3       3.0     NaN    NaN    1.0  422.0    8.0    NaN   NaN   NaN  NaN\n",
       "M4       4.0     NaN    2.0    1.0    2.0  178.0    6.0   NaN   NaN  NaN\n",
       "M5       6.0     NaN    NaN    NaN    1.0    2.0  101.0   NaN   NaN  NaN\n",
       "M6       NaN     NaN    NaN    NaN    NaN    NaN    1.0  27.0   NaN  NaN\n",
       "M7       NaN     NaN    NaN    NaN    NaN    NaN    NaN   NaN  11.0  NaN\n",
       "M8       NaN     NaN    NaN    NaN    NaN    NaN    NaN   NaN   NaN  2.0"
      ]
     },
     "execution_count": 388,
     "metadata": {},
     "output_type": "execute_result"
    }
   ],
   "source": [
    "mob = roll_df.reset_index().groupby(['d1','d2'])['dubil_no'].count().reset_index()\n",
    "mob_pivot = mob.pivot_table(index='d1',columns='d2',values='dubil_no')\n",
    "mob_pivot"
   ]
  },
  {
   "cell_type": "code",
   "execution_count": 389,
   "metadata": {},
   "outputs": [
    {
     "data": {
      "text/html": [
       "<div>\n",
       "<style scoped>\n",
       "    .dataframe tbody tr th:only-of-type {\n",
       "        vertical-align: middle;\n",
       "    }\n",
       "\n",
       "    .dataframe tbody tr th {\n",
       "        vertical-align: top;\n",
       "    }\n",
       "\n",
       "    .dataframe thead th {\n",
       "        text-align: right;\n",
       "    }\n",
       "</style>\n",
       "<table border=\"1\" class=\"dataframe\">\n",
       "  <thead>\n",
       "    <tr style=\"text-align: right;\">\n",
       "      <th>d2</th>\n",
       "      <th>M0</th>\n",
       "      <th>M1</th>\n",
       "      <th>M2</th>\n",
       "      <th>M3</th>\n",
       "      <th>M4</th>\n",
       "      <th>M5</th>\n",
       "      <th>M6</th>\n",
       "      <th>M7</th>\n",
       "      <th>M8+</th>\n",
       "      <th>总计</th>\n",
       "    </tr>\n",
       "    <tr>\n",
       "      <th>d1</th>\n",
       "      <th></th>\n",
       "      <th></th>\n",
       "      <th></th>\n",
       "      <th></th>\n",
       "      <th></th>\n",
       "      <th></th>\n",
       "      <th></th>\n",
       "      <th></th>\n",
       "      <th></th>\n",
       "      <th></th>\n",
       "    </tr>\n",
       "  </thead>\n",
       "  <tbody>\n",
       "    <tr>\n",
       "      <th>M0</th>\n",
       "      <td>864137.0</td>\n",
       "      <td>1637.0</td>\n",
       "      <td>70.0</td>\n",
       "      <td>NaN</td>\n",
       "      <td>NaN</td>\n",
       "      <td>NaN</td>\n",
       "      <td>NaN</td>\n",
       "      <td>NaN</td>\n",
       "      <td>0.0</td>\n",
       "      <td>865844.0</td>\n",
       "    </tr>\n",
       "    <tr>\n",
       "      <th>M1</th>\n",
       "      <td>289.0</td>\n",
       "      <td>226.0</td>\n",
       "      <td>842.0</td>\n",
       "      <td>NaN</td>\n",
       "      <td>NaN</td>\n",
       "      <td>NaN</td>\n",
       "      <td>NaN</td>\n",
       "      <td>NaN</td>\n",
       "      <td>0.0</td>\n",
       "      <td>1357.0</td>\n",
       "    </tr>\n",
       "    <tr>\n",
       "      <th>M2</th>\n",
       "      <td>36.0</td>\n",
       "      <td>10.0</td>\n",
       "      <td>23.0</td>\n",
       "      <td>579.0</td>\n",
       "      <td>14.0</td>\n",
       "      <td>NaN</td>\n",
       "      <td>NaN</td>\n",
       "      <td>NaN</td>\n",
       "      <td>0.0</td>\n",
       "      <td>662.0</td>\n",
       "    </tr>\n",
       "    <tr>\n",
       "      <th>M3</th>\n",
       "      <td>3.0</td>\n",
       "      <td>NaN</td>\n",
       "      <td>NaN</td>\n",
       "      <td>1.0</td>\n",
       "      <td>422.0</td>\n",
       "      <td>8.0</td>\n",
       "      <td>NaN</td>\n",
       "      <td>NaN</td>\n",
       "      <td>0.0</td>\n",
       "      <td>434.0</td>\n",
       "    </tr>\n",
       "    <tr>\n",
       "      <th>M4</th>\n",
       "      <td>4.0</td>\n",
       "      <td>NaN</td>\n",
       "      <td>2.0</td>\n",
       "      <td>1.0</td>\n",
       "      <td>2.0</td>\n",
       "      <td>178.0</td>\n",
       "      <td>6.0</td>\n",
       "      <td>NaN</td>\n",
       "      <td>0.0</td>\n",
       "      <td>193.0</td>\n",
       "    </tr>\n",
       "    <tr>\n",
       "      <th>M5</th>\n",
       "      <td>6.0</td>\n",
       "      <td>NaN</td>\n",
       "      <td>NaN</td>\n",
       "      <td>NaN</td>\n",
       "      <td>1.0</td>\n",
       "      <td>2.0</td>\n",
       "      <td>101.0</td>\n",
       "      <td>NaN</td>\n",
       "      <td>0.0</td>\n",
       "      <td>110.0</td>\n",
       "    </tr>\n",
       "    <tr>\n",
       "      <th>M6</th>\n",
       "      <td>NaN</td>\n",
       "      <td>NaN</td>\n",
       "      <td>NaN</td>\n",
       "      <td>NaN</td>\n",
       "      <td>NaN</td>\n",
       "      <td>NaN</td>\n",
       "      <td>1.0</td>\n",
       "      <td>27.0</td>\n",
       "      <td>0.0</td>\n",
       "      <td>28.0</td>\n",
       "    </tr>\n",
       "    <tr>\n",
       "      <th>M7+</th>\n",
       "      <td>0.0</td>\n",
       "      <td>0.0</td>\n",
       "      <td>0.0</td>\n",
       "      <td>0.0</td>\n",
       "      <td>0.0</td>\n",
       "      <td>0.0</td>\n",
       "      <td>0.0</td>\n",
       "      <td>0.0</td>\n",
       "      <td>13.0</td>\n",
       "      <td>13.0</td>\n",
       "    </tr>\n",
       "    <tr>\n",
       "      <th>总计</th>\n",
       "      <td>864475.0</td>\n",
       "      <td>1873.0</td>\n",
       "      <td>937.0</td>\n",
       "      <td>581.0</td>\n",
       "      <td>439.0</td>\n",
       "      <td>188.0</td>\n",
       "      <td>108.0</td>\n",
       "      <td>27.0</td>\n",
       "      <td>13.0</td>\n",
       "      <td>868641.0</td>\n",
       "    </tr>\n",
       "  </tbody>\n",
       "</table>\n",
       "</div>"
      ],
      "text/plain": [
       "d2         M0      M1     M2     M3     M4     M5     M6    M7   M8+        总计\n",
       "d1                                                                            \n",
       "M0   864137.0  1637.0   70.0    NaN    NaN    NaN    NaN   NaN   0.0  865844.0\n",
       "M1      289.0   226.0  842.0    NaN    NaN    NaN    NaN   NaN   0.0    1357.0\n",
       "M2       36.0    10.0   23.0  579.0   14.0    NaN    NaN   NaN   0.0     662.0\n",
       "M3        3.0     NaN    NaN    1.0  422.0    8.0    NaN   NaN   0.0     434.0\n",
       "M4        4.0     NaN    2.0    1.0    2.0  178.0    6.0   NaN   0.0     193.0\n",
       "M5        6.0     NaN    NaN    NaN    1.0    2.0  101.0   NaN   0.0     110.0\n",
       "M6        NaN     NaN    NaN    NaN    NaN    NaN    1.0  27.0   0.0      28.0\n",
       "M7+       0.0     0.0    0.0    0.0    0.0    0.0    0.0   0.0  13.0      13.0\n",
       "总计   864475.0  1873.0  937.0  581.0  439.0  188.0  108.0  27.0  13.0  868641.0"
      ]
     },
     "execution_count": 389,
     "metadata": {},
     "output_type": "execute_result"
    }
   ],
   "source": [
    "mob_pivot = mob_trans(mob_pivot)\n",
    "mob_pivot"
   ]
  },
  {
   "cell_type": "code",
   "execution_count": 390,
   "metadata": {},
   "outputs": [],
   "source": [
    "mob_pivot.to_excel('roll_ratio.xlsx')"
   ]
  },
  {
   "cell_type": "code",
   "execution_count": 305,
   "metadata": {
    "scrolled": true
   },
   "outputs": [
    {
     "data": {
      "text/html": [
       "<div>\n",
       "<style scoped>\n",
       "    .dataframe tbody tr th:only-of-type {\n",
       "        vertical-align: middle;\n",
       "    }\n",
       "\n",
       "    .dataframe tbody tr th {\n",
       "        vertical-align: top;\n",
       "    }\n",
       "\n",
       "    .dataframe thead th {\n",
       "        text-align: right;\n",
       "    }\n",
       "</style>\n",
       "<table border=\"1\" class=\"dataframe\">\n",
       "  <thead>\n",
       "    <tr style=\"text-align: right;\">\n",
       "      <th></th>\n",
       "      <th>ov1</th>\n",
       "      <th>ov2</th>\n",
       "      <th>d1</th>\n",
       "      <th>d2</th>\n",
       "    </tr>\n",
       "    <tr>\n",
       "      <th>dubil_no</th>\n",
       "      <th></th>\n",
       "      <th></th>\n",
       "      <th></th>\n",
       "      <th></th>\n",
       "    </tr>\n",
       "  </thead>\n",
       "  <tbody>\n",
       "    <tr>\n",
       "      <th>4256577161416474103</th>\n",
       "      <td>126</td>\n",
       "      <td>0</td>\n",
       "      <td>M5</td>\n",
       "      <td>M0</td>\n",
       "    </tr>\n",
       "    <tr>\n",
       "      <th>4256633683186132965</th>\n",
       "      <td>144</td>\n",
       "      <td>0</td>\n",
       "      <td>M5</td>\n",
       "      <td>M0</td>\n",
       "    </tr>\n",
       "    <tr>\n",
       "      <th>4333368737171298158</th>\n",
       "      <td>149</td>\n",
       "      <td>0</td>\n",
       "      <td>M5</td>\n",
       "      <td>M0</td>\n",
       "    </tr>\n",
       "    <tr>\n",
       "      <th>4333401963038329558</th>\n",
       "      <td>126</td>\n",
       "      <td>0</td>\n",
       "      <td>M5</td>\n",
       "      <td>M0</td>\n",
       "    </tr>\n",
       "    <tr>\n",
       "      <th>4425466545585799198</th>\n",
       "      <td>126</td>\n",
       "      <td>0</td>\n",
       "      <td>M5</td>\n",
       "      <td>M0</td>\n",
       "    </tr>\n",
       "    <tr>\n",
       "      <th>4437812171387237678</th>\n",
       "      <td>126</td>\n",
       "      <td>0</td>\n",
       "      <td>M5</td>\n",
       "      <td>M0</td>\n",
       "    </tr>\n",
       "  </tbody>\n",
       "</table>\n",
       "</div>"
      ],
      "text/plain": [
       "                     ov1  ov2  d1  d2\n",
       "dubil_no                             \n",
       "4256577161416474103  126    0  M5  M0\n",
       "4256633683186132965  144    0  M5  M0\n",
       "4333368737171298158  149    0  M5  M0\n",
       "4333401963038329558  126    0  M5  M0\n",
       "4425466545585799198  126    0  M5  M0\n",
       "4437812171387237678  126    0  M5  M0"
      ]
     },
     "execution_count": 305,
     "metadata": {},
     "output_type": "execute_result"
    }
   ],
   "source": [
    "roll_df[(roll_df['d1'] == 'M5') & (roll_df['d2'] == 'M0')]"
   ]
  },
  {
   "cell_type": "code",
   "execution_count": 306,
   "metadata": {},
   "outputs": [
    {
     "data": {
      "text/html": [
       "<div>\n",
       "<style scoped>\n",
       "    .dataframe tbody tr th:only-of-type {\n",
       "        vertical-align: middle;\n",
       "    }\n",
       "\n",
       "    .dataframe tbody tr th {\n",
       "        vertical-align: top;\n",
       "    }\n",
       "\n",
       "    .dataframe thead th {\n",
       "        text-align: right;\n",
       "    }\n",
       "</style>\n",
       "<table border=\"1\" class=\"dataframe\">\n",
       "  <thead>\n",
       "    <tr style=\"text-align: right;\">\n",
       "      <th></th>\n",
       "      <th>dubil_no</th>\n",
       "      <th>ovdue_days</th>\n",
       "      <th>lon_dt</th>\n",
       "      <th>cert_no</th>\n",
       "      <th>part_ym</th>\n",
       "      <th>lon_mon</th>\n",
       "    </tr>\n",
       "  </thead>\n",
       "  <tbody>\n",
       "    <tr>\n",
       "      <th>10039</th>\n",
       "      <td>4256577161416474103</td>\n",
       "      <td>0</td>\n",
       "      <td>2020-04-29</td>\n",
       "      <td>522425198105036405</td>\n",
       "      <td>2020-04-30</td>\n",
       "      <td>2020-04</td>\n",
       "    </tr>\n",
       "    <tr>\n",
       "      <th>30952</th>\n",
       "      <td>4256577161416474103</td>\n",
       "      <td>0</td>\n",
       "      <td>2020-04-29</td>\n",
       "      <td>522425198105036405</td>\n",
       "      <td>2020-05-31</td>\n",
       "      <td>2020-04</td>\n",
       "    </tr>\n",
       "    <tr>\n",
       "      <th>81739</th>\n",
       "      <td>4256577161416474103</td>\n",
       "      <td>0</td>\n",
       "      <td>2020-04-29</td>\n",
       "      <td>522425198105036405</td>\n",
       "      <td>2020-06-30</td>\n",
       "      <td>2020-04</td>\n",
       "    </tr>\n",
       "    <tr>\n",
       "      <th>194961</th>\n",
       "      <td>4256577161416474103</td>\n",
       "      <td>4</td>\n",
       "      <td>2020-04-29</td>\n",
       "      <td>522425198105036405</td>\n",
       "      <td>2020-07-31</td>\n",
       "      <td>2020-04</td>\n",
       "    </tr>\n",
       "    <tr>\n",
       "      <th>385268</th>\n",
       "      <td>4256577161416474103</td>\n",
       "      <td>34</td>\n",
       "      <td>2020-04-29</td>\n",
       "      <td>522425198105036405</td>\n",
       "      <td>2020-08-31</td>\n",
       "      <td>2020-04</td>\n",
       "    </tr>\n",
       "    <tr>\n",
       "      <th>667584</th>\n",
       "      <td>4256577161416474103</td>\n",
       "      <td>65</td>\n",
       "      <td>2020-04-29</td>\n",
       "      <td>522425198105036405</td>\n",
       "      <td>2020-09-30</td>\n",
       "      <td>2020-04</td>\n",
       "    </tr>\n",
       "    <tr>\n",
       "      <th>1104542</th>\n",
       "      <td>4256577161416474103</td>\n",
       "      <td>96</td>\n",
       "      <td>2020-04-29</td>\n",
       "      <td>522425198105036405</td>\n",
       "      <td>2020-10-31</td>\n",
       "      <td>2020-04</td>\n",
       "    </tr>\n",
       "    <tr>\n",
       "      <th>1732018</th>\n",
       "      <td>4256577161416474103</td>\n",
       "      <td>126</td>\n",
       "      <td>2020-04-29</td>\n",
       "      <td>522425198105036405</td>\n",
       "      <td>2020-11-30</td>\n",
       "      <td>2020-04</td>\n",
       "    </tr>\n",
       "    <tr>\n",
       "      <th>2530462</th>\n",
       "      <td>4256577161416474103</td>\n",
       "      <td>0</td>\n",
       "      <td>2020-04-29</td>\n",
       "      <td>522425198105036405</td>\n",
       "      <td>2020-12-31</td>\n",
       "      <td>2020-04</td>\n",
       "    </tr>\n",
       "  </tbody>\n",
       "</table>\n",
       "</div>"
      ],
      "text/plain": [
       "                    dubil_no  ovdue_days     lon_dt             cert_no  \\\n",
       "10039    4256577161416474103           0 2020-04-29  522425198105036405   \n",
       "30952    4256577161416474103           0 2020-04-29  522425198105036405   \n",
       "81739    4256577161416474103           0 2020-04-29  522425198105036405   \n",
       "194961   4256577161416474103           4 2020-04-29  522425198105036405   \n",
       "385268   4256577161416474103          34 2020-04-29  522425198105036405   \n",
       "667584   4256577161416474103          65 2020-04-29  522425198105036405   \n",
       "1104542  4256577161416474103          96 2020-04-29  522425198105036405   \n",
       "1732018  4256577161416474103         126 2020-04-29  522425198105036405   \n",
       "2530462  4256577161416474103           0 2020-04-29  522425198105036405   \n",
       "\n",
       "            part_ym  lon_mon  \n",
       "10039    2020-04-30  2020-04  \n",
       "30952    2020-05-31  2020-04  \n",
       "81739    2020-06-30  2020-04  \n",
       "194961   2020-07-31  2020-04  \n",
       "385268   2020-08-31  2020-04  \n",
       "667584   2020-09-30  2020-04  \n",
       "1104542  2020-10-31  2020-04  \n",
       "1732018  2020-11-30  2020-04  \n",
       "2530462  2020-12-31  2020-04  "
      ]
     },
     "execution_count": 306,
     "metadata": {},
     "output_type": "execute_result"
    }
   ],
   "source": [
    "bdovdue[bdovdue['dubil_no'] == 4256577161416474103]"
   ]
  },
  {
   "cell_type": "markdown",
   "metadata": {},
   "source": [
    "## 2.5 账龄分析"
   ]
  },
  {
   "cell_type": "code",
   "execution_count": 308,
   "metadata": {},
   "outputs": [],
   "source": [
    "gc.collect()\n",
    "del bdbank"
   ]
  },
  {
   "cell_type": "code",
   "execution_count": 331,
   "metadata": {},
   "outputs": [],
   "source": [
    "bdovdue['time_diff'] = ((bdovdue['part_ym'] - bdovdue['lon_dt'].dt.date).dt.days // 30)\n",
    "bdovdue['vintage'] = 'MOB' + bdovdue['time_diff'].astype(str)\n",
    "bdovdue['m1'],bdovdue['m2'] = 0,0\n",
    "bdovdue.loc[bdovdue['ovdue_days'] > 0,'m1'] = 1\n",
    "bdovdue.loc[bdovdue['ovdue_days'] > 30,'m2'] = 1\n",
    "vintage = bdovdue.pivot_table(index='lon_mon',columns='vintage',values='m2',aggfunc=lambda x:x.sum()/len(x))"
   ]
  },
  {
   "cell_type": "code",
   "execution_count": 358,
   "metadata": {},
   "outputs": [
    {
     "data": {
      "text/html": [
       "<div>\n",
       "<style scoped>\n",
       "    .dataframe tbody tr th:only-of-type {\n",
       "        vertical-align: middle;\n",
       "    }\n",
       "\n",
       "    .dataframe tbody tr th {\n",
       "        vertical-align: top;\n",
       "    }\n",
       "\n",
       "    .dataframe thead th {\n",
       "        text-align: right;\n",
       "    }\n",
       "</style>\n",
       "<table border=\"1\" class=\"dataframe\">\n",
       "  <thead>\n",
       "    <tr style=\"text-align: right;\">\n",
       "      <th>vintage</th>\n",
       "      <th>MOB0</th>\n",
       "      <th>MOB1</th>\n",
       "      <th>MOB2</th>\n",
       "      <th>MOB3</th>\n",
       "      <th>MOB4</th>\n",
       "      <th>MOB5</th>\n",
       "      <th>MOB6</th>\n",
       "      <th>MOB7</th>\n",
       "      <th>MOB8</th>\n",
       "      <th>MOB9</th>\n",
       "    </tr>\n",
       "    <tr>\n",
       "      <th>lon_mon</th>\n",
       "      <th></th>\n",
       "      <th></th>\n",
       "      <th></th>\n",
       "      <th></th>\n",
       "      <th></th>\n",
       "      <th></th>\n",
       "      <th></th>\n",
       "      <th></th>\n",
       "      <th></th>\n",
       "      <th></th>\n",
       "    </tr>\n",
       "  </thead>\n",
       "  <tbody>\n",
       "    <tr>\n",
       "      <th>2020-03</th>\n",
       "      <td>0.0</td>\n",
       "      <td>0.000000</td>\n",
       "      <td>0.000340</td>\n",
       "      <td>0.003061</td>\n",
       "      <td>0.003061</td>\n",
       "      <td>0.003061</td>\n",
       "      <td>0.004082</td>\n",
       "      <td>0.005782</td>\n",
       "      <td>0.006463</td>\n",
       "      <td>0.006122</td>\n",
       "    </tr>\n",
       "    <tr>\n",
       "      <th>2020-04</th>\n",
       "      <td>0.0</td>\n",
       "      <td>0.000000</td>\n",
       "      <td>0.000615</td>\n",
       "      <td>0.001388</td>\n",
       "      <td>0.003329</td>\n",
       "      <td>0.004511</td>\n",
       "      <td>0.006468</td>\n",
       "      <td>0.006152</td>\n",
       "      <td>0.007673</td>\n",
       "      <td>0.007919</td>\n",
       "    </tr>\n",
       "    <tr>\n",
       "      <th>2020-05</th>\n",
       "      <td>0.0</td>\n",
       "      <td>0.000000</td>\n",
       "      <td>0.001541</td>\n",
       "      <td>0.003983</td>\n",
       "      <td>0.005299</td>\n",
       "      <td>0.007491</td>\n",
       "      <td>0.009647</td>\n",
       "      <td>0.011660</td>\n",
       "      <td>0.010703</td>\n",
       "      <td>NaN</td>\n",
       "    </tr>\n",
       "    <tr>\n",
       "      <th>2020-06</th>\n",
       "      <td>0.0</td>\n",
       "      <td>0.000000</td>\n",
       "      <td>0.001464</td>\n",
       "      <td>0.003737</td>\n",
       "      <td>0.006606</td>\n",
       "      <td>0.009641</td>\n",
       "      <td>0.012195</td>\n",
       "      <td>0.011994</td>\n",
       "      <td>NaN</td>\n",
       "      <td>NaN</td>\n",
       "    </tr>\n",
       "    <tr>\n",
       "      <th>2020-07</th>\n",
       "      <td>0.0</td>\n",
       "      <td>0.000000</td>\n",
       "      <td>0.001014</td>\n",
       "      <td>0.003177</td>\n",
       "      <td>0.005198</td>\n",
       "      <td>0.006613</td>\n",
       "      <td>0.005944</td>\n",
       "      <td>NaN</td>\n",
       "      <td>NaN</td>\n",
       "      <td>NaN</td>\n",
       "    </tr>\n",
       "    <tr>\n",
       "      <th>2020-08</th>\n",
       "      <td>0.0</td>\n",
       "      <td>0.000026</td>\n",
       "      <td>0.001375</td>\n",
       "      <td>0.003578</td>\n",
       "      <td>0.005816</td>\n",
       "      <td>0.005883</td>\n",
       "      <td>NaN</td>\n",
       "      <td>NaN</td>\n",
       "      <td>NaN</td>\n",
       "      <td>NaN</td>\n",
       "    </tr>\n",
       "    <tr>\n",
       "      <th>2020-09</th>\n",
       "      <td>0.0</td>\n",
       "      <td>0.000020</td>\n",
       "      <td>0.000905</td>\n",
       "      <td>0.002845</td>\n",
       "      <td>0.002016</td>\n",
       "      <td>NaN</td>\n",
       "      <td>NaN</td>\n",
       "      <td>NaN</td>\n",
       "      <td>NaN</td>\n",
       "      <td>NaN</td>\n",
       "    </tr>\n",
       "    <tr>\n",
       "      <th>2020-10</th>\n",
       "      <td>0.0</td>\n",
       "      <td>0.000005</td>\n",
       "      <td>0.001027</td>\n",
       "      <td>0.001384</td>\n",
       "      <td>NaN</td>\n",
       "      <td>NaN</td>\n",
       "      <td>NaN</td>\n",
       "      <td>NaN</td>\n",
       "      <td>NaN</td>\n",
       "      <td>NaN</td>\n",
       "    </tr>\n",
       "    <tr>\n",
       "      <th>2020-11</th>\n",
       "      <td>0.0</td>\n",
       "      <td>0.000022</td>\n",
       "      <td>0.000000</td>\n",
       "      <td>NaN</td>\n",
       "      <td>NaN</td>\n",
       "      <td>NaN</td>\n",
       "      <td>NaN</td>\n",
       "      <td>NaN</td>\n",
       "      <td>NaN</td>\n",
       "      <td>NaN</td>\n",
       "    </tr>\n",
       "    <tr>\n",
       "      <th>2020-12</th>\n",
       "      <td>0.0</td>\n",
       "      <td>0.000000</td>\n",
       "      <td>NaN</td>\n",
       "      <td>NaN</td>\n",
       "      <td>NaN</td>\n",
       "      <td>NaN</td>\n",
       "      <td>NaN</td>\n",
       "      <td>NaN</td>\n",
       "      <td>NaN</td>\n",
       "      <td>NaN</td>\n",
       "    </tr>\n",
       "  </tbody>\n",
       "</table>\n",
       "</div>"
      ],
      "text/plain": [
       "vintage  MOB0      MOB1      MOB2      MOB3      MOB4      MOB5      MOB6  \\\n",
       "lon_mon                                                                     \n",
       "2020-03   0.0  0.000000  0.000340  0.003061  0.003061  0.003061  0.004082   \n",
       "2020-04   0.0  0.000000  0.000615  0.001388  0.003329  0.004511  0.006468   \n",
       "2020-05   0.0  0.000000  0.001541  0.003983  0.005299  0.007491  0.009647   \n",
       "2020-06   0.0  0.000000  0.001464  0.003737  0.006606  0.009641  0.012195   \n",
       "2020-07   0.0  0.000000  0.001014  0.003177  0.005198  0.006613  0.005944   \n",
       "2020-08   0.0  0.000026  0.001375  0.003578  0.005816  0.005883       NaN   \n",
       "2020-09   0.0  0.000020  0.000905  0.002845  0.002016       NaN       NaN   \n",
       "2020-10   0.0  0.000005  0.001027  0.001384       NaN       NaN       NaN   \n",
       "2020-11   0.0  0.000022  0.000000       NaN       NaN       NaN       NaN   \n",
       "2020-12   0.0  0.000000       NaN       NaN       NaN       NaN       NaN   \n",
       "\n",
       "vintage      MOB7      MOB8      MOB9  \n",
       "lon_mon                                \n",
       "2020-03  0.005782  0.006463  0.006122  \n",
       "2020-04  0.006152  0.007673  0.007919  \n",
       "2020-05  0.011660  0.010703       NaN  \n",
       "2020-06  0.011994       NaN       NaN  \n",
       "2020-07       NaN       NaN       NaN  \n",
       "2020-08       NaN       NaN       NaN  \n",
       "2020-09       NaN       NaN       NaN  \n",
       "2020-10       NaN       NaN       NaN  \n",
       "2020-11       NaN       NaN       NaN  \n",
       "2020-12       NaN       NaN       NaN  "
      ]
     },
     "execution_count": 358,
     "metadata": {},
     "output_type": "execute_result"
    }
   ],
   "source": [
    "vintage"
   ]
  },
  {
   "cell_type": "code",
   "execution_count": 362,
   "metadata": {},
   "outputs": [],
   "source": [
    "vintage.to_excel('vintage.xlsx')"
   ]
  },
  {
   "cell_type": "markdown",
   "metadata": {},
   "source": [
    "## 2.6 累计客户逾期率"
   ]
  },
  {
   "cell_type": "code",
   "execution_count": 601,
   "metadata": {},
   "outputs": [],
   "source": [
    "cert_group = bdovdue.groupby('cert_no')[['part_ym']].first()\n",
    "cert_count = cert_group.groupby('part_ym').size()\n",
    "tag = bdovdue[bdovdue['ovdue_days']>0]\n",
    "tag = tag.groupby('part_ym')['cert_no'].apply(lambda x:len(x.unique()))\n",
    "ovdue_count = ini.pd.concat([cert_count,tag],axis=1)\n",
    "ovdue_count = ovdue_count.fillna(0)\n",
    "ovdue_count.columns = ['累计合同数','累计逾期合同数']\n",
    "ovdue_count.iloc[:,0] = ovdue_count.iloc[:,0].cumsum()\n",
    "ovdue_count['累计客户逾期率'] = ovdue_count['累计逾期合同数']/ovdue_count['累计合同数']"
   ]
  },
  {
   "cell_type": "code",
   "execution_count": 602,
   "metadata": {},
   "outputs": [
    {
     "data": {
      "text/html": [
       "<div>\n",
       "<style scoped>\n",
       "    .dataframe tbody tr th:only-of-type {\n",
       "        vertical-align: middle;\n",
       "    }\n",
       "\n",
       "    .dataframe tbody tr th {\n",
       "        vertical-align: top;\n",
       "    }\n",
       "\n",
       "    .dataframe thead th {\n",
       "        text-align: right;\n",
       "    }\n",
       "</style>\n",
       "<table border=\"1\" class=\"dataframe\">\n",
       "  <thead>\n",
       "    <tr style=\"text-align: right;\">\n",
       "      <th></th>\n",
       "      <th>累计合同数</th>\n",
       "      <th>累计逾期合同数</th>\n",
       "      <th>累计客户逾期率</th>\n",
       "    </tr>\n",
       "  </thead>\n",
       "  <tbody>\n",
       "    <tr>\n",
       "      <th>2020-03-31</th>\n",
       "      <td>2094</td>\n",
       "      <td>0.0</td>\n",
       "      <td>0.000000</td>\n",
       "    </tr>\n",
       "    <tr>\n",
       "      <th>2020-04-30</th>\n",
       "      <td>7084</td>\n",
       "      <td>1.0</td>\n",
       "      <td>0.000141</td>\n",
       "    </tr>\n",
       "    <tr>\n",
       "      <th>2020-05-31</th>\n",
       "      <td>14351</td>\n",
       "      <td>15.0</td>\n",
       "      <td>0.001045</td>\n",
       "    </tr>\n",
       "    <tr>\n",
       "      <th>2020-06-30</th>\n",
       "      <td>37744</td>\n",
       "      <td>40.0</td>\n",
       "      <td>0.001060</td>\n",
       "    </tr>\n",
       "    <tr>\n",
       "      <th>2020-07-31</th>\n",
       "      <td>68685</td>\n",
       "      <td>141.0</td>\n",
       "      <td>0.002053</td>\n",
       "    </tr>\n",
       "    <tr>\n",
       "      <th>2020-08-31</th>\n",
       "      <td>88201</td>\n",
       "      <td>309.0</td>\n",
       "      <td>0.003503</td>\n",
       "    </tr>\n",
       "    <tr>\n",
       "      <th>2020-09-30</th>\n",
       "      <td>126381</td>\n",
       "      <td>591.0</td>\n",
       "      <td>0.004676</td>\n",
       "    </tr>\n",
       "    <tr>\n",
       "      <th>2020-10-31</th>\n",
       "      <td>197876</td>\n",
       "      <td>976.0</td>\n",
       "      <td>0.004932</td>\n",
       "    </tr>\n",
       "    <tr>\n",
       "      <th>2020-11-30</th>\n",
       "      <td>247323</td>\n",
       "      <td>1524.0</td>\n",
       "      <td>0.006162</td>\n",
       "    </tr>\n",
       "    <tr>\n",
       "      <th>2020-12-31</th>\n",
       "      <td>283600</td>\n",
       "      <td>2249.0</td>\n",
       "      <td>0.007930</td>\n",
       "    </tr>\n",
       "  </tbody>\n",
       "</table>\n",
       "</div>"
      ],
      "text/plain": [
       "             累计合同数  累计逾期合同数   累计客户逾期率\n",
       "2020-03-31    2094      0.0  0.000000\n",
       "2020-04-30    7084      1.0  0.000141\n",
       "2020-05-31   14351     15.0  0.001045\n",
       "2020-06-30   37744     40.0  0.001060\n",
       "2020-07-31   68685    141.0  0.002053\n",
       "2020-08-31   88201    309.0  0.003503\n",
       "2020-09-30  126381    591.0  0.004676\n",
       "2020-10-31  197876    976.0  0.004932\n",
       "2020-11-30  247323   1524.0  0.006162\n",
       "2020-12-31  283600   2249.0  0.007930"
      ]
     },
     "execution_count": 602,
     "metadata": {},
     "output_type": "execute_result"
    }
   ],
   "source": [
    "ovdue_count"
   ]
  }
 ],
 "metadata": {
  "kernelspec": {
   "display_name": "Python 3",
   "language": "python",
   "name": "python3"
  },
  "language_info": {
   "codemirror_mode": {
    "name": "ipython",
    "version": 3
   },
   "file_extension": ".py",
   "mimetype": "text/x-python",
   "name": "python",
   "nbconvert_exporter": "python",
   "pygments_lexer": "ipython3",
   "version": "3.6.4"
  }
 },
 "nbformat": 4,
 "nbformat_minor": 2
}
