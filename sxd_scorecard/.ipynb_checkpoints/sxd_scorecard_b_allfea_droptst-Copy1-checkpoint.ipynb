{
 "cells": [
  {
   "cell_type": "code",
   "execution_count": 286,
   "metadata": {},
   "outputs": [],
   "source": [
    "import sys\n",
    "sys.path.append('/mnt/disk01/note/workspaces/duxinxian')\n",
    "import pandas as pd\n",
    "import numpy as np\n",
    "import os\n",
    "import datetime\n",
    "import scorecardpy as sc\n",
    "from lightgbm import LGBMClassifier\n",
    "from xgboost import XGBClassifier\n",
    "from sklearn.tree import DecisionTreeClassifier\n",
    "from sklearn.model_selection import cross_val_score,train_test_split,StratifiedKFold\n",
    "from sklearn.metrics import SCORERS\n",
    "from sklearn.metrics import roc_auc_score\n",
    "from sklearn.linear_model import LogisticRegression\n",
    "from sklearn.ensemble import RandomForestClassifier\n",
    "from unity import feature_selector as fs\n",
    "from unity.fea_eda_func import FeaEdaFunc"
   ]
  },
  {
   "cell_type": "markdown",
   "metadata": {},
   "source": [
    "## 3.特征工程"
   ]
  },
  {
   "cell_type": "markdown",
   "metadata": {},
   "source": [
    "### 3.1 数据清洗-剔除单一特征与缺失率超过0.7的特征"
   ]
  },
  {
   "cell_type": "code",
   "execution_count": 287,
   "metadata": {
    "scrolled": true
   },
   "outputs": [
    {
     "name": "stderr",
     "output_type": "stream",
     "text": [
      "/home/anaconda3/lib/python3.7/site-packages/IPython/core/interactiveshell.py:3063: DtypeWarning: Columns (323,386,387,397,420,425,507,539,556,564,568,576,599,630,637,646) have mixed types.Specify dtype option on import or set low_memory=False.\n",
      "  interactivity=interactivity, compiler=compiler, result=result)\n"
     ]
    }
   ],
   "source": [
    "main_df = pd.read_csv('main_df.csv')\n",
    "# main_df = pd.read_csv('main_df_drop_zj.csv')"
   ]
  },
  {
   "cell_type": "code",
   "execution_count": 288,
   "metadata": {},
   "outputs": [],
   "source": [
    "main_df = main_df.replace([-9988,-9989],np.nan)"
   ]
  },
  {
   "cell_type": "code",
   "execution_count": 289,
   "metadata": {},
   "outputs": [],
   "source": [
    "fsc = fs.FeatureSelector(main_df,labels='tag')"
   ]
  },
  {
   "cell_type": "code",
   "execution_count": 290,
   "metadata": {},
   "outputs": [
    {
     "name": "stdout",
     "output_type": "stream",
     "text": [
      "300 features with greater than 0.70 missing values.\n",
      "\n",
      "121 features with a single unique value.\n",
      "\n"
     ]
    }
   ],
   "source": [
    "fsc.identify_missing(0.7)\n",
    "fsc.identify_single_unique()\n",
    "# fsc.identify_collinear(0.9)"
   ]
  },
  {
   "cell_type": "code",
   "execution_count": 291,
   "metadata": {},
   "outputs": [
    {
     "name": "stdout",
     "output_type": "stream",
     "text": [
      "Total of 394 features identified for removal\n"
     ]
    }
   ],
   "source": [
    "remove_feas = fsc.check_removal()"
   ]
  },
  {
   "cell_type": "code",
   "execution_count": 292,
   "metadata": {},
   "outputs": [],
   "source": [
    "main_df = main_df.drop(remove_feas,axis=1)"
   ]
  },
  {
   "cell_type": "code",
   "execution_count": 293,
   "metadata": {},
   "outputs": [],
   "source": [
    "train_set = main_df[main_df['obj_date'] != '2020-06-30']\n",
    "oot_set = main_df[main_df['obj_date'] == '2020-06-30']"
   ]
  },
  {
   "cell_type": "code",
   "execution_count": 294,
   "metadata": {},
   "outputs": [
    {
     "data": {
      "text/plain": [
       "0    1801\n",
       "1     200\n",
       "Name: tag, dtype: int64"
      ]
     },
     "execution_count": 294,
     "metadata": {},
     "output_type": "execute_result"
    }
   ],
   "source": [
    "train_set['tag'].value_counts()"
   ]
  },
  {
   "cell_type": "code",
   "execution_count": 295,
   "metadata": {
    "scrolled": false
   },
   "outputs": [
    {
     "data": {
      "text/plain": [
       "0    1312\n",
       "1     148\n",
       "Name: tag, dtype: int64"
      ]
     },
     "execution_count": 295,
     "metadata": {},
     "output_type": "execute_result"
    }
   ],
   "source": [
    "oot_set['tag'].value_counts()"
   ]
  },
  {
   "cell_type": "code",
   "execution_count": 296,
   "metadata": {},
   "outputs": [
    {
     "data": {
      "text/plain": [
       "0    0.90005\n",
       "1    0.09995\n",
       "Name: tag, dtype: float64"
      ]
     },
     "execution_count": 296,
     "metadata": {},
     "output_type": "execute_result"
    }
   ],
   "source": [
    "train_set['tag'].value_counts()/len(train_set)"
   ]
  },
  {
   "cell_type": "code",
   "execution_count": 297,
   "metadata": {},
   "outputs": [],
   "source": [
    "# 包括专家特征\n",
    "train_set = train_set.drop(['cust_no', 'obs_dt', 'obj_date', 'p', 'req_id', 'businessid'],axis=1)\n",
    "oot_set = oot_set.drop(['cust_no', 'obs_dt', 'obj_date', 'p', 'req_id', 'businessid'],axis=1)"
   ]
  },
  {
   "cell_type": "markdown",
   "metadata": {},
   "source": [
    "### 3.2 类别变量处理"
   ]
  },
  {
   "cell_type": "code",
   "execution_count": 298,
   "metadata": {},
   "outputs": [],
   "source": [
    "from unity.eda_func import EdaFunc"
   ]
  },
  {
   "cell_type": "code",
   "execution_count": 299,
   "metadata": {},
   "outputs": [],
   "source": [
    "# train_set['dubil_num_3'].astype(float)"
   ]
  },
  {
   "cell_type": "code",
   "execution_count": 300,
   "metadata": {},
   "outputs": [
    {
     "data": {
      "text/plain": [
       "WN_TAX008    object\n",
       "area         object\n",
       "dtype: object"
      ]
     },
     "execution_count": 300,
     "metadata": {},
     "output_type": "execute_result"
    }
   ],
   "source": [
    "fea_types = train_set.dtypes\n",
    "fea_types[fea_types == 'object']"
   ]
  },
  {
   "cell_type": "code",
   "execution_count": 301,
   "metadata": {},
   "outputs": [],
   "source": [
    "# 包括专家特征\n",
    "train_set['area'] = train_set['area'].replace({'上海':1,'厦门':2,'福建':3})\n",
    "oot_set['area'] = oot_set['area'].replace({'上海':1,'厦门':2,'福建':3})"
   ]
  },
  {
   "cell_type": "code",
   "execution_count": 302,
   "metadata": {},
   "outputs": [],
   "source": [
    "# 包括专家特征\n",
    "unique_feas = ['count_normalpayoff_loan_3', 'count_normalpayoff_loan_6', 'count_normalpayoff_loan_9', 'count_normalpayoff_loan_12', \n",
    "               'count_ovduepayoff_loan_3', 'count_ovduepayoff_loan_6', 'count_ovduepayoff_loan_9', 'count_ovduepayoff_loan_12',\n",
    "               'zxgcsste','WN_ICR022', 'WN_ICR040', 'WN_LEG039', 'WN_LEG033', 'warn_state']\n",
    "train_set = train_set.drop(unique_feas,axis=1)\n",
    "oot_set = oot_set.drop(unique_feas,axis=1)"
   ]
  },
  {
   "cell_type": "code",
   "execution_count": 303,
   "metadata": {},
   "outputs": [
    {
     "data": {
      "text/plain": [
       "(2001, 248)"
      ]
     },
     "execution_count": 303,
     "metadata": {},
     "output_type": "execute_result"
    }
   ],
   "source": [
    "train_set.shape"
   ]
  },
  {
   "cell_type": "code",
   "execution_count": 304,
   "metadata": {
    "scrolled": true
   },
   "outputs": [
    {
     "data": {
      "text/plain": [
       "(1460, 248)"
      ]
     },
     "execution_count": 304,
     "metadata": {},
     "output_type": "execute_result"
    }
   ],
   "source": [
    "oot_set.shape"
   ]
  },
  {
   "cell_type": "markdown",
   "metadata": {},
   "source": [
    "### 3.3 划分样本"
   ]
  },
  {
   "cell_type": "code",
   "execution_count": 305,
   "metadata": {},
   "outputs": [],
   "source": [
    "# tra_x,tst_x,tra_y,tst_y = train_test_split(train_set,train_set['tag'],shuffle=True,test_size=0.3,random_state=2)\n",
    "tra_x = train_set.copy()\n",
    "tra_y = train_set['tag']\n",
    "oot_x = oot_set.copy()\n",
    "oot_y = oot_set['tag']"
   ]
  },
  {
   "cell_type": "code",
   "execution_count": 306,
   "metadata": {
    "scrolled": false
   },
   "outputs": [
    {
     "data": {
      "text/plain": [
       "0    1801\n",
       "1     200\n",
       "Name: tag, dtype: int64"
      ]
     },
     "execution_count": 306,
     "metadata": {},
     "output_type": "execute_result"
    }
   ],
   "source": [
    "tra_y.value_counts()"
   ]
  },
  {
   "cell_type": "code",
   "execution_count": 307,
   "metadata": {},
   "outputs": [
    {
     "data": {
      "text/plain": [
       "0    1312\n",
       "1     148\n",
       "Name: tag, dtype: int64"
      ]
     },
     "execution_count": 307,
     "metadata": {},
     "output_type": "execute_result"
    }
   ],
   "source": [
    "oot_y.value_counts()"
   ]
  },
  {
   "cell_type": "markdown",
   "metadata": {},
   "source": [
    "* <font size=4 color=red face=仿宋>直接先用树模型筛选特征</font>"
   ]
  },
  {
   "cell_type": "code",
   "execution_count": 308,
   "metadata": {},
   "outputs": [],
   "source": [
    "# 包括专家特征\n",
    "cat_feas = ['WN_BNK007','WN_TAX008','tag']\n",
    "tra_x = tra_x.drop(cat_feas,axis=1)\n",
    "oot_x = oot_x.drop(cat_feas,axis=1)\n",
    "# 不包括专家特征\n",
    "# cat_feas = ['tag']\n",
    "# tra_x = tra_x.drop(cat_feas,axis=1)\n",
    "# tst_x = tst_x.drop(cat_feas,axis=1)\n",
    "# oot_x = oot_x.drop(cat_feas,axis=1)"
   ]
  },
  {
   "cell_type": "code",
   "execution_count": 309,
   "metadata": {},
   "outputs": [],
   "source": [
    "# tra_x = tra_x.apply(lambda x:x.fillna(x.median()))\n",
    "# tst_x = tst_x.apply(lambda x:x.fillna(x.median()))\n",
    "# oot_x = oot_x.apply(lambda x:x.fillna(x.median()))\n",
    "\n",
    "tra_x = tra_x.apply(lambda x:x.replace({np.inf:np.nan}))\n",
    "# tst_x = tst_x.apply(lambda x:x.replace({np.inf:np.nan}))\n",
    "oot_x = oot_x.apply(lambda x:x.replace({np.inf:np.nan}))\n",
    "\n"
   ]
  },
  {
   "cell_type": "code",
   "execution_count": null,
   "metadata": {},
   "outputs": [],
   "source": []
  },
  {
   "cell_type": "code",
   "execution_count": 310,
   "metadata": {},
   "outputs": [
    {
     "data": {
      "text/plain": [
       "(array([], dtype=int64), array([], dtype=int64))"
      ]
     },
     "execution_count": 310,
     "metadata": {},
     "output_type": "execute_result"
    }
   ],
   "source": [
    "np.where(tra_x == np.inf)"
   ]
  },
  {
   "cell_type": "markdown",
   "metadata": {},
   "source": [
    "#### 交叉验证筛选特征"
   ]
  },
  {
   "cell_type": "code",
   "execution_count": 311,
   "metadata": {},
   "outputs": [],
   "source": [
    "# skf = StratifiedKFold(n_splits=10,shuffle=True,random_state=2)"
   ]
  },
  {
   "cell_type": "code",
   "execution_count": 312,
   "metadata": {
    "scrolled": true
   },
   "outputs": [],
   "source": [
    "# sele = set()\n",
    "# n = 1\n",
    "# for tra_index,tst_index in skf.split(tra_x,tra_y):\n",
    "#     print(f'第{n}折')\n",
    "#     ktrax = tra_x.iloc[tra_index,:]\n",
    "#     ktray = tra_y.iloc[tra_index]\n",
    "#     ktstx = tra_x.iloc[tst_index,:]\n",
    "#     ktxty = tra_y.iloc[tst_index]\n",
    "#     clf = RandomForestClassifier(random_state=2)\n",
    "#     clf.fit(ktrax,ktray)\n",
    "#     imp = pd.DataFrame(clf.feature_importances_,index=tra_x.columns,columns=['importance']).sort_values('importance',ascending=False)\n",
    "#     sele = sele | set(imp['importance'].head(50).index)\n",
    "#     n+=1"
   ]
  },
  {
   "cell_type": "code",
   "execution_count": 313,
   "metadata": {},
   "outputs": [],
   "source": [
    "# tra_x = tra_x.drop('tag',axis=1)\n",
    "# tst_x = tst_x.drop('tag',axis=1)\n",
    "clf = LGBMClassifier(random_state=2,class_weight='balanced')\n",
    "clf.fit(tra_x,tra_y)\n",
    "tra_pred_y = clf.predict_proba(tra_x)[:,1]\n",
    "imp = pd.DataFrame(clf.feature_importances_,index=tra_x.columns,columns=['importance']).sort_values('importance',ascending=False)\n",
    "sele = set(imp['importance'].head(100).index)"
   ]
  },
  {
   "cell_type": "code",
   "execution_count": 314,
   "metadata": {},
   "outputs": [],
   "source": [
    "tra_x = tra_x[sele]\n",
    "# tst_x = tst_x[sele]\n",
    "oot_x = oot_x[sele]"
   ]
  },
  {
   "cell_type": "code",
   "execution_count": 315,
   "metadata": {},
   "outputs": [],
   "source": [
    "# tra_x = tra_x.drop(hcorr_lis,axis=1)\n",
    "# tst_x = tst_x.drop(hcorr_lis,axis=1)\n",
    "# oot_x = oot_x.drop(hcorr_lis,axis=1)"
   ]
  },
  {
   "cell_type": "code",
   "execution_count": 316,
   "metadata": {},
   "outputs": [],
   "source": [
    "# clf.fit(tra_x,tra_y)\n",
    "# tra_pred_y = clf.predict_proba(tra_x)[:,1]\n",
    "# tst_pred_y = clf.predict_proba(tst_x)[:,1]\n",
    "# oot_pred_y = clf.predict_proba(oot_x)[:,1]"
   ]
  },
  {
   "cell_type": "code",
   "execution_count": 317,
   "metadata": {
    "scrolled": true
   },
   "outputs": [],
   "source": [
    "# sc.perf_eva(tra_y,tra_pred_y)   "
   ]
  },
  {
   "cell_type": "code",
   "execution_count": 318,
   "metadata": {},
   "outputs": [],
   "source": [
    "# sc.perf_eva(tst_y,tst_pred_y)   "
   ]
  },
  {
   "cell_type": "code",
   "execution_count": 319,
   "metadata": {},
   "outputs": [],
   "source": [
    "# sc.perf_eva(oot_y,oot_pred_y)    "
   ]
  },
  {
   "cell_type": "code",
   "execution_count": null,
   "metadata": {},
   "outputs": [],
   "source": []
  },
  {
   "cell_type": "code",
   "execution_count": null,
   "metadata": {},
   "outputs": [],
   "source": []
  },
  {
   "cell_type": "markdown",
   "metadata": {},
   "source": [
    "### 3.3 决策树分箱"
   ]
  },
  {
   "cell_type": "code",
   "execution_count": 320,
   "metadata": {},
   "outputs": [],
   "source": [
    "tra_x = pd.concat([tra_x,tra_y],axis=1)\n",
    "# tst_x = pd.concat([tst_x,tst_y],axis=1)\n",
    "oot_x = pd.concat([oot_x,oot_y],axis=1)"
   ]
  },
  {
   "cell_type": "code",
   "execution_count": 321,
   "metadata": {
    "scrolled": true
   },
   "outputs": [
    {
     "name": "stdout",
     "output_type": "stream",
     "text": [
      "[INFO] creating woe binning ...\n",
      "Binning on 2001 rows and 101 columns in 00:00:13\n"
     ]
    }
   ],
   "source": [
    "bins_dic  =sc.woebin(tra_x,y='tag',method='chimerge')"
   ]
  },
  {
   "cell_type": "markdown",
   "metadata": {},
   "source": [
    "### 3.4 调整分箱"
   ]
  },
  {
   "cell_type": "code",
   "execution_count": 322,
   "metadata": {
    "scrolled": true
   },
   "outputs": [
    {
     "data": {
      "text/html": [
       "<div>\n",
       "<style scoped>\n",
       "    .dataframe tbody tr th:only-of-type {\n",
       "        vertical-align: middle;\n",
       "    }\n",
       "\n",
       "    .dataframe tbody tr th {\n",
       "        vertical-align: top;\n",
       "    }\n",
       "\n",
       "    .dataframe thead th {\n",
       "        text-align: right;\n",
       "    }\n",
       "</style>\n",
       "<table border=\"1\" class=\"dataframe\">\n",
       "  <thead>\n",
       "    <tr style=\"text-align: right;\">\n",
       "      <th></th>\n",
       "      <th>mono_status</th>\n",
       "      <th>iv</th>\n",
       "    </tr>\n",
       "    <tr>\n",
       "      <th>variable</th>\n",
       "      <th></th>\n",
       "      <th></th>\n",
       "    </tr>\n",
       "  </thead>\n",
       "  <tbody>\n",
       "    <tr>\n",
       "      <th>WN_ICR120</th>\n",
       "      <td>False</td>\n",
       "      <td>0.415574</td>\n",
       "    </tr>\n",
       "    <tr>\n",
       "      <th>WN_TAX019</th>\n",
       "      <td>False</td>\n",
       "      <td>0.265845</td>\n",
       "    </tr>\n",
       "    <tr>\n",
       "      <th>zxysavgloanbalanceamt</th>\n",
       "      <td>False</td>\n",
       "      <td>0.258340</td>\n",
       "    </tr>\n",
       "    <tr>\n",
       "      <th>WN_TAX024</th>\n",
       "      <td>False</td>\n",
       "      <td>0.234236</td>\n",
       "    </tr>\n",
       "    <tr>\n",
       "      <th>zxcaavgstrmbcurccpr</th>\n",
       "      <td>False</td>\n",
       "      <td>0.189549</td>\n",
       "    </tr>\n",
       "    <tr>\n",
       "      <th>...</th>\n",
       "      <td>...</td>\n",
       "      <td>...</td>\n",
       "    </tr>\n",
       "    <tr>\n",
       "      <th>x6_4</th>\n",
       "      <td>False</td>\n",
       "      <td>0.022390</td>\n",
       "    </tr>\n",
       "    <tr>\n",
       "      <th>zxpayamtavgstrmbcurallpr</th>\n",
       "      <td>False</td>\n",
       "      <td>0.019968</td>\n",
       "    </tr>\n",
       "    <tr>\n",
       "      <th>zxhomeaddrcnt</th>\n",
       "      <td>False</td>\n",
       "      <td>0.018016</td>\n",
       "    </tr>\n",
       "    <tr>\n",
       "      <th>zxccnowshouldpayamtvsic</th>\n",
       "      <td>False</td>\n",
       "      <td>0.016177</td>\n",
       "    </tr>\n",
       "    <tr>\n",
       "      <th>zxempcnt</th>\n",
       "      <td>False</td>\n",
       "      <td>0.015952</td>\n",
       "    </tr>\n",
       "  </tbody>\n",
       "</table>\n",
       "<p>66 rows × 2 columns</p>\n",
       "</div>"
      ],
      "text/plain": [
       "                          mono_status        iv\n",
       "variable                                       \n",
       "WN_ICR120                       False  0.415574\n",
       "WN_TAX019                       False  0.265845\n",
       "zxysavgloanbalanceamt           False  0.258340\n",
       "WN_TAX024                       False  0.234236\n",
       "zxcaavgstrmbcurccpr             False  0.189549\n",
       "...                               ...       ...\n",
       "x6_4                            False  0.022390\n",
       "zxpayamtavgstrmbcurallpr        False  0.019968\n",
       "zxhomeaddrcnt                   False  0.018016\n",
       "zxccnowshouldpayamtvsic         False  0.016177\n",
       "zxempcnt                        False  0.015952\n",
       "\n",
       "[66 rows x 2 columns]"
      ]
     },
     "execution_count": 322,
     "metadata": {},
     "output_type": "execute_result"
    }
   ],
   "source": [
    "fea_info = FeaEdaFunc.filter_fea(bins_dic)\n",
    "fea_info = fea_info.sort_values('iv',ascending=False)\n",
    "fea_info[fea_info['mono_status'] == False]"
   ]
  },
  {
   "cell_type": "code",
   "execution_count": 323,
   "metadata": {},
   "outputs": [],
   "source": [
    "# sc.woebin_plot(bins_dic,x=fea_info[fea_info['iv'] > 0.05].index.to_list())"
   ]
  },
  {
   "cell_type": "code",
   "execution_count": 324,
   "metadata": {},
   "outputs": [
    {
     "name": "stdout",
     "output_type": "stream",
     "text": [
      "[INFO] creating woe binning ...\n",
      "[INFO] creating woe binning ...\n"
     ]
    }
   ],
   "source": [
    "# adj_bin = sc.woebin(tra_x,x=['zxage','zxysavgloanbalanceamt','zxcrdpctrmbcurccpr','zxnmlccusedamt'],y='tag',\n",
    "#                     breaks_list={'zxage':[35,46],'zxysavgloanbalanceamt':[80000,220000,680000],'zxcrdpctrmbcurccpr':[15,25,80],\n",
    "#                                 'zxnmlccusedamt':[80000,150000,450000,750000]},\n",
    "#                    )\n",
    "\n",
    "\n",
    "\n",
    "\n",
    "adj_bin = sc.woebin(tra_x,x=['WN_ICR043','WN_TAX017','WN_TAX019','WN_TAX024','zxysavgloanbalanceamt','WN_TAX027','WN_TAX011','WN_TAX029','zxnmlccusedamt','zxutpggt6uplpr','zxshdprmbcuraccpr','WN_MIX027','rh_tot_card_max_balance_m24','zxactpccnrmaxgtu','WN_MIX017','rh_clear_loan_num_m24','zxpayamtminstallcurplpr','rh_tot_used_limit_rate','zxage','WN_ICR004','zxatc12mlmaxmobplpr'],y='tag',\n",
    "                    breaks_list={'WN_ICR043':[1,4,9],'WN_TAX017':[-0.5,4],'WN_TAX019':[-0.3,-0.1,2],'WN_TAX024':[0.7,1.3,1.7,4,5],\n",
    "                                 'zxysavgloanbalanceamt':[80000,320000,420000,800000],\n",
    "                                 'WN_TAX027':[-0.7,-0.3,1.2],\n",
    "                                 'WN_TAX011':[50000,550000],'WN_TAX029':[10000,40000,80000],'zxnmlccusedamt':[50000,200000,450000,750000],'zxutpggt6uplpr':[1,2],'zxshdprmbcuraccpr':[150,400,800],'WN_MIX027':[0,0.1,0.2],'rh_tot_card_max_balance_m24':[10000,70000,150000],'zxactpccnrmaxgtu':[0.5,1],'WN_MIX017':[0.1,0.2],\n",
    "'rh_clear_loan_num_m24':[4,15,36],'zxpayamtminstallcurplpr':[100,1000,2000],'rh_tot_used_limit_rate':[0.3,0.6,1],'zxage':[38,42,48],'WN_ICR004':[-0.15,0,0.1],'zxatc12mlmaxmobplpr':[8,11]})\n",
    "\n",
    "\n",
    "adj_bin1 = sc.woebin(tra_x,x=['zxcrdpctrmbcurccpr','x1_4','WN_ICR056','WN_TAX036','x3_4','lon_amt_12','zxcaavgstrmbcurccpr','WN_TAX012','x1_2','zxcaavgstallcurccpr','x3_2','zxracallpr','WN_TAX035','WN_MIX025','zxutlpctallcuraccpr','zxutlpctrmbcuraccpr','zxpayamtmaxstallcuraccpr','zxcasumstallcurccpr','WN_TAX034'],y='tag',breaks_list={'zxcrdpctrmbcurccpr':[15,35,80],'x1_4':[1000,4500,5500],'WN_ICR056':[1,2],'WN_TAX036':[-0.8,-0.5,0],'x3_4':[10000,15000,20000,27000],'lon_amt_12':[250000,750000],'zxcaavgstrmbcurccpr':[20000,50000,90000],'WN_TAX012':[100000,500000,1300000],'x1_2':[3000,6500],'zxcaavgstallcurccpr':[20000,50000,100000],'x3_2':[10000,16000],'zxracallpr':[150000,310000,480000,700000],'WN_TAX035':[-0.8,0.2],'WN_MIX025':[0.1,0.35,1.6],'zxutlpctallcuraccpr':[25,50,75],'zxutlpctrmbcuraccpr':[25,75,90],'zxpayamtmaxstallcuraccpr':[2300,19000],'zxcasumstallcurccpr':[100000,300000,635000,900000],'WN_TAX034':[1,1.6,2.7]})\n",
    "\n",
    "\n"
   ]
  },
  {
   "cell_type": "code",
   "execution_count": 325,
   "metadata": {
    "scrolled": true
   },
   "outputs": [
    {
     "ename": "KeyError",
     "evalue": "0",
     "output_type": "error",
     "traceback": [
      "\u001b[0;31m---------------------------------------------------------------------------\u001b[0m",
      "\u001b[0;31mValueError\u001b[0m                                Traceback (most recent call last)",
      "\u001b[0;32m/home/anaconda3/lib/python3.7/site-packages/pandas/core/indexes/range.py\u001b[0m in \u001b[0;36mget_loc\u001b[0;34m(self, key, method, tolerance)\u001b[0m\n\u001b[1;32m    349\u001b[0m             \u001b[0;32mtry\u001b[0m\u001b[0;34m:\u001b[0m\u001b[0;34m\u001b[0m\u001b[0;34m\u001b[0m\u001b[0m\n\u001b[0;32m--> 350\u001b[0;31m                 \u001b[0;32mreturn\u001b[0m \u001b[0mself\u001b[0m\u001b[0;34m.\u001b[0m\u001b[0m_range\u001b[0m\u001b[0;34m.\u001b[0m\u001b[0mindex\u001b[0m\u001b[0;34m(\u001b[0m\u001b[0mnew_key\u001b[0m\u001b[0;34m)\u001b[0m\u001b[0;34m\u001b[0m\u001b[0;34m\u001b[0m\u001b[0m\n\u001b[0m\u001b[1;32m    351\u001b[0m             \u001b[0;32mexcept\u001b[0m \u001b[0mValueError\u001b[0m\u001b[0;34m:\u001b[0m\u001b[0;34m\u001b[0m\u001b[0;34m\u001b[0m\u001b[0m\n",
      "\u001b[0;31mValueError\u001b[0m: 0 is not in range",
      "\nDuring handling of the above exception, another exception occurred:\n",
      "\u001b[0;31mKeyError\u001b[0m                                  Traceback (most recent call last)",
      "\u001b[0;32m<ipython-input-325-7b598621e9da>\u001b[0m in \u001b[0;36m<module>\u001b[0;34m\u001b[0m\n\u001b[0;32m----> 1\u001b[0;31m \u001b[0msc\u001b[0m\u001b[0;34m.\u001b[0m\u001b[0mwoebin_plot\u001b[0m\u001b[0;34m(\u001b[0m\u001b[0madj_bin\u001b[0m\u001b[0;34m,\u001b[0m\u001b[0mx\u001b[0m\u001b[0;34m=\u001b[0m\u001b[0;34m[\u001b[0m\u001b[0;34m'zxysavgloanbalanceamt'\u001b[0m\u001b[0;34m,\u001b[0m\u001b[0;34m'zxage'\u001b[0m\u001b[0;34m,\u001b[0m\u001b[0;34m'zxcrdpctrmbcurccpr'\u001b[0m\u001b[0;34m,\u001b[0m\u001b[0;34m'zxnmlccusedamt'\u001b[0m\u001b[0;34m]\u001b[0m\u001b[0;34m)\u001b[0m\u001b[0;34m\u001b[0m\u001b[0;34m\u001b[0m\u001b[0m\n\u001b[0m",
      "\u001b[0;32m/home/anaconda3/lib/python3.7/site-packages/scorecardpy/woebin.py\u001b[0m in \u001b[0;36mwoebin_plot\u001b[0;34m(bins, x, title, show_iv)\u001b[0m\n\u001b[1;32m   1287\u001b[0m     \u001b[0;32mfor\u001b[0m \u001b[0mi\u001b[0m \u001b[0;32min\u001b[0m \u001b[0mxs\u001b[0m\u001b[0;34m:\u001b[0m\u001b[0;34m\u001b[0m\u001b[0;34m\u001b[0m\u001b[0m\n\u001b[1;32m   1288\u001b[0m         \u001b[0mbinx\u001b[0m \u001b[0;34m=\u001b[0m \u001b[0mbins\u001b[0m\u001b[0;34m[\u001b[0m\u001b[0mbins\u001b[0m\u001b[0;34m[\u001b[0m\u001b[0;34m'variable'\u001b[0m\u001b[0;34m]\u001b[0m \u001b[0;34m==\u001b[0m \u001b[0mi\u001b[0m\u001b[0;34m]\u001b[0m\u001b[0;34m.\u001b[0m\u001b[0mreset_index\u001b[0m\u001b[0;34m(\u001b[0m\u001b[0;34m)\u001b[0m\u001b[0;34m\u001b[0m\u001b[0;34m\u001b[0m\u001b[0m\n\u001b[0;32m-> 1289\u001b[0;31m         \u001b[0mplotlist\u001b[0m\u001b[0;34m[\u001b[0m\u001b[0mi\u001b[0m\u001b[0;34m]\u001b[0m \u001b[0;34m=\u001b[0m \u001b[0mplot_bin\u001b[0m\u001b[0;34m(\u001b[0m\u001b[0mbinx\u001b[0m\u001b[0;34m,\u001b[0m \u001b[0mtitle\u001b[0m\u001b[0;34m,\u001b[0m \u001b[0mshow_iv\u001b[0m\u001b[0;34m)\u001b[0m\u001b[0;34m\u001b[0m\u001b[0;34m\u001b[0m\u001b[0m\n\u001b[0m\u001b[1;32m   1290\u001b[0m     \u001b[0;32mreturn\u001b[0m \u001b[0mplotlist\u001b[0m\u001b[0;34m\u001b[0m\u001b[0;34m\u001b[0m\u001b[0m\n\u001b[1;32m   1291\u001b[0m \u001b[0;34m\u001b[0m\u001b[0m\n",
      "\u001b[0;32m/home/anaconda3/lib/python3.7/site-packages/scorecardpy/woebin.py\u001b[0m in \u001b[0;36mplot_bin\u001b[0;34m(binx, title, show_iv)\u001b[0m\n\u001b[1;32m   1195\u001b[0m     \u001b[0;32mif\u001b[0m \u001b[0my_left_max\u001b[0m\u001b[0;34m>\u001b[0m\u001b[0;36m1\u001b[0m \u001b[0;32mor\u001b[0m \u001b[0my_left_max\u001b[0m\u001b[0;34m<=\u001b[0m\u001b[0;36m0\u001b[0m \u001b[0;32mor\u001b[0m \u001b[0my_left_max\u001b[0m \u001b[0;32mis\u001b[0m \u001b[0mnp\u001b[0m\u001b[0;34m.\u001b[0m\u001b[0mnan\u001b[0m \u001b[0;32mor\u001b[0m \u001b[0my_left_max\u001b[0m \u001b[0;32mis\u001b[0m \u001b[0;32mNone\u001b[0m\u001b[0;34m:\u001b[0m \u001b[0my_left_max\u001b[0m\u001b[0;34m=\u001b[0m\u001b[0;36m1\u001b[0m\u001b[0;34m\u001b[0m\u001b[0;34m\u001b[0m\u001b[0m\n\u001b[1;32m   1196\u001b[0m     \u001b[0;31m# title\u001b[0m\u001b[0;34m\u001b[0m\u001b[0;34m\u001b[0m\u001b[0;34m\u001b[0m\u001b[0m\n\u001b[0;32m-> 1197\u001b[0;31m     \u001b[0mtitle_string\u001b[0m \u001b[0;34m=\u001b[0m \u001b[0mbinx\u001b[0m\u001b[0;34m.\u001b[0m\u001b[0mloc\u001b[0m\u001b[0;34m[\u001b[0m\u001b[0;36m0\u001b[0m\u001b[0;34m,\u001b[0m\u001b[0;34m'variable'\u001b[0m\u001b[0;34m]\u001b[0m\u001b[0;34m+\u001b[0m\u001b[0;34m\"  (iv:\"\u001b[0m\u001b[0;34m+\u001b[0m\u001b[0mstr\u001b[0m\u001b[0;34m(\u001b[0m\u001b[0mround\u001b[0m\u001b[0;34m(\u001b[0m\u001b[0mbinx\u001b[0m\u001b[0;34m.\u001b[0m\u001b[0mloc\u001b[0m\u001b[0;34m[\u001b[0m\u001b[0;36m0\u001b[0m\u001b[0;34m,\u001b[0m\u001b[0;34m'total_iv'\u001b[0m\u001b[0;34m]\u001b[0m\u001b[0;34m,\u001b[0m\u001b[0;36m4\u001b[0m\u001b[0;34m)\u001b[0m\u001b[0;34m)\u001b[0m\u001b[0;34m+\u001b[0m\u001b[0;34m\")\"\u001b[0m \u001b[0;32mif\u001b[0m \u001b[0mshow_iv\u001b[0m \u001b[0;32melse\u001b[0m \u001b[0mbinx\u001b[0m\u001b[0;34m.\u001b[0m\u001b[0mloc\u001b[0m\u001b[0;34m[\u001b[0m\u001b[0;36m0\u001b[0m\u001b[0;34m,\u001b[0m\u001b[0;34m'variable'\u001b[0m\u001b[0;34m]\u001b[0m\u001b[0;34m\u001b[0m\u001b[0;34m\u001b[0m\u001b[0m\n\u001b[0m\u001b[1;32m   1198\u001b[0m     \u001b[0mtitle_string\u001b[0m \u001b[0;34m=\u001b[0m \u001b[0mtitle\u001b[0m\u001b[0;34m+\u001b[0m\u001b[0;34m'-'\u001b[0m\u001b[0;34m+\u001b[0m\u001b[0mtitle_string\u001b[0m \u001b[0;32mif\u001b[0m \u001b[0mtitle\u001b[0m \u001b[0;32mis\u001b[0m \u001b[0;32mnot\u001b[0m \u001b[0;32mNone\u001b[0m \u001b[0;32melse\u001b[0m \u001b[0mtitle_string\u001b[0m\u001b[0;34m\u001b[0m\u001b[0;34m\u001b[0m\u001b[0m\n\u001b[1;32m   1199\u001b[0m     \u001b[0;31m# param\u001b[0m\u001b[0;34m\u001b[0m\u001b[0;34m\u001b[0m\u001b[0;34m\u001b[0m\u001b[0m\n",
      "\u001b[0;32m/home/anaconda3/lib/python3.7/site-packages/pandas/core/indexing.py\u001b[0m in \u001b[0;36m__getitem__\u001b[0;34m(self, key)\u001b[0m\n\u001b[1;32m   1759\u001b[0m                 \u001b[0;32mexcept\u001b[0m \u001b[0;34m(\u001b[0m\u001b[0mKeyError\u001b[0m\u001b[0;34m,\u001b[0m \u001b[0mIndexError\u001b[0m\u001b[0;34m,\u001b[0m \u001b[0mAttributeError\u001b[0m\u001b[0;34m)\u001b[0m\u001b[0;34m:\u001b[0m\u001b[0;34m\u001b[0m\u001b[0;34m\u001b[0m\u001b[0m\n\u001b[1;32m   1760\u001b[0m                     \u001b[0;32mpass\u001b[0m\u001b[0;34m\u001b[0m\u001b[0;34m\u001b[0m\u001b[0m\n\u001b[0;32m-> 1761\u001b[0;31m             \u001b[0;32mreturn\u001b[0m \u001b[0mself\u001b[0m\u001b[0;34m.\u001b[0m\u001b[0m_getitem_tuple\u001b[0m\u001b[0;34m(\u001b[0m\u001b[0mkey\u001b[0m\u001b[0;34m)\u001b[0m\u001b[0;34m\u001b[0m\u001b[0;34m\u001b[0m\u001b[0m\n\u001b[0m\u001b[1;32m   1762\u001b[0m         \u001b[0;32melse\u001b[0m\u001b[0;34m:\u001b[0m\u001b[0;34m\u001b[0m\u001b[0;34m\u001b[0m\u001b[0m\n\u001b[1;32m   1763\u001b[0m             \u001b[0;31m# we by definition only have the 0th axis\u001b[0m\u001b[0;34m\u001b[0m\u001b[0;34m\u001b[0m\u001b[0;34m\u001b[0m\u001b[0m\n",
      "\u001b[0;32m/home/anaconda3/lib/python3.7/site-packages/pandas/core/indexing.py\u001b[0m in \u001b[0;36m_getitem_tuple\u001b[0;34m(self, tup)\u001b[0m\n\u001b[1;32m   1269\u001b[0m     \u001b[0;32mdef\u001b[0m \u001b[0m_getitem_tuple\u001b[0m\u001b[0;34m(\u001b[0m\u001b[0mself\u001b[0m\u001b[0;34m,\u001b[0m \u001b[0mtup\u001b[0m\u001b[0;34m:\u001b[0m \u001b[0mTuple\u001b[0m\u001b[0;34m)\u001b[0m\u001b[0;34m:\u001b[0m\u001b[0;34m\u001b[0m\u001b[0;34m\u001b[0m\u001b[0m\n\u001b[1;32m   1270\u001b[0m         \u001b[0;32mtry\u001b[0m\u001b[0;34m:\u001b[0m\u001b[0;34m\u001b[0m\u001b[0;34m\u001b[0m\u001b[0m\n\u001b[0;32m-> 1271\u001b[0;31m             \u001b[0;32mreturn\u001b[0m \u001b[0mself\u001b[0m\u001b[0;34m.\u001b[0m\u001b[0m_getitem_lowerdim\u001b[0m\u001b[0;34m(\u001b[0m\u001b[0mtup\u001b[0m\u001b[0;34m)\u001b[0m\u001b[0;34m\u001b[0m\u001b[0;34m\u001b[0m\u001b[0m\n\u001b[0m\u001b[1;32m   1272\u001b[0m         \u001b[0;32mexcept\u001b[0m \u001b[0mIndexingError\u001b[0m\u001b[0;34m:\u001b[0m\u001b[0;34m\u001b[0m\u001b[0;34m\u001b[0m\u001b[0m\n\u001b[1;32m   1273\u001b[0m             \u001b[0;32mpass\u001b[0m\u001b[0;34m\u001b[0m\u001b[0;34m\u001b[0m\u001b[0m\n",
      "\u001b[0;32m/home/anaconda3/lib/python3.7/site-packages/pandas/core/indexing.py\u001b[0m in \u001b[0;36m_getitem_lowerdim\u001b[0;34m(self, tup)\u001b[0m\n\u001b[1;32m   1386\u001b[0m         \u001b[0;32mfor\u001b[0m \u001b[0mi\u001b[0m\u001b[0;34m,\u001b[0m \u001b[0mkey\u001b[0m \u001b[0;32min\u001b[0m \u001b[0menumerate\u001b[0m\u001b[0;34m(\u001b[0m\u001b[0mtup\u001b[0m\u001b[0;34m)\u001b[0m\u001b[0;34m:\u001b[0m\u001b[0;34m\u001b[0m\u001b[0;34m\u001b[0m\u001b[0m\n\u001b[1;32m   1387\u001b[0m             \u001b[0;32mif\u001b[0m \u001b[0mis_label_like\u001b[0m\u001b[0;34m(\u001b[0m\u001b[0mkey\u001b[0m\u001b[0;34m)\u001b[0m \u001b[0;32mor\u001b[0m \u001b[0misinstance\u001b[0m\u001b[0;34m(\u001b[0m\u001b[0mkey\u001b[0m\u001b[0;34m,\u001b[0m \u001b[0mtuple\u001b[0m\u001b[0;34m)\u001b[0m\u001b[0;34m:\u001b[0m\u001b[0;34m\u001b[0m\u001b[0;34m\u001b[0m\u001b[0m\n\u001b[0;32m-> 1388\u001b[0;31m                 \u001b[0msection\u001b[0m \u001b[0;34m=\u001b[0m \u001b[0mself\u001b[0m\u001b[0;34m.\u001b[0m\u001b[0m_getitem_axis\u001b[0m\u001b[0;34m(\u001b[0m\u001b[0mkey\u001b[0m\u001b[0;34m,\u001b[0m \u001b[0maxis\u001b[0m\u001b[0;34m=\u001b[0m\u001b[0mi\u001b[0m\u001b[0;34m)\u001b[0m\u001b[0;34m\u001b[0m\u001b[0;34m\u001b[0m\u001b[0m\n\u001b[0m\u001b[1;32m   1389\u001b[0m \u001b[0;34m\u001b[0m\u001b[0m\n\u001b[1;32m   1390\u001b[0m                 \u001b[0;31m# we have yielded a scalar ?\u001b[0m\u001b[0;34m\u001b[0m\u001b[0;34m\u001b[0m\u001b[0;34m\u001b[0m\u001b[0m\n",
      "\u001b[0;32m/home/anaconda3/lib/python3.7/site-packages/pandas/core/indexing.py\u001b[0m in \u001b[0;36m_getitem_axis\u001b[0;34m(self, key, axis)\u001b[0m\n\u001b[1;32m   1962\u001b[0m         \u001b[0;31m# fall thru to straight lookup\u001b[0m\u001b[0;34m\u001b[0m\u001b[0;34m\u001b[0m\u001b[0;34m\u001b[0m\u001b[0m\n\u001b[1;32m   1963\u001b[0m         \u001b[0mself\u001b[0m\u001b[0;34m.\u001b[0m\u001b[0m_validate_key\u001b[0m\u001b[0;34m(\u001b[0m\u001b[0mkey\u001b[0m\u001b[0;34m,\u001b[0m \u001b[0maxis\u001b[0m\u001b[0;34m)\u001b[0m\u001b[0;34m\u001b[0m\u001b[0;34m\u001b[0m\u001b[0m\n\u001b[0;32m-> 1964\u001b[0;31m         \u001b[0;32mreturn\u001b[0m \u001b[0mself\u001b[0m\u001b[0;34m.\u001b[0m\u001b[0m_get_label\u001b[0m\u001b[0;34m(\u001b[0m\u001b[0mkey\u001b[0m\u001b[0;34m,\u001b[0m \u001b[0maxis\u001b[0m\u001b[0;34m=\u001b[0m\u001b[0maxis\u001b[0m\u001b[0;34m)\u001b[0m\u001b[0;34m\u001b[0m\u001b[0;34m\u001b[0m\u001b[0m\n\u001b[0m\u001b[1;32m   1965\u001b[0m \u001b[0;34m\u001b[0m\u001b[0m\n\u001b[1;32m   1966\u001b[0m \u001b[0;34m\u001b[0m\u001b[0m\n",
      "\u001b[0;32m/home/anaconda3/lib/python3.7/site-packages/pandas/core/indexing.py\u001b[0m in \u001b[0;36m_get_label\u001b[0;34m(self, label, axis)\u001b[0m\n\u001b[1;32m    622\u001b[0m             \u001b[0;32mraise\u001b[0m \u001b[0mIndexingError\u001b[0m\u001b[0;34m(\u001b[0m\u001b[0;34m\"no slices here, handle elsewhere\"\u001b[0m\u001b[0;34m)\u001b[0m\u001b[0;34m\u001b[0m\u001b[0;34m\u001b[0m\u001b[0m\n\u001b[1;32m    623\u001b[0m \u001b[0;34m\u001b[0m\u001b[0m\n\u001b[0;32m--> 624\u001b[0;31m         \u001b[0;32mreturn\u001b[0m \u001b[0mself\u001b[0m\u001b[0;34m.\u001b[0m\u001b[0mobj\u001b[0m\u001b[0;34m.\u001b[0m\u001b[0m_xs\u001b[0m\u001b[0;34m(\u001b[0m\u001b[0mlabel\u001b[0m\u001b[0;34m,\u001b[0m \u001b[0maxis\u001b[0m\u001b[0;34m=\u001b[0m\u001b[0maxis\u001b[0m\u001b[0;34m)\u001b[0m\u001b[0;34m\u001b[0m\u001b[0;34m\u001b[0m\u001b[0m\n\u001b[0m\u001b[1;32m    625\u001b[0m \u001b[0;34m\u001b[0m\u001b[0m\n\u001b[1;32m    626\u001b[0m     \u001b[0;32mdef\u001b[0m \u001b[0m_get_loc\u001b[0m\u001b[0;34m(\u001b[0m\u001b[0mself\u001b[0m\u001b[0;34m,\u001b[0m \u001b[0mkey\u001b[0m\u001b[0;34m:\u001b[0m \u001b[0mint\u001b[0m\u001b[0;34m,\u001b[0m \u001b[0maxis\u001b[0m\u001b[0;34m:\u001b[0m \u001b[0mint\u001b[0m\u001b[0;34m)\u001b[0m\u001b[0;34m:\u001b[0m\u001b[0;34m\u001b[0m\u001b[0;34m\u001b[0m\u001b[0m\n",
      "\u001b[0;32m/home/anaconda3/lib/python3.7/site-packages/pandas/core/generic.py\u001b[0m in \u001b[0;36mxs\u001b[0;34m(self, key, axis, level, drop_level)\u001b[0m\n\u001b[1;32m   3535\u001b[0m             \u001b[0mloc\u001b[0m\u001b[0;34m,\u001b[0m \u001b[0mnew_index\u001b[0m \u001b[0;34m=\u001b[0m \u001b[0mself\u001b[0m\u001b[0;34m.\u001b[0m\u001b[0mindex\u001b[0m\u001b[0;34m.\u001b[0m\u001b[0mget_loc_level\u001b[0m\u001b[0;34m(\u001b[0m\u001b[0mkey\u001b[0m\u001b[0;34m,\u001b[0m \u001b[0mdrop_level\u001b[0m\u001b[0;34m=\u001b[0m\u001b[0mdrop_level\u001b[0m\u001b[0;34m)\u001b[0m\u001b[0;34m\u001b[0m\u001b[0;34m\u001b[0m\u001b[0m\n\u001b[1;32m   3536\u001b[0m         \u001b[0;32melse\u001b[0m\u001b[0;34m:\u001b[0m\u001b[0;34m\u001b[0m\u001b[0;34m\u001b[0m\u001b[0m\n\u001b[0;32m-> 3537\u001b[0;31m             \u001b[0mloc\u001b[0m \u001b[0;34m=\u001b[0m \u001b[0mself\u001b[0m\u001b[0;34m.\u001b[0m\u001b[0mindex\u001b[0m\u001b[0;34m.\u001b[0m\u001b[0mget_loc\u001b[0m\u001b[0;34m(\u001b[0m\u001b[0mkey\u001b[0m\u001b[0;34m)\u001b[0m\u001b[0;34m\u001b[0m\u001b[0;34m\u001b[0m\u001b[0m\n\u001b[0m\u001b[1;32m   3538\u001b[0m \u001b[0;34m\u001b[0m\u001b[0m\n\u001b[1;32m   3539\u001b[0m             \u001b[0;32mif\u001b[0m \u001b[0misinstance\u001b[0m\u001b[0;34m(\u001b[0m\u001b[0mloc\u001b[0m\u001b[0;34m,\u001b[0m \u001b[0mnp\u001b[0m\u001b[0;34m.\u001b[0m\u001b[0mndarray\u001b[0m\u001b[0;34m)\u001b[0m\u001b[0;34m:\u001b[0m\u001b[0;34m\u001b[0m\u001b[0;34m\u001b[0m\u001b[0m\n",
      "\u001b[0;32m/home/anaconda3/lib/python3.7/site-packages/pandas/core/indexes/range.py\u001b[0m in \u001b[0;36mget_loc\u001b[0;34m(self, key, method, tolerance)\u001b[0m\n\u001b[1;32m    350\u001b[0m                 \u001b[0;32mreturn\u001b[0m \u001b[0mself\u001b[0m\u001b[0;34m.\u001b[0m\u001b[0m_range\u001b[0m\u001b[0;34m.\u001b[0m\u001b[0mindex\u001b[0m\u001b[0;34m(\u001b[0m\u001b[0mnew_key\u001b[0m\u001b[0;34m)\u001b[0m\u001b[0;34m\u001b[0m\u001b[0;34m\u001b[0m\u001b[0m\n\u001b[1;32m    351\u001b[0m             \u001b[0;32mexcept\u001b[0m \u001b[0mValueError\u001b[0m\u001b[0;34m:\u001b[0m\u001b[0;34m\u001b[0m\u001b[0;34m\u001b[0m\u001b[0m\n\u001b[0;32m--> 352\u001b[0;31m                 \u001b[0;32mraise\u001b[0m \u001b[0mKeyError\u001b[0m\u001b[0;34m(\u001b[0m\u001b[0mkey\u001b[0m\u001b[0;34m)\u001b[0m\u001b[0;34m\u001b[0m\u001b[0;34m\u001b[0m\u001b[0m\n\u001b[0m\u001b[1;32m    353\u001b[0m         \u001b[0;32mreturn\u001b[0m \u001b[0msuper\u001b[0m\u001b[0;34m(\u001b[0m\u001b[0;34m)\u001b[0m\u001b[0;34m.\u001b[0m\u001b[0mget_loc\u001b[0m\u001b[0;34m(\u001b[0m\u001b[0mkey\u001b[0m\u001b[0;34m,\u001b[0m \u001b[0mmethod\u001b[0m\u001b[0;34m=\u001b[0m\u001b[0mmethod\u001b[0m\u001b[0;34m,\u001b[0m \u001b[0mtolerance\u001b[0m\u001b[0;34m=\u001b[0m\u001b[0mtolerance\u001b[0m\u001b[0;34m)\u001b[0m\u001b[0;34m\u001b[0m\u001b[0;34m\u001b[0m\u001b[0m\n\u001b[1;32m    354\u001b[0m \u001b[0;34m\u001b[0m\u001b[0m\n",
      "\u001b[0;31mKeyError\u001b[0m: 0"
     ]
    },
    {
     "data": {
      "image/png": "[encoded data removed]",
      "text/plain": [
       "<Figure size 432x288 with 2 Axes>"
      ]
     },
     "metadata": {
      "needs_background": "light"
     },
     "output_type": "display_data"
    },
    {
     "data": {
      "image/png": "[encoded data removed]",
      "text/plain": [
       "<Figure size 432x288 with 2 Axes>"
      ]
     },
     "metadata": {
      "needs_background": "light"
     },
     "output_type": "display_data"
    }
   ],
   "source": [
    "sc.woebin_plot(adj_bin,x=['zxysavgloanbalanceamt','zxage','zxcrdpctrmbcurccpr','zxnmlccusedamt'])"
   ]
  },
  {
   "cell_type": "code",
   "execution_count": 326,
   "metadata": {},
   "outputs": [],
   "source": [
    "bins_dic.update(adj_bin)\n",
    "bins_dic.update(adj_bin1)"
   ]
  },
  {
   "cell_type": "markdown",
   "metadata": {},
   "source": [
    "### 3.5 剔除iv<0.05的特征"
   ]
  },
  {
   "cell_type": "code",
   "execution_count": 327,
   "metadata": {
    "scrolled": true
   },
   "outputs": [
    {
     "data": {
      "text/html": [
       "<div>\n",
       "<style scoped>\n",
       "    .dataframe tbody tr th:only-of-type {\n",
       "        vertical-align: middle;\n",
       "    }\n",
       "\n",
       "    .dataframe tbody tr th {\n",
       "        vertical-align: top;\n",
       "    }\n",
       "\n",
       "    .dataframe thead th {\n",
       "        text-align: right;\n",
       "    }\n",
       "</style>\n",
       "<table border=\"1\" class=\"dataframe\">\n",
       "  <thead>\n",
       "    <tr style=\"text-align: right;\">\n",
       "      <th></th>\n",
       "      <th>mono_status</th>\n",
       "      <th>iv</th>\n",
       "    </tr>\n",
       "    <tr>\n",
       "      <th>variable</th>\n",
       "      <th></th>\n",
       "      <th></th>\n",
       "    </tr>\n",
       "  </thead>\n",
       "  <tbody>\n",
       "    <tr>\n",
       "      <th>WN_ICR120</th>\n",
       "      <td>False</td>\n",
       "      <td>0.415574</td>\n",
       "    </tr>\n",
       "    <tr>\n",
       "      <th>WN_TAX019</th>\n",
       "      <td>False</td>\n",
       "      <td>0.279929</td>\n",
       "    </tr>\n",
       "    <tr>\n",
       "      <th>zxysavgloanbalanceamt</th>\n",
       "      <td>False</td>\n",
       "      <td>0.227657</td>\n",
       "    </tr>\n",
       "    <tr>\n",
       "      <th>WN_TAX027</th>\n",
       "      <td>False</td>\n",
       "      <td>0.188160</td>\n",
       "    </tr>\n",
       "    <tr>\n",
       "      <th>WN_TAX025</th>\n",
       "      <td>False</td>\n",
       "      <td>0.185863</td>\n",
       "    </tr>\n",
       "    <tr>\n",
       "      <th>...</th>\n",
       "      <td>...</td>\n",
       "      <td>...</td>\n",
       "    </tr>\n",
       "    <tr>\n",
       "      <th>zxempcnt</th>\n",
       "      <td>False</td>\n",
       "      <td>0.015952</td>\n",
       "    </tr>\n",
       "    <tr>\n",
       "      <th>zxracallpr</th>\n",
       "      <td>False</td>\n",
       "      <td>0.015662</td>\n",
       "    </tr>\n",
       "    <tr>\n",
       "      <th>zxatc12mlmaxmobplpr</th>\n",
       "      <td>False</td>\n",
       "      <td>0.010721</td>\n",
       "    </tr>\n",
       "    <tr>\n",
       "      <th>x3_4</th>\n",
       "      <td>False</td>\n",
       "      <td>0.010153</td>\n",
       "    </tr>\n",
       "    <tr>\n",
       "      <th>x1_2</th>\n",
       "      <td>False</td>\n",
       "      <td>0.008393</td>\n",
       "    </tr>\n",
       "  </tbody>\n",
       "</table>\n",
       "<p>71 rows × 2 columns</p>\n",
       "</div>"
      ],
      "text/plain": [
       "                       mono_status        iv\n",
       "variable                                    \n",
       "WN_ICR120                    False  0.415574\n",
       "WN_TAX019                    False  0.279929\n",
       "zxysavgloanbalanceamt        False  0.227657\n",
       "WN_TAX027                    False  0.188160\n",
       "WN_TAX025                    False  0.185863\n",
       "...                            ...       ...\n",
       "zxempcnt                     False  0.015952\n",
       "zxracallpr                   False  0.015662\n",
       "zxatc12mlmaxmobplpr          False  0.010721\n",
       "x3_4                         False  0.010153\n",
       "x1_2                         False  0.008393\n",
       "\n",
       "[71 rows x 2 columns]"
      ]
     },
     "execution_count": 327,
     "metadata": {},
     "output_type": "execute_result"
    }
   ],
   "source": [
    "fea_info = FeaEdaFunc.filter_fea(bins_dic)\n",
    "fea_info = fea_info.sort_values('iv',ascending=False)\n",
    "fea_info[fea_info['mono_status'] == False]"
   ]
  },
  {
   "cell_type": "code",
   "execution_count": 328,
   "metadata": {},
   "outputs": [],
   "source": [
    "ivdrop_feas = fea_info[fea_info['iv'] < 0.02].index.to_list()"
   ]
  },
  {
   "cell_type": "code",
   "execution_count": 329,
   "metadata": {
    "scrolled": false
   },
   "outputs": [],
   "source": [
    "bins_drop_dic = [bins_dic.pop(k) for k in ivdrop_feas]"
   ]
  },
  {
   "cell_type": "code",
   "execution_count": 330,
   "metadata": {},
   "outputs": [],
   "source": [
    "tra_x = tra_x.drop(ivdrop_feas,axis=1)\n",
    "# tst_x = tst_x.drop(ivdrop_feas,axis=1)\n",
    "oot_x = oot_x.drop(ivdrop_feas,axis=1)"
   ]
  },
  {
   "cell_type": "markdown",
   "metadata": {},
   "source": [
    "### 3.5 woe"
   ]
  },
  {
   "cell_type": "code",
   "execution_count": 331,
   "metadata": {},
   "outputs": [
    {
     "name": "stdout",
     "output_type": "stream",
     "text": [
      "[INFO] converting into woe values ...\n",
      "[INFO] converting into woe values ...\n"
     ]
    }
   ],
   "source": [
    "tra_x_woe = sc.woebin_ply(tra_x,bins_dic)\n",
    "# tst_x_woe = sc.woebin_ply(tst_x,bins_dic)\n",
    "oot_x_woe = sc.woebin_ply(oot_x,bins_dic)"
   ]
  },
  {
   "cell_type": "markdown",
   "metadata": {},
   "source": [
    "### 3.6 剔除psi大于0.1的特征"
   ]
  },
  {
   "cell_type": "code",
   "execution_count": 332,
   "metadata": {},
   "outputs": [],
   "source": [
    "# tst_bin_group = FeaEdaFunc.bin_group(tst_x_woe,cols=tst_x_woe.iloc[:,1:].columns,target='tag')\n",
    "# oot_bin_group = FeaEdaFunc.bin_group(oot_x_woe,cols=tst_x_woe.iloc[:,1:].columns,target='tag')"
   ]
  },
  {
   "cell_type": "code",
   "execution_count": 333,
   "metadata": {},
   "outputs": [],
   "source": [
    "def calc_psi(bindic,exp,act):\n",
    "    psi_dic = {}\n",
    "    con_dic = {}\n",
    "    for k,b in bindic.items():\n",
    "        g1 = exp[[k]].fillna('missing')\n",
    "        g2 = act[[k]].fillna('missing')\n",
    "        cut_bin = b.loc[b['breaks']!= 'missing','breaks'].astype(float)\n",
    "        cut_bin.loc[len(cut_bin)+1] = '-inf'\n",
    "        cut_bin = cut_bin.astype(float).sort_values()\n",
    "        g1['c'] = pd.cut(g1.loc[g1[k] != 'missing',k],bins=cut_bin,right=False)\n",
    "        g2['c'] = pd.cut(g2.loc[g2[k] != 'missing',k],bins=cut_bin,right=False)\n",
    "        g1['c'] = g1['c'].astype(str)\n",
    "        g1.loc[g1[k] == 'missing','c'] = 'missing'\n",
    "        count_a = g1.groupby('c').size()/len(g1)\n",
    "        g2['c'] = g2['c'].astype(str)\n",
    "        g2.loc[g2[k] == 'missing','c'] = 'missing'\n",
    "        count_e = g2.groupby('c').size()/len(g2)\n",
    "        con = pd.concat([count_a,count_e],axis=1,keys=['a','e'])\n",
    "        con['a-e'] = con['a'] - con['e']\n",
    "        con['ln(a/e)'] = np.log(con['a']/con['e'])\n",
    "        con_dic[k] = con\n",
    "        x = (con['a'] - con['e'])*np.log(con['a']/con['e'])\n",
    "        x = x[~x.isnull()]\n",
    "        psi = sum(x)\n",
    "        psi_dic[k] = psi\n",
    "    return psi_dic,con_dic"
   ]
  },
  {
   "cell_type": "code",
   "execution_count": 334,
   "metadata": {
    "scrolled": true
   },
   "outputs": [
    {
     "name": "stderr",
     "output_type": "stream",
     "text": [
      "/home/anaconda3/lib/python3.7/site-packages/pandas/core/ops/array_ops.py:253: FutureWarning: elementwise comparison failed; returning scalar instead, but in the future will perform elementwise comparison\n",
      "  res_values = method(rvalues)\n"
     ]
    }
   ],
   "source": [
    "psi_info,con_info = calc_psi(bins_dic,tra_x,oot_x)"
   ]
  },
  {
   "cell_type": "code",
   "execution_count": 335,
   "metadata": {},
   "outputs": [],
   "source": [
    "psi_df = pd.DataFrame(psi_info,index=['psi']).T.sort_values('psi',ascending=False)"
   ]
  },
  {
   "cell_type": "code",
   "execution_count": 336,
   "metadata": {},
   "outputs": [],
   "source": [
    "psi_drop = set(psi_df[psi_df['psi']>0.1].index)"
   ]
  },
  {
   "cell_type": "code",
   "execution_count": 337,
   "metadata": {},
   "outputs": [],
   "source": [
    "psi_drop = [i+'_woe' for i in psi_drop]"
   ]
  },
  {
   "cell_type": "code",
   "execution_count": 338,
   "metadata": {
    "scrolled": true
   },
   "outputs": [
    {
     "data": {
      "text/plain": [
       "['WN_TAX035_woe',\n",
       " 'zxppaccpr_woe',\n",
       " 'WN_TAX029_woe',\n",
       " 'WN_TAX026_woe',\n",
       " 'WN_TAX034_woe',\n",
       " 'zxuppaccpr_woe',\n",
       " 'count_nopayoff_loan_6_woe',\n",
       " 'amtlosumstrmbcurhllo_woe',\n",
       " 'WN_ICR042_woe',\n",
       " 'WN_TAX030_woe',\n",
       " 'WN_TAX017_woe',\n",
       " 'WN_TAX036_woe']"
      ]
     },
     "execution_count": 338,
     "metadata": {},
     "output_type": "execute_result"
    }
   ],
   "source": [
    "psi_drop"
   ]
  },
  {
   "cell_type": "markdown",
   "metadata": {},
   "source": [
    "### 3.7 共线性剔除 "
   ]
  },
  {
   "cell_type": "code",
   "execution_count": 339,
   "metadata": {
    "scrolled": true
   },
   "outputs": [],
   "source": [
    "# tra_x_woe.corr().style.background_gradient()"
   ]
  },
  {
   "cell_type": "code",
   "execution_count": 340,
   "metadata": {},
   "outputs": [],
   "source": [
    "tra_x_woe = tra_x_woe.drop(psi_drop,axis=1)\n",
    "oot_x_woe = oot_x_woe.drop(psi_drop,axis=1)"
   ]
  },
  {
   "cell_type": "code",
   "execution_count": 341,
   "metadata": {},
   "outputs": [],
   "source": [
    "tra_x_woe = tra_x_woe.drop('tag',axis=1).reset_index(drop=True)\n",
    "oot_y = oot_x_woe['tag'].reset_index(drop=True)\n",
    "oot_x_woe = oot_x_woe.drop('tag',axis=1).reset_index(drop=True)"
   ]
  },
  {
   "cell_type": "markdown",
   "metadata": {},
   "source": [
    "### 3.8 初步测试"
   ]
  },
  {
   "cell_type": "code",
   "execution_count": 342,
   "metadata": {},
   "outputs": [],
   "source": [
    "# def val_clf(x,y,oot_x,oot_y,score,clf=LGBMClassifier(),pert_func=sc.perf_eva):\n",
    "#     tra_x,tst_x,tra_y,tst_y = train_test_split(x,y,test_size=0.3,shuffle=True)\n",
    "#     clf.fit(tra_x,tra_y)\n",
    "#     pred_y = clf.predict_proba(tst_x)[:,1]\n",
    "#     oot_pred_y = clf.predict_proba(oot_x)[:,1]\n",
    "#     if pert_func:\n",
    "#         pert_func(tst_y,pred_y)\n",
    "#         pert_func(oot_y,oot_pred_y)\n",
    "#     else:\n",
    "#         print(score(tst_y,pred_y))"
   ]
  },
  {
   "cell_type": "code",
   "execution_count": 343,
   "metadata": {},
   "outputs": [],
   "source": [
    "oot_x_woe = oot_x_woe.apply(lambda x:x.fillna(x.median()))"
   ]
  },
  {
   "cell_type": "code",
   "execution_count": 344,
   "metadata": {},
   "outputs": [
    {
     "data": {
      "text/plain": [
       "(2001, 70)"
      ]
     },
     "execution_count": 344,
     "metadata": {},
     "output_type": "execute_result"
    }
   ],
   "source": [
    "tra_x_woe.shape"
   ]
  },
  {
   "cell_type": "code",
   "execution_count": 370,
   "metadata": {},
   "outputs": [],
   "source": [
    "n = 9\n",
    "clf = LogisticRegression(class_weight='balanced')\n",
    "# clf = RandomForestClassifier(class_weight='balanced')\n",
    "# clf = DecisionTreeClassifier(class_weight='balanced')\n",
    "clf.fit(tra_x_woe.iloc[:,:n],tra_y)\n",
    "tra_pred_y = clf.predict_proba(tra_x_woe.iloc[:,:n])[:,1]\n",
    "# tst_pred_y = clf.predict_proba(tst_x_woe.iloc[:,:n])[:,1]\n",
    "oot_pred_y = clf.predict_proba(oot_x_woe.iloc[:,:n])[:,1]"
   ]
  },
  {
   "cell_type": "code",
   "execution_count": 371,
   "metadata": {},
   "outputs": [
    {
     "data": {
      "image/png": "[encoded data removed]",
      "text/plain": [
       "<Figure size 864x432 with 2 Axes>"
      ]
     },
     "metadata": {
      "needs_background": "light"
     },
     "output_type": "display_data"
    },
    {
     "data": {
      "text/plain": [
       "{'KS': 0.3384,\n",
       " 'AUC': 0.7315,\n",
       " 'Gini': 0.4631,\n",
       " 'pic': <Figure size 864x432 with 2 Axes>}"
      ]
     },
     "execution_count": 371,
     "metadata": {},
     "output_type": "execute_result"
    }
   ],
   "source": [
    "sc.perf_eva(tra_y,tra_pred_y)  "
   ]
  },
  {
   "cell_type": "code",
   "execution_count": 372,
   "metadata": {
    "scrolled": false
   },
   "outputs": [
    {
     "data": {
      "image/png": "[encoded data removed]",
      "text/plain": [
       "<Figure size 864x432 with 2 Axes>"
      ]
     },
     "metadata": {
      "needs_background": "light"
     },
     "output_type": "display_data"
    },
    {
     "data": {
      "text/plain": [
       "{'KS': 0.2822,\n",
       " 'AUC': 0.6571,\n",
       " 'Gini': 0.3142,\n",
       " 'pic': <Figure size 864x432 with 2 Axes>}"
      ]
     },
     "execution_count": 372,
     "metadata": {},
     "output_type": "execute_result"
    }
   ],
   "source": [
    "sc.perf_eva(oot_y,oot_pred_y)  "
   ]
  },
  {
   "cell_type": "code",
   "execution_count": 373,
   "metadata": {},
   "outputs": [],
   "source": [
    "# error_drop_feas = ['WN_TAX015_woe','zxutlpctrmbcurccpr_woe','WN_TAX027_woe','zxhomeaddrcnt_woe','WN_ICR002_woe','WN_MIX025_woe',\n",
    "# 'zxracplpr_woe']\n",
    "# error_drop_feas = ['zxracplpr_woe']\n",
    "# tra_x_woe.drop(error_drop_feas,axis=1,inplace=True)\n",
    "# tst_x_woe.drop(error_drop_feas,axis=1,inplace=True)\n",
    "# oot_x_woe.drop(error_drop_feas,axis=1,inplace=True)"
   ]
  },
  {
   "cell_type": "code",
   "execution_count": 374,
   "metadata": {},
   "outputs": [
    {
     "data": {
      "text/plain": [
       "(1460, 24)"
      ]
     },
     "execution_count": 374,
     "metadata": {},
     "output_type": "execute_result"
    }
   ],
   "source": [
    "oot_x_woe.shape"
   ]
  },
  {
   "cell_type": "markdown",
   "metadata": {},
   "source": [
    "### 3.9 逐步回归"
   ]
  },
  {
   "cell_type": "code",
   "execution_count": 375,
   "metadata": {
    "scrolled": true
   },
   "outputs": [
    {
     "name": "stdout",
     "output_type": "stream",
     "text": [
      "Optimization terminated successfully.\n",
      "         Current function value: 0.324973\n",
      "         Iterations 6\n",
      "Optimization terminated successfully.\n",
      "         Current function value: 0.306923\n",
      "         Iterations 7\n",
      "Optimization terminated successfully.\n",
      "         Current function value: 0.295049\n",
      "         Iterations 7\n",
      "Optimization terminated successfully.\n",
      "         Current function value: 0.286227\n",
      "         Iterations 7\n",
      "Optimization terminated successfully.\n",
      "         Current function value: 0.280631\n",
      "         Iterations 7\n",
      "Optimization terminated successfully.\n",
      "         Current function value: 0.277013\n",
      "         Iterations 7\n",
      "Optimization terminated successfully.\n",
      "         Current function value: 0.272119\n",
      "         Iterations 7\n",
      "Optimization terminated successfully.\n",
      "         Current function value: 0.269527\n",
      "         Iterations 7\n",
      "Optimization terminated successfully.\n",
      "         Current function value: 0.266361\n",
      "         Iterations 7\n",
      "Optimization terminated successfully.\n",
      "         Current function value: 0.263765\n",
      "         Iterations 7\n",
      "Optimization terminated successfully.\n",
      "         Current function value: 0.261046\n",
      "         Iterations 7\n",
      "Optimization terminated successfully.\n",
      "         Current function value: 0.258637\n",
      "         Iterations 7\n",
      "Optimization terminated successfully.\n",
      "         Current function value: 0.256850\n",
      "         Iterations 8\n",
      "Optimization terminated successfully.\n",
      "         Current function value: 0.254990\n",
      "         Iterations 8\n",
      "Optimization terminated successfully.\n",
      "         Current function value: 0.253364\n",
      "         Iterations 8\n",
      "Optimization terminated successfully.\n",
      "         Current function value: 0.251658\n",
      "         Iterations 8\n",
      "Optimization terminated successfully.\n",
      "         Current function value: 0.250002\n",
      "         Iterations 8\n",
      "Optimization terminated successfully.\n",
      "         Current function value: 0.248481\n",
      "         Iterations 8\n",
      "Optimization terminated successfully.\n",
      "         Current function value: 0.247175\n",
      "         Iterations 8\n",
      "Optimization terminated successfully.\n",
      "         Current function value: 0.245944\n",
      "         Iterations 8\n",
      "Optimization terminated successfully.\n",
      "         Current function value: 0.244722\n",
      "         Iterations 8\n",
      "Optimization terminated successfully.\n",
      "         Current function value: 0.243630\n",
      "         Iterations 8\n",
      "Optimization terminated successfully.\n",
      "         Current function value: 0.242620\n",
      "         Iterations 8\n",
      "Optimization terminated successfully.\n",
      "         Current function value: 0.241742\n",
      "         Iterations 8\n",
      "Optimization terminated successfully.\n",
      "         Current function value: 0.241069\n",
      "         Iterations 8\n",
      "                               Results: Logit\n",
      "=============================================================================\n",
      "Model:                  Logit                Pseudo R-squared:     0.258     \n",
      "Dependent Variable:     y                    AIC:                  1014.7567 \n",
      "Date:                   2021-09-13 17:10     BIC:                  1154.7918 \n",
      "No. Observations:       2001                 Log-Likelihood:       -482.38   \n",
      "Df Model:               24                   LL-Null:              -650.27   \n",
      "Df Residuals:           1976                 LLR p-value:          9.7380e-57\n",
      "Converged:              1.0000               Scale:                1.0000    \n",
      "No. Iterations:         8.0000                                               \n",
      "-----------------------------------------------------------------------------\n",
      "                              Coef.  Std.Err.    z     P>|z|   [0.025  0.975]\n",
      "-----------------------------------------------------------------------------\n",
      "_const                       -2.1900   0.0939 -23.3300 0.0000 -2.3740 -2.0060\n",
      "WN_ICR120_woe                 1.0358   0.1377   7.5232 0.0000  0.7660  1.3057\n",
      "WN_TAX019_woe                 0.7521   0.1660   4.5306 0.0000  0.4267  1.0775\n",
      "zxysavgloanbalanceamt_woe     0.3340   0.1941   1.7203 0.0854 -0.0465  0.7144\n",
      "zxcaavgstrmbcuraccpr_woe      0.9239   0.2210   4.1810 0.0000  0.4908  1.3570\n",
      "zxuppplpr_woe                 0.9345   0.2723   3.4318 0.0006  0.4008  1.4682\n",
      "WN_TAX025_woe                 0.5193   0.2453   2.1170 0.0343  0.0385  1.0001\n",
      "x1_4_woe                      1.9369   0.6101   3.1745 0.0015  0.7410  3.1327\n",
      "WN_TAX011_woe                 0.7927   0.2585   3.0661 0.0022  0.2860  1.2994\n",
      "zxcasumstrmbcurccpr_woe       0.8224   0.2564   3.2077 0.0013  0.3199  1.3248\n",
      "zxactpccnrmaxgtu_woe          0.8757   0.2378   3.6829 0.0002  0.4097  1.3418\n",
      "zxpayamtavgstrmbcuraccpr_woe  0.8324   0.3119   2.6687 0.0076  0.2210  1.4437\n",
      "WN_TAX016_woe                 0.7966   0.2662   2.9922 0.0028  0.2748  1.3184\n",
      "zxage_woe                     1.5393   0.6068   2.5369 0.0112  0.3501  2.7285\n",
      "rh_clear_loan_num_m12_woe     0.6810   0.2703   2.5198 0.0117  0.1513  1.2107\n",
      "rh_oc_card_num_m24_woe        0.6979   0.2667   2.6169 0.0089  0.1752  1.2206\n",
      "zxpayamtsumstallcurallpr_woe  1.0792   0.4075   2.6485 0.0081  0.2806  1.8779\n",
      "x9_2_woe                      0.7796   0.3227   2.4162 0.0157  0.1472  1.4120\n",
      "rh_tot_card_amt_m12_woe       0.7185   0.3020   2.3790 0.0174  0.1266  1.3104\n",
      "zxpayamtavgstallcurallpr_woe  0.8034   0.3336   2.4084 0.0160  0.1496  1.4573\n",
      "dubil_num_6_woe               0.9861   0.4529   2.1775 0.0294  0.0985  1.8738\n",
      "WN_MIX018_woe                 1.0830   0.4557   2.3765 0.0175  0.1898  1.9761\n",
      "zxpayamtmaxstrmbcurplpr_woe   0.7148   0.3646   1.9603 0.0500  0.0001  1.4295\n",
      "WN_TAX033_woe                 1.2121   0.5910   2.0510 0.0403  0.0538  2.3703\n",
      "WN_MIX025_woe                -0.9166   0.5541  -1.6541 0.0981 -2.0026  0.1695\n",
      "=============================================================================\n",
      "\n",
      "                                    chi2         P>chi2  df constraint\n",
      "_const                        544.290731  2.197858e-120              1\n",
      "WN_ICR120_woe                  56.598896   5.344185e-14              1\n",
      "WN_TAX019_woe                  20.526019   5.882617e-06              1\n",
      "zxysavgloanbalanceamt_woe       2.959285   8.538570e-02              1\n",
      "zxcaavgstrmbcuraccpr_woe       17.480590   2.902559e-05              1\n",
      "zxuppplpr_woe                  11.777345   5.995595e-04              1\n",
      "WN_TAX025_woe                   4.481666   3.426030e-02              1\n",
      "x1_4_woe                       10.077527   1.500886e-03              1\n",
      "WN_TAX011_woe                   9.400904   2.168785e-03              1\n",
      "zxcasumstrmbcurccpr_woe        10.289415   1.337955e-03              1\n",
      "zxactpccnrmaxgtu_woe           13.563707   2.306013e-04              1\n",
      "zxpayamtavgstrmbcuraccpr_woe    7.121710   7.615604e-03              1\n",
      "WN_TAX016_woe                   8.953513   2.769365e-03              1\n",
      "zxage_woe                       6.435889   1.118372e-02              1\n",
      "rh_clear_loan_num_m12_woe       6.349641   1.174050e-02              1\n",
      "rh_oc_card_num_m24_woe          6.848025   8.873934e-03              1\n",
      "zxpayamtsumstallcurallpr_woe    7.014572   8.084897e-03              1\n",
      "x9_2_woe                        5.837830   1.568516e-02              1\n",
      "rh_tot_card_amt_m12_woe         5.659656   1.735953e-02              1\n",
      "zxpayamtavgstallcurallpr_woe    5.800410   1.602244e-02              1\n",
      "dubil_num_6_woe                 4.741382   2.944541e-02              1\n",
      "WN_MIX018_woe                   5.647788   1.747741e-02              1\n",
      "zxpayamtmaxstrmbcurplpr_woe     3.842694   4.996319e-02              1\n",
      "WN_TAX033_woe                   4.206479   4.026983e-02              1\n",
      "WN_MIX025_woe                   2.736028   9.810833e-02              1\n"
     ]
    }
   ],
   "source": [
    "step_drop_feas,step_res = FeaEdaFunc.step_logit(tra_x_woe,tra_y)"
   ]
  },
  {
   "cell_type": "code",
   "execution_count": 376,
   "metadata": {},
   "outputs": [],
   "source": [
    "tra_x_woe.drop(step_drop_feas,axis=1,inplace=True)\n",
    "# tst_x_woe.drop(step_drop_feas,axis=1,inplace=True)\n",
    "oot_x_woe.drop(step_drop_feas,axis=1,inplace=True)"
   ]
  },
  {
   "cell_type": "code",
   "execution_count": 386,
   "metadata": {},
   "outputs": [],
   "source": [
    "clf = LogisticRegression(class_weight='balanced')\n",
    "clf.fit(tra_x_woe,tra_y)\n",
    "tra_pred_y = clf.predict_proba(tra_x_woe)[:,1]\n",
    "oot_pred_y = clf.predict_proba(oot_x_woe)[:,1]"
   ]
  },
  {
   "cell_type": "code",
   "execution_count": 387,
   "metadata": {
    "scrolled": false
   },
   "outputs": [
    {
     "data": {
      "image/png": "[encoded data removed]",
      "text/plain": [
       "<Figure size 864x432 with 2 Axes>"
      ]
     },
     "metadata": {
      "needs_background": "light"
     },
     "output_type": "display_data"
    },
    {
     "data": {
      "text/plain": [
       "{'KS': 0.5479,\n",
       " 'AUC': 0.8487,\n",
       " 'Gini': 0.6975,\n",
       " 'pic': <Figure size 864x432 with 2 Axes>}"
      ]
     },
     "execution_count": 387,
     "metadata": {},
     "output_type": "execute_result"
    }
   ],
   "source": [
    "sc.perf_eva(tra_y,tra_pred_y)  "
   ]
  },
  {
   "cell_type": "code",
   "execution_count": 388,
   "metadata": {},
   "outputs": [
    {
     "data": {
      "image/png": "[encoded data removed]",
      "text/plain": [
       "<Figure size 864x432 with 2 Axes>"
      ]
     },
     "metadata": {
      "needs_background": "light"
     },
     "output_type": "display_data"
    },
    {
     "data": {
      "text/plain": [
       "{'KS': 0.3811,\n",
       " 'AUC': 0.7423,\n",
       " 'Gini': 0.4846,\n",
       " 'pic': <Figure size 864x432 with 2 Axes>}"
      ]
     },
     "execution_count": 388,
     "metadata": {},
     "output_type": "execute_result"
    }
   ],
   "source": [
    "sc.perf_eva(oot_y,oot_pred_y) "
   ]
  },
  {
   "cell_type": "code",
   "execution_count": null,
   "metadata": {},
   "outputs": [],
   "source": []
  },
  {
   "cell_type": "code",
   "execution_count": null,
   "metadata": {},
   "outputs": [],
   "source": []
  },
  {
   "cell_type": "code",
   "execution_count": null,
   "metadata": {},
   "outputs": [],
   "source": []
  },
  {
   "cell_type": "code",
   "execution_count": null,
   "metadata": {},
   "outputs": [],
   "source": []
  },
  {
   "cell_type": "code",
   "execution_count": null,
   "metadata": {},
   "outputs": [],
   "source": []
  },
  {
   "cell_type": "code",
   "execution_count": null,
   "metadata": {},
   "outputs": [],
   "source": []
  },
  {
   "cell_type": "code",
   "execution_count": null,
   "metadata": {},
   "outputs": [],
   "source": []
  },
  {
   "cell_type": "code",
   "execution_count": null,
   "metadata": {},
   "outputs": [],
   "source": []
  },
  {
   "cell_type": "code",
   "execution_count": null,
   "metadata": {},
   "outputs": [],
   "source": []
  },
  {
   "cell_type": "code",
   "execution_count": null,
   "metadata": {},
   "outputs": [],
   "source": []
  },
  {
   "cell_type": "code",
   "execution_count": null,
   "metadata": {},
   "outputs": [],
   "source": []
  },
  {
   "cell_type": "code",
   "execution_count": null,
   "metadata": {},
   "outputs": [],
   "source": []
  },
  {
   "cell_type": "code",
   "execution_count": null,
   "metadata": {},
   "outputs": [],
   "source": []
  },
  {
   "cell_type": "code",
   "execution_count": null,
   "metadata": {},
   "outputs": [],
   "source": []
  },
  {
   "cell_type": "code",
   "execution_count": null,
   "metadata": {},
   "outputs": [],
   "source": []
  }
 ],
 "metadata": {
  "kernelspec": {
   "display_name": "Python 3",
   "language": "python",
   "name": "python3"
  },
  "language_info": {
   "codemirror_mode": {
    "name": "ipython",
    "version": 3
   },
   "file_extension": ".py",
   "mimetype": "text/x-python",
   "name": "python",
   "nbconvert_exporter": "python",
   "pygments_lexer": "ipython3",
   "version": "3.7.6"
  }
 },
 "nbformat": 4,
 "nbformat_minor": 4
}
