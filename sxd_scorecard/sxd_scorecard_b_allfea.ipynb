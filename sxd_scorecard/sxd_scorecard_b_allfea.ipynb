{
 "cells": [
  {
   "cell_type": "code",
   "execution_count": 837,
   "metadata": {},
   "outputs": [],
   "source": [
    "import sys\n",
    "sys.path.append('/mnt/disk01/note/workspaces/duxinxian')\n",
    "import pandas as pd\n",
    "import numpy as np\n",
    "import os\n",
    "import datetime\n",
    "import scorecardpy as sc\n",
    "from lightgbm import LGBMClassifier\n",
    "from xgboost import XGBClassifier\n",
    "from sklearn.tree import DecisionTreeClassifier\n",
    "from sklearn.model_selection import cross_val_score,train_test_split,StratifiedKFold\n",
    "from sklearn.metrics import SCORERS\n",
    "from sklearn.metrics import roc_auc_score\n",
    "from sklearn.linear_model import LogisticRegression\n",
    "from sklearn.ensemble import RandomForestClassifier\n",
    "from unity import feature_selector as fs\n",
    "from unity.fea_eda_func import FeaEdaFunc"
   ]
  },
  {
   "cell_type": "code",
   "execution_count": 2,
   "metadata": {},
   "outputs": [],
   "source": [
    "cust_main = pd.read_csv('data/sxd_cust_tag.csv')"
   ]
  },
  {
   "cell_type": "code",
   "execution_count": 3,
   "metadata": {},
   "outputs": [],
   "source": [
    "cust_main['obs_dt'] = cust_main['obs_dt'].astype(str)"
   ]
  },
  {
   "cell_type": "markdown",
   "metadata": {},
   "source": [
    "## 1.专家特征处理匹配"
   ]
  },
  {
   "cell_type": "code",
   "execution_count": null,
   "metadata": {},
   "outputs": [],
   "source": [
    "edf = pd.read_excel('data/eprt_fea/sxd_zj.xlsx')"
   ]
  },
  {
   "cell_type": "code",
   "execution_count": 704,
   "metadata": {},
   "outputs": [],
   "source": [
    "ind = pd.read_excel('data/eprt_fea/东方微银贷后指标.xlsx')"
   ]
  },
  {
   "cell_type": "code",
   "execution_count": 705,
   "metadata": {},
   "outputs": [],
   "source": [
    "cus_busid = pd.read_csv('data/cust_busid.csv')"
   ]
  },
  {
   "cell_type": "code",
   "execution_count": 706,
   "metadata": {
    "scrolled": false
   },
   "outputs": [
    {
     "data": {
      "text/html": [
       "<div>\n",
       "<style scoped>\n",
       "    .dataframe tbody tr th:only-of-type {\n",
       "        vertical-align: middle;\n",
       "    }\n",
       "\n",
       "    .dataframe tbody tr th {\n",
       "        vertical-align: top;\n",
       "    }\n",
       "\n",
       "    .dataframe thead th {\n",
       "        text-align: right;\n",
       "    }\n",
       "</style>\n",
       "<table border=\"1\" class=\"dataframe\">\n",
       "  <thead>\n",
       "    <tr style=\"text-align: right;\">\n",
       "      <th></th>\n",
       "      <th>req_id</th>\n",
       "      <th>customerid</th>\n",
       "      <th>businessid</th>\n",
       "    </tr>\n",
       "  </thead>\n",
       "  <tbody>\n",
       "    <tr>\n",
       "      <th>0</th>\n",
       "      <td>12021063017581003436</td>\n",
       "      <td>4500413770</td>\n",
       "      <td>TCL20210600002432</td>\n",
       "    </tr>\n",
       "    <tr>\n",
       "      <th>1</th>\n",
       "      <td>12021063017491003435</td>\n",
       "      <td>4500413879</td>\n",
       "      <td>TCL20210600002437</td>\n",
       "    </tr>\n",
       "    <tr>\n",
       "      <th>2</th>\n",
       "      <td>12021063016071003421</td>\n",
       "      <td>4500413413</td>\n",
       "      <td>TCL20210600002418</td>\n",
       "    </tr>\n",
       "    <tr>\n",
       "      <th>3</th>\n",
       "      <td>12021063013581003370</td>\n",
       "      <td>3000780287</td>\n",
       "      <td>TCL20210600002398</td>\n",
       "    </tr>\n",
       "    <tr>\n",
       "      <th>4</th>\n",
       "      <td>12021063017291003433</td>\n",
       "      <td>4500413822</td>\n",
       "      <td>TCL20210600002436</td>\n",
       "    </tr>\n",
       "  </tbody>\n",
       "</table>\n",
       "</div>"
      ],
      "text/plain": [
       "                 req_id  customerid         businessid\n",
       "0  12021063017581003436  4500413770  TCL20210600002432\n",
       "1  12021063017491003435  4500413879  TCL20210600002437\n",
       "2  12021063016071003421  4500413413  TCL20210600002418\n",
       "3  12021063013581003370  3000780287  TCL20210600002398\n",
       "4  12021063017291003433  4500413822  TCL20210600002436"
      ]
     },
     "execution_count": 706,
     "metadata": {},
     "output_type": "execute_result"
    }
   ],
   "source": [
    "cus_busid.head()"
   ]
  },
  {
   "cell_type": "code",
   "execution_count": 675,
   "metadata": {
    "scrolled": true
   },
   "outputs": [
    {
     "data": {
      "text/html": [
       "<div>\n",
       "<style scoped>\n",
       "    .dataframe tbody tr th:only-of-type {\n",
       "        vertical-align: middle;\n",
       "    }\n",
       "\n",
       "    .dataframe tbody tr th {\n",
       "        vertical-align: top;\n",
       "    }\n",
       "\n",
       "    .dataframe thead th {\n",
       "        text-align: right;\n",
       "    }\n",
       "</style>\n",
       "<table border=\"1\" class=\"dataframe\">\n",
       "  <thead>\n",
       "    <tr style=\"text-align: right;\">\n",
       "      <th></th>\n",
       "      <th>businessid</th>\n",
       "      <th>WN_BNK001</th>\n",
       "      <th>WN_BNK007</th>\n",
       "      <th>WN_BNK033</th>\n",
       "      <th>WN_BNK043</th>\n",
       "      <th>warn_month</th>\n",
       "      <th>WN_ECR075</th>\n",
       "      <th>WN_ECR011</th>\n",
       "      <th>WN_ECR028</th>\n",
       "      <th>WN_ECR038</th>\n",
       "      <th>...</th>\n",
       "      <th>ICR0021</th>\n",
       "      <th>XIB017</th>\n",
       "      <th>XIB033</th>\n",
       "      <th>XIB036</th>\n",
       "      <th>XIB045</th>\n",
       "      <th>XIB024</th>\n",
       "      <th>XIB049</th>\n",
       "      <th>ICR0003</th>\n",
       "      <th>label</th>\n",
       "      <th>warn_state</th>\n",
       "    </tr>\n",
       "  </thead>\n",
       "  <tbody>\n",
       "    <tr>\n",
       "      <th>0</th>\n",
       "      <td>TCL20180900000092</td>\n",
       "      <td>0</td>\n",
       "      <td>0</td>\n",
       "      <td>0</td>\n",
       "      <td>0</td>\n",
       "      <td>2018-10-01</td>\n",
       "      <td>0</td>\n",
       "      <td>0</td>\n",
       "      <td>0</td>\n",
       "      <td>0</td>\n",
       "      <td>...</td>\n",
       "      <td>0</td>\n",
       "      <td>0</td>\n",
       "      <td>0</td>\n",
       "      <td>0</td>\n",
       "      <td>0</td>\n",
       "      <td>0</td>\n",
       "      <td>0</td>\n",
       "      <td>0</td>\n",
       "      <td>0</td>\n",
       "      <td>0</td>\n",
       "    </tr>\n",
       "    <tr>\n",
       "      <th>1</th>\n",
       "      <td>TCL20180900000092</td>\n",
       "      <td>0</td>\n",
       "      <td>0</td>\n",
       "      <td>0</td>\n",
       "      <td>0</td>\n",
       "      <td>2018-11-01</td>\n",
       "      <td>0</td>\n",
       "      <td>0</td>\n",
       "      <td>0</td>\n",
       "      <td>0</td>\n",
       "      <td>...</td>\n",
       "      <td>0</td>\n",
       "      <td>0</td>\n",
       "      <td>0</td>\n",
       "      <td>0</td>\n",
       "      <td>0</td>\n",
       "      <td>0</td>\n",
       "      <td>0</td>\n",
       "      <td>0</td>\n",
       "      <td>0</td>\n",
       "      <td>0</td>\n",
       "    </tr>\n",
       "    <tr>\n",
       "      <th>2</th>\n",
       "      <td>TCL20180900000145</td>\n",
       "      <td>0</td>\n",
       "      <td>0</td>\n",
       "      <td>0</td>\n",
       "      <td>0</td>\n",
       "      <td>2018-11-01</td>\n",
       "      <td>0</td>\n",
       "      <td>0</td>\n",
       "      <td>0</td>\n",
       "      <td>0</td>\n",
       "      <td>...</td>\n",
       "      <td>0</td>\n",
       "      <td>0</td>\n",
       "      <td>0</td>\n",
       "      <td>0</td>\n",
       "      <td>0</td>\n",
       "      <td>0</td>\n",
       "      <td>0</td>\n",
       "      <td>0</td>\n",
       "      <td>0</td>\n",
       "      <td>0</td>\n",
       "    </tr>\n",
       "    <tr>\n",
       "      <th>3</th>\n",
       "      <td>TCL20180900000145</td>\n",
       "      <td>0</td>\n",
       "      <td>0</td>\n",
       "      <td>0</td>\n",
       "      <td>0</td>\n",
       "      <td>2018-12-01</td>\n",
       "      <td>0</td>\n",
       "      <td>0</td>\n",
       "      <td>0</td>\n",
       "      <td>0</td>\n",
       "      <td>...</td>\n",
       "      <td>0</td>\n",
       "      <td>0</td>\n",
       "      <td>0</td>\n",
       "      <td>0</td>\n",
       "      <td>0</td>\n",
       "      <td>0</td>\n",
       "      <td>0</td>\n",
       "      <td>0</td>\n",
       "      <td>0</td>\n",
       "      <td>0</td>\n",
       "    </tr>\n",
       "    <tr>\n",
       "      <th>4</th>\n",
       "      <td>TCL20180900000145</td>\n",
       "      <td>0</td>\n",
       "      <td>0</td>\n",
       "      <td>0</td>\n",
       "      <td>0</td>\n",
       "      <td>2019-01-01</td>\n",
       "      <td>0</td>\n",
       "      <td>0</td>\n",
       "      <td>0</td>\n",
       "      <td>0</td>\n",
       "      <td>...</td>\n",
       "      <td>0</td>\n",
       "      <td>0</td>\n",
       "      <td>0</td>\n",
       "      <td>0</td>\n",
       "      <td>0</td>\n",
       "      <td>0</td>\n",
       "      <td>0</td>\n",
       "      <td>0</td>\n",
       "      <td>0</td>\n",
       "      <td>0</td>\n",
       "    </tr>\n",
       "  </tbody>\n",
       "</table>\n",
       "<p>5 rows × 92 columns</p>\n",
       "</div>"
      ],
      "text/plain": [
       "          businessid  WN_BNK001  WN_BNK007  WN_BNK033  WN_BNK043  warn_month  \\\n",
       "0  TCL20180900000092          0          0          0          0  2018-10-01   \n",
       "1  TCL20180900000092          0          0          0          0  2018-11-01   \n",
       "2  TCL20180900000145          0          0          0          0  2018-11-01   \n",
       "3  TCL20180900000145          0          0          0          0  2018-12-01   \n",
       "4  TCL20180900000145          0          0          0          0  2019-01-01   \n",
       "\n",
       "   WN_ECR075  WN_ECR011  WN_ECR028  WN_ECR038  ...  ICR0021  XIB017  XIB033  \\\n",
       "0          0          0          0          0  ...        0       0       0   \n",
       "1          0          0          0          0  ...        0       0       0   \n",
       "2          0          0          0          0  ...        0       0       0   \n",
       "3          0          0          0          0  ...        0       0       0   \n",
       "4          0          0          0          0  ...        0       0       0   \n",
       "\n",
       "   XIB036  XIB045  XIB024  XIB049  ICR0003  label  warn_state  \n",
       "0       0       0       0       0        0      0           0  \n",
       "1       0       0       0       0        0      0           0  \n",
       "2       0       0       0       0        0      0           0  \n",
       "3       0       0       0       0        0      0           0  \n",
       "4       0       0       0       0        0      0           0  \n",
       "\n",
       "[5 rows x 92 columns]"
      ]
     },
     "execution_count": 675,
     "metadata": {},
     "output_type": "execute_result"
    }
   ],
   "source": [
    "edf.head()"
   ]
  },
  {
   "cell_type": "code",
   "execution_count": 676,
   "metadata": {},
   "outputs": [],
   "source": [
    "edf['warn_month'] = edf['warn_month'].astype('datetime64[ns]')"
   ]
  },
  {
   "cell_type": "code",
   "execution_count": 4,
   "metadata": {},
   "outputs": [],
   "source": [
    "cust_main['obj_date'] = pd.to_datetime(cust_main['obs_dt'], format='%Y%m%d')\n",
    "cust_main['cust_no'] = cust_main['cust_no'].astype(str)\n",
    "cust_main = cust_main.sort_values(['cust_no','obj_date'])"
   ]
  },
  {
   "cell_type": "code",
   "execution_count": 678,
   "metadata": {},
   "outputs": [],
   "source": [
    "cus_busid = cus_busid.rename({'customerid':'cust_no'},axis=1)\n",
    "cus_busid['cust_no'] = cus_busid['cust_no'].astype(str)"
   ]
  },
  {
   "cell_type": "code",
   "execution_count": 679,
   "metadata": {},
   "outputs": [],
   "source": [
    "edf = cus_busid.merge(edf)\n",
    "edf = edf.rename({'warn_month':'obj_date'},axis=1)\n",
    "edf = edf.sort_values(['cust_no','obj_date'])\n",
    "# edf['obs_dt'] = edf['obj_date'].apply(lambda x:datetime.datetime.strftime(x,'%Y%m'))"
   ]
  },
  {
   "cell_type": "code",
   "execution_count": 680,
   "metadata": {},
   "outputs": [],
   "source": [
    "edf['p'] = 0\n",
    "edf.loc[edf['obj_date'] <= '2019-12-31','p'] = 1\n",
    "edf.loc[(edf['obj_date'] > '2019-12-31')&(edf['obj_date'] <= '2020-03-31'),'p'] = 2\n",
    "edf.loc[(edf['obj_date'] > '2020-03-31')&(edf['obj_date'] <= '2020-06-30'),'p'] = 3\n",
    "edf = edf[edf['p'] != 0]"
   ]
  },
  {
   "cell_type": "code",
   "execution_count": 681,
   "metadata": {},
   "outputs": [],
   "source": [
    "edfp = edf.groupby(['cust_no','p']).last().reset_index()"
   ]
  },
  {
   "cell_type": "code",
   "execution_count": 682,
   "metadata": {},
   "outputs": [],
   "source": [
    "cust_main['p'] = 0\n",
    "cust_main.loc[cust_main['obj_date'] == '2019-12-31','p'] = 1\n",
    "cust_main.loc[cust_main['obj_date'] == '2020-03-31','p'] = 2\n",
    "cust_main.loc[cust_main['obj_date'] == '2020-06-30','p'] = 3"
   ]
  },
  {
   "cell_type": "code",
   "execution_count": 683,
   "metadata": {},
   "outputs": [],
   "source": [
    "main_df = cust_main.merge(edfp.loc[:, ~edfp.columns.str.contains('obs_dt|obj_date')],on=['cust_no','p'],how='left')"
   ]
  },
  {
   "cell_type": "code",
   "execution_count": 684,
   "metadata": {},
   "outputs": [],
   "source": [
    "# TODO:专家特征匹配缺失,cm_retail_lon_acct合同号（cont_no）与进件中的businessid是一个字段"
   ]
  },
  {
   "cell_type": "code",
   "execution_count": 685,
   "metadata": {
    "scrolled": true
   },
   "outputs": [
    {
     "data": {
      "text/html": [
       "<div>\n",
       "<style scoped>\n",
       "    .dataframe tbody tr th:only-of-type {\n",
       "        vertical-align: middle;\n",
       "    }\n",
       "\n",
       "    .dataframe tbody tr th {\n",
       "        vertical-align: top;\n",
       "    }\n",
       "\n",
       "    .dataframe thead th {\n",
       "        text-align: right;\n",
       "    }\n",
       "</style>\n",
       "<table border=\"1\" class=\"dataframe\">\n",
       "  <thead>\n",
       "    <tr style=\"text-align: right;\">\n",
       "      <th></th>\n",
       "      <th>cust_no</th>\n",
       "      <th>obs_dt</th>\n",
       "      <th>tag</th>\n",
       "      <th>obj_date</th>\n",
       "      <th>p</th>\n",
       "      <th>req_id</th>\n",
       "      <th>businessid</th>\n",
       "      <th>WN_BNK001</th>\n",
       "      <th>WN_BNK007</th>\n",
       "      <th>WN_BNK033</th>\n",
       "      <th>...</th>\n",
       "      <th>ICR0021</th>\n",
       "      <th>XIB017</th>\n",
       "      <th>XIB033</th>\n",
       "      <th>XIB036</th>\n",
       "      <th>XIB045</th>\n",
       "      <th>XIB024</th>\n",
       "      <th>XIB049</th>\n",
       "      <th>ICR0003</th>\n",
       "      <th>label</th>\n",
       "      <th>warn_state</th>\n",
       "    </tr>\n",
       "  </thead>\n",
       "  <tbody>\n",
       "    <tr>\n",
       "      <th>55</th>\n",
       "      <td>3000195780</td>\n",
       "      <td>20191231</td>\n",
       "      <td>0</td>\n",
       "      <td>2019-12-31</td>\n",
       "      <td>1</td>\n",
       "      <td>NaN</td>\n",
       "      <td>NaN</td>\n",
       "      <td>NaN</td>\n",
       "      <td>NaN</td>\n",
       "      <td>NaN</td>\n",
       "      <td>...</td>\n",
       "      <td>NaN</td>\n",
       "      <td>NaN</td>\n",
       "      <td>NaN</td>\n",
       "      <td>NaN</td>\n",
       "      <td>NaN</td>\n",
       "      <td>NaN</td>\n",
       "      <td>NaN</td>\n",
       "      <td>NaN</td>\n",
       "      <td>NaN</td>\n",
       "      <td>NaN</td>\n",
       "    </tr>\n",
       "    <tr>\n",
       "      <th>56</th>\n",
       "      <td>3000195780</td>\n",
       "      <td>20200331</td>\n",
       "      <td>0</td>\n",
       "      <td>2020-03-31</td>\n",
       "      <td>2</td>\n",
       "      <td>NaN</td>\n",
       "      <td>NaN</td>\n",
       "      <td>NaN</td>\n",
       "      <td>NaN</td>\n",
       "      <td>NaN</td>\n",
       "      <td>...</td>\n",
       "      <td>NaN</td>\n",
       "      <td>NaN</td>\n",
       "      <td>NaN</td>\n",
       "      <td>NaN</td>\n",
       "      <td>NaN</td>\n",
       "      <td>NaN</td>\n",
       "      <td>NaN</td>\n",
       "      <td>NaN</td>\n",
       "      <td>NaN</td>\n",
       "      <td>NaN</td>\n",
       "    </tr>\n",
       "  </tbody>\n",
       "</table>\n",
       "<p>2 rows × 97 columns</p>\n",
       "</div>"
      ],
      "text/plain": [
       "       cust_no    obs_dt  tag   obj_date  p  req_id businessid  WN_BNK001  \\\n",
       "55  3000195780  20191231    0 2019-12-31  1     NaN        NaN        NaN   \n",
       "56  3000195780  20200331    0 2020-03-31  2     NaN        NaN        NaN   \n",
       "\n",
       "    WN_BNK007  WN_BNK033  ...  ICR0021  XIB017  XIB033  XIB036  XIB045  \\\n",
       "55        NaN        NaN  ...      NaN     NaN     NaN     NaN     NaN   \n",
       "56        NaN        NaN  ...      NaN     NaN     NaN     NaN     NaN   \n",
       "\n",
       "    XIB024  XIB049  ICR0003  label  warn_state  \n",
       "55     NaN     NaN      NaN    NaN         NaN  \n",
       "56     NaN     NaN      NaN    NaN         NaN  \n",
       "\n",
       "[2 rows x 97 columns]"
      ]
     },
     "execution_count": 685,
     "metadata": {},
     "output_type": "execute_result"
    }
   ],
   "source": [
    "main_df[main_df['businessid'].isnull()]"
   ]
  },
  {
   "cell_type": "markdown",
   "metadata": {},
   "source": [
    "## 2.行为特征匹配"
   ]
  },
  {
   "cell_type": "code",
   "execution_count": 5,
   "metadata": {},
   "outputs": [],
   "source": [
    "xw1 = pd.read_csv('data/bhv_fea/sxd_xw_1.csv')\n",
    "xw2 = pd.read_csv('data/bhv_fea/sxd_xw_2.csv')\n",
    "xw1.loc[:,['cust_no','obs_dt']] = xw1.loc[:,['cust_no','obs_dt']].astype(str)\n",
    "xw2.loc[:,['cust_no','obj_date']] = xw2.loc[:,['cust_no','obj_date']].astype(str)"
   ]
  },
  {
   "cell_type": "code",
   "execution_count": 6,
   "metadata": {},
   "outputs": [],
   "source": [
    "xw2.rename({'obj_date':'obs_dt'},axis=1,inplace=True)"
   ]
  },
  {
   "cell_type": "code",
   "execution_count": 8,
   "metadata": {
    "scrolled": false
   },
   "outputs": [],
   "source": [
    "main_df = main_df.merge(xw1,on=['cust_no','obs_dt'],how = 'left')\n",
    "main_df = main_df.merge(xw2,on=['cust_no','obs_dt'],how = 'left')\n",
    "# main_df = cust_main.merge(xw1,on=['cust_no','obs_dt'],how = 'left')\n",
    "# main_df = cust_main.merge(xw2,on=['cust_no','obs_dt'],how = 'left')"
   ]
  },
  {
   "cell_type": "code",
   "execution_count": 689,
   "metadata": {},
   "outputs": [],
   "source": [
    "# null_cnt = main_df.isnull().sum()/4189\n",
    "# null_cnt[null_cnt>0.5]"
   ]
  },
  {
   "cell_type": "code",
   "execution_count": 9,
   "metadata": {
    "scrolled": false
   },
   "outputs": [
    {
     "data": {
      "text/html": [
       "<div>\n",
       "<style scoped>\n",
       "    .dataframe tbody tr th:only-of-type {\n",
       "        vertical-align: middle;\n",
       "    }\n",
       "\n",
       "    .dataframe tbody tr th {\n",
       "        vertical-align: top;\n",
       "    }\n",
       "\n",
       "    .dataframe thead th {\n",
       "        text-align: right;\n",
       "    }\n",
       "</style>\n",
       "<table border=\"1\" class=\"dataframe\">\n",
       "  <thead>\n",
       "    <tr style=\"text-align: right;\">\n",
       "      <th></th>\n",
       "      <th>cust_no</th>\n",
       "      <th>obs_dt</th>\n",
       "      <th>tag</th>\n",
       "      <th>obj_date</th>\n",
       "      <th>dubil_num_3</th>\n",
       "      <th>dubil_num_6</th>\n",
       "      <th>dubil_num_9</th>\n",
       "      <th>dubil_num_12</th>\n",
       "      <th>count_loan_3</th>\n",
       "      <th>count_loan_6</th>\n",
       "      <th>...</th>\n",
       "      <th>sum_normalpayoff_amt_rate_3</th>\n",
       "      <th>count_ovduepayoff_loan_rate_12</th>\n",
       "      <th>count_ovduepayoff_loan_rate_9</th>\n",
       "      <th>count_ovduepayoff_loan_rate_6</th>\n",
       "      <th>count_ovduepayoff_loan_rate_3</th>\n",
       "      <th>sum_ovduepayoff_amt_rate_12</th>\n",
       "      <th>sum_ovduepayoff_amt_rate_9</th>\n",
       "      <th>sum_ovduepayoff_amt_rate_6</th>\n",
       "      <th>sum_ovduepayoff_amt_rate_3</th>\n",
       "      <th>Unnamed: 106</th>\n",
       "    </tr>\n",
       "  </thead>\n",
       "  <tbody>\n",
       "    <tr>\n",
       "      <th>0</th>\n",
       "      <td>1000000723</td>\n",
       "      <td>20200630</td>\n",
       "      <td>0</td>\n",
       "      <td>2020-06-30</td>\n",
       "      <td>644.0</td>\n",
       "      <td>757.0</td>\n",
       "      <td>757.0</td>\n",
       "      <td>757.0</td>\n",
       "      <td>644.0</td>\n",
       "      <td>757.0</td>\n",
       "      <td>...</td>\n",
       "      <td>NaN</td>\n",
       "      <td>0.0</td>\n",
       "      <td>0.0</td>\n",
       "      <td>0.0</td>\n",
       "      <td>0.0</td>\n",
       "      <td>NaN</td>\n",
       "      <td>NaN</td>\n",
       "      <td>NaN</td>\n",
       "      <td>NaN</td>\n",
       "      <td>NaN</td>\n",
       "    </tr>\n",
       "    <tr>\n",
       "      <th>1</th>\n",
       "      <td>1000024521</td>\n",
       "      <td>20191231</td>\n",
       "      <td>0</td>\n",
       "      <td>2019-12-31</td>\n",
       "      <td>93.0</td>\n",
       "      <td>185.0</td>\n",
       "      <td>238.0</td>\n",
       "      <td>238.0</td>\n",
       "      <td>93.0</td>\n",
       "      <td>185.0</td>\n",
       "      <td>...</td>\n",
       "      <td>NaN</td>\n",
       "      <td>NaN</td>\n",
       "      <td>NaN</td>\n",
       "      <td>NaN</td>\n",
       "      <td>NaN</td>\n",
       "      <td>NaN</td>\n",
       "      <td>NaN</td>\n",
       "      <td>NaN</td>\n",
       "      <td>NaN</td>\n",
       "      <td>NaN</td>\n",
       "    </tr>\n",
       "    <tr>\n",
       "      <th>2</th>\n",
       "      <td>1000024521</td>\n",
       "      <td>20200331</td>\n",
       "      <td>0</td>\n",
       "      <td>2020-03-31</td>\n",
       "      <td>92.0</td>\n",
       "      <td>184.0</td>\n",
       "      <td>276.0</td>\n",
       "      <td>329.0</td>\n",
       "      <td>92.0</td>\n",
       "      <td>184.0</td>\n",
       "      <td>...</td>\n",
       "      <td>NaN</td>\n",
       "      <td>NaN</td>\n",
       "      <td>NaN</td>\n",
       "      <td>NaN</td>\n",
       "      <td>NaN</td>\n",
       "      <td>NaN</td>\n",
       "      <td>NaN</td>\n",
       "      <td>NaN</td>\n",
       "      <td>NaN</td>\n",
       "      <td>NaN</td>\n",
       "    </tr>\n",
       "    <tr>\n",
       "      <th>3</th>\n",
       "      <td>3000010470</td>\n",
       "      <td>20191231</td>\n",
       "      <td>0</td>\n",
       "      <td>2019-12-31</td>\n",
       "      <td>93.0</td>\n",
       "      <td>185.0</td>\n",
       "      <td>276.0</td>\n",
       "      <td>344.0</td>\n",
       "      <td>93.0</td>\n",
       "      <td>185.0</td>\n",
       "      <td>...</td>\n",
       "      <td>NaN</td>\n",
       "      <td>NaN</td>\n",
       "      <td>NaN</td>\n",
       "      <td>NaN</td>\n",
       "      <td>NaN</td>\n",
       "      <td>NaN</td>\n",
       "      <td>NaN</td>\n",
       "      <td>NaN</td>\n",
       "      <td>NaN</td>\n",
       "      <td>NaN</td>\n",
       "    </tr>\n",
       "    <tr>\n",
       "      <th>4</th>\n",
       "      <td>3000042033</td>\n",
       "      <td>20191231</td>\n",
       "      <td>0</td>\n",
       "      <td>2019-12-31</td>\n",
       "      <td>93.0</td>\n",
       "      <td>100.0</td>\n",
       "      <td>100.0</td>\n",
       "      <td>100.0</td>\n",
       "      <td>93.0</td>\n",
       "      <td>100.0</td>\n",
       "      <td>...</td>\n",
       "      <td>NaN</td>\n",
       "      <td>NaN</td>\n",
       "      <td>NaN</td>\n",
       "      <td>NaN</td>\n",
       "      <td>NaN</td>\n",
       "      <td>NaN</td>\n",
       "      <td>NaN</td>\n",
       "      <td>NaN</td>\n",
       "      <td>NaN</td>\n",
       "      <td>NaN</td>\n",
       "    </tr>\n",
       "  </tbody>\n",
       "</table>\n",
       "<p>5 rows × 109 columns</p>\n",
       "</div>"
      ],
      "text/plain": [
       "      cust_no    obs_dt  tag   obj_date  dubil_num_3  dubil_num_6  \\\n",
       "0  1000000723  20200630    0 2020-06-30        644.0        757.0   \n",
       "1  1000024521  20191231    0 2019-12-31         93.0        185.0   \n",
       "2  1000024521  20200331    0 2020-03-31         92.0        184.0   \n",
       "3  3000010470  20191231    0 2019-12-31         93.0        185.0   \n",
       "4  3000042033  20191231    0 2019-12-31         93.0        100.0   \n",
       "\n",
       "   dubil_num_9  dubil_num_12  count_loan_3  count_loan_6  ...  \\\n",
       "0        757.0         757.0         644.0         757.0  ...   \n",
       "1        238.0         238.0          93.0         185.0  ...   \n",
       "2        276.0         329.0          92.0         184.0  ...   \n",
       "3        276.0         344.0          93.0         185.0  ...   \n",
       "4        100.0         100.0          93.0         100.0  ...   \n",
       "\n",
       "   sum_normalpayoff_amt_rate_3  count_ovduepayoff_loan_rate_12  \\\n",
       "0                          NaN                             0.0   \n",
       "1                          NaN                             NaN   \n",
       "2                          NaN                             NaN   \n",
       "3                          NaN                             NaN   \n",
       "4                          NaN                             NaN   \n",
       "\n",
       "   count_ovduepayoff_loan_rate_9  count_ovduepayoff_loan_rate_6  \\\n",
       "0                            0.0                            0.0   \n",
       "1                            NaN                            NaN   \n",
       "2                            NaN                            NaN   \n",
       "3                            NaN                            NaN   \n",
       "4                            NaN                            NaN   \n",
       "\n",
       "   count_ovduepayoff_loan_rate_3  sum_ovduepayoff_amt_rate_12  \\\n",
       "0                            0.0                          NaN   \n",
       "1                            NaN                          NaN   \n",
       "2                            NaN                          NaN   \n",
       "3                            NaN                          NaN   \n",
       "4                            NaN                          NaN   \n",
       "\n",
       "   sum_ovduepayoff_amt_rate_9  sum_ovduepayoff_amt_rate_6  \\\n",
       "0                         NaN                         NaN   \n",
       "1                         NaN                         NaN   \n",
       "2                         NaN                         NaN   \n",
       "3                         NaN                         NaN   \n",
       "4                         NaN                         NaN   \n",
       "\n",
       "   sum_ovduepayoff_amt_rate_3  Unnamed: 106  \n",
       "0                         NaN           NaN  \n",
       "1                         NaN           NaN  \n",
       "2                         NaN           NaN  \n",
       "3                         NaN           NaN  \n",
       "4                         NaN           NaN  \n",
       "\n",
       "[5 rows x 109 columns]"
      ]
     },
     "execution_count": 9,
     "metadata": {},
     "output_type": "execute_result"
    }
   ],
   "source": [
    "main_df.head()"
   ]
  },
  {
   "cell_type": "markdown",
   "metadata": {},
   "source": [
    "## 3.征信特征匹配"
   ]
  },
  {
   "cell_type": "code",
   "execution_count": 10,
   "metadata": {
    "scrolled": false
   },
   "outputs": [
    {
     "name": "stderr",
     "output_type": "stream",
     "text": [
      "/home/anaconda3/lib/python3.7/site-packages/IPython/core/interactiveshell.py:3063: DtypeWarning: Columns (2087,2088,2089,2090,2091,2093,2094,2095,2096,2097,2098,2100,2101,2102,2103,2104,2105,2106,2109,2110,2112,2113,2114,2115,2116,2117,2118,2119,2120,2121) have mixed types.Specify dtype option on import or set low_memory=False.\n",
      "  interactivity=interactivity, compiler=compiler, result=result)\n"
     ]
    }
   ],
   "source": [
    "zxfea = pd.read_csv('data/zxfea.csv')\n",
    "zxvar = pd.read_csv('data/zxfea_var.csv')"
   ]
  },
  {
   "cell_type": "code",
   "execution_count": 11,
   "metadata": {},
   "outputs": [],
   "source": [
    "zxvar['var'] = zxvar['var'].str.lower()"
   ]
  },
  {
   "cell_type": "code",
   "execution_count": 12,
   "metadata": {},
   "outputs": [],
   "source": [
    "zxfea = zxfea.rename({'customer_no':'cust_no'},axis=1).drop(['tag','rn1','id_no','product_code','biz_date'],axis=1)"
   ]
  },
  {
   "cell_type": "code",
   "execution_count": 13,
   "metadata": {},
   "outputs": [],
   "source": [
    "zxfeas_set = set(zxfea.columns) & set(zxvar['var'])\n",
    "zxfeas_set = zxfeas_set | {'cust_no','obs_dt'}"
   ]
  },
  {
   "cell_type": "code",
   "execution_count": 14,
   "metadata": {},
   "outputs": [],
   "source": [
    "zxfea = zxfea[zxfeas_set]\n",
    "zxfea.loc[:,['cust_no','obs_dt']] = zxfea.loc[:,['cust_no','obs_dt']].astype(str)"
   ]
  },
  {
   "cell_type": "code",
   "execution_count": 15,
   "metadata": {},
   "outputs": [],
   "source": [
    "main_df = main_df.merge(zxfea,on=['cust_no','obs_dt'])"
   ]
  },
  {
   "cell_type": "code",
   "execution_count": 17,
   "metadata": {},
   "outputs": [],
   "source": [
    "main_df = main_df.drop(['label_1m','label'],axis=1)"
   ]
  },
  {
   "cell_type": "code",
   "execution_count": 18,
   "metadata": {},
   "outputs": [
    {
     "data": {
      "text/plain": [
       "cust_no            object\n",
       "obs_dt             object\n",
       "zxbiqryorg         object\n",
       "zxbilhmph          object\n",
       "zxbilresaddr       object\n",
       "zxbilempname       object\n",
       "zxbigdr            object\n",
       "zxbiedulvl         object\n",
       "zxbilproftle       object\n",
       "zxbipermresaddr    object\n",
       "zxbilposi          object\n",
       "zxbicontaddr       object\n",
       "zxbilindus         object\n",
       "zxbilrescond       object\n",
       "zxbilempaddr       object\n",
       "zxbimarst          object\n",
       "zxbiqryrea         object\n",
       "zxbiedudeg         object\n",
       "dtype: object"
      ]
     },
     "execution_count": 18,
     "metadata": {},
     "output_type": "execute_result"
    }
   ],
   "source": [
    "fea_types = main_df.dtypes\n",
    "fea_types[fea_types == 'object']"
   ]
  },
  {
   "cell_type": "code",
   "execution_count": 19,
   "metadata": {},
   "outputs": [],
   "source": [
    "main_df.to_csv('main_df_drop_zj.csv',index=False)"
   ]
  },
  {
   "cell_type": "markdown",
   "metadata": {},
   "source": [
    "## 3.特征工程"
   ]
  },
  {
   "cell_type": "markdown",
   "metadata": {},
   "source": [
    "### 3.1 数据清洗-剔除单一特征与缺失率超过0.7的特征"
   ]
  },
  {
   "cell_type": "code",
   "execution_count": 721,
   "metadata": {
    "scrolled": true
   },
   "outputs": [
    {
     "name": "stderr",
     "output_type": "stream",
     "text": [
      "/home/anaconda3/lib/python3.7/site-packages/IPython/core/interactiveshell.py:3063: DtypeWarning: Columns (323,386,387,397,420,425,507,539,556,564,568,576,599,630,637,646) have mixed types.Specify dtype option on import or set low_memory=False.\n",
      "  interactivity=interactivity, compiler=compiler, result=result)\n"
     ]
    }
   ],
   "source": [
    "main_df = pd.read_csv('main_df.csv')\n",
    "# main_df = pd.read_csv('main_df_drop_zj.csv')"
   ]
  },
  {
   "cell_type": "code",
   "execution_count": 722,
   "metadata": {},
   "outputs": [],
   "source": [
    "main_df = main_df.replace([-9988,-9989],np.nan)"
   ]
  },
  {
   "cell_type": "code",
   "execution_count": 723,
   "metadata": {},
   "outputs": [],
   "source": [
    "fsc = fs.FeatureSelector(main_df,labels='tag')"
   ]
  },
  {
   "cell_type": "code",
   "execution_count": 724,
   "metadata": {},
   "outputs": [
    {
     "name": "stdout",
     "output_type": "stream",
     "text": [
      "300 features with greater than 0.70 missing values.\n",
      "\n",
      "121 features with a single unique value.\n",
      "\n"
     ]
    }
   ],
   "source": [
    "fsc.identify_missing(0.7)\n",
    "fsc.identify_single_unique()\n",
    "# fsc.identify_collinear(0.9)"
   ]
  },
  {
   "cell_type": "code",
   "execution_count": 725,
   "metadata": {},
   "outputs": [
    {
     "name": "stdout",
     "output_type": "stream",
     "text": [
      "Total of 394 features identified for removal\n"
     ]
    }
   ],
   "source": [
    "remove_feas = fsc.check_removal()"
   ]
  },
  {
   "cell_type": "code",
   "execution_count": 726,
   "metadata": {},
   "outputs": [],
   "source": [
    "main_df = main_df.drop(remove_feas,axis=1)"
   ]
  },
  {
   "cell_type": "code",
   "execution_count": 727,
   "metadata": {},
   "outputs": [],
   "source": [
    "train_set = main_df[main_df['obj_date'] != '2020-06-30']\n",
    "oot_set = main_df[main_df['obj_date'] == '2020-06-30']"
   ]
  },
  {
   "cell_type": "code",
   "execution_count": 728,
   "metadata": {},
   "outputs": [
    {
     "data": {
      "text/plain": [
       "0    1801\n",
       "1     200\n",
       "Name: tag, dtype: int64"
      ]
     },
     "execution_count": 728,
     "metadata": {},
     "output_type": "execute_result"
    }
   ],
   "source": [
    "train_set['tag'].value_counts()"
   ]
  },
  {
   "cell_type": "code",
   "execution_count": 729,
   "metadata": {
    "scrolled": false
   },
   "outputs": [
    {
     "data": {
      "text/plain": [
       "0    1312\n",
       "1     148\n",
       "Name: tag, dtype: int64"
      ]
     },
     "execution_count": 729,
     "metadata": {},
     "output_type": "execute_result"
    }
   ],
   "source": [
    "oot_set['tag'].value_counts()"
   ]
  },
  {
   "cell_type": "code",
   "execution_count": 730,
   "metadata": {},
   "outputs": [
    {
     "data": {
      "text/plain": [
       "0    0.90005\n",
       "1    0.09995\n",
       "Name: tag, dtype: float64"
      ]
     },
     "execution_count": 730,
     "metadata": {},
     "output_type": "execute_result"
    }
   ],
   "source": [
    "train_set['tag'].value_counts()/len(train_set)"
   ]
  },
  {
   "cell_type": "code",
   "execution_count": 731,
   "metadata": {},
   "outputs": [],
   "source": [
    "# 包括专家特征\n",
    "train_set = train_set.drop(['cust_no', 'obs_dt', 'obj_date', 'p', 'req_id', 'businessid'],axis=1)\n",
    "oot_set = oot_set.drop(['cust_no', 'obs_dt', 'obj_date', 'p', 'req_id', 'businessid'],axis=1)"
   ]
  },
  {
   "cell_type": "markdown",
   "metadata": {},
   "source": [
    "### 3.2 类别变量处理"
   ]
  },
  {
   "cell_type": "code",
   "execution_count": 732,
   "metadata": {},
   "outputs": [],
   "source": [
    "from unity.eda_func import EdaFunc"
   ]
  },
  {
   "cell_type": "code",
   "execution_count": 733,
   "metadata": {},
   "outputs": [],
   "source": [
    "# train_set['dubil_num_3'].astype(float)"
   ]
  },
  {
   "cell_type": "code",
   "execution_count": 734,
   "metadata": {},
   "outputs": [
    {
     "data": {
      "text/plain": [
       "WN_TAX008    object\n",
       "area         object\n",
       "dtype: object"
      ]
     },
     "execution_count": 734,
     "metadata": {},
     "output_type": "execute_result"
    }
   ],
   "source": [
    "fea_types = train_set.dtypes\n",
    "fea_types[fea_types == 'object']"
   ]
  },
  {
   "cell_type": "code",
   "execution_count": 735,
   "metadata": {},
   "outputs": [],
   "source": [
    "# 包括专家特征\n",
    "train_set['area'] = train_set['area'].replace({'上海':1,'厦门':2,'福建':3})\n",
    "oot_set['area'] = oot_set['area'].replace({'上海':1,'厦门':2,'福建':3})"
   ]
  },
  {
   "cell_type": "code",
   "execution_count": 736,
   "metadata": {},
   "outputs": [],
   "source": [
    "# 包括专家特征\n",
    "unique_feas = ['count_normalpayoff_loan_3', 'count_normalpayoff_loan_6', 'count_normalpayoff_loan_9', 'count_normalpayoff_loan_12', \n",
    "               'count_ovduepayoff_loan_3', 'count_ovduepayoff_loan_6', 'count_ovduepayoff_loan_9', 'count_ovduepayoff_loan_12',\n",
    "               'zxgcsste','WN_ICR022', 'WN_ICR040', 'WN_LEG039', 'WN_LEG033', 'warn_state']\n",
    "train_set = train_set.drop(unique_feas,axis=1)\n",
    "oot_set = oot_set.drop(unique_feas,axis=1)"
   ]
  },
  {
   "cell_type": "code",
   "execution_count": 737,
   "metadata": {},
   "outputs": [
    {
     "data": {
      "text/plain": [
       "(2001, 248)"
      ]
     },
     "execution_count": 737,
     "metadata": {},
     "output_type": "execute_result"
    }
   ],
   "source": [
    "train_set.shape"
   ]
  },
  {
   "cell_type": "code",
   "execution_count": 738,
   "metadata": {
    "scrolled": true
   },
   "outputs": [
    {
     "data": {
      "text/plain": [
       "(1460, 248)"
      ]
     },
     "execution_count": 738,
     "metadata": {},
     "output_type": "execute_result"
    }
   ],
   "source": [
    "oot_set.shape"
   ]
  },
  {
   "cell_type": "markdown",
   "metadata": {},
   "source": [
    "### 3.3 划分样本"
   ]
  },
  {
   "cell_type": "code",
   "execution_count": 838,
   "metadata": {},
   "outputs": [],
   "source": [
    "tra_x,tst_x,tra_y,tst_y = train_test_split(train_set,train_set['tag'],shuffle=True,test_size=0.3,random_state=2)\n",
    "oot_x = oot_set.copy()\n",
    "oot_y = oot_set['tag']"
   ]
  },
  {
   "cell_type": "code",
   "execution_count": 839,
   "metadata": {
    "scrolled": false
   },
   "outputs": [
    {
     "data": {
      "text/plain": [
       "0    1253\n",
       "1     147\n",
       "Name: tag, dtype: int64"
      ]
     },
     "execution_count": 839,
     "metadata": {},
     "output_type": "execute_result"
    }
   ],
   "source": [
    "tra_y.value_counts()"
   ]
  },
  {
   "cell_type": "code",
   "execution_count": 840,
   "metadata": {
    "scrolled": false
   },
   "outputs": [
    {
     "data": {
      "text/plain": [
       "0    548\n",
       "1     53\n",
       "Name: tag, dtype: int64"
      ]
     },
     "execution_count": 840,
     "metadata": {},
     "output_type": "execute_result"
    }
   ],
   "source": [
    "tst_y.value_counts()"
   ]
  },
  {
   "cell_type": "markdown",
   "metadata": {},
   "source": [
    "* <font size=4 color=red face=仿宋>直接先用树模型筛选特征</font>"
   ]
  },
  {
   "cell_type": "code",
   "execution_count": 841,
   "metadata": {},
   "outputs": [],
   "source": [
    "# 包括专家特征\n",
    "cat_feas = ['WN_BNK007','WN_TAX008','tag']\n",
    "tra_x = tra_x.drop(cat_feas,axis=1)\n",
    "tst_x = tst_x.drop(cat_feas,axis=1)\n",
    "oot_x = oot_x.drop(cat_feas,axis=1)\n",
    "# 不包括专家特征\n",
    "# cat_feas = ['tag']\n",
    "# tra_x = tra_x.drop(cat_feas,axis=1)\n",
    "# tst_x = tst_x.drop(cat_feas,axis=1)\n",
    "# oot_x = oot_x.drop(cat_feas,axis=1)"
   ]
  },
  {
   "cell_type": "code",
   "execution_count": 842,
   "metadata": {},
   "outputs": [],
   "source": [
    "# tra_x = tra_x.apply(lambda x:x.fillna(x.median()))\n",
    "# tst_x = tst_x.apply(lambda x:x.fillna(x.median()))\n",
    "# oot_x = oot_x.apply(lambda x:x.fillna(x.median()))\n",
    "\n",
    "tra_x = tra_x.apply(lambda x:x.replace({np.inf:np.nan}))\n",
    "tst_x = tst_x.apply(lambda x:x.replace({np.inf:np.nan}))\n",
    "oot_x = oot_x.apply(lambda x:x.replace({np.inf:np.nan}))"
   ]
  },
  {
   "cell_type": "code",
   "execution_count": 843,
   "metadata": {},
   "outputs": [
    {
     "data": {
      "text/plain": [
       "(array([], dtype=int64), array([], dtype=int64))"
      ]
     },
     "execution_count": 843,
     "metadata": {},
     "output_type": "execute_result"
    }
   ],
   "source": [
    "np.where(tra_x == np.inf)"
   ]
  },
  {
   "cell_type": "markdown",
   "metadata": {},
   "source": [
    "#### 交叉验证筛选特征"
   ]
  },
  {
   "cell_type": "code",
   "execution_count": 844,
   "metadata": {},
   "outputs": [],
   "source": [
    "# skf = StratifiedKFold(n_splits=10,shuffle=True,random_state=2)"
   ]
  },
  {
   "cell_type": "code",
   "execution_count": 847,
   "metadata": {
    "scrolled": true
   },
   "outputs": [],
   "source": [
    "# sele = set()\n",
    "# n = 1\n",
    "# for tra_index,tst_index in skf.split(tra_x,tra_y):\n",
    "#     print(f'第{n}折')\n",
    "#     ktrax = tra_x.iloc[tra_index,:]\n",
    "#     ktray = tra_y.iloc[tra_index]\n",
    "#     ktstx = tra_x.iloc[tst_index,:]\n",
    "#     ktxty = tra_y.iloc[tst_index]\n",
    "#     clf = RandomForestClassifier(random_state=2)\n",
    "#     clf.fit(ktrax,ktray)\n",
    "#     imp = pd.DataFrame(clf.feature_importances_,index=tra_x.columns,columns=['importance']).sort_values('importance',ascending=False)\n",
    "#     sele = sele | set(imp['importance'].head(50).index)\n",
    "#     n+=1"
   ]
  },
  {
   "cell_type": "code",
   "execution_count": 848,
   "metadata": {},
   "outputs": [],
   "source": [
    "# tra_x = tra_x.drop('tag',axis=1)\n",
    "# tst_x = tst_x.drop('tag',axis=1)\n",
    "clf = LGBMClassifier(random_state=2,class_weight='balanced')\n",
    "clf.fit(tra_x,tra_y)\n",
    "tra_pred_y = clf.predict_proba(tra_x)[:,1]\n",
    "imp = pd.DataFrame(clf.feature_importances_,index=tra_x.columns,columns=['importance']).sort_values('importance',ascending=False)\n",
    "sele = set(imp['importance'].head(50).index)"
   ]
  },
  {
   "cell_type": "code",
   "execution_count": 849,
   "metadata": {},
   "outputs": [],
   "source": [
    "tra_x = tra_x[sele]\n",
    "tst_x = tst_x[sele]\n",
    "oot_x = oot_x[sele]"
   ]
  },
  {
   "cell_type": "code",
   "execution_count": 850,
   "metadata": {},
   "outputs": [],
   "source": [
    "# tra_x = tra_x.drop(hcorr_lis,axis=1)\n",
    "# tst_x = tst_x.drop(hcorr_lis,axis=1)\n",
    "# oot_x = oot_x.drop(hcorr_lis,axis=1)"
   ]
  },
  {
   "cell_type": "code",
   "execution_count": 851,
   "metadata": {},
   "outputs": [],
   "source": [
    "# clf.fit(tra_x,tra_y)\n",
    "# tra_pred_y = clf.predict_proba(tra_x)[:,1]\n",
    "# tst_pred_y = clf.predict_proba(tst_x)[:,1]\n",
    "# oot_pred_y = clf.predict_proba(oot_x)[:,1]"
   ]
  },
  {
   "cell_type": "code",
   "execution_count": 852,
   "metadata": {
    "scrolled": true
   },
   "outputs": [],
   "source": [
    "# sc.perf_eva(tra_y,tra_pred_y)   "
   ]
  },
  {
   "cell_type": "code",
   "execution_count": 853,
   "metadata": {},
   "outputs": [],
   "source": [
    "# sc.perf_eva(tst_y,tst_pred_y)   "
   ]
  },
  {
   "cell_type": "code",
   "execution_count": 854,
   "metadata": {},
   "outputs": [],
   "source": [
    "# sc.perf_eva(oot_y,oot_pred_y)    "
   ]
  },
  {
   "cell_type": "markdown",
   "metadata": {},
   "source": [
    "### 3.3 决策树分箱"
   ]
  },
  {
   "cell_type": "code",
   "execution_count": 855,
   "metadata": {},
   "outputs": [],
   "source": [
    "tra_x = pd.concat([tra_x,tra_y],axis=1)\n",
    "tst_x = pd.concat([tst_x,tst_y],axis=1)\n",
    "oot_x = pd.concat([oot_x,oot_y],axis=1)"
   ]
  },
  {
   "cell_type": "code",
   "execution_count": 856,
   "metadata": {
    "scrolled": true
   },
   "outputs": [
    {
     "name": "stdout",
     "output_type": "stream",
     "text": [
      "[INFO] creating woe binning ...\n"
     ]
    }
   ],
   "source": [
    "bins_dic  =sc.woebin(tra_x,y='tag',method='chimerge')"
   ]
  },
  {
   "cell_type": "markdown",
   "metadata": {},
   "source": [
    "### 3.4 调整分箱"
   ]
  },
  {
   "cell_type": "code",
   "execution_count": 857,
   "metadata": {
    "scrolled": true
   },
   "outputs": [
    {
     "data": {
      "text/html": [
       "<div>\n",
       "<style scoped>\n",
       "    .dataframe tbody tr th:only-of-type {\n",
       "        vertical-align: middle;\n",
       "    }\n",
       "\n",
       "    .dataframe tbody tr th {\n",
       "        vertical-align: top;\n",
       "    }\n",
       "\n",
       "    .dataframe thead th {\n",
       "        text-align: right;\n",
       "    }\n",
       "</style>\n",
       "<table border=\"1\" class=\"dataframe\">\n",
       "  <thead>\n",
       "    <tr style=\"text-align: right;\">\n",
       "      <th></th>\n",
       "      <th>mono_status</th>\n",
       "      <th>iv</th>\n",
       "    </tr>\n",
       "    <tr>\n",
       "      <th>variable</th>\n",
       "      <th></th>\n",
       "      <th></th>\n",
       "    </tr>\n",
       "  </thead>\n",
       "  <tbody>\n",
       "    <tr>\n",
       "      <th>WN_ICR043</th>\n",
       "      <td>False</td>\n",
       "      <td>0.509032</td>\n",
       "    </tr>\n",
       "    <tr>\n",
       "      <th>WN_ICR120</th>\n",
       "      <td>False</td>\n",
       "      <td>0.450696</td>\n",
       "    </tr>\n",
       "    <tr>\n",
       "      <th>WN_TAX017</th>\n",
       "      <td>False</td>\n",
       "      <td>0.412969</td>\n",
       "    </tr>\n",
       "    <tr>\n",
       "      <th>WN_TAX019</th>\n",
       "      <td>False</td>\n",
       "      <td>0.400064</td>\n",
       "    </tr>\n",
       "    <tr>\n",
       "      <th>WN_TAX025</th>\n",
       "      <td>False</td>\n",
       "      <td>0.378154</td>\n",
       "    </tr>\n",
       "    <tr>\n",
       "      <th>WN_TAX024</th>\n",
       "      <td>False</td>\n",
       "      <td>0.327499</td>\n",
       "    </tr>\n",
       "    <tr>\n",
       "      <th>zxysavgloanbalanceamt</th>\n",
       "      <td>False</td>\n",
       "      <td>0.295184</td>\n",
       "    </tr>\n",
       "    <tr>\n",
       "      <th>WN_TAX027</th>\n",
       "      <td>False</td>\n",
       "      <td>0.282817</td>\n",
       "    </tr>\n",
       "    <tr>\n",
       "      <th>WN_TAX011</th>\n",
       "      <td>False</td>\n",
       "      <td>0.223751</td>\n",
       "    </tr>\n",
       "    <tr>\n",
       "      <th>WN_TAX029</th>\n",
       "      <td>False</td>\n",
       "      <td>0.203593</td>\n",
       "    </tr>\n",
       "    <tr>\n",
       "      <th>WN_TAX026</th>\n",
       "      <td>False</td>\n",
       "      <td>0.201855</td>\n",
       "    </tr>\n",
       "    <tr>\n",
       "      <th>zxcrdpctrmbcurccpr</th>\n",
       "      <td>False</td>\n",
       "      <td>0.200263</td>\n",
       "    </tr>\n",
       "    <tr>\n",
       "      <th>zxnmlccusedamt</th>\n",
       "      <td>False</td>\n",
       "      <td>0.191682</td>\n",
       "    </tr>\n",
       "    <tr>\n",
       "      <th>zxutpggt6uplpr</th>\n",
       "      <td>False</td>\n",
       "      <td>0.187245</td>\n",
       "    </tr>\n",
       "    <tr>\n",
       "      <th>rh_tot_card_max_balance_m24</th>\n",
       "      <td>False</td>\n",
       "      <td>0.167218</td>\n",
       "    </tr>\n",
       "    <tr>\n",
       "      <th>WN_TAX036</th>\n",
       "      <td>False</td>\n",
       "      <td>0.159718</td>\n",
       "    </tr>\n",
       "    <tr>\n",
       "      <th>WN_MIX017</th>\n",
       "      <td>False</td>\n",
       "      <td>0.154470</td>\n",
       "    </tr>\n",
       "    <tr>\n",
       "      <th>rh_clear_loan_num_m24</th>\n",
       "      <td>False</td>\n",
       "      <td>0.133550</td>\n",
       "    </tr>\n",
       "    <tr>\n",
       "      <th>WN_TAX012</th>\n",
       "      <td>False</td>\n",
       "      <td>0.129406</td>\n",
       "    </tr>\n",
       "    <tr>\n",
       "      <th>WN_ICR002</th>\n",
       "      <td>False</td>\n",
       "      <td>0.125545</td>\n",
       "    </tr>\n",
       "    <tr>\n",
       "      <th>WN_MIX027</th>\n",
       "      <td>False</td>\n",
       "      <td>0.121075</td>\n",
       "    </tr>\n",
       "    <tr>\n",
       "      <th>zxpayamtmaxstallcuraccpr</th>\n",
       "      <td>False</td>\n",
       "      <td>0.116559</td>\n",
       "    </tr>\n",
       "    <tr>\n",
       "      <th>WN_MIX025</th>\n",
       "      <td>False</td>\n",
       "      <td>0.111593</td>\n",
       "    </tr>\n",
       "    <tr>\n",
       "      <th>WN_MIX019</th>\n",
       "      <td>False</td>\n",
       "      <td>0.098128</td>\n",
       "    </tr>\n",
       "    <tr>\n",
       "      <th>rh_clear_loan_num_m12</th>\n",
       "      <td>False</td>\n",
       "      <td>0.094379</td>\n",
       "    </tr>\n",
       "    <tr>\n",
       "      <th>zxcasumstrmbcurccpr</th>\n",
       "      <td>False</td>\n",
       "      <td>0.092923</td>\n",
       "    </tr>\n",
       "    <tr>\n",
       "      <th>rh_tot_card_amt_m12</th>\n",
       "      <td>False</td>\n",
       "      <td>0.084566</td>\n",
       "    </tr>\n",
       "    <tr>\n",
       "      <th>zxpayamtmaxstrmbcurplpr</th>\n",
       "      <td>False</td>\n",
       "      <td>0.075368</td>\n",
       "    </tr>\n",
       "    <tr>\n",
       "      <th>zxpayamtsumstallcurplpr</th>\n",
       "      <td>False</td>\n",
       "      <td>0.073809</td>\n",
       "    </tr>\n",
       "    <tr>\n",
       "      <th>zxpayamtminstallcurplpr</th>\n",
       "      <td>False</td>\n",
       "      <td>0.072473</td>\n",
       "    </tr>\n",
       "    <tr>\n",
       "      <th>zxpayamtavgstrmbcuraccpr</th>\n",
       "      <td>False</td>\n",
       "      <td>0.071783</td>\n",
       "    </tr>\n",
       "    <tr>\n",
       "      <th>zxpayamtsumstallcurallpr</th>\n",
       "      <td>False</td>\n",
       "      <td>0.059424</td>\n",
       "    </tr>\n",
       "    <tr>\n",
       "      <th>WN_MIX018</th>\n",
       "      <td>False</td>\n",
       "      <td>0.054015</td>\n",
       "    </tr>\n",
       "    <tr>\n",
       "      <th>zxage</th>\n",
       "      <td>False</td>\n",
       "      <td>0.052357</td>\n",
       "    </tr>\n",
       "    <tr>\n",
       "      <th>WN_MIX023</th>\n",
       "      <td>False</td>\n",
       "      <td>0.050955</td>\n",
       "    </tr>\n",
       "    <tr>\n",
       "      <th>zxpayamtavgstrmbcurallpr</th>\n",
       "      <td>False</td>\n",
       "      <td>0.029142</td>\n",
       "    </tr>\n",
       "  </tbody>\n",
       "</table>\n",
       "</div>"
      ],
      "text/plain": [
       "                             mono_status        iv\n",
       "variable                                          \n",
       "WN_ICR043                          False  0.509032\n",
       "WN_ICR120                          False  0.450696\n",
       "WN_TAX017                          False  0.412969\n",
       "WN_TAX019                          False  0.400064\n",
       "WN_TAX025                          False  0.378154\n",
       "WN_TAX024                          False  0.327499\n",
       "zxysavgloanbalanceamt              False  0.295184\n",
       "WN_TAX027                          False  0.282817\n",
       "WN_TAX011                          False  0.223751\n",
       "WN_TAX029                          False  0.203593\n",
       "WN_TAX026                          False  0.201855\n",
       "zxcrdpctrmbcurccpr                 False  0.200263\n",
       "zxnmlccusedamt                     False  0.191682\n",
       "zxutpggt6uplpr                     False  0.187245\n",
       "rh_tot_card_max_balance_m24        False  0.167218\n",
       "WN_TAX036                          False  0.159718\n",
       "WN_MIX017                          False  0.154470\n",
       "rh_clear_loan_num_m24              False  0.133550\n",
       "WN_TAX012                          False  0.129406\n",
       "WN_ICR002                          False  0.125545\n",
       "WN_MIX027                          False  0.121075\n",
       "zxpayamtmaxstallcuraccpr           False  0.116559\n",
       "WN_MIX025                          False  0.111593\n",
       "WN_MIX019                          False  0.098128\n",
       "rh_clear_loan_num_m12              False  0.094379\n",
       "zxcasumstrmbcurccpr                False  0.092923\n",
       "rh_tot_card_amt_m12                False  0.084566\n",
       "zxpayamtmaxstrmbcurplpr            False  0.075368\n",
       "zxpayamtsumstallcurplpr            False  0.073809\n",
       "zxpayamtminstallcurplpr            False  0.072473\n",
       "zxpayamtavgstrmbcuraccpr           False  0.071783\n",
       "zxpayamtsumstallcurallpr           False  0.059424\n",
       "WN_MIX018                          False  0.054015\n",
       "zxage                              False  0.052357\n",
       "WN_MIX023                          False  0.050955\n",
       "zxpayamtavgstrmbcurallpr           False  0.029142"
      ]
     },
     "execution_count": 857,
     "metadata": {},
     "output_type": "execute_result"
    }
   ],
   "source": [
    "fea_info = FeaEdaFunc.filter_fea(bins_dic)\n",
    "fea_info = fea_info.sort_values('iv',ascending=False)\n",
    "fea_info[fea_info['mono_status'] == False]"
   ]
  },
  {
   "cell_type": "code",
   "execution_count": 858,
   "metadata": {},
   "outputs": [],
   "source": [
    "# sc.woebin_plot(bins_dic,x=fea_info[fea_info['iv'] > 0.05].index.to_list())"
   ]
  },
  {
   "cell_type": "code",
   "execution_count": 859,
   "metadata": {},
   "outputs": [
    {
     "name": "stdout",
     "output_type": "stream",
     "text": [
      "[INFO] creating woe binning ...\n"
     ]
    }
   ],
   "source": [
    "adj_bin = sc.woebin(tra_x,x=['zxage','zxysavgloanbalanceamt','zxcrdpctrmbcurccpr','zxnmlccusedamt'],y='tag',\n",
    "                    breaks_list={'zxage':[35,46],'zxysavgloanbalanceamt':[80000,220000,680000],'zxcrdpctrmbcurccpr':[15,25,80],\n",
    "                                'zxnmlccusedamt':[80000,150000,450000,750000]},\n",
    "                   )"
   ]
  },
  {
   "cell_type": "code",
   "execution_count": 860,
   "metadata": {
    "scrolled": true
   },
   "outputs": [
    {
     "data": {
      "text/plain": [
       "{'zxysavgloanbalanceamt': <Figure size 432x288 with 2 Axes>,\n",
       " 'zxage': <Figure size 432x288 with 2 Axes>,\n",
       " 'zxcrdpctrmbcurccpr': <Figure size 432x288 with 2 Axes>,\n",
       " 'zxnmlccusedamt': <Figure size 432x288 with 2 Axes>}"
      ]
     },
     "execution_count": 860,
     "metadata": {},
     "output_type": "execute_result"
    },
    {
     "data": {
      "image/png": "[encoded data removed]",
      "text/plain": [
       "<Figure size 432x288 with 2 Axes>"
      ]
     },
     "metadata": {
      "needs_background": "light"
     },
     "output_type": "display_data"
    },
    {
     "data": {
      "image/png": "[encoded data removed]",
      "text/plain": [
       "<Figure size 432x288 with 2 Axes>"
      ]
     },
     "metadata": {
      "needs_background": "light"
     },
     "output_type": "display_data"
    },
    {
     "data": {
      "image/png": "[encoded data removed]",
      "text/plain": [
       "<Figure size 432x288 with 2 Axes>"
      ]
     },
     "metadata": {
      "needs_background": "light"
     },
     "output_type": "display_data"
    },
    {
     "data": {
      "image/png": "[encoded data removed]",
      "text/plain": [
       "<Figure size 432x288 with 2 Axes>"
      ]
     },
     "metadata": {
      "needs_background": "light"
     },
     "output_type": "display_data"
    }
   ],
   "source": [
    "sc.woebin_plot(adj_bin,x=['zxysavgloanbalanceamt','zxage','zxcrdpctrmbcurccpr','zxnmlccusedamt'])"
   ]
  },
  {
   "cell_type": "code",
   "execution_count": 861,
   "metadata": {},
   "outputs": [],
   "source": [
    "bins_dic.update(adj_bin)"
   ]
  },
  {
   "cell_type": "markdown",
   "metadata": {},
   "source": [
    "### 3.5 剔除iv<0.05的特征"
   ]
  },
  {
   "cell_type": "code",
   "execution_count": 862,
   "metadata": {
    "scrolled": true
   },
   "outputs": [
    {
     "data": {
      "text/html": [
       "<div>\n",
       "<style scoped>\n",
       "    .dataframe tbody tr th:only-of-type {\n",
       "        vertical-align: middle;\n",
       "    }\n",
       "\n",
       "    .dataframe tbody tr th {\n",
       "        vertical-align: top;\n",
       "    }\n",
       "\n",
       "    .dataframe thead th {\n",
       "        text-align: right;\n",
       "    }\n",
       "</style>\n",
       "<table border=\"1\" class=\"dataframe\">\n",
       "  <thead>\n",
       "    <tr style=\"text-align: right;\">\n",
       "      <th></th>\n",
       "      <th>mono_status</th>\n",
       "      <th>iv</th>\n",
       "    </tr>\n",
       "    <tr>\n",
       "      <th>variable</th>\n",
       "      <th></th>\n",
       "      <th></th>\n",
       "    </tr>\n",
       "  </thead>\n",
       "  <tbody>\n",
       "    <tr>\n",
       "      <th>WN_ICR043</th>\n",
       "      <td>False</td>\n",
       "      <td>0.509032</td>\n",
       "    </tr>\n",
       "    <tr>\n",
       "      <th>WN_ICR120</th>\n",
       "      <td>False</td>\n",
       "      <td>0.450696</td>\n",
       "    </tr>\n",
       "    <tr>\n",
       "      <th>WN_TAX017</th>\n",
       "      <td>False</td>\n",
       "      <td>0.412969</td>\n",
       "    </tr>\n",
       "    <tr>\n",
       "      <th>WN_TAX019</th>\n",
       "      <td>False</td>\n",
       "      <td>0.400064</td>\n",
       "    </tr>\n",
       "    <tr>\n",
       "      <th>WN_TAX025</th>\n",
       "      <td>False</td>\n",
       "      <td>0.378154</td>\n",
       "    </tr>\n",
       "    <tr>\n",
       "      <th>WN_TAX024</th>\n",
       "      <td>False</td>\n",
       "      <td>0.327499</td>\n",
       "    </tr>\n",
       "    <tr>\n",
       "      <th>WN_TAX027</th>\n",
       "      <td>False</td>\n",
       "      <td>0.282817</td>\n",
       "    </tr>\n",
       "    <tr>\n",
       "      <th>zxysavgloanbalanceamt</th>\n",
       "      <td>False</td>\n",
       "      <td>0.243607</td>\n",
       "    </tr>\n",
       "    <tr>\n",
       "      <th>WN_TAX011</th>\n",
       "      <td>False</td>\n",
       "      <td>0.223751</td>\n",
       "    </tr>\n",
       "    <tr>\n",
       "      <th>zxcrdpctrmbcurccpr</th>\n",
       "      <td>False</td>\n",
       "      <td>0.210679</td>\n",
       "    </tr>\n",
       "    <tr>\n",
       "      <th>WN_TAX029</th>\n",
       "      <td>False</td>\n",
       "      <td>0.203593</td>\n",
       "    </tr>\n",
       "    <tr>\n",
       "      <th>WN_TAX026</th>\n",
       "      <td>False</td>\n",
       "      <td>0.201855</td>\n",
       "    </tr>\n",
       "    <tr>\n",
       "      <th>zxutpggt6uplpr</th>\n",
       "      <td>False</td>\n",
       "      <td>0.187245</td>\n",
       "    </tr>\n",
       "    <tr>\n",
       "      <th>zxnmlccusedamt</th>\n",
       "      <td>False</td>\n",
       "      <td>0.177379</td>\n",
       "    </tr>\n",
       "    <tr>\n",
       "      <th>rh_tot_card_max_balance_m24</th>\n",
       "      <td>False</td>\n",
       "      <td>0.167218</td>\n",
       "    </tr>\n",
       "    <tr>\n",
       "      <th>WN_TAX036</th>\n",
       "      <td>False</td>\n",
       "      <td>0.159718</td>\n",
       "    </tr>\n",
       "    <tr>\n",
       "      <th>WN_MIX017</th>\n",
       "      <td>False</td>\n",
       "      <td>0.154470</td>\n",
       "    </tr>\n",
       "    <tr>\n",
       "      <th>rh_clear_loan_num_m24</th>\n",
       "      <td>False</td>\n",
       "      <td>0.133550</td>\n",
       "    </tr>\n",
       "    <tr>\n",
       "      <th>WN_TAX012</th>\n",
       "      <td>False</td>\n",
       "      <td>0.129406</td>\n",
       "    </tr>\n",
       "    <tr>\n",
       "      <th>WN_ICR002</th>\n",
       "      <td>False</td>\n",
       "      <td>0.125545</td>\n",
       "    </tr>\n",
       "    <tr>\n",
       "      <th>WN_MIX027</th>\n",
       "      <td>False</td>\n",
       "      <td>0.121075</td>\n",
       "    </tr>\n",
       "    <tr>\n",
       "      <th>zxpayamtmaxstallcuraccpr</th>\n",
       "      <td>False</td>\n",
       "      <td>0.116559</td>\n",
       "    </tr>\n",
       "    <tr>\n",
       "      <th>WN_MIX025</th>\n",
       "      <td>False</td>\n",
       "      <td>0.111593</td>\n",
       "    </tr>\n",
       "    <tr>\n",
       "      <th>WN_MIX019</th>\n",
       "      <td>False</td>\n",
       "      <td>0.098128</td>\n",
       "    </tr>\n",
       "    <tr>\n",
       "      <th>rh_clear_loan_num_m12</th>\n",
       "      <td>False</td>\n",
       "      <td>0.094379</td>\n",
       "    </tr>\n",
       "    <tr>\n",
       "      <th>zxcasumstrmbcurccpr</th>\n",
       "      <td>False</td>\n",
       "      <td>0.092923</td>\n",
       "    </tr>\n",
       "    <tr>\n",
       "      <th>rh_tot_card_amt_m12</th>\n",
       "      <td>False</td>\n",
       "      <td>0.084566</td>\n",
       "    </tr>\n",
       "    <tr>\n",
       "      <th>zxpayamtmaxstrmbcurplpr</th>\n",
       "      <td>False</td>\n",
       "      <td>0.075368</td>\n",
       "    </tr>\n",
       "    <tr>\n",
       "      <th>zxpayamtsumstallcurplpr</th>\n",
       "      <td>False</td>\n",
       "      <td>0.073809</td>\n",
       "    </tr>\n",
       "    <tr>\n",
       "      <th>zxpayamtminstallcurplpr</th>\n",
       "      <td>False</td>\n",
       "      <td>0.072473</td>\n",
       "    </tr>\n",
       "    <tr>\n",
       "      <th>zxpayamtavgstrmbcuraccpr</th>\n",
       "      <td>False</td>\n",
       "      <td>0.071783</td>\n",
       "    </tr>\n",
       "    <tr>\n",
       "      <th>zxpayamtsumstallcurallpr</th>\n",
       "      <td>False</td>\n",
       "      <td>0.059424</td>\n",
       "    </tr>\n",
       "    <tr>\n",
       "      <th>WN_MIX018</th>\n",
       "      <td>False</td>\n",
       "      <td>0.054015</td>\n",
       "    </tr>\n",
       "    <tr>\n",
       "      <th>WN_MIX023</th>\n",
       "      <td>False</td>\n",
       "      <td>0.050955</td>\n",
       "    </tr>\n",
       "    <tr>\n",
       "      <th>zxpayamtavgstrmbcurallpr</th>\n",
       "      <td>False</td>\n",
       "      <td>0.029142</td>\n",
       "    </tr>\n",
       "    <tr>\n",
       "      <th>zxage</th>\n",
       "      <td>False</td>\n",
       "      <td>0.006943</td>\n",
       "    </tr>\n",
       "  </tbody>\n",
       "</table>\n",
       "</div>"
      ],
      "text/plain": [
       "                             mono_status        iv\n",
       "variable                                          \n",
       "WN_ICR043                          False  0.509032\n",
       "WN_ICR120                          False  0.450696\n",
       "WN_TAX017                          False  0.412969\n",
       "WN_TAX019                          False  0.400064\n",
       "WN_TAX025                          False  0.378154\n",
       "WN_TAX024                          False  0.327499\n",
       "WN_TAX027                          False  0.282817\n",
       "zxysavgloanbalanceamt              False  0.243607\n",
       "WN_TAX011                          False  0.223751\n",
       "zxcrdpctrmbcurccpr                 False  0.210679\n",
       "WN_TAX029                          False  0.203593\n",
       "WN_TAX026                          False  0.201855\n",
       "zxutpggt6uplpr                     False  0.187245\n",
       "zxnmlccusedamt                     False  0.177379\n",
       "rh_tot_card_max_balance_m24        False  0.167218\n",
       "WN_TAX036                          False  0.159718\n",
       "WN_MIX017                          False  0.154470\n",
       "rh_clear_loan_num_m24              False  0.133550\n",
       "WN_TAX012                          False  0.129406\n",
       "WN_ICR002                          False  0.125545\n",
       "WN_MIX027                          False  0.121075\n",
       "zxpayamtmaxstallcuraccpr           False  0.116559\n",
       "WN_MIX025                          False  0.111593\n",
       "WN_MIX019                          False  0.098128\n",
       "rh_clear_loan_num_m12              False  0.094379\n",
       "zxcasumstrmbcurccpr                False  0.092923\n",
       "rh_tot_card_amt_m12                False  0.084566\n",
       "zxpayamtmaxstrmbcurplpr            False  0.075368\n",
       "zxpayamtsumstallcurplpr            False  0.073809\n",
       "zxpayamtminstallcurplpr            False  0.072473\n",
       "zxpayamtavgstrmbcuraccpr           False  0.071783\n",
       "zxpayamtsumstallcurallpr           False  0.059424\n",
       "WN_MIX018                          False  0.054015\n",
       "WN_MIX023                          False  0.050955\n",
       "zxpayamtavgstrmbcurallpr           False  0.029142\n",
       "zxage                              False  0.006943"
      ]
     },
     "execution_count": 862,
     "metadata": {},
     "output_type": "execute_result"
    }
   ],
   "source": [
    "fea_info = FeaEdaFunc.filter_fea(bins_dic)\n",
    "fea_info = fea_info.sort_values('iv',ascending=False)\n",
    "fea_info[fea_info['mono_status'] == False]"
   ]
  },
  {
   "cell_type": "code",
   "execution_count": 863,
   "metadata": {},
   "outputs": [],
   "source": [
    "ivdrop_feas = fea_info[fea_info['iv'] < 0.02].index.to_list()"
   ]
  },
  {
   "cell_type": "code",
   "execution_count": 864,
   "metadata": {
    "scrolled": false
   },
   "outputs": [],
   "source": [
    "bins_drop_dic = [bins_dic.pop(k) for k in ivdrop_feas]"
   ]
  },
  {
   "cell_type": "code",
   "execution_count": 865,
   "metadata": {},
   "outputs": [],
   "source": [
    "tra_x = tra_x.drop(ivdrop_feas,axis=1)\n",
    "tst_x = tst_x.drop(ivdrop_feas,axis=1)\n",
    "oot_x = oot_x.drop(ivdrop_feas,axis=1)"
   ]
  },
  {
   "cell_type": "markdown",
   "metadata": {},
   "source": [
    "### 3.5 woe"
   ]
  },
  {
   "cell_type": "code",
   "execution_count": 866,
   "metadata": {},
   "outputs": [
    {
     "name": "stdout",
     "output_type": "stream",
     "text": [
      "[INFO] converting into woe values ...\n",
      "[INFO] converting into woe values ...\n",
      "[INFO] converting into woe values ...\n"
     ]
    }
   ],
   "source": [
    "tra_x_woe = sc.woebin_ply(tra_x,bins_dic)\n",
    "tst_x_woe = sc.woebin_ply(tst_x,bins_dic)\n",
    "oot_x_woe = sc.woebin_ply(oot_x,bins_dic)"
   ]
  },
  {
   "cell_type": "markdown",
   "metadata": {},
   "source": [
    "### 3.6 剔除psi大于0.1的特征"
   ]
  },
  {
   "cell_type": "code",
   "execution_count": 867,
   "metadata": {},
   "outputs": [],
   "source": [
    "# tst_bin_group = FeaEdaFunc.bin_group(tst_x_woe,cols=tst_x_woe.iloc[:,1:].columns,target='tag')\n",
    "# oot_bin_group = FeaEdaFunc.bin_group(oot_x_woe,cols=tst_x_woe.iloc[:,1:].columns,target='tag')"
   ]
  },
  {
   "cell_type": "code",
   "execution_count": 868,
   "metadata": {},
   "outputs": [],
   "source": [
    "def calc_psi(bindic,exp,act):\n",
    "    psi_dic = {}\n",
    "    con_dic = {}\n",
    "    for k,b in bindic.items():\n",
    "        g1 = exp[[k]].fillna('missing')\n",
    "        g2 = act[[k]].fillna('missing')\n",
    "        cut_bin = b.loc[b['breaks']!= 'missing','breaks'].astype(float)\n",
    "        cut_bin.loc[len(cut_bin)+1] = '-inf'\n",
    "        cut_bin = cut_bin.astype(float).sort_values()\n",
    "        g1['c'] = pd.cut(g1.loc[g1[k] != 'missing',k],bins=cut_bin,right=False)\n",
    "        g2['c'] = pd.cut(g2.loc[g2[k] != 'missing',k],bins=cut_bin,right=False)\n",
    "        g1['c'] = g1['c'].astype(str)\n",
    "        g1.loc[g1[k] == 'missing','c'] = 'missing'\n",
    "        count_a = g1.groupby('c').size()/len(g1)\n",
    "        g2['c'] = g2['c'].astype(str)\n",
    "        g2.loc[g2[k] == 'missing','c'] = 'missing'\n",
    "        count_e = g2.groupby('c').size()/len(g2)\n",
    "        con = pd.concat([count_a,count_e],axis=1,keys=['a','e'])\n",
    "        con['a-e'] = con['a'] - con['e']\n",
    "        con['ln(a/e)'] = np.log(con['a']/con['e'])\n",
    "        con_dic[k] = con\n",
    "        x = (con['a'] - con['e'])*np.log(con['a']/con['e'])\n",
    "        x = x[~x.isnull()]\n",
    "        psi = sum(x)\n",
    "        psi_dic[k] = psi\n",
    "    return psi_dic,con_dic"
   ]
  },
  {
   "cell_type": "code",
   "execution_count": 869,
   "metadata": {
    "scrolled": true
   },
   "outputs": [
    {
     "name": "stderr",
     "output_type": "stream",
     "text": [
      "/home/anaconda3/lib/python3.7/site-packages/pandas/core/ops/array_ops.py:253: FutureWarning: elementwise comparison failed; returning scalar instead, but in the future will perform elementwise comparison\n",
      "  res_values = method(rvalues)\n"
     ]
    }
   ],
   "source": [
    "psi_info1,con_info1 = calc_psi(bins_dic,tra_x,tst_x)\n",
    "psi_info2,con_info2 = calc_psi(bins_dic,tra_x,oot_x)\n",
    "psi_info3,con_info3 = calc_psi(bins_dic,tst_x,oot_x)"
   ]
  },
  {
   "cell_type": "code",
   "execution_count": 870,
   "metadata": {},
   "outputs": [],
   "source": [
    "psi_df1 = pd.DataFrame(psi_info1,index=['psi']).T.sort_values('psi',ascending=False)\n",
    "psi_df2 = pd.DataFrame(psi_info2,index=['psi']).T.sort_values('psi',ascending=False)\n",
    "psi_df3 = pd.DataFrame(psi_info3,index=['psi']).T.sort_values('psi',ascending=False)"
   ]
  },
  {
   "cell_type": "code",
   "execution_count": 871,
   "metadata": {},
   "outputs": [],
   "source": [
    "psi_drop1 = set(psi_df1[psi_df1['psi']>0.2].index)\n",
    "psi_drop2 = set(psi_df2[psi_df2['psi']>0.2].index)\n",
    "psi_drop3 = set(psi_df3[psi_df3['psi']>0.2].index)\n",
    "psi_drop = psi_drop1 | psi_drop2 | psi_drop3"
   ]
  },
  {
   "cell_type": "code",
   "execution_count": 872,
   "metadata": {},
   "outputs": [],
   "source": [
    "psi_drop = [i+'_woe' for i in psi_drop]"
   ]
  },
  {
   "cell_type": "code",
   "execution_count": 873,
   "metadata": {
    "scrolled": true
   },
   "outputs": [
    {
     "data": {
      "text/html": [
       "<div>\n",
       "<style scoped>\n",
       "    .dataframe tbody tr th:only-of-type {\n",
       "        vertical-align: middle;\n",
       "    }\n",
       "\n",
       "    .dataframe tbody tr th {\n",
       "        vertical-align: top;\n",
       "    }\n",
       "\n",
       "    .dataframe thead th {\n",
       "        text-align: right;\n",
       "    }\n",
       "</style>\n",
       "<table border=\"1\" class=\"dataframe\">\n",
       "  <thead>\n",
       "    <tr style=\"text-align: right;\">\n",
       "      <th></th>\n",
       "      <th>mono_status</th>\n",
       "      <th>iv</th>\n",
       "    </tr>\n",
       "    <tr>\n",
       "      <th>variable</th>\n",
       "      <th></th>\n",
       "      <th></th>\n",
       "    </tr>\n",
       "  </thead>\n",
       "  <tbody>\n",
       "    <tr>\n",
       "      <th>zxutlpctallcuraccpr</th>\n",
       "      <td>True</td>\n",
       "      <td>0.134860</td>\n",
       "    </tr>\n",
       "    <tr>\n",
       "      <th>zxcrecardusecreditrate</th>\n",
       "      <td>True</td>\n",
       "      <td>0.053972</td>\n",
       "    </tr>\n",
       "    <tr>\n",
       "      <th>WN_MIX018</th>\n",
       "      <td>False</td>\n",
       "      <td>0.054015</td>\n",
       "    </tr>\n",
       "    <tr>\n",
       "      <th>rh_tot_used_limit_rate</th>\n",
       "      <td>True</td>\n",
       "      <td>0.075436</td>\n",
       "    </tr>\n",
       "    <tr>\n",
       "      <th>WN_MIX017</th>\n",
       "      <td>False</td>\n",
       "      <td>0.154470</td>\n",
       "    </tr>\n",
       "    <tr>\n",
       "      <th>zxpayamtavgstrmbcurallpr</th>\n",
       "      <td>False</td>\n",
       "      <td>0.029142</td>\n",
       "    </tr>\n",
       "    <tr>\n",
       "      <th>WN_MIX023</th>\n",
       "      <td>False</td>\n",
       "      <td>0.050955</td>\n",
       "    </tr>\n",
       "    <tr>\n",
       "      <th>WN_TAX036</th>\n",
       "      <td>False</td>\n",
       "      <td>0.159718</td>\n",
       "    </tr>\n",
       "    <tr>\n",
       "      <th>WN_TAX019</th>\n",
       "      <td>False</td>\n",
       "      <td>0.400064</td>\n",
       "    </tr>\n",
       "    <tr>\n",
       "      <th>WN_ICR120</th>\n",
       "      <td>False</td>\n",
       "      <td>0.450696</td>\n",
       "    </tr>\n",
       "    <tr>\n",
       "      <th>WN_TAX011</th>\n",
       "      <td>False</td>\n",
       "      <td>0.223751</td>\n",
       "    </tr>\n",
       "    <tr>\n",
       "      <th>zxpayamtminstallcurplpr</th>\n",
       "      <td>False</td>\n",
       "      <td>0.072473</td>\n",
       "    </tr>\n",
       "    <tr>\n",
       "      <th>zxysavgloanbalanceamt</th>\n",
       "      <td>False</td>\n",
       "      <td>0.243607</td>\n",
       "    </tr>\n",
       "    <tr>\n",
       "      <th>WN_TAX024</th>\n",
       "      <td>False</td>\n",
       "      <td>0.327499</td>\n",
       "    </tr>\n",
       "    <tr>\n",
       "      <th>WN_ICR043</th>\n",
       "      <td>False</td>\n",
       "      <td>0.509032</td>\n",
       "    </tr>\n",
       "    <tr>\n",
       "      <th>WN_TAX015</th>\n",
       "      <td>True</td>\n",
       "      <td>0.066677</td>\n",
       "    </tr>\n",
       "    <tr>\n",
       "      <th>zxpayamtsumstallcurallpr</th>\n",
       "      <td>False</td>\n",
       "      <td>0.059424</td>\n",
       "    </tr>\n",
       "    <tr>\n",
       "      <th>zxpayamtmaxstallcuraccpr</th>\n",
       "      <td>False</td>\n",
       "      <td>0.116559</td>\n",
       "    </tr>\n",
       "    <tr>\n",
       "      <th>WN_TAX034</th>\n",
       "      <td>True</td>\n",
       "      <td>0.102739</td>\n",
       "    </tr>\n",
       "    <tr>\n",
       "      <th>zxpayamtsumstallcurplpr</th>\n",
       "      <td>False</td>\n",
       "      <td>0.073809</td>\n",
       "    </tr>\n",
       "    <tr>\n",
       "      <th>zxutpggt6uplpr</th>\n",
       "      <td>False</td>\n",
       "      <td>0.187245</td>\n",
       "    </tr>\n",
       "    <tr>\n",
       "      <th>rh_tot_card_max_balance_m24</th>\n",
       "      <td>False</td>\n",
       "      <td>0.167218</td>\n",
       "    </tr>\n",
       "    <tr>\n",
       "      <th>WN_TAX030</th>\n",
       "      <td>True</td>\n",
       "      <td>0.123301</td>\n",
       "    </tr>\n",
       "    <tr>\n",
       "      <th>WN_TAX012</th>\n",
       "      <td>False</td>\n",
       "      <td>0.129406</td>\n",
       "    </tr>\n",
       "    <tr>\n",
       "      <th>rh_tot_card_amt_m12</th>\n",
       "      <td>False</td>\n",
       "      <td>0.084566</td>\n",
       "    </tr>\n",
       "    <tr>\n",
       "      <th>rh_clear_loan_num_m24</th>\n",
       "      <td>False</td>\n",
       "      <td>0.133550</td>\n",
       "    </tr>\n",
       "    <tr>\n",
       "      <th>WN_TAX017</th>\n",
       "      <td>False</td>\n",
       "      <td>0.412969</td>\n",
       "    </tr>\n",
       "    <tr>\n",
       "      <th>zxutlpctrmbcuraccpr</th>\n",
       "      <td>True</td>\n",
       "      <td>0.120571</td>\n",
       "    </tr>\n",
       "    <tr>\n",
       "      <th>WN_MIX019</th>\n",
       "      <td>False</td>\n",
       "      <td>0.098128</td>\n",
       "    </tr>\n",
       "    <tr>\n",
       "      <th>rh_clear_loan_num_m12</th>\n",
       "      <td>False</td>\n",
       "      <td>0.094379</td>\n",
       "    </tr>\n",
       "    <tr>\n",
       "      <th>WN_TAX027</th>\n",
       "      <td>False</td>\n",
       "      <td>0.282817</td>\n",
       "    </tr>\n",
       "    <tr>\n",
       "      <th>zxcrdpctrmbcurccpr</th>\n",
       "      <td>False</td>\n",
       "      <td>0.210679</td>\n",
       "    </tr>\n",
       "    <tr>\n",
       "      <th>zxshdprmbcuraccpr</th>\n",
       "      <td>True</td>\n",
       "      <td>0.131715</td>\n",
       "    </tr>\n",
       "    <tr>\n",
       "      <th>amtlosumstrmbcurhllo</th>\n",
       "      <td>True</td>\n",
       "      <td>0.107504</td>\n",
       "    </tr>\n",
       "    <tr>\n",
       "      <th>WN_TAX029</th>\n",
       "      <td>False</td>\n",
       "      <td>0.203593</td>\n",
       "    </tr>\n",
       "    <tr>\n",
       "      <th>zxcasumstrmbcurccpr</th>\n",
       "      <td>False</td>\n",
       "      <td>0.092923</td>\n",
       "    </tr>\n",
       "    <tr>\n",
       "      <th>WN_ICR002</th>\n",
       "      <td>False</td>\n",
       "      <td>0.125545</td>\n",
       "    </tr>\n",
       "    <tr>\n",
       "      <th>WN_MIX025</th>\n",
       "      <td>False</td>\n",
       "      <td>0.111593</td>\n",
       "    </tr>\n",
       "    <tr>\n",
       "      <th>zxpayamtmaxstrmbcurplpr</th>\n",
       "      <td>False</td>\n",
       "      <td>0.075368</td>\n",
       "    </tr>\n",
       "    <tr>\n",
       "      <th>WN_TAX016</th>\n",
       "      <td>True</td>\n",
       "      <td>0.140478</td>\n",
       "    </tr>\n",
       "    <tr>\n",
       "      <th>WN_MIX027</th>\n",
       "      <td>False</td>\n",
       "      <td>0.121075</td>\n",
       "    </tr>\n",
       "    <tr>\n",
       "      <th>zxpayamtavgstrmbcuraccpr</th>\n",
       "      <td>False</td>\n",
       "      <td>0.071783</td>\n",
       "    </tr>\n",
       "    <tr>\n",
       "      <th>zxactpccnrmaxgtu</th>\n",
       "      <td>True</td>\n",
       "      <td>0.142843</td>\n",
       "    </tr>\n",
       "    <tr>\n",
       "      <th>WN_TAX025</th>\n",
       "      <td>False</td>\n",
       "      <td>0.378154</td>\n",
       "    </tr>\n",
       "    <tr>\n",
       "      <th>zxnmlccusedamt</th>\n",
       "      <td>False</td>\n",
       "      <td>0.177379</td>\n",
       "    </tr>\n",
       "    <tr>\n",
       "      <th>WN_TAX026</th>\n",
       "      <td>False</td>\n",
       "      <td>0.201855</td>\n",
       "    </tr>\n",
       "  </tbody>\n",
       "</table>\n",
       "</div>"
      ],
      "text/plain": [
       "                             mono_status        iv\n",
       "variable                                          \n",
       "zxutlpctallcuraccpr                 True  0.134860\n",
       "zxcrecardusecreditrate              True  0.053972\n",
       "WN_MIX018                          False  0.054015\n",
       "rh_tot_used_limit_rate              True  0.075436\n",
       "WN_MIX017                          False  0.154470\n",
       "zxpayamtavgstrmbcurallpr           False  0.029142\n",
       "WN_MIX023                          False  0.050955\n",
       "WN_TAX036                          False  0.159718\n",
       "WN_TAX019                          False  0.400064\n",
       "WN_ICR120                          False  0.450696\n",
       "WN_TAX011                          False  0.223751\n",
       "zxpayamtminstallcurplpr            False  0.072473\n",
       "zxysavgloanbalanceamt              False  0.243607\n",
       "WN_TAX024                          False  0.327499\n",
       "WN_ICR043                          False  0.509032\n",
       "WN_TAX015                           True  0.066677\n",
       "zxpayamtsumstallcurallpr           False  0.059424\n",
       "zxpayamtmaxstallcuraccpr           False  0.116559\n",
       "WN_TAX034                           True  0.102739\n",
       "zxpayamtsumstallcurplpr            False  0.073809\n",
       "zxutpggt6uplpr                     False  0.187245\n",
       "rh_tot_card_max_balance_m24        False  0.167218\n",
       "WN_TAX030                           True  0.123301\n",
       "WN_TAX012                          False  0.129406\n",
       "rh_tot_card_amt_m12                False  0.084566\n",
       "rh_clear_loan_num_m24              False  0.133550\n",
       "WN_TAX017                          False  0.412969\n",
       "zxutlpctrmbcuraccpr                 True  0.120571\n",
       "WN_MIX019                          False  0.098128\n",
       "rh_clear_loan_num_m12              False  0.094379\n",
       "WN_TAX027                          False  0.282817\n",
       "zxcrdpctrmbcurccpr                 False  0.210679\n",
       "zxshdprmbcuraccpr                   True  0.131715\n",
       "amtlosumstrmbcurhllo                True  0.107504\n",
       "WN_TAX029                          False  0.203593\n",
       "zxcasumstrmbcurccpr                False  0.092923\n",
       "WN_ICR002                          False  0.125545\n",
       "WN_MIX025                          False  0.111593\n",
       "zxpayamtmaxstrmbcurplpr            False  0.075368\n",
       "WN_TAX016                           True  0.140478\n",
       "WN_MIX027                          False  0.121075\n",
       "zxpayamtavgstrmbcuraccpr           False  0.071783\n",
       "zxactpccnrmaxgtu                    True  0.142843\n",
       "WN_TAX025                          False  0.378154\n",
       "zxnmlccusedamt                     False  0.177379\n",
       "WN_TAX026                          False  0.201855"
      ]
     },
     "execution_count": 873,
     "metadata": {},
     "output_type": "execute_result"
    }
   ],
   "source": [
    "fea_info.reindex([i.split('_woe')[0] for i in tra_x_woe.columns[1:]])"
   ]
  },
  {
   "cell_type": "markdown",
   "metadata": {},
   "source": [
    "### 3.7 共线性剔除 "
   ]
  },
  {
   "cell_type": "code",
   "execution_count": 828,
   "metadata": {
    "scrolled": true
   },
   "outputs": [],
   "source": [
    "# tra_x_woe.corr().style.background_gradient()"
   ]
  },
  {
   "cell_type": "code",
   "execution_count": 874,
   "metadata": {},
   "outputs": [],
   "source": [
    "tst_x_woe = tst_x_woe.drop(psi_drop,axis=1)\n",
    "tra_x_woe = tra_x_woe.drop(psi_drop,axis=1)\n",
    "oot_x_woe = oot_x_woe.drop(psi_drop,axis=1)"
   ]
  },
  {
   "cell_type": "code",
   "execution_count": 875,
   "metadata": {},
   "outputs": [],
   "source": [
    "tra_x_woe = tra_x_woe.drop('tag',axis=1).reset_index(drop=True)\n",
    "tst_x_woe = tst_x_woe.drop('tag',axis=1).reset_index(drop=True)\n",
    "oot_y = oot_x_woe['tag'].reset_index(drop=True)\n",
    "oot_x_woe = oot_x_woe.drop('tag',axis=1).reset_index(drop=True)"
   ]
  },
  {
   "cell_type": "markdown",
   "metadata": {},
   "source": [
    "### 3.8 初步测试"
   ]
  },
  {
   "cell_type": "code",
   "execution_count": 699,
   "metadata": {},
   "outputs": [],
   "source": [
    "# def val_clf(x,y,oot_x,oot_y,score,clf=LGBMClassifier(),pert_func=sc.perf_eva):\n",
    "#     tra_x,tst_x,tra_y,tst_y = train_test_split(x,y,test_size=0.3,shuffle=True)\n",
    "#     clf.fit(tra_x,tra_y)\n",
    "#     pred_y = clf.predict_proba(tst_x)[:,1]\n",
    "#     oot_pred_y = clf.predict_proba(oot_x)[:,1]\n",
    "#     if pert_func:\n",
    "#         pert_func(tst_y,pred_y)\n",
    "#         pert_func(oot_y,oot_pred_y)\n",
    "#     else:\n",
    "#         print(score(tst_y,pred_y))"
   ]
  },
  {
   "cell_type": "code",
   "execution_count": 876,
   "metadata": {},
   "outputs": [],
   "source": [
    "tst_x_woe = tst_x_woe.apply(lambda x:x.fillna(x.median()))\n",
    "oot_x_woe = oot_x_woe.apply(lambda x:x.fillna(x.median()))"
   ]
  },
  {
   "cell_type": "code",
   "execution_count": 877,
   "metadata": {},
   "outputs": [
    {
     "data": {
      "text/plain": [
       "(1400, 44)"
      ]
     },
     "execution_count": 877,
     "metadata": {},
     "output_type": "execute_result"
    }
   ],
   "source": [
    "tra_x_woe.shape"
   ]
  },
  {
   "cell_type": "code",
   "execution_count": 901,
   "metadata": {},
   "outputs": [],
   "source": [
    "n = 8\n",
    "# clf = LogisticRegression(class_weight='balanced')\n",
    "# clf = RandomForestClassifier(class_weight='balanced')\n",
    "clf = DecisionTreeClassifier(class_weight='balanced')\n",
    "clf.fit(tra_x_woe.iloc[:,:n],tra_y)\n",
    "tra_pred_y = clf.predict_proba(tra_x_woe.iloc[:,:n])[:,1]\n",
    "tst_pred_y = clf.predict_proba(tst_x_woe.iloc[:,:n])[:,1]\n",
    "oot_pred_y = clf.predict_proba(oot_x_woe.iloc[:,:n])[:,1]"
   ]
  },
  {
   "cell_type": "code",
   "execution_count": 917,
   "metadata": {},
   "outputs": [
    {
     "data": {
      "text/plain": [
       "array([0.24551389, 0.02349804, 0.0784633 , 0.03483567, 0.22001063,\n",
       "       0.12159492, 0.07826902, 0.19781455])"
      ]
     },
     "execution_count": 917,
     "metadata": {},
     "output_type": "execute_result"
    }
   ],
   "source": [
    "clf.feature_importances_"
   ]
  },
  {
   "cell_type": "code",
   "execution_count": 902,
   "metadata": {},
   "outputs": [
    {
     "data": {
      "image/png": "[encoded data removed]",
      "text/plain": [
       "<Figure size 864x432 with 2 Axes>"
      ]
     },
     "metadata": {
      "needs_background": "light"
     },
     "output_type": "display_data"
    },
    {
     "data": {
      "text/plain": [
       "{'KS': 0.5572,\n",
       " 'AUC': 0.8691,\n",
       " 'Gini': 0.7382,\n",
       " 'pic': <Figure size 864x432 with 2 Axes>}"
      ]
     },
     "execution_count": 902,
     "metadata": {},
     "output_type": "execute_result"
    }
   ],
   "source": [
    "sc.perf_eva(tra_y,tra_pred_y)  "
   ]
  },
  {
   "cell_type": "code",
   "execution_count": 903,
   "metadata": {},
   "outputs": [
    {
     "data": {
      "image/png": "[encoded data removed]",
      "text/plain": [
       "<Figure size 864x432 with 2 Axes>"
      ]
     },
     "metadata": {
      "needs_background": "light"
     },
     "output_type": "display_data"
    },
    {
     "data": {
      "text/plain": [
       "{'KS': 0.136,\n",
       " 'AUC': 0.5469,\n",
       " 'Gini': 0.0938,\n",
       " 'pic': <Figure size 864x432 with 2 Axes>}"
      ]
     },
     "execution_count": 903,
     "metadata": {},
     "output_type": "execute_result"
    }
   ],
   "source": [
    "sc.perf_eva(tst_y,tst_pred_y)                                                                                                                                   "
   ]
  },
  {
   "cell_type": "code",
   "execution_count": 904,
   "metadata": {
    "scrolled": false
   },
   "outputs": [
    {
     "data": {
      "image/png": "[encoded data removed]",
      "text/plain": [
       "<Figure size 864x432 with 2 Axes>"
      ]
     },
     "metadata": {
      "needs_background": "light"
     },
     "output_type": "display_data"
    },
    {
     "data": {
      "text/plain": [
       "{'KS': 0.086,\n",
       " 'AUC': 0.5315,\n",
       " 'Gini': 0.063,\n",
       " 'pic': <Figure size 864x432 with 2 Axes>}"
      ]
     },
     "execution_count": 904,
     "metadata": {},
     "output_type": "execute_result"
    }
   ],
   "source": [
    "sc.perf_eva(oot_y,oot_pred_y)  "
   ]
  },
  {
   "cell_type": "code",
   "execution_count": 707,
   "metadata": {},
   "outputs": [],
   "source": [
    "# error_drop_feas = ['WN_TAX015_woe','zxutlpctrmbcurccpr_woe','WN_TAX027_woe','zxhomeaddrcnt_woe','WN_ICR002_woe','WN_MIX025_woe',\n",
    "# 'zxracplpr_woe']\n",
    "# error_drop_feas = ['zxracplpr_woe']\n",
    "# tra_x_woe.drop(error_drop_feas,axis=1,inplace=True)\n",
    "# tst_x_woe.drop(error_drop_feas,axis=1,inplace=True)\n",
    "# oot_x_woe.drop(error_drop_feas,axis=1,inplace=True)"
   ]
  },
  {
   "cell_type": "markdown",
   "metadata": {},
   "source": [
    "### 3.9 逐步回归"
   ]
  },
  {
   "cell_type": "code",
   "execution_count": 784,
   "metadata": {
    "scrolled": true
   },
   "outputs": [
    {
     "name": "stdout",
     "output_type": "stream",
     "text": [
      "Optimization terminated successfully.\n",
      "         Current function value: 0.335932\n",
      "         Iterations 6\n",
      "Optimization terminated successfully.\n",
      "         Current function value: 0.333461\n",
      "         Iterations 7\n",
      "Optimization terminated successfully.\n",
      "         Current function value: 0.331908\n",
      "         Iterations 7\n",
      "Optimization terminated successfully.\n",
      "         Current function value: 0.330553\n",
      "         Iterations 7\n",
      "Optimization terminated successfully.\n",
      "         Current function value: 0.329298\n",
      "         Iterations 7\n",
      "Optimization terminated successfully.\n",
      "         Current function value: 0.329298\n",
      "         Iterations 7\n",
      "                               Results: Logit\n",
      "============================================================================\n",
      "Model:                   Logit               Pseudo R-squared:    0.020     \n",
      "Dependent Variable:      y                   AIC:                 932.0331  \n",
      "Date:                    2021-09-13 15:26    BIC:                 958.2543  \n",
      "No. Observations:        1400                Log-Likelihood:      -461.02   \n",
      "Df Model:                4                   LL-Null:             -470.31   \n",
      "Df Residuals:            1395                LLR p-value:         0.00095147\n",
      "Converged:               1.0000              Scale:               1.0000    \n",
      "No. Iterations:          7.0000                                             \n",
      "----------------------------------------------------------------------------\n",
      "                             Coef.  Std.Err.    z     P>|z|   [0.025  0.975]\n",
      "----------------------------------------------------------------------------\n",
      "_const                      -2.1552   0.0917 -23.4919 0.0000 -2.3350 -1.9754\n",
      "rh_tot_used_limit_rate_woe   0.7892   0.3366   2.3446 0.0190  0.1295  1.4490\n",
      "zxpayamtminstallcurplpr_woe  0.6632   0.3256   2.0368 0.0417  0.0250  1.3014\n",
      "rh_tot_card_amt_m12_woe     -0.7602   0.3934  -1.9324 0.0533 -1.5312  0.0108\n",
      "WN_TAX016_woe                0.4214   0.2298   1.8338 0.0667 -0.0290  0.8718\n",
      "============================================================================\n",
      "\n",
      "                                   chi2         P>chi2  df constraint\n",
      "_const                       551.871672  4.929770e-122              1\n",
      "rh_tot_used_limit_rate_woe     5.497112   1.904791e-02              1\n",
      "zxpayamtminstallcurplpr_woe    4.148351   4.167508e-02              1\n",
      "rh_tot_card_amt_m12_woe        3.734325   5.330520e-02              1\n",
      "WN_TAX016_woe                  3.362754   6.668646e-02              1\n"
     ]
    }
   ],
   "source": [
    "step_drop_feas,step_res = FeaEdaFunc.step_logit(tra_x_woe,tra_y)"
   ]
  },
  {
   "cell_type": "code",
   "execution_count": 785,
   "metadata": {},
   "outputs": [],
   "source": [
    "tra_x_woe.drop(step_drop_feas,axis=1,inplace=True)\n",
    "tst_x_woe.drop(step_drop_feas,axis=1,inplace=True)\n",
    "oot_x_woe.drop(step_drop_feas,axis=1,inplace=True)"
   ]
  },
  {
   "cell_type": "code",
   "execution_count": 786,
   "metadata": {},
   "outputs": [],
   "source": [
    "clf = LogisticRegression(class_weight='balanced')\n",
    "clf.fit(tra_x_woe,tra_y)\n",
    "tra_pred_y = clf.predict_proba(tra_x_woe)[:,1]\n",
    "tst_pred_y = clf.predict_proba(tst_x_woe)[:,1]\n",
    "oot_pred_y = clf.predict_proba(oot_x_woe)[:,1]"
   ]
  },
  {
   "cell_type": "code",
   "execution_count": 787,
   "metadata": {},
   "outputs": [
    {
     "data": {
      "image/png": "[encoded data removed]",
      "text/plain": [
       "<Figure size 864x432 with 2 Axes>"
      ]
     },
     "metadata": {
      "needs_background": "light"
     },
     "output_type": "display_data"
    },
    {
     "data": {
      "text/plain": [
       "{'KS': 0.1988,\n",
       " 'AUC': 0.6013,\n",
       " 'Gini': 0.2026,\n",
       " 'pic': <Figure size 864x432 with 2 Axes>}"
      ]
     },
     "execution_count": 787,
     "metadata": {},
     "output_type": "execute_result"
    }
   ],
   "source": [
    "sc.perf_eva(tra_y,tra_pred_y)  "
   ]
  },
  {
   "cell_type": "code",
   "execution_count": 788,
   "metadata": {},
   "outputs": [
    {
     "data": {
      "image/png": "[encoded data removed]",
      "text/plain": [
       "<Figure size 864x432 with 2 Axes>"
      ]
     },
     "metadata": {
      "needs_background": "light"
     },
     "output_type": "display_data"
    },
    {
     "data": {
      "text/plain": [
       "{'KS': 0.1469,\n",
       " 'AUC': 0.568,\n",
       " 'Gini': 0.136,\n",
       " 'pic': <Figure size 864x432 with 2 Axes>}"
      ]
     },
     "execution_count": 788,
     "metadata": {},
     "output_type": "execute_result"
    }
   ],
   "source": [
    "sc.perf_eva(tst_y,tst_pred_y)"
   ]
  },
  {
   "cell_type": "code",
   "execution_count": 789,
   "metadata": {},
   "outputs": [
    {
     "data": {
      "image/png": "[encoded data removed]",
      "text/plain": [
       "<Figure size 864x432 with 2 Axes>"
      ]
     },
     "metadata": {
      "needs_background": "light"
     },
     "output_type": "display_data"
    },
    {
     "data": {
      "text/plain": [
       "{'KS': 0.1716,\n",
       " 'AUC': 0.6037,\n",
       " 'Gini': 0.2073,\n",
       " 'pic': <Figure size 864x432 with 2 Axes>}"
      ]
     },
     "execution_count": 789,
     "metadata": {},
     "output_type": "execute_result"
    }
   ],
   "source": [
    "sc.perf_eva(oot_y,oot_pred_y) "
   ]
  },
  {
   "cell_type": "code",
   "execution_count": null,
   "metadata": {},
   "outputs": [],
   "source": []
  }
 ],
 "metadata": {
  "kernelspec": {
   "display_name": "Python 3",
   "language": "python",
   "name": "python3"
  },
  "language_info": {
   "codemirror_mode": {
    "name": "ipython",
    "version": 3
   },
   "file_extension": ".py",
   "mimetype": "text/x-python",
   "name": "python",
   "nbconvert_exporter": "python",
   "pygments_lexer": "ipython3",
   "version": "3.7.6"
  }
 },
 "nbformat": 4,
 "nbformat_minor": 4
}
