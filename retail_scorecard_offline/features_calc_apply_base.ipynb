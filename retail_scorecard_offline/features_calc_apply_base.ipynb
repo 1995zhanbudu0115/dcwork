{
 "cells": [
  {
   "cell_type": "markdown",
   "metadata": {},
   "source": [
    "## 线下零售贷款申请客户特征处理-申请信息特征"
   ]
  },
  {
   "cell_type": "code",
   "execution_count": 1,
   "metadata": {},
   "outputs": [],
   "source": [
    "import pandas as pd\n",
    "from feature_selector import FeatureSelector\n",
    "import matplotlib.pyplot as plt\n",
    "import numpy as np\n",
    "import pylab\n",
    "import matplotlib.pyplot as plt\n",
    "from sklearn.preprocessing import LabelEncoder\n",
    "from sklearn.linear_model import LogisticRegression\n",
    "import math\n",
    "import datetime\n",
    "import scorecardpy as sc\n",
    "import scipy\n",
    "from xgboost import XGBClassifier\n",
    "from sklearn.model_selection import cross_val_score,train_test_split\n",
    "import seaborn as sns\n",
    "import warnings\n",
    "from sklearn.metrics import roc_auc_score,roc_curve\n",
    "\n",
    "%matplotlib inline\n",
    "plt.rcParams['font.sans-serif'] = ['SimHei']\n",
    "plt.rcParams['axes.unicode_minus'] = False  \n",
    "pd.set_option('max.columns',200)\n",
    "warnings.filterwarnings('ignore')"
   ]
  },
  {
   "cell_type": "code",
   "execution_count": 2,
   "metadata": {},
   "outputs": [],
   "source": [
    "apply_data = pd.read_excel('线下零售贷款申请-衍生.xls')"
   ]
  },
  {
   "cell_type": "code",
   "execution_count": 3,
   "metadata": {},
   "outputs": [],
   "source": [
    "apply_data = apply_data.iloc[:,1:]"
   ]
  },
  {
   "cell_type": "markdown",
   "metadata": {},
   "source": [
    "# 数据清洗"
   ]
  },
  {
   "cell_type": "code",
   "execution_count": 4,
   "metadata": {
    "scrolled": false
   },
   "outputs": [],
   "source": [
    "apply_data = apply_data[~apply_data['产品小类'].fillna('N').str.contains('房E贷|小微E贷|税享贷|E车贷|兴安贷')]\n",
    "missing_ratio = 1-(apply_data.count()/len(apply_data))\n",
    "drop_feas = missing_ratio[missing_ratio>0.8].index"
   ]
  },
  {
   "cell_type": "code",
   "execution_count": 5,
   "metadata": {
    "scrolled": true
   },
   "outputs": [
    {
     "data": {
      "text/plain": [
       "Index(['上报评审时间总行', '低风险总金额', '类低总金额', '共同借款人编号', '共同借款人名称', '是否有保证', '是否保证加抵押',\n",
       "       '年龄', '户籍与居住市级是否一致', '户籍与居住区级是否一致', '配偶年龄', '配偶是否有单位记录',\n",
       "       '本人居信住址是否与配偶住址', '客户性质', '控股类型'],\n",
       "      dtype='object')"
      ]
     },
     "execution_count": 5,
     "metadata": {},
     "output_type": "execute_result"
    }
   ],
   "source": [
    "drop_feas"
   ]
  },
  {
   "cell_type": "code",
   "execution_count": 6,
   "metadata": {},
   "outputs": [],
   "source": [
    "apply_data.drop(drop_feas,axis=1,inplace=True)"
   ]
  },
  {
   "cell_type": "code",
   "execution_count": 7,
   "metadata": {
    "scrolled": true
   },
   "outputs": [
    {
     "data": {
      "text/plain": [
       "array(['筑梦贷', '个人经营贷款', '其他消费贷款', '耐用消费品', '个人住房装修贷款', '个人住房装修',\n",
       "       '个人商用房按揭（二手）', '个人商用房按揭（一手现房）', '个人住宅按揭（二手）', '个人住房装修贷款,耐用消费品',\n",
       "       '车位贷款', '个人住房装修贷款,其他消费贷款', '购买家用车', nan, '自助质押消费贷', '个人住宅按揭（一手现房）',\n",
       "       '个人住宅按揭（一手期房）', '个人信保贷', '个人商用房按揭（一手期房）'], dtype=object)"
      ]
     },
     "execution_count": 7,
     "metadata": {},
     "output_type": "execute_result"
    }
   ],
   "source": [
    "apply_data['产品小类'].unique()"
   ]
  },
  {
   "cell_type": "markdown",
   "metadata": {},
   "source": [
    "# 一、特征初步衍生"
   ]
  },
  {
   "cell_type": "markdown",
   "metadata": {},
   "source": [
    "## 1.保证、质押特征"
   ]
  },
  {
   "cell_type": "code",
   "execution_count": 8,
   "metadata": {},
   "outputs": [],
   "source": [
    "apply_data['是否有保证'] = apply_data['保证人客编'].apply(lambda x:0 if np.isnan(x) else 1)\n",
    "apply_data['是否保证加抵押'] = apply_data[['押品类型','是否有保证']].apply(\n",
    "    lambda x:1 if (x[0] != np.nan)&(x[1] == 1) else 0,axis=1)"
   ]
  },
  {
   "cell_type": "markdown",
   "metadata": {},
   "source": [
    "## 2.年龄相关"
   ]
  },
  {
   "cell_type": "code",
   "execution_count": 9,
   "metadata": {},
   "outputs": [],
   "source": [
    "apply_data['起始日'] = pd.to_datetime(apply_data['起始日'])\n",
    "apply_data['birth_year'] = apply_data['借款人身份证'].apply(lambda x:int(x[6:10]) if len(x) == 18 else np.nan)\n",
    "apply_data['年龄'] = apply_data['起始日'].dt.year - apply_data['birth_year']"
   ]
  },
  {
   "cell_type": "markdown",
   "metadata": {},
   "source": [
    "## 3.地址相关"
   ]
  },
  {
   "cell_type": "code",
   "execution_count": 10,
   "metadata": {},
   "outputs": [],
   "source": [
    "def trans_dist(x):\n",
    "    if x // 1000 in [310,110,300,500]:\n",
    "        return (x // 1000)*1000\n",
    "    else:\n",
    "        return (x // 100)*100\n",
    "\n",
    "apply_data['birth_region'] = apply_data['户籍地行政区划'].apply(trans_dist)\n",
    "apply_data['resdnt_region'] = apply_data['居住地行政区划'].apply(trans_dist)\n",
    "apply_data['户籍地与居住地市级是否一致'] = (apply_data['birth_region']==apply_data['resdnt_region']).astype(int)\n",
    "apply_data['户籍地与居住地区级是否一致'] = (apply_data['户籍地行政区划']==apply_data['居住地行政区划']).astype(int)"
   ]
  },
  {
   "cell_type": "code",
   "execution_count": 11,
   "metadata": {
    "scrolled": true
   },
   "outputs": [
    {
     "data": {
      "text/html": [
       "<div>\n",
       "<style scoped>\n",
       "    .dataframe tbody tr th:only-of-type {\n",
       "        vertical-align: middle;\n",
       "    }\n",
       "\n",
       "    .dataframe tbody tr th {\n",
       "        vertical-align: top;\n",
       "    }\n",
       "\n",
       "    .dataframe thead th {\n",
       "        text-align: right;\n",
       "    }\n",
       "</style>\n",
       "<table border=\"1\" class=\"dataframe\">\n",
       "  <thead>\n",
       "    <tr style=\"text-align: right;\">\n",
       "      <th></th>\n",
       "      <th>户籍地行政区划</th>\n",
       "      <th>居住地行政区划</th>\n",
       "      <th>户籍地与居住地市级是否一致</th>\n",
       "      <th>户籍地与居住地区级是否一致</th>\n",
       "    </tr>\n",
       "  </thead>\n",
       "  <tbody>\n",
       "    <tr>\n",
       "      <th>0</th>\n",
       "      <td>350205.0</td>\n",
       "      <td>350205.0</td>\n",
       "      <td>1</td>\n",
       "      <td>1</td>\n",
       "    </tr>\n",
       "    <tr>\n",
       "      <th>1</th>\n",
       "      <td>350205.0</td>\n",
       "      <td>350205.0</td>\n",
       "      <td>1</td>\n",
       "      <td>1</td>\n",
       "    </tr>\n",
       "    <tr>\n",
       "      <th>2</th>\n",
       "      <td>310115.0</td>\n",
       "      <td>310115.0</td>\n",
       "      <td>1</td>\n",
       "      <td>1</td>\n",
       "    </tr>\n",
       "    <tr>\n",
       "      <th>3</th>\n",
       "      <td>350681.0</td>\n",
       "      <td>350206.0</td>\n",
       "      <td>0</td>\n",
       "      <td>0</td>\n",
       "    </tr>\n",
       "    <tr>\n",
       "      <th>4</th>\n",
       "      <td>350213.0</td>\n",
       "      <td>350212.0</td>\n",
       "      <td>1</td>\n",
       "      <td>0</td>\n",
       "    </tr>\n",
       "  </tbody>\n",
       "</table>\n",
       "</div>"
      ],
      "text/plain": [
       "    户籍地行政区划   居住地行政区划  户籍地与居住地市级是否一致  户籍地与居住地区级是否一致\n",
       "0  350205.0  350205.0              1              1\n",
       "1  350205.0  350205.0              1              1\n",
       "2  310115.0  310115.0              1              1\n",
       "3  350681.0  350206.0              0              0\n",
       "4  350213.0  350212.0              1              0"
      ]
     },
     "execution_count": 11,
     "metadata": {},
     "output_type": "execute_result"
    }
   ],
   "source": [
    "apply_data[['户籍地行政区划','居住地行政区划','户籍地与居住地市级是否一致','户籍地与居住地区级是否一致']].head()"
   ]
  },
  {
   "cell_type": "markdown",
   "metadata": {},
   "source": [
    "## 4.配偶相关"
   ]
  },
  {
   "cell_type": "code",
   "execution_count": 12,
   "metadata": {},
   "outputs": [],
   "source": [
    "apply_data['配偶年龄'] = apply_data['起始日'].dt.year - apply_data['配偶身份证'].astype(str).apply(\n",
    "    lambda x: int(x[6:10]) if len(x) == 18 else np.nan)"
   ]
  },
  {
   "cell_type": "code",
   "execution_count": 13,
   "metadata": {},
   "outputs": [],
   "source": [
    "apply_data['配偶是否有单位记录'] = apply_data['单位性质.1'].where(apply_data['单位性质.1'].isnull(),1).fillna(0)"
   ]
  },
  {
   "cell_type": "code",
   "execution_count": 14,
   "metadata": {
    "scrolled": false
   },
   "outputs": [
    {
     "data": {
      "text/html": [
       "<div>\n",
       "<style scoped>\n",
       "    .dataframe tbody tr th:only-of-type {\n",
       "        vertical-align: middle;\n",
       "    }\n",
       "\n",
       "    .dataframe tbody tr th {\n",
       "        vertical-align: top;\n",
       "    }\n",
       "\n",
       "    .dataframe thead th {\n",
       "        text-align: right;\n",
       "    }\n",
       "</style>\n",
       "<table border=\"1\" class=\"dataframe\">\n",
       "  <thead>\n",
       "    <tr style=\"text-align: right;\">\n",
       "      <th></th>\n",
       "      <th>单位性质.1</th>\n",
       "      <th>配偶是否有单位记录</th>\n",
       "    </tr>\n",
       "  </thead>\n",
       "  <tbody>\n",
       "    <tr>\n",
       "      <th>0</th>\n",
       "      <td>NaN</td>\n",
       "      <td>0</td>\n",
       "    </tr>\n",
       "    <tr>\n",
       "      <th>1</th>\n",
       "      <td>NaN</td>\n",
       "      <td>0</td>\n",
       "    </tr>\n",
       "    <tr>\n",
       "      <th>2</th>\n",
       "      <td>NaN</td>\n",
       "      <td>0</td>\n",
       "    </tr>\n",
       "    <tr>\n",
       "      <th>3</th>\n",
       "      <td>NaN</td>\n",
       "      <td>0</td>\n",
       "    </tr>\n",
       "    <tr>\n",
       "      <th>4</th>\n",
       "      <td>NaN</td>\n",
       "      <td>0</td>\n",
       "    </tr>\n",
       "  </tbody>\n",
       "</table>\n",
       "</div>"
      ],
      "text/plain": [
       "  单位性质.1  配偶是否有单位记录\n",
       "0    NaN          0\n",
       "1    NaN          0\n",
       "2    NaN          0\n",
       "3    NaN          0\n",
       "4    NaN          0"
      ]
     },
     "execution_count": 14,
     "metadata": {},
     "output_type": "execute_result"
    }
   ],
   "source": [
    "apply_data[['单位性质.1','配偶是否有单位记录']].head() "
   ]
  },
  {
   "cell_type": "code",
   "execution_count": 15,
   "metadata": {},
   "outputs": [],
   "source": [
    "apply_data['本人居住地址是否与配偶住址一致'] = apply_data[['居住地行政区划','居住地行政区划.2']].apply(lambda x:1 if x[0]==x[1] else 0,axis=1)"
   ]
  },
  {
   "cell_type": "markdown",
   "metadata": {},
   "source": [
    "## 5.其他衍生"
   ]
  },
  {
   "cell_type": "code",
   "execution_count": 16,
   "metadata": {
    "scrolled": true
   },
   "outputs": [],
   "source": [
    "apply_data['work_place_equal_birth_place'] = (apply_data['PROVINCE_CITY'] == apply_data['户籍地行政区划']).astype(int)\n",
    "apply_data['work_place_equal_resdnt_place'] = (apply_data['PROVINCE_CITY'] == apply_data['居住地行政区划']).astype(int)"
   ]
  },
  {
   "cell_type": "code",
   "execution_count": 17,
   "metadata": {},
   "outputs": [],
   "source": [
    "apply_data['rep_name_equal_ctrl_name'] = (apply_data['法定代表人'] == apply_data['实际控制人']).astype(int)"
   ]
  },
  {
   "cell_type": "code",
   "execution_count": 18,
   "metadata": {},
   "outputs": [],
   "source": [
    "apply_data['成立日期'] = pd.to_datetime(apply_data['成立日期'])\n",
    "apply_data['found_until_apply_days'] = (apply_data['起始日']-apply_data['成立日期']).dt.days\n",
    "apply_data['found_until_apply_years'] = round((apply_data['起始日']-apply_data['成立日期']).dt.days/365)\n",
    "apply_data['found_until_apply_month'] = round((apply_data['起始日']-apply_data['成立日期']).dt.days/30)"
   ]
  },
  {
   "cell_type": "code",
   "execution_count": 19,
   "metadata": {
    "scrolled": true
   },
   "outputs": [],
   "source": [
    "apply_data['性别'].replace({'男性':1,'女性':0},inplace=True)"
   ]
  },
  {
   "cell_type": "markdown",
   "metadata": {},
   "source": [
    "# 二.样本打标与特征整合"
   ]
  },
  {
   "cell_type": "code",
   "execution_count": 20,
   "metadata": {},
   "outputs": [],
   "source": [
    "# bad_tag = pd.read_csv('bad_acct_no.csv')\n",
    "# main_cust = pd.read_csv('main_cust_no_2.csv')\n",
    "# zx_feas = pd.read_excel('征信特征汇总.xlsx')\n",
    "\n",
    "# main_cust = main_cust.drop_duplicates()\n",
    "# main_cust.columns = ['授信申请编号','客户编号','基准时间','原始交易编号']\n",
    "# main_fea = apply_data[apply_data['授信申请编号'].isin(main_cust['授信申请编号'])]\n",
    "# main_cust['tag'] = 0\n",
    "# main_cust.loc[main_cust['原始交易编号'].isin(bad_tag['acct_no']),'tag'] = 1\n",
    "# del main_cust['原始交易编号']\n",
    "# main_cust = main_cust.drop_duplicates()\n",
    "\n",
    "# zx_feas.rename(columns={'DATE':'基准时间'},inplace=True)\n",
    "# main_cust.rename(columns={'base_time':'基准时间','cust_no':'客户编号','apply_no':'授信申请编号'},inplace=True)\n",
    "\n",
    "# main_cust = main_cust.merge(zx_feas,on=['客户编号','基准时间'],how='left').drop_duplicates()\n",
    "\n",
    "# main_cust_fir = main_cust.sort_values(['授信申请编号','基准时间']).groupby('授信申请编号').first()\n",
    "# main_cust_fir.dropna(subset=['tag'],inplace=True)\n",
    "# main_cust_tag = main_cust.groupby('授信申请编号')[['tag']].max()\n",
    "# main_cust_fir.drop(['tag'],axis=1,inplace=True)\n",
    "# main_cust = main_cust_fir.merge(main_cust_tag,right_index=True,left_index=True)\n",
    "# del main_cust_fir\n",
    "# del main_cust_tag\n",
    "# main_cust = main_cust.reset_index('授信申请编号')\n",
    "# main_cust.drop(['客户编号','年龄','用款主体客编','婚姻状况','配偶客编'],axis=1,inplace=True)\n",
    "# main_cust = main_cust.dropna(subset=['cert_no'])\n",
    "# main_dataset = main_cust.merge(apply_data,on=['授信申请编号'],how='inner').drop_duplicates()\n",
    "\n",
    "# main_dataset = main_dataset.drop(['客户编号','贷款用途','到期日','客户名称','上报评审时间分行','评审出具意见时间',\n",
    "#                           '产品小类','评估价值币种','保证人客户名称','籍贯','办公行政区划','户籍地行政区划',\n",
    "#                           '居住地行政区划.1','户籍地地行政区划','办公行政区划.2','配偶客户名称',\n",
    "#                           '注册地行政区划','居住地行政区划.3','办公行政区划.1','户籍地地行政区划.1','籍贯.1','性别.1','实际控制人',\n",
    "#                           '法定代表人', '注册资本币种','CCNAME','GUARANTY_TYPE','INDIV_COM_TYP.1','INDIV_COM_TYP'],axis=1)\n",
    "# def unique_handle(x):\n",
    "#     xn = x.head(1)\n",
    "#     xn['担保金额.1'] = x['担保金额.1'].unique().sum()\n",
    "#     xn['评估价值'] = x['评估价值'].unique().sum()\n",
    "#     return xn\n",
    "\n",
    "# main_dataset = main_dataset.groupby('授信申请编号').apply(unique_handle)\n",
    "# main_dataset = main_dataset.reset_index(level=0,drop=True)\n",
    "\n",
    "# main_dataset['tag'].value_counts()"
   ]
  },
  {
   "cell_type": "code",
   "execution_count": 21,
   "metadata": {},
   "outputs": [],
   "source": [
    "# main_dataset.to_csv('main_fea_origin_2.csv',index=False,encoding='gbk')"
   ]
  },
  {
   "cell_type": "code",
   "execution_count": 32,
   "metadata": {},
   "outputs": [],
   "source": [
    "# 旧代码\n",
    "bad_tag = pd.read_csv('bad_acct_no.csv')\n",
    "main_cust = pd.read_csv('main_cust_no_3.csv')\n",
    "zx_feas = pd.read_excel('征信特征汇总2.xlsx')\n",
    "# grey_cust = pd.read_csv('grey_cust.csv')"
   ]
  },
  {
   "cell_type": "code",
   "execution_count": 33,
   "metadata": {},
   "outputs": [],
   "source": [
    "zx_feas.drop(['性别'],axis=1,inplace=True)\n",
    "main_cust = main_cust.drop_duplicates()\n",
    "main_cust.columns = ['授信申请编号','客户编号','基准时间','原始交易编号']\n",
    "main_fea = apply_data[apply_data['授信申请编号'].isin(main_cust['授信申请编号'])]\n",
    "# main_cust = main_cust[~main_cust['原始交易编号'].isin(grey_cust['acct_no'])]\n",
    "main_cust['tag'] = 0\n",
    "main_cust.loc[main_cust['原始交易编号'].isin(bad_tag['acct_no']),'tag'] = 1\n",
    "del main_cust['原始交易编号']\n",
    "main_cust = main_cust.drop_duplicates()\n",
    "\n",
    "# main_cust_tag = main_cust.groupby('授信申请编号')[['tag']].max().reset_index()\n",
    "\n",
    "zx_feas.rename(columns={'DATE':'基准时间'},inplace=True)\n",
    "main_cust.rename(columns={'base_time':'基准时间','cust_no':'客户编号','apply_no':'授信申请编号'},inplace=True)\n",
    "\n",
    "main_cust = main_cust.merge(zx_feas,on=['客户编号','基准时间'],how='left').drop_duplicates()\n",
    "\n",
    "main_cust = main_cust.sort_values(['授信申请编号','tag'],ascending=[True,False]).groupby('授信申请编号',as_index=False).first()"
   ]
  },
  {
   "cell_type": "code",
   "execution_count": 34,
   "metadata": {},
   "outputs": [],
   "source": [
    "main_cust.drop(['客户编号','年龄','婚姻状况','配偶客编'],axis=1,inplace=True)\n",
    "# apply_data.drop('性别','婚姻状况',axis=1,inplace=True)\n",
    "\n",
    "main_dataset = main_cust.merge(apply_data,on=['授信申请编号'])\n",
    "main_dataset = main_dataset.drop_duplicates()\n",
    "\n",
    "# main_cust.to_excel('all_model_data.xlsx',index=False)\n",
    "\n",
    "main_dataset = main_dataset.drop(['客户编号','贷款用途','到期日','客户名称','上报评审时间分行','评审出具意见时间',\n",
    "                          '产品小类','评估价值币种','保证人客户名称','籍贯','籍贯.1','性别.1','实际控制人',\n",
    "                          '法定代表人', '注册资本币种','CCNAME','GUARANTY_TYPE','办公行政区划','居住地行政区划.1',\n",
    "                          '户籍地地行政区划','办公行政区划.1','居住地行政区划.3','户籍地地行政区划.1','办公行政区划.2',\n",
    "                          '办公行政区划.2','注册地行政区划','INDIV_BRT_PLACE.1','INDIV_BRT_PLACE','PROVINCE_CITY','PROVINCE_CITY.1',\n",
    "                          'PROVINCE_CITY.2','INDIV_COM_TYP','INDIV_COM_TYP.1','INDIV_COM_TYP','birth_region','resdnt_region',\n",
    "                         '婚姻状况.1'],axis=1)\n",
    "\n",
    "# main_dataset.to_excel('main_fea_origin.xlsx',index=False)\n",
    "\n",
    "def unique_handle(x):\n",
    "    xn = x.head(1)\n",
    "    xn['担保金额.1'] = x['担保金额.1'].unique().sum()\n",
    "    xn['评估价值'] = x['评估价值'].unique().sum()\n",
    "#     xn.drop('授信申请编号',axis=1,inplace=True)\n",
    "    return xn\n",
    "\n",
    "main_dataset = main_dataset.groupby('授信申请编号').apply(unique_handle)\n",
    "main_dataset = main_dataset.reset_index(level=0,drop=True)\n",
    "main_dataset = main_dataset.dropna(subset=['证件号码'])"
   ]
  },
  {
   "cell_type": "code",
   "execution_count": 35,
   "metadata": {},
   "outputs": [
    {
     "data": {
      "text/plain": [
       "0    3789\n",
       "1      11\n",
       "Name: tag, dtype: int64"
      ]
     },
     "execution_count": 35,
     "metadata": {},
     "output_type": "execute_result"
    }
   ],
   "source": [
    "main_dataset['tag'].value_counts()"
   ]
  },
  {
   "cell_type": "code",
   "execution_count": 36,
   "metadata": {},
   "outputs": [
    {
     "data": {
      "text/plain": [
       "(3800, 241)"
      ]
     },
     "execution_count": 36,
     "metadata": {},
     "output_type": "execute_result"
    }
   ],
   "source": [
    "main_dataset.shape"
   ]
  },
  {
   "cell_type": "code",
   "execution_count": 37,
   "metadata": {},
   "outputs": [],
   "source": [
    "main_dataset.to_csv('main_fea_origin_drop_grey.csv',index=False,encoding='gbk')"
   ]
  },
  {
   "cell_type": "markdown",
   "metadata": {},
   "source": [
    "# 三、特征深度加工"
   ]
  },
  {
   "cell_type": "markdown",
   "metadata": {},
   "source": [
    "## 1.超过5个分类的类别特征编码"
   ]
  },
  {
   "cell_type": "code",
   "execution_count": 27,
   "metadata": {},
   "outputs": [],
   "source": [
    "# 输出类别变量及其对应的分类个数\n",
    "def get_features_type(xfea):\n",
    "    types_ser = xfea.dtypes\n",
    "    cat_feas = types_ser[(types_ser == object)|(types_ser == str)].index\n",
    "    cat_feas_dic = {c: len(xfea[c].unique()) for c in cat_feas}\n",
    "    num_feas = types_ser[(types_ser==float)].index\n",
    "    num_feas_dic = {n: len(xfea[n].unique()) for n in num_feas if len(xfea[n].unique()) >= 3}\n",
    "    return {'cat_feas':pd.Series(cat_feas_dic),'num_feas':pd.Series(num_feas_dic)}\n",
    "\n",
    "# 分类大于5个的类别变量进行bad_rate 编码(会把没有坏样本的区间合并)\n",
    "def BadRateEncoding(df, col, target):\n",
    "    '''\n",
    "    :param df: dataframe containing feature and target\n",
    "    :param col: the feature that needs to be encoded with bad rate, usually categorical type\n",
    "    :param target: good/bad indicator\n",
    "    :return: the assigned bad rate to encode the categorical feature\n",
    "    '''\n",
    "    bin_dict,regroup = BinBadRate(df, col, target)\n",
    "    br_dict = regroup[[col,'badrate']].set_index([col])['badrate'].to_dict()\n",
    "    return br_dict,regroup\n",
    "\n",
    "def BinBadRate(df, col, target,return_type='badrate'):\n",
    "    '''\n",
    "    :param df: 需要计算好坏比率的数据集\n",
    "    :param col: 需要计算好坏比率的特征\n",
    "    :param target: 好坏标签\n",
    "    :param grantRateIndicator: 1返回总体的坏样本率，0不返回\n",
    "    :return: 每箱的坏样本率，以及总体的坏样本率（当grantRateIndicator＝＝1时）\n",
    "    '''\n",
    "    regroup = df.groupby([col])['tag'].agg(['count','sum'])# 每箱的坏样本数，总样本数\n",
    "    regroup.columns = ['total','bad']\n",
    "    regroup.reset_index(level=0, inplace=True)\n",
    "    regroup['good'] = regroup['total'] - regroup['bad']\n",
    "    regroup['badrate'] = regroup['bad']/regroup['total']\n",
    "    regroup['badattr'] = regroup['bad']/regroup['bad'].sum()\n",
    "    regroup['goodattr'] = regroup['good']/regroup['good'].sum()\n",
    "    regroup['woe'] = np.log(regroup['badattr']) - np.log(regroup['goodattr'])\n",
    "    regroup['bin_iv'] = (regroup['badattr'] - regroup['goodattr'])*regroup['woe']\n",
    "    regroup['total_iv'] = regroup.loc[(regroup['bin_iv'] != np.inf) | (regroup['bin_iv'] != np.inf),'bin_iv'].sum()\n",
    "    if return_type == 'badrate':\n",
    "        dicts = dict(zip(regroup[col],regroup['badrate'])) # 每箱对应的坏样本率组成的字典\n",
    "    else:\n",
    "        dicts = dict(zip(regroup[col],regroup['woe'].replace({-np.inf:0,np.inf:0})))\n",
    "    return dicts, regroup\n",
    "\n",
    "def BinWoeEncoding(df,col,target):\n",
    "    woebin_dict,bin_df = regroup = BinBadRate(df, col, target, return_type='woe')\n",
    "    return woebin_dict,bin_df"
   ]
  },
  {
   "cell_type": "code",
   "execution_count": 28,
   "metadata": {},
   "outputs": [],
   "source": [
    "train_dt = main_dataset[main_dataset['基准时间'] <= '2019-09-30']\n",
    "test_oot = main_dataset[main_dataset['基准时间'] > '2019-09-30']"
   ]
  },
  {
   "cell_type": "code",
   "execution_count": 29,
   "metadata": {},
   "outputs": [
    {
     "name": "stdout",
     "output_type": "stream",
     "text": [
      "54 features with greater than 0.80 missing values.\n",
      "\n"
     ]
    }
   ],
   "source": [
    "train_dt = train_dt.loc[:,~train_dt.columns.str.contains('客编')]\n",
    "test_oot = test_oot.loc[:,~test_oot.columns.str.contains('客编')]\n",
    "# 查看数据缺失比例,删除缺失超过85%的特征\n",
    "fs = FeatureSelector(data=main_dataset.drop(['tag'],axis=1), labels=main_dataset['tag'])\n",
    "fs.identify_missing(0.8)\n",
    "train_dt = train_dt.drop(fs.ops['missing'],axis=1)\n",
    "test_oot = test_oot.drop(fs.ops['missing'],axis=1)"
   ]
  },
  {
   "cell_type": "code",
   "execution_count": 30,
   "metadata": {},
   "outputs": [],
   "source": [
    "tra_x,test_x,tra_y,test_y = train_test_split(train_dt,train_dt['tag'],test_size=0.2,stratify=train_dt['tag'],random_state=123)\n",
    "test_x['oot'] = 0\n",
    "test_oot['oot'] = 1\n",
    "test_x = pd.concat([test_x,test_oot],axis=0)\n",
    "test_y = pd.concat([test_y,test_oot['tag']],axis=0)"
   ]
  },
  {
   "cell_type": "code",
   "execution_count": 31,
   "metadata": {},
   "outputs": [
    {
     "data": {
      "text/plain": [
       "0    2749\n",
       "1      89\n",
       "Name: tag, dtype: int64"
      ]
     },
     "execution_count": 31,
     "metadata": {},
     "output_type": "execute_result"
    }
   ],
   "source": [
    "test_x['tag'].value_counts()"
   ]
  },
  {
   "cell_type": "code",
   "execution_count": 32,
   "metadata": {},
   "outputs": [
    {
     "data": {
      "text/plain": [
       "(2838, 185)"
      ]
     },
     "execution_count": 32,
     "metadata": {},
     "output_type": "execute_result"
    }
   ],
   "source": [
    "test_x.shape"
   ]
  },
  {
   "cell_type": "code",
   "execution_count": 33,
   "metadata": {},
   "outputs": [
    {
     "data": {
      "text/plain": [
       "0    3130\n",
       "1     186\n",
       "Name: tag, dtype: int64"
      ]
     },
     "execution_count": 33,
     "metadata": {},
     "output_type": "execute_result"
    }
   ],
   "source": [
    "tra_x['tag'].value_counts()"
   ]
  },
  {
   "cell_type": "code",
   "execution_count": 34,
   "metadata": {},
   "outputs": [
    {
     "data": {
      "text/plain": [
       "(3316, 184)"
      ]
     },
     "execution_count": 34,
     "metadata": {},
     "output_type": "execute_result"
    }
   ],
   "source": [
    "tra_x.shape"
   ]
  },
  {
   "cell_type": "code",
   "execution_count": 35,
   "metadata": {},
   "outputs": [],
   "source": [
    "# tra_x.to_csv('tra_x.csv',index=False)\n",
    "# tra_y.to_csv('tra_y.csv',index=False)\n",
    "# test_x.to_csv('test_x.csv',index=False)\n",
    "# test_y.to_csv('teat_y.csv',index=False)"
   ]
  },
  {
   "cell_type": "code",
   "execution_count": 36,
   "metadata": {},
   "outputs": [],
   "source": [
    "drop_feas = ['基准时间','配偶证件号码_y','mr_婚姻状况','mr_年龄','行业大类（可否聚类分析）','单位性质.1','最高学历.1','雇佣状态.1',\n",
    "             '用款主体客户名称','发证日期','行业大类','单位所属行业.1']\n",
    "tra_x.drop(drop_feas,axis=1,inplace=True)\n",
    "test_x.drop(drop_feas,axis=1,inplace=True)"
   ]
  },
  {
   "cell_type": "code",
   "execution_count": 37,
   "metadata": {},
   "outputs": [],
   "source": [
    "all_feas_info = get_features_type(tra_x)\n",
    "cat_feas = all_feas_info['cat_feas']\n",
    "num_feas = all_feas_info['num_feas']\n",
    "cat_feas_1 = cat_feas[(cat_feas>6)&(cat_feas<100)]\n",
    "cat_feas_2 = cat_feas[cat_feas <= 6]"
   ]
  },
  {
   "cell_type": "code",
   "execution_count": 38,
   "metadata": {},
   "outputs": [
    {
     "data": {
      "text/plain": [
       "担保方式     8\n",
       "押品类型    17\n",
       "单位性质    17\n",
       "最高学历    10\n",
       "雇佣状态     7\n",
       "dtype: int64"
      ]
     },
     "execution_count": 38,
     "metadata": {},
     "output_type": "execute_result"
    }
   ],
   "source": [
    "cat_feas_1"
   ]
  },
  {
   "cell_type": "code",
   "execution_count": 39,
   "metadata": {},
   "outputs": [
    {
     "data": {
      "text/plain": [
       "主担保方式       4\n",
       "项目类型        4\n",
       "是否可循环       2\n",
       "是否有共同借款人    2\n",
       "还款方式        5\n",
       "评估类型        3\n",
       "保证形式        4\n",
       "婚姻状况        6\n",
       "企业规模        4\n",
       "dtype: int64"
      ]
     },
     "execution_count": 39,
     "metadata": {},
     "output_type": "execute_result"
    }
   ],
   "source": [
    "cat_feas_2"
   ]
  },
  {
   "cell_type": "code",
   "execution_count": 40,
   "metadata": {},
   "outputs": [],
   "source": [
    "# 对类别超过5小于100的分类变量进行bad rate编码，转化为数值变量后分箱\n",
    "bin_dicts = {}\n",
    "bin_df_dicts = {}\n",
    "for c in cat_feas_1.index:\n",
    "    bin_dict,bin_df = BadRateEncoding(tra_x,c,target='tag')\n",
    "    bin_dicts[c] = bin_dict\n",
    "    bin_df_dicts[c] = bin_df\n",
    "tra_x.replace(bin_dicts,inplace=True)\n",
    "test_x.replace(bin_dicts,inplace=True)"
   ]
  },
  {
   "cell_type": "code",
   "execution_count": 41,
   "metadata": {},
   "outputs": [
    {
     "name": "stdout",
     "output_type": "stream",
     "text": [
      "担保方式 0.15046580618607483\n",
      "押品类型 0.09204243620155177\n",
      "单位性质 0.06103381998684328\n",
      "最高学历 0.09451335507579967\n",
      "雇佣状态 0.039731716441362766\n"
     ]
    }
   ],
   "source": [
    "for c in cat_feas_1.index:\n",
    "    print(c,bin_df_dicts[c]['total_iv'][0])"
   ]
  },
  {
   "cell_type": "code",
   "execution_count": 42,
   "metadata": {},
   "outputs": [],
   "source": [
    "test_x['押品类型'].replace({'酒店':0,'家用车辆':0},inplace=True)"
   ]
  },
  {
   "cell_type": "code",
   "execution_count": 43,
   "metadata": {},
   "outputs": [],
   "source": [
    "# # 对类别小于3的分类变量进行label编码(可选)\n",
    "# for c in ['婚姻状况','是否可循环','是否有共同借款人','评估类型']:\n",
    "#     tra_x[c] = LabelEncoder().fit_transform(tra_x[c].astype(str))\n",
    "#     test_x[c] = LabelEncoder().fit_transform(test_x[c].astype(str))"
   ]
  },
  {
   "cell_type": "code",
   "execution_count": 44,
   "metadata": {
    "scrolled": false
   },
   "outputs": [
    {
     "data": {
      "text/plain": [
       "授信申请编号    3316\n",
       "证件号码      3164\n",
       "借款人身份证    3164\n",
       "单位所属行业     408\n",
       "配偶客户名称    2174\n",
       "配偶身份证     2200\n",
       "dtype: int64"
      ]
     },
     "execution_count": 44,
     "metadata": {},
     "output_type": "execute_result"
    }
   ],
   "source": [
    "cat_feas[cat_feas>100]"
   ]
  },
  {
   "cell_type": "code",
   "execution_count": 45,
   "metadata": {},
   "outputs": [],
   "source": [
    "# 单位所属行业\n",
    "tra_x['单位所属行业'] = tra_x['单位所属行业'].str.split('->').str.get(1)\n",
    "test_x['单位所属行业'] = test_x['单位所属行业'].str.split('->').str.get(1)\n",
    "ind_bin_dict_1,bin_df = BadRateEncoding(tra_x,'单位所属行业','tag')"
   ]
  },
  {
   "cell_type": "code",
   "execution_count": 46,
   "metadata": {},
   "outputs": [],
   "source": [
    "bin_dicts['单位所属行业'] = ind_bin_dict_1\n",
    "tra_x['单位所属行业'] = tra_x['单位所属行业'].replace(ind_bin_dict_1)\n",
    "test_x['单位所属行业'] = test_x['单位所属行业'].replace(ind_bin_dict_1)"
   ]
  },
  {
   "cell_type": "code",
   "execution_count": 47,
   "metadata": {},
   "outputs": [],
   "source": [
    "# 担保、授信衍生\n",
    "tra_x['担保率'] = tra_x['担保金额']/tra_x['授信总金额'].fillna(0)\n",
    "test_x['担保率'] = test_x['担保金额']/test_x['授信总金额'].fillna(0)\n",
    "tra_x['保证率'] = tra_x['保证金额']/tra_x['授信总金额'].fillna(0)\n",
    "test_x['保证率'] = test_x['保证金额']/test_x['授信总金额'].fillna(0)\n",
    "tra_x['评估率'] = tra_x['评估价值']/tra_x['授信总金额'].fillna(0)\n",
    "test_x['评估率'] = test_x['评估价值']/test_x['授信总金额'].fillna(0)"
   ]
  },
  {
   "cell_type": "code",
   "execution_count": 48,
   "metadata": {},
   "outputs": [],
   "source": [
    "# 行政区划转化为省级\n",
    "tra_x.rename(columns={'居住地行政区划.2':'配偶居住地行政区划','户籍地行政区划.1':'配偶户籍地行政区划',\n",
    "                         'REG_STATE_CODE':'企业注册地行政区划'},inplace=True)\n",
    "test_x.rename(columns={'居住地行政区划.2':'配偶居住地行政区划','户籍地行政区划.1':'配偶户籍地行政区划',\n",
    "                         'REG_STATE_CODE':'企业注册地行政区划'},inplace=True)\n",
    "\n",
    "tra_x.loc[:,tra_x.columns.str.contains('行政区划|CODE')] = tra_x.loc[:,tra_x.columns.str.contains('行政区划|CODE')\n",
    "                                                                         ]//10000*10000\n",
    "tra_x.loc[:,tra_x.columns.str.contains('行政区划|CODE')] = tra_x.astype(str)\n",
    "\n",
    "test_x.loc[:,test_x.columns.str.contains('行政区划|CODE')] = test_x.loc[:,test_x.columns.str.contains('行政区划|CODE')\n",
    "                                                                         ]//10000*10000\n",
    "test_x.loc[:,test_x.columns.str.contains('行政区划|CODE')] = test_x.astype(str)"
   ]
  },
  {
   "cell_type": "code",
   "execution_count": 49,
   "metadata": {},
   "outputs": [],
   "source": [
    "# 收入支出比\n",
    "# tra_x['收入支出比'] = tra_x['支出合计']\n",
    "# test_x['收入支出比'] = test_x['支出合计']"
   ]
  },
  {
   "cell_type": "code",
   "execution_count": 50,
   "metadata": {},
   "outputs": [],
   "source": [
    "# 行政区划badrate转化\n",
    "for c in tra_x.loc[:,tra_x.columns.str.contains('行政区划|CODE')].columns:\n",
    "    bin_dict,bin_df = BadRateEncoding(tra_x,c,'tag')\n",
    "    tra_x[c] = tra_x[c].replace(bin_dict)\n",
    "    test_x[c] = test_x[c].replace(bin_dict)\n",
    "    bin_dicts[c] = bin_dict\n",
    "    bin_df_dicts[c] = bin_df"
   ]
  },
  {
   "cell_type": "code",
   "execution_count": 51,
   "metadata": {},
   "outputs": [
    {
     "data": {
      "text/plain": [
       "Index(['居住地行政区划', '户籍地行政区划', '配偶居住地行政区划', '配偶户籍地行政区划', '企业注册地行政区划'], dtype='object')"
      ]
     },
     "execution_count": 51,
     "metadata": {},
     "output_type": "execute_result"
    }
   ],
   "source": [
    "tra_x.loc[:,tra_x.columns.str.contains('行政区划|CODE')].columns"
   ]
  },
  {
   "cell_type": "code",
   "execution_count": 52,
   "metadata": {},
   "outputs": [],
   "source": [
    "for c in tra_x.loc[:,tra_x.columns.str.contains('行政区划|CODE')].columns:\n",
    "    test_x.loc[test_x[c]==test_x[c].max(),c] = test_x[c].min()"
   ]
  },
  {
   "cell_type": "code",
   "execution_count": 53,
   "metadata": {},
   "outputs": [],
   "source": [
    "tra_x.drop(['授信申请编号','借款人身份证','起始日','成立日期','配偶客户名称','证件号码','配偶身份证'],\n",
    "              axis=1,inplace=True)\n",
    "test_x.drop(['授信申请编号','借款人身份证','起始日','成立日期','配偶客户名称','证件号码','配偶身份证'],\n",
    "              axis=1,inplace=True)"
   ]
  },
  {
   "cell_type": "markdown",
   "metadata": {},
   "source": [
    "## 2.特征分箱"
   ]
  },
  {
   "cell_type": "code",
   "execution_count": 54,
   "metadata": {},
   "outputs": [],
   "source": [
    "# 小于5个分类的类别变量，无需分箱，直接计算woe,iv\n",
    "def clean_binning_cate(bin_df):\n",
    "    drop_cats = []\n",
    "    cat_bin_dic = {}\n",
    "    for b in bin_df:\n",
    "        if b['IV'][0] < 0.5:\n",
    "            cat_bin_dic[b.index.name] = b['woe'].to_dict()\n",
    "        else:\n",
    "            drop_cats.append(b.index.name)\n",
    "    return drop_cats,cat_bin_dic\n",
    "\n",
    "def binning_cate(df,col_list,target):\n",
    "    \"\"\"\n",
    "    df:数据集\n",
    "    col_list:变量list集合\n",
    "    target:目标变量的字段名\n",
    "    \n",
    "    return: \n",
    "    bin_df :list形式，里面存储每个变量的分箱结果\n",
    "    iv_value:list形式，里面存储每个变量的IV值\n",
    "    \"\"\"\n",
    "    total = df[target].count()\n",
    "    bad = df[target].sum()\n",
    "    good = total-bad\n",
    "    all_odds = good*1.0/bad\n",
    "    cat_bin_df_dict = {}\n",
    "    cat_bin_dict = {}\n",
    "    iv_value=[]\n",
    "    df.loc[:,col_list] = df.loc[:,col_list].fillna('999')\n",
    "    for col in col_list:\n",
    "        d2 = df.groupby([col])[target].agg(['count','sum'])\n",
    "#         d2 = merge_bin_df(d2)\n",
    "        d2.columns = ['total','bad']\n",
    "        d2['totalrate'] = d2['total']/total\n",
    "        d2['badrate'] = d2['bad']/d2['total']\n",
    "        d2['good'] = d2['total'] - d2['bad']\n",
    "        d2['goodrate'] = d2['good']/d2['total']\n",
    "        d2['badattr'] = d2['bad']/bad\n",
    "        d2['goodattr'] = (d2['total']-d2['bad'])/good\n",
    "        d2['woe'] = np.log(d2['badattr']/d2['goodattr'])\n",
    "        d2['bin_iv'] = (d2['badattr']-d2['goodattr'])*d2['woe']\n",
    "        d2['total_iv'] = d2.loc[(d2['bin_iv'] != np.inf)&(d2['bin_iv'] != -np.inf),'bin_iv'].sum()\n",
    "        iv = d2['total_iv'][0]\n",
    "        bin_dic = dict(zip(d2.index,d2['woe'].replace({-np.inf:0,np.inf:0})))\n",
    "        cat_bin_dict[col] = bin_dic\n",
    "        print('变量名:{}'.format(col))\n",
    "        print('IV:{}'.format(iv))\n",
    "        print('\\t')\n",
    "        cat_bin_df_dict[col]=d2\n",
    "        iv_value.append(iv)\n",
    "    return cat_bin_dict,cat_bin_df_dict\n",
    "\n",
    "def merge_bin_df(x):\n",
    "    index_list = list(x.index)\n",
    "    for i in x.index:\n",
    "        if x.loc[i]['sum'] == 0:\n",
    "            index_num = index_list.index(i)\n",
    "            if index_num == 0:\n",
    "                replace_index = index_num + 1\n",
    "            else:\n",
    "                replace_index = index_num - 1\n",
    "            replace_cut = index_list[replace_index]\n",
    "            count_num = x.loc[i]['count']\n",
    "            index_list.remove(i)\n",
    "            x.loc[replace_cut,'count'] = x.loc[replace_cut,'count']+count_num\n",
    "            x = x.loc[index_list]\n",
    "    return x"
   ]
  },
  {
   "cell_type": "markdown",
   "metadata": {},
   "source": [
    "### 1.1 类别变量分箱 "
   ]
  },
  {
   "cell_type": "code",
   "execution_count": 55,
   "metadata": {},
   "outputs": [
    {
     "data": {
      "text/plain": [
       "主担保方式       4\n",
       "项目类型        4\n",
       "是否可循环       2\n",
       "是否有共同借款人    2\n",
       "还款方式        5\n",
       "评估类型        3\n",
       "保证形式        4\n",
       "婚姻状况        6\n",
       "企业规模        4\n",
       "dtype: int64"
      ]
     },
     "execution_count": 55,
     "metadata": {},
     "output_type": "execute_result"
    }
   ],
   "source": [
    "cat_feas_2"
   ]
  },
  {
   "cell_type": "code",
   "execution_count": 56,
   "metadata": {},
   "outputs": [
    {
     "data": {
      "text/plain": [
       "['主担保方式', '项目类型', '是否可循环', '是否有共同借款人', '还款方式', '评估类型', '保证形式', '婚姻状况', '企业规模']"
      ]
     },
     "execution_count": 56,
     "metadata": {},
     "output_type": "execute_result"
    }
   ],
   "source": [
    "list(cat_feas_2.index)"
   ]
  },
  {
   "cell_type": "code",
   "execution_count": 57,
   "metadata": {
    "scrolled": false
   },
   "outputs": [
    {
     "name": "stdout",
     "output_type": "stream",
     "text": [
      "变量名:主担保方式\n",
      "IV:0.005759929037595825\n",
      "\t\n",
      "变量名:项目类型\n",
      "IV:0.9870725777803444\n",
      "\t\n",
      "变量名:是否可循环\n",
      "IV:0.13432931179447652\n",
      "\t\n",
      "变量名:是否有共同借款人\n",
      "IV:0.1470225266188566\n",
      "\t\n",
      "变量名:还款方式\n",
      "IV:0.12436436746152638\n",
      "\t\n",
      "变量名:评估类型\n",
      "IV:1.2827513530474129e-05\n",
      "\t\n",
      "变量名:保证形式\n",
      "IV:0.1388517654731355\n",
      "\t\n",
      "变量名:婚姻状况\n",
      "IV:0.07656838477145386\n",
      "\t\n",
      "变量名:企业规模\n",
      "IV:0.7357501086830892\n",
      "\t\n"
     ]
    }
   ],
   "source": [
    "# 类别变量分箱，对类别变量小于6个的直接分箱，并查看iv值\n",
    "cate_bin_dict,cate_bin_df_dict = binning_cate(tra_x,list(cat_feas_2.index),'tag')\n",
    "# 对iv值过高的类别分箱进行调整\n",
    "# drop_cats,cat_bin_dict = clean_binning_cate(bin_df)"
   ]
  },
  {
   "cell_type": "code",
   "execution_count": 58,
   "metadata": {},
   "outputs": [],
   "source": [
    "# bin_df_dicts.update(cate_bin_df_dict)\n",
    "# bin_dicts.update(cate_bin_dict)"
   ]
  },
  {
   "cell_type": "code",
   "execution_count": 59,
   "metadata": {},
   "outputs": [],
   "source": [
    "# 按类别分箱结果，进行替换\n",
    "tra_x.replace(cate_bin_dict,inplace=True)\n",
    "test_x.loc[:,list(cat_feas_2.index)] = test_x.fillna('999')\n",
    "test_x.replace(cate_bin_dict,inplace=True)"
   ]
  },
  {
   "cell_type": "code",
   "execution_count": 60,
   "metadata": {},
   "outputs": [],
   "source": [
    "# 11.11讨论后删除\n",
    "# tra_x.drop(cat_feas_1.index,axis=1,inplace=True)\n",
    "# test_x.drop(cat_feas_1.index,axis=1,inplace=True)\n",
    "\n",
    "# tra_x.drop(cat_feas_2.index,axis=1,inplace=True)\n",
    "# test_x.drop(cat_feas_2.index,axis=1,inplace=True)"
   ]
  },
  {
   "cell_type": "markdown",
   "metadata": {},
   "source": [
    "### 1.2 连续变量分箱-决策树分箱"
   ]
  },
  {
   "cell_type": "code",
   "execution_count": 61,
   "metadata": {},
   "outputs": [],
   "source": [
    "# 决策树分箱函数\n",
    "def rf_bins_num(df,num_cols,target):\n",
    "    print('randomforest cut bins...')\n",
    "    bin_dicts={}\n",
    "    woebin_list=[]\n",
    "    for var in num_cols:\n",
    "        try:\n",
    "            bins0=sc.woebin(df,y=target,x=[var])\n",
    "            init_bins=bins0[var].breaks.tolist()\n",
    "            try:\n",
    "                init_bins.remove('missing')\n",
    "                init_bins.remove('inf')\n",
    "            except:\n",
    "                pass\n",
    "            final_bins=[round(float(i),4) for i in init_bins]\n",
    "            bins=sc.woebin(df,y=target,x=[var],breaks_list={var:final_bins})\n",
    "            bin_dicts.update(bins)\n",
    "        except:\n",
    "            woebin_list.append(var)\n",
    "    return bin_dicts,woebin_list\n",
    "\n",
    "def get_numfeas(df):\n",
    "    type_ser = df.dtypes\n",
    "    numFeas = type_ser[(type_ser == 'float')|(type_ser == 'int')]\n",
    "    numFeas = {c : len(df[c].unique()) for c in numFeas.index}\n",
    "    numFeas = pd.Series(numFeas)\n",
    "    return numFeas[numFeas>=6],numFeas[numFeas<6]\n",
    "\n",
    "def check_monotony(x):\n",
    "    return (np.sign(x['woe'].diff()).sum() == (x.shape[0]-1))or(np.sign(x['woe'].diff()).sum() == -(x.shape[0]-1))\n",
    "\n",
    "def filter_fea(bin_dic,iv_threshold=0.2,mono=True):\n",
    "    fea_info_list = []\n",
    "    for k,v in bin_dic.items():\n",
    "        mono_status = check_monotony(v)\n",
    "        iv = v['total_iv'][0]\n",
    "        fea_info_list.append([k,mono_status,iv])\n",
    "    fea_info = pd.DataFrame.from_records(fea_info_list,columns=['variable','mono_status','iv'])\n",
    "    fea_info = fea_info.set_index('variable')\n",
    "    return fea_info\n",
    "\n",
    "def bin_save(bin_info,filename='bin_info.xlsx'):\n",
    "    with pd.ExcelWriter(filename) as writer:\n",
    "        for n,d in bin_info.items():\n",
    "            d.to_excel(writer, sheet_name=n)"
   ]
  },
  {
   "cell_type": "code",
   "execution_count": 62,
   "metadata": {},
   "outputs": [],
   "source": [
    "# 逾期与查询相关的特征空缺用0填充\n",
    "tra_x.loc[:,tra_x.columns.str.contains('逾期|查询')] = tra_x.fillna(0)\n",
    "tra_x.loc[tra_x['mr_性别'].isnull(),'mr_性别'] = (1-tra_x['性别'])\n",
    "test_x.loc[:,test_x.columns.str.contains('逾期|查询')] = test_x.fillna(0)\n",
    "test_x.loc[test_x['mr_性别'].isnull(),'mr_性别'] = (1-test_x['性别'])"
   ]
  },
  {
   "cell_type": "code",
   "execution_count": 63,
   "metadata": {},
   "outputs": [],
   "source": [
    "need_drop_feas = list(cat_feas_2.index)\n",
    "need_drop_feas.extend(['是否可循环','户籍地与居住地市级是否一致','近6月最大逾期','雇佣状态','担保方式',\n",
    "                       '押品类型','单位性质','婚姻状况','最高学历','本人居住地址是否与配偶住址一致','户籍地与居住地区级是否一致',\n",
    "                       'mr_性别','配偶是否有单位记录','rep_name_equal_ctrl_name','单位所属行业','性别','是否有保证'])\n",
    "tra_x = tra_x.loc[:,~tra_x.columns.str.contains('行政区划')]\n",
    "\n",
    "test_x = test_x.loc[:,~test_x.columns.str.contains('行政区划')]\n",
    "test_x.drop(need_drop_feas,axis=1,inplace=True)\n",
    "tra_x.drop(need_drop_feas,axis=1,inplace=True)"
   ]
  },
  {
   "cell_type": "code",
   "execution_count": 64,
   "metadata": {},
   "outputs": [],
   "source": [
    "num_feas1,num_feas2 = get_numfeas(tra_x)\n",
    "num_feas1 = list(num_feas1.index)"
   ]
  },
  {
   "cell_type": "code",
   "execution_count": 65,
   "metadata": {},
   "outputs": [],
   "source": [
    "for n in num_feas2.index:\n",
    "    bin_dict,bin_df = BinWoeEncoding(tra_x,col=n,target='tag')\n",
    "    bin_dicts[n] = bin_dict\n",
    "    bin_df_dicts[n] = bin_df\n",
    "    tra_x[n] = tra_x[n].replace(bin_dict)\n",
    "    test_x[n] = test_x[n].replace(bin_dict)"
   ]
  },
  {
   "cell_type": "code",
   "execution_count": 66,
   "metadata": {
    "scrolled": true
   },
   "outputs": [
    {
     "name": "stdout",
     "output_type": "stream",
     "text": [
      "randomforest cut bins...\n",
      "[INFO] creating woe binning ...\n",
      "[INFO] creating woe binning ...\n",
      "[INFO] creating woe binning ...\n",
      "[INFO] creating woe binning ...\n",
      "[INFO] creating woe binning ...\n",
      "[INFO] creating woe binning ...\n",
      "[INFO] creating woe binning ...\n",
      "[INFO] creating woe binning ...\n",
      "[INFO] creating woe binning ...\n",
      "[INFO] creating woe binning ...\n",
      "[INFO] creating woe binning ...\n",
      "[INFO] creating woe binning ...\n",
      "[INFO] creating woe binning ...\n",
      "[INFO] creating woe binning ...\n",
      "[INFO] creating woe binning ...\n",
      "[INFO] creating woe binning ...\n",
      "[INFO] creating woe binning ...\n",
      "[INFO] creating woe binning ...\n",
      "[INFO] creating woe binning ...\n",
      "[INFO] creating woe binning ...\n",
      "[INFO] creating woe binning ...\n",
      "[INFO] creating woe binning ...\n",
      "[INFO] creating woe binning ...\n",
      "[INFO] creating woe binning ...\n",
      "[INFO] creating woe binning ...\n",
      "[INFO] creating woe binning ...\n",
      "[INFO] creating woe binning ...\n",
      "[INFO] creating woe binning ...\n",
      "[INFO] creating woe binning ...\n",
      "[INFO] creating woe binning ...\n",
      "[INFO] creating woe binning ...\n",
      "[INFO] creating woe binning ...\n",
      "[INFO] creating woe binning ...\n",
      "[INFO] creating woe binning ...\n",
      "[INFO] creating woe binning ...\n",
      "[INFO] creating woe binning ...\n",
      "[INFO] creating woe binning ...\n",
      "[INFO] creating woe binning ...\n",
      "[INFO] creating woe binning ...\n",
      "[INFO] creating woe binning ...\n",
      "[INFO] creating woe binning ...\n",
      "[INFO] creating woe binning ...\n",
      "[INFO] creating woe binning ...\n",
      "[INFO] creating woe binning ...\n",
      "[INFO] creating woe binning ...\n",
      "[INFO] creating woe binning ...\n",
      "[INFO] creating woe binning ...\n",
      "[INFO] creating woe binning ...\n",
      "[INFO] creating woe binning ...\n",
      "[INFO] creating woe binning ...\n",
      "[INFO] creating woe binning ...\n",
      "[INFO] creating woe binning ...\n",
      "[INFO] creating woe binning ...\n",
      "[INFO] creating woe binning ...\n",
      "[INFO] creating woe binning ...\n",
      "[INFO] creating woe binning ...\n",
      "[INFO] creating woe binning ...\n",
      "[INFO] creating woe binning ...\n",
      "[INFO] creating woe binning ...\n",
      "[INFO] creating woe binning ...\n",
      "[INFO] creating woe binning ...\n",
      "[INFO] creating woe binning ...\n",
      "[INFO] creating woe binning ...\n",
      "[INFO] creating woe binning ...\n",
      "[INFO] creating woe binning ...\n",
      "[INFO] creating woe binning ...\n",
      "[INFO] creating woe binning ...\n",
      "[INFO] creating woe binning ...\n",
      "[INFO] creating woe binning ...\n",
      "[INFO] creating woe binning ...\n",
      "[INFO] creating woe binning ...\n",
      "[INFO] creating woe binning ...\n",
      "[INFO] creating woe binning ...\n",
      "[INFO] creating woe binning ...\n",
      "[INFO] creating woe binning ...\n",
      "[INFO] creating woe binning ...\n",
      "[INFO] creating woe binning ...\n",
      "[INFO] creating woe binning ...\n",
      "[INFO] creating woe binning ...\n",
      "[INFO] creating woe binning ...\n",
      "[INFO] creating woe binning ...\n",
      "[INFO] creating woe binning ...\n",
      "[INFO] creating woe binning ...\n",
      "[INFO] creating woe binning ...\n",
      "[INFO] creating woe binning ...\n",
      "[INFO] creating woe binning ...\n",
      "[INFO] creating woe binning ...\n",
      "[INFO] creating woe binning ...\n",
      "[INFO] creating woe binning ...\n",
      "[INFO] creating woe binning ...\n",
      "[INFO] creating woe binning ...\n",
      "[INFO] creating woe binning ...\n",
      "[INFO] creating woe binning ...\n",
      "[INFO] creating woe binning ...\n",
      "[INFO] creating woe binning ...\n",
      "[INFO] creating woe binning ...\n",
      "[INFO] creating woe binning ...\n",
      "[INFO] creating woe binning ...\n",
      "[INFO] creating woe binning ...\n",
      "[INFO] creating woe binning ...\n",
      "[INFO] creating woe binning ...\n",
      "[INFO] creating woe binning ...\n",
      "[INFO] creating woe binning ...\n",
      "[INFO] creating woe binning ...\n",
      "[INFO] creating woe binning ...\n",
      "[INFO] creating woe binning ...\n",
      "[INFO] creating woe binning ...\n",
      "[INFO] creating woe binning ...\n",
      "[INFO] creating woe binning ...\n",
      "[INFO] creating woe binning ...\n",
      "[INFO] creating woe binning ...\n",
      "[INFO] creating woe binning ...\n",
      "[INFO] creating woe binning ...\n",
      "[INFO] creating woe binning ...\n",
      "[INFO] creating woe binning ...\n",
      "[INFO] creating woe binning ...\n",
      "[INFO] creating woe binning ...\n",
      "[INFO] creating woe binning ...\n",
      "[INFO] creating woe binning ...\n",
      "[INFO] creating woe binning ...\n",
      "[INFO] creating woe binning ...\n",
      "[INFO] creating woe binning ...\n",
      "[INFO] creating woe binning ...\n",
      "[INFO] creating woe binning ...\n",
      "[INFO] creating woe binning ...\n",
      "[INFO] creating woe binning ...\n",
      "[INFO] creating woe binning ...\n",
      "[INFO] creating woe binning ...\n",
      "[INFO] creating woe binning ...\n",
      "[INFO] creating woe binning ...\n",
      "[INFO] creating woe binning ...\n",
      "[INFO] creating woe binning ...\n",
      "[INFO] creating woe binning ...\n",
      "[INFO] creating woe binning ...\n",
      "[INFO] creating woe binning ...\n",
      "[INFO] creating woe binning ...\n",
      "[INFO] creating woe binning ...\n",
      "[INFO] creating woe binning ...\n",
      "[INFO] creating woe binning ...\n",
      "[INFO] creating woe binning ...\n",
      "[INFO] creating woe binning ...\n",
      "[INFO] creating woe binning ...\n",
      "[INFO] creating woe binning ...\n",
      "[INFO] creating woe binning ...\n",
      "[INFO] creating woe binning ...\n",
      "[INFO] creating woe binning ...\n",
      "[INFO] creating woe binning ...\n",
      "[INFO] creating woe binning ...\n",
      "[INFO] creating woe binning ...\n",
      "[INFO] creating woe binning ...\n",
      "[INFO] creating woe binning ...\n",
      "[INFO] creating woe binning ...\n",
      "[INFO] creating woe binning ...\n",
      "[INFO] creating woe binning ...\n",
      "[INFO] creating woe binning ...\n",
      "[INFO] creating woe binning ...\n",
      "[INFO] creating woe binning ...\n",
      "[INFO] creating woe binning ...\n",
      "[INFO] creating woe binning ...\n",
      "[INFO] creating woe binning ...\n",
      "[INFO] creating woe binning ...\n",
      "[INFO] creating woe binning ...\n",
      "[INFO] creating woe binning ...\n",
      "[INFO] creating woe binning ...\n",
      "[INFO] creating woe binning ...\n",
      "[INFO] creating woe binning ...\n",
      "[INFO] creating woe binning ...\n",
      "[INFO] creating woe binning ...\n",
      "[INFO] creating woe binning ...\n",
      "[INFO] creating woe binning ...\n",
      "[INFO] creating woe binning ...\n",
      "[INFO] creating woe binning ...\n",
      "[INFO] creating woe binning ...\n",
      "[INFO] creating woe binning ...\n",
      "[INFO] creating woe binning ...\n",
      "[INFO] creating woe binning ...\n",
      "[INFO] creating woe binning ...\n",
      "[INFO] creating woe binning ...\n",
      "[INFO] creating woe binning ...\n",
      "[INFO] creating woe binning ...\n",
      "[INFO] creating woe binning ...\n",
      "[INFO] creating woe binning ...\n",
      "[INFO] creating woe binning ...\n",
      "[INFO] creating woe binning ...\n",
      "[INFO] creating woe binning ...\n",
      "[INFO] creating woe binning ...\n",
      "[INFO] creating woe binning ...\n",
      "[INFO] creating woe binning ...\n",
      "[INFO] creating woe binning ...\n",
      "[INFO] creating woe binning ...\n",
      "[INFO] creating woe binning ...\n",
      "[INFO] creating woe binning ...\n",
      "[INFO] creating woe binning ...\n",
      "[INFO] creating woe binning ...\n",
      "[INFO] creating woe binning ...\n",
      "[INFO] creating woe binning ...\n",
      "[INFO] creating woe binning ...\n",
      "[INFO] creating woe binning ...\n",
      "[INFO] creating woe binning ...\n",
      "[INFO] creating woe binning ...\n",
      "[INFO] creating woe binning ...\n",
      "[INFO] creating woe binning ...\n",
      "[INFO] creating woe binning ...\n",
      "[INFO] creating woe binning ...\n",
      "[INFO] creating woe binning ...\n",
      "[INFO] creating woe binning ...\n",
      "[INFO] creating woe binning ...\n",
      "[INFO] creating woe binning ...\n",
      "[INFO] creating woe binning ...\n",
      "[INFO] creating woe binning ...\n",
      "[INFO] creating woe binning ...\n",
      "[INFO] creating woe binning ...\n",
      "[INFO] creating woe binning ...\n",
      "[INFO] creating woe binning ...\n",
      "[INFO] creating woe binning ...\n",
      "[INFO] creating woe binning ...\n",
      "[INFO] converting into woe values ...\n",
      "[INFO] converting into woe values ...\n"
     ]
    }
   ],
   "source": [
    "# 决策树分箱并进行woe编码\n",
    "rf_bins_dic,rf_drop_feas = rf_bins_num(tra_x,num_feas1,'tag')\n",
    "tra_x_woe = sc.woebin_ply(tra_x, rf_bins_dic)\n",
    "test_x_woe = sc.woebin_ply(test_x, rf_bins_dic)"
   ]
  },
  {
   "cell_type": "code",
   "execution_count": 67,
   "metadata": {
    "scrolled": true
   },
   "outputs": [],
   "source": [
    "# 对决策树分箱后的连续变量进行初步筛选，iv>0.1,woe单调\n",
    "filter_fea_df = filter_fea(rf_bins_dic)\n",
    "adj_feas = set(filter_fea_df.loc[(filter_fea_df['iv'] < 0.1)|(filter_fea_df['mono_status'] == False)].index)\n",
    "select_feas = set(filter_fea_df.index)-adj_feas"
   ]
  },
  {
   "cell_type": "code",
   "execution_count": 68,
   "metadata": {},
   "outputs": [],
   "source": [
    "select_feas.add('found_until_apply_month')"
   ]
  },
  {
   "cell_type": "code",
   "execution_count": 69,
   "metadata": {
    "scrolled": true
   },
   "outputs": [
    {
     "data": {
      "text/html": [
       "<div>\n",
       "<style scoped>\n",
       "    .dataframe tbody tr th:only-of-type {\n",
       "        vertical-align: middle;\n",
       "    }\n",
       "\n",
       "    .dataframe tbody tr th {\n",
       "        vertical-align: top;\n",
       "    }\n",
       "\n",
       "    .dataframe thead th {\n",
       "        text-align: right;\n",
       "    }\n",
       "</style>\n",
       "<table border=\"1\" class=\"dataframe\">\n",
       "  <thead>\n",
       "    <tr style=\"text-align: right;\">\n",
       "      <th></th>\n",
       "      <th>mono_status</th>\n",
       "      <th>iv</th>\n",
       "    </tr>\n",
       "    <tr>\n",
       "      <th>variable</th>\n",
       "      <th></th>\n",
       "      <th></th>\n",
       "    </tr>\n",
       "  </thead>\n",
       "  <tbody>\n",
       "    <tr>\n",
       "      <th>近2年内查询次数-信用卡审批</th>\n",
       "      <td>True</td>\n",
       "      <td>0.386270</td>\n",
       "    </tr>\n",
       "    <tr>\n",
       "      <th>非银金融机构未结清贷款笔数</th>\n",
       "      <td>True</td>\n",
       "      <td>0.412564</td>\n",
       "    </tr>\n",
       "    <tr>\n",
       "      <th>近6月累计逾期</th>\n",
       "      <td>True</td>\n",
       "      <td>0.230713</td>\n",
       "    </tr>\n",
       "    <tr>\n",
       "      <th>近12月内查询机构数-担保资格审查</th>\n",
       "      <td>True</td>\n",
       "      <td>0.186487</td>\n",
       "    </tr>\n",
       "    <tr>\n",
       "      <th>近5年最大逾期</th>\n",
       "      <td>True</td>\n",
       "      <td>0.300924</td>\n",
       "    </tr>\n",
       "    <tr>\n",
       "      <th>近2年内查询机构数-贷款审批</th>\n",
       "      <td>True</td>\n",
       "      <td>1.023769</td>\n",
       "    </tr>\n",
       "    <tr>\n",
       "      <th>近3月累计逾期</th>\n",
       "      <td>True</td>\n",
       "      <td>0.264173</td>\n",
       "    </tr>\n",
       "    <tr>\n",
       "      <th>贷款六个月内M1次数</th>\n",
       "      <td>True</td>\n",
       "      <td>0.266669</td>\n",
       "    </tr>\n",
       "    <tr>\n",
       "      <th>近2年内查询机构数-信用卡审批</th>\n",
       "      <td>True</td>\n",
       "      <td>0.356360</td>\n",
       "    </tr>\n",
       "    <tr>\n",
       "      <th>近6月内查询机构数-贷款审批</th>\n",
       "      <td>True</td>\n",
       "      <td>0.721211</td>\n",
       "    </tr>\n",
       "    <tr>\n",
       "      <th>近12月内查询机构数-贷款审批</th>\n",
       "      <td>True</td>\n",
       "      <td>0.877099</td>\n",
       "    </tr>\n",
       "    <tr>\n",
       "      <th>近6月内查询次数-信用卡审批</th>\n",
       "      <td>True</td>\n",
       "      <td>0.123044</td>\n",
       "    </tr>\n",
       "    <tr>\n",
       "      <th>贷款十二个月内M1次数</th>\n",
       "      <td>True</td>\n",
       "      <td>0.338869</td>\n",
       "    </tr>\n",
       "    <tr>\n",
       "      <th>近24月累计逾期</th>\n",
       "      <td>True</td>\n",
       "      <td>0.413343</td>\n",
       "    </tr>\n",
       "    <tr>\n",
       "      <th>近3月最大逾期</th>\n",
       "      <td>True</td>\n",
       "      <td>0.264173</td>\n",
       "    </tr>\n",
       "    <tr>\n",
       "      <th>found_until_apply_month</th>\n",
       "      <td>False</td>\n",
       "      <td>0.848052</td>\n",
       "    </tr>\n",
       "    <tr>\n",
       "      <th>近5年累计逾期</th>\n",
       "      <td>True</td>\n",
       "      <td>0.474419</td>\n",
       "    </tr>\n",
       "    <tr>\n",
       "      <th>近12月内查询机构数-信用卡审批</th>\n",
       "      <td>True</td>\n",
       "      <td>0.233773</td>\n",
       "    </tr>\n",
       "    <tr>\n",
       "      <th>近12月内查询次数-信用卡审批</th>\n",
       "      <td>True</td>\n",
       "      <td>0.231393</td>\n",
       "    </tr>\n",
       "    <tr>\n",
       "      <th>近12月内查询次数-担保资格审查</th>\n",
       "      <td>True</td>\n",
       "      <td>0.186824</td>\n",
       "    </tr>\n",
       "    <tr>\n",
       "      <th>近12月内查询次数-贷款审批</th>\n",
       "      <td>True</td>\n",
       "      <td>0.864064</td>\n",
       "    </tr>\n",
       "    <tr>\n",
       "      <th>非银金融机构信贷历史机构数</th>\n",
       "      <td>True</td>\n",
       "      <td>0.351356</td>\n",
       "    </tr>\n",
       "    <tr>\n",
       "      <th>近24月最大逾期</th>\n",
       "      <td>True</td>\n",
       "      <td>0.308744</td>\n",
       "    </tr>\n",
       "    <tr>\n",
       "      <th>近12月最大逾期</th>\n",
       "      <td>True</td>\n",
       "      <td>0.280928</td>\n",
       "    </tr>\n",
       "    <tr>\n",
       "      <th>近2月内查询次数-贷款审批</th>\n",
       "      <td>True</td>\n",
       "      <td>0.408371</td>\n",
       "    </tr>\n",
       "    <tr>\n",
       "      <th>近2年内查询次数-贷款审批</th>\n",
       "      <td>True</td>\n",
       "      <td>1.001588</td>\n",
       "    </tr>\n",
       "    <tr>\n",
       "      <th>近6月内查询次数-贷款审批</th>\n",
       "      <td>True</td>\n",
       "      <td>0.735941</td>\n",
       "    </tr>\n",
       "    <tr>\n",
       "      <th>近2月内查询机构数-贷款审批</th>\n",
       "      <td>True</td>\n",
       "      <td>0.442526</td>\n",
       "    </tr>\n",
       "    <tr>\n",
       "      <th>近12月累计逾期</th>\n",
       "      <td>True</td>\n",
       "      <td>0.302460</td>\n",
       "    </tr>\n",
       "  </tbody>\n",
       "</table>\n",
       "</div>"
      ],
      "text/plain": [
       "                         mono_status        iv\n",
       "variable                                      \n",
       "近2年内查询次数-信用卡审批                  True  0.386270\n",
       "非银金融机构未结清贷款笔数                   True  0.412564\n",
       "近6月累计逾期                         True  0.230713\n",
       "近12月内查询机构数-担保资格审查               True  0.186487\n",
       "近5年最大逾期                         True  0.300924\n",
       "近2年内查询机构数-贷款审批                  True  1.023769\n",
       "近3月累计逾期                         True  0.264173\n",
       "贷款六个月内M1次数                      True  0.266669\n",
       "近2年内查询机构数-信用卡审批                 True  0.356360\n",
       "近6月内查询机构数-贷款审批                  True  0.721211\n",
       "近12月内查询机构数-贷款审批                 True  0.877099\n",
       "近6月内查询次数-信用卡审批                  True  0.123044\n",
       "贷款十二个月内M1次数                     True  0.338869\n",
       "近24月累计逾期                        True  0.413343\n",
       "近3月最大逾期                         True  0.264173\n",
       "found_until_apply_month        False  0.848052\n",
       "近5年累计逾期                         True  0.474419\n",
       "近12月内查询机构数-信用卡审批                True  0.233773\n",
       "近12月内查询次数-信用卡审批                 True  0.231393\n",
       "近12月内查询次数-担保资格审查                True  0.186824\n",
       "近12月内查询次数-贷款审批                  True  0.864064\n",
       "非银金融机构信贷历史机构数                   True  0.351356\n",
       "近24月最大逾期                        True  0.308744\n",
       "近12月最大逾期                        True  0.280928\n",
       "近2月内查询次数-贷款审批                   True  0.408371\n",
       "近2年内查询次数-贷款审批                   True  1.001588\n",
       "近6月内查询次数-贷款审批                   True  0.735941\n",
       "近2月内查询机构数-贷款审批                  True  0.442526\n",
       "近12月累计逾期                        True  0.302460"
      ]
     },
     "execution_count": 69,
     "metadata": {},
     "output_type": "execute_result"
    }
   ],
   "source": [
    "filter_fea_df.reindex(select_feas)"
   ]
  },
  {
   "cell_type": "code",
   "execution_count": 70,
   "metadata": {},
   "outputs": [],
   "source": [
    "# iv_lis = []\n",
    "# for f,bf in bin_df_dicts.items():\n",
    "#     iv_lis.append([f,bf['total_iv'][0]])\n",
    "# iv_df = pd.DataFrame.from_records(iv_lis,columns=['variable','iv'])\n",
    "\n",
    "# iv_df = iv_df.sort_values(['iv'],ascending=False)\n",
    "\n",
    "# iv_df.to_csv('cat_bin_iv.csv',index=False,encoding='gbk')\n",
    "\n",
    "# with pd.ExcelWriter('cat_bin_iv.xlsx') as writer:\n",
    "#         for n in iv_df['variable']:\n",
    "#             bin_df_dicts[n].to_excel(writer, sheet_name=n)\n",
    "\n",
    "# bin_save(rf_bins_dic,'rf_bin.xlsx')"
   ]
  },
  {
   "cell_type": "code",
   "execution_count": 71,
   "metadata": {
    "scrolled": true
   },
   "outputs": [
    {
     "data": {
      "text/plain": [
       "<matplotlib.axes._subplots.AxesSubplot at 0x1e34b21b700>"
      ]
     },
     "execution_count": 71,
     "metadata": {},
     "output_type": "execute_result"
    },
    {
     "data": {
      "image/png": "[encoded data removed]",
      "text/plain": [
       "<Figure size 864x360 with 1 Axes>"
      ]
     },
     "metadata": {
      "needs_background": "light"
     },
     "output_type": "display_data"
    }
   ],
   "source": [
    "filter_fea_df.plot.bar(figsize=(12,5))"
   ]
  },
  {
   "cell_type": "code",
   "execution_count": 72,
   "metadata": {},
   "outputs": [],
   "source": [
    "tra_x_woe.drop(rf_drop_feas,axis=1,inplace=True)\n",
    "tra_x_woe.drop([i + '_woe' for i in adj_feas],axis=1,inplace=True)\n",
    "test_x_woe.drop(rf_drop_feas,axis=1,inplace=True)\n",
    "test_x_woe.drop([i + '_woe' for i in adj_feas],axis=1,inplace=True)"
   ]
  },
  {
   "cell_type": "markdown",
   "metadata": {},
   "source": [
    "# 3. 特征筛选"
   ]
  },
  {
   "cell_type": "code",
   "execution_count": 73,
   "metadata": {},
   "outputs": [],
   "source": [
    "import statsmodels.api as sm\n",
    "\n",
    "# 显著性筛选,在筛选前需要做woe转换\n",
    "def forward_delete_pvalue(x_train,y_train):\n",
    "    \"\"\"\n",
    "    x_train -- x训练集\n",
    "    y_train -- y训练集\n",
    "    \n",
    "    return :显著性筛选后的变量\n",
    "    \"\"\"\n",
    "    col_list = list(x_train.columns)\n",
    "    pvalues_col=[]\n",
    "    for col in col_list:\n",
    "        print(col)\n",
    "        pvalues_col.append(col)\n",
    "        x_train2 = sm.add_constant(x_train.loc[:,pvalues_col])\n",
    "        sm_lr = sm.Logit(y_train,x_train2)\n",
    "        try:\n",
    "            sm_lr = sm_lr.fit()\n",
    "        except:\n",
    "            continue\n",
    "        for i,j in zip(sm_lr.pvalues.index[1:],sm_lr.pvalues.values[1:]): \n",
    "            if j>=0.05:\n",
    "                pvalues_col.remove(i)\n",
    "    x_new_train = x_train.loc[:,pvalues_col]\n",
    "    x_new_train2 = sm.add_constant(x_new_train)\n",
    "    lr = sm.Logit(y_train,x_new_train2)\n",
    "    lr = lr.fit()\n",
    "    return pvalues_col\n",
    "\n",
    "# xgboost筛选变量 \n",
    "def select_xgboost(df,target,imp_num=None):\n",
    "    \"\"\"\n",
    "    df:数据集\n",
    "    target:目标变量的字段名\n",
    "    imp_num:筛选变量的个数\n",
    "    \n",
    "    return:\n",
    "    xg_fea_imp:变量的特征重要性\n",
    "    xg_select_col:筛选出的变量\n",
    "    \"\"\"\n",
    "    x = df.drop([target],axis=1)\n",
    "    y = df[target]\n",
    "    xgmodel = XGBClassifier(random_state=0)\n",
    "    xgmodel = xgmodel.fit(x,y,eval_metric='auc')\n",
    "    xg_fea_imp = pd.DataFrame({'col':list(x.columns),\n",
    "                               'imp':xgmodel.feature_importances_})\n",
    "    xg_fea_imp = xg_fea_imp.sort_values('imp',ascending=False).reset_index(drop=True).iloc[:imp_num,:]\n",
    "    xg_select_col = list(xg_fea_imp.col)\n",
    "    return xg_fea_imp,xg_select_col\n",
    "\n",
    "# KS \n",
    "def plot_model_ks(y_label,y_pred):\n",
    "    \"\"\"\n",
    "    y_label:测试集的y\n",
    "    y_pred:对测试集预测后的概率\n",
    "    \n",
    "    return:KS曲线\n",
    "    \"\"\"\n",
    "    pred_list = list(y_pred) \n",
    "    label_list = list(y_label)\n",
    "    total_bad = sum(label_list)\n",
    "    total_good = len(label_list)-total_bad \n",
    "    items = sorted(zip(pred_list,label_list),key=lambda x:x[0]) \n",
    "    step = (max(pred_list)-min(pred_list))/200 \n",
    "    \n",
    "    pred_bin=[]\n",
    "    good_rate=[] \n",
    "    bad_rate=[] \n",
    "    ks_list = [] \n",
    "    for i in range(1,201): \n",
    "        idx = min(pred_list)+i*step \n",
    "        pred_bin.append(idx) \n",
    "        label_bin = [x[1] for x in items if x[0]<idx] \n",
    "        bad_num = sum(label_bin)\n",
    "        good_num = len(label_bin)-bad_num  \n",
    "        goodrate = good_num/total_good \n",
    "        badrate = bad_num/total_bad\n",
    "        ks = abs(goodrate-badrate) \n",
    "        good_rate.append(goodrate)\n",
    "        bad_rate.append(badrate)\n",
    "        ks_list.append(ks)\n",
    "    \n",
    "    fig = plt.figure(figsize=(8,6))\n",
    "    ax = fig.add_subplot(1,1,1)\n",
    "    ax.plot(pred_bin,good_rate,color='green',label='good_rate')\n",
    "    ax.plot(pred_bin,bad_rate,color='red',label='bad_rate')\n",
    "    ax.plot(pred_bin,ks_list,color='blue',label='good-bad')\n",
    "    ax.set_title('KS:{:.3f}'.format(max(ks_list)))\n",
    "    ax.legend(loc='best')\n",
    "    return plt.show(ax)\n",
    "\n",
    "def plot_roc(y_label,y_pred):\n",
    "    \"\"\"\n",
    "    y_label:测试集的y\n",
    "    y_pred:对测试集预测后的概率\n",
    "    \n",
    "    return:ROC曲线\n",
    "    \"\"\"\n",
    "    tpr,fpr,threshold = roc_curve(y_label,y_pred) \n",
    "    AUC = roc_auc_score(y_label,y_pred) \n",
    "    fig = plt.figure(figsize=(6,4))\n",
    "    ax = fig.add_subplot(1,1,1)\n",
    "    ax.plot(tpr,fpr,color='blue',label='AUC=%.3f'%AUC) \n",
    "    ax.plot([0,1],[0,1],'r--')\n",
    "    ax.set_ylim(0,1)\n",
    "    ax.set_xlim(0,1)\n",
    "    ax.set_title('ROC')\n",
    "    ax.legend(loc='best')\n",
    "    return plt.show(ax)"
   ]
  },
  {
   "cell_type": "code",
   "execution_count": 74,
   "metadata": {},
   "outputs": [],
   "source": [
    "tra_x_woe.loc[:,tra_x_woe.columns.str.contains('次数')] = tra_x_woe.fillna(0)\n",
    "tra_x_woe.loc[:,['mr_征信白户']] = tra_x_woe.fillna(0)"
   ]
  },
  {
   "cell_type": "code",
   "execution_count": 75,
   "metadata": {},
   "outputs": [],
   "source": [
    "test_x_woe.loc[:,test_x_woe.columns.str.contains('次数')] = test_x_woe.fillna(0)\n",
    "test_x_woe.loc[:,['mr_征信白户']] = test_x_woe.fillna(0)"
   ]
  },
  {
   "cell_type": "code",
   "execution_count": 76,
   "metadata": {},
   "outputs": [
    {
     "name": "stdout",
     "output_type": "stream",
     "text": [
      "[INFO] creating woe binning ...\n"
     ]
    },
    {
     "data": {
      "text/plain": [
       "{'还款间隔': <Figure size 432x288 with 2 Axes>}"
      ]
     },
     "execution_count": 76,
     "metadata": {},
     "output_type": "execute_result"
    },
    {
     "data": {
      "image/png": "[encoded data removed]",
      "text/plain": [
       "<Figure size 432x288 with 2 Axes>"
      ]
     },
     "metadata": {
      "needs_background": "light"
     },
     "output_type": "display_data"
    }
   ],
   "source": [
    "hkbin = sc.woebin(tra_x_woe,'tag',x='还款间隔')\n",
    "sc.woebin_plot(hkbin)"
   ]
  },
  {
   "cell_type": "code",
   "execution_count": 77,
   "metadata": {},
   "outputs": [],
   "source": [
    "# hkbin = sc.woebin(tra_x_woe,'tag',x='还款间隔',breaks_list={'还款间隔':['missing',12,np.inf]})\n",
    "# tra_x_woe = sc.woebin_ply(tra_x_woe,hkbin)\n",
    "# test_x_woe = sc.woebin_ply(test_x_woe,hkbin)"
   ]
  },
  {
   "cell_type": "code",
   "execution_count": 78,
   "metadata": {
    "scrolled": true
   },
   "outputs": [
    {
     "name": "stdout",
     "output_type": "stream",
     "text": [
      "14 features with a single unique value.\n",
      "\n",
      "28 features with a correlation magnitude greater than 0.70.\n",
      "\n"
     ]
    }
   ],
   "source": [
    "fs = FeatureSelector(tra_x_woe.drop('tag',axis=1),tra_x_woe['tag'])\n",
    "fs.identify_single_unique()\n",
    "drop_feas = fs.ops['single_unique']\n",
    "fs.identify_collinear(0.7)\n",
    "drop_feas.extend(fs.ops['collinear'])"
   ]
  },
  {
   "cell_type": "code",
   "execution_count": 79,
   "metadata": {},
   "outputs": [],
   "source": [
    "if '非银金融机构信贷历史机构数_woe' in drop_feas:\n",
    "    drop_feas.remove('非银金融机构信贷历史机构数_woe')"
   ]
  },
  {
   "cell_type": "code",
   "execution_count": 80,
   "metadata": {},
   "outputs": [
    {
     "data": {
      "image/png": "[encoded data removed]",
      "text/plain": [
       "<Figure size 720x576 with 2 Axes>"
      ]
     },
     "metadata": {
      "needs_background": "light"
     },
     "output_type": "display_data"
    }
   ],
   "source": [
    "fs.plot_collinear()"
   ]
  },
  {
   "cell_type": "code",
   "execution_count": 81,
   "metadata": {},
   "outputs": [],
   "source": [
    "tra_x_woe.drop(drop_feas,axis=1,inplace=True)\n",
    "test_x_woe.drop(drop_feas,axis=1,inplace=True)"
   ]
  },
  {
   "cell_type": "code",
   "execution_count": 82,
   "metadata": {},
   "outputs": [
    {
     "data": {
      "text/plain": [
       "(2838, 19)"
      ]
     },
     "execution_count": 82,
     "metadata": {},
     "output_type": "execute_result"
    }
   ],
   "source": [
    "test_x_woe.shape"
   ]
  },
  {
   "cell_type": "code",
   "execution_count": 83,
   "metadata": {},
   "outputs": [],
   "source": [
    "test_x_woe = test_x_woe.drop('tag',axis=1)\n",
    "tra_x_woe = tra_x_woe.drop('tag',axis=1)\n",
    "tra_x_woe.drop('还款间隔',axis=1,inplace=True)\n",
    "test_x_woe.drop('还款间隔',axis=1,inplace=True)"
   ]
  },
  {
   "cell_type": "code",
   "execution_count": 84,
   "metadata": {},
   "outputs": [],
   "source": [
    "tra_y = tra_y.sort_index()\n",
    "tra_x_woe = tra_x_woe.sort_index()\n",
    "test_y = test_y.sort_index()\n",
    "test_x_woe = test_x_woe.sort_index()"
   ]
  },
  {
   "cell_type": "code",
   "execution_count": 85,
   "metadata": {
    "scrolled": true
   },
   "outputs": [
    {
     "name": "stdout",
     "output_type": "stream",
     "text": [
      "work_place_equal_birth_place\n",
      "Optimization terminated successfully.\n",
      "         Current function value: 0.215959\n",
      "         Iterations 7\n",
      "是否保证加抵押\n",
      "Optimization terminated successfully.\n",
      "         Current function value: 0.213222\n",
      "         Iterations 7\n",
      "mr_征信白户\n",
      "Optimization terminated successfully.\n",
      "         Current function value: 0.213216\n",
      "         Iterations 8\n",
      "贷款三个月内M4次数\n",
      "Optimization terminated successfully.\n",
      "         Current function value: 0.211241\n",
      "         Iterations 8\n",
      "mr_近6月最大逾期\n",
      "Optimization terminated successfully.\n",
      "         Current function value: 0.210658\n",
      "         Iterations 8\n",
      "work_place_equal_resdnt_place\n",
      "Optimization terminated successfully.\n",
      "         Current function value: 0.210590\n",
      "         Iterations 8\n",
      "征信白户\n",
      "Optimization terminated successfully.\n",
      "         Current function value: 0.210478\n",
      "         Iterations 8\n",
      "近2年内查询次数-信用卡审批_woe\n",
      "Optimization terminated successfully.\n",
      "         Current function value: 0.203269\n",
      "         Iterations 8\n",
      "近6月累计逾期_woe\n",
      "Optimization terminated successfully.\n",
      "         Current function value: 0.200084\n",
      "         Iterations 8\n",
      "近12月内查询机构数-担保资格审查_woe\n",
      "Optimization terminated successfully.\n",
      "         Current function value: 0.197907\n",
      "         Iterations 8\n",
      "近6月内查询次数-信用卡审批_woe\n",
      "Optimization terminated successfully.\n",
      "         Current function value: 0.197896\n",
      "         Iterations 8\n",
      "近5年累计逾期_woe\n",
      "Optimization terminated successfully.\n",
      "         Current function value: 0.193148\n",
      "         Iterations 8\n",
      "近12月内查询次数-贷款审批_woe\n",
      "Optimization terminated successfully.\n",
      "         Current function value: 0.186389\n",
      "         Iterations 8\n",
      "近2月内查询机构数-贷款审批_woe\n",
      "Optimization terminated successfully.\n",
      "         Current function value: 0.186902\n",
      "         Iterations 8\n",
      "非银金融机构未结清贷款笔数_woe\n",
      "Optimization terminated successfully.\n",
      "         Current function value: 0.186748\n",
      "         Iterations 8\n",
      "非银金融机构信贷历史机构数_woe\n",
      "Optimization terminated successfully.\n",
      "         Current function value: 0.187169\n",
      "         Iterations 8\n",
      "Optimization terminated successfully.\n",
      "         Current function value: 0.187211\n",
      "         Iterations 8\n"
     ]
    }
   ],
   "source": [
    "step_remove_feas = forward_delete_pvalue(tra_x_woe,tra_y)\n",
    "tra_x_woe.drop(step_remove_feas,axis=1,inplace=True)\n",
    "test_x_woe.drop(step_remove_feas,axis=1,inplace=True)"
   ]
  },
  {
   "cell_type": "code",
   "execution_count": 86,
   "metadata": {},
   "outputs": [],
   "source": [
    "xgmodel = XGBClassifier(random_state=123)\n",
    "xgmodel = xgmodel.fit(tra_x_woe,tra_y,eval_metric='auc')\n",
    "# xg_score = cross_val_score(xgmodel,tra_x_woe,tra_y,scoring='roc_auc',cv=10)\n",
    "xg_fea_imp = pd.DataFrame({'col':list(tra_x_woe.columns),\n",
    "                           'imp':xgmodel.feature_importances_})\n",
    "xg_fea_imp = xg_fea_imp.sort_values('imp',ascending=False).set_index('col')\n",
    "xg_select_col = list(xg_fea_imp.head(20).index)"
   ]
  },
  {
   "cell_type": "code",
   "execution_count": 87,
   "metadata": {},
   "outputs": [],
   "source": [
    "tra_x_woe = tra_x_woe[xg_select_col]\n",
    "test_x_woe = test_x_woe[xg_select_col]"
   ]
  },
  {
   "cell_type": "code",
   "execution_count": 88,
   "metadata": {},
   "outputs": [],
   "source": [
    "test_x_woe_oot = test_x_woe.loc[test_x[test_x['oot']==1].index]\n",
    "test_x_woe_dt = test_x_woe.loc[test_x[test_x['oot'] == 0].index]"
   ]
  },
  {
   "cell_type": "code",
   "execution_count": 89,
   "metadata": {},
   "outputs": [
    {
     "name": "stdout",
     "output_type": "stream",
     "text": [
      "<class 'pandas.core.frame.DataFrame'>\n",
      "Int64Index: 829 entries, 7790 to 614\n",
      "Data columns (total 13 columns):\n",
      " #   Column                         Non-Null Count  Dtype  \n",
      "---  ------                         --------------  -----  \n",
      " 0   非银金融机构未结清贷款笔数_woe              829 non-null    float64\n",
      " 1   近2月内查询机构数-贷款审批_woe             829 non-null    float64\n",
      " 2   近2年内查询次数-信用卡审批_woe             829 non-null    float64\n",
      " 3   贷款三个月内M4次数                     829 non-null    float64\n",
      " 4   近6月累计逾期_woe                    829 non-null    float64\n",
      " 5   近12月内查询机构数-担保资格审查_woe          829 non-null    float64\n",
      " 6   非银金融机构信贷历史机构数_woe              829 non-null    float64\n",
      " 7   近6月内查询次数-信用卡审批_woe             829 non-null    float64\n",
      " 8   work_place_equal_resdnt_place  829 non-null    float64\n",
      " 9   mr_近6月最大逾期                     829 non-null    float64\n",
      " 10  mr_征信白户                        829 non-null    float64\n",
      " 11  work_place_equal_birth_place   829 non-null    float64\n",
      " 12  征信白户                           829 non-null    float64\n",
      "dtypes: float64(13)\n",
      "memory usage: 90.7 KB\n"
     ]
    }
   ],
   "source": [
    "test_x_woe_dt.info()"
   ]
  },
  {
   "cell_type": "code",
   "execution_count": 90,
   "metadata": {},
   "outputs": [],
   "source": [
    "test_y_dt = test_y.loc[test_x_woe_dt.index]"
   ]
  },
  {
   "cell_type": "markdown",
   "metadata": {},
   "source": [
    "## 逻辑回归"
   ]
  },
  {
   "cell_type": "code",
   "execution_count": 92,
   "metadata": {},
   "outputs": [
    {
     "data": {
      "text/plain": [
       "LogisticRegression(max_iter=200, random_state=123)"
      ]
     },
     "execution_count": 92,
     "metadata": {},
     "output_type": "execute_result"
    }
   ],
   "source": [
    "lr_model = LogisticRegression(max_iter=200,random_state=123)\n",
    "lr_model.fit(tra_x_woe,tra_y)"
   ]
  },
  {
   "cell_type": "code",
   "execution_count": 93,
   "metadata": {},
   "outputs": [],
   "source": [
    "predict_score = lr_model.predict_proba(tra_x_woe)[:,1]"
   ]
  },
  {
   "cell_type": "code",
   "execution_count": null,
   "metadata": {},
   "outputs": [],
   "source": []
  },
  {
   "cell_type": "code",
   "execution_count": 94,
   "metadata": {},
   "outputs": [
    {
     "data": {
      "text/plain": [
       "0.7640523549417706"
      ]
     },
     "execution_count": 94,
     "metadata": {},
     "output_type": "execute_result"
    }
   ],
   "source": [
    "roc_auc_score(tra_y,predict_score)"
   ]
  },
  {
   "cell_type": "code",
   "execution_count": 95,
   "metadata": {},
   "outputs": [
    {
     "data": {
      "text/plain": [
       "0.8123199457719031"
      ]
     },
     "execution_count": 95,
     "metadata": {},
     "output_type": "execute_result"
    }
   ],
   "source": [
    "predict_test_score = lr_model.predict_proba(test_x_woe_oot)[:,1]\n",
    "roc_auc_score(test_oot['tag'],predict_test_score)"
   ]
  },
  {
   "cell_type": "code",
   "execution_count": 96,
   "metadata": {},
   "outputs": [],
   "source": [
    "test_x_woe_dt = test_x_woe_dt.fillna(0)"
   ]
  },
  {
   "cell_type": "code",
   "execution_count": 97,
   "metadata": {},
   "outputs": [
    {
     "data": {
      "text/plain": [
       "0.7423817815747946"
      ]
     },
     "execution_count": 97,
     "metadata": {},
     "output_type": "execute_result"
    }
   ],
   "source": [
    "predict_test_score_dt = lr_model.predict_proba(test_x_woe_dt)[:,1]\n",
    "roc_auc_score(test_y_dt,predict_test_score_dt)"
   ]
  },
  {
   "cell_type": "code",
   "execution_count": 98,
   "metadata": {},
   "outputs": [
    {
     "data": {
      "image/png": "[encoded data removed]",
      "text/plain": [
       "<Figure size 432x288 with 1 Axes>"
      ]
     },
     "metadata": {
      "needs_background": "light"
     },
     "output_type": "display_data"
    }
   ],
   "source": [
    "plot_roc(tra_y,predict_score)"
   ]
  },
  {
   "cell_type": "code",
   "execution_count": 99,
   "metadata": {},
   "outputs": [
    {
     "data": {
      "image/png": "[encoded data removed]",
      "text/plain": [
       "<Figure size 576x432 with 1 Axes>"
      ]
     },
     "metadata": {
      "needs_background": "light"
     },
     "output_type": "display_data"
    }
   ],
   "source": [
    "plot_model_ks(tra_y,predict_score)"
   ]
  },
  {
   "cell_type": "code",
   "execution_count": 100,
   "metadata": {},
   "outputs": [
    {
     "data": {
      "image/png": "[encoded data removed]",
      "text/plain": [
       "<Figure size 432x288 with 1 Axes>"
      ]
     },
     "metadata": {
      "needs_background": "light"
     },
     "output_type": "display_data"
    }
   ],
   "source": [
    "plot_roc(test_oot['tag'],predict_test_score)"
   ]
  },
  {
   "cell_type": "code",
   "execution_count": 101,
   "metadata": {},
   "outputs": [
    {
     "data": {
      "image/png": "[encoded data removed]",
      "text/plain": [
       "<Figure size 576x432 with 1 Axes>"
      ]
     },
     "metadata": {
      "needs_background": "light"
     },
     "output_type": "display_data"
    }
   ],
   "source": [
    "plot_model_ks(test_oot['tag'],predict_test_score)"
   ]
  },
  {
   "cell_type": "code",
   "execution_count": null,
   "metadata": {},
   "outputs": [],
   "source": [
    "plot_model_ks(test_['tag'],predict_test_score)"
   ]
  },
  {
   "cell_type": "code",
   "execution_count": 102,
   "metadata": {},
   "outputs": [
    {
     "name": "stdout",
     "output_type": "stream",
     "text": [
      "<class 'pandas.core.frame.DataFrame'>\n",
      "Int64Index: 3316 entries, 1 to 11506\n",
      "Data columns (total 13 columns):\n",
      " #   Column                         Non-Null Count  Dtype  \n",
      "---  ------                         --------------  -----  \n",
      " 0   非银金融机构未结清贷款笔数_woe              3316 non-null   float64\n",
      " 1   近2月内查询机构数-贷款审批_woe             3316 non-null   float64\n",
      " 2   近2年内查询次数-信用卡审批_woe             3316 non-null   float64\n",
      " 3   贷款三个月内M4次数                     3316 non-null   float64\n",
      " 4   近6月累计逾期_woe                    3316 non-null   float64\n",
      " 5   近12月内查询机构数-担保资格审查_woe          3316 non-null   float64\n",
      " 6   非银金融机构信贷历史机构数_woe              3316 non-null   float64\n",
      " 7   近6月内查询次数-信用卡审批_woe             3316 non-null   float64\n",
      " 8   work_place_equal_resdnt_place  3316 non-null   float64\n",
      " 9   mr_近6月最大逾期                     3316 non-null   float64\n",
      " 10  mr_征信白户                        3316 non-null   float64\n",
      " 11  work_place_equal_birth_place   3316 non-null   float64\n",
      " 12  征信白户                           3316 non-null   float64\n",
      "dtypes: float64(13)\n",
      "memory usage: 362.7 KB\n"
     ]
    }
   ],
   "source": [
    "tra_x_woe.info()"
   ]
  },
  {
   "cell_type": "code",
   "execution_count": 103,
   "metadata": {},
   "outputs": [],
   "source": [
    "# woe_feas = [i.split('_woe')[0] for i in tra_x_woe.loc[:,tra_x_woe.columns.str.contains('woe')].columns]\n",
    "# filter_fea_df.reindex(woe_feas)"
   ]
  },
  {
   "cell_type": "code",
   "execution_count": null,
   "metadata": {},
   "outputs": [],
   "source": []
  }
 ],
 "metadata": {
  "kernelspec": {
   "display_name": "Python 3",
   "language": "python",
   "name": "python3"
  },
  "language_info": {
   "codemirror_mode": {
    "name": "ipython",
    "version": 3
   },
   "file_extension": ".py",
   "mimetype": "text/x-python",
   "name": "python",
   "nbconvert_exporter": "python",
   "pygments_lexer": "ipython3",
   "version": "3.8.3"
  }
 },
 "nbformat": 4,
 "nbformat_minor": 4
}
