{
 "cells": [
  {
   "cell_type": "markdown",
   "metadata": {},
   "source": [
    "## 线下零售贷款申请客户特征处理-申请信息特征"
   ]
  },
  {
   "cell_type": "code",
   "execution_count": 1,
   "metadata": {
    "ExecuteTime": {
     "end_time": "2021-01-01T13:32:56.793140Z",
     "start_time": "2021-01-01T13:32:53.393218Z"
    }
   },
   "outputs": [],
   "source": [
    "import pandas as pd\n",
    "from feature_selector import FeatureSelector\n",
    "import matplotlib.pyplot as plt\n",
    "import numpy as np\n",
    "import pylab\n",
    "import matplotlib.pyplot as plt\n",
    "from sklearn.preprocessing import LabelEncoder\n",
    "from sklearn.linear_model import LogisticRegression\n",
    "import math\n",
    "import datetime\n",
    "import scorecardpy as sc\n",
    "import scipy\n",
    "from xgboost import XGBClassifier\n",
    "from sklearn.model_selection import cross_val_score,train_test_split\n",
    "import seaborn as sns\n",
    "import warnings\n",
    "from sklearn.metrics import roc_auc_score,roc_curve\n",
    "%matplotlib inline\n",
    "plt.rcParams['font.sans-serif'] = ['SimHei']\n",
    "plt.rcParams['axes.unicode_minus'] = False  \n",
    "pd.set_option('max.columns',200)\n",
    "warnings.filterwarnings('ignore')"
   ]
  },
  {
   "cell_type": "code",
   "execution_count": 2,
   "metadata": {
    "ExecuteTime": {
     "end_time": "2021-01-01T13:32:57.295316Z",
     "start_time": "2021-01-01T13:32:56.796467Z"
    }
   },
   "outputs": [],
   "source": [
    "main_dataset = pd.read_csv('main_fea_origin_1.csv',encoding='gbk')"
   ]
  },
  {
   "cell_type": "markdown",
   "metadata": {},
   "source": [
    "# 一、数据清洗"
   ]
  },
  {
   "cell_type": "code",
   "execution_count": 3,
   "metadata": {
    "ExecuteTime": {
     "end_time": "2021-01-01T13:32:57.326895Z",
     "start_time": "2021-01-01T13:32:57.298748Z"
    }
   },
   "outputs": [],
   "source": [
    "train_dt = main_dataset[main_dataset['基准时间'] <= '2019-08-31']\n",
    "test_oot = main_dataset[main_dataset['基准时间'] > '2019-08-31']"
   ]
  },
  {
   "cell_type": "code",
   "execution_count": 4,
   "metadata": {
    "ExecuteTime": {
     "end_time": "2021-01-01T13:32:57.438310Z",
     "start_time": "2021-01-01T13:32:57.329372Z"
    }
   },
   "outputs": [
    {
     "output_type": "stream",
     "name": "stdout",
     "text": [
      "54 features with greater than 0.80 missing values.\n\n"
     ]
    }
   ],
   "source": [
    "train_dt = train_dt.loc[:,~train_dt.columns.str.contains('客编')]\n",
    "test_oot = test_oot.loc[:,~test_oot.columns.str.contains('客编')]\n",
    "# 查看数据缺失比例,删除缺失超过85%的特征\n",
    "fs = FeatureSelector(data=main_dataset.drop(['tag'],axis=1), labels=main_dataset['tag'])\n",
    "fs.identify_missing(0.8)\n",
    "train_dt = train_dt.drop(fs.ops['missing'],axis=1)\n",
    "test_oot = test_oot.drop(fs.ops['missing'],axis=1)"
   ]
  },
  {
   "cell_type": "code",
   "execution_count": 5,
   "metadata": {
    "ExecuteTime": {
     "end_time": "2021-01-01T13:32:57.515558Z",
     "start_time": "2021-01-01T13:32:57.441128Z"
    }
   },
   "outputs": [],
   "source": [
    "tra_x,test_x,tra_y,test_y = train_test_split(train_dt,train_dt['tag'],test_size=0.2,stratify=train_dt['tag'],random_state=123)\n",
    "test_x['oot'] = 0\n",
    "test_oot['oot'] = 1\n",
    "test_x = pd.concat([test_x,test_oot],axis=0)\n",
    "test_y = pd.concat([test_y,test_oot['tag']],axis=0)"
   ]
  },
  {
   "cell_type": "code",
   "execution_count": 6,
   "metadata": {
    "ExecuteTime": {
     "end_time": "2021-01-01T13:32:57.533204Z",
     "start_time": "2021-01-01T13:32:57.519080Z"
    }
   },
   "outputs": [
    {
     "output_type": "execute_result",
     "data": {
      "text/plain": [
       "0    3405\n",
       "1     109\n",
       "Name: tag, dtype: int64"
      ]
     },
     "metadata": {},
     "execution_count": 6
    }
   ],
   "source": [
    "test_x['tag'].value_counts()"
   ]
  },
  {
   "cell_type": "code",
   "execution_count": 7,
   "metadata": {
    "ExecuteTime": {
     "end_time": "2021-01-01T13:32:57.549341Z",
     "start_time": "2021-01-01T13:32:57.535977Z"
    }
   },
   "outputs": [
    {
     "output_type": "execute_result",
     "data": {
      "text/plain": [
       "(3514, 185)"
      ]
     },
     "metadata": {},
     "execution_count": 7
    }
   ],
   "source": [
    "test_x.shape"
   ]
  },
  {
   "cell_type": "code",
   "execution_count": 8,
   "metadata": {
    "ExecuteTime": {
     "end_time": "2021-01-01T13:32:57.565291Z",
     "start_time": "2021-01-01T13:32:57.553396Z"
    }
   },
   "outputs": [
    {
     "output_type": "execute_result",
     "data": {
      "text/plain": [
       "0    2474\n",
       "1     166\n",
       "Name: tag, dtype: int64"
      ]
     },
     "metadata": {},
     "execution_count": 8
    }
   ],
   "source": [
    "tra_x['tag'].value_counts()"
   ]
  },
  {
   "cell_type": "code",
   "execution_count": 9,
   "metadata": {
    "ExecuteTime": {
     "end_time": "2021-01-01T13:32:57.584811Z",
     "start_time": "2021-01-01T13:32:57.569812Z"
    }
   },
   "outputs": [
    {
     "output_type": "execute_result",
     "data": {
      "text/plain": [
       "(2640, 184)"
      ]
     },
     "metadata": {},
     "execution_count": 9
    }
   ],
   "source": [
    "tra_x.shape"
   ]
  },
  {
   "cell_type": "code",
   "execution_count": 10,
   "metadata": {
    "ExecuteTime": {
     "end_time": "2021-01-01T13:32:57.618213Z",
     "start_time": "2021-01-01T13:32:57.586805Z"
    }
   },
   "outputs": [],
   "source": [
    "drop_feas = ['基准时间','配偶证件号码_y','mr_婚姻状况','mr_年龄','行业大类（可否聚类分析）','单位性质.1','最高学历.1','雇佣状态.1',\n",
    "             '用款主体客户名称','发证日期','行业大类','单位所属行业.1']\n",
    "tra_x.drop(drop_feas,axis=1,inplace=True)\n",
    "test_x.drop(drop_feas,axis=1,inplace=True)"
   ]
  },
  {
   "cell_type": "code",
   "execution_count": 11,
   "metadata": {
    "ExecuteTime": {
     "end_time": "2021-01-01T13:32:57.649664Z",
     "start_time": "2021-01-01T13:32:57.620209Z"
    }
   },
   "outputs": [],
   "source": [
    "tra_x.drop(['授信申请编号','借款人身份证','起始日','成立日期','配偶客户名称','证件号码','配偶身份证'],\n",
    "              axis=1,inplace=True)\n",
    "test_x.drop(['授信申请编号','借款人身份证','起始日','成立日期','配偶客户名称','证件号码','配偶身份证'],\n",
    "              axis=1,inplace=True)"
   ]
  },
  {
   "cell_type": "code",
   "execution_count": 12,
   "metadata": {
    "ExecuteTime": {
     "end_time": "2021-01-01T13:32:57.688978Z",
     "start_time": "2021-01-01T13:32:57.655701Z"
    }
   },
   "outputs": [],
   "source": [
    "# 输出类别变量及其对应的分类个数\n",
    "def get_features_type(xfea):\n",
    "    types_ser = xfea.dtypes\n",
    "    cat_feas = types_ser[(types_ser == object)|(types_ser == str)].index\n",
    "    cat_feas_dic = {c: len(xfea[c].unique()) for c in cat_feas}\n",
    "    num_feas = types_ser[(types_ser==float)].index\n",
    "    num_feas_dic = {n: len(xfea[n].unique()) for n in num_feas if len(xfea[n].unique()) >= 3}\n",
    "    return {'cat_feas':pd.Series(cat_feas_dic),'num_feas':pd.Series(num_feas_dic)}\n",
    "#  小于5个分类的类别变量，无需分箱，直接计算woe,iv\n",
    "def clean_binning_cate(bin_df):\n",
    "    drop_cats = []\n",
    "    cat_bin_dic = {}\n",
    "    for b in bin_df:\n",
    "        if b['IV'][0] < 0.5:\n",
    "            cat_bin_dic[b.index.name] = b['woe'].to_dict()\n",
    "        else:\n",
    "            drop_cats.append(b.index.name)\n",
    "    return drop_cats,cat_bin_dic\n",
    "\n",
    "def BinBadRate(df, col, target,return_type='badrate'):\n",
    "    '''\n",
    "    :param df: 需要计算好坏比率的数据集\n",
    "    :param col: 需要计算好坏比率的特征\n",
    "    :param target: 好坏标签\n",
    "    :param grantRateIndicator: 1返回总体的坏样本率，0不返回\n",
    "    :return: 每箱的坏样本率，以及总体的坏样本率（当grantRateIndicator＝＝1时）\n",
    "    '''\n",
    "    regroup = df.groupby([col])['tag'].agg(['count','sum'])# 每箱的坏样本数，总样本数\n",
    "    regroup.columns = ['total','bad']\n",
    "    regroup.reset_index(level=0, inplace=True)\n",
    "    regroup['good'] = regroup['total'] - regroup['bad']\n",
    "    regroup['badrate'] = regroup['bad']/regroup['total']\n",
    "    regroup['badattr'] = regroup['bad']/regroup['bad'].sum()\n",
    "    regroup['goodattr'] = regroup['good']/regroup['good'].sum()\n",
    "    regroup['woe'] = np.log(regroup['badattr']) - np.log(regroup['goodattr'])\n",
    "    regroup['bin_iv'] = (regroup['badattr'] - regroup['goodattr'])*regroup['woe']\n",
    "    regroup['total_iv'] = regroup.loc[(regroup['bin_iv'] != np.inf) | (regroup['bin_iv'] != np.inf),'bin_iv'].sum()\n",
    "    if return_type == 'badrate':\n",
    "        dicts = dict(zip(regroup[col],regroup['badrate'])) # 每箱对应的坏样本率组成的字典\n",
    "    else:\n",
    "        dicts = dict(zip(regroup[col],regroup['woe'].replace({-np.inf:0,np.inf:0})))\n",
    "    return dicts, regroup\n",
    "\n",
    "def BinWoeEncoding(df,col,target):\n",
    "    woebin_dict,bin_df = regroup = BinBadRate(df, col, target, return_type='woe')\n",
    "    return woebin_dict,bin_df"
   ]
  },
  {
   "cell_type": "code",
   "execution_count": 13,
   "metadata": {
    "ExecuteTime": {
     "end_time": "2021-01-01T13:32:57.784654Z",
     "start_time": "2021-01-01T13:32:57.693508Z"
    }
   },
   "outputs": [],
   "source": [
    "all_feas_info = get_features_type(tra_x)\n",
    "cat_feas = all_feas_info['cat_feas']\n",
    "num_feas = all_feas_info['num_feas']\n",
    "cat_feas_1 = cat_feas[(cat_feas>6)&(cat_feas<100)]\n",
    "cat_feas_2 = cat_feas[cat_feas <= 6]"
   ]
  },
  {
   "cell_type": "markdown",
   "metadata": {},
   "source": [
    "# 2.特征分箱"
   ]
  },
  {
   "cell_type": "markdown",
   "metadata": {},
   "source": [
    "## 1.1 连续变量分箱-决策树分箱"
   ]
  },
  {
   "cell_type": "code",
   "execution_count": 14,
   "metadata": {
    "ExecuteTime": {
     "end_time": "2021-01-01T13:32:57.812190Z",
     "start_time": "2021-01-01T13:32:57.788135Z"
    }
   },
   "outputs": [],
   "source": [
    "# 决策树分箱函数\n",
    "def rf_bins_num(df,num_cols,target):\n",
    "    print('randomforest cut bins...')\n",
    "    bin_dicts={}\n",
    "    woebin_list=[]\n",
    "    for var in num_cols:\n",
    "        try:\n",
    "            bins0=sc.woebin(df,y=target,x=[var])\n",
    "            init_bins=bins0[var].breaks.tolist()\n",
    "            try:\n",
    "                init_bins.remove('missing')\n",
    "                init_bins.remove('inf')\n",
    "            except:\n",
    "                pass\n",
    "            final_bins=[round(float(i),4) for i in init_bins]\n",
    "            bins=sc.woebin(df,y=target,x=[var],breaks_list={var:final_bins})\n",
    "            bin_dicts.update(bins)\n",
    "        except:\n",
    "            woebin_list.append(var)\n",
    "    return bin_dicts,woebin_list\n",
    "\n",
    "def get_numfeas(df):\n",
    "    type_ser = df.dtypes\n",
    "    numFeas = type_ser[(type_ser == 'float')|(type_ser == 'int')]\n",
    "    numFeas = {c : len(df[c].unique()) for c in numFeas.index}\n",
    "    numFeas = pd.Series(numFeas)\n",
    "    return numFeas[numFeas>=6],numFeas[numFeas<6]\n",
    "\n",
    "def check_monotony(x):\n",
    "    return (np.sign(x['badprob'].diff()).sum() == (x.shape[0]-1))or(np.sign(x['badprob'].diff()).sum() == -(x.shape[0]-1))\n",
    "\n",
    "def filter_fea(bin_dic,iv_threshold=0.2,mono=True):\n",
    "    fea_info_list = []\n",
    "    for k,v in bin_dic.items():\n",
    "        mono_status = check_monotony(v)\n",
    "        iv = v['total_iv'][0]\n",
    "        fea_info_list.append([k,mono_status,iv])\n",
    "    fea_info = pd.DataFrame.from_records(fea_info_list,columns=['variable','mono_status','iv'])\n",
    "    fea_info = fea_info.set_index('variable')\n",
    "    return fea_info\n",
    "\n",
    "def bin_save(bin_info,filename='bin_info.xlsx'):\n",
    "    with pd.ExcelWriter(filename) as writer:\n",
    "        for n,d in bin_info.items():\n",
    "            d.to_excel(writer, sheet_name=n)"
   ]
  },
  {
   "cell_type": "code",
   "execution_count": 15,
   "metadata": {
    "ExecuteTime": {
     "end_time": "2021-01-01T13:32:57.952150Z",
     "start_time": "2021-01-01T13:32:57.814967Z"
    }
   },
   "outputs": [],
   "source": [
    "# 逾期与查询相关的特征空缺用0填充\n",
    "tra_x.loc[:,tra_x.columns.str.contains('逾期|查询')] = tra_x.fillna(0)\n",
    "test_x.loc[:,test_x.columns.str.contains('逾期|查询')] = test_x.fillna(0)\n",
    "tra_x['贷款额度比率'] = tra_x['平均额度']/tra_x['授信总额']\n",
    "test_x['贷款额度比率'] = test_x['平均额度']/tra_x['授信总额']"
   ]
  },
  {
   "cell_type": "code",
   "execution_count": 16,
   "metadata": {
    "ExecuteTime": {
     "end_time": "2021-01-01T13:32:58.009103Z",
     "start_time": "2021-01-01T13:32:57.954140Z"
    }
   },
   "outputs": [],
   "source": [
    "need_drop_feas = list(cat_feas_2.index)\n",
    "need_drop_feas.extend(['是否可循环','户籍地与居住地市级是否一致','近6月最大逾期','雇佣状态','担保方式',\n",
    "                       '押品类型','单位性质','婚姻状况','最高学历','本人居住地址是否与配偶住址一致','户籍地与居住地区级是否一致',\n",
    "                       'mr_性别','配偶是否有单位记录','rep_name_equal_ctrl_name','单位所属行业','性别','是否有保证','征信白户',\n",
    "                       'mr_征信白户','work_place_equal_resdnt_place','work_place_equal_birth_place','是否保证加抵押',\n",
    "                       '贷款六个月内M7次数','贷款十二个月内M4次数','贷款六个月内M4次数','担保金额','birth_year',\n",
    "                       '贷款三个月内M7次数','期限','贷款三个月内M4次数','综合抵押率','收入合计','注册资本','年审频率',\n",
    "                       '贷款十二个月内M7次数','保证金额','年龄','学历','mr_学历','配偶年龄','found_until_apply_days',\n",
    "                       'found_until_apply_years'])\n",
    "tra_x = tra_x.loc[:,~tra_x.columns.str.contains('行政区划')]\n",
    "\n",
    "test_x = test_x.loc[:,~test_x.columns.str.contains('行政区划')]\n",
    "test_x.drop(need_drop_feas,axis=1,inplace=True)\n",
    "tra_x.drop(need_drop_feas,axis=1,inplace=True)"
   ]
  },
  {
   "cell_type": "code",
   "execution_count": 17,
   "metadata": {
    "ExecuteTime": {
     "end_time": "2021-01-01T13:32:58.062167Z",
     "start_time": "2021-01-01T13:32:58.011134Z"
    }
   },
   "outputs": [],
   "source": [
    "num_feas1,num_feas2 = get_numfeas(tra_x)\n",
    "num_feas1 = list(num_feas1.index)"
   ]
  },
  {
   "cell_type": "code",
   "execution_count": 18,
   "metadata": {
    "ExecuteTime": {
     "end_time": "2021-01-01T13:32:58.077327Z",
     "start_time": "2021-01-01T13:32:58.064161Z"
    }
   },
   "outputs": [
    {
     "output_type": "execute_result",
     "data": {
      "text/plain": [
       "当前逾期              1\n",
       "mr_当前逾期           1\n",
       "mr_近3月最大逾期        4\n",
       "mr_近6月最大逾期        5\n",
       "mr_近12月最大逾期       5\n",
       "mr_贷款三个月内M2次数     2\n",
       "mr_贷款三个月内M3次数     2\n",
       "mr_贷款三个月内M4次数     2\n",
       "mr_贷款三个月内M7次数     2\n",
       "mr_贷款六个月内M2次数     2\n",
       "mr_贷款六个月内M3次数     2\n",
       "mr_贷款六个月内M4次数     2\n",
       "mr_贷款六个月内M7次数     2\n",
       "mr_贷款十二个月内M2次数    2\n",
       "mr_贷款十二个月内M3次数    2\n",
       "mr_贷款十二个月内M4次数    2\n",
       "mr_贷款十二个月内M7次数    2\n",
       "还款间隔              5\n",
       "dtype: int64"
      ]
     },
     "metadata": {},
     "execution_count": 18
    }
   ],
   "source": [
    "num_feas2"
   ]
  },
  {
   "cell_type": "code",
   "execution_count": 19,
   "metadata": {
    "ExecuteTime": {
     "end_time": "2021-01-01T13:32:58.094197Z",
     "start_time": "2021-01-01T13:32:58.082716Z"
    }
   },
   "outputs": [
    {
     "output_type": "execute_result",
     "data": {
      "text/plain": [
       "(2640, 113)"
      ]
     },
     "metadata": {},
     "execution_count": 19
    }
   ],
   "source": [
    "tra_x.shape"
   ]
  },
  {
   "cell_type": "code",
   "execution_count": 20,
   "metadata": {
    "ExecuteTime": {
     "end_time": "2021-01-01T13:32:58.443942Z",
     "start_time": "2021-01-01T13:32:58.096143Z"
    }
   },
   "outputs": [],
   "source": [
    "for n in num_feas2.index:\n",
    "    bin_dict,bin_df = BinWoeEncoding(tra_x,col=n,target='tag')\n",
    "#     bin_dicts[n] = bin_dict\n",
    "#     bin_df_dicts[n] = bin_df\n",
    "    tra_x[n] = tra_x[n].replace(bin_dict)\n",
    "    test_x[n] = test_x[n].replace(bin_dict)"
   ]
  },
  {
   "cell_type": "code",
   "execution_count": 21,
   "metadata": {
    "ExecuteTime": {
     "end_time": "2021-01-01T13:32:58.465821Z",
     "start_time": "2021-01-01T13:32:58.445297Z"
    }
   },
   "outputs": [
    {
     "output_type": "execute_result",
     "data": {
      "text/plain": [
       "True"
      ]
     },
     "metadata": {},
     "execution_count": 21
    }
   ],
   "source": [
    "import os \n",
    "import pickle \n",
    "os.path.exists('rf_bins_dic.pickle')"
   ]
  },
  {
   "cell_type": "code",
   "execution_count": 22,
   "metadata": {
    "ExecuteTime": {
     "end_time": "2021-01-01T13:32:58.484002Z",
     "start_time": "2021-01-01T13:32:58.469186Z"
    }
   },
   "outputs": [],
   "source": [
    "# sc.woebin_plot(sc.woebin(tra_x,x=['近2年内查询次数-担保资格审查'],y='tag',breaks_list={'近2年内查询次数-担保资格审查':[1,2]}))"
   ]
  },
  {
   "cell_type": "code",
   "execution_count": 23,
   "metadata": {
    "ExecuteTime": {
     "end_time": "2021-01-01T13:33:29.156865Z",
     "start_time": "2021-01-01T13:32:58.490627Z"
    },
    "scrolled": true
   },
   "outputs": [
    {
     "output_type": "stream",
     "name": "stdout",
     "text": [
      "[INFO] creating woe binning ...\n",
      "Binning on 2640 rows and 95 columns in 00:00:45\n",
      "[INFO] converting into woe values ...\n",
      "[INFO] converting into woe values ...\n"
     ]
    }
   ],
   "source": [
    "# 决策树分箱并进行woe编码\n",
    "rf_bins_dic = sc.woebin(tra_x,x=num_feas1,y='tag')\n",
    "tra_x_woe = sc.woebin_ply(tra_x, rf_bins_dic)\n",
    "test_x_woe = sc.woebin_ply(test_x, rf_bins_dic)"
   ]
  },
  {
   "cell_type": "code",
   "execution_count": 24,
   "metadata": {
    "ExecuteTime": {
     "end_time": "2021-01-01T13:33:29.179610Z",
     "start_time": "2021-01-01T13:32:53.685Z"
    }
   },
   "outputs": [],
   "source": [
    "# 对决策树分箱后的连续变量进行初步筛选，iv>0.1,woe单调\n",
    "filter_fea_df = filter_fea(rf_bins_dic)\n",
    "adj_feas = set(filter_fea_df.loc[filter_fea_df['iv'] < 0.01].index)\n",
    "select_feas = set(filter_fea_df.index)-adj_feas"
   ]
  },
  {
   "cell_type": "code",
   "execution_count": 25,
   "metadata": {
    "ExecuteTime": {
     "end_time": "2021-01-01T13:33:29.186436Z",
     "start_time": "2021-01-01T13:32:53.689Z"
    }
   },
   "outputs": [
    {
     "output_type": "stream",
     "name": "stdout",
     "text": [
      "[INFO] creating woe binning ...\n"
     ]
    }
   ],
   "source": [
    "# 根据业务逻辑对部分特征分箱进行调整\n",
    "adj_bins = {'found_until_apply_month':['missing',15,20,25,50],\n",
    "           '平均额度':[10000,15000,25000],'mr_平均额度':[10000,45000],'近5年累计逾期':[1,3,4],\n",
    "            '近2年内查询次数-担保资格审查':[1,2]}\n",
    "rf_adj_bins = sc.woebin(tra_x,y='tag',x=['found_until_apply_month','平均额度','mr_平均额度','近5年累计逾期'],\n",
    "                        breaks_list=adj_bins)\n",
    "rf_bins_dic.update(rf_adj_bins)"
   ]
  },
  {
   "cell_type": "code",
   "execution_count": 26,
   "metadata": {
    "ExecuteTime": {
     "end_time": "2021-01-01T13:33:29.187432Z",
     "start_time": "2021-01-01T13:32:53.693Z"
    }
   },
   "outputs": [
    {
     "output_type": "stream",
     "name": "stdout",
     "text": [
      "[INFO] converting into woe values ...\n",
      "[INFO] converting into woe values ...\n"
     ]
    }
   ],
   "source": [
    "tra_x_woe = sc.woebin_ply(tra_x,rf_bins_dic)\n",
    "test_x_woe = sc.woebin_ply(test_x,rf_bins_dic) "
   ]
  },
  {
   "cell_type": "code",
   "execution_count": 27,
   "metadata": {
    "ExecuteTime": {
     "end_time": "2021-01-01T13:33:29.189570Z",
     "start_time": "2021-01-01T13:32:53.698Z"
    },
    "scrolled": true
   },
   "outputs": [],
   "source": [
    "select_feas = select_feas |{'found_until_apply_month','非银金融机构未结清贷款笔数','发卡法人机构总数','未结清贷款余额',\n",
    "              '近6月平均使用额度','贷记透支比例','贷款历史机构数','贷款最大还款月数','贷款最大剩余月数'}"
   ]
  },
  {
   "cell_type": "code",
   "execution_count": 28,
   "metadata": {
    "ExecuteTime": {
     "end_time": "2021-01-01T13:33:29.191627Z",
     "start_time": "2021-01-01T13:32:53.702Z"
    },
    "scrolled": true
   },
   "outputs": [
    {
     "output_type": "execute_result",
     "data": {
      "text/plain": [
       "                 mono_status        iv\n",
       "variable                              \n",
       "mr_对外担保余额              False  0.011373\n",
       "mr_担保本金余额              False  0.011373\n",
       "mr_近24月最大逾期             True  0.011994\n",
       "mr_平均额度                False  0.012032\n",
       "mr_近5年累计逾期             False  0.013227\n",
       "...                      ...       ...\n",
       "近6月内查询机构数-贷款审批          True  0.640525\n",
       "近12月内查询次数-贷款审批          True  0.706827\n",
       "近12月内查询机构数-贷款审批         True  0.749198\n",
       "近2年内查询次数-贷款审批           True  0.768934\n",
       "近2年内查询机构数-贷款审批          True  0.855118\n",
       "\n",
       "[84 rows x 2 columns]"
      ],
      "text/html": "<div>\n<style scoped>\n    .dataframe tbody tr th:only-of-type {\n        vertical-align: middle;\n    }\n\n    .dataframe tbody tr th {\n        vertical-align: top;\n    }\n\n    .dataframe thead th {\n        text-align: right;\n    }\n</style>\n<table border=\"1\" class=\"dataframe\">\n  <thead>\n    <tr style=\"text-align: right;\">\n      <th></th>\n      <th>mono_status</th>\n      <th>iv</th>\n    </tr>\n    <tr>\n      <th>variable</th>\n      <th></th>\n      <th></th>\n    </tr>\n  </thead>\n  <tbody>\n    <tr>\n      <th>mr_对外担保余额</th>\n      <td>False</td>\n      <td>0.011373</td>\n    </tr>\n    <tr>\n      <th>mr_担保本金余额</th>\n      <td>False</td>\n      <td>0.011373</td>\n    </tr>\n    <tr>\n      <th>mr_近24月最大逾期</th>\n      <td>True</td>\n      <td>0.011994</td>\n    </tr>\n    <tr>\n      <th>mr_平均额度</th>\n      <td>False</td>\n      <td>0.012032</td>\n    </tr>\n    <tr>\n      <th>mr_近5年累计逾期</th>\n      <td>False</td>\n      <td>0.013227</td>\n    </tr>\n    <tr>\n      <th>...</th>\n      <td>...</td>\n      <td>...</td>\n    </tr>\n    <tr>\n      <th>近6月内查询机构数-贷款审批</th>\n      <td>True</td>\n      <td>0.640525</td>\n    </tr>\n    <tr>\n      <th>近12月内查询次数-贷款审批</th>\n      <td>True</td>\n      <td>0.706827</td>\n    </tr>\n    <tr>\n      <th>近12月内查询机构数-贷款审批</th>\n      <td>True</td>\n      <td>0.749198</td>\n    </tr>\n    <tr>\n      <th>近2年内查询次数-贷款审批</th>\n      <td>True</td>\n      <td>0.768934</td>\n    </tr>\n    <tr>\n      <th>近2年内查询机构数-贷款审批</th>\n      <td>True</td>\n      <td>0.855118</td>\n    </tr>\n  </tbody>\n</table>\n<p>84 rows × 2 columns</p>\n</div>"
     },
     "metadata": {},
     "execution_count": 28
    }
   ],
   "source": [
    "filter_fea_df_adj = filter_fea(rf_bins_dic)\n",
    "filter_fea_df_adj.reindex(select_feas).sort_values(['iv'])"
   ]
  },
  {
   "cell_type": "code",
   "execution_count": 29,
   "metadata": {
    "ExecuteTime": {
     "end_time": "2021-01-01T13:33:29.193345Z",
     "start_time": "2021-01-01T13:32:53.711Z"
    }
   },
   "outputs": [],
   "source": [
    "sns.set_style('darkgrid')"
   ]
  },
  {
   "cell_type": "code",
   "execution_count": 30,
   "metadata": {
    "ExecuteTime": {
     "end_time": "2021-01-01T13:33:29.194930Z",
     "start_time": "2021-01-01T13:32:53.715Z"
    },
    "scrolled": true
   },
   "outputs": [
    {
     "output_type": "execute_result",
     "data": {
      "text/plain": [
       "<matplotlib.axes._subplots.AxesSubplot at 0x1ed2d9c04c0>"
      ]
     },
     "metadata": {},
     "execution_count": 30
    },
    {
     "output_type": "display_data",
     "data": {
      "text/plain": "<Figure size 1152x360 with 1 Axes>",
      "image/svg+xml": "<?xml version=\"1.0\" encoding=\"utf-8\" standalone=\"no\"?>\r\n<!DOCTYPE svg PUBLIC \"-//W3C//DTD SVG 1.1//EN\"\r\n  \"http://www.w3.org/Graphics/SVG/1.1/DTD/svg11.dtd\">\r\n<!-- Created with matplotlib (https://matplotlib.org/) -->\r\n<svg height=\"440.38625pt\" version=\"1.1\" viewBox=\"0 0 928.1 440.38625\" width=\"928.1pt\" xmlns=\"http://www.w3.org/2000/svg\" xmlns:xlink=\"http://www.w3.org/1999/xlink\">\r\n <defs>\r\n  <style type=\"text/css\">\r\n*{stroke-linecap:butt;stroke-linejoin:round;}\r\n  </style>\r\n </defs>\r\n <g id=\"figure_1\">\r\n  <g id=\"patch_1\">\r\n   <path d=\"M 0 440.38625 \r\nL 928.1 440.38625 \r\nL 928.1 0 \r\nL 0 0 \r\nz\r\n\" style=\"fill:#ffffff;\"/>\r\n  </g>\r\n  <g id=\"axes_1\">\r\n   <g id=\"patch_2\">\r\n    <path d=\"M 28.1 293.589375 \r\nL 920.9 293.589375 \r\nL 920.9 21.789375 \r\nL 28.1 21.789375 \r\nz\r\n\" style=\"fill:#eaeaf2;\"/>\r\n   </g>\r\n   <g id=\"matplotlib.axis_1\">\r\n    <g id=\"xtick_1\">\r\n     <g id=\"line2d_1\">\r\n      <path clip-path=\"url(#p00f71fba64)\" d=\"M 32.848936 293.589375 \r\nL 32.848936 21.789375 \r\n\" style=\"fill:none;stroke:#ffffff;stroke-linecap:round;stroke-width:0.8;\"/>\r\n     </g>\r\n     <g id=\"text_1\">\r\n      <!-- 近3月最大逾期 -->\r\n      <defs>\r\n       <path d=\"M 12.5 0 \r\nL 12.5 62.5 \r\nL 62.5 62.5 \r\nL 62.5 0 \r\nz\r\nM 14.0625 1.5625 \r\nL 60.9375 1.5625 \r\nL 60.9375 60.9375 \r\nL 14.0625 60.9375 \r\nz\r\n\" id=\"ArialMT-36817\"/>\r\n       <path d=\"M 4.203125 18.890625 \r\nL 12.984375 20.0625 \r\nQ 14.5 12.59375 18.140625 9.296875 \r\nQ 21.78125 6 27 6 \r\nQ 33.203125 6 37.46875 10.296875 \r\nQ 41.75 14.59375 41.75 20.953125 \r\nQ 41.75 27 37.796875 30.921875 \r\nQ 33.84375 34.859375 27.734375 34.859375 \r\nQ 25.25 34.859375 21.53125 33.890625 \r\nL 22.515625 41.609375 \r\nQ 23.390625 41.5 23.921875 41.5 \r\nQ 29.546875 41.5 34.03125 44.421875 \r\nQ 38.53125 47.359375 38.53125 53.46875 \r\nQ 38.53125 58.296875 35.25 61.46875 \r\nQ 31.984375 64.65625 26.8125 64.65625 \r\nQ 21.6875 64.65625 18.265625 61.421875 \r\nQ 14.84375 58.203125 13.875 51.765625 \r\nL 5.078125 53.328125 \r\nQ 6.6875 62.15625 12.390625 67.015625 \r\nQ 18.109375 71.875 26.609375 71.875 \r\nQ 32.46875 71.875 37.390625 69.359375 \r\nQ 42.328125 66.84375 44.9375 62.5 \r\nQ 47.5625 58.15625 47.5625 53.265625 \r\nQ 47.5625 48.640625 45.0625 44.828125 \r\nQ 42.578125 41.015625 37.703125 38.765625 \r\nQ 44.046875 37.3125 47.5625 32.6875 \r\nQ 51.078125 28.078125 51.078125 21.140625 \r\nQ 51.078125 11.765625 44.234375 5.25 \r\nQ 37.40625 -1.265625 26.953125 -1.265625 \r\nQ 17.53125 -1.265625 11.296875 4.34375 \r\nQ 5.078125 9.96875 4.203125 18.890625 \r\nz\r\n\" id=\"ArialMT-51\"/>\r\n       <path d=\"M 12.5 0 \r\nL 12.5 62.5 \r\nL 62.5 62.5 \r\nL 62.5 0 \r\nz\r\nM 14.0625 1.5625 \r\nL 60.9375 1.5625 \r\nL 60.9375 60.9375 \r\nL 14.0625 60.9375 \r\nz\r\n\" id=\"ArialMT-26376\"/>\r\n       <path d=\"M 12.5 0 \r\nL 12.5 62.5 \r\nL 62.5 62.5 \r\nL 62.5 0 \r\nz\r\nM 14.0625 1.5625 \r\nL 60.9375 1.5625 \r\nL 60.9375 60.9375 \r\nL 14.0625 60.9375 \r\nz\r\n\" id=\"ArialMT-26368\"/>\r\n       <path d=\"M 12.5 0 \r\nL 12.5 62.5 \r\nL 62.5 62.5 \r\nL 62.5 0 \r\nz\r\nM 14.0625 1.5625 \r\nL 60.9375 1.5625 \r\nL 60.9375 60.9375 \r\nL 14.0625 60.9375 \r\nz\r\n\" id=\"ArialMT-22823\"/>\r\n       <path d=\"M 12.5 0 \r\nL 12.5 62.5 \r\nL 62.5 62.5 \r\nL 62.5 0 \r\nz\r\nM 14.0625 1.5625 \r\nL 60.9375 1.5625 \r\nL 60.9375 60.9375 \r\nL 14.0625 60.9375 \r\nz\r\n\" id=\"ArialMT-36926\"/>\r\n       <path d=\"M 12.5 0 \r\nL 12.5 62.5 \r\nL 62.5 62.5 \r\nL 62.5 0 \r\nz\r\nM 14.0625 1.5625 \r\nL 60.9375 1.5625 \r\nL 60.9375 60.9375 \r\nL 14.0625 60.9375 \r\nz\r\n\" id=\"ArialMT-26399\"/>\r\n      </defs>\r\n      <g style=\"fill:#262626;\" transform=\"translate(35.434092 351.150313)rotate(-90)scale(0.1 -0.1)\">\r\n       <use xlink:href=\"#ArialMT-36817\"/>\r\n       <use x=\"75\" xlink:href=\"#ArialMT-51\"/>\r\n       <use x=\"130.615234\" xlink:href=\"#ArialMT-26376\"/>\r\n       <use x=\"205.615234\" xlink:href=\"#ArialMT-26368\"/>\r\n       <use x=\"280.615234\" xlink:href=\"#ArialMT-22823\"/>\r\n       <use x=\"355.615234\" xlink:href=\"#ArialMT-36926\"/>\r\n       <use x=\"430.615234\" xlink:href=\"#ArialMT-26399\"/>\r\n      </g>\r\n     </g>\r\n    </g>\r\n    <g id=\"xtick_2\">\r\n     <g id=\"line2d_2\">\r\n      <path clip-path=\"url(#p00f71fba64)\" d=\"M 42.346809 293.589375 \r\nL 42.346809 21.789375 \r\n\" style=\"fill:none;stroke:#ffffff;stroke-linecap:round;stroke-width:0.8;\"/>\r\n     </g>\r\n     <g id=\"text_2\">\r\n      <!-- 近3月累计逾期 -->\r\n      <defs>\r\n       <path d=\"M 12.5 0 \r\nL 12.5 62.5 \r\nL 62.5 62.5 \r\nL 62.5 0 \r\nz\r\nM 14.0625 1.5625 \r\nL 60.9375 1.5625 \r\nL 60.9375 60.9375 \r\nL 14.0625 60.9375 \r\nz\r\n\" id=\"ArialMT-32047\"/>\r\n       <path d=\"M 12.5 0 \r\nL 12.5 62.5 \r\nL 62.5 62.5 \r\nL 62.5 0 \r\nz\r\nM 14.0625 1.5625 \r\nL 60.9375 1.5625 \r\nL 60.9375 60.9375 \r\nL 14.0625 60.9375 \r\nz\r\n\" id=\"ArialMT-35745\"/>\r\n      </defs>\r\n      <g style=\"fill:#262626;\" transform=\"translate(44.931965 351.150313)rotate(-90)scale(0.1 -0.1)\">\r\n       <use xlink:href=\"#ArialMT-36817\"/>\r\n       <use x=\"75\" xlink:href=\"#ArialMT-51\"/>\r\n       <use x=\"130.615234\" xlink:href=\"#ArialMT-26376\"/>\r\n       <use x=\"205.615234\" xlink:href=\"#ArialMT-32047\"/>\r\n       <use x=\"280.615234\" xlink:href=\"#ArialMT-35745\"/>\r\n       <use x=\"355.615234\" xlink:href=\"#ArialMT-36926\"/>\r\n       <use x=\"430.615234\" xlink:href=\"#ArialMT-26399\"/>\r\n      </g>\r\n     </g>\r\n    </g>\r\n    <g id=\"xtick_3\">\r\n     <g id=\"line2d_3\">\r\n      <path clip-path=\"url(#p00f71fba64)\" d=\"M 51.844681 293.589375 \r\nL 51.844681 21.789375 \r\n\" style=\"fill:none;stroke:#ffffff;stroke-linecap:round;stroke-width:0.8;\"/>\r\n     </g>\r\n     <g id=\"text_3\">\r\n      <!-- 近6月累计逾期 -->\r\n      <defs>\r\n       <path d=\"M 49.75 54.046875 \r\nL 41.015625 53.375 \r\nQ 39.84375 58.546875 37.703125 60.890625 \r\nQ 34.125 64.65625 28.90625 64.65625 \r\nQ 24.703125 64.65625 21.53125 62.3125 \r\nQ 17.390625 59.28125 14.984375 53.46875 \r\nQ 12.59375 47.65625 12.5 36.921875 \r\nQ 15.671875 41.75 20.265625 44.09375 \r\nQ 24.859375 46.4375 29.890625 46.4375 \r\nQ 38.671875 46.4375 44.84375 39.96875 \r\nQ 51.03125 33.5 51.03125 23.25 \r\nQ 51.03125 16.5 48.125 10.71875 \r\nQ 45.21875 4.9375 40.140625 1.859375 \r\nQ 35.0625 -1.21875 28.609375 -1.21875 \r\nQ 17.625 -1.21875 10.6875 6.859375 \r\nQ 3.765625 14.9375 3.765625 33.5 \r\nQ 3.765625 54.25 11.421875 63.671875 \r\nQ 18.109375 71.875 29.4375 71.875 \r\nQ 37.890625 71.875 43.28125 67.140625 \r\nQ 48.6875 62.40625 49.75 54.046875 \r\nz\r\nM 13.875 23.1875 \r\nQ 13.875 18.65625 15.796875 14.5 \r\nQ 17.71875 10.359375 21.1875 8.171875 \r\nQ 24.65625 6 28.46875 6 \r\nQ 34.03125 6 38.03125 10.484375 \r\nQ 42.046875 14.984375 42.046875 22.703125 \r\nQ 42.046875 30.125 38.078125 34.390625 \r\nQ 34.125 38.671875 28.125 38.671875 \r\nQ 22.171875 38.671875 18.015625 34.390625 \r\nQ 13.875 30.125 13.875 23.1875 \r\nz\r\n\" id=\"ArialMT-54\"/>\r\n      </defs>\r\n      <g style=\"fill:#262626;\" transform=\"translate(54.429837 351.150313)rotate(-90)scale(0.1 -0.1)\">\r\n       <use xlink:href=\"#ArialMT-36817\"/>\r\n       <use x=\"75\" xlink:href=\"#ArialMT-54\"/>\r\n       <use x=\"130.615234\" xlink:href=\"#ArialMT-26376\"/>\r\n       <use x=\"205.615234\" xlink:href=\"#ArialMT-32047\"/>\r\n       <use x=\"280.615234\" xlink:href=\"#ArialMT-35745\"/>\r\n       <use x=\"355.615234\" xlink:href=\"#ArialMT-36926\"/>\r\n       <use x=\"430.615234\" xlink:href=\"#ArialMT-26399\"/>\r\n      </g>\r\n     </g>\r\n    </g>\r\n    <g id=\"xtick_4\">\r\n     <g id=\"line2d_4\">\r\n      <path clip-path=\"url(#p00f71fba64)\" d=\"M 61.342553 293.589375 \r\nL 61.342553 21.789375 \r\n\" style=\"fill:none;stroke:#ffffff;stroke-linecap:round;stroke-width:0.8;\"/>\r\n     </g>\r\n     <g id=\"text_4\">\r\n      <!-- 近12月最大逾期 -->\r\n      <defs>\r\n       <path d=\"M 37.25 0 \r\nL 28.46875 0 \r\nL 28.46875 56 \r\nQ 25.296875 52.984375 20.140625 49.953125 \r\nQ 14.984375 46.921875 10.890625 45.40625 \r\nL 10.890625 53.90625 \r\nQ 18.265625 57.375 23.78125 62.296875 \r\nQ 29.296875 67.234375 31.59375 71.875 \r\nL 37.25 71.875 \r\nz\r\n\" id=\"ArialMT-49\"/>\r\n       <path d=\"M 50.34375 8.453125 \r\nL 50.34375 0 \r\nL 3.03125 0 \r\nQ 2.9375 3.171875 4.046875 6.109375 \r\nQ 5.859375 10.9375 9.828125 15.625 \r\nQ 13.8125 20.3125 21.34375 26.46875 \r\nQ 33.015625 36.03125 37.109375 41.625 \r\nQ 41.21875 47.21875 41.21875 52.203125 \r\nQ 41.21875 57.421875 37.46875 61 \r\nQ 33.734375 64.59375 27.734375 64.59375 \r\nQ 21.390625 64.59375 17.578125 60.78125 \r\nQ 13.765625 56.984375 13.71875 50.25 \r\nL 4.6875 51.171875 \r\nQ 5.609375 61.28125 11.65625 66.578125 \r\nQ 17.71875 71.875 27.9375 71.875 \r\nQ 38.234375 71.875 44.234375 66.15625 \r\nQ 50.25 60.453125 50.25 52 \r\nQ 50.25 47.703125 48.484375 43.546875 \r\nQ 46.734375 39.40625 42.65625 34.8125 \r\nQ 38.578125 30.21875 29.109375 22.21875 \r\nQ 21.1875 15.578125 18.9375 13.203125 \r\nQ 16.703125 10.84375 15.234375 8.453125 \r\nz\r\n\" id=\"ArialMT-50\"/>\r\n      </defs>\r\n      <g style=\"fill:#262626;\" transform=\"translate(63.927709 356.71125)rotate(-90)scale(0.1 -0.1)\">\r\n       <use xlink:href=\"#ArialMT-36817\"/>\r\n       <use x=\"75\" xlink:href=\"#ArialMT-49\"/>\r\n       <use x=\"130.615234\" xlink:href=\"#ArialMT-50\"/>\r\n       <use x=\"186.230469\" xlink:href=\"#ArialMT-26376\"/>\r\n       <use x=\"261.230469\" xlink:href=\"#ArialMT-26368\"/>\r\n       <use x=\"336.230469\" xlink:href=\"#ArialMT-22823\"/>\r\n       <use x=\"411.230469\" xlink:href=\"#ArialMT-36926\"/>\r\n       <use x=\"486.230469\" xlink:href=\"#ArialMT-26399\"/>\r\n      </g>\r\n     </g>\r\n    </g>\r\n    <g id=\"xtick_5\">\r\n     <g id=\"line2d_5\">\r\n      <path clip-path=\"url(#p00f71fba64)\" d=\"M 70.840426 293.589375 \r\nL 70.840426 21.789375 \r\n\" style=\"fill:none;stroke:#ffffff;stroke-linecap:round;stroke-width:0.8;\"/>\r\n     </g>\r\n     <g id=\"text_5\">\r\n      <!-- 近12月累计逾期 -->\r\n      <g style=\"fill:#262626;\" transform=\"translate(73.425582 356.71125)rotate(-90)scale(0.1 -0.1)\">\r\n       <use xlink:href=\"#ArialMT-36817\"/>\r\n       <use x=\"75\" xlink:href=\"#ArialMT-49\"/>\r\n       <use x=\"130.615234\" xlink:href=\"#ArialMT-50\"/>\r\n       <use x=\"186.230469\" xlink:href=\"#ArialMT-26376\"/>\r\n       <use x=\"261.230469\" xlink:href=\"#ArialMT-32047\"/>\r\n       <use x=\"336.230469\" xlink:href=\"#ArialMT-35745\"/>\r\n       <use x=\"411.230469\" xlink:href=\"#ArialMT-36926\"/>\r\n       <use x=\"486.230469\" xlink:href=\"#ArialMT-26399\"/>\r\n      </g>\r\n     </g>\r\n    </g>\r\n    <g id=\"xtick_6\">\r\n     <g id=\"line2d_6\">\r\n      <path clip-path=\"url(#p00f71fba64)\" d=\"M 80.338298 293.589375 \r\nL 80.338298 21.789375 \r\n\" style=\"fill:none;stroke:#ffffff;stroke-linecap:round;stroke-width:0.8;\"/>\r\n     </g>\r\n     <g id=\"text_6\">\r\n      <!-- 近24月最大逾期 -->\r\n      <defs>\r\n       <path d=\"M 32.328125 0 \r\nL 32.328125 17.140625 \r\nL 1.265625 17.140625 \r\nL 1.265625 25.203125 \r\nL 33.9375 71.578125 \r\nL 41.109375 71.578125 \r\nL 41.109375 25.203125 \r\nL 50.78125 25.203125 \r\nL 50.78125 17.140625 \r\nL 41.109375 17.140625 \r\nL 41.109375 0 \r\nz\r\nM 32.328125 25.203125 \r\nL 32.328125 57.46875 \r\nL 9.90625 25.203125 \r\nz\r\n\" id=\"ArialMT-52\"/>\r\n      </defs>\r\n      <g style=\"fill:#262626;\" transform=\"translate(82.923454 356.71125)rotate(-90)scale(0.1 -0.1)\">\r\n       <use xlink:href=\"#ArialMT-36817\"/>\r\n       <use x=\"75\" xlink:href=\"#ArialMT-50\"/>\r\n       <use x=\"130.615234\" xlink:href=\"#ArialMT-52\"/>\r\n       <use x=\"186.230469\" xlink:href=\"#ArialMT-26376\"/>\r\n       <use x=\"261.230469\" xlink:href=\"#ArialMT-26368\"/>\r\n       <use x=\"336.230469\" xlink:href=\"#ArialMT-22823\"/>\r\n       <use x=\"411.230469\" xlink:href=\"#ArialMT-36926\"/>\r\n       <use x=\"486.230469\" xlink:href=\"#ArialMT-26399\"/>\r\n      </g>\r\n     </g>\r\n    </g>\r\n    <g id=\"xtick_7\">\r\n     <g id=\"line2d_7\">\r\n      <path clip-path=\"url(#p00f71fba64)\" d=\"M 89.83617 293.589375 \r\nL 89.83617 21.789375 \r\n\" style=\"fill:none;stroke:#ffffff;stroke-linecap:round;stroke-width:0.8;\"/>\r\n     </g>\r\n     <g id=\"text_7\">\r\n      <!-- 近24月累计逾期 -->\r\n      <g style=\"fill:#262626;\" transform=\"translate(92.421326 356.71125)rotate(-90)scale(0.1 -0.1)\">\r\n       <use xlink:href=\"#ArialMT-36817\"/>\r\n       <use x=\"75\" xlink:href=\"#ArialMT-50\"/>\r\n       <use x=\"130.615234\" xlink:href=\"#ArialMT-52\"/>\r\n       <use x=\"186.230469\" xlink:href=\"#ArialMT-26376\"/>\r\n       <use x=\"261.230469\" xlink:href=\"#ArialMT-32047\"/>\r\n       <use x=\"336.230469\" xlink:href=\"#ArialMT-35745\"/>\r\n       <use x=\"411.230469\" xlink:href=\"#ArialMT-36926\"/>\r\n       <use x=\"486.230469\" xlink:href=\"#ArialMT-26399\"/>\r\n      </g>\r\n     </g>\r\n    </g>\r\n    <g id=\"xtick_8\">\r\n     <g id=\"line2d_8\">\r\n      <path clip-path=\"url(#p00f71fba64)\" d=\"M 99.334043 293.589375 \r\nL 99.334043 21.789375 \r\n\" style=\"fill:none;stroke:#ffffff;stroke-linecap:round;stroke-width:0.8;\"/>\r\n     </g>\r\n     <g id=\"text_8\">\r\n      <!-- 近2月内查询次数-信用卡审批 -->\r\n      <defs>\r\n       <path d=\"M 12.5 0 \r\nL 12.5 62.5 \r\nL 62.5 62.5 \r\nL 62.5 0 \r\nz\r\nM 14.0625 1.5625 \r\nL 60.9375 1.5625 \r\nL 60.9375 60.9375 \r\nL 14.0625 60.9375 \r\nz\r\n\" id=\"ArialMT-20869\"/>\r\n       <path d=\"M 12.5 0 \r\nL 12.5 62.5 \r\nL 62.5 62.5 \r\nL 62.5 0 \r\nz\r\nM 14.0625 1.5625 \r\nL 60.9375 1.5625 \r\nL 60.9375 60.9375 \r\nL 14.0625 60.9375 \r\nz\r\n\" id=\"ArialMT-26597\"/>\r\n       <path d=\"M 12.5 0 \r\nL 12.5 62.5 \r\nL 62.5 62.5 \r\nL 62.5 0 \r\nz\r\nM 14.0625 1.5625 \r\nL 60.9375 1.5625 \r\nL 60.9375 60.9375 \r\nL 14.0625 60.9375 \r\nz\r\n\" id=\"ArialMT-35810\"/>\r\n       <path d=\"M 12.5 0 \r\nL 12.5 62.5 \r\nL 62.5 62.5 \r\nL 62.5 0 \r\nz\r\nM 14.0625 1.5625 \r\nL 60.9375 1.5625 \r\nL 60.9375 60.9375 \r\nL 14.0625 60.9375 \r\nz\r\n\" id=\"ArialMT-27425\"/>\r\n       <path d=\"M 12.5 0 \r\nL 12.5 62.5 \r\nL 62.5 62.5 \r\nL 62.5 0 \r\nz\r\nM 14.0625 1.5625 \r\nL 60.9375 1.5625 \r\nL 60.9375 60.9375 \r\nL 14.0625 60.9375 \r\nz\r\n\" id=\"ArialMT-25968\"/>\r\n       <path d=\"M 3.171875 21.484375 \r\nL 3.171875 30.328125 \r\nL 30.171875 30.328125 \r\nL 30.171875 21.484375 \r\nz\r\n\" id=\"ArialMT-45\"/>\r\n       <path d=\"M 12.5 0 \r\nL 12.5 62.5 \r\nL 62.5 62.5 \r\nL 62.5 0 \r\nz\r\nM 14.0625 1.5625 \r\nL 60.9375 1.5625 \r\nL 60.9375 60.9375 \r\nL 14.0625 60.9375 \r\nz\r\n\" id=\"ArialMT-20449\"/>\r\n       <path d=\"M 12.5 0 \r\nL 12.5 62.5 \r\nL 62.5 62.5 \r\nL 62.5 0 \r\nz\r\nM 14.0625 1.5625 \r\nL 60.9375 1.5625 \r\nL 60.9375 60.9375 \r\nL 14.0625 60.9375 \r\nz\r\n\" id=\"ArialMT-29992\"/>\r\n       <path d=\"M 12.5 0 \r\nL 12.5 62.5 \r\nL 62.5 62.5 \r\nL 62.5 0 \r\nz\r\nM 14.0625 1.5625 \r\nL 60.9375 1.5625 \r\nL 60.9375 60.9375 \r\nL 14.0625 60.9375 \r\nz\r\n\" id=\"ArialMT-21345\"/>\r\n       <path d=\"M 12.5 0 \r\nL 12.5 62.5 \r\nL 62.5 62.5 \r\nL 62.5 0 \r\nz\r\nM 14.0625 1.5625 \r\nL 60.9375 1.5625 \r\nL 60.9375 60.9375 \r\nL 14.0625 60.9375 \r\nz\r\n\" id=\"ArialMT-23457\"/>\r\n       <path d=\"M 12.5 0 \r\nL 12.5 62.5 \r\nL 62.5 62.5 \r\nL 62.5 0 \r\nz\r\nM 14.0625 1.5625 \r\nL 60.9375 1.5625 \r\nL 60.9375 60.9375 \r\nL 14.0625 60.9375 \r\nz\r\n\" id=\"ArialMT-25209\"/>\r\n      </defs>\r\n      <g style=\"fill:#262626;\" transform=\"translate(101.919199 399.48)rotate(-90)scale(0.1 -0.1)\">\r\n       <use xlink:href=\"#ArialMT-36817\"/>\r\n       <use x=\"75\" xlink:href=\"#ArialMT-50\"/>\r\n       <use x=\"130.615234\" xlink:href=\"#ArialMT-26376\"/>\r\n       <use x=\"205.615234\" xlink:href=\"#ArialMT-20869\"/>\r\n       <use x=\"280.615234\" xlink:href=\"#ArialMT-26597\"/>\r\n       <use x=\"355.615234\" xlink:href=\"#ArialMT-35810\"/>\r\n       <use x=\"430.615234\" xlink:href=\"#ArialMT-27425\"/>\r\n       <use x=\"505.615234\" xlink:href=\"#ArialMT-25968\"/>\r\n       <use x=\"580.615234\" xlink:href=\"#ArialMT-45\"/>\r\n       <use x=\"613.916016\" xlink:href=\"#ArialMT-20449\"/>\r\n       <use x=\"688.916016\" xlink:href=\"#ArialMT-29992\"/>\r\n       <use x=\"763.916016\" xlink:href=\"#ArialMT-21345\"/>\r\n       <use x=\"838.916016\" xlink:href=\"#ArialMT-23457\"/>\r\n       <use x=\"913.916016\" xlink:href=\"#ArialMT-25209\"/>\r\n      </g>\r\n     </g>\r\n    </g>\r\n    <g id=\"xtick_9\">\r\n     <g id=\"line2d_9\">\r\n      <path clip-path=\"url(#p00f71fba64)\" d=\"M 108.831915 293.589375 \r\nL 108.831915 21.789375 \r\n\" style=\"fill:none;stroke:#ffffff;stroke-linecap:round;stroke-width:0.8;\"/>\r\n     </g>\r\n     <g id=\"text_9\">\r\n      <!-- 近2月内查询次数-贷款审批 -->\r\n      <defs>\r\n       <path d=\"M 12.5 0 \r\nL 12.5 62.5 \r\nL 62.5 62.5 \r\nL 62.5 0 \r\nz\r\nM 14.0625 1.5625 \r\nL 60.9375 1.5625 \r\nL 60.9375 60.9375 \r\nL 14.0625 60.9375 \r\nz\r\n\" id=\"ArialMT-36151\"/>\r\n       <path d=\"M 12.5 0 \r\nL 12.5 62.5 \r\nL 62.5 62.5 \r\nL 62.5 0 \r\nz\r\nM 14.0625 1.5625 \r\nL 60.9375 1.5625 \r\nL 60.9375 60.9375 \r\nL 14.0625 60.9375 \r\nz\r\n\" id=\"ArialMT-27454\"/>\r\n      </defs>\r\n      <g style=\"fill:#262626;\" transform=\"translate(111.417071 391.98)rotate(-90)scale(0.1 -0.1)\">\r\n       <use xlink:href=\"#ArialMT-36817\"/>\r\n       <use x=\"75\" xlink:href=\"#ArialMT-50\"/>\r\n       <use x=\"130.615234\" xlink:href=\"#ArialMT-26376\"/>\r\n       <use x=\"205.615234\" xlink:href=\"#ArialMT-20869\"/>\r\n       <use x=\"280.615234\" xlink:href=\"#ArialMT-26597\"/>\r\n       <use x=\"355.615234\" xlink:href=\"#ArialMT-35810\"/>\r\n       <use x=\"430.615234\" xlink:href=\"#ArialMT-27425\"/>\r\n       <use x=\"505.615234\" xlink:href=\"#ArialMT-25968\"/>\r\n       <use x=\"580.615234\" xlink:href=\"#ArialMT-45\"/>\r\n       <use x=\"613.916016\" xlink:href=\"#ArialMT-36151\"/>\r\n       <use x=\"688.916016\" xlink:href=\"#ArialMT-27454\"/>\r\n       <use x=\"763.916016\" xlink:href=\"#ArialMT-23457\"/>\r\n       <use x=\"838.916016\" xlink:href=\"#ArialMT-25209\"/>\r\n      </g>\r\n     </g>\r\n    </g>\r\n    <g id=\"xtick_10\">\r\n     <g id=\"line2d_10\">\r\n      <path clip-path=\"url(#p00f71fba64)\" d=\"M 118.329787 293.589375 \r\nL 118.329787 21.789375 \r\n\" style=\"fill:none;stroke:#ffffff;stroke-linecap:round;stroke-width:0.8;\"/>\r\n     </g>\r\n     <g id=\"text_10\">\r\n      <!-- 近2月内查询机构数-信用卡审批 -->\r\n      <defs>\r\n       <path d=\"M 12.5 0 \r\nL 12.5 62.5 \r\nL 62.5 62.5 \r\nL 62.5 0 \r\nz\r\nM 14.0625 1.5625 \r\nL 60.9375 1.5625 \r\nL 60.9375 60.9375 \r\nL 14.0625 60.9375 \r\nz\r\n\" id=\"ArialMT-26426\"/>\r\n       <path d=\"M 12.5 0 \r\nL 12.5 62.5 \r\nL 62.5 62.5 \r\nL 62.5 0 \r\nz\r\nM 14.0625 1.5625 \r\nL 60.9375 1.5625 \r\nL 60.9375 60.9375 \r\nL 14.0625 60.9375 \r\nz\r\n\" id=\"ArialMT-26500\"/>\r\n      </defs>\r\n      <g style=\"fill:#262626;\" transform=\"translate(120.914943 406.98)rotate(-90)scale(0.1 -0.1)\">\r\n       <use xlink:href=\"#ArialMT-36817\"/>\r\n       <use x=\"75\" xlink:href=\"#ArialMT-50\"/>\r\n       <use x=\"130.615234\" xlink:href=\"#ArialMT-26376\"/>\r\n       <use x=\"205.615234\" xlink:href=\"#ArialMT-20869\"/>\r\n       <use x=\"280.615234\" xlink:href=\"#ArialMT-26597\"/>\r\n       <use x=\"355.615234\" xlink:href=\"#ArialMT-35810\"/>\r\n       <use x=\"430.615234\" xlink:href=\"#ArialMT-26426\"/>\r\n       <use x=\"505.615234\" xlink:href=\"#ArialMT-26500\"/>\r\n       <use x=\"580.615234\" xlink:href=\"#ArialMT-25968\"/>\r\n       <use x=\"655.615234\" xlink:href=\"#ArialMT-45\"/>\r\n       <use x=\"688.916016\" xlink:href=\"#ArialMT-20449\"/>\r\n       <use x=\"763.916016\" xlink:href=\"#ArialMT-29992\"/>\r\n       <use x=\"838.916016\" xlink:href=\"#ArialMT-21345\"/>\r\n       <use x=\"913.916016\" xlink:href=\"#ArialMT-23457\"/>\r\n       <use x=\"988.916016\" xlink:href=\"#ArialMT-25209\"/>\r\n      </g>\r\n     </g>\r\n    </g>\r\n    <g id=\"xtick_11\">\r\n     <g id=\"line2d_11\">\r\n      <path clip-path=\"url(#p00f71fba64)\" d=\"M 127.82766 293.589375 \r\nL 127.82766 21.789375 \r\n\" style=\"fill:none;stroke:#ffffff;stroke-linecap:round;stroke-width:0.8;\"/>\r\n     </g>\r\n     <g id=\"text_11\">\r\n      <!-- 近2月内查询机构数-贷款审批 -->\r\n      <g style=\"fill:#262626;\" transform=\"translate(130.412816 399.48)rotate(-90)scale(0.1 -0.1)\">\r\n       <use xlink:href=\"#ArialMT-36817\"/>\r\n       <use x=\"75\" xlink:href=\"#ArialMT-50\"/>\r\n       <use x=\"130.615234\" xlink:href=\"#ArialMT-26376\"/>\r\n       <use x=\"205.615234\" xlink:href=\"#ArialMT-20869\"/>\r\n       <use x=\"280.615234\" xlink:href=\"#ArialMT-26597\"/>\r\n       <use x=\"355.615234\" xlink:href=\"#ArialMT-35810\"/>\r\n       <use x=\"430.615234\" xlink:href=\"#ArialMT-26426\"/>\r\n       <use x=\"505.615234\" xlink:href=\"#ArialMT-26500\"/>\r\n       <use x=\"580.615234\" xlink:href=\"#ArialMT-25968\"/>\r\n       <use x=\"655.615234\" xlink:href=\"#ArialMT-45\"/>\r\n       <use x=\"688.916016\" xlink:href=\"#ArialMT-36151\"/>\r\n       <use x=\"763.916016\" xlink:href=\"#ArialMT-27454\"/>\r\n       <use x=\"838.916016\" xlink:href=\"#ArialMT-23457\"/>\r\n       <use x=\"913.916016\" xlink:href=\"#ArialMT-25209\"/>\r\n      </g>\r\n     </g>\r\n    </g>\r\n    <g id=\"xtick_12\">\r\n     <g id=\"line2d_12\">\r\n      <path clip-path=\"url(#p00f71fba64)\" d=\"M 137.325532 293.589375 \r\nL 137.325532 21.789375 \r\n\" style=\"fill:none;stroke:#ffffff;stroke-linecap:round;stroke-width:0.8;\"/>\r\n     </g>\r\n     <g id=\"text_12\">\r\n      <!-- 近6月内查询次数-信用卡审批 -->\r\n      <g style=\"fill:#262626;\" transform=\"translate(139.910688 399.48)rotate(-90)scale(0.1 -0.1)\">\r\n       <use xlink:href=\"#ArialMT-36817\"/>\r\n       <use x=\"75\" xlink:href=\"#ArialMT-54\"/>\r\n       <use x=\"130.615234\" xlink:href=\"#ArialMT-26376\"/>\r\n       <use x=\"205.615234\" xlink:href=\"#ArialMT-20869\"/>\r\n       <use x=\"280.615234\" xlink:href=\"#ArialMT-26597\"/>\r\n       <use x=\"355.615234\" xlink:href=\"#ArialMT-35810\"/>\r\n       <use x=\"430.615234\" xlink:href=\"#ArialMT-27425\"/>\r\n       <use x=\"505.615234\" xlink:href=\"#ArialMT-25968\"/>\r\n       <use x=\"580.615234\" xlink:href=\"#ArialMT-45\"/>\r\n       <use x=\"613.916016\" xlink:href=\"#ArialMT-20449\"/>\r\n       <use x=\"688.916016\" xlink:href=\"#ArialMT-29992\"/>\r\n       <use x=\"763.916016\" xlink:href=\"#ArialMT-21345\"/>\r\n       <use x=\"838.916016\" xlink:href=\"#ArialMT-23457\"/>\r\n       <use x=\"913.916016\" xlink:href=\"#ArialMT-25209\"/>\r\n      </g>\r\n     </g>\r\n    </g>\r\n    <g id=\"xtick_13\">\r\n     <g id=\"line2d_13\">\r\n      <path clip-path=\"url(#p00f71fba64)\" d=\"M 146.823404 293.589375 \r\nL 146.823404 21.789375 \r\n\" style=\"fill:none;stroke:#ffffff;stroke-linecap:round;stroke-width:0.8;\"/>\r\n     </g>\r\n     <g id=\"text_13\">\r\n      <!-- 近6月内查询次数-贷款审批 -->\r\n      <g style=\"fill:#262626;\" transform=\"translate(149.408561 391.98)rotate(-90)scale(0.1 -0.1)\">\r\n       <use xlink:href=\"#ArialMT-36817\"/>\r\n       <use x=\"75\" xlink:href=\"#ArialMT-54\"/>\r\n       <use x=\"130.615234\" xlink:href=\"#ArialMT-26376\"/>\r\n       <use x=\"205.615234\" xlink:href=\"#ArialMT-20869\"/>\r\n       <use x=\"280.615234\" xlink:href=\"#ArialMT-26597\"/>\r\n       <use x=\"355.615234\" xlink:href=\"#ArialMT-35810\"/>\r\n       <use x=\"430.615234\" xlink:href=\"#ArialMT-27425\"/>\r\n       <use x=\"505.615234\" xlink:href=\"#ArialMT-25968\"/>\r\n       <use x=\"580.615234\" xlink:href=\"#ArialMT-45\"/>\r\n       <use x=\"613.916016\" xlink:href=\"#ArialMT-36151\"/>\r\n       <use x=\"688.916016\" xlink:href=\"#ArialMT-27454\"/>\r\n       <use x=\"763.916016\" xlink:href=\"#ArialMT-23457\"/>\r\n       <use x=\"838.916016\" xlink:href=\"#ArialMT-25209\"/>\r\n      </g>\r\n     </g>\r\n    </g>\r\n    <g id=\"xtick_14\">\r\n     <g id=\"line2d_14\">\r\n      <path clip-path=\"url(#p00f71fba64)\" d=\"M 156.321277 293.589375 \r\nL 156.321277 21.789375 \r\n\" style=\"fill:none;stroke:#ffffff;stroke-linecap:round;stroke-width:0.8;\"/>\r\n     </g>\r\n     <g id=\"text_14\">\r\n      <!-- 近6月内查询机构数-信用卡审批 -->\r\n      <g style=\"fill:#262626;\" transform=\"translate(158.906433 406.98)rotate(-90)scale(0.1 -0.1)\">\r\n       <use xlink:href=\"#ArialMT-36817\"/>\r\n       <use x=\"75\" xlink:href=\"#ArialMT-54\"/>\r\n       <use x=\"130.615234\" xlink:href=\"#ArialMT-26376\"/>\r\n       <use x=\"205.615234\" xlink:href=\"#ArialMT-20869\"/>\r\n       <use x=\"280.615234\" xlink:href=\"#ArialMT-26597\"/>\r\n       <use x=\"355.615234\" xlink:href=\"#ArialMT-35810\"/>\r\n       <use x=\"430.615234\" xlink:href=\"#ArialMT-26426\"/>\r\n       <use x=\"505.615234\" xlink:href=\"#ArialMT-26500\"/>\r\n       <use x=\"580.615234\" xlink:href=\"#ArialMT-25968\"/>\r\n       <use x=\"655.615234\" xlink:href=\"#ArialMT-45\"/>\r\n       <use x=\"688.916016\" xlink:href=\"#ArialMT-20449\"/>\r\n       <use x=\"763.916016\" xlink:href=\"#ArialMT-29992\"/>\r\n       <use x=\"838.916016\" xlink:href=\"#ArialMT-21345\"/>\r\n       <use x=\"913.916016\" xlink:href=\"#ArialMT-23457\"/>\r\n       <use x=\"988.916016\" xlink:href=\"#ArialMT-25209\"/>\r\n      </g>\r\n     </g>\r\n    </g>\r\n    <g id=\"xtick_15\">\r\n     <g id=\"line2d_15\">\r\n      <path clip-path=\"url(#p00f71fba64)\" d=\"M 165.819149 293.589375 \r\nL 165.819149 21.789375 \r\n\" style=\"fill:none;stroke:#ffffff;stroke-linecap:round;stroke-width:0.8;\"/>\r\n     </g>\r\n     <g id=\"text_15\">\r\n      <!-- 近6月内查询机构数-贷款审批 -->\r\n      <g style=\"fill:#262626;\" transform=\"translate(168.404305 399.48)rotate(-90)scale(0.1 -0.1)\">\r\n       <use xlink:href=\"#ArialMT-36817\"/>\r\n       <use x=\"75\" xlink:href=\"#ArialMT-54\"/>\r\n       <use x=\"130.615234\" xlink:href=\"#ArialMT-26376\"/>\r\n       <use x=\"205.615234\" xlink:href=\"#ArialMT-20869\"/>\r\n       <use x=\"280.615234\" xlink:href=\"#ArialMT-26597\"/>\r\n       <use x=\"355.615234\" xlink:href=\"#ArialMT-35810\"/>\r\n       <use x=\"430.615234\" xlink:href=\"#ArialMT-26426\"/>\r\n       <use x=\"505.615234\" xlink:href=\"#ArialMT-26500\"/>\r\n       <use x=\"580.615234\" xlink:href=\"#ArialMT-25968\"/>\r\n       <use x=\"655.615234\" xlink:href=\"#ArialMT-45\"/>\r\n       <use x=\"688.916016\" xlink:href=\"#ArialMT-36151\"/>\r\n       <use x=\"763.916016\" xlink:href=\"#ArialMT-27454\"/>\r\n       <use x=\"838.916016\" xlink:href=\"#ArialMT-23457\"/>\r\n       <use x=\"913.916016\" xlink:href=\"#ArialMT-25209\"/>\r\n      </g>\r\n     </g>\r\n    </g>\r\n    <g id=\"xtick_16\">\r\n     <g id=\"line2d_16\">\r\n      <path clip-path=\"url(#p00f71fba64)\" d=\"M 175.317021 293.589375 \r\nL 175.317021 21.789375 \r\n\" style=\"fill:none;stroke:#ffffff;stroke-linecap:round;stroke-width:0.8;\"/>\r\n     </g>\r\n     <g id=\"text_16\">\r\n      <!-- 近12月内查询次数-信用卡审批 -->\r\n      <g style=\"fill:#262626;\" transform=\"translate(177.902178 405.040938)rotate(-90)scale(0.1 -0.1)\">\r\n       <use xlink:href=\"#ArialMT-36817\"/>\r\n       <use x=\"75\" xlink:href=\"#ArialMT-49\"/>\r\n       <use x=\"130.615234\" xlink:href=\"#ArialMT-50\"/>\r\n       <use x=\"186.230469\" xlink:href=\"#ArialMT-26376\"/>\r\n       <use x=\"261.230469\" xlink:href=\"#ArialMT-20869\"/>\r\n       <use x=\"336.230469\" xlink:href=\"#ArialMT-26597\"/>\r\n       <use x=\"411.230469\" xlink:href=\"#ArialMT-35810\"/>\r\n       <use x=\"486.230469\" xlink:href=\"#ArialMT-27425\"/>\r\n       <use x=\"561.230469\" xlink:href=\"#ArialMT-25968\"/>\r\n       <use x=\"636.230469\" xlink:href=\"#ArialMT-45\"/>\r\n       <use x=\"669.53125\" xlink:href=\"#ArialMT-20449\"/>\r\n       <use x=\"744.53125\" xlink:href=\"#ArialMT-29992\"/>\r\n       <use x=\"819.53125\" xlink:href=\"#ArialMT-21345\"/>\r\n       <use x=\"894.53125\" xlink:href=\"#ArialMT-23457\"/>\r\n       <use x=\"969.53125\" xlink:href=\"#ArialMT-25209\"/>\r\n      </g>\r\n     </g>\r\n    </g>\r\n    <g id=\"xtick_17\">\r\n     <g id=\"line2d_17\">\r\n      <path clip-path=\"url(#p00f71fba64)\" d=\"M 184.814894 293.589375 \r\nL 184.814894 21.789375 \r\n\" style=\"fill:none;stroke:#ffffff;stroke-linecap:round;stroke-width:0.8;\"/>\r\n     </g>\r\n     <g id=\"text_17\">\r\n      <!-- 近12月内查询次数-担保资格审查 -->\r\n      <defs>\r\n       <path d=\"M 12.5 0 \r\nL 12.5 62.5 \r\nL 62.5 62.5 \r\nL 62.5 0 \r\nz\r\nM 14.0625 1.5625 \r\nL 60.9375 1.5625 \r\nL 60.9375 60.9375 \r\nL 14.0625 60.9375 \r\nz\r\n\" id=\"ArialMT-25285\"/>\r\n       <path d=\"M 12.5 0 \r\nL 12.5 62.5 \r\nL 62.5 62.5 \r\nL 62.5 0 \r\nz\r\nM 14.0625 1.5625 \r\nL 60.9375 1.5625 \r\nL 60.9375 60.9375 \r\nL 14.0625 60.9375 \r\nz\r\n\" id=\"ArialMT-20445\"/>\r\n       <path d=\"M 12.5 0 \r\nL 12.5 62.5 \r\nL 62.5 62.5 \r\nL 62.5 0 \r\nz\r\nM 14.0625 1.5625 \r\nL 60.9375 1.5625 \r\nL 60.9375 60.9375 \r\nL 14.0625 60.9375 \r\nz\r\n\" id=\"ArialMT-36164\"/>\r\n       <path d=\"M 12.5 0 \r\nL 12.5 62.5 \r\nL 62.5 62.5 \r\nL 62.5 0 \r\nz\r\nM 14.0625 1.5625 \r\nL 60.9375 1.5625 \r\nL 60.9375 60.9375 \r\nL 14.0625 60.9375 \r\nz\r\n\" id=\"ArialMT-26684\"/>\r\n      </defs>\r\n      <g style=\"fill:#262626;\" transform=\"translate(187.40005 412.540938)rotate(-90)scale(0.1 -0.1)\">\r\n       <use xlink:href=\"#ArialMT-36817\"/>\r\n       <use x=\"75\" xlink:href=\"#ArialMT-49\"/>\r\n       <use x=\"130.615234\" xlink:href=\"#ArialMT-50\"/>\r\n       <use x=\"186.230469\" xlink:href=\"#ArialMT-26376\"/>\r\n       <use x=\"261.230469\" xlink:href=\"#ArialMT-20869\"/>\r\n       <use x=\"336.230469\" xlink:href=\"#ArialMT-26597\"/>\r\n       <use x=\"411.230469\" xlink:href=\"#ArialMT-35810\"/>\r\n       <use x=\"486.230469\" xlink:href=\"#ArialMT-27425\"/>\r\n       <use x=\"561.230469\" xlink:href=\"#ArialMT-25968\"/>\r\n       <use x=\"636.230469\" xlink:href=\"#ArialMT-45\"/>\r\n       <use x=\"669.53125\" xlink:href=\"#ArialMT-25285\"/>\r\n       <use x=\"744.53125\" xlink:href=\"#ArialMT-20445\"/>\r\n       <use x=\"819.53125\" xlink:href=\"#ArialMT-36164\"/>\r\n       <use x=\"894.53125\" xlink:href=\"#ArialMT-26684\"/>\r\n       <use x=\"969.53125\" xlink:href=\"#ArialMT-23457\"/>\r\n       <use x=\"1044.53125\" xlink:href=\"#ArialMT-26597\"/>\r\n      </g>\r\n     </g>\r\n    </g>\r\n    <g id=\"xtick_18\">\r\n     <g id=\"line2d_18\">\r\n      <path clip-path=\"url(#p00f71fba64)\" d=\"M 194.312766 293.589375 \r\nL 194.312766 21.789375 \r\n\" style=\"fill:none;stroke:#ffffff;stroke-linecap:round;stroke-width:0.8;\"/>\r\n     </g>\r\n     <g id=\"text_18\">\r\n      <!-- 近12月内查询次数-贷款审批 -->\r\n      <g style=\"fill:#262626;\" transform=\"translate(196.897922 397.540938)rotate(-90)scale(0.1 -0.1)\">\r\n       <use xlink:href=\"#ArialMT-36817\"/>\r\n       <use x=\"75\" xlink:href=\"#ArialMT-49\"/>\r\n       <use x=\"130.615234\" xlink:href=\"#ArialMT-50\"/>\r\n       <use x=\"186.230469\" xlink:href=\"#ArialMT-26376\"/>\r\n       <use x=\"261.230469\" xlink:href=\"#ArialMT-20869\"/>\r\n       <use x=\"336.230469\" xlink:href=\"#ArialMT-26597\"/>\r\n       <use x=\"411.230469\" xlink:href=\"#ArialMT-35810\"/>\r\n       <use x=\"486.230469\" xlink:href=\"#ArialMT-27425\"/>\r\n       <use x=\"561.230469\" xlink:href=\"#ArialMT-25968\"/>\r\n       <use x=\"636.230469\" xlink:href=\"#ArialMT-45\"/>\r\n       <use x=\"669.53125\" xlink:href=\"#ArialMT-36151\"/>\r\n       <use x=\"744.53125\" xlink:href=\"#ArialMT-27454\"/>\r\n       <use x=\"819.53125\" xlink:href=\"#ArialMT-23457\"/>\r\n       <use x=\"894.53125\" xlink:href=\"#ArialMT-25209\"/>\r\n      </g>\r\n     </g>\r\n    </g>\r\n    <g id=\"xtick_19\">\r\n     <g id=\"line2d_19\">\r\n      <path clip-path=\"url(#p00f71fba64)\" d=\"M 203.810638 293.589375 \r\nL 203.810638 21.789375 \r\n\" style=\"fill:none;stroke:#ffffff;stroke-linecap:round;stroke-width:0.8;\"/>\r\n     </g>\r\n     <g id=\"text_19\">\r\n      <!-- 近12月内查询机构数-信用卡审批 -->\r\n      <g style=\"fill:#262626;\" transform=\"translate(206.395795 412.540938)rotate(-90)scale(0.1 -0.1)\">\r\n       <use xlink:href=\"#ArialMT-36817\"/>\r\n       <use x=\"75\" xlink:href=\"#ArialMT-49\"/>\r\n       <use x=\"130.615234\" xlink:href=\"#ArialMT-50\"/>\r\n       <use x=\"186.230469\" xlink:href=\"#ArialMT-26376\"/>\r\n       <use x=\"261.230469\" xlink:href=\"#ArialMT-20869\"/>\r\n       <use x=\"336.230469\" xlink:href=\"#ArialMT-26597\"/>\r\n       <use x=\"411.230469\" xlink:href=\"#ArialMT-35810\"/>\r\n       <use x=\"486.230469\" xlink:href=\"#ArialMT-26426\"/>\r\n       <use x=\"561.230469\" xlink:href=\"#ArialMT-26500\"/>\r\n       <use x=\"636.230469\" xlink:href=\"#ArialMT-25968\"/>\r\n       <use x=\"711.230469\" xlink:href=\"#ArialMT-45\"/>\r\n       <use x=\"744.53125\" xlink:href=\"#ArialMT-20449\"/>\r\n       <use x=\"819.53125\" xlink:href=\"#ArialMT-29992\"/>\r\n       <use x=\"894.53125\" xlink:href=\"#ArialMT-21345\"/>\r\n       <use x=\"969.53125\" xlink:href=\"#ArialMT-23457\"/>\r\n       <use x=\"1044.53125\" xlink:href=\"#ArialMT-25209\"/>\r\n      </g>\r\n     </g>\r\n    </g>\r\n    <g id=\"xtick_20\">\r\n     <g id=\"line2d_20\">\r\n      <path clip-path=\"url(#p00f71fba64)\" d=\"M 213.308511 293.589375 \r\nL 213.308511 21.789375 \r\n\" style=\"fill:none;stroke:#ffffff;stroke-linecap:round;stroke-width:0.8;\"/>\r\n     </g>\r\n     <g id=\"text_20\">\r\n      <!-- 近12月内查询机构数-担保资格审查 -->\r\n      <g style=\"fill:#262626;\" transform=\"translate(215.893667 420.040938)rotate(-90)scale(0.1 -0.1)\">\r\n       <use xlink:href=\"#ArialMT-36817\"/>\r\n       <use x=\"75\" xlink:href=\"#ArialMT-49\"/>\r\n       <use x=\"130.615234\" xlink:href=\"#ArialMT-50\"/>\r\n       <use x=\"186.230469\" xlink:href=\"#ArialMT-26376\"/>\r\n       <use x=\"261.230469\" xlink:href=\"#ArialMT-20869\"/>\r\n       <use x=\"336.230469\" xlink:href=\"#ArialMT-26597\"/>\r\n       <use x=\"411.230469\" xlink:href=\"#ArialMT-35810\"/>\r\n       <use x=\"486.230469\" xlink:href=\"#ArialMT-26426\"/>\r\n       <use x=\"561.230469\" xlink:href=\"#ArialMT-26500\"/>\r\n       <use x=\"636.230469\" xlink:href=\"#ArialMT-25968\"/>\r\n       <use x=\"711.230469\" xlink:href=\"#ArialMT-45\"/>\r\n       <use x=\"744.53125\" xlink:href=\"#ArialMT-25285\"/>\r\n       <use x=\"819.53125\" xlink:href=\"#ArialMT-20445\"/>\r\n       <use x=\"894.53125\" xlink:href=\"#ArialMT-36164\"/>\r\n       <use x=\"969.53125\" xlink:href=\"#ArialMT-26684\"/>\r\n       <use x=\"1044.53125\" xlink:href=\"#ArialMT-23457\"/>\r\n       <use x=\"1119.53125\" xlink:href=\"#ArialMT-26597\"/>\r\n      </g>\r\n     </g>\r\n    </g>\r\n    <g id=\"xtick_21\">\r\n     <g id=\"line2d_21\">\r\n      <path clip-path=\"url(#p00f71fba64)\" d=\"M 222.806383 293.589375 \r\nL 222.806383 21.789375 \r\n\" style=\"fill:none;stroke:#ffffff;stroke-linecap:round;stroke-width:0.8;\"/>\r\n     </g>\r\n     <g id=\"text_21\">\r\n      <!-- 近12月内查询机构数-贷款审批 -->\r\n      <g style=\"fill:#262626;\" transform=\"translate(225.391539 405.040938)rotate(-90)scale(0.1 -0.1)\">\r\n       <use xlink:href=\"#ArialMT-36817\"/>\r\n       <use x=\"75\" xlink:href=\"#ArialMT-49\"/>\r\n       <use x=\"130.615234\" xlink:href=\"#ArialMT-50\"/>\r\n       <use x=\"186.230469\" xlink:href=\"#ArialMT-26376\"/>\r\n       <use x=\"261.230469\" xlink:href=\"#ArialMT-20869\"/>\r\n       <use x=\"336.230469\" xlink:href=\"#ArialMT-26597\"/>\r\n       <use x=\"411.230469\" xlink:href=\"#ArialMT-35810\"/>\r\n       <use x=\"486.230469\" xlink:href=\"#ArialMT-26426\"/>\r\n       <use x=\"561.230469\" xlink:href=\"#ArialMT-26500\"/>\r\n       <use x=\"636.230469\" xlink:href=\"#ArialMT-25968\"/>\r\n       <use x=\"711.230469\" xlink:href=\"#ArialMT-45\"/>\r\n       <use x=\"744.53125\" xlink:href=\"#ArialMT-36151\"/>\r\n       <use x=\"819.53125\" xlink:href=\"#ArialMT-27454\"/>\r\n       <use x=\"894.53125\" xlink:href=\"#ArialMT-23457\"/>\r\n       <use x=\"969.53125\" xlink:href=\"#ArialMT-25209\"/>\r\n      </g>\r\n     </g>\r\n    </g>\r\n    <g id=\"xtick_22\">\r\n     <g id=\"line2d_22\">\r\n      <path clip-path=\"url(#p00f71fba64)\" d=\"M 232.304255 293.589375 \r\nL 232.304255 21.789375 \r\n\" style=\"fill:none;stroke:#ffffff;stroke-linecap:round;stroke-width:0.8;\"/>\r\n     </g>\r\n     <g id=\"text_22\">\r\n      <!-- 近2年内查询次数-信用卡审批 -->\r\n      <defs>\r\n       <path d=\"M 12.5 0 \r\nL 12.5 62.5 \r\nL 62.5 62.5 \r\nL 62.5 0 \r\nz\r\nM 14.0625 1.5625 \r\nL 60.9375 1.5625 \r\nL 60.9375 60.9375 \r\nL 14.0625 60.9375 \r\nz\r\n\" id=\"ArialMT-24180\"/>\r\n      </defs>\r\n      <g style=\"fill:#262626;\" transform=\"translate(234.889412 399.48)rotate(-90)scale(0.1 -0.1)\">\r\n       <use xlink:href=\"#ArialMT-36817\"/>\r\n       <use x=\"75\" xlink:href=\"#ArialMT-50\"/>\r\n       <use x=\"130.615234\" xlink:href=\"#ArialMT-24180\"/>\r\n       <use x=\"205.615234\" xlink:href=\"#ArialMT-20869\"/>\r\n       <use x=\"280.615234\" xlink:href=\"#ArialMT-26597\"/>\r\n       <use x=\"355.615234\" xlink:href=\"#ArialMT-35810\"/>\r\n       <use x=\"430.615234\" xlink:href=\"#ArialMT-27425\"/>\r\n       <use x=\"505.615234\" xlink:href=\"#ArialMT-25968\"/>\r\n       <use x=\"580.615234\" xlink:href=\"#ArialMT-45\"/>\r\n       <use x=\"613.916016\" xlink:href=\"#ArialMT-20449\"/>\r\n       <use x=\"688.916016\" xlink:href=\"#ArialMT-29992\"/>\r\n       <use x=\"763.916016\" xlink:href=\"#ArialMT-21345\"/>\r\n       <use x=\"838.916016\" xlink:href=\"#ArialMT-23457\"/>\r\n       <use x=\"913.916016\" xlink:href=\"#ArialMT-25209\"/>\r\n      </g>\r\n     </g>\r\n    </g>\r\n    <g id=\"xtick_23\">\r\n     <g id=\"line2d_23\">\r\n      <path clip-path=\"url(#p00f71fba64)\" d=\"M 241.802128 293.589375 \r\nL 241.802128 21.789375 \r\n\" style=\"fill:none;stroke:#ffffff;stroke-linecap:round;stroke-width:0.8;\"/>\r\n     </g>\r\n     <g id=\"text_23\">\r\n      <!-- 近2年内查询次数-担保资格审查 -->\r\n      <g style=\"fill:#262626;\" transform=\"translate(244.387284 406.98)rotate(-90)scale(0.1 -0.1)\">\r\n       <use xlink:href=\"#ArialMT-36817\"/>\r\n       <use x=\"75\" xlink:href=\"#ArialMT-50\"/>\r\n       <use x=\"130.615234\" xlink:href=\"#ArialMT-24180\"/>\r\n       <use x=\"205.615234\" xlink:href=\"#ArialMT-20869\"/>\r\n       <use x=\"280.615234\" xlink:href=\"#ArialMT-26597\"/>\r\n       <use x=\"355.615234\" xlink:href=\"#ArialMT-35810\"/>\r\n       <use x=\"430.615234\" xlink:href=\"#ArialMT-27425\"/>\r\n       <use x=\"505.615234\" xlink:href=\"#ArialMT-25968\"/>\r\n       <use x=\"580.615234\" xlink:href=\"#ArialMT-45\"/>\r\n       <use x=\"613.916016\" xlink:href=\"#ArialMT-25285\"/>\r\n       <use x=\"688.916016\" xlink:href=\"#ArialMT-20445\"/>\r\n       <use x=\"763.916016\" xlink:href=\"#ArialMT-36164\"/>\r\n       <use x=\"838.916016\" xlink:href=\"#ArialMT-26684\"/>\r\n       <use x=\"913.916016\" xlink:href=\"#ArialMT-23457\"/>\r\n       <use x=\"988.916016\" xlink:href=\"#ArialMT-26597\"/>\r\n      </g>\r\n     </g>\r\n    </g>\r\n    <g id=\"xtick_24\">\r\n     <g id=\"line2d_24\">\r\n      <path clip-path=\"url(#p00f71fba64)\" d=\"M 251.3 293.589375 \r\nL 251.3 21.789375 \r\n\" style=\"fill:none;stroke:#ffffff;stroke-linecap:round;stroke-width:0.8;\"/>\r\n     </g>\r\n     <g id=\"text_24\">\r\n      <!-- 近2年内查询次数-贷款审批 -->\r\n      <g style=\"fill:#262626;\" transform=\"translate(253.885156 391.98)rotate(-90)scale(0.1 -0.1)\">\r\n       <use xlink:href=\"#ArialMT-36817\"/>\r\n       <use x=\"75\" xlink:href=\"#ArialMT-50\"/>\r\n       <use x=\"130.615234\" xlink:href=\"#ArialMT-24180\"/>\r\n       <use x=\"205.615234\" xlink:href=\"#ArialMT-20869\"/>\r\n       <use x=\"280.615234\" xlink:href=\"#ArialMT-26597\"/>\r\n       <use x=\"355.615234\" xlink:href=\"#ArialMT-35810\"/>\r\n       <use x=\"430.615234\" xlink:href=\"#ArialMT-27425\"/>\r\n       <use x=\"505.615234\" xlink:href=\"#ArialMT-25968\"/>\r\n       <use x=\"580.615234\" xlink:href=\"#ArialMT-45\"/>\r\n       <use x=\"613.916016\" xlink:href=\"#ArialMT-36151\"/>\r\n       <use x=\"688.916016\" xlink:href=\"#ArialMT-27454\"/>\r\n       <use x=\"763.916016\" xlink:href=\"#ArialMT-23457\"/>\r\n       <use x=\"838.916016\" xlink:href=\"#ArialMT-25209\"/>\r\n      </g>\r\n     </g>\r\n    </g>\r\n    <g id=\"xtick_25\">\r\n     <g id=\"line2d_25\">\r\n      <path clip-path=\"url(#p00f71fba64)\" d=\"M 260.797872 293.589375 \r\nL 260.797872 21.789375 \r\n\" style=\"fill:none;stroke:#ffffff;stroke-linecap:round;stroke-width:0.8;\"/>\r\n     </g>\r\n     <g id=\"text_25\">\r\n      <!-- 近2年内查询机构数-信用卡审批 -->\r\n      <g style=\"fill:#262626;\" transform=\"translate(263.383029 406.98)rotate(-90)scale(0.1 -0.1)\">\r\n       <use xlink:href=\"#ArialMT-36817\"/>\r\n       <use x=\"75\" xlink:href=\"#ArialMT-50\"/>\r\n       <use x=\"130.615234\" xlink:href=\"#ArialMT-24180\"/>\r\n       <use x=\"205.615234\" xlink:href=\"#ArialMT-20869\"/>\r\n       <use x=\"280.615234\" xlink:href=\"#ArialMT-26597\"/>\r\n       <use x=\"355.615234\" xlink:href=\"#ArialMT-35810\"/>\r\n       <use x=\"430.615234\" xlink:href=\"#ArialMT-26426\"/>\r\n       <use x=\"505.615234\" xlink:href=\"#ArialMT-26500\"/>\r\n       <use x=\"580.615234\" xlink:href=\"#ArialMT-25968\"/>\r\n       <use x=\"655.615234\" xlink:href=\"#ArialMT-45\"/>\r\n       <use x=\"688.916016\" xlink:href=\"#ArialMT-20449\"/>\r\n       <use x=\"763.916016\" xlink:href=\"#ArialMT-29992\"/>\r\n       <use x=\"838.916016\" xlink:href=\"#ArialMT-21345\"/>\r\n       <use x=\"913.916016\" xlink:href=\"#ArialMT-23457\"/>\r\n       <use x=\"988.916016\" xlink:href=\"#ArialMT-25209\"/>\r\n      </g>\r\n     </g>\r\n    </g>\r\n    <g id=\"xtick_26\">\r\n     <g id=\"line2d_26\">\r\n      <path clip-path=\"url(#p00f71fba64)\" d=\"M 270.295745 293.589375 \r\nL 270.295745 21.789375 \r\n\" style=\"fill:none;stroke:#ffffff;stroke-linecap:round;stroke-width:0.8;\"/>\r\n     </g>\r\n     <g id=\"text_26\">\r\n      <!-- 近2年内查询机构数-担保资格审查 -->\r\n      <g style=\"fill:#262626;\" transform=\"translate(272.880901 414.48)rotate(-90)scale(0.1 -0.1)\">\r\n       <use xlink:href=\"#ArialMT-36817\"/>\r\n       <use x=\"75\" xlink:href=\"#ArialMT-50\"/>\r\n       <use x=\"130.615234\" xlink:href=\"#ArialMT-24180\"/>\r\n       <use x=\"205.615234\" xlink:href=\"#ArialMT-20869\"/>\r\n       <use x=\"280.615234\" xlink:href=\"#ArialMT-26597\"/>\r\n       <use x=\"355.615234\" xlink:href=\"#ArialMT-35810\"/>\r\n       <use x=\"430.615234\" xlink:href=\"#ArialMT-26426\"/>\r\n       <use x=\"505.615234\" xlink:href=\"#ArialMT-26500\"/>\r\n       <use x=\"580.615234\" xlink:href=\"#ArialMT-25968\"/>\r\n       <use x=\"655.615234\" xlink:href=\"#ArialMT-45\"/>\r\n       <use x=\"688.916016\" xlink:href=\"#ArialMT-25285\"/>\r\n       <use x=\"763.916016\" xlink:href=\"#ArialMT-20445\"/>\r\n       <use x=\"838.916016\" xlink:href=\"#ArialMT-36164\"/>\r\n       <use x=\"913.916016\" xlink:href=\"#ArialMT-26684\"/>\r\n       <use x=\"988.916016\" xlink:href=\"#ArialMT-23457\"/>\r\n       <use x=\"1063.916016\" xlink:href=\"#ArialMT-26597\"/>\r\n      </g>\r\n     </g>\r\n    </g>\r\n    <g id=\"xtick_27\">\r\n     <g id=\"line2d_27\">\r\n      <path clip-path=\"url(#p00f71fba64)\" d=\"M 279.793617 293.589375 \r\nL 279.793617 21.789375 \r\n\" style=\"fill:none;stroke:#ffffff;stroke-linecap:round;stroke-width:0.8;\"/>\r\n     </g>\r\n     <g id=\"text_27\">\r\n      <!-- 近2年内查询机构数-贷款审批 -->\r\n      <g style=\"fill:#262626;\" transform=\"translate(282.378773 399.48)rotate(-90)scale(0.1 -0.1)\">\r\n       <use xlink:href=\"#ArialMT-36817\"/>\r\n       <use x=\"75\" xlink:href=\"#ArialMT-50\"/>\r\n       <use x=\"130.615234\" xlink:href=\"#ArialMT-24180\"/>\r\n       <use x=\"205.615234\" xlink:href=\"#ArialMT-20869\"/>\r\n       <use x=\"280.615234\" xlink:href=\"#ArialMT-26597\"/>\r\n       <use x=\"355.615234\" xlink:href=\"#ArialMT-35810\"/>\r\n       <use x=\"430.615234\" xlink:href=\"#ArialMT-26426\"/>\r\n       <use x=\"505.615234\" xlink:href=\"#ArialMT-26500\"/>\r\n       <use x=\"580.615234\" xlink:href=\"#ArialMT-25968\"/>\r\n       <use x=\"655.615234\" xlink:href=\"#ArialMT-45\"/>\r\n       <use x=\"688.916016\" xlink:href=\"#ArialMT-36151\"/>\r\n       <use x=\"763.916016\" xlink:href=\"#ArialMT-27454\"/>\r\n       <use x=\"838.916016\" xlink:href=\"#ArialMT-23457\"/>\r\n       <use x=\"913.916016\" xlink:href=\"#ArialMT-25209\"/>\r\n      </g>\r\n     </g>\r\n    </g>\r\n    <g id=\"xtick_28\">\r\n     <g id=\"line2d_28\">\r\n      <path clip-path=\"url(#p00f71fba64)\" d=\"M 289.291489 293.589375 \r\nL 289.291489 21.789375 \r\n\" style=\"fill:none;stroke:#ffffff;stroke-linecap:round;stroke-width:0.8;\"/>\r\n     </g>\r\n     <g id=\"text_28\">\r\n      <!-- 十二个月内最近一次查询距今月份 -->\r\n      <defs>\r\n       <path d=\"M 12.5 0 \r\nL 12.5 62.5 \r\nL 62.5 62.5 \r\nL 62.5 0 \r\nz\r\nM 14.0625 1.5625 \r\nL 60.9375 1.5625 \r\nL 60.9375 60.9375 \r\nL 14.0625 60.9375 \r\nz\r\n\" id=\"ArialMT-21313\"/>\r\n       <path d=\"M 12.5 0 \r\nL 12.5 62.5 \r\nL 62.5 62.5 \r\nL 62.5 0 \r\nz\r\nM 14.0625 1.5625 \r\nL 60.9375 1.5625 \r\nL 60.9375 60.9375 \r\nL 14.0625 60.9375 \r\nz\r\n\" id=\"ArialMT-20108\"/>\r\n       <path d=\"M 12.5 0 \r\nL 12.5 62.5 \r\nL 62.5 62.5 \r\nL 62.5 0 \r\nz\r\nM 14.0625 1.5625 \r\nL 60.9375 1.5625 \r\nL 60.9375 60.9375 \r\nL 14.0625 60.9375 \r\nz\r\n\" id=\"ArialMT-20010\"/>\r\n       <path d=\"M 12.5 0 \r\nL 12.5 62.5 \r\nL 62.5 62.5 \r\nL 62.5 0 \r\nz\r\nM 14.0625 1.5625 \r\nL 60.9375 1.5625 \r\nL 60.9375 60.9375 \r\nL 14.0625 60.9375 \r\nz\r\n\" id=\"ArialMT-19968\"/>\r\n       <path d=\"M 12.5 0 \r\nL 12.5 62.5 \r\nL 62.5 62.5 \r\nL 62.5 0 \r\nz\r\nM 14.0625 1.5625 \r\nL 60.9375 1.5625 \r\nL 60.9375 60.9375 \r\nL 14.0625 60.9375 \r\nz\r\n\" id=\"ArialMT-36317\"/>\r\n       <path d=\"M 12.5 0 \r\nL 12.5 62.5 \r\nL 62.5 62.5 \r\nL 62.5 0 \r\nz\r\nM 14.0625 1.5625 \r\nL 60.9375 1.5625 \r\nL 60.9375 60.9375 \r\nL 14.0625 60.9375 \r\nz\r\n\" id=\"ArialMT-20170\"/>\r\n       <path d=\"M 12.5 0 \r\nL 12.5 62.5 \r\nL 62.5 62.5 \r\nL 62.5 0 \r\nz\r\nM 14.0625 1.5625 \r\nL 60.9375 1.5625 \r\nL 60.9375 60.9375 \r\nL 14.0625 60.9375 \r\nz\r\n\" id=\"ArialMT-20221\"/>\r\n      </defs>\r\n      <g style=\"fill:#262626;\" transform=\"translate(291.876646 413.089375)rotate(-90)scale(0.1 -0.1)\">\r\n       <use xlink:href=\"#ArialMT-21313\"/>\r\n       <use x=\"75\" xlink:href=\"#ArialMT-20108\"/>\r\n       <use x=\"150\" xlink:href=\"#ArialMT-20010\"/>\r\n       <use x=\"225\" xlink:href=\"#ArialMT-26376\"/>\r\n       <use x=\"300\" xlink:href=\"#ArialMT-20869\"/>\r\n       <use x=\"375\" xlink:href=\"#ArialMT-26368\"/>\r\n       <use x=\"450\" xlink:href=\"#ArialMT-36817\"/>\r\n       <use x=\"525\" xlink:href=\"#ArialMT-19968\"/>\r\n       <use x=\"600\" xlink:href=\"#ArialMT-27425\"/>\r\n       <use x=\"675\" xlink:href=\"#ArialMT-26597\"/>\r\n       <use x=\"750\" xlink:href=\"#ArialMT-35810\"/>\r\n       <use x=\"825\" xlink:href=\"#ArialMT-36317\"/>\r\n       <use x=\"900\" xlink:href=\"#ArialMT-20170\"/>\r\n       <use x=\"975\" xlink:href=\"#ArialMT-26376\"/>\r\n       <use x=\"1050\" xlink:href=\"#ArialMT-20221\"/>\r\n      </g>\r\n     </g>\r\n    </g>\r\n    <g id=\"xtick_29\">\r\n     <g id=\"line2d_29\">\r\n      <path clip-path=\"url(#p00f71fba64)\" d=\"M 298.789362 293.589375 \r\nL 298.789362 21.789375 \r\n\" style=\"fill:none;stroke:#ffffff;stroke-linecap:round;stroke-width:0.8;\"/>\r\n     </g>\r\n     <g id=\"text_29\">\r\n      <!-- 非银金融机构信贷历史机构数 -->\r\n      <defs>\r\n       <path d=\"M 12.5 0 \r\nL 12.5 62.5 \r\nL 62.5 62.5 \r\nL 62.5 0 \r\nz\r\nM 14.0625 1.5625 \r\nL 60.9375 1.5625 \r\nL 60.9375 60.9375 \r\nL 14.0625 60.9375 \r\nz\r\n\" id=\"ArialMT-38750\"/>\r\n       <path d=\"M 12.5 0 \r\nL 12.5 62.5 \r\nL 62.5 62.5 \r\nL 62.5 0 \r\nz\r\nM 14.0625 1.5625 \r\nL 60.9375 1.5625 \r\nL 60.9375 60.9375 \r\nL 14.0625 60.9375 \r\nz\r\n\" id=\"ArialMT-38134\"/>\r\n       <path d=\"M 12.5 0 \r\nL 12.5 62.5 \r\nL 62.5 62.5 \r\nL 62.5 0 \r\nz\r\nM 14.0625 1.5625 \r\nL 60.9375 1.5625 \r\nL 60.9375 60.9375 \r\nL 14.0625 60.9375 \r\nz\r\n\" id=\"ArialMT-37329\"/>\r\n       <path d=\"M 12.5 0 \r\nL 12.5 62.5 \r\nL 62.5 62.5 \r\nL 62.5 0 \r\nz\r\nM 14.0625 1.5625 \r\nL 60.9375 1.5625 \r\nL 60.9375 60.9375 \r\nL 14.0625 60.9375 \r\nz\r\n\" id=\"ArialMT-34701\"/>\r\n       <path d=\"M 12.5 0 \r\nL 12.5 62.5 \r\nL 62.5 62.5 \r\nL 62.5 0 \r\nz\r\nM 14.0625 1.5625 \r\nL 60.9375 1.5625 \r\nL 60.9375 60.9375 \r\nL 14.0625 60.9375 \r\nz\r\n\" id=\"ArialMT-21382\"/>\r\n       <path d=\"M 12.5 0 \r\nL 12.5 62.5 \r\nL 62.5 62.5 \r\nL 62.5 0 \r\nz\r\nM 14.0625 1.5625 \r\nL 60.9375 1.5625 \r\nL 60.9375 60.9375 \r\nL 14.0625 60.9375 \r\nz\r\n\" id=\"ArialMT-21490\"/>\r\n      </defs>\r\n      <g style=\"fill:#262626;\" transform=\"translate(301.374518 398.089375)rotate(-90)scale(0.1 -0.1)\">\r\n       <use xlink:href=\"#ArialMT-38750\"/>\r\n       <use x=\"75\" xlink:href=\"#ArialMT-38134\"/>\r\n       <use x=\"150\" xlink:href=\"#ArialMT-37329\"/>\r\n       <use x=\"225\" xlink:href=\"#ArialMT-34701\"/>\r\n       <use x=\"300\" xlink:href=\"#ArialMT-26426\"/>\r\n       <use x=\"375\" xlink:href=\"#ArialMT-26500\"/>\r\n       <use x=\"450\" xlink:href=\"#ArialMT-20449\"/>\r\n       <use x=\"525\" xlink:href=\"#ArialMT-36151\"/>\r\n       <use x=\"600\" xlink:href=\"#ArialMT-21382\"/>\r\n       <use x=\"675\" xlink:href=\"#ArialMT-21490\"/>\r\n       <use x=\"750\" xlink:href=\"#ArialMT-26426\"/>\r\n       <use x=\"825\" xlink:href=\"#ArialMT-26500\"/>\r\n       <use x=\"900\" xlink:href=\"#ArialMT-25968\"/>\r\n      </g>\r\n     </g>\r\n    </g>\r\n    <g id=\"xtick_30\">\r\n     <g id=\"line2d_30\">\r\n      <path clip-path=\"url(#p00f71fba64)\" d=\"M 308.287234 293.589375 \r\nL 308.287234 21.789375 \r\n\" style=\"fill:none;stroke:#ffffff;stroke-linecap:round;stroke-width:0.8;\"/>\r\n     </g>\r\n     <g id=\"text_30\">\r\n      <!-- 非银金融机构未结清贷款笔数 -->\r\n      <defs>\r\n       <path d=\"M 12.5 0 \r\nL 12.5 62.5 \r\nL 62.5 62.5 \r\nL 62.5 0 \r\nz\r\nM 14.0625 1.5625 \r\nL 60.9375 1.5625 \r\nL 60.9375 60.9375 \r\nL 14.0625 60.9375 \r\nz\r\n\" id=\"ArialMT-26410\"/>\r\n       <path d=\"M 12.5 0 \r\nL 12.5 62.5 \r\nL 62.5 62.5 \r\nL 62.5 0 \r\nz\r\nM 14.0625 1.5625 \r\nL 60.9375 1.5625 \r\nL 60.9375 60.9375 \r\nL 14.0625 60.9375 \r\nz\r\n\" id=\"ArialMT-32467\"/>\r\n       <path d=\"M 12.5 0 \r\nL 12.5 62.5 \r\nL 62.5 62.5 \r\nL 62.5 0 \r\nz\r\nM 14.0625 1.5625 \r\nL 60.9375 1.5625 \r\nL 60.9375 60.9375 \r\nL 14.0625 60.9375 \r\nz\r\n\" id=\"ArialMT-28165\"/>\r\n       <path d=\"M 12.5 0 \r\nL 12.5 62.5 \r\nL 62.5 62.5 \r\nL 62.5 0 \r\nz\r\nM 14.0625 1.5625 \r\nL 60.9375 1.5625 \r\nL 60.9375 60.9375 \r\nL 14.0625 60.9375 \r\nz\r\n\" id=\"ArialMT-31508\"/>\r\n      </defs>\r\n      <g style=\"fill:#262626;\" transform=\"translate(310.87239 398.089375)rotate(-90)scale(0.1 -0.1)\">\r\n       <use xlink:href=\"#ArialMT-38750\"/>\r\n       <use x=\"75\" xlink:href=\"#ArialMT-38134\"/>\r\n       <use x=\"150\" xlink:href=\"#ArialMT-37329\"/>\r\n       <use x=\"225\" xlink:href=\"#ArialMT-34701\"/>\r\n       <use x=\"300\" xlink:href=\"#ArialMT-26426\"/>\r\n       <use x=\"375\" xlink:href=\"#ArialMT-26500\"/>\r\n       <use x=\"450\" xlink:href=\"#ArialMT-26410\"/>\r\n       <use x=\"525\" xlink:href=\"#ArialMT-32467\"/>\r\n       <use x=\"600\" xlink:href=\"#ArialMT-28165\"/>\r\n       <use x=\"675\" xlink:href=\"#ArialMT-36151\"/>\r\n       <use x=\"750\" xlink:href=\"#ArialMT-27454\"/>\r\n       <use x=\"825\" xlink:href=\"#ArialMT-31508\"/>\r\n       <use x=\"900\" xlink:href=\"#ArialMT-25968\"/>\r\n      </g>\r\n     </g>\r\n    </g>\r\n    <g id=\"xtick_31\">\r\n     <g id=\"line2d_31\">\r\n      <path clip-path=\"url(#p00f71fba64)\" d=\"M 317.785106 293.589375 \r\nL 317.785106 21.789375 \r\n\" style=\"fill:none;stroke:#ffffff;stroke-linecap:round;stroke-width:0.8;\"/>\r\n     </g>\r\n     <g id=\"text_31\">\r\n      <!-- 近6月平均使用额度 -->\r\n      <defs>\r\n       <path d=\"M 12.5 0 \r\nL 12.5 62.5 \r\nL 62.5 62.5 \r\nL 62.5 0 \r\nz\r\nM 14.0625 1.5625 \r\nL 60.9375 1.5625 \r\nL 60.9375 60.9375 \r\nL 14.0625 60.9375 \r\nz\r\n\" id=\"ArialMT-24179\"/>\r\n       <path d=\"M 12.5 0 \r\nL 12.5 62.5 \r\nL 62.5 62.5 \r\nL 62.5 0 \r\nz\r\nM 14.0625 1.5625 \r\nL 60.9375 1.5625 \r\nL 60.9375 60.9375 \r\nL 14.0625 60.9375 \r\nz\r\n\" id=\"ArialMT-22343\"/>\r\n       <path d=\"M 12.5 0 \r\nL 12.5 62.5 \r\nL 62.5 62.5 \r\nL 62.5 0 \r\nz\r\nM 14.0625 1.5625 \r\nL 60.9375 1.5625 \r\nL 60.9375 60.9375 \r\nL 14.0625 60.9375 \r\nz\r\n\" id=\"ArialMT-20351\"/>\r\n       <path d=\"M 12.5 0 \r\nL 12.5 62.5 \r\nL 62.5 62.5 \r\nL 62.5 0 \r\nz\r\nM 14.0625 1.5625 \r\nL 60.9375 1.5625 \r\nL 60.9375 60.9375 \r\nL 14.0625 60.9375 \r\nz\r\n\" id=\"ArialMT-39069\"/>\r\n       <path d=\"M 12.5 0 \r\nL 12.5 62.5 \r\nL 62.5 62.5 \r\nL 62.5 0 \r\nz\r\nM 14.0625 1.5625 \r\nL 60.9375 1.5625 \r\nL 60.9375 60.9375 \r\nL 14.0625 60.9375 \r\nz\r\n\" id=\"ArialMT-24230\"/>\r\n      </defs>\r\n      <g style=\"fill:#262626;\" transform=\"translate(320.370263 366.150313)rotate(-90)scale(0.1 -0.1)\">\r\n       <use xlink:href=\"#ArialMT-36817\"/>\r\n       <use x=\"75\" xlink:href=\"#ArialMT-54\"/>\r\n       <use x=\"130.615234\" xlink:href=\"#ArialMT-26376\"/>\r\n       <use x=\"205.615234\" xlink:href=\"#ArialMT-24179\"/>\r\n       <use x=\"280.615234\" xlink:href=\"#ArialMT-22343\"/>\r\n       <use x=\"355.615234\" xlink:href=\"#ArialMT-20351\"/>\r\n       <use x=\"430.615234\" xlink:href=\"#ArialMT-29992\"/>\r\n       <use x=\"505.615234\" xlink:href=\"#ArialMT-39069\"/>\r\n       <use x=\"580.615234\" xlink:href=\"#ArialMT-24230\"/>\r\n      </g>\r\n     </g>\r\n    </g>\r\n    <g id=\"xtick_32\">\r\n     <g id=\"line2d_32\">\r\n      <path clip-path=\"url(#p00f71fba64)\" d=\"M 327.282979 293.589375 \r\nL 327.282979 21.789375 \r\n\" style=\"fill:none;stroke:#ffffff;stroke-linecap:round;stroke-width:0.8;\"/>\r\n     </g>\r\n     <g id=\"text_32\">\r\n      <!-- 透支余额汇总 -->\r\n      <defs>\r\n       <path d=\"M 12.5 0 \r\nL 12.5 62.5 \r\nL 62.5 62.5 \r\nL 62.5 0 \r\nz\r\nM 14.0625 1.5625 \r\nL 60.9375 1.5625 \r\nL 60.9375 60.9375 \r\nL 14.0625 60.9375 \r\nz\r\n\" id=\"ArialMT-36879\"/>\r\n       <path d=\"M 12.5 0 \r\nL 12.5 62.5 \r\nL 62.5 62.5 \r\nL 62.5 0 \r\nz\r\nM 14.0625 1.5625 \r\nL 60.9375 1.5625 \r\nL 60.9375 60.9375 \r\nL 14.0625 60.9375 \r\nz\r\n\" id=\"ArialMT-25903\"/>\r\n       <path d=\"M 12.5 0 \r\nL 12.5 62.5 \r\nL 62.5 62.5 \r\nL 62.5 0 \r\nz\r\nM 14.0625 1.5625 \r\nL 60.9375 1.5625 \r\nL 60.9375 60.9375 \r\nL 14.0625 60.9375 \r\nz\r\n\" id=\"ArialMT-20313\"/>\r\n       <path d=\"M 12.5 0 \r\nL 12.5 62.5 \r\nL 62.5 62.5 \r\nL 62.5 0 \r\nz\r\nM 14.0625 1.5625 \r\nL 60.9375 1.5625 \r\nL 60.9375 60.9375 \r\nL 14.0625 60.9375 \r\nz\r\n\" id=\"ArialMT-27719\"/>\r\n       <path d=\"M 12.5 0 \r\nL 12.5 62.5 \r\nL 62.5 62.5 \r\nL 62.5 0 \r\nz\r\nM 14.0625 1.5625 \r\nL 60.9375 1.5625 \r\nL 60.9375 60.9375 \r\nL 14.0625 60.9375 \r\nz\r\n\" id=\"ArialMT-24635\"/>\r\n      </defs>\r\n      <g style=\"fill:#262626;\" transform=\"translate(329.868135 345.589375)rotate(-90)scale(0.1 -0.1)\">\r\n       <use xlink:href=\"#ArialMT-36879\"/>\r\n       <use x=\"75\" xlink:href=\"#ArialMT-25903\"/>\r\n       <use x=\"150\" xlink:href=\"#ArialMT-20313\"/>\r\n       <use x=\"225\" xlink:href=\"#ArialMT-39069\"/>\r\n       <use x=\"300\" xlink:href=\"#ArialMT-27719\"/>\r\n       <use x=\"375\" xlink:href=\"#ArialMT-24635\"/>\r\n      </g>\r\n     </g>\r\n    </g>\r\n    <g id=\"xtick_33\">\r\n     <g id=\"line2d_33\">\r\n      <path clip-path=\"url(#p00f71fba64)\" d=\"M 336.780851 293.589375 \r\nL 336.780851 21.789375 \r\n\" style=\"fill:none;stroke:#ffffff;stroke-linecap:round;stroke-width:0.8;\"/>\r\n     </g>\r\n     <g id=\"text_33\">\r\n      <!-- 授信总额 -->\r\n      <defs>\r\n       <path d=\"M 12.5 0 \r\nL 12.5 62.5 \r\nL 62.5 62.5 \r\nL 62.5 0 \r\nz\r\nM 14.0625 1.5625 \r\nL 60.9375 1.5625 \r\nL 60.9375 60.9375 \r\nL 14.0625 60.9375 \r\nz\r\n\" id=\"ArialMT-25480\"/>\r\n      </defs>\r\n      <g style=\"fill:#262626;\" transform=\"translate(339.366007 330.589375)rotate(-90)scale(0.1 -0.1)\">\r\n       <use xlink:href=\"#ArialMT-25480\"/>\r\n       <use x=\"75\" xlink:href=\"#ArialMT-20449\"/>\r\n       <use x=\"150\" xlink:href=\"#ArialMT-24635\"/>\r\n       <use x=\"225\" xlink:href=\"#ArialMT-39069\"/>\r\n      </g>\r\n     </g>\r\n    </g>\r\n    <g id=\"xtick_34\">\r\n     <g id=\"line2d_34\">\r\n      <path clip-path=\"url(#p00f71fba64)\" d=\"M 346.278723 293.589375 \r\nL 346.278723 21.789375 \r\n\" style=\"fill:none;stroke:#ffffff;stroke-linecap:round;stroke-width:0.8;\"/>\r\n     </g>\r\n     <g id=\"text_34\">\r\n      <!-- 担保本金余额 -->\r\n      <defs>\r\n       <path d=\"M 12.5 0 \r\nL 12.5 62.5 \r\nL 62.5 62.5 \r\nL 62.5 0 \r\nz\r\nM 14.0625 1.5625 \r\nL 60.9375 1.5625 \r\nL 60.9375 60.9375 \r\nL 14.0625 60.9375 \r\nz\r\n\" id=\"ArialMT-26412\"/>\r\n      </defs>\r\n      <g style=\"fill:#262626;\" transform=\"translate(348.86388 345.589375)rotate(-90)scale(0.1 -0.1)\">\r\n       <use xlink:href=\"#ArialMT-25285\"/>\r\n       <use x=\"75\" xlink:href=\"#ArialMT-20445\"/>\r\n       <use x=\"150\" xlink:href=\"#ArialMT-26412\"/>\r\n       <use x=\"225\" xlink:href=\"#ArialMT-37329\"/>\r\n       <use x=\"300\" xlink:href=\"#ArialMT-20313\"/>\r\n       <use x=\"375\" xlink:href=\"#ArialMT-39069\"/>\r\n      </g>\r\n     </g>\r\n    </g>\r\n    <g id=\"xtick_35\">\r\n     <g id=\"line2d_35\">\r\n      <path clip-path=\"url(#p00f71fba64)\" d=\"M 355.776596 293.589375 \r\nL 355.776596 21.789375 \r\n\" style=\"fill:none;stroke:#ffffff;stroke-linecap:round;stroke-width:0.8;\"/>\r\n     </g>\r\n     <g id=\"text_35\">\r\n      <!-- 单家行最高授信总额 -->\r\n      <defs>\r\n       <path d=\"M 12.5 0 \r\nL 12.5 62.5 \r\nL 62.5 62.5 \r\nL 62.5 0 \r\nz\r\nM 14.0625 1.5625 \r\nL 60.9375 1.5625 \r\nL 60.9375 60.9375 \r\nL 14.0625 60.9375 \r\nz\r\n\" id=\"ArialMT-21333\"/>\r\n       <path d=\"M 12.5 0 \r\nL 12.5 62.5 \r\nL 62.5 62.5 \r\nL 62.5 0 \r\nz\r\nM 14.0625 1.5625 \r\nL 60.9375 1.5625 \r\nL 60.9375 60.9375 \r\nL 14.0625 60.9375 \r\nz\r\n\" id=\"ArialMT-23478\"/>\r\n       <path d=\"M 12.5 0 \r\nL 12.5 62.5 \r\nL 62.5 62.5 \r\nL 62.5 0 \r\nz\r\nM 14.0625 1.5625 \r\nL 60.9375 1.5625 \r\nL 60.9375 60.9375 \r\nL 14.0625 60.9375 \r\nz\r\n\" id=\"ArialMT-34892\"/>\r\n       <path d=\"M 12.5 0 \r\nL 12.5 62.5 \r\nL 62.5 62.5 \r\nL 62.5 0 \r\nz\r\nM 14.0625 1.5625 \r\nL 60.9375 1.5625 \r\nL 60.9375 60.9375 \r\nL 14.0625 60.9375 \r\nz\r\n\" id=\"ArialMT-39640\"/>\r\n      </defs>\r\n      <g style=\"fill:#262626;\" transform=\"translate(358.361752 368.089375)rotate(-90)scale(0.1 -0.1)\">\r\n       <use xlink:href=\"#ArialMT-21333\"/>\r\n       <use x=\"75\" xlink:href=\"#ArialMT-23478\"/>\r\n       <use x=\"150\" xlink:href=\"#ArialMT-34892\"/>\r\n       <use x=\"225\" xlink:href=\"#ArialMT-26368\"/>\r\n       <use x=\"300\" xlink:href=\"#ArialMT-39640\"/>\r\n       <use x=\"375\" xlink:href=\"#ArialMT-25480\"/>\r\n       <use x=\"450\" xlink:href=\"#ArialMT-20449\"/>\r\n       <use x=\"525\" xlink:href=\"#ArialMT-24635\"/>\r\n       <use x=\"600\" xlink:href=\"#ArialMT-39069\"/>\r\n      </g>\r\n     </g>\r\n    </g>\r\n    <g id=\"xtick_36\">\r\n     <g id=\"line2d_36\">\r\n      <path clip-path=\"url(#p00f71fba64)\" d=\"M 365.274468 293.589375 \r\nL 365.274468 21.789375 \r\n\" style=\"fill:none;stroke:#ffffff;stroke-linecap:round;stroke-width:0.8;\"/>\r\n     </g>\r\n     <g id=\"text_36\">\r\n      <!-- 发卡法人机构总数 -->\r\n      <defs>\r\n       <path d=\"M 12.5 0 \r\nL 12.5 62.5 \r\nL 62.5 62.5 \r\nL 62.5 0 \r\nz\r\nM 14.0625 1.5625 \r\nL 60.9375 1.5625 \r\nL 60.9375 60.9375 \r\nL 14.0625 60.9375 \r\nz\r\n\" id=\"ArialMT-21457\"/>\r\n       <path d=\"M 12.5 0 \r\nL 12.5 62.5 \r\nL 62.5 62.5 \r\nL 62.5 0 \r\nz\r\nM 14.0625 1.5625 \r\nL 60.9375 1.5625 \r\nL 60.9375 60.9375 \r\nL 14.0625 60.9375 \r\nz\r\n\" id=\"ArialMT-27861\"/>\r\n       <path d=\"M 12.5 0 \r\nL 12.5 62.5 \r\nL 62.5 62.5 \r\nL 62.5 0 \r\nz\r\nM 14.0625 1.5625 \r\nL 60.9375 1.5625 \r\nL 60.9375 60.9375 \r\nL 14.0625 60.9375 \r\nz\r\n\" id=\"ArialMT-20154\"/>\r\n      </defs>\r\n      <g style=\"fill:#262626;\" transform=\"translate(367.859624 360.589375)rotate(-90)scale(0.1 -0.1)\">\r\n       <use xlink:href=\"#ArialMT-21457\"/>\r\n       <use x=\"75\" xlink:href=\"#ArialMT-21345\"/>\r\n       <use x=\"150\" xlink:href=\"#ArialMT-27861\"/>\r\n       <use x=\"225\" xlink:href=\"#ArialMT-20154\"/>\r\n       <use x=\"300\" xlink:href=\"#ArialMT-26426\"/>\r\n       <use x=\"375\" xlink:href=\"#ArialMT-26500\"/>\r\n       <use x=\"450\" xlink:href=\"#ArialMT-24635\"/>\r\n       <use x=\"525\" xlink:href=\"#ArialMT-25968\"/>\r\n      </g>\r\n     </g>\r\n    </g>\r\n    <g id=\"xtick_37\">\r\n     <g id=\"line2d_37\">\r\n      <path clip-path=\"url(#p00f71fba64)\" d=\"M 374.77234 293.589375 \r\nL 374.77234 21.789375 \r\n\" style=\"fill:none;stroke:#ffffff;stroke-linecap:round;stroke-width:0.8;\"/>\r\n     </g>\r\n     <g id=\"text_37\">\r\n      <!-- 平均额度 -->\r\n      <g style=\"fill:#262626;\" transform=\"translate(377.357497 330.589375)rotate(-90)scale(0.1 -0.1)\">\r\n       <use xlink:href=\"#ArialMT-24179\"/>\r\n       <use x=\"75\" xlink:href=\"#ArialMT-22343\"/>\r\n       <use x=\"150\" xlink:href=\"#ArialMT-39069\"/>\r\n       <use x=\"225\" xlink:href=\"#ArialMT-24230\"/>\r\n      </g>\r\n     </g>\r\n    </g>\r\n    <g id=\"xtick_38\">\r\n     <g id=\"line2d_38\">\r\n      <path clip-path=\"url(#p00f71fba64)\" d=\"M 384.270213 293.589375 \r\nL 384.270213 21.789375 \r\n\" style=\"fill:none;stroke:#ffffff;stroke-linecap:round;stroke-width:0.8;\"/>\r\n     </g>\r\n     <g id=\"text_38\">\r\n      <!-- 贷记透支比例 -->\r\n      <defs>\r\n       <path d=\"M 12.5 0 \r\nL 12.5 62.5 \r\nL 62.5 62.5 \r\nL 62.5 0 \r\nz\r\nM 14.0625 1.5625 \r\nL 60.9375 1.5625 \r\nL 60.9375 60.9375 \r\nL 14.0625 60.9375 \r\nz\r\n\" id=\"ArialMT-35760\"/>\r\n       <path d=\"M 12.5 0 \r\nL 12.5 62.5 \r\nL 62.5 62.5 \r\nL 62.5 0 \r\nz\r\nM 14.0625 1.5625 \r\nL 60.9375 1.5625 \r\nL 60.9375 60.9375 \r\nL 14.0625 60.9375 \r\nz\r\n\" id=\"ArialMT-27604\"/>\r\n       <path d=\"M 12.5 0 \r\nL 12.5 62.5 \r\nL 62.5 62.5 \r\nL 62.5 0 \r\nz\r\nM 14.0625 1.5625 \r\nL 60.9375 1.5625 \r\nL 60.9375 60.9375 \r\nL 14.0625 60.9375 \r\nz\r\n\" id=\"ArialMT-20363\"/>\r\n      </defs>\r\n      <g style=\"fill:#262626;\" transform=\"translate(386.855369 345.589375)rotate(-90)scale(0.1 -0.1)\">\r\n       <use xlink:href=\"#ArialMT-36151\"/>\r\n       <use x=\"75\" xlink:href=\"#ArialMT-35760\"/>\r\n       <use x=\"150\" xlink:href=\"#ArialMT-36879\"/>\r\n       <use x=\"225\" xlink:href=\"#ArialMT-25903\"/>\r\n       <use x=\"300\" xlink:href=\"#ArialMT-27604\"/>\r\n       <use x=\"375\" xlink:href=\"#ArialMT-20363\"/>\r\n      </g>\r\n     </g>\r\n    </g>\r\n    <g id=\"xtick_39\">\r\n     <g id=\"line2d_39\">\r\n      <path clip-path=\"url(#p00f71fba64)\" d=\"M 393.768085 293.589375 \r\nL 393.768085 21.789375 \r\n\" style=\"fill:none;stroke:#ffffff;stroke-linecap:round;stroke-width:0.8;\"/>\r\n     </g>\r\n     <g id=\"text_39\">\r\n      <!-- 对外担保余额 -->\r\n      <defs>\r\n       <path d=\"M 12.5 0 \r\nL 12.5 62.5 \r\nL 62.5 62.5 \r\nL 62.5 0 \r\nz\r\nM 14.0625 1.5625 \r\nL 60.9375 1.5625 \r\nL 60.9375 60.9375 \r\nL 14.0625 60.9375 \r\nz\r\n\" id=\"ArialMT-23545\"/>\r\n       <path d=\"M 12.5 0 \r\nL 12.5 62.5 \r\nL 62.5 62.5 \r\nL 62.5 0 \r\nz\r\nM 14.0625 1.5625 \r\nL 60.9375 1.5625 \r\nL 60.9375 60.9375 \r\nL 14.0625 60.9375 \r\nz\r\n\" id=\"ArialMT-22806\"/>\r\n      </defs>\r\n      <g style=\"fill:#262626;\" transform=\"translate(396.353241 345.589375)rotate(-90)scale(0.1 -0.1)\">\r\n       <use xlink:href=\"#ArialMT-23545\"/>\r\n       <use x=\"75\" xlink:href=\"#ArialMT-22806\"/>\r\n       <use x=\"150\" xlink:href=\"#ArialMT-25285\"/>\r\n       <use x=\"225\" xlink:href=\"#ArialMT-20445\"/>\r\n       <use x=\"300\" xlink:href=\"#ArialMT-20313\"/>\r\n       <use x=\"375\" xlink:href=\"#ArialMT-39069\"/>\r\n      </g>\r\n     </g>\r\n    </g>\r\n    <g id=\"xtick_40\">\r\n     <g id=\"line2d_40\">\r\n      <path clip-path=\"url(#p00f71fba64)\" d=\"M 403.265957 293.589375 \r\nL 403.265957 21.789375 \r\n\" style=\"fill:none;stroke:#ffffff;stroke-linecap:round;stroke-width:0.8;\"/>\r\n     </g>\r\n     <g id=\"text_40\">\r\n      <!-- 未结清贷款笔数 -->\r\n      <g style=\"fill:#262626;\" transform=\"translate(405.851114 353.089375)rotate(-90)scale(0.1 -0.1)\">\r\n       <use xlink:href=\"#ArialMT-26410\"/>\r\n       <use x=\"75\" xlink:href=\"#ArialMT-32467\"/>\r\n       <use x=\"150\" xlink:href=\"#ArialMT-28165\"/>\r\n       <use x=\"225\" xlink:href=\"#ArialMT-36151\"/>\r\n       <use x=\"300\" xlink:href=\"#ArialMT-27454\"/>\r\n       <use x=\"375\" xlink:href=\"#ArialMT-31508\"/>\r\n       <use x=\"450\" xlink:href=\"#ArialMT-25968\"/>\r\n      </g>\r\n     </g>\r\n    </g>\r\n    <g id=\"xtick_41\">\r\n     <g id=\"line2d_41\">\r\n      <path clip-path=\"url(#p00f71fba64)\" d=\"M 412.76383 293.589375 \r\nL 412.76383 21.789375 \r\n\" style=\"fill:none;stroke:#ffffff;stroke-linecap:round;stroke-width:0.8;\"/>\r\n     </g>\r\n     <g id=\"text_41\">\r\n      <!-- 未结清贷款余额 -->\r\n      <g style=\"fill:#262626;\" transform=\"translate(415.348986 353.089375)rotate(-90)scale(0.1 -0.1)\">\r\n       <use xlink:href=\"#ArialMT-26410\"/>\r\n       <use x=\"75\" xlink:href=\"#ArialMT-32467\"/>\r\n       <use x=\"150\" xlink:href=\"#ArialMT-28165\"/>\r\n       <use x=\"225\" xlink:href=\"#ArialMT-36151\"/>\r\n       <use x=\"300\" xlink:href=\"#ArialMT-27454\"/>\r\n       <use x=\"375\" xlink:href=\"#ArialMT-20313\"/>\r\n       <use x=\"450\" xlink:href=\"#ArialMT-39069\"/>\r\n      </g>\r\n     </g>\r\n    </g>\r\n    <g id=\"xtick_42\">\r\n     <g id=\"line2d_42\">\r\n      <path clip-path=\"url(#p00f71fba64)\" d=\"M 422.261702 293.589375 \r\nL 422.261702 21.789375 \r\n\" style=\"fill:none;stroke:#ffffff;stroke-linecap:round;stroke-width:0.8;\"/>\r\n     </g>\r\n     <g id=\"text_42\">\r\n      <!-- 贷款历史机构数 -->\r\n      <g style=\"fill:#262626;\" transform=\"translate(424.846858 353.089375)rotate(-90)scale(0.1 -0.1)\">\r\n       <use xlink:href=\"#ArialMT-36151\"/>\r\n       <use x=\"75\" xlink:href=\"#ArialMT-27454\"/>\r\n       <use x=\"150\" xlink:href=\"#ArialMT-21382\"/>\r\n       <use x=\"225\" xlink:href=\"#ArialMT-21490\"/>\r\n       <use x=\"300\" xlink:href=\"#ArialMT-26426\"/>\r\n       <use x=\"375\" xlink:href=\"#ArialMT-26500\"/>\r\n       <use x=\"450\" xlink:href=\"#ArialMT-25968\"/>\r\n      </g>\r\n     </g>\r\n    </g>\r\n    <g id=\"xtick_43\">\r\n     <g id=\"line2d_43\">\r\n      <path clip-path=\"url(#p00f71fba64)\" d=\"M 431.759574 293.589375 \r\nL 431.759574 21.789375 \r\n\" style=\"fill:none;stroke:#ffffff;stroke-linecap:round;stroke-width:0.8;\"/>\r\n     </g>\r\n     <g id=\"text_43\">\r\n      <!-- 近5年最大逾期 -->\r\n      <defs>\r\n       <path d=\"M 4.15625 18.75 \r\nL 13.375 19.53125 \r\nQ 14.40625 12.796875 18.140625 9.390625 \r\nQ 21.875 6 27.15625 6 \r\nQ 33.5 6 37.890625 10.78125 \r\nQ 42.28125 15.578125 42.28125 23.484375 \r\nQ 42.28125 31 38.0625 35.34375 \r\nQ 33.84375 39.703125 27 39.703125 \r\nQ 22.75 39.703125 19.328125 37.765625 \r\nQ 15.921875 35.84375 13.96875 32.765625 \r\nL 5.71875 33.84375 \r\nL 12.640625 70.609375 \r\nL 48.25 70.609375 \r\nL 48.25 62.203125 \r\nL 19.671875 62.203125 \r\nL 15.828125 42.96875 \r\nQ 22.265625 47.46875 29.34375 47.46875 \r\nQ 38.71875 47.46875 45.15625 40.96875 \r\nQ 51.609375 34.46875 51.609375 24.265625 \r\nQ 51.609375 14.546875 45.953125 7.46875 \r\nQ 39.0625 -1.21875 27.15625 -1.21875 \r\nQ 17.390625 -1.21875 11.203125 4.25 \r\nQ 5.03125 9.71875 4.15625 18.75 \r\nz\r\n\" id=\"ArialMT-53\"/>\r\n      </defs>\r\n      <g style=\"fill:#262626;\" transform=\"translate(434.344731 351.150313)rotate(-90)scale(0.1 -0.1)\">\r\n       <use xlink:href=\"#ArialMT-36817\"/>\r\n       <use x=\"75\" xlink:href=\"#ArialMT-53\"/>\r\n       <use x=\"130.615234\" xlink:href=\"#ArialMT-24180\"/>\r\n       <use x=\"205.615234\" xlink:href=\"#ArialMT-26368\"/>\r\n       <use x=\"280.615234\" xlink:href=\"#ArialMT-22823\"/>\r\n       <use x=\"355.615234\" xlink:href=\"#ArialMT-36926\"/>\r\n       <use x=\"430.615234\" xlink:href=\"#ArialMT-26399\"/>\r\n      </g>\r\n     </g>\r\n    </g>\r\n    <g id=\"xtick_44\">\r\n     <g id=\"line2d_44\">\r\n      <path clip-path=\"url(#p00f71fba64)\" d=\"M 441.257447 293.589375 \r\nL 441.257447 21.789375 \r\n\" style=\"fill:none;stroke:#ffffff;stroke-linecap:round;stroke-width:0.8;\"/>\r\n     </g>\r\n     <g id=\"text_44\">\r\n      <!-- 近5年累计逾期 -->\r\n      <g style=\"fill:#262626;\" transform=\"translate(443.842603 351.150313)rotate(-90)scale(0.1 -0.1)\">\r\n       <use xlink:href=\"#ArialMT-36817\"/>\r\n       <use x=\"75\" xlink:href=\"#ArialMT-53\"/>\r\n       <use x=\"130.615234\" xlink:href=\"#ArialMT-24180\"/>\r\n       <use x=\"205.615234\" xlink:href=\"#ArialMT-32047\"/>\r\n       <use x=\"280.615234\" xlink:href=\"#ArialMT-35745\"/>\r\n       <use x=\"355.615234\" xlink:href=\"#ArialMT-36926\"/>\r\n       <use x=\"430.615234\" xlink:href=\"#ArialMT-26399\"/>\r\n      </g>\r\n     </g>\r\n    </g>\r\n    <g id=\"xtick_45\">\r\n     <g id=\"line2d_45\">\r\n      <path clip-path=\"url(#p00f71fba64)\" d=\"M 450.755319 293.589375 \r\nL 450.755319 21.789375 \r\n\" style=\"fill:none;stroke:#ffffff;stroke-linecap:round;stroke-width:0.8;\"/>\r\n     </g>\r\n     <g id=\"text_45\">\r\n      <!-- 贷款总笔数 -->\r\n      <g style=\"fill:#262626;\" transform=\"translate(453.340475 338.089375)rotate(-90)scale(0.1 -0.1)\">\r\n       <use xlink:href=\"#ArialMT-36151\"/>\r\n       <use x=\"75\" xlink:href=\"#ArialMT-27454\"/>\r\n       <use x=\"150\" xlink:href=\"#ArialMT-24635\"/>\r\n       <use x=\"225\" xlink:href=\"#ArialMT-31508\"/>\r\n       <use x=\"300\" xlink:href=\"#ArialMT-25968\"/>\r\n      </g>\r\n     </g>\r\n    </g>\r\n    <g id=\"xtick_46\">\r\n     <g id=\"line2d_46\">\r\n      <path clip-path=\"url(#p00f71fba64)\" d=\"M 460.253191 293.589375 \r\nL 460.253191 21.789375 \r\n\" style=\"fill:none;stroke:#ffffff;stroke-linecap:round;stroke-width:0.8;\"/>\r\n     </g>\r\n     <g id=\"text_46\">\r\n      <!-- 贷款总额 -->\r\n      <g style=\"fill:#262626;\" transform=\"translate(462.838348 330.589375)rotate(-90)scale(0.1 -0.1)\">\r\n       <use xlink:href=\"#ArialMT-36151\"/>\r\n       <use x=\"75\" xlink:href=\"#ArialMT-27454\"/>\r\n       <use x=\"150\" xlink:href=\"#ArialMT-24635\"/>\r\n       <use x=\"225\" xlink:href=\"#ArialMT-39069\"/>\r\n      </g>\r\n     </g>\r\n    </g>\r\n    <g id=\"xtick_47\">\r\n     <g id=\"line2d_47\">\r\n      <path clip-path=\"url(#p00f71fba64)\" d=\"M 469.751064 293.589375 \r\nL 469.751064 21.789375 \r\n\" style=\"fill:none;stroke:#ffffff;stroke-linecap:round;stroke-width:0.8;\"/>\r\n     </g>\r\n     <g id=\"text_47\">\r\n      <!-- 贷款最大剩余月数 -->\r\n      <defs>\r\n       <path d=\"M 12.5 0 \r\nL 12.5 62.5 \r\nL 62.5 62.5 \r\nL 62.5 0 \r\nz\r\nM 14.0625 1.5625 \r\nL 60.9375 1.5625 \r\nL 60.9375 60.9375 \r\nL 14.0625 60.9375 \r\nz\r\n\" id=\"ArialMT-21097\"/>\r\n      </defs>\r\n      <g style=\"fill:#262626;\" transform=\"translate(472.33622 360.589375)rotate(-90)scale(0.1 -0.1)\">\r\n       <use xlink:href=\"#ArialMT-36151\"/>\r\n       <use x=\"75\" xlink:href=\"#ArialMT-27454\"/>\r\n       <use x=\"150\" xlink:href=\"#ArialMT-26368\"/>\r\n       <use x=\"225\" xlink:href=\"#ArialMT-22823\"/>\r\n       <use x=\"300\" xlink:href=\"#ArialMT-21097\"/>\r\n       <use x=\"375\" xlink:href=\"#ArialMT-20313\"/>\r\n       <use x=\"450\" xlink:href=\"#ArialMT-26376\"/>\r\n       <use x=\"525\" xlink:href=\"#ArialMT-25968\"/>\r\n      </g>\r\n     </g>\r\n    </g>\r\n    <g id=\"xtick_48\">\r\n     <g id=\"line2d_48\">\r\n      <path clip-path=\"url(#p00f71fba64)\" d=\"M 479.248936 293.589375 \r\nL 479.248936 21.789375 \r\n\" style=\"fill:none;stroke:#ffffff;stroke-linecap:round;stroke-width:0.8;\"/>\r\n     </g>\r\n     <g id=\"text_48\">\r\n      <!-- 贷款最大还款月数 -->\r\n      <defs>\r\n       <path d=\"M 12.5 0 \r\nL 12.5 62.5 \r\nL 62.5 62.5 \r\nL 62.5 0 \r\nz\r\nM 14.0625 1.5625 \r\nL 60.9375 1.5625 \r\nL 60.9375 60.9375 \r\nL 14.0625 60.9375 \r\nz\r\n\" id=\"ArialMT-36824\"/>\r\n      </defs>\r\n      <g style=\"fill:#262626;\" transform=\"translate(481.834092 360.589375)rotate(-90)scale(0.1 -0.1)\">\r\n       <use xlink:href=\"#ArialMT-36151\"/>\r\n       <use x=\"75\" xlink:href=\"#ArialMT-27454\"/>\r\n       <use x=\"150\" xlink:href=\"#ArialMT-26368\"/>\r\n       <use x=\"225\" xlink:href=\"#ArialMT-22823\"/>\r\n       <use x=\"300\" xlink:href=\"#ArialMT-36824\"/>\r\n       <use x=\"375\" xlink:href=\"#ArialMT-27454\"/>\r\n       <use x=\"450\" xlink:href=\"#ArialMT-26376\"/>\r\n       <use x=\"525\" xlink:href=\"#ArialMT-25968\"/>\r\n      </g>\r\n     </g>\r\n    </g>\r\n    <g id=\"xtick_49\">\r\n     <g id=\"line2d_49\">\r\n      <path clip-path=\"url(#p00f71fba64)\" d=\"M 488.746809 293.589375 \r\nL 488.746809 21.789375 \r\n\" style=\"fill:none;stroke:#ffffff;stroke-linecap:round;stroke-width:0.8;\"/>\r\n     </g>\r\n     <g id=\"text_49\">\r\n      <!-- 住房贷款占比 -->\r\n      <defs>\r\n       <path d=\"M 12.5 0 \r\nL 12.5 62.5 \r\nL 62.5 62.5 \r\nL 62.5 0 \r\nz\r\nM 14.0625 1.5625 \r\nL 60.9375 1.5625 \r\nL 60.9375 60.9375 \r\nL 14.0625 60.9375 \r\nz\r\n\" id=\"ArialMT-20303\"/>\r\n       <path d=\"M 12.5 0 \r\nL 12.5 62.5 \r\nL 62.5 62.5 \r\nL 62.5 0 \r\nz\r\nM 14.0625 1.5625 \r\nL 60.9375 1.5625 \r\nL 60.9375 60.9375 \r\nL 14.0625 60.9375 \r\nz\r\n\" id=\"ArialMT-25151\"/>\r\n       <path d=\"M 12.5 0 \r\nL 12.5 62.5 \r\nL 62.5 62.5 \r\nL 62.5 0 \r\nz\r\nM 14.0625 1.5625 \r\nL 60.9375 1.5625 \r\nL 60.9375 60.9375 \r\nL 14.0625 60.9375 \r\nz\r\n\" id=\"ArialMT-21344\"/>\r\n      </defs>\r\n      <g style=\"fill:#262626;\" transform=\"translate(491.331965 345.589375)rotate(-90)scale(0.1 -0.1)\">\r\n       <use xlink:href=\"#ArialMT-20303\"/>\r\n       <use x=\"75\" xlink:href=\"#ArialMT-25151\"/>\r\n       <use x=\"150\" xlink:href=\"#ArialMT-36151\"/>\r\n       <use x=\"225\" xlink:href=\"#ArialMT-27454\"/>\r\n       <use x=\"300\" xlink:href=\"#ArialMT-21344\"/>\r\n       <use x=\"375\" xlink:href=\"#ArialMT-27604\"/>\r\n      </g>\r\n     </g>\r\n    </g>\r\n    <g id=\"xtick_50\">\r\n     <g id=\"line2d_50\">\r\n      <path clip-path=\"url(#p00f71fba64)\" d=\"M 498.244681 293.589375 \r\nL 498.244681 21.789375 \r\n\" style=\"fill:none;stroke:#ffffff;stroke-linecap:round;stroke-width:0.8;\"/>\r\n     </g>\r\n     <g id=\"text_50\">\r\n      <!-- 贷记卡最近一次M0距今月数 -->\r\n      <defs>\r\n       <path d=\"M 7.421875 0 \r\nL 7.421875 71.578125 \r\nL 21.6875 71.578125 \r\nL 38.625 20.90625 \r\nQ 40.96875 13.8125 42.046875 10.296875 \r\nQ 43.265625 14.203125 45.84375 21.78125 \r\nL 62.984375 71.578125 \r\nL 75.734375 71.578125 \r\nL 75.734375 0 \r\nL 66.609375 0 \r\nL 66.609375 59.90625 \r\nL 45.796875 0 \r\nL 37.25 0 \r\nL 16.546875 60.9375 \r\nL 16.546875 0 \r\nz\r\n\" id=\"ArialMT-77\"/>\r\n       <path d=\"M 4.15625 35.296875 \r\nQ 4.15625 48 6.765625 55.734375 \r\nQ 9.375 63.484375 14.515625 67.671875 \r\nQ 19.671875 71.875 27.484375 71.875 \r\nQ 33.25 71.875 37.59375 69.546875 \r\nQ 41.9375 67.234375 44.765625 62.859375 \r\nQ 47.609375 58.5 49.21875 52.21875 \r\nQ 50.828125 45.953125 50.828125 35.296875 \r\nQ 50.828125 22.703125 48.234375 14.96875 \r\nQ 45.65625 7.234375 40.5 3 \r\nQ 35.359375 -1.21875 27.484375 -1.21875 \r\nQ 17.140625 -1.21875 11.234375 6.203125 \r\nQ 4.15625 15.140625 4.15625 35.296875 \r\nz\r\nM 13.1875 35.296875 \r\nQ 13.1875 17.671875 17.3125 11.828125 \r\nQ 21.4375 6 27.484375 6 \r\nQ 33.546875 6 37.671875 11.859375 \r\nQ 41.796875 17.71875 41.796875 35.296875 \r\nQ 41.796875 52.984375 37.671875 58.78125 \r\nQ 33.546875 64.59375 27.390625 64.59375 \r\nQ 21.34375 64.59375 17.71875 59.46875 \r\nQ 13.1875 52.9375 13.1875 35.296875 \r\nz\r\n\" id=\"ArialMT-48\"/>\r\n      </defs>\r\n      <g style=\"fill:#262626;\" transform=\"translate(500.829837 396.98)rotate(-90)scale(0.1 -0.1)\">\r\n       <use xlink:href=\"#ArialMT-36151\"/>\r\n       <use x=\"75\" xlink:href=\"#ArialMT-35760\"/>\r\n       <use x=\"150\" xlink:href=\"#ArialMT-21345\"/>\r\n       <use x=\"225\" xlink:href=\"#ArialMT-26368\"/>\r\n       <use x=\"300\" xlink:href=\"#ArialMT-36817\"/>\r\n       <use x=\"375\" xlink:href=\"#ArialMT-19968\"/>\r\n       <use x=\"450\" xlink:href=\"#ArialMT-27425\"/>\r\n       <use x=\"525\" xlink:href=\"#ArialMT-77\"/>\r\n       <use x=\"608.300781\" xlink:href=\"#ArialMT-48\"/>\r\n       <use x=\"663.916016\" xlink:href=\"#ArialMT-36317\"/>\r\n       <use x=\"738.916016\" xlink:href=\"#ArialMT-20170\"/>\r\n       <use x=\"813.916016\" xlink:href=\"#ArialMT-26376\"/>\r\n       <use x=\"888.916016\" xlink:href=\"#ArialMT-25968\"/>\r\n      </g>\r\n     </g>\r\n    </g>\r\n    <g id=\"xtick_51\">\r\n     <g id=\"line2d_51\">\r\n      <path clip-path=\"url(#p00f71fba64)\" d=\"M 507.742553 293.589375 \r\nL 507.742553 21.789375 \r\n\" style=\"fill:none;stroke:#ffffff;stroke-linecap:round;stroke-width:0.8;\"/>\r\n     </g>\r\n     <g id=\"text_51\">\r\n      <!-- 贷记卡最近一次M1及以上距今月数 -->\r\n      <defs>\r\n       <path d=\"M 12.5 0 \r\nL 12.5 62.5 \r\nL 62.5 62.5 \r\nL 62.5 0 \r\nz\r\nM 14.0625 1.5625 \r\nL 60.9375 1.5625 \r\nL 60.9375 60.9375 \r\nL 14.0625 60.9375 \r\nz\r\n\" id=\"ArialMT-21450\"/>\r\n       <path d=\"M 12.5 0 \r\nL 12.5 62.5 \r\nL 62.5 62.5 \r\nL 62.5 0 \r\nz\r\nM 14.0625 1.5625 \r\nL 60.9375 1.5625 \r\nL 60.9375 60.9375 \r\nL 14.0625 60.9375 \r\nz\r\n\" id=\"ArialMT-20197\"/>\r\n       <path d=\"M 12.5 0 \r\nL 12.5 62.5 \r\nL 62.5 62.5 \r\nL 62.5 0 \r\nz\r\nM 14.0625 1.5625 \r\nL 60.9375 1.5625 \r\nL 60.9375 60.9375 \r\nL 14.0625 60.9375 \r\nz\r\n\" id=\"ArialMT-19978\"/>\r\n      </defs>\r\n      <g style=\"fill:#262626;\" transform=\"translate(510.327709 419.48)rotate(-90)scale(0.1 -0.1)\">\r\n       <use xlink:href=\"#ArialMT-36151\"/>\r\n       <use x=\"75\" xlink:href=\"#ArialMT-35760\"/>\r\n       <use x=\"150\" xlink:href=\"#ArialMT-21345\"/>\r\n       <use x=\"225\" xlink:href=\"#ArialMT-26368\"/>\r\n       <use x=\"300\" xlink:href=\"#ArialMT-36817\"/>\r\n       <use x=\"375\" xlink:href=\"#ArialMT-19968\"/>\r\n       <use x=\"450\" xlink:href=\"#ArialMT-27425\"/>\r\n       <use x=\"525\" xlink:href=\"#ArialMT-77\"/>\r\n       <use x=\"608.300781\" xlink:href=\"#ArialMT-49\"/>\r\n       <use x=\"663.916016\" xlink:href=\"#ArialMT-21450\"/>\r\n       <use x=\"738.916016\" xlink:href=\"#ArialMT-20197\"/>\r\n       <use x=\"813.916016\" xlink:href=\"#ArialMT-19978\"/>\r\n       <use x=\"888.916016\" xlink:href=\"#ArialMT-36317\"/>\r\n       <use x=\"963.916016\" xlink:href=\"#ArialMT-20170\"/>\r\n       <use x=\"1038.916016\" xlink:href=\"#ArialMT-26376\"/>\r\n       <use x=\"1113.916016\" xlink:href=\"#ArialMT-25968\"/>\r\n      </g>\r\n     </g>\r\n    </g>\r\n    <g id=\"xtick_52\">\r\n     <g id=\"line2d_52\">\r\n      <path clip-path=\"url(#p00f71fba64)\" d=\"M 517.240426 293.589375 \r\nL 517.240426 21.789375 \r\n\" style=\"fill:none;stroke:#ffffff;stroke-linecap:round;stroke-width:0.8;\"/>\r\n     </g>\r\n     <g id=\"text_52\">\r\n      <!-- 贷款三个月内M1次数 -->\r\n      <defs>\r\n       <path d=\"M 12.5 0 \r\nL 12.5 62.5 \r\nL 62.5 62.5 \r\nL 62.5 0 \r\nz\r\nM 14.0625 1.5625 \r\nL 60.9375 1.5625 \r\nL 60.9375 60.9375 \r\nL 14.0625 60.9375 \r\nz\r\n\" id=\"ArialMT-19977\"/>\r\n      </defs>\r\n      <g style=\"fill:#262626;\" transform=\"translate(519.825582 374.48)rotate(-90)scale(0.1 -0.1)\">\r\n       <use xlink:href=\"#ArialMT-36151\"/>\r\n       <use x=\"75\" xlink:href=\"#ArialMT-27454\"/>\r\n       <use x=\"150\" xlink:href=\"#ArialMT-19977\"/>\r\n       <use x=\"225\" xlink:href=\"#ArialMT-20010\"/>\r\n       <use x=\"300\" xlink:href=\"#ArialMT-26376\"/>\r\n       <use x=\"375\" xlink:href=\"#ArialMT-20869\"/>\r\n       <use x=\"450\" xlink:href=\"#ArialMT-77\"/>\r\n       <use x=\"533.300781\" xlink:href=\"#ArialMT-49\"/>\r\n       <use x=\"588.916016\" xlink:href=\"#ArialMT-27425\"/>\r\n       <use x=\"663.916016\" xlink:href=\"#ArialMT-25968\"/>\r\n      </g>\r\n     </g>\r\n    </g>\r\n    <g id=\"xtick_53\">\r\n     <g id=\"line2d_53\">\r\n      <path clip-path=\"url(#p00f71fba64)\" d=\"M 526.738298 293.589375 \r\nL 526.738298 21.789375 \r\n\" style=\"fill:none;stroke:#ffffff;stroke-linecap:round;stroke-width:0.8;\"/>\r\n     </g>\r\n     <g id=\"text_53\">\r\n      <!-- 贷款三个月内M2次数 -->\r\n      <g style=\"fill:#262626;\" transform=\"translate(529.323454 374.48)rotate(-90)scale(0.1 -0.1)\">\r\n       <use xlink:href=\"#ArialMT-36151\"/>\r\n       <use x=\"75\" xlink:href=\"#ArialMT-27454\"/>\r\n       <use x=\"150\" xlink:href=\"#ArialMT-19977\"/>\r\n       <use x=\"225\" xlink:href=\"#ArialMT-20010\"/>\r\n       <use x=\"300\" xlink:href=\"#ArialMT-26376\"/>\r\n       <use x=\"375\" xlink:href=\"#ArialMT-20869\"/>\r\n       <use x=\"450\" xlink:href=\"#ArialMT-77\"/>\r\n       <use x=\"533.300781\" xlink:href=\"#ArialMT-50\"/>\r\n       <use x=\"588.916016\" xlink:href=\"#ArialMT-27425\"/>\r\n       <use x=\"663.916016\" xlink:href=\"#ArialMT-25968\"/>\r\n      </g>\r\n     </g>\r\n    </g>\r\n    <g id=\"xtick_54\">\r\n     <g id=\"line2d_54\">\r\n      <path clip-path=\"url(#p00f71fba64)\" d=\"M 536.23617 293.589375 \r\nL 536.23617 21.789375 \r\n\" style=\"fill:none;stroke:#ffffff;stroke-linecap:round;stroke-width:0.8;\"/>\r\n     </g>\r\n     <g id=\"text_54\">\r\n      <!-- 贷款三个月内M3次数 -->\r\n      <g style=\"fill:#262626;\" transform=\"translate(538.821326 374.48)rotate(-90)scale(0.1 -0.1)\">\r\n       <use xlink:href=\"#ArialMT-36151\"/>\r\n       <use x=\"75\" xlink:href=\"#ArialMT-27454\"/>\r\n       <use x=\"150\" xlink:href=\"#ArialMT-19977\"/>\r\n       <use x=\"225\" xlink:href=\"#ArialMT-20010\"/>\r\n       <use x=\"300\" xlink:href=\"#ArialMT-26376\"/>\r\n       <use x=\"375\" xlink:href=\"#ArialMT-20869\"/>\r\n       <use x=\"450\" xlink:href=\"#ArialMT-77\"/>\r\n       <use x=\"533.300781\" xlink:href=\"#ArialMT-51\"/>\r\n       <use x=\"588.916016\" xlink:href=\"#ArialMT-27425\"/>\r\n       <use x=\"663.916016\" xlink:href=\"#ArialMT-25968\"/>\r\n      </g>\r\n     </g>\r\n    </g>\r\n    <g id=\"xtick_55\">\r\n     <g id=\"line2d_55\">\r\n      <path clip-path=\"url(#p00f71fba64)\" d=\"M 545.734043 293.589375 \r\nL 545.734043 21.789375 \r\n\" style=\"fill:none;stroke:#ffffff;stroke-linecap:round;stroke-width:0.8;\"/>\r\n     </g>\r\n     <g id=\"text_55\">\r\n      <!-- 贷款六个月内M1次数 -->\r\n      <defs>\r\n       <path d=\"M 12.5 0 \r\nL 12.5 62.5 \r\nL 62.5 62.5 \r\nL 62.5 0 \r\nz\r\nM 14.0625 1.5625 \r\nL 60.9375 1.5625 \r\nL 60.9375 60.9375 \r\nL 14.0625 60.9375 \r\nz\r\n\" id=\"ArialMT-20845\"/>\r\n      </defs>\r\n      <g style=\"fill:#262626;\" transform=\"translate(548.319199 374.48)rotate(-90)scale(0.1 -0.1)\">\r\n       <use xlink:href=\"#ArialMT-36151\"/>\r\n       <use x=\"75\" xlink:href=\"#ArialMT-27454\"/>\r\n       <use x=\"150\" xlink:href=\"#ArialMT-20845\"/>\r\n       <use x=\"225\" xlink:href=\"#ArialMT-20010\"/>\r\n       <use x=\"300\" xlink:href=\"#ArialMT-26376\"/>\r\n       <use x=\"375\" xlink:href=\"#ArialMT-20869\"/>\r\n       <use x=\"450\" xlink:href=\"#ArialMT-77\"/>\r\n       <use x=\"533.300781\" xlink:href=\"#ArialMT-49\"/>\r\n       <use x=\"588.916016\" xlink:href=\"#ArialMT-27425\"/>\r\n       <use x=\"663.916016\" xlink:href=\"#ArialMT-25968\"/>\r\n      </g>\r\n     </g>\r\n    </g>\r\n    <g id=\"xtick_56\">\r\n     <g id=\"line2d_56\">\r\n      <path clip-path=\"url(#p00f71fba64)\" d=\"M 555.231915 293.589375 \r\nL 555.231915 21.789375 \r\n\" style=\"fill:none;stroke:#ffffff;stroke-linecap:round;stroke-width:0.8;\"/>\r\n     </g>\r\n     <g id=\"text_56\">\r\n      <!-- 贷款六个月内M2次数 -->\r\n      <g style=\"fill:#262626;\" transform=\"translate(557.817071 374.48)rotate(-90)scale(0.1 -0.1)\">\r\n       <use xlink:href=\"#ArialMT-36151\"/>\r\n       <use x=\"75\" xlink:href=\"#ArialMT-27454\"/>\r\n       <use x=\"150\" xlink:href=\"#ArialMT-20845\"/>\r\n       <use x=\"225\" xlink:href=\"#ArialMT-20010\"/>\r\n       <use x=\"300\" xlink:href=\"#ArialMT-26376\"/>\r\n       <use x=\"375\" xlink:href=\"#ArialMT-20869\"/>\r\n       <use x=\"450\" xlink:href=\"#ArialMT-77\"/>\r\n       <use x=\"533.300781\" xlink:href=\"#ArialMT-50\"/>\r\n       <use x=\"588.916016\" xlink:href=\"#ArialMT-27425\"/>\r\n       <use x=\"663.916016\" xlink:href=\"#ArialMT-25968\"/>\r\n      </g>\r\n     </g>\r\n    </g>\r\n    <g id=\"xtick_57\">\r\n     <g id=\"line2d_57\">\r\n      <path clip-path=\"url(#p00f71fba64)\" d=\"M 564.729787 293.589375 \r\nL 564.729787 21.789375 \r\n\" style=\"fill:none;stroke:#ffffff;stroke-linecap:round;stroke-width:0.8;\"/>\r\n     </g>\r\n     <g id=\"text_57\">\r\n      <!-- 贷款六个月内M3次数 -->\r\n      <g style=\"fill:#262626;\" transform=\"translate(567.314943 374.48)rotate(-90)scale(0.1 -0.1)\">\r\n       <use xlink:href=\"#ArialMT-36151\"/>\r\n       <use x=\"75\" xlink:href=\"#ArialMT-27454\"/>\r\n       <use x=\"150\" xlink:href=\"#ArialMT-20845\"/>\r\n       <use x=\"225\" xlink:href=\"#ArialMT-20010\"/>\r\n       <use x=\"300\" xlink:href=\"#ArialMT-26376\"/>\r\n       <use x=\"375\" xlink:href=\"#ArialMT-20869\"/>\r\n       <use x=\"450\" xlink:href=\"#ArialMT-77\"/>\r\n       <use x=\"533.300781\" xlink:href=\"#ArialMT-51\"/>\r\n       <use x=\"588.916016\" xlink:href=\"#ArialMT-27425\"/>\r\n       <use x=\"663.916016\" xlink:href=\"#ArialMT-25968\"/>\r\n      </g>\r\n     </g>\r\n    </g>\r\n    <g id=\"xtick_58\">\r\n     <g id=\"line2d_58\">\r\n      <path clip-path=\"url(#p00f71fba64)\" d=\"M 574.22766 293.589375 \r\nL 574.22766 21.789375 \r\n\" style=\"fill:none;stroke:#ffffff;stroke-linecap:round;stroke-width:0.8;\"/>\r\n     </g>\r\n     <g id=\"text_58\">\r\n      <!-- 贷款十二个月内M1次数 -->\r\n      <g style=\"fill:#262626;\" transform=\"translate(576.812816 381.98)rotate(-90)scale(0.1 -0.1)\">\r\n       <use xlink:href=\"#ArialMT-36151\"/>\r\n       <use x=\"75\" xlink:href=\"#ArialMT-27454\"/>\r\n       <use x=\"150\" xlink:href=\"#ArialMT-21313\"/>\r\n       <use x=\"225\" xlink:href=\"#ArialMT-20108\"/>\r\n       <use x=\"300\" xlink:href=\"#ArialMT-20010\"/>\r\n       <use x=\"375\" xlink:href=\"#ArialMT-26376\"/>\r\n       <use x=\"450\" xlink:href=\"#ArialMT-20869\"/>\r\n       <use x=\"525\" xlink:href=\"#ArialMT-77\"/>\r\n       <use x=\"608.300781\" xlink:href=\"#ArialMT-49\"/>\r\n       <use x=\"663.916016\" xlink:href=\"#ArialMT-27425\"/>\r\n       <use x=\"738.916016\" xlink:href=\"#ArialMT-25968\"/>\r\n      </g>\r\n     </g>\r\n    </g>\r\n    <g id=\"xtick_59\">\r\n     <g id=\"line2d_59\">\r\n      <path clip-path=\"url(#p00f71fba64)\" d=\"M 583.725532 293.589375 \r\nL 583.725532 21.789375 \r\n\" style=\"fill:none;stroke:#ffffff;stroke-linecap:round;stroke-width:0.8;\"/>\r\n     </g>\r\n     <g id=\"text_59\">\r\n      <!-- 贷款十二个月内M2次数 -->\r\n      <g style=\"fill:#262626;\" transform=\"translate(586.310688 381.98)rotate(-90)scale(0.1 -0.1)\">\r\n       <use xlink:href=\"#ArialMT-36151\"/>\r\n       <use x=\"75\" xlink:href=\"#ArialMT-27454\"/>\r\n       <use x=\"150\" xlink:href=\"#ArialMT-21313\"/>\r\n       <use x=\"225\" xlink:href=\"#ArialMT-20108\"/>\r\n       <use x=\"300\" xlink:href=\"#ArialMT-20010\"/>\r\n       <use x=\"375\" xlink:href=\"#ArialMT-26376\"/>\r\n       <use x=\"450\" xlink:href=\"#ArialMT-20869\"/>\r\n       <use x=\"525\" xlink:href=\"#ArialMT-77\"/>\r\n       <use x=\"608.300781\" xlink:href=\"#ArialMT-50\"/>\r\n       <use x=\"663.916016\" xlink:href=\"#ArialMT-27425\"/>\r\n       <use x=\"738.916016\" xlink:href=\"#ArialMT-25968\"/>\r\n      </g>\r\n     </g>\r\n    </g>\r\n    <g id=\"xtick_60\">\r\n     <g id=\"line2d_60\">\r\n      <path clip-path=\"url(#p00f71fba64)\" d=\"M 593.223404 293.589375 \r\nL 593.223404 21.789375 \r\n\" style=\"fill:none;stroke:#ffffff;stroke-linecap:round;stroke-width:0.8;\"/>\r\n     </g>\r\n     <g id=\"text_60\">\r\n      <!-- 贷款十二个月内M3次数 -->\r\n      <g style=\"fill:#262626;\" transform=\"translate(595.808561 381.98)rotate(-90)scale(0.1 -0.1)\">\r\n       <use xlink:href=\"#ArialMT-36151\"/>\r\n       <use x=\"75\" xlink:href=\"#ArialMT-27454\"/>\r\n       <use x=\"150\" xlink:href=\"#ArialMT-21313\"/>\r\n       <use x=\"225\" xlink:href=\"#ArialMT-20108\"/>\r\n       <use x=\"300\" xlink:href=\"#ArialMT-20010\"/>\r\n       <use x=\"375\" xlink:href=\"#ArialMT-26376\"/>\r\n       <use x=\"450\" xlink:href=\"#ArialMT-20869\"/>\r\n       <use x=\"525\" xlink:href=\"#ArialMT-77\"/>\r\n       <use x=\"608.300781\" xlink:href=\"#ArialMT-51\"/>\r\n       <use x=\"663.916016\" xlink:href=\"#ArialMT-27425\"/>\r\n       <use x=\"738.916016\" xlink:href=\"#ArialMT-25968\"/>\r\n      </g>\r\n     </g>\r\n    </g>\r\n    <g id=\"xtick_61\">\r\n     <g id=\"line2d_61\">\r\n      <path clip-path=\"url(#p00f71fba64)\" d=\"M 602.721277 293.589375 \r\nL 602.721277 21.789375 \r\n\" style=\"fill:none;stroke:#ffffff;stroke-linecap:round;stroke-width:0.8;\"/>\r\n     </g>\r\n     <g id=\"text_61\">\r\n      <!-- mr_近3月累计逾期 -->\r\n      <defs>\r\n       <path d=\"M 6.59375 0 \r\nL 6.59375 51.859375 \r\nL 14.453125 51.859375 \r\nL 14.453125 44.578125 \r\nQ 16.890625 48.390625 20.9375 50.703125 \r\nQ 25 53.03125 30.171875 53.03125 \r\nQ 35.9375 53.03125 39.625 50.640625 \r\nQ 43.3125 48.25 44.828125 43.953125 \r\nQ 50.984375 53.03125 60.84375 53.03125 \r\nQ 68.5625 53.03125 72.703125 48.75 \r\nQ 76.859375 44.484375 76.859375 35.59375 \r\nL 76.859375 0 \r\nL 68.109375 0 \r\nL 68.109375 32.671875 \r\nQ 68.109375 37.9375 67.25 40.25 \r\nQ 66.40625 42.578125 64.15625 43.984375 \r\nQ 61.921875 45.40625 58.890625 45.40625 \r\nQ 53.421875 45.40625 49.796875 41.765625 \r\nQ 46.1875 38.140625 46.1875 30.125 \r\nL 46.1875 0 \r\nL 37.40625 0 \r\nL 37.40625 33.6875 \r\nQ 37.40625 39.546875 35.25 42.46875 \r\nQ 33.109375 45.40625 28.21875 45.40625 \r\nQ 24.515625 45.40625 21.359375 43.453125 \r\nQ 18.21875 41.5 16.796875 37.734375 \r\nQ 15.375 33.984375 15.375 26.90625 \r\nL 15.375 0 \r\nz\r\n\" id=\"ArialMT-109\"/>\r\n       <path d=\"M 6.5 0 \r\nL 6.5 51.859375 \r\nL 14.40625 51.859375 \r\nL 14.40625 44 \r\nQ 17.4375 49.515625 20 51.265625 \r\nQ 22.5625 53.03125 25.640625 53.03125 \r\nQ 30.078125 53.03125 34.671875 50.203125 \r\nL 31.640625 42.046875 \r\nQ 28.421875 43.953125 25.203125 43.953125 \r\nQ 22.3125 43.953125 20.015625 42.21875 \r\nQ 17.71875 40.484375 16.75 37.40625 \r\nQ 15.28125 32.71875 15.28125 27.15625 \r\nL 15.28125 0 \r\nz\r\n\" id=\"ArialMT-114\"/>\r\n       <path d=\"M -1.515625 -19.875 \r\nL -1.515625 -13.53125 \r\nL 56.734375 -13.53125 \r\nL 56.734375 -19.875 \r\nz\r\n\" id=\"ArialMT-95\"/>\r\n      </defs>\r\n      <g style=\"fill:#262626;\" transform=\"translate(605.321277 368.370625)rotate(-90)scale(0.1 -0.1)\">\r\n       <use xlink:href=\"#ArialMT-109\"/>\r\n       <use x=\"83.300781\" xlink:href=\"#ArialMT-114\"/>\r\n       <use x=\"116.601562\" xlink:href=\"#ArialMT-95\"/>\r\n       <use x=\"172.216797\" xlink:href=\"#ArialMT-36817\"/>\r\n       <use x=\"247.216797\" xlink:href=\"#ArialMT-51\"/>\r\n       <use x=\"302.832031\" xlink:href=\"#ArialMT-26376\"/>\r\n       <use x=\"377.832031\" xlink:href=\"#ArialMT-32047\"/>\r\n       <use x=\"452.832031\" xlink:href=\"#ArialMT-35745\"/>\r\n       <use x=\"527.832031\" xlink:href=\"#ArialMT-36926\"/>\r\n       <use x=\"602.832031\" xlink:href=\"#ArialMT-26399\"/>\r\n      </g>\r\n     </g>\r\n    </g>\r\n    <g id=\"xtick_62\">\r\n     <g id=\"line2d_62\">\r\n      <path clip-path=\"url(#p00f71fba64)\" d=\"M 612.219149 293.589375 \r\nL 612.219149 21.789375 \r\n\" style=\"fill:none;stroke:#ffffff;stroke-linecap:round;stroke-width:0.8;\"/>\r\n     </g>\r\n     <g id=\"text_62\">\r\n      <!-- mr_近6月累计逾期 -->\r\n      <g style=\"fill:#262626;\" transform=\"translate(614.819149 368.370625)rotate(-90)scale(0.1 -0.1)\">\r\n       <use xlink:href=\"#ArialMT-109\"/>\r\n       <use x=\"83.300781\" xlink:href=\"#ArialMT-114\"/>\r\n       <use x=\"116.601562\" xlink:href=\"#ArialMT-95\"/>\r\n       <use x=\"172.216797\" xlink:href=\"#ArialMT-36817\"/>\r\n       <use x=\"247.216797\" xlink:href=\"#ArialMT-54\"/>\r\n       <use x=\"302.832031\" xlink:href=\"#ArialMT-26376\"/>\r\n       <use x=\"377.832031\" xlink:href=\"#ArialMT-32047\"/>\r\n       <use x=\"452.832031\" xlink:href=\"#ArialMT-35745\"/>\r\n       <use x=\"527.832031\" xlink:href=\"#ArialMT-36926\"/>\r\n       <use x=\"602.832031\" xlink:href=\"#ArialMT-26399\"/>\r\n      </g>\r\n     </g>\r\n    </g>\r\n    <g id=\"xtick_63\">\r\n     <g id=\"line2d_63\">\r\n      <path clip-path=\"url(#p00f71fba64)\" d=\"M 621.717021 293.589375 \r\nL 621.717021 21.789375 \r\n\" style=\"fill:none;stroke:#ffffff;stroke-linecap:round;stroke-width:0.8;\"/>\r\n     </g>\r\n     <g id=\"text_63\">\r\n      <!-- mr_近12月累计逾期 -->\r\n      <g style=\"fill:#262626;\" transform=\"translate(624.317021 373.931563)rotate(-90)scale(0.1 -0.1)\">\r\n       <use xlink:href=\"#ArialMT-109\"/>\r\n       <use x=\"83.300781\" xlink:href=\"#ArialMT-114\"/>\r\n       <use x=\"116.601562\" xlink:href=\"#ArialMT-95\"/>\r\n       <use x=\"172.216797\" xlink:href=\"#ArialMT-36817\"/>\r\n       <use x=\"247.216797\" xlink:href=\"#ArialMT-49\"/>\r\n       <use x=\"302.832031\" xlink:href=\"#ArialMT-50\"/>\r\n       <use x=\"358.447266\" xlink:href=\"#ArialMT-26376\"/>\r\n       <use x=\"433.447266\" xlink:href=\"#ArialMT-32047\"/>\r\n       <use x=\"508.447266\" xlink:href=\"#ArialMT-35745\"/>\r\n       <use x=\"583.447266\" xlink:href=\"#ArialMT-36926\"/>\r\n       <use x=\"658.447266\" xlink:href=\"#ArialMT-26399\"/>\r\n      </g>\r\n     </g>\r\n    </g>\r\n    <g id=\"xtick_64\">\r\n     <g id=\"line2d_64\">\r\n      <path clip-path=\"url(#p00f71fba64)\" d=\"M 631.214894 293.589375 \r\nL 631.214894 21.789375 \r\n\" style=\"fill:none;stroke:#ffffff;stroke-linecap:round;stroke-width:0.8;\"/>\r\n     </g>\r\n     <g id=\"text_64\">\r\n      <!-- mr_近24月最大逾期 -->\r\n      <g style=\"fill:#262626;\" transform=\"translate(633.814894 373.931563)rotate(-90)scale(0.1 -0.1)\">\r\n       <use xlink:href=\"#ArialMT-109\"/>\r\n       <use x=\"83.300781\" xlink:href=\"#ArialMT-114\"/>\r\n       <use x=\"116.601562\" xlink:href=\"#ArialMT-95\"/>\r\n       <use x=\"172.216797\" xlink:href=\"#ArialMT-36817\"/>\r\n       <use x=\"247.216797\" xlink:href=\"#ArialMT-50\"/>\r\n       <use x=\"302.832031\" xlink:href=\"#ArialMT-52\"/>\r\n       <use x=\"358.447266\" xlink:href=\"#ArialMT-26376\"/>\r\n       <use x=\"433.447266\" xlink:href=\"#ArialMT-26368\"/>\r\n       <use x=\"508.447266\" xlink:href=\"#ArialMT-22823\"/>\r\n       <use x=\"583.447266\" xlink:href=\"#ArialMT-36926\"/>\r\n       <use x=\"658.447266\" xlink:href=\"#ArialMT-26399\"/>\r\n      </g>\r\n     </g>\r\n    </g>\r\n    <g id=\"xtick_65\">\r\n     <g id=\"line2d_65\">\r\n      <path clip-path=\"url(#p00f71fba64)\" d=\"M 640.712766 293.589375 \r\nL 640.712766 21.789375 \r\n\" style=\"fill:none;stroke:#ffffff;stroke-linecap:round;stroke-width:0.8;\"/>\r\n     </g>\r\n     <g id=\"text_65\">\r\n      <!-- mr_近24月累计逾期 -->\r\n      <g style=\"fill:#262626;\" transform=\"translate(643.312766 373.931563)rotate(-90)scale(0.1 -0.1)\">\r\n       <use xlink:href=\"#ArialMT-109\"/>\r\n       <use x=\"83.300781\" xlink:href=\"#ArialMT-114\"/>\r\n       <use x=\"116.601562\" xlink:href=\"#ArialMT-95\"/>\r\n       <use x=\"172.216797\" xlink:href=\"#ArialMT-36817\"/>\r\n       <use x=\"247.216797\" xlink:href=\"#ArialMT-50\"/>\r\n       <use x=\"302.832031\" xlink:href=\"#ArialMT-52\"/>\r\n       <use x=\"358.447266\" xlink:href=\"#ArialMT-26376\"/>\r\n       <use x=\"433.447266\" xlink:href=\"#ArialMT-32047\"/>\r\n       <use x=\"508.447266\" xlink:href=\"#ArialMT-35745\"/>\r\n       <use x=\"583.447266\" xlink:href=\"#ArialMT-36926\"/>\r\n       <use x=\"658.447266\" xlink:href=\"#ArialMT-26399\"/>\r\n      </g>\r\n     </g>\r\n    </g>\r\n    <g id=\"xtick_66\">\r\n     <g id=\"line2d_66\">\r\n      <path clip-path=\"url(#p00f71fba64)\" d=\"M 650.210638 293.589375 \r\nL 650.210638 21.789375 \r\n\" style=\"fill:none;stroke:#ffffff;stroke-linecap:round;stroke-width:0.8;\"/>\r\n     </g>\r\n     <g id=\"text_66\">\r\n      <!-- mr_近6月平均使用额度 -->\r\n      <g style=\"fill:#262626;\" transform=\"translate(652.810638 383.370625)rotate(-90)scale(0.1 -0.1)\">\r\n       <use xlink:href=\"#ArialMT-109\"/>\r\n       <use x=\"83.300781\" xlink:href=\"#ArialMT-114\"/>\r\n       <use x=\"116.601562\" xlink:href=\"#ArialMT-95\"/>\r\n       <use x=\"172.216797\" xlink:href=\"#ArialMT-36817\"/>\r\n       <use x=\"247.216797\" xlink:href=\"#ArialMT-54\"/>\r\n       <use x=\"302.832031\" xlink:href=\"#ArialMT-26376\"/>\r\n       <use x=\"377.832031\" xlink:href=\"#ArialMT-24179\"/>\r\n       <use x=\"452.832031\" xlink:href=\"#ArialMT-22343\"/>\r\n       <use x=\"527.832031\" xlink:href=\"#ArialMT-20351\"/>\r\n       <use x=\"602.832031\" xlink:href=\"#ArialMT-29992\"/>\r\n       <use x=\"677.832031\" xlink:href=\"#ArialMT-39069\"/>\r\n       <use x=\"752.832031\" xlink:href=\"#ArialMT-24230\"/>\r\n      </g>\r\n     </g>\r\n    </g>\r\n    <g id=\"xtick_67\">\r\n     <g id=\"line2d_67\">\r\n      <path clip-path=\"url(#p00f71fba64)\" d=\"M 659.708511 293.589375 \r\nL 659.708511 21.789375 \r\n\" style=\"fill:none;stroke:#ffffff;stroke-linecap:round;stroke-width:0.8;\"/>\r\n     </g>\r\n     <g id=\"text_67\">\r\n      <!-- mr_透支余额汇总 -->\r\n      <g style=\"fill:#262626;\" transform=\"translate(662.293667 362.809687)rotate(-90)scale(0.1 -0.1)\">\r\n       <use xlink:href=\"#ArialMT-109\"/>\r\n       <use x=\"83.300781\" xlink:href=\"#ArialMT-114\"/>\r\n       <use x=\"116.601562\" xlink:href=\"#ArialMT-95\"/>\r\n       <use x=\"172.216797\" xlink:href=\"#ArialMT-36879\"/>\r\n       <use x=\"247.216797\" xlink:href=\"#ArialMT-25903\"/>\r\n       <use x=\"322.216797\" xlink:href=\"#ArialMT-20313\"/>\r\n       <use x=\"397.216797\" xlink:href=\"#ArialMT-39069\"/>\r\n       <use x=\"472.216797\" xlink:href=\"#ArialMT-27719\"/>\r\n       <use x=\"547.216797\" xlink:href=\"#ArialMT-24635\"/>\r\n      </g>\r\n     </g>\r\n    </g>\r\n    <g id=\"xtick_68\">\r\n     <g id=\"line2d_68\">\r\n      <path clip-path=\"url(#p00f71fba64)\" d=\"M 669.206383 293.589375 \r\nL 669.206383 21.789375 \r\n\" style=\"fill:none;stroke:#ffffff;stroke-linecap:round;stroke-width:0.8;\"/>\r\n     </g>\r\n     <g id=\"text_68\">\r\n      <!-- mr_授信总额 -->\r\n      <g style=\"fill:#262626;\" transform=\"translate(671.791539 347.809687)rotate(-90)scale(0.1 -0.1)\">\r\n       <use xlink:href=\"#ArialMT-109\"/>\r\n       <use x=\"83.300781\" xlink:href=\"#ArialMT-114\"/>\r\n       <use x=\"116.601562\" xlink:href=\"#ArialMT-95\"/>\r\n       <use x=\"172.216797\" xlink:href=\"#ArialMT-25480\"/>\r\n       <use x=\"247.216797\" xlink:href=\"#ArialMT-20449\"/>\r\n       <use x=\"322.216797\" xlink:href=\"#ArialMT-24635\"/>\r\n       <use x=\"397.216797\" xlink:href=\"#ArialMT-39069\"/>\r\n      </g>\r\n     </g>\r\n    </g>\r\n    <g id=\"xtick_69\">\r\n     <g id=\"line2d_69\">\r\n      <path clip-path=\"url(#p00f71fba64)\" d=\"M 678.704255 293.589375 \r\nL 678.704255 21.789375 \r\n\" style=\"fill:none;stroke:#ffffff;stroke-linecap:round;stroke-width:0.8;\"/>\r\n     </g>\r\n     <g id=\"text_69\">\r\n      <!-- mr_担保本金余额 -->\r\n      <g style=\"fill:#262626;\" transform=\"translate(681.289412 362.809687)rotate(-90)scale(0.1 -0.1)\">\r\n       <use xlink:href=\"#ArialMT-109\"/>\r\n       <use x=\"83.300781\" xlink:href=\"#ArialMT-114\"/>\r\n       <use x=\"116.601562\" xlink:href=\"#ArialMT-95\"/>\r\n       <use x=\"172.216797\" xlink:href=\"#ArialMT-25285\"/>\r\n       <use x=\"247.216797\" xlink:href=\"#ArialMT-20445\"/>\r\n       <use x=\"322.216797\" xlink:href=\"#ArialMT-26412\"/>\r\n       <use x=\"397.216797\" xlink:href=\"#ArialMT-37329\"/>\r\n       <use x=\"472.216797\" xlink:href=\"#ArialMT-20313\"/>\r\n       <use x=\"547.216797\" xlink:href=\"#ArialMT-39069\"/>\r\n      </g>\r\n     </g>\r\n    </g>\r\n    <g id=\"xtick_70\">\r\n     <g id=\"line2d_70\">\r\n      <path clip-path=\"url(#p00f71fba64)\" d=\"M 688.202128 293.589375 \r\nL 688.202128 21.789375 \r\n\" style=\"fill:none;stroke:#ffffff;stroke-linecap:round;stroke-width:0.8;\"/>\r\n     </g>\r\n     <g id=\"text_70\">\r\n      <!-- mr_单家行最高授信总额 -->\r\n      <g style=\"fill:#262626;\" transform=\"translate(690.787284 385.309687)rotate(-90)scale(0.1 -0.1)\">\r\n       <use xlink:href=\"#ArialMT-109\"/>\r\n       <use x=\"83.300781\" xlink:href=\"#ArialMT-114\"/>\r\n       <use x=\"116.601562\" xlink:href=\"#ArialMT-95\"/>\r\n       <use x=\"172.216797\" xlink:href=\"#ArialMT-21333\"/>\r\n       <use x=\"247.216797\" xlink:href=\"#ArialMT-23478\"/>\r\n       <use x=\"322.216797\" xlink:href=\"#ArialMT-34892\"/>\r\n       <use x=\"397.216797\" xlink:href=\"#ArialMT-26368\"/>\r\n       <use x=\"472.216797\" xlink:href=\"#ArialMT-39640\"/>\r\n       <use x=\"547.216797\" xlink:href=\"#ArialMT-25480\"/>\r\n       <use x=\"622.216797\" xlink:href=\"#ArialMT-20449\"/>\r\n       <use x=\"697.216797\" xlink:href=\"#ArialMT-24635\"/>\r\n       <use x=\"772.216797\" xlink:href=\"#ArialMT-39069\"/>\r\n      </g>\r\n     </g>\r\n    </g>\r\n    <g id=\"xtick_71\">\r\n     <g id=\"line2d_71\">\r\n      <path clip-path=\"url(#p00f71fba64)\" d=\"M 697.7 293.589375 \r\nL 697.7 21.789375 \r\n\" style=\"fill:none;stroke:#ffffff;stroke-linecap:round;stroke-width:0.8;\"/>\r\n     </g>\r\n     <g id=\"text_71\">\r\n      <!-- mr_发卡法人机构总数 -->\r\n      <g style=\"fill:#262626;\" transform=\"translate(700.285156 377.809687)rotate(-90)scale(0.1 -0.1)\">\r\n       <use xlink:href=\"#ArialMT-109\"/>\r\n       <use x=\"83.300781\" xlink:href=\"#ArialMT-114\"/>\r\n       <use x=\"116.601562\" xlink:href=\"#ArialMT-95\"/>\r\n       <use x=\"172.216797\" xlink:href=\"#ArialMT-21457\"/>\r\n       <use x=\"247.216797\" xlink:href=\"#ArialMT-21345\"/>\r\n       <use x=\"322.216797\" xlink:href=\"#ArialMT-27861\"/>\r\n       <use x=\"397.216797\" xlink:href=\"#ArialMT-20154\"/>\r\n       <use x=\"472.216797\" xlink:href=\"#ArialMT-26426\"/>\r\n       <use x=\"547.216797\" xlink:href=\"#ArialMT-26500\"/>\r\n       <use x=\"622.216797\" xlink:href=\"#ArialMT-24635\"/>\r\n       <use x=\"697.216797\" xlink:href=\"#ArialMT-25968\"/>\r\n      </g>\r\n     </g>\r\n    </g>\r\n    <g id=\"xtick_72\">\r\n     <g id=\"line2d_72\">\r\n      <path clip-path=\"url(#p00f71fba64)\" d=\"M 707.197872 293.589375 \r\nL 707.197872 21.789375 \r\n\" style=\"fill:none;stroke:#ffffff;stroke-linecap:round;stroke-width:0.8;\"/>\r\n     </g>\r\n     <g id=\"text_72\">\r\n      <!-- mr_平均额度 -->\r\n      <g style=\"fill:#262626;\" transform=\"translate(709.783029 347.809687)rotate(-90)scale(0.1 -0.1)\">\r\n       <use xlink:href=\"#ArialMT-109\"/>\r\n       <use x=\"83.300781\" xlink:href=\"#ArialMT-114\"/>\r\n       <use x=\"116.601562\" xlink:href=\"#ArialMT-95\"/>\r\n       <use x=\"172.216797\" xlink:href=\"#ArialMT-24179\"/>\r\n       <use x=\"247.216797\" xlink:href=\"#ArialMT-22343\"/>\r\n       <use x=\"322.216797\" xlink:href=\"#ArialMT-39069\"/>\r\n       <use x=\"397.216797\" xlink:href=\"#ArialMT-24230\"/>\r\n      </g>\r\n     </g>\r\n    </g>\r\n    <g id=\"xtick_73\">\r\n     <g id=\"line2d_73\">\r\n      <path clip-path=\"url(#p00f71fba64)\" d=\"M 716.695745 293.589375 \r\nL 716.695745 21.789375 \r\n\" style=\"fill:none;stroke:#ffffff;stroke-linecap:round;stroke-width:0.8;\"/>\r\n     </g>\r\n     <g id=\"text_73\">\r\n      <!-- mr_贷记透支比例 -->\r\n      <g style=\"fill:#262626;\" transform=\"translate(719.280901 362.809687)rotate(-90)scale(0.1 -0.1)\">\r\n       <use xlink:href=\"#ArialMT-109\"/>\r\n       <use x=\"83.300781\" xlink:href=\"#ArialMT-114\"/>\r\n       <use x=\"116.601562\" xlink:href=\"#ArialMT-95\"/>\r\n       <use x=\"172.216797\" xlink:href=\"#ArialMT-36151\"/>\r\n       <use x=\"247.216797\" xlink:href=\"#ArialMT-35760\"/>\r\n       <use x=\"322.216797\" xlink:href=\"#ArialMT-36879\"/>\r\n       <use x=\"397.216797\" xlink:href=\"#ArialMT-25903\"/>\r\n       <use x=\"472.216797\" xlink:href=\"#ArialMT-27604\"/>\r\n       <use x=\"547.216797\" xlink:href=\"#ArialMT-20363\"/>\r\n      </g>\r\n     </g>\r\n    </g>\r\n    <g id=\"xtick_74\">\r\n     <g id=\"line2d_74\">\r\n      <path clip-path=\"url(#p00f71fba64)\" d=\"M 726.193617 293.589375 \r\nL 726.193617 21.789375 \r\n\" style=\"fill:none;stroke:#ffffff;stroke-linecap:round;stroke-width:0.8;\"/>\r\n     </g>\r\n     <g id=\"text_74\">\r\n      <!-- mr_对外担保余额 -->\r\n      <g style=\"fill:#262626;\" transform=\"translate(728.778773 362.809687)rotate(-90)scale(0.1 -0.1)\">\r\n       <use xlink:href=\"#ArialMT-109\"/>\r\n       <use x=\"83.300781\" xlink:href=\"#ArialMT-114\"/>\r\n       <use x=\"116.601562\" xlink:href=\"#ArialMT-95\"/>\r\n       <use x=\"172.216797\" xlink:href=\"#ArialMT-23545\"/>\r\n       <use x=\"247.216797\" xlink:href=\"#ArialMT-22806\"/>\r\n       <use x=\"322.216797\" xlink:href=\"#ArialMT-25285\"/>\r\n       <use x=\"397.216797\" xlink:href=\"#ArialMT-20445\"/>\r\n       <use x=\"472.216797\" xlink:href=\"#ArialMT-20313\"/>\r\n       <use x=\"547.216797\" xlink:href=\"#ArialMT-39069\"/>\r\n      </g>\r\n     </g>\r\n    </g>\r\n    <g id=\"xtick_75\">\r\n     <g id=\"line2d_75\">\r\n      <path clip-path=\"url(#p00f71fba64)\" d=\"M 735.691489 293.589375 \r\nL 735.691489 21.789375 \r\n\" style=\"fill:none;stroke:#ffffff;stroke-linecap:round;stroke-width:0.8;\"/>\r\n     </g>\r\n     <g id=\"text_75\">\r\n      <!-- mr_未结清贷款笔数 -->\r\n      <g style=\"fill:#262626;\" transform=\"translate(738.276646 370.309687)rotate(-90)scale(0.1 -0.1)\">\r\n       <use xlink:href=\"#ArialMT-109\"/>\r\n       <use x=\"83.300781\" xlink:href=\"#ArialMT-114\"/>\r\n       <use x=\"116.601562\" xlink:href=\"#ArialMT-95\"/>\r\n       <use x=\"172.216797\" xlink:href=\"#ArialMT-26410\"/>\r\n       <use x=\"247.216797\" xlink:href=\"#ArialMT-32467\"/>\r\n       <use x=\"322.216797\" xlink:href=\"#ArialMT-28165\"/>\r\n       <use x=\"397.216797\" xlink:href=\"#ArialMT-36151\"/>\r\n       <use x=\"472.216797\" xlink:href=\"#ArialMT-27454\"/>\r\n       <use x=\"547.216797\" xlink:href=\"#ArialMT-31508\"/>\r\n       <use x=\"622.216797\" xlink:href=\"#ArialMT-25968\"/>\r\n      </g>\r\n     </g>\r\n    </g>\r\n    <g id=\"xtick_76\">\r\n     <g id=\"line2d_76\">\r\n      <path clip-path=\"url(#p00f71fba64)\" d=\"M 745.189362 293.589375 \r\nL 745.189362 21.789375 \r\n\" style=\"fill:none;stroke:#ffffff;stroke-linecap:round;stroke-width:0.8;\"/>\r\n     </g>\r\n     <g id=\"text_76\">\r\n      <!-- mr_未结清贷款余额 -->\r\n      <g style=\"fill:#262626;\" transform=\"translate(747.774518 370.309687)rotate(-90)scale(0.1 -0.1)\">\r\n       <use xlink:href=\"#ArialMT-109\"/>\r\n       <use x=\"83.300781\" xlink:href=\"#ArialMT-114\"/>\r\n       <use x=\"116.601562\" xlink:href=\"#ArialMT-95\"/>\r\n       <use x=\"172.216797\" xlink:href=\"#ArialMT-26410\"/>\r\n       <use x=\"247.216797\" xlink:href=\"#ArialMT-32467\"/>\r\n       <use x=\"322.216797\" xlink:href=\"#ArialMT-28165\"/>\r\n       <use x=\"397.216797\" xlink:href=\"#ArialMT-36151\"/>\r\n       <use x=\"472.216797\" xlink:href=\"#ArialMT-27454\"/>\r\n       <use x=\"547.216797\" xlink:href=\"#ArialMT-20313\"/>\r\n       <use x=\"622.216797\" xlink:href=\"#ArialMT-39069\"/>\r\n      </g>\r\n     </g>\r\n    </g>\r\n    <g id=\"xtick_77\">\r\n     <g id=\"line2d_77\">\r\n      <path clip-path=\"url(#p00f71fba64)\" d=\"M 754.687234 293.589375 \r\nL 754.687234 21.789375 \r\n\" style=\"fill:none;stroke:#ffffff;stroke-linecap:round;stroke-width:0.8;\"/>\r\n     </g>\r\n     <g id=\"text_77\">\r\n      <!-- mr_贷款历史机构数 -->\r\n      <g style=\"fill:#262626;\" transform=\"translate(757.27239 370.309687)rotate(-90)scale(0.1 -0.1)\">\r\n       <use xlink:href=\"#ArialMT-109\"/>\r\n       <use x=\"83.300781\" xlink:href=\"#ArialMT-114\"/>\r\n       <use x=\"116.601562\" xlink:href=\"#ArialMT-95\"/>\r\n       <use x=\"172.216797\" xlink:href=\"#ArialMT-36151\"/>\r\n       <use x=\"247.216797\" xlink:href=\"#ArialMT-27454\"/>\r\n       <use x=\"322.216797\" xlink:href=\"#ArialMT-21382\"/>\r\n       <use x=\"397.216797\" xlink:href=\"#ArialMT-21490\"/>\r\n       <use x=\"472.216797\" xlink:href=\"#ArialMT-26426\"/>\r\n       <use x=\"547.216797\" xlink:href=\"#ArialMT-26500\"/>\r\n       <use x=\"622.216797\" xlink:href=\"#ArialMT-25968\"/>\r\n      </g>\r\n     </g>\r\n    </g>\r\n    <g id=\"xtick_78\">\r\n     <g id=\"line2d_78\">\r\n      <path clip-path=\"url(#p00f71fba64)\" d=\"M 764.185106 293.589375 \r\nL 764.185106 21.789375 \r\n\" style=\"fill:none;stroke:#ffffff;stroke-linecap:round;stroke-width:0.8;\"/>\r\n     </g>\r\n     <g id=\"text_78\">\r\n      <!-- mr_近5年最大逾期 -->\r\n      <g style=\"fill:#262626;\" transform=\"translate(766.770263 368.370625)rotate(-90)scale(0.1 -0.1)\">\r\n       <use xlink:href=\"#ArialMT-109\"/>\r\n       <use x=\"83.300781\" xlink:href=\"#ArialMT-114\"/>\r\n       <use x=\"116.601562\" xlink:href=\"#ArialMT-95\"/>\r\n       <use x=\"172.216797\" xlink:href=\"#ArialMT-36817\"/>\r\n       <use x=\"247.216797\" xlink:href=\"#ArialMT-53\"/>\r\n       <use x=\"302.832031\" xlink:href=\"#ArialMT-24180\"/>\r\n       <use x=\"377.832031\" xlink:href=\"#ArialMT-26368\"/>\r\n       <use x=\"452.832031\" xlink:href=\"#ArialMT-22823\"/>\r\n       <use x=\"527.832031\" xlink:href=\"#ArialMT-36926\"/>\r\n       <use x=\"602.832031\" xlink:href=\"#ArialMT-26399\"/>\r\n      </g>\r\n     </g>\r\n    </g>\r\n    <g id=\"xtick_79\">\r\n     <g id=\"line2d_79\">\r\n      <path clip-path=\"url(#p00f71fba64)\" d=\"M 773.682979 293.589375 \r\nL 773.682979 21.789375 \r\n\" style=\"fill:none;stroke:#ffffff;stroke-linecap:round;stroke-width:0.8;\"/>\r\n     </g>\r\n     <g id=\"text_79\">\r\n      <!-- mr_近5年累计逾期 -->\r\n      <g style=\"fill:#262626;\" transform=\"translate(776.268135 368.370625)rotate(-90)scale(0.1 -0.1)\">\r\n       <use xlink:href=\"#ArialMT-109\"/>\r\n       <use x=\"83.300781\" xlink:href=\"#ArialMT-114\"/>\r\n       <use x=\"116.601562\" xlink:href=\"#ArialMT-95\"/>\r\n       <use x=\"172.216797\" xlink:href=\"#ArialMT-36817\"/>\r\n       <use x=\"247.216797\" xlink:href=\"#ArialMT-53\"/>\r\n       <use x=\"302.832031\" xlink:href=\"#ArialMT-24180\"/>\r\n       <use x=\"377.832031\" xlink:href=\"#ArialMT-32047\"/>\r\n       <use x=\"452.832031\" xlink:href=\"#ArialMT-35745\"/>\r\n       <use x=\"527.832031\" xlink:href=\"#ArialMT-36926\"/>\r\n       <use x=\"602.832031\" xlink:href=\"#ArialMT-26399\"/>\r\n      </g>\r\n     </g>\r\n    </g>\r\n    <g id=\"xtick_80\">\r\n     <g id=\"line2d_80\">\r\n      <path clip-path=\"url(#p00f71fba64)\" d=\"M 783.180851 293.589375 \r\nL 783.180851 21.789375 \r\n\" style=\"fill:none;stroke:#ffffff;stroke-linecap:round;stroke-width:0.8;\"/>\r\n     </g>\r\n     <g id=\"text_80\">\r\n      <!-- mr_贷款总笔数 -->\r\n      <g style=\"fill:#262626;\" transform=\"translate(785.766007 355.309687)rotate(-90)scale(0.1 -0.1)\">\r\n       <use xlink:href=\"#ArialMT-109\"/>\r\n       <use x=\"83.300781\" xlink:href=\"#ArialMT-114\"/>\r\n       <use x=\"116.601562\" xlink:href=\"#ArialMT-95\"/>\r\n       <use x=\"172.216797\" xlink:href=\"#ArialMT-36151\"/>\r\n       <use x=\"247.216797\" xlink:href=\"#ArialMT-27454\"/>\r\n       <use x=\"322.216797\" xlink:href=\"#ArialMT-24635\"/>\r\n       <use x=\"397.216797\" xlink:href=\"#ArialMT-31508\"/>\r\n       <use x=\"472.216797\" xlink:href=\"#ArialMT-25968\"/>\r\n      </g>\r\n     </g>\r\n    </g>\r\n    <g id=\"xtick_81\">\r\n     <g id=\"line2d_81\">\r\n      <path clip-path=\"url(#p00f71fba64)\" d=\"M 792.678723 293.589375 \r\nL 792.678723 21.789375 \r\n\" style=\"fill:none;stroke:#ffffff;stroke-linecap:round;stroke-width:0.8;\"/>\r\n     </g>\r\n     <g id=\"text_81\">\r\n      <!-- mr_贷款总额 -->\r\n      <g style=\"fill:#262626;\" transform=\"translate(795.26388 347.809687)rotate(-90)scale(0.1 -0.1)\">\r\n       <use xlink:href=\"#ArialMT-109\"/>\r\n       <use x=\"83.300781\" xlink:href=\"#ArialMT-114\"/>\r\n       <use x=\"116.601562\" xlink:href=\"#ArialMT-95\"/>\r\n       <use x=\"172.216797\" xlink:href=\"#ArialMT-36151\"/>\r\n       <use x=\"247.216797\" xlink:href=\"#ArialMT-27454\"/>\r\n       <use x=\"322.216797\" xlink:href=\"#ArialMT-24635\"/>\r\n       <use x=\"397.216797\" xlink:href=\"#ArialMT-39069\"/>\r\n      </g>\r\n     </g>\r\n    </g>\r\n    <g id=\"xtick_82\">\r\n     <g id=\"line2d_82\">\r\n      <path clip-path=\"url(#p00f71fba64)\" d=\"M 802.176596 293.589375 \r\nL 802.176596 21.789375 \r\n\" style=\"fill:none;stroke:#ffffff;stroke-linecap:round;stroke-width:0.8;\"/>\r\n     </g>\r\n     <g id=\"text_82\">\r\n      <!-- mr_贷款最大剩余月数 -->\r\n      <g style=\"fill:#262626;\" transform=\"translate(804.761752 377.809687)rotate(-90)scale(0.1 -0.1)\">\r\n       <use xlink:href=\"#ArialMT-109\"/>\r\n       <use x=\"83.300781\" xlink:href=\"#ArialMT-114\"/>\r\n       <use x=\"116.601562\" xlink:href=\"#ArialMT-95\"/>\r\n       <use x=\"172.216797\" xlink:href=\"#ArialMT-36151\"/>\r\n       <use x=\"247.216797\" xlink:href=\"#ArialMT-27454\"/>\r\n       <use x=\"322.216797\" xlink:href=\"#ArialMT-26368\"/>\r\n       <use x=\"397.216797\" xlink:href=\"#ArialMT-22823\"/>\r\n       <use x=\"472.216797\" xlink:href=\"#ArialMT-21097\"/>\r\n       <use x=\"547.216797\" xlink:href=\"#ArialMT-20313\"/>\r\n       <use x=\"622.216797\" xlink:href=\"#ArialMT-26376\"/>\r\n       <use x=\"697.216797\" xlink:href=\"#ArialMT-25968\"/>\r\n      </g>\r\n     </g>\r\n    </g>\r\n    <g id=\"xtick_83\">\r\n     <g id=\"line2d_83\">\r\n      <path clip-path=\"url(#p00f71fba64)\" d=\"M 811.674468 293.589375 \r\nL 811.674468 21.789375 \r\n\" style=\"fill:none;stroke:#ffffff;stroke-linecap:round;stroke-width:0.8;\"/>\r\n     </g>\r\n     <g id=\"text_83\">\r\n      <!-- mr_贷款最大还款月数 -->\r\n      <g style=\"fill:#262626;\" transform=\"translate(814.259624 377.809687)rotate(-90)scale(0.1 -0.1)\">\r\n       <use xlink:href=\"#ArialMT-109\"/>\r\n       <use x=\"83.300781\" xlink:href=\"#ArialMT-114\"/>\r\n       <use x=\"116.601562\" xlink:href=\"#ArialMT-95\"/>\r\n       <use x=\"172.216797\" xlink:href=\"#ArialMT-36151\"/>\r\n       <use x=\"247.216797\" xlink:href=\"#ArialMT-27454\"/>\r\n       <use x=\"322.216797\" xlink:href=\"#ArialMT-26368\"/>\r\n       <use x=\"397.216797\" xlink:href=\"#ArialMT-22823\"/>\r\n       <use x=\"472.216797\" xlink:href=\"#ArialMT-36824\"/>\r\n       <use x=\"547.216797\" xlink:href=\"#ArialMT-27454\"/>\r\n       <use x=\"622.216797\" xlink:href=\"#ArialMT-26376\"/>\r\n       <use x=\"697.216797\" xlink:href=\"#ArialMT-25968\"/>\r\n      </g>\r\n     </g>\r\n    </g>\r\n    <g id=\"xtick_84\">\r\n     <g id=\"line2d_84\">\r\n      <path clip-path=\"url(#p00f71fba64)\" d=\"M 821.17234 293.589375 \r\nL 821.17234 21.789375 \r\n\" style=\"fill:none;stroke:#ffffff;stroke-linecap:round;stroke-width:0.8;\"/>\r\n     </g>\r\n     <g id=\"text_84\">\r\n      <!-- mr_贷款三个月内M1次数 -->\r\n      <g style=\"fill:#262626;\" transform=\"translate(823.77234 391.700312)rotate(-90)scale(0.1 -0.1)\">\r\n       <use xlink:href=\"#ArialMT-109\"/>\r\n       <use x=\"83.300781\" xlink:href=\"#ArialMT-114\"/>\r\n       <use x=\"116.601562\" xlink:href=\"#ArialMT-95\"/>\r\n       <use x=\"172.216797\" xlink:href=\"#ArialMT-36151\"/>\r\n       <use x=\"247.216797\" xlink:href=\"#ArialMT-27454\"/>\r\n       <use x=\"322.216797\" xlink:href=\"#ArialMT-19977\"/>\r\n       <use x=\"397.216797\" xlink:href=\"#ArialMT-20010\"/>\r\n       <use x=\"472.216797\" xlink:href=\"#ArialMT-26376\"/>\r\n       <use x=\"547.216797\" xlink:href=\"#ArialMT-20869\"/>\r\n       <use x=\"622.216797\" xlink:href=\"#ArialMT-77\"/>\r\n       <use x=\"705.517578\" xlink:href=\"#ArialMT-49\"/>\r\n       <use x=\"761.132812\" xlink:href=\"#ArialMT-27425\"/>\r\n       <use x=\"836.132812\" xlink:href=\"#ArialMT-25968\"/>\r\n      </g>\r\n     </g>\r\n    </g>\r\n    <g id=\"xtick_85\">\r\n     <g id=\"line2d_85\">\r\n      <path clip-path=\"url(#p00f71fba64)\" d=\"M 830.670213 293.589375 \r\nL 830.670213 21.789375 \r\n\" style=\"fill:none;stroke:#ffffff;stroke-linecap:round;stroke-width:0.8;\"/>\r\n     </g>\r\n     <g id=\"text_85\">\r\n      <!-- mr_贷款六个月内M1次数 -->\r\n      <g style=\"fill:#262626;\" transform=\"translate(833.270213 391.700312)rotate(-90)scale(0.1 -0.1)\">\r\n       <use xlink:href=\"#ArialMT-109\"/>\r\n       <use x=\"83.300781\" xlink:href=\"#ArialMT-114\"/>\r\n       <use x=\"116.601562\" xlink:href=\"#ArialMT-95\"/>\r\n       <use x=\"172.216797\" xlink:href=\"#ArialMT-36151\"/>\r\n       <use x=\"247.216797\" xlink:href=\"#ArialMT-27454\"/>\r\n       <use x=\"322.216797\" xlink:href=\"#ArialMT-20845\"/>\r\n       <use x=\"397.216797\" xlink:href=\"#ArialMT-20010\"/>\r\n       <use x=\"472.216797\" xlink:href=\"#ArialMT-26376\"/>\r\n       <use x=\"547.216797\" xlink:href=\"#ArialMT-20869\"/>\r\n       <use x=\"622.216797\" xlink:href=\"#ArialMT-77\"/>\r\n       <use x=\"705.517578\" xlink:href=\"#ArialMT-49\"/>\r\n       <use x=\"761.132812\" xlink:href=\"#ArialMT-27425\"/>\r\n       <use x=\"836.132812\" xlink:href=\"#ArialMT-25968\"/>\r\n      </g>\r\n     </g>\r\n    </g>\r\n    <g id=\"xtick_86\">\r\n     <g id=\"line2d_86\">\r\n      <path clip-path=\"url(#p00f71fba64)\" d=\"M 840.168085 293.589375 \r\nL 840.168085 21.789375 \r\n\" style=\"fill:none;stroke:#ffffff;stroke-linecap:round;stroke-width:0.8;\"/>\r\n     </g>\r\n     <g id=\"text_86\">\r\n      <!-- mr_贷款十二个月内M1次数 -->\r\n      <g style=\"fill:#262626;\" transform=\"translate(842.768085 399.200312)rotate(-90)scale(0.1 -0.1)\">\r\n       <use xlink:href=\"#ArialMT-109\"/>\r\n       <use x=\"83.300781\" xlink:href=\"#ArialMT-114\"/>\r\n       <use x=\"116.601562\" xlink:href=\"#ArialMT-95\"/>\r\n       <use x=\"172.216797\" xlink:href=\"#ArialMT-36151\"/>\r\n       <use x=\"247.216797\" xlink:href=\"#ArialMT-27454\"/>\r\n       <use x=\"322.216797\" xlink:href=\"#ArialMT-21313\"/>\r\n       <use x=\"397.216797\" xlink:href=\"#ArialMT-20108\"/>\r\n       <use x=\"472.216797\" xlink:href=\"#ArialMT-20010\"/>\r\n       <use x=\"547.216797\" xlink:href=\"#ArialMT-26376\"/>\r\n       <use x=\"622.216797\" xlink:href=\"#ArialMT-20869\"/>\r\n       <use x=\"697.216797\" xlink:href=\"#ArialMT-77\"/>\r\n       <use x=\"780.517578\" xlink:href=\"#ArialMT-49\"/>\r\n       <use x=\"836.132812\" xlink:href=\"#ArialMT-27425\"/>\r\n       <use x=\"911.132812\" xlink:href=\"#ArialMT-25968\"/>\r\n      </g>\r\n     </g>\r\n    </g>\r\n    <g id=\"xtick_87\">\r\n     <g id=\"line2d_87\">\r\n      <path clip-path=\"url(#p00f71fba64)\" d=\"M 849.665957 293.589375 \r\nL 849.665957 21.789375 \r\n\" style=\"fill:none;stroke:#ffffff;stroke-linecap:round;stroke-width:0.8;\"/>\r\n     </g>\r\n     <g id=\"text_87\">\r\n      <!-- 授信总金额 -->\r\n      <g style=\"fill:#262626;\" transform=\"translate(852.251114 338.089375)rotate(-90)scale(0.1 -0.1)\">\r\n       <use xlink:href=\"#ArialMT-25480\"/>\r\n       <use x=\"75\" xlink:href=\"#ArialMT-20449\"/>\r\n       <use x=\"150\" xlink:href=\"#ArialMT-24635\"/>\r\n       <use x=\"225\" xlink:href=\"#ArialMT-37329\"/>\r\n       <use x=\"300\" xlink:href=\"#ArialMT-39069\"/>\r\n      </g>\r\n     </g>\r\n    </g>\r\n    <g id=\"xtick_88\">\r\n     <g id=\"line2d_88\">\r\n      <path clip-path=\"url(#p00f71fba64)\" d=\"M 859.16383 293.589375 \r\nL 859.16383 21.789375 \r\n\" style=\"fill:none;stroke:#ffffff;stroke-linecap:round;stroke-width:0.8;\"/>\r\n     </g>\r\n     <g id=\"text_88\">\r\n      <!-- 非低风险总金额 -->\r\n      <defs>\r\n       <path d=\"M 12.5 0 \r\nL 12.5 62.5 \r\nL 62.5 62.5 \r\nL 62.5 0 \r\nz\r\nM 14.0625 1.5625 \r\nL 60.9375 1.5625 \r\nL 60.9375 60.9375 \r\nL 14.0625 60.9375 \r\nz\r\n\" id=\"ArialMT-20302\"/>\r\n       <path d=\"M 12.5 0 \r\nL 12.5 62.5 \r\nL 62.5 62.5 \r\nL 62.5 0 \r\nz\r\nM 14.0625 1.5625 \r\nL 60.9375 1.5625 \r\nL 60.9375 60.9375 \r\nL 14.0625 60.9375 \r\nz\r\n\" id=\"ArialMT-39118\"/>\r\n       <path d=\"M 12.5 0 \r\nL 12.5 62.5 \r\nL 62.5 62.5 \r\nL 62.5 0 \r\nz\r\nM 14.0625 1.5625 \r\nL 60.9375 1.5625 \r\nL 60.9375 60.9375 \r\nL 14.0625 60.9375 \r\nz\r\n\" id=\"ArialMT-38505\"/>\r\n      </defs>\r\n      <g style=\"fill:#262626;\" transform=\"translate(861.748986 353.089375)rotate(-90)scale(0.1 -0.1)\">\r\n       <use xlink:href=\"#ArialMT-38750\"/>\r\n       <use x=\"75\" xlink:href=\"#ArialMT-20302\"/>\r\n       <use x=\"150\" xlink:href=\"#ArialMT-39118\"/>\r\n       <use x=\"225\" xlink:href=\"#ArialMT-38505\"/>\r\n       <use x=\"300\" xlink:href=\"#ArialMT-24635\"/>\r\n       <use x=\"375\" xlink:href=\"#ArialMT-37329\"/>\r\n       <use x=\"450\" xlink:href=\"#ArialMT-39069\"/>\r\n      </g>\r\n     </g>\r\n    </g>\r\n    <g id=\"xtick_89\">\r\n     <g id=\"line2d_89\">\r\n      <path clip-path=\"url(#p00f71fba64)\" d=\"M 868.661702 293.589375 \r\nL 868.661702 21.789375 \r\n\" style=\"fill:none;stroke:#ffffff;stroke-linecap:round;stroke-width:0.8;\"/>\r\n     </g>\r\n     <g id=\"text_89\">\r\n      <!-- 评估价值汇总 -->\r\n      <defs>\r\n       <path d=\"M 12.5 0 \r\nL 12.5 62.5 \r\nL 62.5 62.5 \r\nL 62.5 0 \r\nz\r\nM 14.0625 1.5625 \r\nL 60.9375 1.5625 \r\nL 60.9375 60.9375 \r\nL 14.0625 60.9375 \r\nz\r\n\" id=\"ArialMT-35780\"/>\r\n       <path d=\"M 12.5 0 \r\nL 12.5 62.5 \r\nL 62.5 62.5 \r\nL 62.5 0 \r\nz\r\nM 14.0625 1.5625 \r\nL 60.9375 1.5625 \r\nL 60.9375 60.9375 \r\nL 14.0625 60.9375 \r\nz\r\n\" id=\"ArialMT-20272\"/>\r\n       <path d=\"M 12.5 0 \r\nL 12.5 62.5 \r\nL 62.5 62.5 \r\nL 62.5 0 \r\nz\r\nM 14.0625 1.5625 \r\nL 60.9375 1.5625 \r\nL 60.9375 60.9375 \r\nL 14.0625 60.9375 \r\nz\r\n\" id=\"ArialMT-20215\"/>\r\n       <path d=\"M 12.5 0 \r\nL 12.5 62.5 \r\nL 62.5 62.5 \r\nL 62.5 0 \r\nz\r\nM 14.0625 1.5625 \r\nL 60.9375 1.5625 \r\nL 60.9375 60.9375 \r\nL 14.0625 60.9375 \r\nz\r\n\" id=\"ArialMT-20540\"/>\r\n      </defs>\r\n      <g style=\"fill:#262626;\" transform=\"translate(871.246858 345.589375)rotate(-90)scale(0.1 -0.1)\">\r\n       <use xlink:href=\"#ArialMT-35780\"/>\r\n       <use x=\"75\" xlink:href=\"#ArialMT-20272\"/>\r\n       <use x=\"150\" xlink:href=\"#ArialMT-20215\"/>\r\n       <use x=\"225\" xlink:href=\"#ArialMT-20540\"/>\r\n       <use x=\"300\" xlink:href=\"#ArialMT-27719\"/>\r\n       <use x=\"375\" xlink:href=\"#ArialMT-24635\"/>\r\n      </g>\r\n     </g>\r\n    </g>\r\n    <g id=\"xtick_90\">\r\n     <g id=\"line2d_90\">\r\n      <path clip-path=\"url(#p00f71fba64)\" d=\"M 878.159574 293.589375 \r\nL 878.159574 21.789375 \r\n\" style=\"fill:none;stroke:#ffffff;stroke-linecap:round;stroke-width:0.8;\"/>\r\n     </g>\r\n     <g id=\"text_90\">\r\n      <!-- 评估价值 -->\r\n      <g style=\"fill:#262626;\" transform=\"translate(880.744731 330.589375)rotate(-90)scale(0.1 -0.1)\">\r\n       <use xlink:href=\"#ArialMT-35780\"/>\r\n       <use x=\"75\" xlink:href=\"#ArialMT-20272\"/>\r\n       <use x=\"150\" xlink:href=\"#ArialMT-20215\"/>\r\n       <use x=\"225\" xlink:href=\"#ArialMT-20540\"/>\r\n      </g>\r\n     </g>\r\n    </g>\r\n    <g id=\"xtick_91\">\r\n     <g id=\"line2d_91\">\r\n      <path clip-path=\"url(#p00f71fba64)\" d=\"M 887.657447 293.589375 \r\nL 887.657447 21.789375 \r\n\" style=\"fill:none;stroke:#ffffff;stroke-linecap:round;stroke-width:0.8;\"/>\r\n     </g>\r\n     <g id=\"text_91\">\r\n      <!-- REG_STATE_CODE -->\r\n      <defs>\r\n       <path d=\"M 7.859375 0 \r\nL 7.859375 71.578125 \r\nL 39.59375 71.578125 \r\nQ 49.171875 71.578125 54.140625 69.640625 \r\nQ 59.125 67.71875 62.109375 62.828125 \r\nQ 65.09375 57.953125 65.09375 52.046875 \r\nQ 65.09375 44.4375 60.15625 39.203125 \r\nQ 55.21875 33.984375 44.921875 32.5625 \r\nQ 48.6875 30.765625 50.640625 29 \r\nQ 54.78125 25.203125 58.5 19.484375 \r\nL 70.953125 0 \r\nL 59.03125 0 \r\nL 49.5625 14.890625 \r\nQ 45.40625 21.34375 42.71875 24.75 \r\nQ 40.046875 28.171875 37.921875 29.53125 \r\nQ 35.796875 30.90625 33.59375 31.453125 \r\nQ 31.984375 31.78125 28.328125 31.78125 \r\nL 17.328125 31.78125 \r\nL 17.328125 0 \r\nz\r\nM 17.328125 39.984375 \r\nL 37.703125 39.984375 \r\nQ 44.1875 39.984375 47.84375 41.328125 \r\nQ 51.515625 42.671875 53.421875 45.625 \r\nQ 55.328125 48.578125 55.328125 52.046875 \r\nQ 55.328125 57.125 51.640625 60.390625 \r\nQ 47.953125 63.671875 39.984375 63.671875 \r\nL 17.328125 63.671875 \r\nz\r\n\" id=\"ArialMT-82\"/>\r\n       <path d=\"M 7.90625 0 \r\nL 7.90625 71.578125 \r\nL 59.671875 71.578125 \r\nL 59.671875 63.140625 \r\nL 17.390625 63.140625 \r\nL 17.390625 41.21875 \r\nL 56.984375 41.21875 \r\nL 56.984375 32.8125 \r\nL 17.390625 32.8125 \r\nL 17.390625 8.453125 \r\nL 61.328125 8.453125 \r\nL 61.328125 0 \r\nz\r\n\" id=\"ArialMT-69\"/>\r\n       <path d=\"M 41.21875 28.078125 \r\nL 41.21875 36.46875 \r\nL 71.53125 36.53125 \r\nL 71.53125 9.96875 \r\nQ 64.546875 4.390625 57.125 1.578125 \r\nQ 49.703125 -1.21875 41.890625 -1.21875 \r\nQ 31.34375 -1.21875 22.71875 3.296875 \r\nQ 14.109375 7.8125 9.71875 16.359375 \r\nQ 5.328125 24.90625 5.328125 35.453125 \r\nQ 5.328125 45.90625 9.6875 54.953125 \r\nQ 14.0625 64.015625 22.265625 68.40625 \r\nQ 30.46875 72.796875 41.15625 72.796875 \r\nQ 48.921875 72.796875 55.1875 70.28125 \r\nQ 61.46875 67.78125 65.03125 63.28125 \r\nQ 68.609375 58.796875 70.453125 51.5625 \r\nL 61.921875 49.21875 \r\nQ 60.296875 54.6875 57.90625 57.8125 \r\nQ 55.515625 60.9375 51.0625 62.8125 \r\nQ 46.625 64.703125 41.21875 64.703125 \r\nQ 34.71875 64.703125 29.984375 62.71875 \r\nQ 25.25 60.75 22.34375 57.515625 \r\nQ 19.4375 54.296875 17.828125 50.4375 \r\nQ 15.09375 43.796875 15.09375 36.03125 \r\nQ 15.09375 26.46875 18.390625 20.015625 \r\nQ 21.6875 13.578125 27.984375 10.453125 \r\nQ 34.28125 7.328125 41.359375 7.328125 \r\nQ 47.515625 7.328125 53.375 9.6875 \r\nQ 59.234375 12.0625 62.25 14.75 \r\nL 62.25 28.078125 \r\nz\r\n\" id=\"ArialMT-71\"/>\r\n       <path d=\"M 4.5 23 \r\nL 13.421875 23.78125 \r\nQ 14.0625 18.40625 16.375 14.96875 \r\nQ 18.703125 11.53125 23.578125 9.40625 \r\nQ 28.46875 7.28125 34.578125 7.28125 \r\nQ 39.984375 7.28125 44.140625 8.890625 \r\nQ 48.296875 10.5 50.3125 13.296875 \r\nQ 52.34375 16.109375 52.34375 19.4375 \r\nQ 52.34375 22.796875 50.390625 25.3125 \r\nQ 48.4375 27.828125 43.953125 29.546875 \r\nQ 41.0625 30.671875 31.203125 33.03125 \r\nQ 21.34375 35.40625 17.390625 37.5 \r\nQ 12.25 40.1875 9.734375 44.15625 \r\nQ 7.234375 48.140625 7.234375 53.078125 \r\nQ 7.234375 58.5 10.296875 63.203125 \r\nQ 13.375 67.921875 19.28125 70.359375 \r\nQ 25.203125 72.796875 32.421875 72.796875 \r\nQ 40.375 72.796875 46.453125 70.234375 \r\nQ 52.546875 67.671875 55.8125 62.6875 \r\nQ 59.078125 57.71875 59.328125 51.421875 \r\nL 50.25 50.734375 \r\nQ 49.515625 57.515625 45.28125 60.984375 \r\nQ 41.0625 64.453125 32.8125 64.453125 \r\nQ 24.21875 64.453125 20.28125 61.296875 \r\nQ 16.359375 58.15625 16.359375 53.71875 \r\nQ 16.359375 49.859375 19.140625 47.359375 \r\nQ 21.875 44.875 33.421875 42.265625 \r\nQ 44.96875 39.65625 49.265625 37.703125 \r\nQ 55.515625 34.8125 58.484375 30.390625 \r\nQ 61.46875 25.984375 61.46875 20.21875 \r\nQ 61.46875 14.5 58.203125 9.4375 \r\nQ 54.9375 4.390625 48.796875 1.578125 \r\nQ 42.671875 -1.21875 35.015625 -1.21875 \r\nQ 25.296875 -1.21875 18.71875 1.609375 \r\nQ 12.15625 4.4375 8.421875 10.125 \r\nQ 4.6875 15.828125 4.5 23 \r\nz\r\n\" id=\"ArialMT-83\"/>\r\n       <path d=\"M 25.921875 0 \r\nL 25.921875 63.140625 \r\nL 2.34375 63.140625 \r\nL 2.34375 71.578125 \r\nL 59.078125 71.578125 \r\nL 59.078125 63.140625 \r\nL 35.40625 63.140625 \r\nL 35.40625 0 \r\nz\r\n\" id=\"ArialMT-84\"/>\r\n       <path d=\"M -0.140625 0 \r\nL 27.34375 71.578125 \r\nL 37.546875 71.578125 \r\nL 66.84375 0 \r\nL 56.0625 0 \r\nL 47.703125 21.6875 \r\nL 17.78125 21.6875 \r\nL 9.90625 0 \r\nz\r\nM 20.515625 29.390625 \r\nL 44.78125 29.390625 \r\nL 37.3125 49.21875 \r\nQ 33.890625 58.25 32.234375 64.0625 \r\nQ 30.859375 57.171875 28.375 50.390625 \r\nz\r\n\" id=\"ArialMT-65\"/>\r\n       <path d=\"M 58.796875 25.09375 \r\nL 68.265625 22.703125 \r\nQ 65.28125 11.03125 57.546875 4.90625 \r\nQ 49.8125 -1.21875 38.625 -1.21875 \r\nQ 27.046875 -1.21875 19.796875 3.484375 \r\nQ 12.546875 8.203125 8.765625 17.140625 \r\nQ 4.984375 26.078125 4.984375 36.328125 \r\nQ 4.984375 47.515625 9.25 55.828125 \r\nQ 13.53125 64.15625 21.40625 68.46875 \r\nQ 29.296875 72.796875 38.765625 72.796875 \r\nQ 49.515625 72.796875 56.828125 67.328125 \r\nQ 64.15625 61.859375 67.046875 51.953125 \r\nL 57.71875 49.75 \r\nQ 55.21875 57.5625 50.484375 61.125 \r\nQ 45.75 64.703125 38.578125 64.703125 \r\nQ 30.328125 64.703125 24.78125 60.734375 \r\nQ 19.234375 56.78125 16.984375 50.109375 \r\nQ 14.75 43.453125 14.75 36.375 \r\nQ 14.75 27.25 17.40625 20.4375 \r\nQ 20.0625 13.625 25.671875 10.25 \r\nQ 31.296875 6.890625 37.84375 6.890625 \r\nQ 45.796875 6.890625 51.3125 11.46875 \r\nQ 56.84375 16.0625 58.796875 25.09375 \r\nz\r\n\" id=\"ArialMT-67\"/>\r\n       <path d=\"M 4.828125 34.859375 \r\nQ 4.828125 52.6875 14.390625 62.765625 \r\nQ 23.96875 72.859375 39.109375 72.859375 \r\nQ 49.03125 72.859375 56.984375 68.109375 \r\nQ 64.9375 63.375 69.109375 54.90625 \r\nQ 73.296875 46.4375 73.296875 35.6875 \r\nQ 73.296875 24.8125 68.890625 16.21875 \r\nQ 64.5 7.625 56.4375 3.203125 \r\nQ 48.390625 -1.21875 39.0625 -1.21875 \r\nQ 28.953125 -1.21875 20.984375 3.65625 \r\nQ 13.03125 8.546875 8.921875 16.984375 \r\nQ 4.828125 25.4375 4.828125 34.859375 \r\nz\r\nM 14.59375 34.71875 \r\nQ 14.59375 21.78125 21.546875 14.328125 \r\nQ 28.515625 6.890625 39.015625 6.890625 \r\nQ 49.703125 6.890625 56.609375 14.40625 \r\nQ 63.53125 21.921875 63.53125 35.75 \r\nQ 63.53125 44.484375 60.578125 51 \r\nQ 57.625 57.515625 51.921875 61.109375 \r\nQ 46.234375 64.703125 39.15625 64.703125 \r\nQ 29.109375 64.703125 21.84375 57.78125 \r\nQ 14.59375 50.875 14.59375 34.71875 \r\nz\r\n\" id=\"ArialMT-79\"/>\r\n       <path d=\"M 7.71875 0 \r\nL 7.71875 71.578125 \r\nL 32.375 71.578125 \r\nQ 40.71875 71.578125 45.125 70.5625 \r\nQ 51.265625 69.140625 55.609375 65.4375 \r\nQ 61.28125 60.640625 64.078125 53.1875 \r\nQ 66.890625 45.75 66.890625 36.1875 \r\nQ 66.890625 28.03125 64.984375 21.734375 \r\nQ 63.09375 15.4375 60.109375 11.296875 \r\nQ 57.125 7.171875 53.578125 4.796875 \r\nQ 50.046875 2.4375 45.046875 1.21875 \r\nQ 40.046875 0 33.546875 0 \r\nz\r\nM 17.1875 8.453125 \r\nL 32.46875 8.453125 \r\nQ 39.546875 8.453125 43.578125 9.765625 \r\nQ 47.609375 11.078125 50 13.484375 \r\nQ 53.375 16.84375 55.25 22.53125 \r\nQ 57.125 28.21875 57.125 36.328125 \r\nQ 57.125 47.5625 53.4375 53.59375 \r\nQ 49.75 59.625 44.484375 61.671875 \r\nQ 40.671875 63.140625 32.234375 63.140625 \r\nL 17.1875 63.140625 \r\nz\r\n\" id=\"ArialMT-68\"/>\r\n      </defs>\r\n      <g style=\"fill:#262626;\" transform=\"translate(890.306666 393.025313)rotate(-90)scale(0.1 -0.1)\">\r\n       <use xlink:href=\"#ArialMT-82\"/>\r\n       <use x=\"72.216797\" xlink:href=\"#ArialMT-69\"/>\r\n       <use x=\"138.916016\" xlink:href=\"#ArialMT-71\"/>\r\n       <use x=\"216.699219\" xlink:href=\"#ArialMT-95\"/>\r\n       <use x=\"272.314453\" xlink:href=\"#ArialMT-83\"/>\r\n       <use x=\"339.013672\" xlink:href=\"#ArialMT-84\"/>\r\n       <use x=\"392.722656\" xlink:href=\"#ArialMT-65\"/>\r\n       <use x=\"452.046875\" xlink:href=\"#ArialMT-84\"/>\r\n       <use x=\"513.130859\" xlink:href=\"#ArialMT-69\"/>\r\n       <use x=\"579.830078\" xlink:href=\"#ArialMT-95\"/>\r\n       <use x=\"635.445312\" xlink:href=\"#ArialMT-67\"/>\r\n       <use x=\"707.662109\" xlink:href=\"#ArialMT-79\"/>\r\n       <use x=\"785.445312\" xlink:href=\"#ArialMT-68\"/>\r\n       <use x=\"857.662109\" xlink:href=\"#ArialMT-69\"/>\r\n      </g>\r\n     </g>\r\n    </g>\r\n    <g id=\"xtick_92\">\r\n     <g id=\"line2d_92\">\r\n      <path clip-path=\"url(#p00f71fba64)\" d=\"M 897.155319 293.589375 \r\nL 897.155319 21.789375 \r\n\" style=\"fill:none;stroke:#ffffff;stroke-linecap:round;stroke-width:0.8;\"/>\r\n     </g>\r\n     <g id=\"text_92\">\r\n      <!-- 日常支出 -->\r\n      <defs>\r\n       <path d=\"M 12.5 0 \r\nL 12.5 62.5 \r\nL 62.5 62.5 \r\nL 62.5 0 \r\nz\r\nM 14.0625 1.5625 \r\nL 60.9375 1.5625 \r\nL 60.9375 60.9375 \r\nL 14.0625 60.9375 \r\nz\r\n\" id=\"ArialMT-26085\"/>\r\n       <path d=\"M 12.5 0 \r\nL 12.5 62.5 \r\nL 62.5 62.5 \r\nL 62.5 0 \r\nz\r\nM 14.0625 1.5625 \r\nL 60.9375 1.5625 \r\nL 60.9375 60.9375 \r\nL 14.0625 60.9375 \r\nz\r\n\" id=\"ArialMT-24120\"/>\r\n       <path d=\"M 12.5 0 \r\nL 12.5 62.5 \r\nL 62.5 62.5 \r\nL 62.5 0 \r\nz\r\nM 14.0625 1.5625 \r\nL 60.9375 1.5625 \r\nL 60.9375 60.9375 \r\nL 14.0625 60.9375 \r\nz\r\n\" id=\"ArialMT-20986\"/>\r\n      </defs>\r\n      <g style=\"fill:#262626;\" transform=\"translate(899.740475 330.589375)rotate(-90)scale(0.1 -0.1)\">\r\n       <use xlink:href=\"#ArialMT-26085\"/>\r\n       <use x=\"75\" xlink:href=\"#ArialMT-24120\"/>\r\n       <use x=\"150\" xlink:href=\"#ArialMT-25903\"/>\r\n       <use x=\"225\" xlink:href=\"#ArialMT-20986\"/>\r\n      </g>\r\n     </g>\r\n    </g>\r\n    <g id=\"xtick_93\">\r\n     <g id=\"line2d_93\">\r\n      <path clip-path=\"url(#p00f71fba64)\" d=\"M 906.653191 293.589375 \r\nL 906.653191 21.789375 \r\n\" style=\"fill:none;stroke:#ffffff;stroke-linecap:round;stroke-width:0.8;\"/>\r\n     </g>\r\n     <g id=\"text_93\">\r\n      <!-- found_until_apply_month -->\r\n      <defs>\r\n       <path d=\"M 8.6875 0 \r\nL 8.6875 45.015625 \r\nL 0.921875 45.015625 \r\nL 0.921875 51.859375 \r\nL 8.6875 51.859375 \r\nL 8.6875 57.375 \r\nQ 8.6875 62.59375 9.625 65.140625 \r\nQ 10.890625 68.5625 14.078125 70.671875 \r\nQ 17.28125 72.796875 23.046875 72.796875 \r\nQ 26.765625 72.796875 31.25 71.921875 \r\nL 29.9375 64.265625 \r\nQ 27.203125 64.75 24.75 64.75 \r\nQ 20.75 64.75 19.09375 63.03125 \r\nQ 17.4375 61.328125 17.4375 56.640625 \r\nL 17.4375 51.859375 \r\nL 27.546875 51.859375 \r\nL 27.546875 45.015625 \r\nL 17.4375 45.015625 \r\nL 17.4375 0 \r\nz\r\n\" id=\"ArialMT-102\"/>\r\n       <path d=\"M 3.328125 25.921875 \r\nQ 3.328125 40.328125 11.328125 47.265625 \r\nQ 18.015625 53.03125 27.640625 53.03125 \r\nQ 38.328125 53.03125 45.109375 46.015625 \r\nQ 51.90625 39.015625 51.90625 26.65625 \r\nQ 51.90625 16.65625 48.90625 10.90625 \r\nQ 45.90625 5.171875 40.15625 2 \r\nQ 34.421875 -1.171875 27.640625 -1.171875 \r\nQ 16.75 -1.171875 10.03125 5.8125 \r\nQ 3.328125 12.796875 3.328125 25.921875 \r\nz\r\nM 12.359375 25.921875 \r\nQ 12.359375 15.96875 16.703125 11.015625 \r\nQ 21.046875 6.0625 27.640625 6.0625 \r\nQ 34.1875 6.0625 38.53125 11.03125 \r\nQ 42.875 16.015625 42.875 26.21875 \r\nQ 42.875 35.84375 38.5 40.796875 \r\nQ 34.125 45.75 27.640625 45.75 \r\nQ 21.046875 45.75 16.703125 40.8125 \r\nQ 12.359375 35.890625 12.359375 25.921875 \r\nz\r\n\" id=\"ArialMT-111\"/>\r\n       <path d=\"M 40.578125 0 \r\nL 40.578125 7.625 \r\nQ 34.515625 -1.171875 24.125 -1.171875 \r\nQ 19.53125 -1.171875 15.546875 0.578125 \r\nQ 11.578125 2.34375 9.640625 5 \r\nQ 7.71875 7.671875 6.9375 11.53125 \r\nQ 6.390625 14.109375 6.390625 19.734375 \r\nL 6.390625 51.859375 \r\nL 15.1875 51.859375 \r\nL 15.1875 23.09375 \r\nQ 15.1875 16.21875 15.71875 13.8125 \r\nQ 16.546875 10.359375 19.234375 8.375 \r\nQ 21.921875 6.390625 25.875 6.390625 \r\nQ 29.828125 6.390625 33.296875 8.421875 \r\nQ 36.765625 10.453125 38.203125 13.9375 \r\nQ 39.65625 17.4375 39.65625 24.078125 \r\nL 39.65625 51.859375 \r\nL 48.4375 51.859375 \r\nL 48.4375 0 \r\nz\r\n\" id=\"ArialMT-117\"/>\r\n       <path d=\"M 6.59375 0 \r\nL 6.59375 51.859375 \r\nL 14.5 51.859375 \r\nL 14.5 44.484375 \r\nQ 20.21875 53.03125 31 53.03125 \r\nQ 35.6875 53.03125 39.625 51.34375 \r\nQ 43.5625 49.65625 45.515625 46.921875 \r\nQ 47.46875 44.1875 48.25 40.4375 \r\nQ 48.734375 37.984375 48.734375 31.890625 \r\nL 48.734375 0 \r\nL 39.9375 0 \r\nL 39.9375 31.546875 \r\nQ 39.9375 36.921875 38.90625 39.578125 \r\nQ 37.890625 42.234375 35.28125 43.8125 \r\nQ 32.671875 45.40625 29.15625 45.40625 \r\nQ 23.53125 45.40625 19.453125 41.84375 \r\nQ 15.375 38.28125 15.375 28.328125 \r\nL 15.375 0 \r\nz\r\n\" id=\"ArialMT-110\"/>\r\n       <path d=\"M 40.234375 0 \r\nL 40.234375 6.546875 \r\nQ 35.296875 -1.171875 25.734375 -1.171875 \r\nQ 19.53125 -1.171875 14.328125 2.25 \r\nQ 9.125 5.671875 6.265625 11.796875 \r\nQ 3.421875 17.921875 3.421875 25.875 \r\nQ 3.421875 33.640625 6 39.96875 \r\nQ 8.59375 46.296875 13.765625 49.65625 \r\nQ 18.953125 53.03125 25.34375 53.03125 \r\nQ 30.03125 53.03125 33.6875 51.046875 \r\nQ 37.359375 49.078125 39.65625 45.90625 \r\nL 39.65625 71.578125 \r\nL 48.390625 71.578125 \r\nL 48.390625 0 \r\nz\r\nM 12.453125 25.875 \r\nQ 12.453125 15.921875 16.640625 10.984375 \r\nQ 20.84375 6.0625 26.5625 6.0625 \r\nQ 32.328125 6.0625 36.34375 10.765625 \r\nQ 40.375 15.484375 40.375 25.140625 \r\nQ 40.375 35.796875 36.265625 40.765625 \r\nQ 32.171875 45.75 26.171875 45.75 \r\nQ 20.3125 45.75 16.375 40.96875 \r\nQ 12.453125 36.1875 12.453125 25.875 \r\nz\r\n\" id=\"ArialMT-100\"/>\r\n       <path d=\"M 25.78125 7.859375 \r\nL 27.046875 0.09375 \r\nQ 23.34375 -0.6875 20.40625 -0.6875 \r\nQ 15.625 -0.6875 12.984375 0.828125 \r\nQ 10.359375 2.34375 9.28125 4.8125 \r\nQ 8.203125 7.28125 8.203125 15.1875 \r\nL 8.203125 45.015625 \r\nL 1.765625 45.015625 \r\nL 1.765625 51.859375 \r\nL 8.203125 51.859375 \r\nL 8.203125 64.703125 \r\nL 16.9375 69.96875 \r\nL 16.9375 51.859375 \r\nL 25.78125 51.859375 \r\nL 25.78125 45.015625 \r\nL 16.9375 45.015625 \r\nL 16.9375 14.703125 \r\nQ 16.9375 10.9375 17.40625 9.859375 \r\nQ 17.875 8.796875 18.921875 8.15625 \r\nQ 19.96875 7.515625 21.921875 7.515625 \r\nQ 23.390625 7.515625 25.78125 7.859375 \r\nz\r\n\" id=\"ArialMT-116\"/>\r\n       <path d=\"M 6.640625 61.46875 \r\nL 6.640625 71.578125 \r\nL 15.4375 71.578125 \r\nL 15.4375 61.46875 \r\nz\r\nM 6.640625 0 \r\nL 6.640625 51.859375 \r\nL 15.4375 51.859375 \r\nL 15.4375 0 \r\nz\r\n\" id=\"ArialMT-105\"/>\r\n       <path d=\"M 6.390625 0 \r\nL 6.390625 71.578125 \r\nL 15.1875 71.578125 \r\nL 15.1875 0 \r\nz\r\n\" id=\"ArialMT-108\"/>\r\n       <path d=\"M 40.4375 6.390625 \r\nQ 35.546875 2.25 31.03125 0.53125 \r\nQ 26.515625 -1.171875 21.34375 -1.171875 \r\nQ 12.796875 -1.171875 8.203125 3 \r\nQ 3.609375 7.171875 3.609375 13.671875 \r\nQ 3.609375 17.484375 5.34375 20.625 \r\nQ 7.078125 23.78125 9.890625 25.6875 \r\nQ 12.703125 27.59375 16.21875 28.5625 \r\nQ 18.796875 29.25 24.03125 29.890625 \r\nQ 34.671875 31.15625 39.703125 32.90625 \r\nQ 39.75 34.71875 39.75 35.203125 \r\nQ 39.75 40.578125 37.25 42.78125 \r\nQ 33.890625 45.75 27.25 45.75 \r\nQ 21.046875 45.75 18.09375 43.578125 \r\nQ 15.140625 41.40625 13.71875 35.890625 \r\nL 5.125 37.0625 \r\nQ 6.296875 42.578125 8.984375 45.96875 \r\nQ 11.671875 49.359375 16.75 51.1875 \r\nQ 21.828125 53.03125 28.515625 53.03125 \r\nQ 35.15625 53.03125 39.296875 51.46875 \r\nQ 43.453125 49.90625 45.40625 47.53125 \r\nQ 47.359375 45.171875 48.140625 41.546875 \r\nQ 48.578125 39.3125 48.578125 33.453125 \r\nL 48.578125 21.734375 \r\nQ 48.578125 9.46875 49.140625 6.21875 \r\nQ 49.703125 2.984375 51.375 0 \r\nL 42.1875 0 \r\nQ 40.828125 2.734375 40.4375 6.390625 \r\nz\r\nM 39.703125 26.03125 \r\nQ 34.90625 24.078125 25.34375 22.703125 \r\nQ 19.921875 21.921875 17.671875 20.9375 \r\nQ 15.4375 19.96875 14.203125 18.09375 \r\nQ 12.984375 16.21875 12.984375 13.921875 \r\nQ 12.984375 10.40625 15.640625 8.0625 \r\nQ 18.3125 5.71875 23.4375 5.71875 \r\nQ 28.515625 5.71875 32.46875 7.9375 \r\nQ 36.421875 10.15625 38.28125 14.015625 \r\nQ 39.703125 17 39.703125 22.796875 \r\nz\r\n\" id=\"ArialMT-97\"/>\r\n       <path d=\"M 6.59375 -19.875 \r\nL 6.59375 51.859375 \r\nL 14.59375 51.859375 \r\nL 14.59375 45.125 \r\nQ 17.4375 49.078125 21 51.046875 \r\nQ 24.5625 53.03125 29.640625 53.03125 \r\nQ 36.28125 53.03125 41.359375 49.609375 \r\nQ 46.4375 46.1875 49.015625 39.953125 \r\nQ 51.609375 33.734375 51.609375 26.3125 \r\nQ 51.609375 18.359375 48.75 11.984375 \r\nQ 45.90625 5.609375 40.453125 2.21875 \r\nQ 35.015625 -1.171875 29 -1.171875 \r\nQ 24.609375 -1.171875 21.109375 0.6875 \r\nQ 17.625 2.546875 15.375 5.375 \r\nL 15.375 -19.875 \r\nz\r\nM 14.546875 25.640625 \r\nQ 14.546875 15.625 18.59375 10.84375 \r\nQ 22.65625 6.0625 28.421875 6.0625 \r\nQ 34.28125 6.0625 38.453125 11.015625 \r\nQ 42.625 15.96875 42.625 26.375 \r\nQ 42.625 36.28125 38.546875 41.203125 \r\nQ 34.46875 46.140625 28.8125 46.140625 \r\nQ 23.1875 46.140625 18.859375 40.890625 \r\nQ 14.546875 35.640625 14.546875 25.640625 \r\nz\r\n\" id=\"ArialMT-112\"/>\r\n       <path d=\"M 6.203125 -19.96875 \r\nL 5.21875 -11.71875 \r\nQ 8.109375 -12.5 10.25 -12.5 \r\nQ 13.1875 -12.5 14.9375 -11.515625 \r\nQ 16.703125 -10.546875 17.828125 -8.796875 \r\nQ 18.65625 -7.46875 20.515625 -2.25 \r\nQ 20.75 -1.515625 21.296875 -0.09375 \r\nL 1.609375 51.859375 \r\nL 11.078125 51.859375 \r\nL 21.875 21.828125 \r\nQ 23.96875 16.109375 25.640625 9.8125 \r\nQ 27.15625 15.875 29.25 21.625 \r\nL 40.328125 51.859375 \r\nL 49.125 51.859375 \r\nL 29.390625 -0.875 \r\nQ 26.21875 -9.421875 24.46875 -12.640625 \r\nQ 22.125 -17 19.09375 -19.015625 \r\nQ 16.0625 -21.046875 11.859375 -21.046875 \r\nQ 9.328125 -21.046875 6.203125 -19.96875 \r\nz\r\n\" id=\"ArialMT-121\"/>\r\n       <path d=\"M 6.59375 0 \r\nL 6.59375 71.578125 \r\nL 15.375 71.578125 \r\nL 15.375 45.90625 \r\nQ 21.53125 53.03125 30.90625 53.03125 \r\nQ 36.671875 53.03125 40.921875 50.75 \r\nQ 45.171875 48.484375 47 44.484375 \r\nQ 48.828125 40.484375 48.828125 32.859375 \r\nL 48.828125 0 \r\nL 40.046875 0 \r\nL 40.046875 32.859375 \r\nQ 40.046875 39.453125 37.1875 42.453125 \r\nQ 34.328125 45.453125 29.109375 45.453125 \r\nQ 25.203125 45.453125 21.75 43.421875 \r\nQ 18.3125 41.40625 16.84375 37.9375 \r\nQ 15.375 34.46875 15.375 28.375 \r\nL 15.375 0 \r\nz\r\n\" id=\"ArialMT-104\"/>\r\n      </defs>\r\n      <g style=\"fill:#262626;\" transform=\"translate(909.240691 412.333125)rotate(-90)scale(0.1 -0.1)\">\r\n       <use xlink:href=\"#ArialMT-102\"/>\r\n       <use x=\"27.783203\" xlink:href=\"#ArialMT-111\"/>\r\n       <use x=\"83.398438\" xlink:href=\"#ArialMT-117\"/>\r\n       <use x=\"139.013672\" xlink:href=\"#ArialMT-110\"/>\r\n       <use x=\"194.628906\" xlink:href=\"#ArialMT-100\"/>\r\n       <use x=\"250.244141\" xlink:href=\"#ArialMT-95\"/>\r\n       <use x=\"305.859375\" xlink:href=\"#ArialMT-117\"/>\r\n       <use x=\"361.474609\" xlink:href=\"#ArialMT-110\"/>\r\n       <use x=\"417.089844\" xlink:href=\"#ArialMT-116\"/>\r\n       <use x=\"444.873047\" xlink:href=\"#ArialMT-105\"/>\r\n       <use x=\"467.089844\" xlink:href=\"#ArialMT-108\"/>\r\n       <use x=\"489.306641\" xlink:href=\"#ArialMT-95\"/>\r\n       <use x=\"544.921875\" xlink:href=\"#ArialMT-97\"/>\r\n       <use x=\"600.537109\" xlink:href=\"#ArialMT-112\"/>\r\n       <use x=\"656.152344\" xlink:href=\"#ArialMT-112\"/>\r\n       <use x=\"711.767578\" xlink:href=\"#ArialMT-108\"/>\r\n       <use x=\"733.984375\" xlink:href=\"#ArialMT-121\"/>\r\n       <use x=\"783.984375\" xlink:href=\"#ArialMT-95\"/>\r\n       <use x=\"839.599609\" xlink:href=\"#ArialMT-109\"/>\r\n       <use x=\"922.900391\" xlink:href=\"#ArialMT-111\"/>\r\n       <use x=\"978.515625\" xlink:href=\"#ArialMT-110\"/>\r\n       <use x=\"1034.130859\" xlink:href=\"#ArialMT-116\"/>\r\n       <use x=\"1061.914062\" xlink:href=\"#ArialMT-104\"/>\r\n      </g>\r\n     </g>\r\n    </g>\r\n    <g id=\"xtick_94\">\r\n     <g id=\"line2d_94\">\r\n      <path clip-path=\"url(#p00f71fba64)\" d=\"M 916.151064 293.589375 \r\nL 916.151064 21.789375 \r\n\" style=\"fill:none;stroke:#ffffff;stroke-linecap:round;stroke-width:0.8;\"/>\r\n     </g>\r\n     <g id=\"text_94\">\r\n      <!-- 贷款额度比率 -->\r\n      <defs>\r\n       <path d=\"M 12.5 0 \r\nL 12.5 62.5 \r\nL 62.5 62.5 \r\nL 62.5 0 \r\nz\r\nM 14.0625 1.5625 \r\nL 60.9375 1.5625 \r\nL 60.9375 60.9375 \r\nL 14.0625 60.9375 \r\nz\r\n\" id=\"ArialMT-29575\"/>\r\n      </defs>\r\n      <g style=\"fill:#262626;\" transform=\"translate(918.73622 345.589375)rotate(-90)scale(0.1 -0.1)\">\r\n       <use xlink:href=\"#ArialMT-36151\"/>\r\n       <use x=\"75\" xlink:href=\"#ArialMT-27454\"/>\r\n       <use x=\"150\" xlink:href=\"#ArialMT-39069\"/>\r\n       <use x=\"225\" xlink:href=\"#ArialMT-24230\"/>\r\n       <use x=\"300\" xlink:href=\"#ArialMT-27604\"/>\r\n       <use x=\"375\" xlink:href=\"#ArialMT-29575\"/>\r\n      </g>\r\n     </g>\r\n    </g>\r\n    <g id=\"text_95\">\r\n     <!-- variable -->\r\n     <defs>\r\n      <path d=\"M 21 0 \r\nL 1.265625 51.859375 \r\nL 10.546875 51.859375 \r\nL 21.6875 20.796875 \r\nQ 23.484375 15.765625 25 10.359375 \r\nQ 26.171875 14.453125 28.265625 20.21875 \r\nL 39.796875 51.859375 \r\nL 48.828125 51.859375 \r\nL 29.203125 0 \r\nz\r\n\" id=\"ArialMT-118\"/>\r\n      <path d=\"M 14.703125 0 \r\nL 6.546875 0 \r\nL 6.546875 71.578125 \r\nL 15.328125 71.578125 \r\nL 15.328125 46.046875 \r\nQ 20.90625 53.03125 29.546875 53.03125 \r\nQ 34.328125 53.03125 38.59375 51.09375 \r\nQ 42.875 49.171875 45.625 45.671875 \r\nQ 48.390625 42.1875 49.953125 37.25 \r\nQ 51.515625 32.328125 51.515625 26.703125 \r\nQ 51.515625 13.375 44.921875 6.09375 \r\nQ 38.328125 -1.171875 29.109375 -1.171875 \r\nQ 19.921875 -1.171875 14.703125 6.5 \r\nz\r\nM 14.59375 26.3125 \r\nQ 14.59375 17 17.140625 12.84375 \r\nQ 21.296875 6.0625 28.375 6.0625 \r\nQ 34.125 6.0625 38.328125 11.0625 \r\nQ 42.53125 16.0625 42.53125 25.984375 \r\nQ 42.53125 36.140625 38.5 40.96875 \r\nQ 34.46875 45.796875 28.765625 45.796875 \r\nQ 23 45.796875 18.796875 40.796875 \r\nQ 14.59375 35.796875 14.59375 26.3125 \r\nz\r\n\" id=\"ArialMT-98\"/>\r\n      <path d=\"M 42.09375 16.703125 \r\nL 51.171875 15.578125 \r\nQ 49.03125 7.625 43.21875 3.21875 \r\nQ 37.40625 -1.171875 28.375 -1.171875 \r\nQ 17 -1.171875 10.328125 5.828125 \r\nQ 3.65625 12.84375 3.65625 25.484375 \r\nQ 3.65625 38.578125 10.390625 45.796875 \r\nQ 17.140625 53.03125 27.875 53.03125 \r\nQ 38.28125 53.03125 44.875 45.953125 \r\nQ 51.46875 38.875 51.46875 26.03125 \r\nQ 51.46875 25.25 51.421875 23.6875 \r\nL 12.75 23.6875 \r\nQ 13.234375 15.140625 17.578125 10.59375 \r\nQ 21.921875 6.0625 28.421875 6.0625 \r\nQ 33.25 6.0625 36.671875 8.59375 \r\nQ 40.09375 11.140625 42.09375 16.703125 \r\nz\r\nM 13.234375 30.90625 \r\nL 42.1875 30.90625 \r\nQ 41.609375 37.453125 38.875 40.71875 \r\nQ 34.671875 45.796875 27.984375 45.796875 \r\nQ 21.921875 45.796875 17.796875 41.75 \r\nQ 13.671875 37.703125 13.234375 30.90625 \r\nz\r\n\" id=\"ArialMT-101\"/>\r\n     </defs>\r\n     <g style=\"fill:#262626;\" transform=\"translate(456.991406 431.19875)scale(0.1 -0.1)\">\r\n      <use xlink:href=\"#ArialMT-118\"/>\r\n      <use x=\"50\" xlink:href=\"#ArialMT-97\"/>\r\n      <use x=\"105.615234\" xlink:href=\"#ArialMT-114\"/>\r\n      <use x=\"138.916016\" xlink:href=\"#ArialMT-105\"/>\r\n      <use x=\"161.132812\" xlink:href=\"#ArialMT-97\"/>\r\n      <use x=\"216.748047\" xlink:href=\"#ArialMT-98\"/>\r\n      <use x=\"272.363281\" xlink:href=\"#ArialMT-108\"/>\r\n      <use x=\"294.580078\" xlink:href=\"#ArialMT-101\"/>\r\n     </g>\r\n    </g>\r\n   </g>\r\n   <g id=\"matplotlib.axis_2\">\r\n    <g id=\"ytick_1\">\r\n     <g id=\"line2d_95\">\r\n      <path clip-path=\"url(#p00f71fba64)\" d=\"M 28.1 293.589375 \r\nL 920.9 293.589375 \r\n\" style=\"fill:none;stroke:#ffffff;stroke-linecap:round;stroke-width:0.8;\"/>\r\n     </g>\r\n     <g id=\"text_96\">\r\n      <!-- 0.0 -->\r\n      <defs>\r\n       <path d=\"M 9.078125 0 \r\nL 9.078125 10.015625 \r\nL 19.09375 10.015625 \r\nL 19.09375 0 \r\nz\r\n\" id=\"ArialMT-46\"/>\r\n      </defs>\r\n      <g style=\"fill:#262626;\" transform=\"translate(7.2 297.168281)scale(0.1 -0.1)\">\r\n       <use xlink:href=\"#ArialMT-48\"/>\r\n       <use x=\"55.615234\" xlink:href=\"#ArialMT-46\"/>\r\n       <use x=\"83.398438\" xlink:href=\"#ArialMT-48\"/>\r\n      </g>\r\n     </g>\r\n    </g>\r\n    <g id=\"ytick_2\">\r\n     <g id=\"line2d_96\">\r\n      <path clip-path=\"url(#p00f71fba64)\" d=\"M 28.1 263.317861 \r\nL 920.9 263.317861 \r\n\" style=\"fill:none;stroke:#ffffff;stroke-linecap:round;stroke-width:0.8;\"/>\r\n     </g>\r\n     <g id=\"text_97\">\r\n      <!-- 0.1 -->\r\n      <g style=\"fill:#262626;\" transform=\"translate(7.2 266.896768)scale(0.1 -0.1)\">\r\n       <use xlink:href=\"#ArialMT-48\"/>\r\n       <use x=\"55.615234\" xlink:href=\"#ArialMT-46\"/>\r\n       <use x=\"83.398438\" xlink:href=\"#ArialMT-49\"/>\r\n      </g>\r\n     </g>\r\n    </g>\r\n    <g id=\"ytick_3\">\r\n     <g id=\"line2d_97\">\r\n      <path clip-path=\"url(#p00f71fba64)\" d=\"M 28.1 233.046348 \r\nL 920.9 233.046348 \r\n\" style=\"fill:none;stroke:#ffffff;stroke-linecap:round;stroke-width:0.8;\"/>\r\n     </g>\r\n     <g id=\"text_98\">\r\n      <!-- 0.2 -->\r\n      <g style=\"fill:#262626;\" transform=\"translate(7.2 236.625254)scale(0.1 -0.1)\">\r\n       <use xlink:href=\"#ArialMT-48\"/>\r\n       <use x=\"55.615234\" xlink:href=\"#ArialMT-46\"/>\r\n       <use x=\"83.398438\" xlink:href=\"#ArialMT-50\"/>\r\n      </g>\r\n     </g>\r\n    </g>\r\n    <g id=\"ytick_4\">\r\n     <g id=\"line2d_98\">\r\n      <path clip-path=\"url(#p00f71fba64)\" d=\"M 28.1 202.774834 \r\nL 920.9 202.774834 \r\n\" style=\"fill:none;stroke:#ffffff;stroke-linecap:round;stroke-width:0.8;\"/>\r\n     </g>\r\n     <g id=\"text_99\">\r\n      <!-- 0.3 -->\r\n      <g style=\"fill:#262626;\" transform=\"translate(7.2 206.35374)scale(0.1 -0.1)\">\r\n       <use xlink:href=\"#ArialMT-48\"/>\r\n       <use x=\"55.615234\" xlink:href=\"#ArialMT-46\"/>\r\n       <use x=\"83.398438\" xlink:href=\"#ArialMT-51\"/>\r\n      </g>\r\n     </g>\r\n    </g>\r\n    <g id=\"ytick_5\">\r\n     <g id=\"line2d_99\">\r\n      <path clip-path=\"url(#p00f71fba64)\" d=\"M 28.1 172.50332 \r\nL 920.9 172.50332 \r\n\" style=\"fill:none;stroke:#ffffff;stroke-linecap:round;stroke-width:0.8;\"/>\r\n     </g>\r\n     <g id=\"text_100\">\r\n      <!-- 0.4 -->\r\n      <g style=\"fill:#262626;\" transform=\"translate(7.2 176.082226)scale(0.1 -0.1)\">\r\n       <use xlink:href=\"#ArialMT-48\"/>\r\n       <use x=\"55.615234\" xlink:href=\"#ArialMT-46\"/>\r\n       <use x=\"83.398438\" xlink:href=\"#ArialMT-52\"/>\r\n      </g>\r\n     </g>\r\n    </g>\r\n    <g id=\"ytick_6\">\r\n     <g id=\"line2d_100\">\r\n      <path clip-path=\"url(#p00f71fba64)\" d=\"M 28.1 142.231806 \r\nL 920.9 142.231806 \r\n\" style=\"fill:none;stroke:#ffffff;stroke-linecap:round;stroke-width:0.8;\"/>\r\n     </g>\r\n     <g id=\"text_101\">\r\n      <!-- 0.5 -->\r\n      <g style=\"fill:#262626;\" transform=\"translate(7.2 145.810713)scale(0.1 -0.1)\">\r\n       <use xlink:href=\"#ArialMT-48\"/>\r\n       <use x=\"55.615234\" xlink:href=\"#ArialMT-46\"/>\r\n       <use x=\"83.398438\" xlink:href=\"#ArialMT-53\"/>\r\n      </g>\r\n     </g>\r\n    </g>\r\n    <g id=\"ytick_7\">\r\n     <g id=\"line2d_101\">\r\n      <path clip-path=\"url(#p00f71fba64)\" d=\"M 28.1 111.960293 \r\nL 920.9 111.960293 \r\n\" style=\"fill:none;stroke:#ffffff;stroke-linecap:round;stroke-width:0.8;\"/>\r\n     </g>\r\n     <g id=\"text_102\">\r\n      <!-- 0.6 -->\r\n      <g style=\"fill:#262626;\" transform=\"translate(7.2 115.539199)scale(0.1 -0.1)\">\r\n       <use xlink:href=\"#ArialMT-48\"/>\r\n       <use x=\"55.615234\" xlink:href=\"#ArialMT-46\"/>\r\n       <use x=\"83.398438\" xlink:href=\"#ArialMT-54\"/>\r\n      </g>\r\n     </g>\r\n    </g>\r\n    <g id=\"ytick_8\">\r\n     <g id=\"line2d_102\">\r\n      <path clip-path=\"url(#p00f71fba64)\" d=\"M 28.1 81.688779 \r\nL 920.9 81.688779 \r\n\" style=\"fill:none;stroke:#ffffff;stroke-linecap:round;stroke-width:0.8;\"/>\r\n     </g>\r\n     <g id=\"text_103\">\r\n      <!-- 0.7 -->\r\n      <defs>\r\n       <path d=\"M 4.734375 62.203125 \r\nL 4.734375 70.65625 \r\nL 51.078125 70.65625 \r\nL 51.078125 63.8125 \r\nQ 44.234375 56.546875 37.515625 44.484375 \r\nQ 30.8125 32.421875 27.15625 19.671875 \r\nQ 24.515625 10.6875 23.78125 0 \r\nL 14.75 0 \r\nQ 14.890625 8.453125 18.0625 20.40625 \r\nQ 21.234375 32.375 27.171875 43.484375 \r\nQ 33.109375 54.59375 39.796875 62.203125 \r\nz\r\n\" id=\"ArialMT-55\"/>\r\n      </defs>\r\n      <g style=\"fill:#262626;\" transform=\"translate(7.2 85.267685)scale(0.1 -0.1)\">\r\n       <use xlink:href=\"#ArialMT-48\"/>\r\n       <use x=\"55.615234\" xlink:href=\"#ArialMT-46\"/>\r\n       <use x=\"83.398438\" xlink:href=\"#ArialMT-55\"/>\r\n      </g>\r\n     </g>\r\n    </g>\r\n    <g id=\"ytick_9\">\r\n     <g id=\"line2d_103\">\r\n      <path clip-path=\"url(#p00f71fba64)\" d=\"M 28.1 51.417265 \r\nL 920.9 51.417265 \r\n\" style=\"fill:none;stroke:#ffffff;stroke-linecap:round;stroke-width:0.8;\"/>\r\n     </g>\r\n     <g id=\"text_104\">\r\n      <!-- 0.8 -->\r\n      <defs>\r\n       <path d=\"M 17.671875 38.8125 \r\nQ 12.203125 40.828125 9.5625 44.53125 \r\nQ 6.9375 48.25 6.9375 53.421875 \r\nQ 6.9375 61.234375 12.546875 66.546875 \r\nQ 18.171875 71.875 27.484375 71.875 \r\nQ 36.859375 71.875 42.578125 66.421875 \r\nQ 48.296875 60.984375 48.296875 53.171875 \r\nQ 48.296875 48.1875 45.671875 44.5 \r\nQ 43.0625 40.828125 37.75 38.8125 \r\nQ 44.34375 36.671875 47.78125 31.875 \r\nQ 51.21875 27.09375 51.21875 20.453125 \r\nQ 51.21875 11.28125 44.71875 5.03125 \r\nQ 38.234375 -1.21875 27.640625 -1.21875 \r\nQ 17.046875 -1.21875 10.546875 5.046875 \r\nQ 4.046875 11.328125 4.046875 20.703125 \r\nQ 4.046875 27.6875 7.59375 32.390625 \r\nQ 11.140625 37.109375 17.671875 38.8125 \r\nz\r\nM 15.921875 53.71875 \r\nQ 15.921875 48.640625 19.1875 45.40625 \r\nQ 22.46875 42.1875 27.6875 42.1875 \r\nQ 32.765625 42.1875 36.015625 45.375 \r\nQ 39.265625 48.578125 39.265625 53.21875 \r\nQ 39.265625 58.0625 35.90625 61.359375 \r\nQ 32.5625 64.65625 27.59375 64.65625 \r\nQ 22.5625 64.65625 19.234375 61.421875 \r\nQ 15.921875 58.203125 15.921875 53.71875 \r\nz\r\nM 13.09375 20.65625 \r\nQ 13.09375 16.890625 14.875 13.375 \r\nQ 16.65625 9.859375 20.171875 7.921875 \r\nQ 23.6875 6 27.734375 6 \r\nQ 34.03125 6 38.125 10.046875 \r\nQ 42.234375 14.109375 42.234375 20.359375 \r\nQ 42.234375 26.703125 38.015625 30.859375 \r\nQ 33.796875 35.015625 27.4375 35.015625 \r\nQ 21.234375 35.015625 17.15625 30.90625 \r\nQ 13.09375 26.8125 13.09375 20.65625 \r\nz\r\n\" id=\"ArialMT-56\"/>\r\n      </defs>\r\n      <g style=\"fill:#262626;\" transform=\"translate(7.2 54.996171)scale(0.1 -0.1)\">\r\n       <use xlink:href=\"#ArialMT-48\"/>\r\n       <use x=\"55.615234\" xlink:href=\"#ArialMT-46\"/>\r\n       <use x=\"83.398438\" xlink:href=\"#ArialMT-56\"/>\r\n      </g>\r\n     </g>\r\n    </g>\r\n   </g>\r\n   <g id=\"patch_3\">\r\n    <path clip-path=\"url(#p00f71fba64)\" d=\"M 30.474468 293.589375 \r\nL 35.223404 293.589375 \r\nL 35.223404 261.375508 \r\nL 30.474468 261.375508 \r\nz\r\n\" style=\"fill:#1f77b4;stroke:#ffffff;stroke-linejoin:miter;\"/>\r\n   </g>\r\n   <g id=\"patch_4\">\r\n    <path clip-path=\"url(#p00f71fba64)\" d=\"M 39.97234 293.589375 \r\nL 44.721277 293.589375 \r\nL 44.721277 261.375508 \r\nL 39.97234 261.375508 \r\nz\r\n\" style=\"fill:#1f77b4;stroke:#ffffff;stroke-linejoin:miter;\"/>\r\n   </g>\r\n   <g id=\"patch_5\">\r\n    <path clip-path=\"url(#p00f71fba64)\" d=\"M 49.470213 293.589375 \r\nL 54.219149 293.589375 \r\nL 54.219149 260.561704 \r\nL 49.470213 260.561704 \r\nz\r\n\" style=\"fill:#1f77b4;stroke:#ffffff;stroke-linejoin:miter;\"/>\r\n   </g>\r\n   <g id=\"patch_6\">\r\n    <path clip-path=\"url(#p00f71fba64)\" d=\"M 58.968085 293.589375 \r\nL 63.717021 293.589375 \r\nL 63.717021 257.807711 \r\nL 58.968085 257.807711 \r\nz\r\n\" style=\"fill:#1f77b4;stroke:#ffffff;stroke-linejoin:miter;\"/>\r\n   </g>\r\n   <g id=\"patch_7\">\r\n    <path clip-path=\"url(#p00f71fba64)\" d=\"M 68.465957 293.589375 \r\nL 73.214894 293.589375 \r\nL 73.214894 245.990192 \r\nL 68.465957 245.990192 \r\nz\r\n\" style=\"fill:#1f77b4;stroke:#ffffff;stroke-linejoin:miter;\"/>\r\n   </g>\r\n   <g id=\"patch_8\">\r\n    <path clip-path=\"url(#p00f71fba64)\" d=\"M 77.96383 293.589375 \r\nL 82.712766 293.589375 \r\nL 82.712766 253.40106 \r\nL 77.96383 253.40106 \r\nz\r\n\" style=\"fill:#1f77b4;stroke:#ffffff;stroke-linejoin:miter;\"/>\r\n   </g>\r\n   <g id=\"patch_9\">\r\n    <path clip-path=\"url(#p00f71fba64)\" d=\"M 87.461702 293.589375 \r\nL 92.210638 293.589375 \r\nL 92.210638 224.061784 \r\nL 87.461702 224.061784 \r\nz\r\n\" style=\"fill:#1f77b4;stroke:#ffffff;stroke-linejoin:miter;\"/>\r\n   </g>\r\n   <g id=\"patch_10\">\r\n    <path clip-path=\"url(#p00f71fba64)\" d=\"M 96.959574 293.589375 \r\nL 101.708511 293.589375 \r\nL 101.708511 284.524298 \r\nL 96.959574 284.524298 \r\nz\r\n\" style=\"fill:#1f77b4;stroke:#ffffff;stroke-linejoin:miter;\"/>\r\n   </g>\r\n   <g id=\"patch_11\">\r\n    <path clip-path=\"url(#p00f71fba64)\" d=\"M 106.457447 293.589375 \r\nL 111.206383 293.589375 \r\nL 111.206383 195.390078 \r\nL 106.457447 195.390078 \r\nz\r\n\" style=\"fill:#1f77b4;stroke:#ffffff;stroke-linejoin:miter;\"/>\r\n   </g>\r\n   <g id=\"patch_12\">\r\n    <path clip-path=\"url(#p00f71fba64)\" d=\"M 115.955319 293.589375 \r\nL 120.704255 293.589375 \r\nL 120.704255 284.732005 \r\nL 115.955319 284.732005 \r\nz\r\n\" style=\"fill:#1f77b4;stroke:#ffffff;stroke-linejoin:miter;\"/>\r\n   </g>\r\n   <g id=\"patch_13\">\r\n    <path clip-path=\"url(#p00f71fba64)\" d=\"M 125.453191 293.589375 \r\nL 130.202128 293.589375 \r\nL 130.202128 183.102598 \r\nL 125.453191 183.102598 \r\nz\r\n\" style=\"fill:#1f77b4;stroke:#ffffff;stroke-linejoin:miter;\"/>\r\n   </g>\r\n   <g id=\"patch_14\">\r\n    <path clip-path=\"url(#p00f71fba64)\" d=\"M 134.951064 293.589375 \r\nL 139.7 293.589375 \r\nL 139.7 258.555271 \r\nL 134.951064 258.555271 \r\nz\r\n\" style=\"fill:#1f77b4;stroke:#ffffff;stroke-linejoin:miter;\"/>\r\n   </g>\r\n   <g id=\"patch_15\">\r\n    <path clip-path=\"url(#p00f71fba64)\" d=\"M 144.448936 293.589375 \r\nL 149.197872 293.589375 \r\nL 149.197872 107.988761 \r\nL 144.448936 107.988761 \r\nz\r\n\" style=\"fill:#1f77b4;stroke:#ffffff;stroke-linejoin:miter;\"/>\r\n   </g>\r\n   <g id=\"patch_16\">\r\n    <path clip-path=\"url(#p00f71fba64)\" d=\"M 153.946809 293.589375 \r\nL 158.695745 293.589375 \r\nL 158.695745 258.436772 \r\nL 153.946809 258.436772 \r\nz\r\n\" style=\"fill:#1f77b4;stroke:#ffffff;stroke-linejoin:miter;\"/>\r\n   </g>\r\n   <g id=\"patch_17\">\r\n    <path clip-path=\"url(#p00f71fba64)\" d=\"M 163.444681 293.589375 \r\nL 168.193617 293.589375 \r\nL 168.193617 99.692899 \r\nL 163.444681 99.692899 \r\nz\r\n\" style=\"fill:#1f77b4;stroke:#ffffff;stroke-linejoin:miter;\"/>\r\n   </g>\r\n   <g id=\"patch_18\">\r\n    <path clip-path=\"url(#p00f71fba64)\" d=\"M 172.942553 293.589375 \r\nL 177.691489 293.589375 \r\nL 177.691489 224.27445 \r\nL 172.942553 224.27445 \r\nz\r\n\" style=\"fill:#1f77b4;stroke:#ffffff;stroke-linejoin:miter;\"/>\r\n   </g>\r\n   <g id=\"patch_19\">\r\n    <path clip-path=\"url(#p00f71fba64)\" d=\"M 182.440426 293.589375 \r\nL 187.189362 293.589375 \r\nL 187.189362 231.24014 \r\nL 182.440426 231.24014 \r\nz\r\n\" style=\"fill:#1f77b4;stroke:#ffffff;stroke-linejoin:miter;\"/>\r\n   </g>\r\n   <g id=\"patch_20\">\r\n    <path clip-path=\"url(#p00f71fba64)\" d=\"M 191.938298 293.589375 \r\nL 196.687234 293.589375 \r\nL 196.687234 79.622283 \r\nL 191.938298 79.622283 \r\nz\r\n\" style=\"fill:#1f77b4;stroke:#ffffff;stroke-linejoin:miter;\"/>\r\n   </g>\r\n   <g id=\"patch_21\">\r\n    <path clip-path=\"url(#p00f71fba64)\" d=\"M 201.43617 293.589375 \r\nL 206.185106 293.589375 \r\nL 206.185106 220.848728 \r\nL 201.43617 220.848728 \r\nz\r\n\" style=\"fill:#1f77b4;stroke:#ffffff;stroke-linejoin:miter;\"/>\r\n   </g>\r\n   <g id=\"patch_22\">\r\n    <path clip-path=\"url(#p00f71fba64)\" d=\"M 210.934043 293.589375 \r\nL 215.682979 293.589375 \r\nL 215.682979 232.348286 \r\nL 210.934043 232.348286 \r\nz\r\n\" style=\"fill:#1f77b4;stroke:#ffffff;stroke-linejoin:miter;\"/>\r\n   </g>\r\n   <g id=\"patch_23\">\r\n    <path clip-path=\"url(#p00f71fba64)\" d=\"M 220.431915 293.589375 \r\nL 225.180851 293.589375 \r\nL 225.180851 66.79578 \r\nL 220.431915 66.79578 \r\nz\r\n\" style=\"fill:#1f77b4;stroke:#ffffff;stroke-linejoin:miter;\"/>\r\n   </g>\r\n   <g id=\"patch_24\">\r\n    <path clip-path=\"url(#p00f71fba64)\" d=\"M 229.929787 293.589375 \r\nL 234.678723 293.589375 \r\nL 234.678723 210.859861 \r\nL 229.929787 210.859861 \r\nz\r\n\" style=\"fill:#1f77b4;stroke:#ffffff;stroke-linejoin:miter;\"/>\r\n   </g>\r\n   <g id=\"patch_25\">\r\n    <path clip-path=\"url(#p00f71fba64)\" d=\"M 239.42766 293.589375 \r\nL 244.176596 293.589375 \r\nL 244.176596 193.091164 \r\nL 239.42766 193.091164 \r\nz\r\n\" style=\"fill:#1f77b4;stroke:#ffffff;stroke-linejoin:miter;\"/>\r\n   </g>\r\n   <g id=\"patch_26\">\r\n    <path clip-path=\"url(#p00f71fba64)\" d=\"M 248.925532 293.589375 \r\nL 253.674468 293.589375 \r\nL 253.674468 60.821463 \r\nL 248.925532 60.821463 \r\nz\r\n\" style=\"fill:#1f77b4;stroke:#ffffff;stroke-linejoin:miter;\"/>\r\n   </g>\r\n   <g id=\"patch_27\">\r\n    <path clip-path=\"url(#p00f71fba64)\" d=\"M 258.423404 293.589375 \r\nL 263.17234 293.589375 \r\nL 263.17234 209.607106 \r\nL 258.423404 209.607106 \r\nz\r\n\" style=\"fill:#1f77b4;stroke:#ffffff;stroke-linejoin:miter;\"/>\r\n   </g>\r\n   <g id=\"patch_28\">\r\n    <path clip-path=\"url(#p00f71fba64)\" d=\"M 267.921277 293.589375 \r\nL 272.670213 293.589375 \r\nL 272.670213 197.358098 \r\nL 267.921277 197.358098 \r\nz\r\n\" style=\"fill:#1f77b4;stroke:#ffffff;stroke-linejoin:miter;\"/>\r\n   </g>\r\n   <g id=\"patch_29\">\r\n    <path clip-path=\"url(#p00f71fba64)\" d=\"M 277.419149 293.589375 \r\nL 282.168085 293.589375 \r\nL 282.168085 34.732232 \r\nL 277.419149 34.732232 \r\nz\r\n\" style=\"fill:#1f77b4;stroke:#ffffff;stroke-linejoin:miter;\"/>\r\n   </g>\r\n   <g id=\"patch_30\">\r\n    <path clip-path=\"url(#p00f71fba64)\" d=\"M 286.917021 293.589375 \r\nL 291.665957 293.589375 \r\nL 291.665957 218.235894 \r\nL 286.917021 218.235894 \r\nz\r\n\" style=\"fill:#1f77b4;stroke:#ffffff;stroke-linejoin:miter;\"/>\r\n   </g>\r\n   <g id=\"patch_31\">\r\n    <path clip-path=\"url(#p00f71fba64)\" d=\"M 296.414894 293.589375 \r\nL 301.16383 293.589375 \r\nL 301.16383 217.620879 \r\nL 296.414894 217.620879 \r\nz\r\n\" style=\"fill:#1f77b4;stroke:#ffffff;stroke-linejoin:miter;\"/>\r\n   </g>\r\n   <g id=\"patch_32\">\r\n    <path clip-path=\"url(#p00f71fba64)\" d=\"M 305.912766 293.589375 \r\nL 310.661702 293.589375 \r\nL 310.661702 187.004219 \r\nL 305.912766 187.004219 \r\nz\r\n\" style=\"fill:#1f77b4;stroke:#ffffff;stroke-linejoin:miter;\"/>\r\n   </g>\r\n   <g id=\"patch_33\">\r\n    <path clip-path=\"url(#p00f71fba64)\" d=\"M 315.410638 293.589375 \r\nL 320.159574 293.589375 \r\nL 320.159574 201.623564 \r\nL 315.410638 201.623564 \r\nz\r\n\" style=\"fill:#1f77b4;stroke:#ffffff;stroke-linejoin:miter;\"/>\r\n   </g>\r\n   <g id=\"patch_34\">\r\n    <path clip-path=\"url(#p00f71fba64)\" d=\"M 324.908511 293.589375 \r\nL 329.657447 293.589375 \r\nL 329.657447 194.611845 \r\nL 324.908511 194.611845 \r\nz\r\n\" style=\"fill:#1f77b4;stroke:#ffffff;stroke-linejoin:miter;\"/>\r\n   </g>\r\n   <g id=\"patch_35\">\r\n    <path clip-path=\"url(#p00f71fba64)\" d=\"M 334.406383 293.589375 \r\nL 339.155319 293.589375 \r\nL 339.155319 252.903638 \r\nL 334.406383 252.903638 \r\nz\r\n\" style=\"fill:#1f77b4;stroke:#ffffff;stroke-linejoin:miter;\"/>\r\n   </g>\r\n   <g id=\"patch_36\">\r\n    <path clip-path=\"url(#p00f71fba64)\" d=\"M 343.904255 293.589375 \r\nL 348.653191 293.589375 \r\nL 348.653191 292.942905 \r\nL 343.904255 292.942905 \r\nz\r\n\" style=\"fill:#1f77b4;stroke:#ffffff;stroke-linejoin:miter;\"/>\r\n   </g>\r\n   <g id=\"patch_37\">\r\n    <path clip-path=\"url(#p00f71fba64)\" d=\"M 353.402128 293.589375 \r\nL 358.151064 293.589375 \r\nL 358.151064 289.471248 \r\nL 353.402128 289.471248 \r\nz\r\n\" style=\"fill:#1f77b4;stroke:#ffffff;stroke-linejoin:miter;\"/>\r\n   </g>\r\n   <g id=\"patch_38\">\r\n    <path clip-path=\"url(#p00f71fba64)\" d=\"M 362.9 293.589375 \r\nL 367.648936 293.589375 \r\nL 367.648936 237.454809 \r\nL 362.9 237.454809 \r\nz\r\n\" style=\"fill:#1f77b4;stroke:#ffffff;stroke-linejoin:miter;\"/>\r\n   </g>\r\n   <g id=\"patch_39\">\r\n    <path clip-path=\"url(#p00f71fba64)\" d=\"M 372.397872 293.589375 \r\nL 377.146809 293.589375 \r\nL 377.146809 255.395642 \r\nL 372.397872 255.395642 \r\nz\r\n\" style=\"fill:#1f77b4;stroke:#ffffff;stroke-linejoin:miter;\"/>\r\n   </g>\r\n   <g id=\"patch_40\">\r\n    <path clip-path=\"url(#p00f71fba64)\" d=\"M 381.895745 293.589375 \r\nL 386.644681 293.589375 \r\nL 386.644681 164.999186 \r\nL 381.895745 164.999186 \r\nz\r\n\" style=\"fill:#1f77b4;stroke:#ffffff;stroke-linejoin:miter;\"/>\r\n   </g>\r\n   <g id=\"patch_41\">\r\n    <path clip-path=\"url(#p00f71fba64)\" d=\"M 391.393617 293.589375 \r\nL 396.142553 293.589375 \r\nL 396.142553 292.942905 \r\nL 391.393617 292.942905 \r\nz\r\n\" style=\"fill:#1f77b4;stroke:#ffffff;stroke-linejoin:miter;\"/>\r\n   </g>\r\n   <g id=\"patch_42\">\r\n    <path clip-path=\"url(#p00f71fba64)\" d=\"M 400.891489 293.589375 \r\nL 405.640426 293.589375 \r\nL 405.640426 175.528729 \r\nL 400.891489 175.528729 \r\nz\r\n\" style=\"fill:#1f77b4;stroke:#ffffff;stroke-linejoin:miter;\"/>\r\n   </g>\r\n   <g id=\"patch_43\">\r\n    <path clip-path=\"url(#p00f71fba64)\" d=\"M 410.389362 293.589375 \r\nL 415.138298 293.589375 \r\nL 415.138298 271.905386 \r\nL 410.389362 271.905386 \r\nz\r\n\" style=\"fill:#1f77b4;stroke:#ffffff;stroke-linejoin:miter;\"/>\r\n   </g>\r\n   <g id=\"patch_44\">\r\n    <path clip-path=\"url(#p00f71fba64)\" d=\"M 419.887234 293.589375 \r\nL 424.63617 293.589375 \r\nL 424.63617 173.504792 \r\nL 419.887234 173.504792 \r\nz\r\n\" style=\"fill:#1f77b4;stroke:#ffffff;stroke-linejoin:miter;\"/>\r\n   </g>\r\n   <g id=\"patch_45\">\r\n    <path clip-path=\"url(#p00f71fba64)\" d=\"M 429.385106 293.589375 \r\nL 434.134043 293.589375 \r\nL 434.134043 255.164528 \r\nL 429.385106 255.164528 \r\nz\r\n\" style=\"fill:#1f77b4;stroke:#ffffff;stroke-linejoin:miter;\"/>\r\n   </g>\r\n   <g id=\"patch_46\">\r\n    <path clip-path=\"url(#p00f71fba64)\" d=\"M 438.882979 293.589375 \r\nL 443.631915 293.589375 \r\nL 443.631915 216.968568 \r\nL 438.882979 216.968568 \r\nz\r\n\" style=\"fill:#1f77b4;stroke:#ffffff;stroke-linejoin:miter;\"/>\r\n   </g>\r\n   <g id=\"patch_47\">\r\n    <path clip-path=\"url(#p00f71fba64)\" d=\"M 448.380851 293.589375 \r\nL 453.129787 293.589375 \r\nL 453.129787 179.475093 \r\nL 448.380851 179.475093 \r\nz\r\n\" style=\"fill:#1f77b4;stroke:#ffffff;stroke-linejoin:miter;\"/>\r\n   </g>\r\n   <g id=\"patch_48\">\r\n    <path clip-path=\"url(#p00f71fba64)\" d=\"M 457.878723 293.589375 \r\nL 462.62766 293.589375 \r\nL 462.62766 266.047887 \r\nL 457.878723 266.047887 \r\nz\r\n\" style=\"fill:#1f77b4;stroke:#ffffff;stroke-linejoin:miter;\"/>\r\n   </g>\r\n   <g id=\"patch_49\">\r\n    <path clip-path=\"url(#p00f71fba64)\" d=\"M 467.376596 293.589375 \r\nL 472.125532 293.589375 \r\nL 472.125532 232.299406 \r\nL 467.376596 232.299406 \r\nz\r\n\" style=\"fill:#1f77b4;stroke:#ffffff;stroke-linejoin:miter;\"/>\r\n   </g>\r\n   <g id=\"patch_50\">\r\n    <path clip-path=\"url(#p00f71fba64)\" d=\"M 476.874468 293.589375 \r\nL 481.623404 293.589375 \r\nL 481.623404 244.91043 \r\nL 476.874468 244.91043 \r\nz\r\n\" style=\"fill:#1f77b4;stroke:#ffffff;stroke-linejoin:miter;\"/>\r\n   </g>\r\n   <g id=\"patch_51\">\r\n    <path clip-path=\"url(#p00f71fba64)\" d=\"M 486.37234 293.589375 \r\nL 491.121277 293.589375 \r\nL 491.121277 235.355871 \r\nL 486.37234 235.355871 \r\nz\r\n\" style=\"fill:#1f77b4;stroke:#ffffff;stroke-linejoin:miter;\"/>\r\n   </g>\r\n   <g id=\"patch_52\">\r\n    <path clip-path=\"url(#p00f71fba64)\" d=\"M 495.870213 293.589375 \r\nL 500.619149 293.589375 \r\nL 500.619149 256.378844 \r\nL 495.870213 256.378844 \r\nz\r\n\" style=\"fill:#1f77b4;stroke:#ffffff;stroke-linejoin:miter;\"/>\r\n   </g>\r\n   <g id=\"patch_53\">\r\n    <path clip-path=\"url(#p00f71fba64)\" d=\"M 505.368085 293.589375 \r\nL 510.117021 293.589375 \r\nL 510.117021 256.264918 \r\nL 505.368085 256.264918 \r\nz\r\n\" style=\"fill:#1f77b4;stroke:#ffffff;stroke-linejoin:miter;\"/>\r\n   </g>\r\n   <g id=\"patch_54\">\r\n    <path clip-path=\"url(#p00f71fba64)\" d=\"M 514.865957 293.589375 \r\nL 519.614894 293.589375 \r\nL 519.614894 252.699303 \r\nL 514.865957 252.699303 \r\nz\r\n\" style=\"fill:#1f77b4;stroke:#ffffff;stroke-linejoin:miter;\"/>\r\n   </g>\r\n   <g id=\"patch_55\">\r\n    <path clip-path=\"url(#p00f71fba64)\" d=\"M 524.36383 293.589375 \r\nL 529.112766 293.589375 \r\nL 529.112766 278.936756 \r\nL 524.36383 278.936756 \r\nz\r\n\" style=\"fill:#1f77b4;stroke:#ffffff;stroke-linejoin:miter;\"/>\r\n   </g>\r\n   <g id=\"patch_56\">\r\n    <path clip-path=\"url(#p00f71fba64)\" d=\"M 533.861702 293.589375 \r\nL 538.610638 293.589375 \r\nL 538.610638 278.936756 \r\nL 533.861702 278.936756 \r\nz\r\n\" style=\"fill:#1f77b4;stroke:#ffffff;stroke-linejoin:miter;\"/>\r\n   </g>\r\n   <g id=\"patch_57\">\r\n    <path clip-path=\"url(#p00f71fba64)\" d=\"M 543.359574 293.589375 \r\nL 548.108511 293.589375 \r\nL 548.108511 256.382385 \r\nL 543.359574 256.382385 \r\nz\r\n\" style=\"fill:#1f77b4;stroke:#ffffff;stroke-linejoin:miter;\"/>\r\n   </g>\r\n   <g id=\"patch_58\">\r\n    <path clip-path=\"url(#p00f71fba64)\" d=\"M 552.857447 293.589375 \r\nL 557.606383 293.589375 \r\nL 557.606383 278.936756 \r\nL 552.857447 278.936756 \r\nz\r\n\" style=\"fill:#1f77b4;stroke:#ffffff;stroke-linejoin:miter;\"/>\r\n   </g>\r\n   <g id=\"patch_59\">\r\n    <path clip-path=\"url(#p00f71fba64)\" d=\"M 562.355319 293.589375 \r\nL 567.104255 293.589375 \r\nL 567.104255 278.936756 \r\nL 562.355319 278.936756 \r\nz\r\n\" style=\"fill:#1f77b4;stroke:#ffffff;stroke-linejoin:miter;\"/>\r\n   </g>\r\n   <g id=\"patch_60\">\r\n    <path clip-path=\"url(#p00f71fba64)\" d=\"M 571.853191 293.589375 \r\nL 576.602128 293.589375 \r\nL 576.602128 244.34232 \r\nL 571.853191 244.34232 \r\nz\r\n\" style=\"fill:#1f77b4;stroke:#ffffff;stroke-linejoin:miter;\"/>\r\n   </g>\r\n   <g id=\"patch_61\">\r\n    <path clip-path=\"url(#p00f71fba64)\" d=\"M 581.351064 293.589375 \r\nL 586.1 293.589375 \r\nL 586.1 278.936756 \r\nL 581.351064 278.936756 \r\nz\r\n\" style=\"fill:#1f77b4;stroke:#ffffff;stroke-linejoin:miter;\"/>\r\n   </g>\r\n   <g id=\"patch_62\">\r\n    <path clip-path=\"url(#p00f71fba64)\" d=\"M 590.848936 293.589375 \r\nL 595.597872 293.589375 \r\nL 595.597872 278.936756 \r\nL 590.848936 278.936756 \r\nz\r\n\" style=\"fill:#1f77b4;stroke:#ffffff;stroke-linejoin:miter;\"/>\r\n   </g>\r\n   <g id=\"patch_63\">\r\n    <path clip-path=\"url(#p00f71fba64)\" d=\"M 600.346809 293.589375 \r\nL 605.095745 293.589375 \r\nL 605.095745 293.589375 \r\nL 600.346809 293.589375 \r\nz\r\n\" style=\"fill:#1f77b4;stroke:#ffffff;stroke-linejoin:miter;\"/>\r\n   </g>\r\n   <g id=\"patch_64\">\r\n    <path clip-path=\"url(#p00f71fba64)\" d=\"M 609.844681 293.589375 \r\nL 614.593617 293.589375 \r\nL 614.593617 292.188415 \r\nL 609.844681 292.188415 \r\nz\r\n\" style=\"fill:#1f77b4;stroke:#ffffff;stroke-linejoin:miter;\"/>\r\n   </g>\r\n   <g id=\"patch_65\">\r\n    <path clip-path=\"url(#p00f71fba64)\" d=\"M 619.342553 293.589375 \r\nL 624.091489 293.589375 \r\nL 624.091489 290.860996 \r\nL 619.342553 290.860996 \r\nz\r\n\" style=\"fill:#1f77b4;stroke:#ffffff;stroke-linejoin:miter;\"/>\r\n   </g>\r\n   <g id=\"patch_66\">\r\n    <path clip-path=\"url(#p00f71fba64)\" d=\"M 628.840426 293.589375 \r\nL 633.589362 293.589375 \r\nL 633.589362 289.958626 \r\nL 628.840426 289.958626 \r\nz\r\n\" style=\"fill:#1f77b4;stroke:#ffffff;stroke-linejoin:miter;\"/>\r\n   </g>\r\n   <g id=\"patch_67\">\r\n    <path clip-path=\"url(#p00f71fba64)\" d=\"M 638.338298 293.589375 \r\nL 643.087234 293.589375 \r\nL 643.087234 287.667947 \r\nL 638.338298 287.667947 \r\nz\r\n\" style=\"fill:#1f77b4;stroke:#ffffff;stroke-linejoin:miter;\"/>\r\n   </g>\r\n   <g id=\"patch_68\">\r\n    <path clip-path=\"url(#p00f71fba64)\" d=\"M 647.83617 293.589375 \r\nL 652.585106 293.589375 \r\nL 652.585106 272.147497 \r\nL 647.83617 272.147497 \r\nz\r\n\" style=\"fill:#1f77b4;stroke:#ffffff;stroke-linejoin:miter;\"/>\r\n   </g>\r\n   <g id=\"patch_69\">\r\n    <path clip-path=\"url(#p00f71fba64)\" d=\"M 657.334043 293.589375 \r\nL 662.082979 293.589375 \r\nL 662.082979 278.939731 \r\nL 657.334043 278.939731 \r\nz\r\n\" style=\"fill:#1f77b4;stroke:#ffffff;stroke-linejoin:miter;\"/>\r\n   </g>\r\n   <g id=\"patch_70\">\r\n    <path clip-path=\"url(#p00f71fba64)\" d=\"M 666.831915 293.589375 \r\nL 671.580851 293.589375 \r\nL 671.580851 281.665002 \r\nL 666.831915 281.665002 \r\nz\r\n\" style=\"fill:#1f77b4;stroke:#ffffff;stroke-linejoin:miter;\"/>\r\n   </g>\r\n   <g id=\"patch_71\">\r\n    <path clip-path=\"url(#p00f71fba64)\" d=\"M 676.329787 293.589375 \r\nL 681.078723 293.589375 \r\nL 681.078723 290.146727 \r\nL 676.329787 290.146727 \r\nz\r\n\" style=\"fill:#1f77b4;stroke:#ffffff;stroke-linejoin:miter;\"/>\r\n   </g>\r\n   <g id=\"patch_72\">\r\n    <path clip-path=\"url(#p00f71fba64)\" d=\"M 685.82766 293.589375 \r\nL 690.576596 293.589375 \r\nL 690.576596 291.555796 \r\nL 685.82766 291.555796 \r\nz\r\n\" style=\"fill:#1f77b4;stroke:#ffffff;stroke-linejoin:miter;\"/>\r\n   </g>\r\n   <g id=\"patch_73\">\r\n    <path clip-path=\"url(#p00f71fba64)\" d=\"M 695.325532 293.589375 \r\nL 700.074468 293.589375 \r\nL 700.074468 280.686842 \r\nL 695.325532 280.686842 \r\nz\r\n\" style=\"fill:#1f77b4;stroke:#ffffff;stroke-linejoin:miter;\"/>\r\n   </g>\r\n   <g id=\"patch_74\">\r\n    <path clip-path=\"url(#p00f71fba64)\" d=\"M 704.823404 293.589375 \r\nL 709.57234 293.589375 \r\nL 709.57234 264.312068 \r\nL 704.823404 264.312068 \r\nz\r\n\" style=\"fill:#1f77b4;stroke:#ffffff;stroke-linejoin:miter;\"/>\r\n   </g>\r\n   <g id=\"patch_75\">\r\n    <path clip-path=\"url(#p00f71fba64)\" d=\"M 714.321277 293.589375 \r\nL 719.070213 293.589375 \r\nL 719.070213 273.205662 \r\nL 714.321277 273.205662 \r\nz\r\n\" style=\"fill:#1f77b4;stroke:#ffffff;stroke-linejoin:miter;\"/>\r\n   </g>\r\n   <g id=\"patch_76\">\r\n    <path clip-path=\"url(#p00f71fba64)\" d=\"M 723.819149 293.589375 \r\nL 728.568085 293.589375 \r\nL 728.568085 290.146727 \r\nL 723.819149 290.146727 \r\nz\r\n\" style=\"fill:#1f77b4;stroke:#ffffff;stroke-linejoin:miter;\"/>\r\n   </g>\r\n   <g id=\"patch_77\">\r\n    <path clip-path=\"url(#p00f71fba64)\" d=\"M 733.317021 293.589375 \r\nL 738.065957 293.589375 \r\nL 738.065957 267.966192 \r\nL 733.317021 267.966192 \r\nz\r\n\" style=\"fill:#1f77b4;stroke:#ffffff;stroke-linejoin:miter;\"/>\r\n   </g>\r\n   <g id=\"patch_78\">\r\n    <path clip-path=\"url(#p00f71fba64)\" d=\"M 742.814894 293.589375 \r\nL 747.56383 293.589375 \r\nL 747.56383 286.916404 \r\nL 742.814894 286.916404 \r\nz\r\n\" style=\"fill:#1f77b4;stroke:#ffffff;stroke-linejoin:miter;\"/>\r\n   </g>\r\n   <g id=\"patch_79\">\r\n    <path clip-path=\"url(#p00f71fba64)\" d=\"M 752.312766 293.589375 \r\nL 757.061702 293.589375 \r\nL 757.061702 242.691794 \r\nL 752.312766 242.691794 \r\nz\r\n\" style=\"fill:#1f77b4;stroke:#ffffff;stroke-linejoin:miter;\"/>\r\n   </g>\r\n   <g id=\"patch_80\">\r\n    <path clip-path=\"url(#p00f71fba64)\" d=\"M 761.810638 293.589375 \r\nL 766.559574 293.589375 \r\nL 766.559574 290.818234 \r\nL 761.810638 290.818234 \r\nz\r\n\" style=\"fill:#1f77b4;stroke:#ffffff;stroke-linejoin:miter;\"/>\r\n   </g>\r\n   <g id=\"patch_81\">\r\n    <path clip-path=\"url(#p00f71fba64)\" d=\"M 771.308511 293.589375 \r\nL 776.057447 293.589375 \r\nL 776.057447 289.585257 \r\nL 771.308511 289.585257 \r\nz\r\n\" style=\"fill:#1f77b4;stroke:#ffffff;stroke-linejoin:miter;\"/>\r\n   </g>\r\n   <g id=\"patch_82\">\r\n    <path clip-path=\"url(#p00f71fba64)\" d=\"M 780.806383 293.589375 \r\nL 785.555319 293.589375 \r\nL 785.555319 259.7587 \r\nL 780.806383 259.7587 \r\nz\r\n\" style=\"fill:#1f77b4;stroke:#ffffff;stroke-linejoin:miter;\"/>\r\n   </g>\r\n   <g id=\"patch_83\">\r\n    <path clip-path=\"url(#p00f71fba64)\" d=\"M 790.304255 293.589375 \r\nL 795.053191 293.589375 \r\nL 795.053191 277.232437 \r\nL 790.304255 277.232437 \r\nz\r\n\" style=\"fill:#1f77b4;stroke:#ffffff;stroke-linejoin:miter;\"/>\r\n   </g>\r\n   <g id=\"patch_84\">\r\n    <path clip-path=\"url(#p00f71fba64)\" d=\"M 799.802128 293.589375 \r\nL 804.551064 293.589375 \r\nL 804.551064 281.942317 \r\nL 799.802128 281.942317 \r\nz\r\n\" style=\"fill:#1f77b4;stroke:#ffffff;stroke-linejoin:miter;\"/>\r\n   </g>\r\n   <g id=\"patch_85\">\r\n    <path clip-path=\"url(#p00f71fba64)\" d=\"M 809.3 293.589375 \r\nL 814.048936 293.589375 \r\nL 814.048936 259.065554 \r\nL 809.3 259.065554 \r\nz\r\n\" style=\"fill:#1f77b4;stroke:#ffffff;stroke-linejoin:miter;\"/>\r\n   </g>\r\n   <g id=\"patch_86\">\r\n    <path clip-path=\"url(#p00f71fba64)\" d=\"M 818.797872 293.589375 \r\nL 823.546809 293.589375 \r\nL 823.546809 291.460385 \r\nL 818.797872 291.460385 \r\nz\r\n\" style=\"fill:#1f77b4;stroke:#ffffff;stroke-linejoin:miter;\"/>\r\n   </g>\r\n   <g id=\"patch_87\">\r\n    <path clip-path=\"url(#p00f71fba64)\" d=\"M 828.295745 293.589375 \r\nL 833.044681 293.589375 \r\nL 833.044681 291.460385 \r\nL 828.295745 291.460385 \r\nz\r\n\" style=\"fill:#1f77b4;stroke:#ffffff;stroke-linejoin:miter;\"/>\r\n   </g>\r\n   <g id=\"patch_88\">\r\n    <path clip-path=\"url(#p00f71fba64)\" d=\"M 837.793617 293.589375 \r\nL 842.542553 293.589375 \r\nL 842.542553 291.460385 \r\nL 837.793617 291.460385 \r\nz\r\n\" style=\"fill:#1f77b4;stroke:#ffffff;stroke-linejoin:miter;\"/>\r\n   </g>\r\n   <g id=\"patch_89\">\r\n    <path clip-path=\"url(#p00f71fba64)\" d=\"M 847.291489 293.589375 \r\nL 852.040426 293.589375 \r\nL 852.040426 220.632565 \r\nL 847.291489 220.632565 \r\nz\r\n\" style=\"fill:#1f77b4;stroke:#ffffff;stroke-linejoin:miter;\"/>\r\n   </g>\r\n   <g id=\"patch_90\">\r\n    <path clip-path=\"url(#p00f71fba64)\" d=\"M 856.789362 293.589375 \r\nL 861.538298 293.589375 \r\nL 861.538298 222.524471 \r\nL 856.789362 222.524471 \r\nz\r\n\" style=\"fill:#1f77b4;stroke:#ffffff;stroke-linejoin:miter;\"/>\r\n   </g>\r\n   <g id=\"patch_91\">\r\n    <path clip-path=\"url(#p00f71fba64)\" d=\"M 866.287234 293.589375 \r\nL 871.03617 293.589375 \r\nL 871.03617 182.817626 \r\nL 866.287234 182.817626 \r\nz\r\n\" style=\"fill:#1f77b4;stroke:#ffffff;stroke-linejoin:miter;\"/>\r\n   </g>\r\n   <g id=\"patch_92\">\r\n    <path clip-path=\"url(#p00f71fba64)\" d=\"M 875.785106 293.589375 \r\nL 880.534043 293.589375 \r\nL 880.534043 217.359658 \r\nL 875.785106 217.359658 \r\nz\r\n\" style=\"fill:#1f77b4;stroke:#ffffff;stroke-linejoin:miter;\"/>\r\n   </g>\r\n   <g id=\"patch_93\">\r\n    <path clip-path=\"url(#p00f71fba64)\" d=\"M 885.282979 293.589375 \r\nL 890.031915 293.589375 \r\nL 890.031915 130.689109 \r\nL 885.282979 130.689109 \r\nz\r\n\" style=\"fill:#1f77b4;stroke:#ffffff;stroke-linejoin:miter;\"/>\r\n   </g>\r\n   <g id=\"patch_94\">\r\n    <path clip-path=\"url(#p00f71fba64)\" d=\"M 894.780851 293.589375 \r\nL 899.529787 293.589375 \r\nL 899.529787 274.17032 \r\nL 894.780851 274.17032 \r\nz\r\n\" style=\"fill:#1f77b4;stroke:#ffffff;stroke-linejoin:miter;\"/>\r\n   </g>\r\n   <g id=\"patch_95\">\r\n    <path clip-path=\"url(#p00f71fba64)\" d=\"M 904.278723 293.589375 \r\nL 909.02766 293.589375 \r\nL 909.02766 98.18251 \r\nL 904.278723 98.18251 \r\nz\r\n\" style=\"fill:#1f77b4;stroke:#ffffff;stroke-linejoin:miter;\"/>\r\n   </g>\r\n   <g id=\"patch_96\">\r\n    <path clip-path=\"url(#p00f71fba64)\" d=\"M 913.776596 293.589375 \r\nL 918.525532 293.589375 \r\nL 918.525532 234.579182 \r\nL 913.776596 234.579182 \r\nz\r\n\" style=\"fill:#1f77b4;stroke:#ffffff;stroke-linejoin:miter;\"/>\r\n   </g>\r\n   <g id=\"patch_97\">\r\n    <path d=\"M 28.1 293.589375 \r\nL 28.1 21.789375 \r\n\" style=\"fill:none;stroke:#ffffff;stroke-linecap:square;stroke-linejoin:miter;stroke-width:0.8;\"/>\r\n   </g>\r\n   <g id=\"patch_98\">\r\n    <path d=\"M 920.9 293.589375 \r\nL 920.9 21.789375 \r\n\" style=\"fill:none;stroke:#ffffff;stroke-linecap:square;stroke-linejoin:miter;stroke-width:0.8;\"/>\r\n   </g>\r\n   <g id=\"patch_99\">\r\n    <path d=\"M 28.1 293.589375 \r\nL 920.9 293.589375 \r\n\" style=\"fill:none;stroke:#ffffff;stroke-linecap:square;stroke-linejoin:miter;stroke-width:0.8;\"/>\r\n   </g>\r\n   <g id=\"patch_100\">\r\n    <path d=\"M 28.1 21.789375 \r\nL 920.9 21.789375 \r\n\" style=\"fill:none;stroke:#ffffff;stroke-linecap:square;stroke-linejoin:miter;stroke-width:0.8;\"/>\r\n   </g>\r\n   <g id=\"text_105\">\r\n    <!-- 特征IV值分布 -->\r\n    <defs>\r\n     <path d=\"M 12.5 0 \r\nL 12.5 62.5 \r\nL 62.5 62.5 \r\nL 62.5 0 \r\nz\r\nM 14.0625 1.5625 \r\nL 60.9375 1.5625 \r\nL 60.9375 60.9375 \r\nL 14.0625 60.9375 \r\nz\r\n\" id=\"ArialMT-29305\"/>\r\n     <path d=\"M 12.5 0 \r\nL 12.5 62.5 \r\nL 62.5 62.5 \r\nL 62.5 0 \r\nz\r\nM 14.0625 1.5625 \r\nL 60.9375 1.5625 \r\nL 60.9375 60.9375 \r\nL 14.0625 60.9375 \r\nz\r\n\" id=\"ArialMT-24449\"/>\r\n     <path d=\"M 9.328125 0 \r\nL 9.328125 71.578125 \r\nL 18.796875 71.578125 \r\nL 18.796875 0 \r\nz\r\n\" id=\"ArialMT-73\"/>\r\n     <path d=\"M 28.171875 0 \r\nL 0.4375 71.578125 \r\nL 10.6875 71.578125 \r\nL 29.296875 19.578125 \r\nQ 31.546875 13.328125 33.0625 7.859375 \r\nQ 34.71875 13.71875 36.921875 19.578125 \r\nL 56.25 71.578125 \r\nL 65.921875 71.578125 \r\nL 37.890625 0 \r\nz\r\n\" id=\"ArialMT-86\"/>\r\n     <path d=\"M 12.5 0 \r\nL 12.5 62.5 \r\nL 62.5 62.5 \r\nL 62.5 0 \r\nz\r\nM 14.0625 1.5625 \r\nL 60.9375 1.5625 \r\nL 60.9375 60.9375 \r\nL 14.0625 60.9375 \r\nz\r\n\" id=\"ArialMT-20998\"/>\r\n     <path d=\"M 12.5 0 \r\nL 12.5 62.5 \r\nL 62.5 62.5 \r\nL 62.5 0 \r\nz\r\nM 14.0625 1.5625 \r\nL 60.9375 1.5625 \r\nL 60.9375 60.9375 \r\nL 14.0625 60.9375 \r\nz\r\n\" id=\"ArialMT-24067\"/>\r\n    </defs>\r\n    <g style=\"fill:#262626;\" transform=\"translate(446.330938 15.789375)scale(0.12 -0.12)\">\r\n     <use xlink:href=\"#ArialMT-29305\"/>\r\n     <use x=\"75\" xlink:href=\"#ArialMT-24449\"/>\r\n     <use x=\"150\" xlink:href=\"#ArialMT-73\"/>\r\n     <use x=\"177.783203\" xlink:href=\"#ArialMT-86\"/>\r\n     <use x=\"244.482422\" xlink:href=\"#ArialMT-20540\"/>\r\n     <use x=\"319.482422\" xlink:href=\"#ArialMT-20998\"/>\r\n     <use x=\"394.482422\" xlink:href=\"#ArialMT-24067\"/>\r\n    </g>\r\n   </g>\r\n   <g id=\"legend_1\">\r\n    <g id=\"patch_101\">\r\n     <path d=\"M 874.678125 43.934687 \r\nL 913.9 43.934687 \r\nQ 915.9 43.934687 915.9 41.934687 \r\nL 915.9 28.789375 \r\nQ 915.9 26.789375 913.9 26.789375 \r\nL 874.678125 26.789375 \r\nQ 872.678125 26.789375 872.678125 28.789375 \r\nL 872.678125 41.934687 \r\nQ 872.678125 43.934687 874.678125 43.934687 \r\nz\r\n\" style=\"fill:#eaeaf2;opacity:0.8;stroke:#cccccc;stroke-linejoin:miter;\"/>\r\n    </g>\r\n    <g id=\"patch_102\">\r\n     <path d=\"M 876.678125 37.947187 \r\nL 896.678125 37.947187 \r\nL 896.678125 30.947187 \r\nL 876.678125 30.947187 \r\nz\r\n\" style=\"fill:#1f77b4;stroke:#ffffff;stroke-linejoin:miter;\"/>\r\n    </g>\r\n    <g id=\"text_106\">\r\n     <!-- iv -->\r\n     <g style=\"fill:#262626;\" transform=\"translate(904.678125 37.947187)scale(0.1 -0.1)\">\r\n      <use xlink:href=\"#ArialMT-105\"/>\r\n      <use x=\"22.216797\" xlink:href=\"#ArialMT-118\"/>\r\n     </g>\r\n    </g>\r\n   </g>\r\n  </g>\r\n </g>\r\n <defs>\r\n  <clipPath id=\"p00f71fba64\">\r\n   <rect height=\"271.8\" width=\"892.8\" x=\"28.1\" y=\"21.789375\"/>\r\n  </clipPath>\r\n </defs>\r\n</svg>\r\n",
      "image/png": "[encoded data removed]"
     },
     "metadata": {}
    }
   ],
   "source": [
    "filter_fea_df.plot.bar(figsize=(16,5),title='特征IV值分布')"
   ]
  },
  {
   "cell_type": "code",
   "execution_count": 31,
   "metadata": {
    "ExecuteTime": {
     "end_time": "2021-01-01T13:33:29.197906Z",
     "start_time": "2021-01-01T13:32:53.719Z"
    }
   },
   "outputs": [],
   "source": [
    "adj_feas = set(filter_fea_df_adj.index) - select_feas\n",
    "# tra_x_woe.drop(rf_drop_feas,axis=1,inplace=True)\n",
    "tra_x_woe.drop([i + '_woe' for i in adj_feas],axis=1,inplace=True)\n",
    "# test_x_woe.drop(rf_drop_feas,axis=1,inplace=True)\n",
    "test_x_woe.drop([i + '_woe' for i in adj_feas],axis=1,inplace=True)"
   ]
  },
  {
   "cell_type": "markdown",
   "metadata": {},
   "source": [
    "# 3. 特征筛选"
   ]
  },
  {
   "cell_type": "code",
   "execution_count": 32,
   "metadata": {
    "ExecuteTime": {
     "end_time": "2021-01-01T13:33:29.199901Z",
     "start_time": "2021-01-01T13:32:53.798Z"
    }
   },
   "outputs": [],
   "source": [
    "import statsmodels.api as sm\n",
    "\n",
    "# 显著性筛选,在筛选前需要做woe转换\n",
    "def forward_delete_pvalue(x_train,y_train):\n",
    "    \"\"\"\n",
    "    x_train -- x训练集\n",
    "    y_train -- y训练集\n",
    "    \n",
    "    return :显著性筛选后的变量\n",
    "    \"\"\"\n",
    "    col_list = list(x_train.columns)\n",
    "    pvalues_col=[]\n",
    "    for col in col_list:\n",
    "        print(col)\n",
    "        pvalues_col.append(col)\n",
    "        x_train2 = sm.add_constant(x_train.loc[:,pvalues_col])\n",
    "        sm_lr = sm.Logit(y_train,x_train2)\n",
    "        try:\n",
    "            sm_lr = sm_lr.fit()\n",
    "        except:\n",
    "            continue\n",
    "        for i,j in zip(sm_lr.pvalues.index[1:],sm_lr.pvalues.values[1:]): \n",
    "            if j>=0.2:\n",
    "                pvalues_col.remove(i)\n",
    "    x_new_train = x_train.loc[:,pvalues_col]\n",
    "    x_new_train2 = sm.add_constant(x_new_train)\n",
    "    lr = sm.Logit(y_train,x_new_train2)\n",
    "    lr = lr.fit()\n",
    "    return pvalues_col\n",
    "\n",
    "# xgboost筛选变量 \n",
    "def select_xgboost(df,target,imp_num=None):\n",
    "    \"\"\"\n",
    "    df:数据集\n",
    "    target:目标变量的字段名\n",
    "    imp_num:筛选变量的个数\n",
    "    \n",
    "    return:\n",
    "    xg_fea_imp:变量的特征重要性\n",
    "    xg_select_col:筛选出的变量\n",
    "    \"\"\"\n",
    "    x = df.drop([target],axis=1)\n",
    "    y = df[target]\n",
    "    xgmodel = XGBClassifier(random_state=0)\n",
    "    xgmodel = xgmodel.fit(x,y,eval_metric='auc')\n",
    "    xg_fea_imp = pd.DataFrame({'col':list(x.columns),\n",
    "                               'imp':xgmodel.feature_importances_})\n",
    "    xg_fea_imp = xg_fea_imp.sort_values('imp',ascending=False).reset_index(drop=True).iloc[:imp_num,:]\n",
    "    xg_select_col = list(xg_fea_imp.col)\n",
    "    return xg_fea_imp,xg_select_col\n",
    "\n",
    "#逐步回归\n",
    "def score_test(x_data,y_data,y_pred,DF=1):\n",
    "    x_arr=np.matrix(x_data)\n",
    "    y_arr=np.matrix(y_data).reshape(-1,1)\n",
    "    yh_arr=np.matrix(y_pred).reshape(-1,1)\n",
    "    grad_0=-x_arr.T * (y_arr-yh_arr)\n",
    "    info_0=np.multiply(x_arr,np.multiply(yh_arr,(1-yh_arr))).T * x_arr\n",
    "    cov_m=info_0**(-1)\n",
    "    chi2_0=grad_0.T * cov_m * grad_0\n",
    "    Pvalue=(1-scipy.stats.chi2.cdf(chi2_0[0,0],DF))\n",
    "    return(chi2_0[0,0],DF,Pvalue)\n",
    "\n",
    "#定义异常\n",
    "class paraException(BaseException):\n",
    "    def __init__(self,mesg=\"raise a myException\"):\n",
    "        print(mesg)\n",
    "        \n",
    "def step_logit(x_in, y_in, selection='stepwise',sle=0.1,sls=0.1,includes=[]):\n",
    "    ###检查x和y的长度\n",
    "    if len(x_in) != len(y_in):\n",
    "        raise paraException(mesg='x,y长度不一致!')\n",
    "    x_data = x_in.copy()\n",
    "    y_data = y_in.copy()\n",
    "    if isinstance(x_data,pd.core.frame.DataFrame) == True:\n",
    "        x_list = list(x_data.columns.copy())\n",
    "    elif isinstance(x_data,np.ndarray) == True:\n",
    "        if len(x_data.shape) == 1:\n",
    "            x_list = ['x_0']\n",
    "            x_data = pd.DataFrame(x_data.reshape(-1,1),columns=x_list)\n",
    "        elif len(x_data.shape) == 2:\n",
    "            x_list = ['x_' + str(i) for i in np.arange(x_data.shape[1])]\n",
    "            x_data = pd.DataFrame(x_data,columns=x_list)\n",
    "        else:\n",
    "            raise paraException(mesg='x有问题!')\n",
    "    else:\n",
    "        raise paraException(mesg='x有问题!')\n",
    "    # 处理强制进入变量\n",
    "    try:\n",
    "        if (includes>0) and (includes>0) :\n",
    "            includes = x_list[:includes].copy()\n",
    "        else:\n",
    "            includes = []\n",
    "    except:\n",
    "        pass\n",
    "    # 处理x,y\n",
    "    x_data['_const']=1\n",
    "    if (isinstance(y_data,pd.core.frame.DataFrame) == True) or (isinstance(y_data,pd.core.series.Series) == True):\n",
    "        y_data = y_data.values.reshape(-1,1)\n",
    "    else:\n",
    "        y_data = y_data.reshape(-1,1)\n",
    "    # stepwise\n",
    "    if selection.upper() == 'STEPWISE':\n",
    "        include_list = ['_const'] + includes\n",
    "        current_list = []\n",
    "        candidate_list = [_x for _x in x_list if _x not in include_list]\n",
    "\t\t##第一次拟合\n",
    "        lgt = sm.Logit(y_data,x_data[include_list])\n",
    "        res = lgt.fit()\n",
    "\t\t##预测结果\n",
    "        y_pred = res.predict()\n",
    "\t\t####输出第一步的拟合结果以及卡方检验结果\n",
    "        print('========================第0步结果=======================')\n",
    "        print(res.summary2())\n",
    "        print(res.wald_test_terms())\n",
    "\t\t##循环增删变量\n",
    "        STOP_FLAG = 0 \n",
    "        step_i = 1\n",
    "        while(STOP_FLAG == 0):\n",
    "            if len(candidate_list) == 0:\n",
    "                break\n",
    "\t\t\t##遍历所有候选变量，计算每一个加入的候选变量对应的score统计量\n",
    "            score_list = [score_test(x_data[include_list + current_list +[x0]]\n",
    "\t\t\t\t\t\t\t\t\t,y_data\n",
    "\t\t\t\t\t\t\t\t\t,y_pred)\n",
    "\t\t\t\t\t\t\tfor x0 in candidate_list]\n",
    "            score_df = pd.DataFrame(score_list,columns=['chi2','df','p-vlue'])\n",
    "            score_df['xvar'] = candidate_list\n",
    "            slt_idx = score_df['chi2'].idxmax()\n",
    "            p_value = score_df['p-vlue'].iloc[slt_idx]\n",
    "            enter_x = candidate_list[slt_idx]\n",
    "\t\t\t###\n",
    "\t\t\t####输出第i步的候选变量的score统计量\n",
    "            print('#####======第' + str(step_i) + '步：候选变量的遍历结果=======')\n",
    "            print(score_df[['xvar','chi2','df','p-vlue']])\n",
    "            if p_value <= sle:\n",
    "                current_list.append(enter_x)   ##加入模型列表\n",
    "                candidate_list.remove(enter_x) ##从候选变量列表平中删除\n",
    "                print('######====第' + str(step_i) + '步：加入变量' + enter_x)\n",
    "            else:\n",
    "                STOP_FLAG = 1\n",
    "                print('######====第' + str(step_i) + '步：未加入变量')\n",
    "\t\t\t##根据新的变量列表，重新拟合，查看是否所有变量都能保留\n",
    "            lgt = sm.Logit(y_data,x_data[include_list+current_list])\n",
    "            res = lgt.fit()\n",
    "\t\t\t##预测结果\n",
    "            y_pred = res.predict()\n",
    "\t\t\t##wald chi2 test\n",
    "            chi2_df = res.wald_test_terms().table.copy()\n",
    "\t\t\t##检查是否有变量需要删除\n",
    "            tmp_del_list = [tmp_x for tmp_x in chi2_df.index if tmp_x not in include_list]\n",
    "\t\t\t####输出第i步的候选变量的score统计量\n",
    "            print('######======第' + str(step_i) + '步：wald卡方检验======')\n",
    "\t\t\t#print(res.wald_test_terms())\n",
    "\t\t\t##如果p-value大于等于sls,删除最大的\n",
    "            if len(tmp_del_list) > 0:\n",
    "                tmp_chi2 = chi2_df.loc[tmp_del_list].sort_values(by='statistic')\n",
    "                if tmp_chi2['pvalue'].iloc[0] >sls:\n",
    "                    del_x = tmp_chi2.index[0]\n",
    "\t\t\t\t\t##打印结果\n",
    "                    print('######====第' + str(step_i) + '步：删除变量' + del_x)\n",
    "\t\t\t\t\t##如果删除的是最近加入的变量，则停止筛选\n",
    "                    if del_x == current_list[-1]:\n",
    "                        current_list.remove(del_x)\n",
    "                        STOP_FLAG = 1\n",
    "                    else:\n",
    "                        current_list.remove(del_x)\n",
    "\t\t\t\t\t##删除的变量加入候选变量列表中\n",
    "                    candidate_list.append(del_x)\n",
    "\t\t\t\t\t\n",
    "\t\t\t\t\t###根据删除后的变量列表再次拟合\n",
    "                    lgt = sm.Logit(y_data,x_data[include_list+current_list])\n",
    "                    res = lgt.fit()\n",
    "\t\t\t\t\t##预测结果\n",
    "                    y_pred = res.predict()\n",
    "                else:\n",
    "                    print('######====第' + str(step_i) + '步：未删除变量' )\n",
    "            else:\n",
    "                print('######====第' + str(step_i) + '步：未删除变量' )\n",
    "            print('########################################')\n",
    "            print()\n",
    "            step_i += 1\n",
    "        print('========================最终结果汇总=======================')\n",
    "        print(res.summary2())\n",
    "        print(res.wald_test_terms())\n",
    "        all_cols = list(x_in)\n",
    "        all_params = list(res.params.index)\n",
    "        remove_cols = [f for f in all_cols if f not in all_params]\n",
    "        return remove_cols,res\n",
    "\t####简单逻辑回归\n",
    "    else:\n",
    "        lgt = sm.Logit(y_data,x_data)\n",
    "        res = lgt.fit()\n",
    "        print('========================最终结果汇总=======================')\n",
    "        print(res.summary2())\n",
    "        print(res.wald_test_terms())\n",
    "        return res\n",
    "    \n",
    "def check_vif(df,vif_threshold=5):\n",
    "    from statsmodels.stats.outliers_influence import variance_inflation_factor as vif\n",
    "    xdf = sm.add_constant(df)\n",
    "    vif_list = []\n",
    "    xcols = list(xdf)\n",
    "    vif_list = [vif(xdf.values,xcols.index(c)) for c in xcols[1:]]\n",
    "    vif_ser = pd.Series(vif_list,index=xcols[1:])\n",
    "    vif_drop_feas = list(vif_ser[vif_ser > 5].index)\n",
    "    vif_ser.to_csv('特征VIF分析.csv',encoding='GBK')\n",
    "    print('{0} features with a variance_inflation_factor greater than {1}'.format(len(vif_drop_feas),vif_threshold))\n",
    "    return vif_drop_feas\n",
    "\n",
    "def check_collinear(df,iv_df,corr_threshold=0.6):\n",
    "    corr_df = df.corr()\n",
    "    corr_df = corr_df.dropna(how='all',axis=1)\n",
    "    corr_df = corr_df.dropna(how='all',axis=0)\n",
    "    corr_df_melt = corr_df.unstack().reset_index()\n",
    "    corr_df_melt.columns=['v1','v2','corr']\n",
    "    corr_df_melt = corr_df_melt.drop_duplicates(subset='corr')\n",
    "    corr_df_melt = corr_df_melt[(abs(corr_df_melt['corr']) > corr_threshold)&(corr_df_melt['v1'] != corr_df_melt['v2'])]\n",
    "    new_corr_df_melt = corr_df_melt.set_index('v1').merge(iv_df,left_index=True,right_index=True,how='left').reset_index().set_index('v2')\n",
    "    new_corr_df_melt = new_corr_df_melt.merge(iv_df,left_index=True,right_index=True,how='left')\n",
    "    new_corr_df_melt = new_corr_df_melt.reset_index()\n",
    "    new_corr_df_melt.columns=['v2','v1','corr','iv1','iv2']\n",
    "    new_corr_df_melt = new_corr_df_melt.assign(n=lambda x:x.iv2-x.iv1)\n",
    "    new_corr_df_melt['drop_feas'] = new_corr_df_melt.apply(lambda x: x[1] if x[-1] > 0 else x[0],axis=1)\n",
    "    colinear_drop_feas = list(new_corr_df_melt['drop_feas'].unique())\n",
    "    print('{0} features with a correlation magnitude greater than {1}'.format(len(colinear_drop_feas),corr_threshold))\n",
    "    return colinear_drop_feas"
   ]
  },
  {
   "cell_type": "code",
   "execution_count": 33,
   "metadata": {
    "ExecuteTime": {
     "end_time": "2021-01-01T13:33:29.201981Z",
     "start_time": "2021-01-01T13:32:53.802Z"
    }
   },
   "outputs": [],
   "source": [
    "tra_x_woe.loc[:,tra_x_woe.columns.str.contains('次数')] = tra_x_woe.fillna(0)\n",
    "test_x_woe.loc[:,test_x_woe.columns.str.contains('次数')] = test_x_woe.fillna(0)"
   ]
  },
  {
   "cell_type": "code",
   "execution_count": 34,
   "metadata": {
    "ExecuteTime": {
     "end_time": "2021-01-01T13:33:29.202979Z",
     "start_time": "2021-01-01T13:32:53.807Z"
    },
    "scrolled": true
   },
   "outputs": [],
   "source": [
    "# \n",
    "all_iv_df = sc.iv(tra_x_woe,y='tag').set_index('variable')\n",
    "all_iv_drop_feas = all_iv_df[all_iv_df['info_value'] <= 0.01].index\n",
    "tra_x_woe.drop(all_iv_drop_feas,axis=1,inplace=True)\n",
    "test_x_woe.drop(all_iv_drop_feas,axis=1,inplace=True)\n",
    "# drop_feas.extend(all_iv_drop_feas)"
   ]
  },
  {
   "cell_type": "code",
   "execution_count": 35,
   "metadata": {
    "ExecuteTime": {
     "end_time": "2021-01-01T13:33:29.204973Z",
     "start_time": "2021-01-01T13:32:53.811Z"
    }
   },
   "outputs": [
    {
     "output_type": "stream",
     "name": "stdout",
     "text": [
      "39 features with a correlation magnitude greater than 0.7\n"
     ]
    }
   ],
   "source": [
    "# 相关性筛选\n",
    "colliner_drop_feas = check_collinear(tra_x_woe,all_iv_df,0.7)\n",
    "tra_x_woe.drop(colliner_drop_feas,axis=1,inplace=True)\n",
    "test_x_woe.drop(colliner_drop_feas,axis=1,inplace=True)"
   ]
  },
  {
   "cell_type": "code",
   "execution_count": 36,
   "metadata": {
    "ExecuteTime": {
     "end_time": "2021-01-01T13:33:29.207374Z",
     "start_time": "2021-01-01T13:32:53.816Z"
    }
   },
   "outputs": [],
   "source": [
    "if '非银金融机构信贷历史机构数_woe' in drop_feas:\n",
    "    drop_feas.remove('非银金融机构信贷历史机构数_woe')"
   ]
  },
  {
   "cell_type": "code",
   "execution_count": 37,
   "metadata": {
    "ExecuteTime": {
     "end_time": "2021-01-01T13:33:29.208371Z",
     "start_time": "2021-01-01T13:32:53.819Z"
    }
   },
   "outputs": [],
   "source": [
    "test_x_woe = test_x_woe.drop('tag',axis=1)\n",
    "tra_x_woe = tra_x_woe.drop('tag',axis=1)\n",
    "tra_x_woe.drop('还款间隔',axis=1,inplace=True)\n",
    "test_x_woe.drop('还款间隔',axis=1,inplace=True)"
   ]
  },
  {
   "cell_type": "code",
   "execution_count": 38,
   "metadata": {
    "ExecuteTime": {
     "end_time": "2021-01-01T13:33:29.209800Z",
     "start_time": "2021-01-01T13:32:53.824Z"
    }
   },
   "outputs": [],
   "source": [
    "tra_y = tra_y.sort_index()\n",
    "tra_x_woe = tra_x_woe.sort_index()\n",
    "test_y = test_y.sort_index()\n",
    "test_x_woe = test_x_woe.sort_index()"
   ]
  },
  {
   "cell_type": "code",
   "execution_count": 39,
   "metadata": {
    "ExecuteTime": {
     "end_time": "2021-01-01T13:33:29.211048Z",
     "start_time": "2021-01-01T13:32:53.828Z"
    }
   },
   "outputs": [
    {
     "output_type": "stream",
     "name": "stdout",
     "text": [
      "7 features with a variance_inflation_factor greater than 5\n"
     ]
    }
   ],
   "source": [
    "# VIF筛选\n",
    "vif_drop_feas = check_vif(tra_x_woe)\n",
    "tra_x_woe.drop(vif_drop_feas,axis=1,inplace=True)\n",
    "test_x_woe.drop(vif_drop_feas,axis=1,inplace=True)"
   ]
  },
  {
   "cell_type": "code",
   "execution_count": 40,
   "metadata": {
    "ExecuteTime": {
     "end_time": "2021-01-01T13:33:29.213043Z",
     "start_time": "2021-01-01T13:32:53.832Z"
    }
   },
   "outputs": [],
   "source": [
    "# 11.21测试\n",
    "# tra_x_woe.drop([\"mr_担保本金余额_woe\"],axis=1,inplace=True)\n",
    "# test_x_woe.drop([\"mr_担保本金余额_woe\"],axis=1,inplace=True)"
   ]
  },
  {
   "cell_type": "code",
   "execution_count": 41,
   "metadata": {
    "ExecuteTime": {
     "end_time": "2021-01-01T13:33:29.214909Z",
     "start_time": "2021-01-01T13:32:53.836Z"
    },
    "scrolled": true,
    "tags": [
     "outputPrepend"
    ]
   },
   "outputs": [
    {
     "output_type": "stream",
     "name": "stdout",
     "text": [
      "还款月数_woe   0.593394   1  0.441110\n",
      "27       mr_贷款最大还款月数_woe  10.374862   1  0.001277\n",
      "28           近3月累计逾期_woe   0.213688   1  0.643892\n",
      "29   近2年内查询机构数-信用卡审批_woe   0.009066   1  0.924143\n",
      "30   十二个月内最近一次查询距今月份_woe   2.683069   1  0.101420\n",
      "31        mr_近5年累计逾期_woe   0.422578   1  0.515654\n",
      "32  贷记卡最近一次M1及以上距今月数_woe   0.964772   1  0.325987\n",
      "33           贷款历史机构数_woe   1.958857   1  0.161636\n",
      "34         mr_贷记透支比例_woe   0.133121   1  0.715218\n",
      "######====第5步：加入变量mr_贷款最大还款月数_woe\n",
      "Optimization terminated successfully.\n",
      "         Current function value: 0.197072\n",
      "         Iterations 9\n",
      "######======第5步：wald卡方检验======\n",
      "######====第5步：未删除变量\n",
      "########################################\n",
      "\n",
      "#####======第6步：候选变量的遍历结果=======\n",
      "                    xvar       chi2  df    p-vlue\n",
      "0               平均额度_woe  10.917460   1  0.000953\n",
      "1      非银金融机构未结清贷款笔数_woe   0.219725   1  0.639249\n",
      "2        mr_近24月累计逾期_woe   0.011793   1  0.913523\n",
      "3         mr_未结清贷款余额_woe   0.003521   1  0.952683\n",
      "4             贷记透支比例_woe   6.653712   1  0.009895\n",
      "5            近5年累计逾期_woe   0.013628   1  0.907066\n",
      "6    近2年内查询次数-担保资格审查_woe   9.572031   1  0.001976\n",
      "7        mr_发卡法人机构总数_woe   2.169931   1  0.140733\n",
      "8               贷款总额_woe   3.214307   1  0.072997\n",
      "9             透支余额汇总_woe   0.603944   1  0.437077\n",
      "10       mr_贷款最大剩余月数_woe   0.197935   1  0.656393\n",
      "11          mr_贷款总笔数_woe   1.723220   1  0.189279\n",
      "12       贷款十二个月内M1次数_woe   0.015926   1  0.899574\n",
      "13    近2月内查询次数-信用卡审批_woe   0.001578   1  0.968314\n",
      "14            住房贷款占比_woe   5.192231   1  0.022688\n",
      "15              日常支出_woe   1.142361   1  0.285154\n",
      "16           mr_贷款总额_woe   0.707142   1  0.400394\n",
      "17           mr_平均额度_woe   0.382355   1  0.536345\n",
      "18      mr_近6月平均使用额度_woe   0.114990   1  0.734533\n",
      "19          贷款最大剩余月数_woe   3.102377   1  0.078178\n",
      "20            评估价值汇总_woe   9.738531   1  0.001804\n",
      "21         单家行最高授信总额_woe   1.895054   1  0.168633\n",
      "22           未结清贷款笔数_woe   0.012829   1  0.909821\n",
      "23           mr_授信总额_woe   0.857767   1  0.354364\n",
      "24              授信总额_woe   0.756724   1  0.384356\n",
      "25            贷款额度比率_woe   0.508261   1  0.475893\n",
      "26          贷款最大还款月数_woe   0.303852   1  0.581477\n",
      "27           近3月累计逾期_woe   0.124750   1  0.723939\n",
      "28   近2年内查询机构数-信用卡审批_woe   0.000306   1  0.986040\n",
      "29   十二个月内最近一次查询距今月份_woe   2.352039   1  0.125119\n",
      "30        mr_近5年累计逾期_woe   0.117025   1  0.732284\n",
      "31  贷记卡最近一次M1及以上距今月数_woe   0.630594   1  0.427138\n",
      "32           贷款历史机构数_woe   1.685579   1  0.194185\n",
      "33         mr_贷记透支比例_woe   0.050000   1  0.823063\n",
      "######====第6步：加入变量平均额度_woe\n",
      "Optimization terminated successfully.\n",
      "         Current function value: 0.195277\n",
      "         Iterations 9\n",
      "######======第6步：wald卡方检验======\n",
      "######====第6步：未删除变量\n",
      "########################################\n",
      "\n",
      "#####======第7步：候选变量的遍历结果=======\n",
      "                    xvar       chi2  df    p-vlue\n",
      "0      非银金融机构未结清贷款笔数_woe   0.330604   1  0.565304\n",
      "1        mr_近24月累计逾期_woe   0.007363   1  0.931621\n",
      "2         mr_未结清贷款余额_woe   0.017393   1  0.895077\n",
      "3             贷记透支比例_woe   8.647166   1  0.003276\n",
      "4            近5年累计逾期_woe   0.014938   1  0.902722\n",
      "5    近2年内查询次数-担保资格审查_woe  10.321607   1  0.001315\n",
      "6        mr_发卡法人机构总数_woe   2.478080   1  0.115443\n",
      "7               贷款总额_woe   1.573300   1  0.209728\n",
      "8             透支余额汇总_woe   5.017498   1  0.025092\n",
      "9        mr_贷款最大剩余月数_woe   0.116690   1  0.732653\n",
      "10          mr_贷款总笔数_woe   2.047671   1  0.152439\n",
      "11       贷款十二个月内M1次数_woe   0.000751   1  0.978144\n",
      "12    近2月内查询次数-信用卡审批_woe   0.035788   1  0.849955\n",
      "13            住房贷款占比_woe   4.415865   1  0.035606\n",
      "14              日常支出_woe   1.338210   1  0.247350\n",
      "15           mr_贷款总额_woe   0.888856   1  0.345787\n",
      "16           mr_平均额度_woe   0.625793   1  0.428903\n",
      "17      mr_近6月平均使用额度_woe   0.114662   1  0.734897\n",
      "18          贷款最大剩余月数_woe   3.578410   1  0.058535\n",
      "19            评估价值汇总_woe   9.992749   1  0.001572\n",
      "20         单家行最高授信总额_woe   1.531651   1  0.215865\n",
      "21           未结清贷款笔数_woe   0.242258   1  0.622580\n",
      "22           mr_授信总额_woe   1.116232   1  0.290731\n",
      "23              授信总额_woe   4.400765   1  0.035923\n",
      "24            贷款额度比率_woe   0.123903   1  0.724839\n",
      "25          贷款最大还款月数_woe   0.663507   1  0.415324\n",
      "26           近3月累计逾期_woe   0.229668   1  0.631770\n",
      "27   近2年内查询机构数-信用卡审批_woe   0.265625   1  0.606282\n",
      "28   十二个月内最近一次查询距今月份_woe   3.652643   1  0.055980\n",
      "29        mr_近5年累计逾期_woe   0.176689   1  0.674234\n",
      "30  贷记卡最近一次M1及以上距今月数_woe   0.893478   1  0.344537\n",
      "31           贷款历史机构数_woe   0.641841   1  0.423045\n",
      "32         mr_贷记透支比例_woe   0.092666   1  0.760815\n",
      "######====第7步：加入变量近2年内查询次数-担保资格审查_woe\n",
      "Optimization terminated successfully.\n",
      "         Current function value: 0.193356\n",
      "         Iterations 9\n",
      "######======第7步：wald卡方检验======\n",
      "######====第7步：未删除变量\n",
      "########################################\n",
      "\n",
      "#####======第8步：候选变量的遍历结果=======\n",
      "                    xvar       chi2  df    p-vlue\n",
      "0      非银金融机构未结清贷款笔数_woe   0.364576   1  0.545976\n",
      "1        mr_近24月累计逾期_woe   0.058889   1  0.808261\n",
      "2         mr_未结清贷款余额_woe   0.003426   1  0.953328\n",
      "3             贷记透支比例_woe   8.202008   1  0.004184\n",
      "4            近5年累计逾期_woe   0.016304   1  0.898397\n",
      "5        mr_发卡法人机构总数_woe   2.816843   1  0.093280\n",
      "6               贷款总额_woe   1.453374   1  0.227987\n",
      "7             透支余额汇总_woe   4.143187   1  0.041802\n",
      "8        mr_贷款最大剩余月数_woe   0.124296   1  0.724421\n",
      "9           mr_贷款总笔数_woe   2.429233   1  0.119091\n",
      "10       贷款十二个月内M1次数_woe   0.019149   1  0.889941\n",
      "11    近2月内查询次数-信用卡审批_woe   0.003667   1  0.951711\n",
      "12            住房贷款占比_woe   4.103212   1  0.042802\n",
      "13              日常支出_woe   1.101486   1  0.293940\n",
      "14           mr_贷款总额_woe   0.987497   1  0.320355\n",
      "15           mr_平均额度_woe   0.749646   1  0.386588\n",
      "16      mr_近6月平均使用额度_woe   0.199756   1  0.654918\n",
      "17          贷款最大剩余月数_woe   2.647650   1  0.103703\n",
      "18            评估价值汇总_woe  10.339693   1  0.001302\n",
      "19         单家行最高授信总额_woe   1.886635   1  0.169582\n",
      "20           未结清贷款笔数_woe   0.071841   1  0.788675\n",
      "21           mr_授信总额_woe   1.216027   1  0.270142\n",
      "22              授信总额_woe   3.633407   1  0.056631\n",
      "23            贷款额度比率_woe   0.166401   1  0.683330\n",
      "24          贷款最大还款月数_woe   0.340735   1  0.559405\n",
      "25           近3月累计逾期_woe   0.167122   1  0.682683\n",
      "26   近2年内查询机构数-信用卡审批_woe   0.237869   1  0.625750\n",
      "27   十二个月内最近一次查询距今月份_woe   3.186464   1  0.074250\n",
      "28        mr_近5年累计逾期_woe   0.087126   1  0.767863\n",
      "29  贷记卡最近一次M1及以上距今月数_woe   0.656424   1  0.417825\n",
      "30           贷款历史机构数_woe   0.879778   1  0.348262\n",
      "31         mr_贷记透支比例_woe   0.136498   1  0.711788\n",
      "######====第8步：加入变量评估价值汇总_woe\n",
      "Optimization terminated successfully.\n",
      "         Current function value: 0.190973\n",
      "         Iterations 9\n",
      "######======第8步：wald卡方检验======\n",
      "######====第8步：未删除变量\n",
      "########################################\n",
      "\n",
      "#####======第9步：候选变量的遍历结果=======\n",
      "                    xvar      chi2  df    p-vlue\n",
      "0      非银金融机构未结清贷款笔数_woe  0.231877   1  0.630135\n",
      "1        mr_近24月累计逾期_woe  0.142672   1  0.705639\n",
      "2         mr_未结清贷款余额_woe  0.003295   1  0.954226\n",
      "3             贷记透支比例_woe  9.347033   1  0.002233\n",
      "4            近5年累计逾期_woe  0.069627   1  0.791881\n",
      "5        mr_发卡法人机构总数_woe  2.942977   1  0.086252\n",
      "6               贷款总额_woe  2.367885   1  0.123855\n",
      "7             透支余额汇总_woe  3.232111   1  0.072208\n",
      "8        mr_贷款最大剩余月数_woe  0.204855   1  0.650830\n",
      "9           mr_贷款总笔数_woe  2.455342   1  0.117126\n",
      "10       贷款十二个月内M1次数_woe  0.020716   1  0.885556\n",
      "11    近2月内查询次数-信用卡审批_woe  0.099166   1  0.752833\n",
      "12            住房贷款占比_woe  3.843284   1  0.049946\n",
      "13              日常支出_woe  0.467266   1  0.494248\n",
      "14           mr_贷款总额_woe  1.637038   1  0.200732\n",
      "15           mr_平均额度_woe  1.509586   1  0.219202\n",
      "16      mr_近6月平均使用额度_woe  0.261300   1  0.609228\n",
      "17          贷款最大剩余月数_woe  2.265854   1  0.132253\n",
      "18         单家行最高授信总额_woe  1.616884   1  0.203527\n",
      "19           未结清贷款笔数_woe  0.097460   1  0.754900\n",
      "20           mr_授信总额_woe  1.635829   1  0.200899\n",
      "21              授信总额_woe  3.306922   1  0.068989\n",
      "22            贷款额度比率_woe  0.105534   1  0.745287\n",
      "23          贷款最大还款月数_woe  0.132365   1  0.715992\n",
      "24           近3月累计逾期_woe  0.142794   1  0.705519\n",
      "25   近2年内查询机构数-信用卡审批_woe  0.293139   1  0.588216\n",
      "26   十二个月内最近一次查询距今月份_woe  3.071024   1  0.079699\n",
      "27        mr_近5年累计逾期_woe  0.015640   1  0.900477\n",
      "28  贷记卡最近一次M1及以上距今月数_woe  0.402624   1  0.525737\n",
      "29           贷款历史机构数_woe  0.716938   1  0.397150\n",
      "30         mr_贷记透支比例_woe  0.188315   1  0.664323\n",
      "######====第9步：加入变量贷记透支比例_woe\n",
      "Optimization terminated successfully.\n",
      "         Current function value: 0.189222\n",
      "         Iterations 9\n",
      "######======第9步：wald卡方检验======\n",
      "######====第9步：未删除变量\n",
      "########################################\n",
      "\n",
      "#####======第10步：候选变量的遍历结果=======\n",
      "                    xvar      chi2  df    p-vlue\n",
      "0      非银金融机构未结清贷款笔数_woe  1.101187   1  0.294006\n",
      "1        mr_近24月累计逾期_woe  0.162222   1  0.687119\n",
      "2         mr_未结清贷款余额_woe  0.001007   1  0.974686\n",
      "3            近5年累计逾期_woe  0.202639   1  0.652599\n",
      "4        mr_发卡法人机构总数_woe  2.787357   1  0.095011\n",
      "5               贷款总额_woe  2.584389   1  0.107922\n",
      "6             透支余额汇总_woe  0.565152   1  0.452192\n",
      "7        mr_贷款最大剩余月数_woe  0.329929   1  0.565701\n",
      "8           mr_贷款总笔数_woe  2.181052   1  0.139719\n",
      "9        贷款十二个月内M1次数_woe  0.091088   1  0.762798\n",
      "10    近2月内查询次数-信用卡审批_woe  0.071531   1  0.789121\n",
      "11            住房贷款占比_woe  3.371114   1  0.066349\n",
      "12              日常支出_woe  0.610481   1  0.434607\n",
      "13           mr_贷款总额_woe  1.578356   1  0.208998\n",
      "14           mr_平均额度_woe  1.197262   1  0.273870\n",
      "15      mr_近6月平均使用额度_woe  0.076630   1  0.781917\n",
      "16          贷款最大剩余月数_woe  2.185306   1  0.139333\n",
      "17         单家行最高授信总额_woe  1.308329   1  0.252697\n",
      "18           未结清贷款笔数_woe  0.010660   1  0.917767\n",
      "19           mr_授信总额_woe  1.218328   1  0.269689\n",
      "20              授信总额_woe  4.286915   1  0.038407\n",
      "21            贷款额度比率_woe  0.008939   1  0.924675\n",
      "22          贷款最大还款月数_woe  0.088012   1  0.766720\n",
      "23           近3月累计逾期_woe  0.020436   1  0.886326\n",
      "24   近2年内查询机构数-信用卡审批_woe  0.007748   1  0.929860\n",
      "25   十二个月内最近一次查询距今月份_woe  3.139686   1  0.076409\n",
      "26        mr_近5年累计逾期_woe  0.067745   1  0.794649\n",
      "27  贷记卡最近一次M1及以上距今月数_woe  0.273676   1  0.600876\n",
      "28           贷款历史机构数_woe  0.995561   1  0.318387\n",
      "29         mr_贷记透支比例_woe  0.008736   1  0.925531\n",
      "######====第10步：加入变量授信总额_woe\n",
      "Optimization terminated successfully.\n",
      "         Current function value: 0.188422\n",
      "         Iterations 9\n",
      "######======第10步：wald卡方检验======\n",
      "######====第10步：未删除变量\n",
      "########################################\n",
      "\n",
      "#####======第11步：候选变量的遍历结果=======\n",
      "                    xvar      chi2  df    p-vlue\n",
      "0      非银金融机构未结清贷款笔数_woe  0.886324   1  0.346475\n",
      "1        mr_近24月累计逾期_woe  0.194442   1  0.659245\n",
      "2         mr_未结清贷款余额_woe  0.007628   1  0.930403\n",
      "3            近5年累计逾期_woe  0.204635   1  0.651006\n",
      "4        mr_发卡法人机构总数_woe  2.916929   1  0.087655\n",
      "5               贷款总额_woe  2.554269   1  0.109997\n",
      "6             透支余额汇总_woe  0.106175   1  0.744542\n",
      "7        mr_贷款最大剩余月数_woe  0.353310   1  0.552245\n",
      "8           mr_贷款总笔数_woe  2.533088   1  0.111482\n",
      "9        贷款十二个月内M1次数_woe  0.119872   1  0.729173\n",
      "10    近2月内查询次数-信用卡审批_woe  0.040866   1  0.839796\n",
      "11            住房贷款占比_woe  3.382528   1  0.065891\n",
      "12              日常支出_woe  0.396111   1  0.529105\n",
      "13           mr_贷款总额_woe  1.545763   1  0.213762\n",
      "14           mr_平均额度_woe  1.142176   1  0.285193\n",
      "15      mr_近6月平均使用额度_woe  0.066892   1  0.795917\n",
      "16          贷款最大剩余月数_woe  2.156423   1  0.141975\n",
      "17         单家行最高授信总额_woe  1.724070   1  0.189170\n",
      "18           未结清贷款笔数_woe  0.025486   1  0.873162\n",
      "19           mr_授信总额_woe  1.147749   1  0.284021\n",
      "20            贷款额度比率_woe  0.447521   1  0.503515\n",
      "21          贷款最大还款月数_woe  0.069261   1  0.792416\n",
      "22           近3月累计逾期_woe  0.004820   1  0.944648\n",
      "23   近2年内查询机构数-信用卡审批_woe  0.000259   1  0.987148\n",
      "24   十二个月内最近一次查询距今月份_woe  3.295615   1  0.069465\n",
      "25        mr_近5年累计逾期_woe  0.029984   1  0.862527\n",
      "26  贷记卡最近一次M1及以上距今月数_woe  0.279366   1  0.597117\n",
      "27           贷款历史机构数_woe  1.576500   1  0.209266\n",
      "28         mr_贷记透支比例_woe  0.002054   1  0.963851\n",
      "######====第11步：加入变量住房贷款占比_woe\n",
      "Optimization terminated successfully.\n",
      "         Current function value: 0.187692\n",
      "         Iterations 9\n",
      "######======第11步：wald卡方检验======\n",
      "######====第11步：未删除变量\n",
      "########################################\n",
      "\n",
      "#####======第12步：候选变量的遍历结果=======\n",
      "                    xvar      chi2  df    p-vlue\n",
      "0      非银金融机构未结清贷款笔数_woe  1.389511   1  0.238488\n",
      "1        mr_近24月累计逾期_woe  0.230169   1  0.631398\n",
      "2         mr_未结清贷款余额_woe  0.009535   1  0.922214\n",
      "3            近5年累计逾期_woe  0.187661   1  0.664870\n",
      "4        mr_发卡法人机构总数_woe  2.978199   1  0.084393\n",
      "5               贷款总额_woe  1.769543   1  0.183439\n",
      "6             透支余额汇总_woe  0.123081   1  0.725717\n",
      "7        mr_贷款最大剩余月数_woe  0.441038   1  0.506622\n",
      "8           mr_贷款总笔数_woe  2.694163   1  0.100716\n",
      "9        贷款十二个月内M1次数_woe  0.016580   1  0.897546\n",
      "10    近2月内查询次数-信用卡审批_woe  0.039859   1  0.841756\n",
      "11              日常支出_woe  0.337939   1  0.561022\n",
      "12           mr_贷款总额_woe  1.662559   1  0.197258\n",
      "13           mr_平均额度_woe  1.216520   1  0.270045\n",
      "14      mr_近6月平均使用额度_woe  0.085017   1  0.770610\n",
      "15          贷款最大剩余月数_woe  1.991515   1  0.158183\n",
      "16         单家行最高授信总额_woe  1.670894   1  0.196139\n",
      "17           未结清贷款笔数_woe  0.157190   1  0.691757\n",
      "18           mr_授信总额_woe  1.249019   1  0.263740\n",
      "19            贷款额度比率_woe  0.564993   1  0.452256\n",
      "20          贷款最大还款月数_woe  0.056502   1  0.812113\n",
      "21           近3月累计逾期_woe  0.002405   1  0.960886\n",
      "22   近2年内查询机构数-信用卡审批_woe  0.000169   1  0.989630\n",
      "23   十二个月内最近一次查询距今月份_woe  3.629978   1  0.056748\n",
      "24        mr_近5年累计逾期_woe  0.024174   1  0.876443\n",
      "25  贷记卡最近一次M1及以上距今月数_woe  0.243737   1  0.621520\n",
      "26           贷款历史机构数_woe  2.489945   1  0.114576\n",
      "27         mr_贷记透支比例_woe  0.002741   1  0.958245\n",
      "######====第12步：加入变量十二个月内最近一次查询距今月份_woe\n",
      "Optimization terminated successfully.\n",
      "         Current function value: 0.186962\n",
      "         Iterations 9\n",
      "######======第12步：wald卡方检验======\n",
      "######====第12步：未删除变量\n",
      "########################################\n",
      "\n",
      "#####======第13步：候选变量的遍历结果=======\n",
      "                    xvar      chi2  df    p-vlue\n",
      "0      非银金融机构未结清贷款笔数_woe  1.200864   1  0.273149\n",
      "1        mr_近24月累计逾期_woe  0.328715   1  0.566417\n",
      "2         mr_未结清贷款余额_woe  0.017565   1  0.894561\n",
      "3            近5年累计逾期_woe  0.187045   1  0.665388\n",
      "4        mr_发卡法人机构总数_woe  3.049248   1  0.080775\n",
      "5               贷款总额_woe  1.719389   1  0.189772\n",
      "6             透支余额汇总_woe  0.088525   1  0.766061\n",
      "7        mr_贷款最大剩余月数_woe  0.420763   1  0.516557\n",
      "8           mr_贷款总笔数_woe  2.585005   1  0.107880\n",
      "9        贷款十二个月内M1次数_woe  0.020029   1  0.887457\n",
      "10    近2月内查询次数-信用卡审批_woe  0.000611   1  0.980285\n",
      "11              日常支出_woe  0.278123   1  0.597934\n",
      "12           mr_贷款总额_woe  1.884037   1  0.169876\n",
      "13           mr_平均额度_woe  1.448746   1  0.228729\n",
      "14      mr_近6月平均使用额度_woe  0.069614   1  0.791900\n",
      "15          贷款最大剩余月数_woe  2.007024   1  0.156572\n",
      "16         单家行最高授信总额_woe  1.797038   1  0.180071\n",
      "17           未结清贷款笔数_woe  0.199514   1  0.655113\n",
      "18           mr_授信总额_woe  1.241477   1  0.265187\n",
      "19            贷款额度比率_woe  0.723862   1  0.394880\n",
      "20          贷款最大还款月数_woe  0.061684   1  0.803854\n",
      "21           近3月累计逾期_woe  0.019145   1  0.889952\n",
      "22   近2年内查询机构数-信用卡审批_woe  0.022131   1  0.881740\n",
      "23        mr_近5年累计逾期_woe  0.004269   1  0.947906\n",
      "24  贷记卡最近一次M1及以上距今月数_woe  0.300216   1  0.583747\n",
      "25           贷款历史机构数_woe  2.491661   1  0.114451\n",
      "26         mr_贷记透支比例_woe  0.008767   1  0.925400\n",
      "######====第13步：加入变量mr_发卡法人机构总数_woe\n",
      "Optimization terminated successfully.\n",
      "         Current function value: 0.186377\n",
      "         Iterations 9\n",
      "######======第13步：wald卡方检验======\n",
      "######====第13步：未删除变量\n",
      "########################################\n",
      "\n",
      "#####======第14步：候选变量的遍历结果=======\n",
      "                    xvar      chi2  df    p-vlue\n",
      "0      非银金融机构未结清贷款笔数_woe  1.154546   1  0.282600\n",
      "1        mr_近24月累计逾期_woe  0.249307   1  0.617563\n",
      "2         mr_未结清贷款余额_woe  0.000758   1  0.978040\n",
      "3            近5年累计逾期_woe  0.143663   1  0.704666\n",
      "4               贷款总额_woe  1.564488   1  0.211009\n",
      "5             透支余额汇总_woe  0.069902   1  0.791479\n",
      "6        mr_贷款最大剩余月数_woe  0.426327   1  0.513797\n",
      "7           mr_贷款总笔数_woe  1.325217   1  0.249658\n",
      "8        贷款十二个月内M1次数_woe  0.004500   1  0.946515\n",
      "9     近2月内查询次数-信用卡审批_woe  0.000013   1  0.997085\n",
      "10              日常支出_woe  0.517808   1  0.471778\n",
      "11           mr_贷款总额_woe  1.097444   1  0.294828\n",
      "12           mr_平均额度_woe  0.442594   1  0.505873\n",
      "13      mr_近6月平均使用额度_woe  0.132310   1  0.716049\n",
      "14          贷款最大剩余月数_woe  2.097988   1  0.147493\n",
      "15         单家行最高授信总额_woe  1.742393   1  0.186836\n",
      "16           未结清贷款笔数_woe  0.247497   1  0.618843\n",
      "17           mr_授信总额_woe  0.533643   1  0.465079\n",
      "18            贷款额度比率_woe  0.690871   1  0.405868\n",
      "19          贷款最大还款月数_woe  0.075507   1  0.783482\n",
      "20           近3月累计逾期_woe  0.018563   1  0.891627\n",
      "21   近2年内查询机构数-信用卡审批_woe  0.095256   1  0.757598\n",
      "22        mr_近5年累计逾期_woe  0.028231   1  0.866567\n",
      "23  贷记卡最近一次M1及以上距今月数_woe  0.265401   1  0.606434\n",
      "24           贷款历史机构数_woe  2.455123   1  0.117142\n",
      "25         mr_贷记透支比例_woe  0.057746   1  0.810094\n",
      "######====第14步：未加入变量\n",
      "Optimization terminated successfully.\n",
      "         Current function value: 0.186377\n",
      "         Iterations 9\n",
      "######======第14步：wald卡方检验======\n",
      "######====第14步：未删除变量\n",
      "########################################\n",
      "\n",
      "========================最终结果汇总=======================\n",
      "                               Results: Logit\n",
      "============================================================================\n",
      "Model:                   Logit               Pseudo R-squared:    0.206     \n",
      "Dependent Variable:      y                   AIC:                 1012.0696 \n",
      "Date:                    2021-01-06 14:00    BIC:                 1094.3690 \n",
      "No. Observations:        2640                Log-Likelihood:      -492.03   \n",
      "Df Model:                13                  LL-Null:             -619.91   \n",
      "Df Residuals:            2626                LLR p-value:         4.0695e-47\n",
      "Converged:               1.0000              Scale:               1.0000    \n",
      "No. Iterations:          9.0000                                             \n",
      "----------------------------------------------------------------------------\n",
      "                             Coef.  Std.Err.    z     P>|z|   [0.025  0.975]\n",
      "----------------------------------------------------------------------------\n",
      "_const                      -2.7351   0.1029 -26.5822 0.0000 -2.9368 -2.5335\n",
      "近2年内查询机构数-贷款审批_woe           0.4875   0.1194   4.0828 0.0000  0.2535  0.7216\n",
      "found_until_apply_month_woe  0.6398   0.1993   3.2102 0.0013  0.2492  1.0305\n",
      "mr_贷款历史机构数_woe               0.6028   0.1944   3.1003 0.0019  0.2217  0.9838\n",
      "近24月累计逾期_woe                 0.5197   0.1721   3.0196 0.0025  0.1824  0.8570\n",
      "mr_贷款最大还款月数_woe              0.7720   0.2294   3.3658 0.0008  0.3224  1.2215\n",
      "平均额度_woe                    -3.5026   0.7948  -4.4068 0.0000 -5.0604 -1.9448\n",
      "近2年内查询次数-担保资格审查_woe          0.4494   0.1521   2.9552 0.0031  0.1513  0.7474\n",
      "评估价值汇总_woe                   0.6292   0.1952   3.2239 0.0013  0.2467  1.0118\n",
      "贷记透支比例_woe                   0.4823   0.1561   3.0899 0.0020  0.1764  0.7882\n",
      "授信总额_woe                     0.5530   0.2575   2.1473 0.0318  0.0482  1.0577\n",
      "住房贷款占比_woe                   0.4687   0.2424   1.9340 0.0531 -0.0063  0.9437\n",
      "十二个月内最近一次查询距今月份_woe          0.4446   0.2327   1.9104 0.0561 -0.0115  0.9008\n",
      "mr_发卡法人机构总数_woe              0.7166   0.4112   1.7429 0.0813 -0.0892  1.5225\n",
      "============================================================================\n",
      "\n",
      "                                   chi2         P>chi2  df constraint\n",
      "_const                       706.612788  1.090735e-155              1\n",
      "近2年内查询机构数-贷款审批_woe            16.668996   4.450242e-05              1\n",
      "found_until_apply_month_woe   10.305072   1.326651e-03              1\n",
      "mr_贷款历史机构数_woe                 9.611732   1.933382e-03              1\n",
      "近24月累计逾期_woe                   9.118094   2.530935e-03              1\n",
      "mr_贷款最大还款月数_woe               11.328778   7.631511e-04              1\n",
      "平均额度_woe                      19.419852   1.049108e-05              1\n",
      "近2年内查询次数-担保资格审查_woe            8.733048   3.124937e-03              1\n",
      "评估价值汇总_woe                    10.393279   1.264748e-03              1\n",
      "贷记透支比例_woe                     9.547647   2.002058e-03              1\n",
      "授信总额_woe                       4.610931   3.176878e-02              1\n",
      "住房贷款占比_woe                     3.740367   5.311277e-02              1\n",
      "十二个月内最近一次查询距今月份_woe            3.649812   5.607555e-02              1\n",
      "mr_发卡法人机构总数_woe                3.037792   8.134651e-02              1\n"
     ]
    }
   ],
   "source": [
    "# 逐步回归筛选特征\n",
    "# step_remove_feas = forward_delete_pvalue(tra_x_woe,tra_y)\n",
    "step_remove_feas,res = step_logit(tra_x_woe,tra_y)\n",
    "tra_x_woe.drop(step_remove_feas,axis=1,inplace=True)\n",
    "test_x_woe.drop(step_remove_feas,axis=1,inplace=True)"
   ]
  },
  {
   "cell_type": "code",
   "execution_count": 42,
   "metadata": {
    "ExecuteTime": {
     "end_time": "2021-01-01T13:33:29.216638Z",
     "start_time": "2021-01-01T13:32:53.840Z"
    }
   },
   "outputs": [],
   "source": [
    "test_x_woe = test_x_woe.fillna(0)\n",
    "if 'oot' in test_x_woe.columns:\n",
    "    test_x_woe.drop('oot',axis=1,inplace=True)"
   ]
  },
  {
   "cell_type": "code",
   "execution_count": 43,
   "metadata": {
    "ExecuteTime": {
     "end_time": "2021-01-01T13:33:29.217635Z",
     "start_time": "2021-01-01T13:32:53.845Z"
    }
   },
   "outputs": [],
   "source": [
    "test_x_woe_oot = test_x_woe.loc[test_x[test_x['oot']==1].index]\n",
    "test_x_woe_dt = test_x_woe.loc[test_x[test_x['oot'] == 0].index]"
   ]
  },
  {
   "cell_type": "code",
   "execution_count": 44,
   "metadata": {
    "ExecuteTime": {
     "end_time": "2021-01-01T13:33:29.218879Z",
     "start_time": "2021-01-01T13:32:53.849Z"
    }
   },
   "outputs": [],
   "source": [
    "test_y_oot = test_y[test_x[test_x['oot']==1].index]\n",
    "test_y_dt = test_y.loc[test_x[test_x['oot'] == 0].index]"
   ]
  },
  {
   "cell_type": "code",
   "execution_count": 45,
   "metadata": {
    "ExecuteTime": {
     "end_time": "2021-01-01T13:33:29.221345Z",
     "start_time": "2021-01-01T13:32:53.852Z"
    }
   },
   "outputs": [],
   "source": [
    "# 11.21测试 注释掉了这三行\n",
    "tra_x_woe.drop(['评估价值汇总_woe'],axis=1,inplace=True)\n",
    "test_x_woe_dt.drop(['评估价值汇总_woe'],axis=1,inplace=True)\n",
    "test_x_woe_oot.drop(['评估价值汇总_woe'],axis=1,inplace=True)\n",
    "# break"
   ]
  },
  {
   "cell_type": "code",
   "execution_count": 46,
   "metadata": {
    "ExecuteTime": {
     "end_time": "2021-01-01T13:33:29.223051Z",
     "start_time": "2021-01-01T13:32:53.858Z"
    }
   },
   "outputs": [],
   "source": [
    "# tra_x_woe.drop(['授信总额_woe','十二个月内最近一次查询距今月份_woe','贷款最大剩余月数_woe'],axis=1,inplace=True)\n",
    "# test_x_woe_dt.drop(['授信总额_woe','十二个月内最近一次查询距今月份_woe','贷款最大剩余月数_woe'],axis=1,inplace=True)\n",
    "# test_x_woe_oot.drop(['授信总额_woe','十二个月内最近一次查询距今月份_woe','贷款最大剩余月数_woe'],axis=1,inplace=True)"
   ]
  },
  {
   "cell_type": "code",
   "execution_count": 47,
   "metadata": {
    "ExecuteTime": {
     "end_time": "2021-01-01T13:33:29.225045Z",
     "start_time": "2021-01-01T13:32:53.862Z"
    }
   },
   "outputs": [],
   "source": [
    "# tra_x_woe.drop('近5年最大逾期_woe',axis=1,inplace=True)\n",
    "# test_x_woe_dt.drop('近5年最大逾期_woe',axis=1,inplace=True)\n",
    "# test_x_woe_oot.drop('近5年最大逾期_woe',axis=1,inplace=True)\n",
    "# step_remove_feas,res = step_logit(tra_x_woe,tra_y)\n",
    "# tra_x_woe.drop(step_remove_feas,axis=1,inplace=True)\n",
    "# test_x_woe_dt.drop(step_remove_feas,axis=1,inplace=True)\n",
    "# test_x_woe_oot.drop(step_remove_feas,axis=1,inplace=True)"
   ]
  },
  {
   "cell_type": "code",
   "execution_count": 48,
   "metadata": {
    "ExecuteTime": {
     "end_time": "2021-01-01T13:33:29.226401Z",
     "start_time": "2021-01-01T13:32:53.865Z"
    }
   },
   "outputs": [
    {
     "output_type": "stream",
     "name": "stdout",
     "text": [
      "Optimization terminated successfully.\n",
      "         Current function value: 0.234816\n",
      "         Iterations 7\n",
      "========================第0步结果=======================\n",
      "                         Results: Logit\n",
      "================================================================\n",
      "Model:              Logit            Pseudo R-squared: 0.000    \n",
      "Dependent Variable: y                AIC:              1241.8296\n",
      "Date:               2021-01-06 14:00 BIC:              1247.7081\n",
      "No. Observations:   2640             Log-Likelihood:   -619.91  \n",
      "Df Model:           0                LL-Null:          -619.91  \n",
      "Df Residuals:       2639             LLR p-value:      nan      \n",
      "Converged:          1.0000           Scale:            1.0000   \n",
      "No. Iterations:     7.0000                                      \n",
      "-----------------------------------------------------------------\n",
      "             Coef.   Std.Err.     z      P>|z|    [0.025   0.975]\n",
      "-----------------------------------------------------------------\n",
      "_const      -2.7016    0.0802  -33.6956  0.0000  -2.8587  -2.5445\n",
      "================================================================\n",
      "\n",
      "               chi2         P>chi2  df constraint\n",
      "_const  1135.395483  6.698666e-249              1\n",
      "#####======第1步：候选变量的遍历结果=======\n",
      "                           xvar        chi2  df        p-vlue\n",
      "0                    贷记透支比例_woe   69.498623   1  1.110223e-16\n",
      "1           近2年内查询次数-担保资格审查_woe   59.508210   1  1.221245e-14\n",
      "2               mr_发卡法人机构总数_woe    6.307937   1  1.201986e-02\n",
      "3                    住房贷款占比_woe   16.693125   1  4.393994e-05\n",
      "4   found_until_apply_month_woe   47.691086   1  4.989564e-12\n",
      "5                  近24月累计逾期_woe   45.770643   1  1.329414e-11\n",
      "6            近2年内查询机构数-贷款审批_woe  156.279810   1  0.000000e+00\n",
      "7                mr_贷款历史机构数_woe   24.209373   1  8.641070e-07\n",
      "8                      授信总额_woe   23.746045   1  1.099210e-06\n",
      "9               mr_贷款最大还款月数_woe   17.392616   1  3.040047e-05\n",
      "10          十二个月内最近一次查询距今月份_woe   28.655456   1  8.647003e-08\n",
      "######====第1步：加入变量近2年内查询机构数-贷款审批_woe\n",
      "Optimization terminated successfully.\n",
      "         Current function value: 0.209042\n",
      "         Iterations 7\n",
      "######======第1步：wald卡方检验======\n",
      "######====第1步：未删除变量\n",
      "########################################\n",
      "\n",
      "#####======第2步：候选变量的遍历结果=======\n",
      "                          xvar       chi2  df    p-vlue\n",
      "0                   贷记透支比例_woe  12.256042   1  0.000464\n",
      "1          近2年内查询次数-担保资格审查_woe  11.483347   1  0.000702\n",
      "2              mr_发卡法人机构总数_woe   3.009330   1  0.082787\n",
      "3                   住房贷款占比_woe   4.384834   1  0.036260\n",
      "4  found_until_apply_month_woe  22.625026   1  0.000002\n",
      "5                 近24月累计逾期_woe  14.385776   1  0.000149\n",
      "6               mr_贷款历史机构数_woe  12.445341   1  0.000419\n",
      "7                     授信总额_woe   2.201900   1  0.137841\n",
      "8              mr_贷款最大还款月数_woe   9.153762   1  0.002482\n",
      "9          十二个月内最近一次查询距今月份_woe   2.447503   1  0.117712\n",
      "######====第2步：加入变量found_until_apply_month_woe\n",
      "Optimization terminated successfully.\n",
      "         Current function value: 0.203393\n",
      "         Iterations 9\n",
      "######======第2步：wald卡方检验======\n",
      "######====第2步：未删除变量\n",
      "########################################\n",
      "\n",
      "#####======第3步：候选变量的遍历结果=======\n",
      "                  xvar       chi2  df    p-vlue\n",
      "0           贷记透支比例_woe  10.170522   1  0.001427\n",
      "1  近2年内查询次数-担保资格审查_woe   9.195563   1  0.002426\n",
      "2      mr_发卡法人机构总数_woe   2.933570   1  0.086755\n",
      "3           住房贷款占比_woe   4.544853   1  0.033018\n",
      "4         近24月累计逾期_woe  11.351469   1  0.000754\n",
      "5       mr_贷款历史机构数_woe  12.051665   1  0.000517\n",
      "6             授信总额_woe   1.396727   1  0.237272\n",
      "7      mr_贷款最大还款月数_woe   9.430192   1  0.002134\n",
      "8  十二个月内最近一次查询距今月份_woe   3.227241   1  0.072423\n",
      "######====第3步：加入变量mr_贷款历史机构数_woe\n",
      "Optimization terminated successfully.\n",
      "         Current function value: 0.201048\n",
      "         Iterations 9\n",
      "######======第3步：wald卡方检验======\n",
      "######====第3步：未删除变量\n",
      "########################################\n",
      "\n",
      "#####======第4步：候选变量的遍历结果=======\n",
      "                  xvar       chi2  df    p-vlue\n",
      "0           贷记透支比例_woe   9.311164   1  0.002278\n",
      "1  近2年内查询次数-担保资格审查_woe   9.167995   1  0.002463\n",
      "2      mr_发卡法人机构总数_woe   2.037790   1  0.153432\n",
      "3           住房贷款占比_woe   4.670734   1  0.030681\n",
      "4         近24月累计逾期_woe  11.140085   1  0.000845\n",
      "5             授信总额_woe   1.337276   1  0.247515\n",
      "6      mr_贷款最大还款月数_woe   8.881134   1  0.002881\n",
      "7  十二个月内最近一次查询距今月份_woe   3.353056   1  0.067080\n",
      "######====第4步：加入变量近24月累计逾期_woe\n",
      "Optimization terminated successfully.\n",
      "         Current function value: 0.199064\n",
      "         Iterations 9\n",
      "######======第4步：wald卡方检验======\n",
      "######====第4步：未删除变量\n",
      "########################################\n",
      "\n",
      "#####======第5步：候选变量的遍历结果=======\n",
      "                  xvar       chi2  df    p-vlue\n",
      "0           贷记透支比例_woe   7.082853   1  0.007783\n",
      "1  近2年内查询次数-担保资格审查_woe   9.267758   1  0.002332\n",
      "2      mr_发卡法人机构总数_woe   1.853338   1  0.173396\n",
      "3           住房贷款占比_woe   4.793619   1  0.028565\n",
      "4             授信总额_woe   0.970112   1  0.324652\n",
      "5      mr_贷款最大还款月数_woe  10.374862   1  0.001277\n",
      "6  十二个月内最近一次查询距今月份_woe   2.683069   1  0.101420\n",
      "######====第5步：加入变量mr_贷款最大还款月数_woe\n",
      "Optimization terminated successfully.\n",
      "         Current function value: 0.197072\n",
      "         Iterations 9\n",
      "######======第5步：wald卡方检验======\n",
      "######====第5步：未删除变量\n",
      "########################################\n",
      "\n",
      "#####======第6步：候选变量的遍历结果=======\n",
      "                  xvar      chi2  df    p-vlue\n",
      "0           贷记透支比例_woe  6.653712   1  0.009895\n",
      "1  近2年内查询次数-担保资格审查_woe  9.572031   1  0.001976\n",
      "2      mr_发卡法人机构总数_woe  2.169931   1  0.140733\n",
      "3           住房贷款占比_woe  5.192231   1  0.022688\n",
      "4             授信总额_woe  0.756724   1  0.384356\n",
      "5  十二个月内最近一次查询距今月份_woe  2.352039   1  0.125119\n",
      "######====第6步：加入变量近2年内查询次数-担保资格审查_woe\n",
      "Optimization terminated successfully.\n",
      "         Current function value: 0.195290\n",
      "         Iterations 9\n",
      "######======第6步：wald卡方检验======\n",
      "######====第6步：未删除变量\n",
      "########################################\n",
      "\n",
      "#####======第7步：候选变量的遍历结果=======\n",
      "                  xvar      chi2  df    p-vlue\n",
      "0           贷记透支比例_woe  6.047396   1  0.013927\n",
      "1      mr_发卡法人机构总数_woe  2.386166   1  0.122414\n",
      "2           住房贷款占比_woe  4.878678   1  0.027190\n",
      "3             授信总额_woe  0.436295   1  0.508916\n",
      "4  十二个月内最近一次查询距今月份_woe  2.036803   1  0.153532\n",
      "######====第7步：加入变量贷记透支比例_woe\n",
      "Optimization terminated successfully.\n",
      "         Current function value: 0.194153\n",
      "         Iterations 9\n",
      "######======第7步：wald卡方检验======\n",
      "######====第7步：未删除变量\n",
      "########################################\n",
      "\n",
      "#####======第8步：候选变量的遍历结果=======\n",
      "                  xvar      chi2  df    p-vlue\n",
      "0      mr_发卡法人机构总数_woe  2.164322   1  0.141247\n",
      "1           住房贷款占比_woe  4.613810   1  0.031715\n",
      "2             授信总额_woe  0.564771   1  0.452344\n",
      "3  十二个月内最近一次查询距今月份_woe  1.997788   1  0.157529\n",
      "######====第8步：加入变量住房贷款占比_woe\n",
      "Optimization terminated successfully.\n",
      "         Current function value: 0.193144\n",
      "         Iterations 9\n",
      "######======第8步：wald卡方检验======\n",
      "######====第8步：未删除变量\n",
      "########################################\n",
      "\n",
      "#####======第9步：候选变量的遍历结果=======\n",
      "                  xvar      chi2  df    p-vlue\n",
      "0      mr_发卡法人机构总数_woe  2.252176   1  0.133427\n",
      "1             授信总额_woe  0.605569   1  0.436461\n",
      "2  十二个月内最近一次查询距今月份_woe  2.294585   1  0.129826\n",
      "######====第9步：未加入变量\n",
      "Optimization terminated successfully.\n",
      "         Current function value: 0.193144\n",
      "         Iterations 9\n",
      "######======第9步：wald卡方检验======\n",
      "######====第9步：未删除变量\n",
      "########################################\n",
      "\n",
      "========================最终结果汇总=======================\n",
      "                               Results: Logit\n",
      "============================================================================\n",
      "Model:                   Logit               Pseudo R-squared:    0.177     \n",
      "Dependent Variable:      y                   AIC:                 1037.7988 \n",
      "Date:                    2021-01-06 14:00    BIC:                 1090.7056 \n",
      "No. Observations:        2640                Log-Likelihood:      -509.90   \n",
      "Df Model:                8                   LL-Null:             -619.91   \n",
      "Df Residuals:            2631                LLR p-value:         3.7934e-43\n",
      "Converged:               1.0000              Scale:               1.0000    \n",
      "No. Iterations:          9.0000                                             \n",
      "----------------------------------------------------------------------------\n",
      "                             Coef.  Std.Err.    z     P>|z|   [0.025  0.975]\n",
      "----------------------------------------------------------------------------\n",
      "_const                      -2.7189   0.0987 -27.5390 0.0000 -2.9124 -2.5254\n",
      "近2年内查询机构数-贷款审批_woe           0.5269   0.1076   4.8992 0.0000  0.3161  0.7377\n",
      "found_until_apply_month_woe  0.7425   0.1863   3.9858 0.0001  0.3774  1.1076\n",
      "mr_贷款历史机构数_woe               0.6387   0.1945   3.2837 0.0010  0.2575  1.0200\n",
      "近24月累计逾期_woe                 0.5407   0.1684   3.2101 0.0013  0.2106  0.8708\n",
      "mr_贷款最大还款月数_woe              0.7505   0.2302   3.2609 0.0011  0.2994  1.2016\n",
      "近2年内查询次数-担保资格审查_woe          0.4355   0.1492   2.9180 0.0035  0.1430  0.7279\n",
      "贷记透支比例_woe                   0.3603   0.1513   2.3812 0.0173  0.0637  0.6570\n",
      "住房贷款占比_woe                   0.5046   0.2361   2.1369 0.0326  0.0418  0.9673\n",
      "============================================================================\n",
      "\n",
      "                                   chi2         P>chi2  df constraint\n",
      "_const                       758.396873  5.992838e-167              1\n",
      "近2年内查询机构数-贷款审批_woe            24.002640   9.620371e-07              1\n",
      "found_until_apply_month_woe   15.886908   6.724225e-05              1\n",
      "mr_贷款历史机构数_woe                10.782779   1.024487e-03              1\n",
      "近24月累计逾期_woe                  10.304731   1.326896e-03              1\n",
      "mr_贷款最大还款月数_woe               10.633260   1.110718e-03              1\n",
      "近2年内查询次数-担保资格审查_woe            8.514670   3.522948e-03              1\n",
      "贷记透支比例_woe                     5.669919   1.725826e-02              1\n",
      "住房贷款占比_woe                     4.566485   3.260340e-02              1\n"
     ]
    }
   ],
   "source": [
    "tra_x_woe.drop('平均额度_woe',axis=1,inplace=True)\n",
    "test_x_woe_dt.drop('平均额度_woe',axis=1,inplace=True)\n",
    "test_x_woe_oot.drop('平均额度_woe',axis=1,inplace=True)\n",
    "step_remove_feas,res = step_logit(tra_x_woe,tra_y)\n",
    "tra_x_woe.drop(step_remove_feas,axis=1,inplace=True)\n",
    "test_x_woe_dt.drop(step_remove_feas,axis=1,inplace=True)\n",
    "test_x_woe_oot.drop(step_remove_feas,axis=1,inplace=True)"
   ]
  },
  {
   "cell_type": "code",
   "execution_count": 49,
   "metadata": {
    "ExecuteTime": {
     "end_time": "2021-01-01T13:33:29.227886Z",
     "start_time": "2021-01-01T13:32:53.870Z"
    }
   },
   "outputs": [],
   "source": [
    "# tra_x_woe.drop('非银金融机构信贷历史机构数_woe',axis=1,inplace=True)\n",
    "# test_x_woe_dt.drop('非银金融机构信贷历史机构数_woe',axis=1,inplace=True)\n",
    "# test_x_woe_oot.drop('非银金融机构信贷历史机构数_woe',axis=1,inplace=True)\n",
    "# step_remove_feas,res = step_logit(tra_x_woe,tra_y)\n",
    "# tra_x_woe.drop(step_remove_feas,axis=1,inplace=True)\n",
    "# test_x_woe_dt.drop(step_remove_feas,axis=1,inplace=True)\n",
    "# test_x_woe_oot.drop(step_remove_feas,axis=1,inplace=True)"
   ]
  },
  {
   "cell_type": "code",
   "execution_count": 50,
   "metadata": {
    "ExecuteTime": {
     "end_time": "2021-01-01T13:33:29.228885Z",
     "start_time": "2021-01-01T13:32:53.875Z"
    }
   },
   "outputs": [],
   "source": [
    "# 保存入模变量分箱\n",
    "# final_feas_bins = {k:v for k,v in rf_bins_dic.items() if k in [i.split('_woe')[0] for i in tra_x_woe.columns]}\n",
    "# bin_save(final_feas_bins,'final_feas_bins.xlsx')"
   ]
  },
  {
   "cell_type": "code",
   "execution_count": 51,
   "metadata": {
    "ExecuteTime": {
     "end_time": "2021-01-01T13:33:29.230456Z",
     "start_time": "2021-01-01T13:32:53.879Z"
    }
   },
   "outputs": [
    {
     "output_type": "execute_result",
     "data": {
      "text/plain": [
       "['found_until_apply_month_woe',\n",
       " 'mr_贷款历史机构数_woe',\n",
       " 'mr_贷款最大还款月数_woe',\n",
       " '住房贷款占比_woe',\n",
       " '贷记透支比例_woe',\n",
       " '近24月累计逾期_woe',\n",
       " '近2年内查询机构数-贷款审批_woe',\n",
       " '近2年内查询次数-担保资格审查_woe']"
      ]
     },
     "metadata": {},
     "execution_count": 51
    }
   ],
   "source": [
    "sorted(list(tra_x_woe.columns))"
   ]
  },
  {
   "cell_type": "code",
   "execution_count": 52,
   "metadata": {
    "ExecuteTime": {
     "end_time": "2021-01-01T13:33:29.232053Z",
     "start_time": "2021-01-01T13:32:53.883Z"
    }
   },
   "outputs": [],
   "source": [
    "# import pickle \n",
    "# pickle.dump(rf_bins_dic,open('model_file/rf_bins_dic.pickle','wb+'))\n",
    "# rf_bins_dic2 = pickle.load(open('rf_bins_dic.pickle','rb+'))"
   ]
  },
  {
   "cell_type": "code",
   "execution_count": 53,
   "metadata": {
    "ExecuteTime": {
     "end_time": "2021-01-01T13:33:29.234360Z",
     "start_time": "2021-01-01T13:32:53.887Z"
    }
   },
   "outputs": [
    {
     "output_type": "error",
     "ename": "SyntaxError",
     "evalue": "'break' outside loop (<ipython-input-53-6aaf1f276005>, line 1)",
     "traceback": [
      "\u001b[1;36m  File \u001b[1;32m\"<ipython-input-53-6aaf1f276005>\"\u001b[1;36m, line \u001b[1;32m1\u001b[0m\n\u001b[1;33m    break\u001b[0m\n\u001b[1;37m    ^\u001b[0m\n\u001b[1;31mSyntaxError\u001b[0m\u001b[1;31m:\u001b[0m 'break' outside loop\n"
     ]
    }
   ],
   "source": [
    "break"
   ]
  },
  {
   "cell_type": "markdown",
   "metadata": {},
   "source": [
    "## 逻辑回归"
   ]
  },
  {
   "cell_type": "code",
   "execution_count": 54,
   "metadata": {
    "ExecuteTime": {
     "end_time": "2021-01-01T13:33:29.236008Z",
     "start_time": "2021-01-01T13:32:53.972Z"
    }
   },
   "outputs": [
    {
     "output_type": "stream",
     "name": "stdout",
     "text": [
      "Optimization terminated successfully.\n         Current function value: 0.193144\n         Iterations 9\n========================最终结果汇总=======================\n                               Results: Logit\n============================================================================\nModel:                   Logit               Pseudo R-squared:    0.177     \nDependent Variable:      y                   AIC:                 1037.7988 \nDate:                    2021-01-06 14:09    BIC:                 1090.7056 \nNo. Observations:        2640                Log-Likelihood:      -509.90   \nDf Model:                8                   LL-Null:             -619.91   \nDf Residuals:            2631                LLR p-value:         3.7934e-43\nConverged:               1.0000              Scale:               1.0000    \nNo. Iterations:          9.0000                                             \n----------------------------------------------------------------------------\n                             Coef.  Std.Err.    z     P>|z|   [0.025  0.975]\n----------------------------------------------------------------------------\n贷记透支比例_woe                   0.3603   0.1513   2.3812 0.0173  0.0637  0.6570\n近2年内查询次数-担保资格审查_woe          0.4355   0.1492   2.9180 0.0035  0.1430  0.7279\n住房贷款占比_woe                   0.5046   0.2361   2.1369 0.0326  0.0418  0.9673\nfound_until_apply_month_woe  0.7425   0.1863   3.9858 0.0001  0.3774  1.1076\n近24月累计逾期_woe                 0.5407   0.1684   3.2101 0.0013  0.2106  0.8708\n近2年内查询机构数-贷款审批_woe           0.5269   0.1076   4.8992 0.0000  0.3161  0.7377\nmr_贷款历史机构数_woe               0.6387   0.1945   3.2837 0.0010  0.2575  1.0200\nmr_贷款最大还款月数_woe              0.7505   0.2302   3.2609 0.0011  0.2994  1.2016\n_const                      -2.7189   0.0987 -27.5390 0.0000 -2.9124 -2.5254\n============================================================================\n\n                                   chi2         P>chi2  df constraint\n贷记透支比例_woe                     5.669919   1.725826e-02              1\n近2年内查询次数-担保资格审查_woe            8.514670   3.522948e-03              1\n住房贷款占比_woe                     4.566485   3.260340e-02              1\nfound_until_apply_month_woe   15.886908   6.724225e-05              1\n近24月累计逾期_woe                  10.304731   1.326896e-03              1\n近2年内查询机构数-贷款审批_woe            24.002640   9.620371e-07              1\nmr_贷款历史机构数_woe                10.782779   1.024487e-03              1\nmr_贷款最大还款月数_woe               10.633260   1.110718e-03              1\n_const                       758.396873  5.992838e-167              1\n"
     ]
    },
    {
     "output_type": "execute_result",
     "data": {
      "text/plain": [
       "LogisticRegression(max_iter=200)"
      ]
     },
     "metadata": {},
     "execution_count": 54
    }
   ],
   "source": [
    "# 逻辑回归\n",
    "res = step_logit(tra_x_woe,tra_y,selection='normal')\n",
    "lr_model = LogisticRegression(max_iter = 200)\n",
    "lr_model.fit(tra_x_woe,tra_y)"
   ]
  },
  {
   "cell_type": "code",
   "execution_count": null,
   "metadata": {
    "ExecuteTime": {
     "end_time": "2021-01-01T13:33:29.238735Z",
     "start_time": "2021-01-01T13:32:53.977Z"
    }
   },
   "outputs": [],
   "source": [
    "# import pickle \n",
    "# pickle.dump(res,open('model_file/lr_model_stats.pickle','wb+'))"
   ]
  },
  {
   "cell_type": "code",
   "execution_count": null,
   "metadata": {
    "ExecuteTime": {
     "end_time": "2021-01-01T13:33:29.241373Z",
     "start_time": "2021-01-01T13:32:53.981Z"
    }
   },
   "outputs": [],
   "source": [
    "# P值结果\n",
    "res.pvalues.astype(str).apply(lambda x:x.format({':.2f'})).to_csv('final_result_2/P值结果.csv',encoding='gbk')"
   ]
  },
  {
   "cell_type": "code",
   "execution_count": null,
   "metadata": {
    "ExecuteTime": {
     "end_time": "2021-01-01T13:33:29.244843Z",
     "start_time": "2021-01-01T13:32:53.984Z"
    }
   },
   "outputs": [],
   "source": [
    "# 训练集预测概率\n",
    "predict_score = lr_model.predict_proba(tra_x_woe)[:,1]\n",
    "# 测试集预测概率\n",
    "predict_test_score_dt = lr_model.predict_proba(test_x_woe_dt)[:,1]\n",
    "# 时间外预测概率\n",
    "predict_test_score_oot = lr_model.predict_proba(test_x_woe_oot)[:,1]"
   ]
  },
  {
   "cell_type": "code",
   "execution_count": null,
   "metadata": {
    "ExecuteTime": {
     "end_time": "2021-01-01T13:33:29.246838Z",
     "start_time": "2021-01-01T13:32:53.988Z"
    }
   },
   "outputs": [],
   "source": [
    "# 训练集AUC\n",
    "tra_auc = roc_auc_score(tra_y,predict_score)\n",
    "# 测试集AUC\n",
    "test_dt_auc = roc_auc_score(test_y_dt,predict_test_score_dt)\n",
    "# 时间外AUC\n",
    "test_oot_auc = roc_auc_score(test_oot['tag'],predict_test_score_oot)\n",
    "print('训练集:',tra_auc,'测试集:',test_dt_auc,'时间外:',test_oot_auc)"
   ]
  },
  {
   "cell_type": "code",
   "execution_count": null,
   "metadata": {
    "ExecuteTime": {
     "end_time": "2021-01-01T13:33:29.248144Z",
     "start_time": "2021-01-01T13:32:53.993Z"
    },
    "scrolled": false
   },
   "outputs": [],
   "source": [
    "sc.perf_eva(tra_y,predict_score,title='训练集')"
   ]
  },
  {
   "cell_type": "code",
   "execution_count": null,
   "metadata": {
    "ExecuteTime": {
     "end_time": "2021-01-01T13:33:29.250155Z",
     "start_time": "2021-01-01T13:32:53.996Z"
    }
   },
   "outputs": [],
   "source": [
    "sc.perf_eva(test_y_dt,predict_test_score_dt,title='测试集')"
   ]
  },
  {
   "cell_type": "code",
   "execution_count": null,
   "metadata": {
    "ExecuteTime": {
     "end_time": "2021-01-01T13:33:29.251789Z",
     "start_time": "2021-01-01T13:32:54.000Z"
    }
   },
   "outputs": [],
   "source": [
    "sc.perf_eva(test_y_oot,predict_test_score_oot,title='时间外')"
   ]
  },
  {
   "cell_type": "code",
   "execution_count": null,
   "metadata": {
    "ExecuteTime": {
     "end_time": "2021-01-01T13:33:29.253851Z",
     "start_time": "2021-01-01T13:32:54.004Z"
    }
   },
   "outputs": [],
   "source": [
    "# woe_feas = [i.split('_woe')[0] for i in tra_x_woe.loc[:,tra_x_woe.columns.str.contains('woe')].columns]\n",
    "# filter_fea_df.reindex(woe_feas)"
   ]
  },
  {
   "cell_type": "markdown",
   "metadata": {},
   "source": [
    "## 建立评分卡"
   ]
  },
  {
   "cell_type": "code",
   "execution_count": 55,
   "metadata": {
    "ExecuteTime": {
     "end_time": "2021-01-01T13:33:29.255863Z",
     "start_time": "2021-01-01T13:32:54.127Z"
    }
   },
   "outputs": [],
   "source": [
    "import re\n",
    "def ab(points0=600, odds0=1/20, pdo=50):\n",
    "    b = pdo/np.log(2)\n",
    "    a = points0 + b*np.log(odds0) #log(odds0/(1+odds0))\n",
    "    return {'a':a, 'b':b}\n",
    "\n",
    "def scorecard_sm(bins, model, xcolumns, points0=600, odds0=1/20, pdo=50, basepoints_eq0=False,model_type='smlogit'):\n",
    "    # coefficients\n",
    "    aabb = ab(points0, odds0, pdo)\n",
    "    a = aabb['a'] \n",
    "    b = aabb['b']\n",
    "    if isinstance(bins, dict):\n",
    "        bins = pd.concat(bins, ignore_index=True)\n",
    "    xs = [re.sub('_woe$', '', i) for i in xcolumns]\n",
    "    # coefficients\n",
    "    coef_df = res.params.drop('_const')\n",
    "    coef_df.index = xs\n",
    "    coef_df = coef_df.loc[lambda x: x != 0]#.reset_index(drop=True)\n",
    "    print(coef_df)\n",
    "#     print(cdsed)\n",
    "    # scorecard\n",
    "    len_x = len(coef_df)\n",
    "    basepoints = a - b*res.params['_const']\n",
    "    card = {}\n",
    "    if basepoints_eq0:\n",
    "        card['basepoints'] = pd.DataFrame({'variable':\"basepoints\", 'bin':np.nan, 'points':0}, index=np.arange(1))\n",
    "        for i in coef_df.index:\n",
    "            card[i] = bins.loc[bins['variable']==i,['variable', 'bin', 'woe']]\\\n",
    "              .assign(points = lambda x: round(-b*x['woe']*coef_df[i] + basepoints/len_x))\\\n",
    "              [[\"variable\", \"bin\", \"points\"]]\n",
    "    else:\n",
    "        card['basepoints'] = pd.DataFrame({'variable':\"basepoints\", 'bin':np.nan, 'points':round(basepoints)}, index=np.arange(1))\n",
    "        for i in coef_df.index:\n",
    "            card[i] = bins.loc[bins['variable']==i,['variable', 'bin', 'woe']]\\\n",
    "              .assign(points = lambda x: round(-b*x['woe']*coef_df[i]))\\\n",
    "              [[\"variable\", \"bin\", \"points\"]]\n",
    "    return card"
   ]
  },
  {
   "cell_type": "code",
   "execution_count": 56,
   "metadata": {
    "ExecuteTime": {
     "end_time": "2021-01-01T13:33:29.258854Z",
     "start_time": "2021-01-01T13:32:54.133Z"
    }
   },
   "outputs": [],
   "source": [
    "score_dataset = tra_x_woe.append(test_x_woe_dt)\n",
    "score_dataset_org = tra_x.append(test_x)"
   ]
  },
  {
   "cell_type": "code",
   "execution_count": 57,
   "metadata": {
    "ExecuteTime": {
     "end_time": "2021-01-01T13:33:29.262395Z",
     "start_time": "2021-01-01T13:32:54.139Z"
    }
   },
   "outputs": [
    {
     "output_type": "stream",
     "name": "stdout",
     "text": [
      "贷记透支比例                     0.360350\n近2年内查询次数-担保资格审查            0.435455\n住房贷款占比                     0.504553\nfound_until_apply_month    0.742516\n近24月累计逾期                   0.540683\n近2年内查询机构数-贷款审批             0.526920\nmr_贷款历史机构数                 0.638728\nmr_贷款最大还款月数                0.750525\ndtype: float64\n"
     ]
    }
   ],
   "source": [
    "score_card_info = scorecard_sm(rf_bins_dic,res,score_dataset.columns)"
   ]
  },
  {
   "cell_type": "code",
   "execution_count": 58,
   "metadata": {
    "ExecuteTime": {
     "end_time": "2021-01-01T13:33:29.263960Z",
     "start_time": "2021-01-01T13:32:54.144Z"
    }
   },
   "outputs": [],
   "source": [
    "score = sc.scorecard_ply(score_dataset_org, score_card_info,only_total_score = False)"
   ]
  },
  {
   "cell_type": "code",
   "execution_count": 59,
   "metadata": {
    "ExecuteTime": {
     "end_time": "2021-01-01T13:33:29.266093Z",
     "start_time": "2021-01-01T13:32:54.149Z"
    }
   },
   "outputs": [],
   "source": [
    "score['tag'] = score_dataset_org['tag']"
   ]
  },
  {
   "cell_type": "code",
   "execution_count": 60,
   "metadata": {
    "ExecuteTime": {
     "end_time": "2021-01-01T13:33:29.267090Z",
     "start_time": "2021-01-01T13:32:54.155Z"
    }
   },
   "outputs": [
    {
     "output_type": "execute_result",
     "data": {
      "text/plain": [
       "<matplotlib.axes._subplots.AxesSubplot at 0x1ed29592fd0>"
      ]
     },
     "metadata": {},
     "execution_count": 60
    },
    {
     "output_type": "display_data",
     "data": {
      "text/plain": "<Figure size 864x432 with 1 Axes>",
      "image/svg+xml": "<?xml version=\"1.0\" encoding=\"utf-8\" standalone=\"no\"?>\r\n<!DOCTYPE svg PUBLIC \"-//W3C//DTD SVG 1.1//EN\"\r\n  \"http://www.w3.org/Graphics/SVG/1.1/DTD/svg11.dtd\">\r\n<!-- Created with matplotlib (https://matplotlib.org/) -->\r\n<svg height=\"356.705312pt\" version=\"1.1\" viewBox=\"0 0 726.50625 356.705312\" width=\"726.50625pt\" xmlns=\"http://www.w3.org/2000/svg\" xmlns:xlink=\"http://www.w3.org/1999/xlink\">\r\n <defs>\r\n  <style type=\"text/css\">\r\n*{stroke-linecap:butt;stroke-linejoin:round;}\r\n  </style>\r\n </defs>\r\n <g id=\"figure_1\">\r\n  <g id=\"patch_1\">\r\n   <path d=\"M 0 356.705312 \r\nL 726.50625 356.705312 \r\nL 726.50625 0 \r\nL 0 0 \r\nz\r\n\" style=\"fill:#ffffff;\"/>\r\n  </g>\r\n  <g id=\"axes_1\">\r\n   <g id=\"patch_2\">\r\n    <path d=\"M 49.70625 333.36 \r\nL 719.30625 333.36 \r\nL 719.30625 7.2 \r\nL 49.70625 7.2 \r\nz\r\n\" style=\"fill:#eaeaf2;\"/>\r\n   </g>\r\n   <g id=\"matplotlib.axis_1\">\r\n    <g id=\"xtick_1\">\r\n     <g id=\"line2d_1\">\r\n      <path clip-path=\"url(#pafccc403a6)\" d=\"M 54.177943 333.36 \r\nL 54.177943 7.2 \r\n\" style=\"fill:none;stroke:#ffffff;stroke-linecap:round;stroke-width:0.8;\"/>\r\n     </g>\r\n     <g id=\"text_1\">\r\n      <!-- 300 -->\r\n      <defs>\r\n       <path d=\"M 4.203125 18.890625 \r\nL 12.984375 20.0625 \r\nQ 14.5 12.59375 18.140625 9.296875 \r\nQ 21.78125 6 27 6 \r\nQ 33.203125 6 37.46875 10.296875 \r\nQ 41.75 14.59375 41.75 20.953125 \r\nQ 41.75 27 37.796875 30.921875 \r\nQ 33.84375 34.859375 27.734375 34.859375 \r\nQ 25.25 34.859375 21.53125 33.890625 \r\nL 22.515625 41.609375 \r\nQ 23.390625 41.5 23.921875 41.5 \r\nQ 29.546875 41.5 34.03125 44.421875 \r\nQ 38.53125 47.359375 38.53125 53.46875 \r\nQ 38.53125 58.296875 35.25 61.46875 \r\nQ 31.984375 64.65625 26.8125 64.65625 \r\nQ 21.6875 64.65625 18.265625 61.421875 \r\nQ 14.84375 58.203125 13.875 51.765625 \r\nL 5.078125 53.328125 \r\nQ 6.6875 62.15625 12.390625 67.015625 \r\nQ 18.109375 71.875 26.609375 71.875 \r\nQ 32.46875 71.875 37.390625 69.359375 \r\nQ 42.328125 66.84375 44.9375 62.5 \r\nQ 47.5625 58.15625 47.5625 53.265625 \r\nQ 47.5625 48.640625 45.0625 44.828125 \r\nQ 42.578125 41.015625 37.703125 38.765625 \r\nQ 44.046875 37.3125 47.5625 32.6875 \r\nQ 51.078125 28.078125 51.078125 21.140625 \r\nQ 51.078125 11.765625 44.234375 5.25 \r\nQ 37.40625 -1.265625 26.953125 -1.265625 \r\nQ 17.53125 -1.265625 11.296875 4.34375 \r\nQ 5.078125 9.96875 4.203125 18.890625 \r\nz\r\n\" id=\"ArialMT-51\"/>\r\n       <path d=\"M 4.15625 35.296875 \r\nQ 4.15625 48 6.765625 55.734375 \r\nQ 9.375 63.484375 14.515625 67.671875 \r\nQ 19.671875 71.875 27.484375 71.875 \r\nQ 33.25 71.875 37.59375 69.546875 \r\nQ 41.9375 67.234375 44.765625 62.859375 \r\nQ 47.609375 58.5 49.21875 52.21875 \r\nQ 50.828125 45.953125 50.828125 35.296875 \r\nQ 50.828125 22.703125 48.234375 14.96875 \r\nQ 45.65625 7.234375 40.5 3 \r\nQ 35.359375 -1.21875 27.484375 -1.21875 \r\nQ 17.140625 -1.21875 11.234375 6.203125 \r\nQ 4.15625 15.140625 4.15625 35.296875 \r\nz\r\nM 13.1875 35.296875 \r\nQ 13.1875 17.671875 17.3125 11.828125 \r\nQ 21.4375 6 27.484375 6 \r\nQ 33.546875 6 37.671875 11.859375 \r\nQ 41.796875 17.71875 41.796875 35.296875 \r\nQ 41.796875 52.984375 37.671875 58.78125 \r\nQ 33.546875 64.59375 27.390625 64.59375 \r\nQ 21.34375 64.59375 17.71875 59.46875 \r\nQ 13.1875 52.9375 13.1875 35.296875 \r\nz\r\n\" id=\"ArialMT-48\"/>\r\n      </defs>\r\n      <g style=\"fill:#262626;\" transform=\"translate(45.836537 347.517812)scale(0.1 -0.1)\">\r\n       <use xlink:href=\"#ArialMT-51\"/>\r\n       <use x=\"55.615234\" xlink:href=\"#ArialMT-48\"/>\r\n       <use x=\"111.230469\" xlink:href=\"#ArialMT-48\"/>\r\n      </g>\r\n     </g>\r\n    </g>\r\n    <g id=\"xtick_2\">\r\n     <g id=\"line2d_2\">\r\n      <path clip-path=\"url(#pafccc403a6)\" d=\"M 150.343389 333.36 \r\nL 150.343389 7.2 \r\n\" style=\"fill:none;stroke:#ffffff;stroke-linecap:round;stroke-width:0.8;\"/>\r\n     </g>\r\n     <g id=\"text_2\">\r\n      <!-- 400 -->\r\n      <defs>\r\n       <path d=\"M 32.328125 0 \r\nL 32.328125 17.140625 \r\nL 1.265625 17.140625 \r\nL 1.265625 25.203125 \r\nL 33.9375 71.578125 \r\nL 41.109375 71.578125 \r\nL 41.109375 25.203125 \r\nL 50.78125 25.203125 \r\nL 50.78125 17.140625 \r\nL 41.109375 17.140625 \r\nL 41.109375 0 \r\nz\r\nM 32.328125 25.203125 \r\nL 32.328125 57.46875 \r\nL 9.90625 25.203125 \r\nz\r\n\" id=\"ArialMT-52\"/>\r\n      </defs>\r\n      <g style=\"fill:#262626;\" transform=\"translate(142.001983 347.517812)scale(0.1 -0.1)\">\r\n       <use xlink:href=\"#ArialMT-52\"/>\r\n       <use x=\"55.615234\" xlink:href=\"#ArialMT-48\"/>\r\n       <use x=\"111.230469\" xlink:href=\"#ArialMT-48\"/>\r\n      </g>\r\n     </g>\r\n    </g>\r\n    <g id=\"xtick_3\">\r\n     <g id=\"line2d_3\">\r\n      <path clip-path=\"url(#pafccc403a6)\" d=\"M 246.508835 333.36 \r\nL 246.508835 7.2 \r\n\" style=\"fill:none;stroke:#ffffff;stroke-linecap:round;stroke-width:0.8;\"/>\r\n     </g>\r\n     <g id=\"text_3\">\r\n      <!-- 500 -->\r\n      <defs>\r\n       <path d=\"M 4.15625 18.75 \r\nL 13.375 19.53125 \r\nQ 14.40625 12.796875 18.140625 9.390625 \r\nQ 21.875 6 27.15625 6 \r\nQ 33.5 6 37.890625 10.78125 \r\nQ 42.28125 15.578125 42.28125 23.484375 \r\nQ 42.28125 31 38.0625 35.34375 \r\nQ 33.84375 39.703125 27 39.703125 \r\nQ 22.75 39.703125 19.328125 37.765625 \r\nQ 15.921875 35.84375 13.96875 32.765625 \r\nL 5.71875 33.84375 \r\nL 12.640625 70.609375 \r\nL 48.25 70.609375 \r\nL 48.25 62.203125 \r\nL 19.671875 62.203125 \r\nL 15.828125 42.96875 \r\nQ 22.265625 47.46875 29.34375 47.46875 \r\nQ 38.71875 47.46875 45.15625 40.96875 \r\nQ 51.609375 34.46875 51.609375 24.265625 \r\nQ 51.609375 14.546875 45.953125 7.46875 \r\nQ 39.0625 -1.21875 27.15625 -1.21875 \r\nQ 17.390625 -1.21875 11.203125 4.25 \r\nQ 5.03125 9.71875 4.15625 18.75 \r\nz\r\n\" id=\"ArialMT-53\"/>\r\n      </defs>\r\n      <g style=\"fill:#262626;\" transform=\"translate(238.167429 347.517812)scale(0.1 -0.1)\">\r\n       <use xlink:href=\"#ArialMT-53\"/>\r\n       <use x=\"55.615234\" xlink:href=\"#ArialMT-48\"/>\r\n       <use x=\"111.230469\" xlink:href=\"#ArialMT-48\"/>\r\n      </g>\r\n     </g>\r\n    </g>\r\n    <g id=\"xtick_4\">\r\n     <g id=\"line2d_4\">\r\n      <path clip-path=\"url(#pafccc403a6)\" d=\"M 342.674281 333.36 \r\nL 342.674281 7.2 \r\n\" style=\"fill:none;stroke:#ffffff;stroke-linecap:round;stroke-width:0.8;\"/>\r\n     </g>\r\n     <g id=\"text_4\">\r\n      <!-- 600 -->\r\n      <defs>\r\n       <path d=\"M 49.75 54.046875 \r\nL 41.015625 53.375 \r\nQ 39.84375 58.546875 37.703125 60.890625 \r\nQ 34.125 64.65625 28.90625 64.65625 \r\nQ 24.703125 64.65625 21.53125 62.3125 \r\nQ 17.390625 59.28125 14.984375 53.46875 \r\nQ 12.59375 47.65625 12.5 36.921875 \r\nQ 15.671875 41.75 20.265625 44.09375 \r\nQ 24.859375 46.4375 29.890625 46.4375 \r\nQ 38.671875 46.4375 44.84375 39.96875 \r\nQ 51.03125 33.5 51.03125 23.25 \r\nQ 51.03125 16.5 48.125 10.71875 \r\nQ 45.21875 4.9375 40.140625 1.859375 \r\nQ 35.0625 -1.21875 28.609375 -1.21875 \r\nQ 17.625 -1.21875 10.6875 6.859375 \r\nQ 3.765625 14.9375 3.765625 33.5 \r\nQ 3.765625 54.25 11.421875 63.671875 \r\nQ 18.109375 71.875 29.4375 71.875 \r\nQ 37.890625 71.875 43.28125 67.140625 \r\nQ 48.6875 62.40625 49.75 54.046875 \r\nz\r\nM 13.875 23.1875 \r\nQ 13.875 18.65625 15.796875 14.5 \r\nQ 17.71875 10.359375 21.1875 8.171875 \r\nQ 24.65625 6 28.46875 6 \r\nQ 34.03125 6 38.03125 10.484375 \r\nQ 42.046875 14.984375 42.046875 22.703125 \r\nQ 42.046875 30.125 38.078125 34.390625 \r\nQ 34.125 38.671875 28.125 38.671875 \r\nQ 22.171875 38.671875 18.015625 34.390625 \r\nQ 13.875 30.125 13.875 23.1875 \r\nz\r\n\" id=\"ArialMT-54\"/>\r\n      </defs>\r\n      <g style=\"fill:#262626;\" transform=\"translate(334.332875 347.517812)scale(0.1 -0.1)\">\r\n       <use xlink:href=\"#ArialMT-54\"/>\r\n       <use x=\"55.615234\" xlink:href=\"#ArialMT-48\"/>\r\n       <use x=\"111.230469\" xlink:href=\"#ArialMT-48\"/>\r\n      </g>\r\n     </g>\r\n    </g>\r\n    <g id=\"xtick_5\">\r\n     <g id=\"line2d_5\">\r\n      <path clip-path=\"url(#pafccc403a6)\" d=\"M 438.839727 333.36 \r\nL 438.839727 7.2 \r\n\" style=\"fill:none;stroke:#ffffff;stroke-linecap:round;stroke-width:0.8;\"/>\r\n     </g>\r\n     <g id=\"text_5\">\r\n      <!-- 700 -->\r\n      <defs>\r\n       <path d=\"M 4.734375 62.203125 \r\nL 4.734375 70.65625 \r\nL 51.078125 70.65625 \r\nL 51.078125 63.8125 \r\nQ 44.234375 56.546875 37.515625 44.484375 \r\nQ 30.8125 32.421875 27.15625 19.671875 \r\nQ 24.515625 10.6875 23.78125 0 \r\nL 14.75 0 \r\nQ 14.890625 8.453125 18.0625 20.40625 \r\nQ 21.234375 32.375 27.171875 43.484375 \r\nQ 33.109375 54.59375 39.796875 62.203125 \r\nz\r\n\" id=\"ArialMT-55\"/>\r\n      </defs>\r\n      <g style=\"fill:#262626;\" transform=\"translate(430.498321 347.517812)scale(0.1 -0.1)\">\r\n       <use xlink:href=\"#ArialMT-55\"/>\r\n       <use x=\"55.615234\" xlink:href=\"#ArialMT-48\"/>\r\n       <use x=\"111.230469\" xlink:href=\"#ArialMT-48\"/>\r\n      </g>\r\n     </g>\r\n    </g>\r\n    <g id=\"xtick_6\">\r\n     <g id=\"line2d_6\">\r\n      <path clip-path=\"url(#pafccc403a6)\" d=\"M 535.005173 333.36 \r\nL 535.005173 7.2 \r\n\" style=\"fill:none;stroke:#ffffff;stroke-linecap:round;stroke-width:0.8;\"/>\r\n     </g>\r\n     <g id=\"text_6\">\r\n      <!-- 800 -->\r\n      <defs>\r\n       <path d=\"M 17.671875 38.8125 \r\nQ 12.203125 40.828125 9.5625 44.53125 \r\nQ 6.9375 48.25 6.9375 53.421875 \r\nQ 6.9375 61.234375 12.546875 66.546875 \r\nQ 18.171875 71.875 27.484375 71.875 \r\nQ 36.859375 71.875 42.578125 66.421875 \r\nQ 48.296875 60.984375 48.296875 53.171875 \r\nQ 48.296875 48.1875 45.671875 44.5 \r\nQ 43.0625 40.828125 37.75 38.8125 \r\nQ 44.34375 36.671875 47.78125 31.875 \r\nQ 51.21875 27.09375 51.21875 20.453125 \r\nQ 51.21875 11.28125 44.71875 5.03125 \r\nQ 38.234375 -1.21875 27.640625 -1.21875 \r\nQ 17.046875 -1.21875 10.546875 5.046875 \r\nQ 4.046875 11.328125 4.046875 20.703125 \r\nQ 4.046875 27.6875 7.59375 32.390625 \r\nQ 11.140625 37.109375 17.671875 38.8125 \r\nz\r\nM 15.921875 53.71875 \r\nQ 15.921875 48.640625 19.1875 45.40625 \r\nQ 22.46875 42.1875 27.6875 42.1875 \r\nQ 32.765625 42.1875 36.015625 45.375 \r\nQ 39.265625 48.578125 39.265625 53.21875 \r\nQ 39.265625 58.0625 35.90625 61.359375 \r\nQ 32.5625 64.65625 27.59375 64.65625 \r\nQ 22.5625 64.65625 19.234375 61.421875 \r\nQ 15.921875 58.203125 15.921875 53.71875 \r\nz\r\nM 13.09375 20.65625 \r\nQ 13.09375 16.890625 14.875 13.375 \r\nQ 16.65625 9.859375 20.171875 7.921875 \r\nQ 23.6875 6 27.734375 6 \r\nQ 34.03125 6 38.125 10.046875 \r\nQ 42.234375 14.109375 42.234375 20.359375 \r\nQ 42.234375 26.703125 38.015625 30.859375 \r\nQ 33.796875 35.015625 27.4375 35.015625 \r\nQ 21.234375 35.015625 17.15625 30.90625 \r\nQ 13.09375 26.8125 13.09375 20.65625 \r\nz\r\n\" id=\"ArialMT-56\"/>\r\n      </defs>\r\n      <g style=\"fill:#262626;\" transform=\"translate(526.663767 347.517812)scale(0.1 -0.1)\">\r\n       <use xlink:href=\"#ArialMT-56\"/>\r\n       <use x=\"55.615234\" xlink:href=\"#ArialMT-48\"/>\r\n       <use x=\"111.230469\" xlink:href=\"#ArialMT-48\"/>\r\n      </g>\r\n     </g>\r\n    </g>\r\n    <g id=\"xtick_7\">\r\n     <g id=\"line2d_7\">\r\n      <path clip-path=\"url(#pafccc403a6)\" d=\"M 631.170619 333.36 \r\nL 631.170619 7.2 \r\n\" style=\"fill:none;stroke:#ffffff;stroke-linecap:round;stroke-width:0.8;\"/>\r\n     </g>\r\n     <g id=\"text_7\">\r\n      <!-- 900 -->\r\n      <defs>\r\n       <path d=\"M 5.46875 16.546875 \r\nL 13.921875 17.328125 \r\nQ 14.984375 11.375 18.015625 8.6875 \r\nQ 21.046875 6 25.78125 6 \r\nQ 29.828125 6 32.875 7.859375 \r\nQ 35.9375 9.71875 37.890625 12.8125 \r\nQ 39.84375 15.921875 41.15625 21.1875 \r\nQ 42.484375 26.46875 42.484375 31.9375 \r\nQ 42.484375 32.515625 42.4375 33.6875 \r\nQ 39.796875 29.5 35.234375 26.875 \r\nQ 30.671875 24.265625 25.34375 24.265625 \r\nQ 16.453125 24.265625 10.296875 30.703125 \r\nQ 4.15625 37.15625 4.15625 47.703125 \r\nQ 4.15625 58.59375 10.578125 65.234375 \r\nQ 17 71.875 26.65625 71.875 \r\nQ 33.640625 71.875 39.421875 68.109375 \r\nQ 45.21875 64.359375 48.21875 57.390625 \r\nQ 51.21875 50.4375 51.21875 37.25 \r\nQ 51.21875 23.53125 48.234375 15.40625 \r\nQ 45.265625 7.28125 39.375 3.03125 \r\nQ 33.5 -1.21875 25.59375 -1.21875 \r\nQ 17.1875 -1.21875 11.859375 3.4375 \r\nQ 6.546875 8.109375 5.46875 16.546875 \r\nz\r\nM 41.453125 48.140625 \r\nQ 41.453125 55.71875 37.421875 60.15625 \r\nQ 33.40625 64.59375 27.734375 64.59375 \r\nQ 21.875 64.59375 17.53125 59.8125 \r\nQ 13.1875 55.03125 13.1875 47.40625 \r\nQ 13.1875 40.578125 17.3125 36.296875 \r\nQ 21.4375 32.03125 27.484375 32.03125 \r\nQ 33.59375 32.03125 37.515625 36.296875 \r\nQ 41.453125 40.578125 41.453125 48.140625 \r\nz\r\n\" id=\"ArialMT-57\"/>\r\n      </defs>\r\n      <g style=\"fill:#262626;\" transform=\"translate(622.829213 347.517812)scale(0.1 -0.1)\">\r\n       <use xlink:href=\"#ArialMT-57\"/>\r\n       <use x=\"55.615234\" xlink:href=\"#ArialMT-48\"/>\r\n       <use x=\"111.230469\" xlink:href=\"#ArialMT-48\"/>\r\n      </g>\r\n     </g>\r\n    </g>\r\n   </g>\r\n   <g id=\"matplotlib.axis_2\">\r\n    <g id=\"ytick_1\">\r\n     <g id=\"line2d_8\">\r\n      <path clip-path=\"url(#pafccc403a6)\" d=\"M 49.70625 333.36 \r\nL 719.30625 333.36 \r\n\" style=\"fill:none;stroke:#ffffff;stroke-linecap:round;stroke-width:0.8;\"/>\r\n     </g>\r\n     <g id=\"text_8\">\r\n      <!-- 0 -->\r\n      <g style=\"fill:#262626;\" transform=\"translate(37.145313 336.938906)scale(0.1 -0.1)\">\r\n       <use xlink:href=\"#ArialMT-48\"/>\r\n      </g>\r\n     </g>\r\n    </g>\r\n    <g id=\"ytick_2\">\r\n     <g id=\"line2d_9\">\r\n      <path clip-path=\"url(#pafccc403a6)\" d=\"M 49.70625 289.361619 \r\nL 719.30625 289.361619 \r\n\" style=\"fill:none;stroke:#ffffff;stroke-linecap:round;stroke-width:0.8;\"/>\r\n     </g>\r\n     <g id=\"text_9\">\r\n      <!-- 200 -->\r\n      <defs>\r\n       <path d=\"M 50.34375 8.453125 \r\nL 50.34375 0 \r\nL 3.03125 0 \r\nQ 2.9375 3.171875 4.046875 6.109375 \r\nQ 5.859375 10.9375 9.828125 15.625 \r\nQ 13.8125 20.3125 21.34375 26.46875 \r\nQ 33.015625 36.03125 37.109375 41.625 \r\nQ 41.21875 47.21875 41.21875 52.203125 \r\nQ 41.21875 57.421875 37.46875 61 \r\nQ 33.734375 64.59375 27.734375 64.59375 \r\nQ 21.390625 64.59375 17.578125 60.78125 \r\nQ 13.765625 56.984375 13.71875 50.25 \r\nL 4.6875 51.171875 \r\nQ 5.609375 61.28125 11.65625 66.578125 \r\nQ 17.71875 71.875 27.9375 71.875 \r\nQ 38.234375 71.875 44.234375 66.15625 \r\nQ 50.25 60.453125 50.25 52 \r\nQ 50.25 47.703125 48.484375 43.546875 \r\nQ 46.734375 39.40625 42.65625 34.8125 \r\nQ 38.578125 30.21875 29.109375 22.21875 \r\nQ 21.1875 15.578125 18.9375 13.203125 \r\nQ 16.703125 10.84375 15.234375 8.453125 \r\nz\r\n\" id=\"ArialMT-50\"/>\r\n      </defs>\r\n      <g style=\"fill:#262626;\" transform=\"translate(26.023438 292.940525)scale(0.1 -0.1)\">\r\n       <use xlink:href=\"#ArialMT-50\"/>\r\n       <use x=\"55.615234\" xlink:href=\"#ArialMT-48\"/>\r\n       <use x=\"111.230469\" xlink:href=\"#ArialMT-48\"/>\r\n      </g>\r\n     </g>\r\n    </g>\r\n    <g id=\"ytick_3\">\r\n     <g id=\"line2d_10\">\r\n      <path clip-path=\"url(#pafccc403a6)\" d=\"M 49.70625 245.363238 \r\nL 719.30625 245.363238 \r\n\" style=\"fill:none;stroke:#ffffff;stroke-linecap:round;stroke-width:0.8;\"/>\r\n     </g>\r\n     <g id=\"text_10\">\r\n      <!-- 400 -->\r\n      <g style=\"fill:#262626;\" transform=\"translate(26.023438 248.942144)scale(0.1 -0.1)\">\r\n       <use xlink:href=\"#ArialMT-52\"/>\r\n       <use x=\"55.615234\" xlink:href=\"#ArialMT-48\"/>\r\n       <use x=\"111.230469\" xlink:href=\"#ArialMT-48\"/>\r\n      </g>\r\n     </g>\r\n    </g>\r\n    <g id=\"ytick_4\">\r\n     <g id=\"line2d_11\">\r\n      <path clip-path=\"url(#pafccc403a6)\" d=\"M 49.70625 201.364856 \r\nL 719.30625 201.364856 \r\n\" style=\"fill:none;stroke:#ffffff;stroke-linecap:round;stroke-width:0.8;\"/>\r\n     </g>\r\n     <g id=\"text_11\">\r\n      <!-- 600 -->\r\n      <g style=\"fill:#262626;\" transform=\"translate(26.023438 204.943763)scale(0.1 -0.1)\">\r\n       <use xlink:href=\"#ArialMT-54\"/>\r\n       <use x=\"55.615234\" xlink:href=\"#ArialMT-48\"/>\r\n       <use x=\"111.230469\" xlink:href=\"#ArialMT-48\"/>\r\n      </g>\r\n     </g>\r\n    </g>\r\n    <g id=\"ytick_5\">\r\n     <g id=\"line2d_12\">\r\n      <path clip-path=\"url(#pafccc403a6)\" d=\"M 49.70625 157.366475 \r\nL 719.30625 157.366475 \r\n\" style=\"fill:none;stroke:#ffffff;stroke-linecap:round;stroke-width:0.8;\"/>\r\n     </g>\r\n     <g id=\"text_12\">\r\n      <!-- 800 -->\r\n      <g style=\"fill:#262626;\" transform=\"translate(26.023438 160.945381)scale(0.1 -0.1)\">\r\n       <use xlink:href=\"#ArialMT-56\"/>\r\n       <use x=\"55.615234\" xlink:href=\"#ArialMT-48\"/>\r\n       <use x=\"111.230469\" xlink:href=\"#ArialMT-48\"/>\r\n      </g>\r\n     </g>\r\n    </g>\r\n    <g id=\"ytick_6\">\r\n     <g id=\"line2d_13\">\r\n      <path clip-path=\"url(#pafccc403a6)\" d=\"M 49.70625 113.368094 \r\nL 719.30625 113.368094 \r\n\" style=\"fill:none;stroke:#ffffff;stroke-linecap:round;stroke-width:0.8;\"/>\r\n     </g>\r\n     <g id=\"text_13\">\r\n      <!-- 1000 -->\r\n      <defs>\r\n       <path d=\"M 37.25 0 \r\nL 28.46875 0 \r\nL 28.46875 56 \r\nQ 25.296875 52.984375 20.140625 49.953125 \r\nQ 14.984375 46.921875 10.890625 45.40625 \r\nL 10.890625 53.90625 \r\nQ 18.265625 57.375 23.78125 62.296875 \r\nQ 29.296875 67.234375 31.59375 71.875 \r\nL 37.25 71.875 \r\nz\r\n\" id=\"ArialMT-49\"/>\r\n      </defs>\r\n      <g style=\"fill:#262626;\" transform=\"translate(20.4625 116.947)scale(0.1 -0.1)\">\r\n       <use xlink:href=\"#ArialMT-49\"/>\r\n       <use x=\"55.615234\" xlink:href=\"#ArialMT-48\"/>\r\n       <use x=\"111.230469\" xlink:href=\"#ArialMT-48\"/>\r\n       <use x=\"166.845703\" xlink:href=\"#ArialMT-48\"/>\r\n      </g>\r\n     </g>\r\n    </g>\r\n    <g id=\"ytick_7\">\r\n     <g id=\"line2d_14\">\r\n      <path clip-path=\"url(#pafccc403a6)\" d=\"M 49.70625 69.369713 \r\nL 719.30625 69.369713 \r\n\" style=\"fill:none;stroke:#ffffff;stroke-linecap:round;stroke-width:0.8;\"/>\r\n     </g>\r\n     <g id=\"text_14\">\r\n      <!-- 1200 -->\r\n      <g style=\"fill:#262626;\" transform=\"translate(20.4625 72.948619)scale(0.1 -0.1)\">\r\n       <use xlink:href=\"#ArialMT-49\"/>\r\n       <use x=\"55.615234\" xlink:href=\"#ArialMT-50\"/>\r\n       <use x=\"111.230469\" xlink:href=\"#ArialMT-48\"/>\r\n       <use x=\"166.845703\" xlink:href=\"#ArialMT-48\"/>\r\n      </g>\r\n     </g>\r\n    </g>\r\n    <g id=\"ytick_8\">\r\n     <g id=\"line2d_15\">\r\n      <path clip-path=\"url(#pafccc403a6)\" d=\"M 49.70625 25.371331 \r\nL 719.30625 25.371331 \r\n\" style=\"fill:none;stroke:#ffffff;stroke-linecap:round;stroke-width:0.8;\"/>\r\n     </g>\r\n     <g id=\"text_15\">\r\n      <!-- 1400 -->\r\n      <g style=\"fill:#262626;\" transform=\"translate(20.4625 28.950238)scale(0.1 -0.1)\">\r\n       <use xlink:href=\"#ArialMT-49\"/>\r\n       <use x=\"55.615234\" xlink:href=\"#ArialMT-52\"/>\r\n       <use x=\"111.230469\" xlink:href=\"#ArialMT-48\"/>\r\n       <use x=\"166.845703\" xlink:href=\"#ArialMT-48\"/>\r\n      </g>\r\n     </g>\r\n    </g>\r\n    <g id=\"text_16\">\r\n     <!-- Frequency -->\r\n     <defs>\r\n      <path d=\"M 8.203125 0 \r\nL 8.203125 71.578125 \r\nL 56.5 71.578125 \r\nL 56.5 63.140625 \r\nL 17.671875 63.140625 \r\nL 17.671875 40.96875 \r\nL 51.265625 40.96875 \r\nL 51.265625 32.515625 \r\nL 17.671875 32.515625 \r\nL 17.671875 0 \r\nz\r\n\" id=\"ArialMT-70\"/>\r\n      <path d=\"M 6.5 0 \r\nL 6.5 51.859375 \r\nL 14.40625 51.859375 \r\nL 14.40625 44 \r\nQ 17.4375 49.515625 20 51.265625 \r\nQ 22.5625 53.03125 25.640625 53.03125 \r\nQ 30.078125 53.03125 34.671875 50.203125 \r\nL 31.640625 42.046875 \r\nQ 28.421875 43.953125 25.203125 43.953125 \r\nQ 22.3125 43.953125 20.015625 42.21875 \r\nQ 17.71875 40.484375 16.75 37.40625 \r\nQ 15.28125 32.71875 15.28125 27.15625 \r\nL 15.28125 0 \r\nz\r\n\" id=\"ArialMT-114\"/>\r\n      <path d=\"M 42.09375 16.703125 \r\nL 51.171875 15.578125 \r\nQ 49.03125 7.625 43.21875 3.21875 \r\nQ 37.40625 -1.171875 28.375 -1.171875 \r\nQ 17 -1.171875 10.328125 5.828125 \r\nQ 3.65625 12.84375 3.65625 25.484375 \r\nQ 3.65625 38.578125 10.390625 45.796875 \r\nQ 17.140625 53.03125 27.875 53.03125 \r\nQ 38.28125 53.03125 44.875 45.953125 \r\nQ 51.46875 38.875 51.46875 26.03125 \r\nQ 51.46875 25.25 51.421875 23.6875 \r\nL 12.75 23.6875 \r\nQ 13.234375 15.140625 17.578125 10.59375 \r\nQ 21.921875 6.0625 28.421875 6.0625 \r\nQ 33.25 6.0625 36.671875 8.59375 \r\nQ 40.09375 11.140625 42.09375 16.703125 \r\nz\r\nM 13.234375 30.90625 \r\nL 42.1875 30.90625 \r\nQ 41.609375 37.453125 38.875 40.71875 \r\nQ 34.671875 45.796875 27.984375 45.796875 \r\nQ 21.921875 45.796875 17.796875 41.75 \r\nQ 13.671875 37.703125 13.234375 30.90625 \r\nz\r\n\" id=\"ArialMT-101\"/>\r\n      <path d=\"M 39.65625 -19.875 \r\nL 39.65625 5.515625 \r\nQ 37.59375 2.640625 33.90625 0.734375 \r\nQ 30.21875 -1.171875 26.078125 -1.171875 \r\nQ 16.84375 -1.171875 10.171875 6.203125 \r\nQ 3.515625 13.578125 3.515625 26.421875 \r\nQ 3.515625 34.234375 6.21875 40.421875 \r\nQ 8.9375 46.625 14.078125 49.828125 \r\nQ 19.234375 53.03125 25.390625 53.03125 \r\nQ 35.015625 53.03125 40.53125 44.921875 \r\nL 40.53125 51.859375 \r\nL 48.4375 51.859375 \r\nL 48.4375 -19.875 \r\nz\r\nM 12.546875 26.078125 \r\nQ 12.546875 16.0625 16.75 11.0625 \r\nQ 20.953125 6.0625 26.8125 6.0625 \r\nQ 32.421875 6.0625 36.46875 10.8125 \r\nQ 40.53125 15.578125 40.53125 25.296875 \r\nQ 40.53125 35.640625 36.25 40.859375 \r\nQ 31.984375 46.09375 26.21875 46.09375 \r\nQ 20.515625 46.09375 16.53125 41.234375 \r\nQ 12.546875 36.375 12.546875 26.078125 \r\nz\r\n\" id=\"ArialMT-113\"/>\r\n      <path d=\"M 40.578125 0 \r\nL 40.578125 7.625 \r\nQ 34.515625 -1.171875 24.125 -1.171875 \r\nQ 19.53125 -1.171875 15.546875 0.578125 \r\nQ 11.578125 2.34375 9.640625 5 \r\nQ 7.71875 7.671875 6.9375 11.53125 \r\nQ 6.390625 14.109375 6.390625 19.734375 \r\nL 6.390625 51.859375 \r\nL 15.1875 51.859375 \r\nL 15.1875 23.09375 \r\nQ 15.1875 16.21875 15.71875 13.8125 \r\nQ 16.546875 10.359375 19.234375 8.375 \r\nQ 21.921875 6.390625 25.875 6.390625 \r\nQ 29.828125 6.390625 33.296875 8.421875 \r\nQ 36.765625 10.453125 38.203125 13.9375 \r\nQ 39.65625 17.4375 39.65625 24.078125 \r\nL 39.65625 51.859375 \r\nL 48.4375 51.859375 \r\nL 48.4375 0 \r\nz\r\n\" id=\"ArialMT-117\"/>\r\n      <path d=\"M 6.59375 0 \r\nL 6.59375 51.859375 \r\nL 14.5 51.859375 \r\nL 14.5 44.484375 \r\nQ 20.21875 53.03125 31 53.03125 \r\nQ 35.6875 53.03125 39.625 51.34375 \r\nQ 43.5625 49.65625 45.515625 46.921875 \r\nQ 47.46875 44.1875 48.25 40.4375 \r\nQ 48.734375 37.984375 48.734375 31.890625 \r\nL 48.734375 0 \r\nL 39.9375 0 \r\nL 39.9375 31.546875 \r\nQ 39.9375 36.921875 38.90625 39.578125 \r\nQ 37.890625 42.234375 35.28125 43.8125 \r\nQ 32.671875 45.40625 29.15625 45.40625 \r\nQ 23.53125 45.40625 19.453125 41.84375 \r\nQ 15.375 38.28125 15.375 28.328125 \r\nL 15.375 0 \r\nz\r\n\" id=\"ArialMT-110\"/>\r\n      <path d=\"M 40.4375 19 \r\nL 49.078125 17.875 \r\nQ 47.65625 8.9375 41.8125 3.875 \r\nQ 35.984375 -1.171875 27.484375 -1.171875 \r\nQ 16.84375 -1.171875 10.375 5.78125 \r\nQ 3.90625 12.75 3.90625 25.734375 \r\nQ 3.90625 34.125 6.6875 40.421875 \r\nQ 9.46875 46.734375 15.15625 49.875 \r\nQ 20.84375 53.03125 27.546875 53.03125 \r\nQ 35.984375 53.03125 41.359375 48.75 \r\nQ 46.734375 44.484375 48.25 36.625 \r\nL 39.703125 35.296875 \r\nQ 38.484375 40.53125 35.375 43.15625 \r\nQ 32.28125 45.796875 27.875 45.796875 \r\nQ 21.234375 45.796875 17.078125 41.03125 \r\nQ 12.9375 36.28125 12.9375 25.984375 \r\nQ 12.9375 15.53125 16.9375 10.796875 \r\nQ 20.953125 6.0625 27.390625 6.0625 \r\nQ 32.5625 6.0625 36.03125 9.234375 \r\nQ 39.5 12.40625 40.4375 19 \r\nz\r\n\" id=\"ArialMT-99\"/>\r\n      <path d=\"M 6.203125 -19.96875 \r\nL 5.21875 -11.71875 \r\nQ 8.109375 -12.5 10.25 -12.5 \r\nQ 13.1875 -12.5 14.9375 -11.515625 \r\nQ 16.703125 -10.546875 17.828125 -8.796875 \r\nQ 18.65625 -7.46875 20.515625 -2.25 \r\nQ 20.75 -1.515625 21.296875 -0.09375 \r\nL 1.609375 51.859375 \r\nL 11.078125 51.859375 \r\nL 21.875 21.828125 \r\nQ 23.96875 16.109375 25.640625 9.8125 \r\nQ 27.15625 15.875 29.25 21.625 \r\nL 40.328125 51.859375 \r\nL 49.125 51.859375 \r\nL 29.390625 -0.875 \r\nQ 26.21875 -9.421875 24.46875 -12.640625 \r\nQ 22.125 -17 19.09375 -19.015625 \r\nQ 16.0625 -21.046875 11.859375 -21.046875 \r\nQ 9.328125 -21.046875 6.203125 -19.96875 \r\nz\r\n\" id=\"ArialMT-121\"/>\r\n     </defs>\r\n     <g style=\"fill:#262626;\" transform=\"translate(14.357813 193.901094)rotate(-90)scale(0.1 -0.1)\">\r\n      <use xlink:href=\"#ArialMT-70\"/>\r\n      <use x=\"61.083984\" xlink:href=\"#ArialMT-114\"/>\r\n      <use x=\"94.384766\" xlink:href=\"#ArialMT-101\"/>\r\n      <use x=\"150\" xlink:href=\"#ArialMT-113\"/>\r\n      <use x=\"205.615234\" xlink:href=\"#ArialMT-117\"/>\r\n      <use x=\"261.230469\" xlink:href=\"#ArialMT-101\"/>\r\n      <use x=\"316.845703\" xlink:href=\"#ArialMT-110\"/>\r\n      <use x=\"372.460938\" xlink:href=\"#ArialMT-99\"/>\r\n      <use x=\"422.460938\" xlink:href=\"#ArialMT-121\"/>\r\n     </g>\r\n    </g>\r\n   </g>\r\n   <g id=\"patch_3\">\r\n    <path clip-path=\"url(#pafccc403a6)\" d=\"M 80.142614 333.36 \r\nL 141.015341 333.36 \r\nL 141.015341 331.600065 \r\nL 80.142614 331.600065 \r\nz\r\n\" style=\"fill:#1f77b4;stroke:#ffffff;stroke-linejoin:miter;\"/>\r\n   </g>\r\n   <g id=\"patch_4\">\r\n    <path clip-path=\"url(#pafccc403a6)\" d=\"M 141.015341 333.36 \r\nL 201.888068 333.36 \r\nL 201.888068 303.661093 \r\nL 141.015341 303.661093 \r\nz\r\n\" style=\"fill:#1f77b4;stroke:#ffffff;stroke-linejoin:miter;\"/>\r\n   </g>\r\n   <g id=\"patch_5\">\r\n    <path clip-path=\"url(#pafccc403a6)\" d=\"M 201.888068 333.36 \r\nL 262.760795 333.36 \r\nL 262.760795 221.824104 \r\nL 201.888068 221.824104 \r\nz\r\n\" style=\"fill:#1f77b4;stroke:#ffffff;stroke-linejoin:miter;\"/>\r\n   </g>\r\n   <g id=\"patch_6\">\r\n    <path clip-path=\"url(#pafccc403a6)\" d=\"M 262.760795 333.36 \r\nL 323.633523 333.36 \r\nL 323.633523 139.547131 \r\nL 262.760795 139.547131 \r\nz\r\n\" style=\"fill:#1f77b4;stroke:#ffffff;stroke-linejoin:miter;\"/>\r\n   </g>\r\n   <g id=\"patch_7\">\r\n    <path clip-path=\"url(#pafccc403a6)\" d=\"M 323.633523 333.36 \r\nL 384.50625 333.36 \r\nL 384.50625 22.731429 \r\nL 323.633523 22.731429 \r\nz\r\n\" style=\"fill:#1f77b4;stroke:#ffffff;stroke-linejoin:miter;\"/>\r\n   </g>\r\n   <g id=\"patch_8\">\r\n    <path clip-path=\"url(#pafccc403a6)\" d=\"M 384.50625 333.36 \r\nL 445.378977 333.36 \r\nL 445.378977 100.828555 \r\nL 384.50625 100.828555 \r\nz\r\n\" style=\"fill:#1f77b4;stroke:#ffffff;stroke-linejoin:miter;\"/>\r\n   </g>\r\n   <g id=\"patch_9\">\r\n    <path clip-path=\"url(#pafccc403a6)\" d=\"M 445.378977 333.36 \r\nL 506.251705 333.36 \r\nL 506.251705 176.505771 \r\nL 445.378977 176.505771 \r\nz\r\n\" style=\"fill:#1f77b4;stroke:#ffffff;stroke-linejoin:miter;\"/>\r\n   </g>\r\n   <g id=\"patch_10\">\r\n    <path clip-path=\"url(#pafccc403a6)\" d=\"M 506.251705 333.36 \r\nL 567.124432 333.36 \r\nL 567.124432 107.648304 \r\nL 506.251705 107.648304 \r\nz\r\n\" style=\"fill:#1f77b4;stroke:#ffffff;stroke-linejoin:miter;\"/>\r\n   </g>\r\n   <g id=\"patch_11\">\r\n    <path clip-path=\"url(#pafccc403a6)\" d=\"M 567.124432 333.36 \r\nL 627.997159 333.36 \r\nL 627.997159 305.64102 \r\nL 567.124432 305.64102 \r\nz\r\n\" style=\"fill:#1f77b4;stroke:#ffffff;stroke-linejoin:miter;\"/>\r\n   </g>\r\n   <g id=\"patch_12\">\r\n    <path clip-path=\"url(#pafccc403a6)\" d=\"M 627.997159 333.36 \r\nL 688.869886 333.36 \r\nL 688.869886 330.280113 \r\nL 627.997159 330.280113 \r\nz\r\n\" style=\"fill:#1f77b4;stroke:#ffffff;stroke-linejoin:miter;\"/>\r\n   </g>\r\n   <g id=\"patch_13\">\r\n    <path clip-path=\"url(#pafccc403a6)\" d=\"M 80.142614 333.36 \r\nL 141.015341 333.36 \r\nL 141.015341 332.26004 \r\nL 80.142614 332.26004 \r\nz\r\n\" style=\"fill:#ff7f0e;stroke:#ffffff;stroke-linejoin:miter;\"/>\r\n   </g>\r\n   <g id=\"patch_14\">\r\n    <path clip-path=\"url(#pafccc403a6)\" d=\"M 141.015341 333.36 \r\nL 201.888068 333.36 \r\nL 201.888068 322.580397 \r\nL 141.015341 322.580397 \r\nz\r\n\" style=\"fill:#ff7f0e;stroke:#ffffff;stroke-linejoin:miter;\"/>\r\n   </g>\r\n   <g id=\"patch_15\">\r\n    <path clip-path=\"url(#pafccc403a6)\" d=\"M 201.888068 333.36 \r\nL 262.760795 333.36 \r\nL 262.760795 316.420623 \r\nL 201.888068 316.420623 \r\nz\r\n\" style=\"fill:#ff7f0e;stroke:#ffffff;stroke-linejoin:miter;\"/>\r\n   </g>\r\n   <g id=\"patch_16\">\r\n    <path clip-path=\"url(#pafccc403a6)\" d=\"M 262.760795 333.36 \r\nL 323.633523 333.36 \r\nL 323.633523 317.300591 \r\nL 262.760795 317.300591 \r\nz\r\n\" style=\"fill:#ff7f0e;stroke:#ffffff;stroke-linejoin:miter;\"/>\r\n   </g>\r\n   <g id=\"patch_17\">\r\n    <path clip-path=\"url(#pafccc403a6)\" d=\"M 323.633523 333.36 \r\nL 384.50625 333.36 \r\nL 384.50625 323.680356 \r\nL 323.633523 323.680356 \r\nz\r\n\" style=\"fill:#ff7f0e;stroke:#ffffff;stroke-linejoin:miter;\"/>\r\n   </g>\r\n   <g id=\"patch_18\">\r\n    <path clip-path=\"url(#pafccc403a6)\" d=\"M 384.50625 333.36 \r\nL 445.378977 333.36 \r\nL 445.378977 328.300186 \r\nL 384.50625 328.300186 \r\nz\r\n\" style=\"fill:#ff7f0e;stroke:#ffffff;stroke-linejoin:miter;\"/>\r\n   </g>\r\n   <g id=\"patch_19\">\r\n    <path clip-path=\"url(#pafccc403a6)\" d=\"M 445.378977 333.36 \r\nL 506.251705 333.36 \r\nL 506.251705 333.140008 \r\nL 445.378977 333.140008 \r\nz\r\n\" style=\"fill:#ff7f0e;stroke:#ffffff;stroke-linejoin:miter;\"/>\r\n   </g>\r\n   <g id=\"patch_20\">\r\n    <path clip-path=\"url(#pafccc403a6)\" d=\"M 506.251705 333.36 \r\nL 567.124432 333.36 \r\nL 567.124432 332.700024 \r\nL 506.251705 332.700024 \r\nz\r\n\" style=\"fill:#ff7f0e;stroke:#ffffff;stroke-linejoin:miter;\"/>\r\n   </g>\r\n   <g id=\"patch_21\">\r\n    <path clip-path=\"url(#pafccc403a6)\" d=\"M 567.124432 333.36 \r\nL 627.997159 333.36 \r\nL 627.997159 333.36 \r\nL 567.124432 333.36 \r\nz\r\n\" style=\"fill:#ff7f0e;stroke:#ffffff;stroke-linejoin:miter;\"/>\r\n   </g>\r\n   <g id=\"patch_22\">\r\n    <path clip-path=\"url(#pafccc403a6)\" d=\"M 627.997159 333.36 \r\nL 688.869886 333.36 \r\nL 688.869886 333.36 \r\nL 627.997159 333.36 \r\nz\r\n\" style=\"fill:#ff7f0e;stroke:#ffffff;stroke-linejoin:miter;\"/>\r\n   </g>\r\n   <g id=\"patch_23\">\r\n    <path d=\"M 49.70625 333.36 \r\nL 49.70625 7.2 \r\n\" style=\"fill:none;stroke:#ffffff;stroke-linecap:square;stroke-linejoin:miter;stroke-width:0.8;\"/>\r\n   </g>\r\n   <g id=\"patch_24\">\r\n    <path d=\"M 719.30625 333.36 \r\nL 719.30625 7.2 \r\n\" style=\"fill:none;stroke:#ffffff;stroke-linecap:square;stroke-linejoin:miter;stroke-width:0.8;\"/>\r\n   </g>\r\n   <g id=\"patch_25\">\r\n    <path d=\"M 49.70625 333.36 \r\nL 719.30625 333.36 \r\n\" style=\"fill:none;stroke:#ffffff;stroke-linecap:square;stroke-linejoin:miter;stroke-width:0.8;\"/>\r\n   </g>\r\n   <g id=\"patch_26\">\r\n    <path d=\"M 49.70625 7.2 \r\nL 719.30625 7.2 \r\n\" style=\"fill:none;stroke:#ffffff;stroke-linecap:square;stroke-linejoin:miter;stroke-width:0.8;\"/>\r\n   </g>\r\n   <g id=\"legend_1\">\r\n    <g id=\"patch_27\">\r\n     <path d=\"M 638.078125 58.23125 \r\nL 712.30625 58.23125 \r\nQ 714.30625 58.23125 714.30625 56.23125 \r\nL 714.30625 14.2 \r\nQ 714.30625 12.2 712.30625 12.2 \r\nL 638.078125 12.2 \r\nQ 636.078125 12.2 636.078125 14.2 \r\nL 636.078125 56.23125 \r\nQ 636.078125 58.23125 638.078125 58.23125 \r\nz\r\n\" style=\"fill:#eaeaf2;opacity:0.8;stroke:#cccccc;stroke-linejoin:miter;\"/>\r\n    </g>\r\n    <g id=\"text_17\">\r\n     <!-- None,tag -->\r\n     <defs>\r\n      <path d=\"M 7.625 0 \r\nL 7.625 71.578125 \r\nL 17.328125 71.578125 \r\nL 54.9375 15.375 \r\nL 54.9375 71.578125 \r\nL 64.015625 71.578125 \r\nL 64.015625 0 \r\nL 54.296875 0 \r\nL 16.703125 56.25 \r\nL 16.703125 0 \r\nz\r\n\" id=\"ArialMT-78\"/>\r\n      <path d=\"M 3.328125 25.921875 \r\nQ 3.328125 40.328125 11.328125 47.265625 \r\nQ 18.015625 53.03125 27.640625 53.03125 \r\nQ 38.328125 53.03125 45.109375 46.015625 \r\nQ 51.90625 39.015625 51.90625 26.65625 \r\nQ 51.90625 16.65625 48.90625 10.90625 \r\nQ 45.90625 5.171875 40.15625 2 \r\nQ 34.421875 -1.171875 27.640625 -1.171875 \r\nQ 16.75 -1.171875 10.03125 5.8125 \r\nQ 3.328125 12.796875 3.328125 25.921875 \r\nz\r\nM 12.359375 25.921875 \r\nQ 12.359375 15.96875 16.703125 11.015625 \r\nQ 21.046875 6.0625 27.640625 6.0625 \r\nQ 34.1875 6.0625 38.53125 11.03125 \r\nQ 42.875 16.015625 42.875 26.21875 \r\nQ 42.875 35.84375 38.5 40.796875 \r\nQ 34.125 45.75 27.640625 45.75 \r\nQ 21.046875 45.75 16.703125 40.8125 \r\nQ 12.359375 35.890625 12.359375 25.921875 \r\nz\r\n\" id=\"ArialMT-111\"/>\r\n      <path d=\"M 8.890625 0 \r\nL 8.890625 10.015625 \r\nL 18.890625 10.015625 \r\nL 18.890625 0 \r\nQ 18.890625 -5.515625 16.9375 -8.90625 \r\nQ 14.984375 -12.3125 10.75 -14.15625 \r\nL 8.296875 -10.40625 \r\nQ 11.078125 -9.1875 12.390625 -6.8125 \r\nQ 13.71875 -4.4375 13.875 0 \r\nz\r\n\" id=\"ArialMT-44\"/>\r\n      <path d=\"M 25.78125 7.859375 \r\nL 27.046875 0.09375 \r\nQ 23.34375 -0.6875 20.40625 -0.6875 \r\nQ 15.625 -0.6875 12.984375 0.828125 \r\nQ 10.359375 2.34375 9.28125 4.8125 \r\nQ 8.203125 7.28125 8.203125 15.1875 \r\nL 8.203125 45.015625 \r\nL 1.765625 45.015625 \r\nL 1.765625 51.859375 \r\nL 8.203125 51.859375 \r\nL 8.203125 64.703125 \r\nL 16.9375 69.96875 \r\nL 16.9375 51.859375 \r\nL 25.78125 51.859375 \r\nL 25.78125 45.015625 \r\nL 16.9375 45.015625 \r\nL 16.9375 14.703125 \r\nQ 16.9375 10.9375 17.40625 9.859375 \r\nQ 17.875 8.796875 18.921875 8.15625 \r\nQ 19.96875 7.515625 21.921875 7.515625 \r\nQ 23.390625 7.515625 25.78125 7.859375 \r\nz\r\n\" id=\"ArialMT-116\"/>\r\n      <path d=\"M 40.4375 6.390625 \r\nQ 35.546875 2.25 31.03125 0.53125 \r\nQ 26.515625 -1.171875 21.34375 -1.171875 \r\nQ 12.796875 -1.171875 8.203125 3 \r\nQ 3.609375 7.171875 3.609375 13.671875 \r\nQ 3.609375 17.484375 5.34375 20.625 \r\nQ 7.078125 23.78125 9.890625 25.6875 \r\nQ 12.703125 27.59375 16.21875 28.5625 \r\nQ 18.796875 29.25 24.03125 29.890625 \r\nQ 34.671875 31.15625 39.703125 32.90625 \r\nQ 39.75 34.71875 39.75 35.203125 \r\nQ 39.75 40.578125 37.25 42.78125 \r\nQ 33.890625 45.75 27.25 45.75 \r\nQ 21.046875 45.75 18.09375 43.578125 \r\nQ 15.140625 41.40625 13.71875 35.890625 \r\nL 5.125 37.0625 \r\nQ 6.296875 42.578125 8.984375 45.96875 \r\nQ 11.671875 49.359375 16.75 51.1875 \r\nQ 21.828125 53.03125 28.515625 53.03125 \r\nQ 35.15625 53.03125 39.296875 51.46875 \r\nQ 43.453125 49.90625 45.40625 47.53125 \r\nQ 47.359375 45.171875 48.140625 41.546875 \r\nQ 48.578125 39.3125 48.578125 33.453125 \r\nL 48.578125 21.734375 \r\nQ 48.578125 9.46875 49.140625 6.21875 \r\nQ 49.703125 2.984375 51.375 0 \r\nL 42.1875 0 \r\nQ 40.828125 2.734375 40.4375 6.390625 \r\nz\r\nM 39.703125 26.03125 \r\nQ 34.90625 24.078125 25.34375 22.703125 \r\nQ 19.921875 21.921875 17.671875 20.9375 \r\nQ 15.4375 19.96875 14.203125 18.09375 \r\nQ 12.984375 16.21875 12.984375 13.921875 \r\nQ 12.984375 10.40625 15.640625 8.0625 \r\nQ 18.3125 5.71875 23.4375 5.71875 \r\nQ 28.515625 5.71875 32.46875 7.9375 \r\nQ 36.421875 10.15625 38.28125 14.015625 \r\nQ 39.703125 17 39.703125 22.796875 \r\nz\r\n\" id=\"ArialMT-97\"/>\r\n      <path d=\"M 4.984375 -4.296875 \r\nL 13.53125 -5.5625 \r\nQ 14.0625 -9.515625 16.5 -11.328125 \r\nQ 19.78125 -13.765625 25.4375 -13.765625 \r\nQ 31.546875 -13.765625 34.859375 -11.328125 \r\nQ 38.1875 -8.890625 39.359375 -4.5 \r\nQ 40.046875 -1.8125 39.984375 6.78125 \r\nQ 34.234375 0 25.640625 0 \r\nQ 14.9375 0 9.078125 7.71875 \r\nQ 3.21875 15.4375 3.21875 26.21875 \r\nQ 3.21875 33.640625 5.90625 39.90625 \r\nQ 8.59375 46.1875 13.6875 49.609375 \r\nQ 18.796875 53.03125 25.6875 53.03125 \r\nQ 34.859375 53.03125 40.828125 45.609375 \r\nL 40.828125 51.859375 \r\nL 48.921875 51.859375 \r\nL 48.921875 7.03125 \r\nQ 48.921875 -5.078125 46.453125 -10.125 \r\nQ 44 -15.1875 38.640625 -18.109375 \r\nQ 33.296875 -21.046875 25.484375 -21.046875 \r\nQ 16.21875 -21.046875 10.5 -16.875 \r\nQ 4.78125 -12.703125 4.984375 -4.296875 \r\nz\r\nM 12.25 26.859375 \r\nQ 12.25 16.65625 16.296875 11.96875 \r\nQ 20.359375 7.28125 26.46875 7.28125 \r\nQ 32.515625 7.28125 36.609375 11.9375 \r\nQ 40.71875 16.609375 40.71875 26.5625 \r\nQ 40.71875 36.078125 36.5 40.90625 \r\nQ 32.28125 45.75 26.3125 45.75 \r\nQ 20.453125 45.75 16.34375 40.984375 \r\nQ 12.25 36.234375 12.25 26.859375 \r\nz\r\n\" id=\"ArialMT-103\"/>\r\n     </defs>\r\n     <g style=\"fill:#262626;\" transform=\"translate(654.900781 23.357812)scale(0.1 -0.1)\">\r\n      <use xlink:href=\"#ArialMT-78\"/>\r\n      <use x=\"72.216797\" xlink:href=\"#ArialMT-111\"/>\r\n      <use x=\"127.832031\" xlink:href=\"#ArialMT-110\"/>\r\n      <use x=\"183.447266\" xlink:href=\"#ArialMT-101\"/>\r\n      <use x=\"239.0625\" xlink:href=\"#ArialMT-44\"/>\r\n      <use x=\"266.845703\" xlink:href=\"#ArialMT-116\"/>\r\n      <use x=\"294.628906\" xlink:href=\"#ArialMT-97\"/>\r\n      <use x=\"350.244141\" xlink:href=\"#ArialMT-103\"/>\r\n     </g>\r\n    </g>\r\n    <g id=\"patch_28\">\r\n     <path d=\"M 640.078125 37.742187 \r\nL 660.078125 37.742187 \r\nL 660.078125 30.742187 \r\nL 640.078125 30.742187 \r\nz\r\n\" style=\"fill:#1f77b4;stroke:#ffffff;stroke-linejoin:miter;\"/>\r\n    </g>\r\n    <g id=\"text_18\">\r\n     <!-- (score, 0) -->\r\n     <defs>\r\n      <path d=\"M 23.390625 -21.046875 \r\nQ 16.109375 -11.859375 11.078125 0.4375 \r\nQ 6.0625 12.75 6.0625 25.921875 \r\nQ 6.0625 37.546875 9.8125 48.1875 \r\nQ 14.203125 60.546875 23.390625 72.796875 \r\nL 29.6875 72.796875 \r\nQ 23.78125 62.640625 21.875 58.296875 \r\nQ 18.890625 51.5625 17.1875 44.234375 \r\nQ 15.09375 35.109375 15.09375 25.875 \r\nQ 15.09375 2.390625 29.6875 -21.046875 \r\nz\r\n\" id=\"ArialMT-40\"/>\r\n      <path d=\"M 3.078125 15.484375 \r\nL 11.765625 16.84375 \r\nQ 12.5 11.625 15.84375 8.84375 \r\nQ 19.1875 6.0625 25.203125 6.0625 \r\nQ 31.25 6.0625 34.171875 8.515625 \r\nQ 37.109375 10.984375 37.109375 14.3125 \r\nQ 37.109375 17.28125 34.515625 19 \r\nQ 32.71875 20.171875 25.53125 21.96875 \r\nQ 15.875 24.421875 12.140625 26.203125 \r\nQ 8.40625 27.984375 6.46875 31.125 \r\nQ 4.546875 34.28125 4.546875 38.09375 \r\nQ 4.546875 41.546875 6.125 44.5 \r\nQ 7.71875 47.46875 10.453125 49.421875 \r\nQ 12.5 50.921875 16.03125 51.96875 \r\nQ 19.578125 53.03125 23.640625 53.03125 \r\nQ 29.734375 53.03125 34.34375 51.265625 \r\nQ 38.96875 49.515625 41.15625 46.5 \r\nQ 43.359375 43.5 44.1875 38.484375 \r\nL 35.59375 37.3125 \r\nQ 35.015625 41.3125 32.203125 43.546875 \r\nQ 29.390625 45.796875 24.265625 45.796875 \r\nQ 18.21875 45.796875 15.625 43.796875 \r\nQ 13.03125 41.796875 13.03125 39.109375 \r\nQ 13.03125 37.40625 14.109375 36.03125 \r\nQ 15.1875 34.625 17.484375 33.6875 \r\nQ 18.796875 33.203125 25.25 31.453125 \r\nQ 34.578125 28.953125 38.25 27.359375 \r\nQ 41.9375 25.78125 44.03125 22.75 \r\nQ 46.140625 19.734375 46.140625 15.234375 \r\nQ 46.140625 10.84375 43.578125 6.953125 \r\nQ 41.015625 3.078125 36.171875 0.953125 \r\nQ 31.34375 -1.171875 25.25 -1.171875 \r\nQ 15.140625 -1.171875 9.84375 3.03125 \r\nQ 4.546875 7.234375 3.078125 15.484375 \r\nz\r\n\" id=\"ArialMT-115\"/>\r\n      <path id=\"ArialMT-32\"/>\r\n      <path d=\"M 12.359375 -21.046875 \r\nL 6.0625 -21.046875 \r\nQ 20.65625 2.390625 20.65625 25.875 \r\nQ 20.65625 35.0625 18.5625 44.09375 \r\nQ 16.890625 51.421875 13.921875 58.15625 \r\nQ 12.015625 62.546875 6.0625 72.796875 \r\nL 12.359375 72.796875 \r\nQ 21.53125 60.546875 25.921875 48.1875 \r\nQ 29.6875 37.546875 29.6875 25.921875 \r\nQ 29.6875 12.75 24.625 0.4375 \r\nQ 19.578125 -11.859375 12.359375 -21.046875 \r\nz\r\n\" id=\"ArialMT-41\"/>\r\n     </defs>\r\n     <g style=\"fill:#262626;\" transform=\"translate(668.078125 37.742187)scale(0.1 -0.1)\">\r\n      <use xlink:href=\"#ArialMT-40\"/>\r\n      <use x=\"33.300781\" xlink:href=\"#ArialMT-115\"/>\r\n      <use x=\"83.300781\" xlink:href=\"#ArialMT-99\"/>\r\n      <use x=\"133.300781\" xlink:href=\"#ArialMT-111\"/>\r\n      <use x=\"188.916016\" xlink:href=\"#ArialMT-114\"/>\r\n      <use x=\"222.216797\" xlink:href=\"#ArialMT-101\"/>\r\n      <use x=\"277.832031\" xlink:href=\"#ArialMT-44\"/>\r\n      <use x=\"305.615234\" xlink:href=\"#ArialMT-32\"/>\r\n      <use x=\"333.398438\" xlink:href=\"#ArialMT-48\"/>\r\n      <use x=\"389.013672\" xlink:href=\"#ArialMT-41\"/>\r\n     </g>\r\n    </g>\r\n    <g id=\"patch_29\">\r\n     <path d=\"M 640.078125 52.126562 \r\nL 660.078125 52.126562 \r\nL 660.078125 45.126562 \r\nL 640.078125 45.126562 \r\nz\r\n\" style=\"fill:#ff7f0e;stroke:#ffffff;stroke-linejoin:miter;\"/>\r\n    </g>\r\n    <g id=\"text_19\">\r\n     <!-- (score, 1) -->\r\n     <g style=\"fill:#262626;\" transform=\"translate(668.078125 52.126562)scale(0.1 -0.1)\">\r\n      <use xlink:href=\"#ArialMT-40\"/>\r\n      <use x=\"33.300781\" xlink:href=\"#ArialMT-115\"/>\r\n      <use x=\"83.300781\" xlink:href=\"#ArialMT-99\"/>\r\n      <use x=\"133.300781\" xlink:href=\"#ArialMT-111\"/>\r\n      <use x=\"188.916016\" xlink:href=\"#ArialMT-114\"/>\r\n      <use x=\"222.216797\" xlink:href=\"#ArialMT-101\"/>\r\n      <use x=\"277.832031\" xlink:href=\"#ArialMT-44\"/>\r\n      <use x=\"305.615234\" xlink:href=\"#ArialMT-32\"/>\r\n      <use x=\"333.398438\" xlink:href=\"#ArialMT-49\"/>\r\n      <use x=\"389.013672\" xlink:href=\"#ArialMT-41\"/>\r\n     </g>\r\n    </g>\r\n   </g>\r\n  </g>\r\n </g>\r\n <defs>\r\n  <clipPath id=\"pafccc403a6\">\r\n   <rect height=\"326.16\" width=\"669.6\" x=\"49.70625\" y=\"7.2\"/>\r\n  </clipPath>\r\n </defs>\r\n</svg>\r\n",
      "image/png": "[encoded data removed]"
     },
     "metadata": {}
    }
   ],
   "source": [
    "pd.pivot_table(data=score[['tag','score']],index=score.index,values=['score'],columns=['tag']).plot.hist(figsize=(12,6))"
   ]
  },
  {
   "cell_type": "code",
   "execution_count": 61,
   "metadata": {
    "ExecuteTime": {
     "end_time": "2021-01-01T13:33:29.269087Z",
     "start_time": "2021-01-01T13:32:54.162Z"
    }
   },
   "outputs": [
    {
     "output_type": "execute_result",
     "data": {
      "text/plain": [
       "<matplotlib.axes._subplots.AxesSubplot at 0x1ed295f69d0>"
      ]
     },
     "metadata": {},
     "execution_count": 61
    },
    {
     "output_type": "display_data",
     "data": {
      "text/plain": "<Figure size 864x432 with 1 Axes>",
      "image/svg+xml": "<?xml version=\"1.0\" encoding=\"utf-8\" standalone=\"no\"?>\r\n<!DOCTYPE svg PUBLIC \"-//W3C//DTD SVG 1.1//EN\"\r\n  \"http://www.w3.org/Graphics/SVG/1.1/DTD/svg11.dtd\">\r\n<!-- Created with matplotlib (https://matplotlib.org/) -->\r\n<svg height=\"356.705312pt\" version=\"1.1\" viewBox=\"0 0 729.284375 356.705312\" width=\"729.284375pt\" xmlns=\"http://www.w3.org/2000/svg\" xmlns:xlink=\"http://www.w3.org/1999/xlink\">\r\n <defs>\r\n  <style type=\"text/css\">\r\n*{stroke-linecap:butt;stroke-linejoin:round;}\r\n  </style>\r\n </defs>\r\n <g id=\"figure_1\">\r\n  <g id=\"patch_1\">\r\n   <path d=\"M -0 356.705312 \r\nL 729.284375 356.705312 \r\nL 729.284375 0 \r\nL -0 0 \r\nz\r\n\" style=\"fill:#ffffff;\"/>\r\n  </g>\r\n  <g id=\"axes_1\">\r\n   <g id=\"patch_2\">\r\n    <path d=\"M 52.484375 333.36 \r\nL 722.084375 333.36 \r\nL 722.084375 7.2 \r\nL 52.484375 7.2 \r\nz\r\n\" style=\"fill:#eaeaf2;\"/>\r\n   </g>\r\n   <g id=\"matplotlib.axis_1\">\r\n    <g id=\"xtick_1\">\r\n     <g id=\"line2d_1\">\r\n      <path clip-path=\"url(#pe9a4b52c8e)\" d=\"M 77.872053 333.36 \r\nL 77.872053 7.2 \r\n\" style=\"fill:none;stroke:#ffffff;stroke-linecap:round;stroke-width:0.8;\"/>\r\n     </g>\r\n     <g id=\"text_1\">\r\n      <!-- 0 -->\r\n      <defs>\r\n       <path d=\"M 4.15625 35.296875 \r\nQ 4.15625 48 6.765625 55.734375 \r\nQ 9.375 63.484375 14.515625 67.671875 \r\nQ 19.671875 71.875 27.484375 71.875 \r\nQ 33.25 71.875 37.59375 69.546875 \r\nQ 41.9375 67.234375 44.765625 62.859375 \r\nQ 47.609375 58.5 49.21875 52.21875 \r\nQ 50.828125 45.953125 50.828125 35.296875 \r\nQ 50.828125 22.703125 48.234375 14.96875 \r\nQ 45.65625 7.234375 40.5 3 \r\nQ 35.359375 -1.21875 27.484375 -1.21875 \r\nQ 17.140625 -1.21875 11.234375 6.203125 \r\nQ 4.15625 15.140625 4.15625 35.296875 \r\nz\r\nM 13.1875 35.296875 \r\nQ 13.1875 17.671875 17.3125 11.828125 \r\nQ 21.4375 6 27.484375 6 \r\nQ 33.546875 6 37.671875 11.859375 \r\nQ 41.796875 17.71875 41.796875 35.296875 \r\nQ 41.796875 52.984375 37.671875 58.78125 \r\nQ 33.546875 64.59375 27.390625 64.59375 \r\nQ 21.34375 64.59375 17.71875 59.46875 \r\nQ 13.1875 52.9375 13.1875 35.296875 \r\nz\r\n\" id=\"ArialMT-48\"/>\r\n      </defs>\r\n      <g style=\"fill:#262626;\" transform=\"translate(75.091584 347.517812)scale(0.1 -0.1)\">\r\n       <use xlink:href=\"#ArialMT-48\"/>\r\n      </g>\r\n     </g>\r\n    </g>\r\n    <g id=\"xtick_2\">\r\n     <g id=\"line2d_2\">\r\n      <path clip-path=\"url(#pe9a4b52c8e)\" d=\"M 174.037499 333.36 \r\nL 174.037499 7.2 \r\n\" style=\"fill:none;stroke:#ffffff;stroke-linecap:round;stroke-width:0.8;\"/>\r\n     </g>\r\n     <g id=\"text_2\">\r\n      <!-- 200 -->\r\n      <defs>\r\n       <path d=\"M 50.34375 8.453125 \r\nL 50.34375 0 \r\nL 3.03125 0 \r\nQ 2.9375 3.171875 4.046875 6.109375 \r\nQ 5.859375 10.9375 9.828125 15.625 \r\nQ 13.8125 20.3125 21.34375 26.46875 \r\nQ 33.015625 36.03125 37.109375 41.625 \r\nQ 41.21875 47.21875 41.21875 52.203125 \r\nQ 41.21875 57.421875 37.46875 61 \r\nQ 33.734375 64.59375 27.734375 64.59375 \r\nQ 21.390625 64.59375 17.578125 60.78125 \r\nQ 13.765625 56.984375 13.71875 50.25 \r\nL 4.6875 51.171875 \r\nQ 5.609375 61.28125 11.65625 66.578125 \r\nQ 17.71875 71.875 27.9375 71.875 \r\nQ 38.234375 71.875 44.234375 66.15625 \r\nQ 50.25 60.453125 50.25 52 \r\nQ 50.25 47.703125 48.484375 43.546875 \r\nQ 46.734375 39.40625 42.65625 34.8125 \r\nQ 38.578125 30.21875 29.109375 22.21875 \r\nQ 21.1875 15.578125 18.9375 13.203125 \r\nQ 16.703125 10.84375 15.234375 8.453125 \r\nz\r\n\" id=\"ArialMT-50\"/>\r\n      </defs>\r\n      <g style=\"fill:#262626;\" transform=\"translate(165.696092 347.517812)scale(0.1 -0.1)\">\r\n       <use xlink:href=\"#ArialMT-50\"/>\r\n       <use x=\"55.615234\" xlink:href=\"#ArialMT-48\"/>\r\n       <use x=\"111.230469\" xlink:href=\"#ArialMT-48\"/>\r\n      </g>\r\n     </g>\r\n    </g>\r\n    <g id=\"xtick_3\">\r\n     <g id=\"line2d_3\">\r\n      <path clip-path=\"url(#pe9a4b52c8e)\" d=\"M 270.202945 333.36 \r\nL 270.202945 7.2 \r\n\" style=\"fill:none;stroke:#ffffff;stroke-linecap:round;stroke-width:0.8;\"/>\r\n     </g>\r\n     <g id=\"text_3\">\r\n      <!-- 400 -->\r\n      <defs>\r\n       <path d=\"M 32.328125 0 \r\nL 32.328125 17.140625 \r\nL 1.265625 17.140625 \r\nL 1.265625 25.203125 \r\nL 33.9375 71.578125 \r\nL 41.109375 71.578125 \r\nL 41.109375 25.203125 \r\nL 50.78125 25.203125 \r\nL 50.78125 17.140625 \r\nL 41.109375 17.140625 \r\nL 41.109375 0 \r\nz\r\nM 32.328125 25.203125 \r\nL 32.328125 57.46875 \r\nL 9.90625 25.203125 \r\nz\r\n\" id=\"ArialMT-52\"/>\r\n      </defs>\r\n      <g style=\"fill:#262626;\" transform=\"translate(261.861538 347.517812)scale(0.1 -0.1)\">\r\n       <use xlink:href=\"#ArialMT-52\"/>\r\n       <use x=\"55.615234\" xlink:href=\"#ArialMT-48\"/>\r\n       <use x=\"111.230469\" xlink:href=\"#ArialMT-48\"/>\r\n      </g>\r\n     </g>\r\n    </g>\r\n    <g id=\"xtick_4\">\r\n     <g id=\"line2d_4\">\r\n      <path clip-path=\"url(#pe9a4b52c8e)\" d=\"M 366.368391 333.36 \r\nL 366.368391 7.2 \r\n\" style=\"fill:none;stroke:#ffffff;stroke-linecap:round;stroke-width:0.8;\"/>\r\n     </g>\r\n     <g id=\"text_4\">\r\n      <!-- 600 -->\r\n      <defs>\r\n       <path d=\"M 49.75 54.046875 \r\nL 41.015625 53.375 \r\nQ 39.84375 58.546875 37.703125 60.890625 \r\nQ 34.125 64.65625 28.90625 64.65625 \r\nQ 24.703125 64.65625 21.53125 62.3125 \r\nQ 17.390625 59.28125 14.984375 53.46875 \r\nQ 12.59375 47.65625 12.5 36.921875 \r\nQ 15.671875 41.75 20.265625 44.09375 \r\nQ 24.859375 46.4375 29.890625 46.4375 \r\nQ 38.671875 46.4375 44.84375 39.96875 \r\nQ 51.03125 33.5 51.03125 23.25 \r\nQ 51.03125 16.5 48.125 10.71875 \r\nQ 45.21875 4.9375 40.140625 1.859375 \r\nQ 35.0625 -1.21875 28.609375 -1.21875 \r\nQ 17.625 -1.21875 10.6875 6.859375 \r\nQ 3.765625 14.9375 3.765625 33.5 \r\nQ 3.765625 54.25 11.421875 63.671875 \r\nQ 18.109375 71.875 29.4375 71.875 \r\nQ 37.890625 71.875 43.28125 67.140625 \r\nQ 48.6875 62.40625 49.75 54.046875 \r\nz\r\nM 13.875 23.1875 \r\nQ 13.875 18.65625 15.796875 14.5 \r\nQ 17.71875 10.359375 21.1875 8.171875 \r\nQ 24.65625 6 28.46875 6 \r\nQ 34.03125 6 38.03125 10.484375 \r\nQ 42.046875 14.984375 42.046875 22.703125 \r\nQ 42.046875 30.125 38.078125 34.390625 \r\nQ 34.125 38.671875 28.125 38.671875 \r\nQ 22.171875 38.671875 18.015625 34.390625 \r\nQ 13.875 30.125 13.875 23.1875 \r\nz\r\n\" id=\"ArialMT-54\"/>\r\n      </defs>\r\n      <g style=\"fill:#262626;\" transform=\"translate(358.026984 347.517812)scale(0.1 -0.1)\">\r\n       <use xlink:href=\"#ArialMT-54\"/>\r\n       <use x=\"55.615234\" xlink:href=\"#ArialMT-48\"/>\r\n       <use x=\"111.230469\" xlink:href=\"#ArialMT-48\"/>\r\n      </g>\r\n     </g>\r\n    </g>\r\n    <g id=\"xtick_5\">\r\n     <g id=\"line2d_5\">\r\n      <path clip-path=\"url(#pe9a4b52c8e)\" d=\"M 462.533836 333.36 \r\nL 462.533836 7.2 \r\n\" style=\"fill:none;stroke:#ffffff;stroke-linecap:round;stroke-width:0.8;\"/>\r\n     </g>\r\n     <g id=\"text_5\">\r\n      <!-- 800 -->\r\n      <defs>\r\n       <path d=\"M 17.671875 38.8125 \r\nQ 12.203125 40.828125 9.5625 44.53125 \r\nQ 6.9375 48.25 6.9375 53.421875 \r\nQ 6.9375 61.234375 12.546875 66.546875 \r\nQ 18.171875 71.875 27.484375 71.875 \r\nQ 36.859375 71.875 42.578125 66.421875 \r\nQ 48.296875 60.984375 48.296875 53.171875 \r\nQ 48.296875 48.1875 45.671875 44.5 \r\nQ 43.0625 40.828125 37.75 38.8125 \r\nQ 44.34375 36.671875 47.78125 31.875 \r\nQ 51.21875 27.09375 51.21875 20.453125 \r\nQ 51.21875 11.28125 44.71875 5.03125 \r\nQ 38.234375 -1.21875 27.640625 -1.21875 \r\nQ 17.046875 -1.21875 10.546875 5.046875 \r\nQ 4.046875 11.328125 4.046875 20.703125 \r\nQ 4.046875 27.6875 7.59375 32.390625 \r\nQ 11.140625 37.109375 17.671875 38.8125 \r\nz\r\nM 15.921875 53.71875 \r\nQ 15.921875 48.640625 19.1875 45.40625 \r\nQ 22.46875 42.1875 27.6875 42.1875 \r\nQ 32.765625 42.1875 36.015625 45.375 \r\nQ 39.265625 48.578125 39.265625 53.21875 \r\nQ 39.265625 58.0625 35.90625 61.359375 \r\nQ 32.5625 64.65625 27.59375 64.65625 \r\nQ 22.5625 64.65625 19.234375 61.421875 \r\nQ 15.921875 58.203125 15.921875 53.71875 \r\nz\r\nM 13.09375 20.65625 \r\nQ 13.09375 16.890625 14.875 13.375 \r\nQ 16.65625 9.859375 20.171875 7.921875 \r\nQ 23.6875 6 27.734375 6 \r\nQ 34.03125 6 38.125 10.046875 \r\nQ 42.234375 14.109375 42.234375 20.359375 \r\nQ 42.234375 26.703125 38.015625 30.859375 \r\nQ 33.796875 35.015625 27.4375 35.015625 \r\nQ 21.234375 35.015625 17.15625 30.90625 \r\nQ 13.09375 26.8125 13.09375 20.65625 \r\nz\r\n\" id=\"ArialMT-56\"/>\r\n      </defs>\r\n      <g style=\"fill:#262626;\" transform=\"translate(454.19243 347.517812)scale(0.1 -0.1)\">\r\n       <use xlink:href=\"#ArialMT-56\"/>\r\n       <use x=\"55.615234\" xlink:href=\"#ArialMT-48\"/>\r\n       <use x=\"111.230469\" xlink:href=\"#ArialMT-48\"/>\r\n      </g>\r\n     </g>\r\n    </g>\r\n    <g id=\"xtick_6\">\r\n     <g id=\"line2d_6\">\r\n      <path clip-path=\"url(#pe9a4b52c8e)\" d=\"M 558.699282 333.36 \r\nL 558.699282 7.2 \r\n\" style=\"fill:none;stroke:#ffffff;stroke-linecap:round;stroke-width:0.8;\"/>\r\n     </g>\r\n     <g id=\"text_6\">\r\n      <!-- 1000 -->\r\n      <defs>\r\n       <path d=\"M 37.25 0 \r\nL 28.46875 0 \r\nL 28.46875 56 \r\nQ 25.296875 52.984375 20.140625 49.953125 \r\nQ 14.984375 46.921875 10.890625 45.40625 \r\nL 10.890625 53.90625 \r\nQ 18.265625 57.375 23.78125 62.296875 \r\nQ 29.296875 67.234375 31.59375 71.875 \r\nL 37.25 71.875 \r\nz\r\n\" id=\"ArialMT-49\"/>\r\n      </defs>\r\n      <g style=\"fill:#262626;\" transform=\"translate(547.577407 347.517812)scale(0.1 -0.1)\">\r\n       <use xlink:href=\"#ArialMT-49\"/>\r\n       <use x=\"55.615234\" xlink:href=\"#ArialMT-48\"/>\r\n       <use x=\"111.230469\" xlink:href=\"#ArialMT-48\"/>\r\n       <use x=\"166.845703\" xlink:href=\"#ArialMT-48\"/>\r\n      </g>\r\n     </g>\r\n    </g>\r\n    <g id=\"xtick_7\">\r\n     <g id=\"line2d_7\">\r\n      <path clip-path=\"url(#pe9a4b52c8e)\" d=\"M 654.864728 333.36 \r\nL 654.864728 7.2 \r\n\" style=\"fill:none;stroke:#ffffff;stroke-linecap:round;stroke-width:0.8;\"/>\r\n     </g>\r\n     <g id=\"text_7\">\r\n      <!-- 1200 -->\r\n      <g style=\"fill:#262626;\" transform=\"translate(643.742853 347.517812)scale(0.1 -0.1)\">\r\n       <use xlink:href=\"#ArialMT-49\"/>\r\n       <use x=\"55.615234\" xlink:href=\"#ArialMT-50\"/>\r\n       <use x=\"111.230469\" xlink:href=\"#ArialMT-48\"/>\r\n       <use x=\"166.845703\" xlink:href=\"#ArialMT-48\"/>\r\n      </g>\r\n     </g>\r\n    </g>\r\n   </g>\r\n   <g id=\"matplotlib.axis_2\">\r\n    <g id=\"ytick_1\">\r\n     <g id=\"line2d_8\">\r\n      <path clip-path=\"url(#pe9a4b52c8e)\" d=\"M 52.484375 318.534545 \r\nL 722.084375 318.534545 \r\n\" style=\"fill:none;stroke:#ffffff;stroke-linecap:round;stroke-width:0.8;\"/>\r\n     </g>\r\n     <g id=\"text_8\">\r\n      <!-- 0.000 -->\r\n      <defs>\r\n       <path d=\"M 9.078125 0 \r\nL 9.078125 10.015625 \r\nL 19.09375 10.015625 \r\nL 19.09375 0 \r\nz\r\n\" id=\"ArialMT-46\"/>\r\n      </defs>\r\n      <g style=\"fill:#262626;\" transform=\"translate(20.4625 322.113452)scale(0.1 -0.1)\">\r\n       <use xlink:href=\"#ArialMT-48\"/>\r\n       <use x=\"55.615234\" xlink:href=\"#ArialMT-46\"/>\r\n       <use x=\"83.398438\" xlink:href=\"#ArialMT-48\"/>\r\n       <use x=\"139.013672\" xlink:href=\"#ArialMT-48\"/>\r\n       <use x=\"194.628906\" xlink:href=\"#ArialMT-48\"/>\r\n      </g>\r\n     </g>\r\n    </g>\r\n    <g id=\"ytick_2\">\r\n     <g id=\"line2d_9\">\r\n      <path clip-path=\"url(#pe9a4b52c8e)\" d=\"M 52.484375 261.156152 \r\nL 722.084375 261.156152 \r\n\" style=\"fill:none;stroke:#ffffff;stroke-linecap:round;stroke-width:0.8;\"/>\r\n     </g>\r\n     <g id=\"text_9\">\r\n      <!-- 0.001 -->\r\n      <g style=\"fill:#262626;\" transform=\"translate(20.4625 264.735058)scale(0.1 -0.1)\">\r\n       <use xlink:href=\"#ArialMT-48\"/>\r\n       <use x=\"55.615234\" xlink:href=\"#ArialMT-46\"/>\r\n       <use x=\"83.398438\" xlink:href=\"#ArialMT-48\"/>\r\n       <use x=\"139.013672\" xlink:href=\"#ArialMT-48\"/>\r\n       <use x=\"194.628906\" xlink:href=\"#ArialMT-49\"/>\r\n      </g>\r\n     </g>\r\n    </g>\r\n    <g id=\"ytick_3\">\r\n     <g id=\"line2d_10\">\r\n      <path clip-path=\"url(#pe9a4b52c8e)\" d=\"M 52.484375 203.777758 \r\nL 722.084375 203.777758 \r\n\" style=\"fill:none;stroke:#ffffff;stroke-linecap:round;stroke-width:0.8;\"/>\r\n     </g>\r\n     <g id=\"text_10\">\r\n      <!-- 0.002 -->\r\n      <g style=\"fill:#262626;\" transform=\"translate(20.4625 207.356664)scale(0.1 -0.1)\">\r\n       <use xlink:href=\"#ArialMT-48\"/>\r\n       <use x=\"55.615234\" xlink:href=\"#ArialMT-46\"/>\r\n       <use x=\"83.398438\" xlink:href=\"#ArialMT-48\"/>\r\n       <use x=\"139.013672\" xlink:href=\"#ArialMT-48\"/>\r\n       <use x=\"194.628906\" xlink:href=\"#ArialMT-50\"/>\r\n      </g>\r\n     </g>\r\n    </g>\r\n    <g id=\"ytick_4\">\r\n     <g id=\"line2d_11\">\r\n      <path clip-path=\"url(#pe9a4b52c8e)\" d=\"M 52.484375 146.399364 \r\nL 722.084375 146.399364 \r\n\" style=\"fill:none;stroke:#ffffff;stroke-linecap:round;stroke-width:0.8;\"/>\r\n     </g>\r\n     <g id=\"text_11\">\r\n      <!-- 0.003 -->\r\n      <defs>\r\n       <path d=\"M 4.203125 18.890625 \r\nL 12.984375 20.0625 \r\nQ 14.5 12.59375 18.140625 9.296875 \r\nQ 21.78125 6 27 6 \r\nQ 33.203125 6 37.46875 10.296875 \r\nQ 41.75 14.59375 41.75 20.953125 \r\nQ 41.75 27 37.796875 30.921875 \r\nQ 33.84375 34.859375 27.734375 34.859375 \r\nQ 25.25 34.859375 21.53125 33.890625 \r\nL 22.515625 41.609375 \r\nQ 23.390625 41.5 23.921875 41.5 \r\nQ 29.546875 41.5 34.03125 44.421875 \r\nQ 38.53125 47.359375 38.53125 53.46875 \r\nQ 38.53125 58.296875 35.25 61.46875 \r\nQ 31.984375 64.65625 26.8125 64.65625 \r\nQ 21.6875 64.65625 18.265625 61.421875 \r\nQ 14.84375 58.203125 13.875 51.765625 \r\nL 5.078125 53.328125 \r\nQ 6.6875 62.15625 12.390625 67.015625 \r\nQ 18.109375 71.875 26.609375 71.875 \r\nQ 32.46875 71.875 37.390625 69.359375 \r\nQ 42.328125 66.84375 44.9375 62.5 \r\nQ 47.5625 58.15625 47.5625 53.265625 \r\nQ 47.5625 48.640625 45.0625 44.828125 \r\nQ 42.578125 41.015625 37.703125 38.765625 \r\nQ 44.046875 37.3125 47.5625 32.6875 \r\nQ 51.078125 28.078125 51.078125 21.140625 \r\nQ 51.078125 11.765625 44.234375 5.25 \r\nQ 37.40625 -1.265625 26.953125 -1.265625 \r\nQ 17.53125 -1.265625 11.296875 4.34375 \r\nQ 5.078125 9.96875 4.203125 18.890625 \r\nz\r\n\" id=\"ArialMT-51\"/>\r\n      </defs>\r\n      <g style=\"fill:#262626;\" transform=\"translate(20.4625 149.97827)scale(0.1 -0.1)\">\r\n       <use xlink:href=\"#ArialMT-48\"/>\r\n       <use x=\"55.615234\" xlink:href=\"#ArialMT-46\"/>\r\n       <use x=\"83.398438\" xlink:href=\"#ArialMT-48\"/>\r\n       <use x=\"139.013672\" xlink:href=\"#ArialMT-48\"/>\r\n       <use x=\"194.628906\" xlink:href=\"#ArialMT-51\"/>\r\n      </g>\r\n     </g>\r\n    </g>\r\n    <g id=\"ytick_5\">\r\n     <g id=\"line2d_12\">\r\n      <path clip-path=\"url(#pe9a4b52c8e)\" d=\"M 52.484375 89.02097 \r\nL 722.084375 89.02097 \r\n\" style=\"fill:none;stroke:#ffffff;stroke-linecap:round;stroke-width:0.8;\"/>\r\n     </g>\r\n     <g id=\"text_12\">\r\n      <!-- 0.004 -->\r\n      <g style=\"fill:#262626;\" transform=\"translate(20.4625 92.599876)scale(0.1 -0.1)\">\r\n       <use xlink:href=\"#ArialMT-48\"/>\r\n       <use x=\"55.615234\" xlink:href=\"#ArialMT-46\"/>\r\n       <use x=\"83.398438\" xlink:href=\"#ArialMT-48\"/>\r\n       <use x=\"139.013672\" xlink:href=\"#ArialMT-48\"/>\r\n       <use x=\"194.628906\" xlink:href=\"#ArialMT-52\"/>\r\n      </g>\r\n     </g>\r\n    </g>\r\n    <g id=\"ytick_6\">\r\n     <g id=\"line2d_13\">\r\n      <path clip-path=\"url(#pe9a4b52c8e)\" d=\"M 52.484375 31.642576 \r\nL 722.084375 31.642576 \r\n\" style=\"fill:none;stroke:#ffffff;stroke-linecap:round;stroke-width:0.8;\"/>\r\n     </g>\r\n     <g id=\"text_13\">\r\n      <!-- 0.005 -->\r\n      <defs>\r\n       <path d=\"M 4.15625 18.75 \r\nL 13.375 19.53125 \r\nQ 14.40625 12.796875 18.140625 9.390625 \r\nQ 21.875 6 27.15625 6 \r\nQ 33.5 6 37.890625 10.78125 \r\nQ 42.28125 15.578125 42.28125 23.484375 \r\nQ 42.28125 31 38.0625 35.34375 \r\nQ 33.84375 39.703125 27 39.703125 \r\nQ 22.75 39.703125 19.328125 37.765625 \r\nQ 15.921875 35.84375 13.96875 32.765625 \r\nL 5.71875 33.84375 \r\nL 12.640625 70.609375 \r\nL 48.25 70.609375 \r\nL 48.25 62.203125 \r\nL 19.671875 62.203125 \r\nL 15.828125 42.96875 \r\nQ 22.265625 47.46875 29.34375 47.46875 \r\nQ 38.71875 47.46875 45.15625 40.96875 \r\nQ 51.609375 34.46875 51.609375 24.265625 \r\nQ 51.609375 14.546875 45.953125 7.46875 \r\nQ 39.0625 -1.21875 27.15625 -1.21875 \r\nQ 17.390625 -1.21875 11.203125 4.25 \r\nQ 5.03125 9.71875 4.15625 18.75 \r\nz\r\n\" id=\"ArialMT-53\"/>\r\n      </defs>\r\n      <g style=\"fill:#262626;\" transform=\"translate(20.4625 35.221482)scale(0.1 -0.1)\">\r\n       <use xlink:href=\"#ArialMT-48\"/>\r\n       <use x=\"55.615234\" xlink:href=\"#ArialMT-46\"/>\r\n       <use x=\"83.398438\" xlink:href=\"#ArialMT-48\"/>\r\n       <use x=\"139.013672\" xlink:href=\"#ArialMT-48\"/>\r\n       <use x=\"194.628906\" xlink:href=\"#ArialMT-53\"/>\r\n      </g>\r\n     </g>\r\n    </g>\r\n    <g id=\"text_14\">\r\n     <!-- Density -->\r\n     <defs>\r\n      <path d=\"M 7.71875 0 \r\nL 7.71875 71.578125 \r\nL 32.375 71.578125 \r\nQ 40.71875 71.578125 45.125 70.5625 \r\nQ 51.265625 69.140625 55.609375 65.4375 \r\nQ 61.28125 60.640625 64.078125 53.1875 \r\nQ 66.890625 45.75 66.890625 36.1875 \r\nQ 66.890625 28.03125 64.984375 21.734375 \r\nQ 63.09375 15.4375 60.109375 11.296875 \r\nQ 57.125 7.171875 53.578125 4.796875 \r\nQ 50.046875 2.4375 45.046875 1.21875 \r\nQ 40.046875 0 33.546875 0 \r\nz\r\nM 17.1875 8.453125 \r\nL 32.46875 8.453125 \r\nQ 39.546875 8.453125 43.578125 9.765625 \r\nQ 47.609375 11.078125 50 13.484375 \r\nQ 53.375 16.84375 55.25 22.53125 \r\nQ 57.125 28.21875 57.125 36.328125 \r\nQ 57.125 47.5625 53.4375 53.59375 \r\nQ 49.75 59.625 44.484375 61.671875 \r\nQ 40.671875 63.140625 32.234375 63.140625 \r\nL 17.1875 63.140625 \r\nz\r\n\" id=\"ArialMT-68\"/>\r\n      <path d=\"M 42.09375 16.703125 \r\nL 51.171875 15.578125 \r\nQ 49.03125 7.625 43.21875 3.21875 \r\nQ 37.40625 -1.171875 28.375 -1.171875 \r\nQ 17 -1.171875 10.328125 5.828125 \r\nQ 3.65625 12.84375 3.65625 25.484375 \r\nQ 3.65625 38.578125 10.390625 45.796875 \r\nQ 17.140625 53.03125 27.875 53.03125 \r\nQ 38.28125 53.03125 44.875 45.953125 \r\nQ 51.46875 38.875 51.46875 26.03125 \r\nQ 51.46875 25.25 51.421875 23.6875 \r\nL 12.75 23.6875 \r\nQ 13.234375 15.140625 17.578125 10.59375 \r\nQ 21.921875 6.0625 28.421875 6.0625 \r\nQ 33.25 6.0625 36.671875 8.59375 \r\nQ 40.09375 11.140625 42.09375 16.703125 \r\nz\r\nM 13.234375 30.90625 \r\nL 42.1875 30.90625 \r\nQ 41.609375 37.453125 38.875 40.71875 \r\nQ 34.671875 45.796875 27.984375 45.796875 \r\nQ 21.921875 45.796875 17.796875 41.75 \r\nQ 13.671875 37.703125 13.234375 30.90625 \r\nz\r\n\" id=\"ArialMT-101\"/>\r\n      <path d=\"M 6.59375 0 \r\nL 6.59375 51.859375 \r\nL 14.5 51.859375 \r\nL 14.5 44.484375 \r\nQ 20.21875 53.03125 31 53.03125 \r\nQ 35.6875 53.03125 39.625 51.34375 \r\nQ 43.5625 49.65625 45.515625 46.921875 \r\nQ 47.46875 44.1875 48.25 40.4375 \r\nQ 48.734375 37.984375 48.734375 31.890625 \r\nL 48.734375 0 \r\nL 39.9375 0 \r\nL 39.9375 31.546875 \r\nQ 39.9375 36.921875 38.90625 39.578125 \r\nQ 37.890625 42.234375 35.28125 43.8125 \r\nQ 32.671875 45.40625 29.15625 45.40625 \r\nQ 23.53125 45.40625 19.453125 41.84375 \r\nQ 15.375 38.28125 15.375 28.328125 \r\nL 15.375 0 \r\nz\r\n\" id=\"ArialMT-110\"/>\r\n      <path d=\"M 3.078125 15.484375 \r\nL 11.765625 16.84375 \r\nQ 12.5 11.625 15.84375 8.84375 \r\nQ 19.1875 6.0625 25.203125 6.0625 \r\nQ 31.25 6.0625 34.171875 8.515625 \r\nQ 37.109375 10.984375 37.109375 14.3125 \r\nQ 37.109375 17.28125 34.515625 19 \r\nQ 32.71875 20.171875 25.53125 21.96875 \r\nQ 15.875 24.421875 12.140625 26.203125 \r\nQ 8.40625 27.984375 6.46875 31.125 \r\nQ 4.546875 34.28125 4.546875 38.09375 \r\nQ 4.546875 41.546875 6.125 44.5 \r\nQ 7.71875 47.46875 10.453125 49.421875 \r\nQ 12.5 50.921875 16.03125 51.96875 \r\nQ 19.578125 53.03125 23.640625 53.03125 \r\nQ 29.734375 53.03125 34.34375 51.265625 \r\nQ 38.96875 49.515625 41.15625 46.5 \r\nQ 43.359375 43.5 44.1875 38.484375 \r\nL 35.59375 37.3125 \r\nQ 35.015625 41.3125 32.203125 43.546875 \r\nQ 29.390625 45.796875 24.265625 45.796875 \r\nQ 18.21875 45.796875 15.625 43.796875 \r\nQ 13.03125 41.796875 13.03125 39.109375 \r\nQ 13.03125 37.40625 14.109375 36.03125 \r\nQ 15.1875 34.625 17.484375 33.6875 \r\nQ 18.796875 33.203125 25.25 31.453125 \r\nQ 34.578125 28.953125 38.25 27.359375 \r\nQ 41.9375 25.78125 44.03125 22.75 \r\nQ 46.140625 19.734375 46.140625 15.234375 \r\nQ 46.140625 10.84375 43.578125 6.953125 \r\nQ 41.015625 3.078125 36.171875 0.953125 \r\nQ 31.34375 -1.171875 25.25 -1.171875 \r\nQ 15.140625 -1.171875 9.84375 3.03125 \r\nQ 4.546875 7.234375 3.078125 15.484375 \r\nz\r\n\" id=\"ArialMT-115\"/>\r\n      <path d=\"M 6.640625 61.46875 \r\nL 6.640625 71.578125 \r\nL 15.4375 71.578125 \r\nL 15.4375 61.46875 \r\nz\r\nM 6.640625 0 \r\nL 6.640625 51.859375 \r\nL 15.4375 51.859375 \r\nL 15.4375 0 \r\nz\r\n\" id=\"ArialMT-105\"/>\r\n      <path d=\"M 25.78125 7.859375 \r\nL 27.046875 0.09375 \r\nQ 23.34375 -0.6875 20.40625 -0.6875 \r\nQ 15.625 -0.6875 12.984375 0.828125 \r\nQ 10.359375 2.34375 9.28125 4.8125 \r\nQ 8.203125 7.28125 8.203125 15.1875 \r\nL 8.203125 45.015625 \r\nL 1.765625 45.015625 \r\nL 1.765625 51.859375 \r\nL 8.203125 51.859375 \r\nL 8.203125 64.703125 \r\nL 16.9375 69.96875 \r\nL 16.9375 51.859375 \r\nL 25.78125 51.859375 \r\nL 25.78125 45.015625 \r\nL 16.9375 45.015625 \r\nL 16.9375 14.703125 \r\nQ 16.9375 10.9375 17.40625 9.859375 \r\nQ 17.875 8.796875 18.921875 8.15625 \r\nQ 19.96875 7.515625 21.921875 7.515625 \r\nQ 23.390625 7.515625 25.78125 7.859375 \r\nz\r\n\" id=\"ArialMT-116\"/>\r\n      <path d=\"M 6.203125 -19.96875 \r\nL 5.21875 -11.71875 \r\nQ 8.109375 -12.5 10.25 -12.5 \r\nQ 13.1875 -12.5 14.9375 -11.515625 \r\nQ 16.703125 -10.546875 17.828125 -8.796875 \r\nQ 18.65625 -7.46875 20.515625 -2.25 \r\nQ 20.75 -1.515625 21.296875 -0.09375 \r\nL 1.609375 51.859375 \r\nL 11.078125 51.859375 \r\nL 21.875 21.828125 \r\nQ 23.96875 16.109375 25.640625 9.8125 \r\nQ 27.15625 15.875 29.25 21.625 \r\nL 40.328125 51.859375 \r\nL 49.125 51.859375 \r\nL 29.390625 -0.875 \r\nQ 26.21875 -9.421875 24.46875 -12.640625 \r\nQ 22.125 -17 19.09375 -19.015625 \r\nQ 16.0625 -21.046875 11.859375 -21.046875 \r\nQ 9.328125 -21.046875 6.203125 -19.96875 \r\nz\r\n\" id=\"ArialMT-121\"/>\r\n     </defs>\r\n     <g style=\"fill:#262626;\" transform=\"translate(14.357812 186.951875)rotate(-90)scale(0.1 -0.1)\">\r\n      <use xlink:href=\"#ArialMT-68\"/>\r\n      <use x=\"72.216797\" xlink:href=\"#ArialMT-101\"/>\r\n      <use x=\"127.832031\" xlink:href=\"#ArialMT-110\"/>\r\n      <use x=\"183.447266\" xlink:href=\"#ArialMT-115\"/>\r\n      <use x=\"233.447266\" xlink:href=\"#ArialMT-105\"/>\r\n      <use x=\"255.664062\" xlink:href=\"#ArialMT-116\"/>\r\n      <use x=\"283.447266\" xlink:href=\"#ArialMT-121\"/>\r\n     </g>\r\n    </g>\r\n   </g>\r\n   <g id=\"line2d_14\">\r\n    <path clip-path=\"url(#pe9a4b52c8e)\" d=\"M 82.920739 318.534545 \r\nL 224.286832 318.427497 \r\nL 237.692237 318.103763 \r\nL 243.785604 317.74605 \r\nL 248.660296 317.224461 \r\nL 252.925653 316.526517 \r\nL 256.581672 315.682004 \r\nL 259.628355 314.754201 \r\nL 262.675038 313.592741 \r\nL 265.721721 312.186881 \r\nL 268.768404 310.527275 \r\nL 271.815088 308.573392 \r\nL 274.252434 306.733121 \r\nL 276.68978 304.560796 \r\nL 278.51779 302.656618 \r\nL 280.3458 300.473598 \r\nL 282.17381 297.981212 \r\nL 284.00182 295.162966 \r\nL 286.439166 290.905366 \r\nL 288.876513 286.139173 \r\nL 291.923196 279.663934 \r\nL 300.453908 261.130112 \r\nL 304.109928 253.848266 \r\nL 324.218036 215.295345 \r\nL 327.264719 210.22876 \r\nL 335.795432 196.521143 \r\nL 338.232778 191.86636 \r\nL 340.060788 187.932766 \r\nL 341.888798 183.557231 \r\nL 343.716807 178.707904 \r\nL 346.154154 171.50442 \r\nL 348.5915 163.546805 \r\nL 352.24752 150.690129 \r\nL 357.122213 133.61497 \r\nL 359.559559 125.848626 \r\nL 361.996906 118.849495 \r\nL 364.434252 112.640548 \r\nL 366.871599 107.168888 \r\nL 368.699608 103.52127 \r\nL 370.527618 100.274163 \r\nL 372.355628 97.471853 \r\nL 374.183638 95.186481 \r\nL 375.402311 93.992267 \r\nL 376.620984 93.090633 \r\nL 377.839658 92.503051 \r\nL 379.058331 92.246117 \r\nL 380.277004 92.330876 \r\nL 381.495677 92.763175 \r\nL 382.71435 93.544974 \r\nL 383.933024 94.676356 \r\nL 385.151697 96.157858 \r\nL 386.37037 97.992637 \r\nL 387.589043 100.187995 \r\nL 388.807717 102.755865 \r\nL 390.02639 105.712008 \r\nL 391.8544 110.912136 \r\nL 393.682409 117.073144 \r\nL 395.510419 124.205107 \r\nL 397.338429 132.251721 \r\nL 399.775775 144.14936 \r\nL 408.306488 187.395414 \r\nL 410.134498 195.048313 \r\nL 411.962508 201.662613 \r\nL 413.181181 205.45048 \r\nL 414.399854 208.727629 \r\nL 415.618527 211.494152 \r\nL 416.837201 213.758372 \r\nL 418.055874 215.534947 \r\nL 419.274547 216.843069 \r\nL 420.49322 217.704785 \r\nL 421.711893 218.143469 \r\nL 422.930567 218.182468 \r\nL 424.14924 217.843923 \r\nL 425.367913 217.147781 \r\nL 426.586586 216.110978 \r\nL 427.80526 214.746766 \r\nL 429.023933 213.06412 \r\nL 430.242606 211.067135 \r\nL 431.461279 208.754374 \r\nL 433.289289 204.674535 \r\nL 435.117299 199.810308 \r\nL 436.945309 194.072231 \r\nL 438.773318 187.347945 \r\nL 440.601328 179.533482 \r\nL 442.429338 170.588781 \r\nL 444.257348 160.612953 \r\nL 450.350714 126.016339 \r\nL 451.569387 120.757158 \r\nL 452.788061 116.800579 \r\nL 453.397397 115.408199 \r\nL 454.006734 114.45247 \r\nL 454.61607 113.962755 \r\nL 455.225407 113.963368 \r\nL 455.834744 114.472927 \r\nL 456.44408 115.503818 \r\nL 457.053417 117.06181 \r\nL 457.662753 119.145806 \r\nL 458.27209 121.747769 \r\nL 459.490763 128.439411 \r\nL 460.709436 136.940837 \r\nL 461.92811 146.966627 \r\nL 463.756119 164.081971 \r\nL 469.849486 223.726389 \r\nL 471.677495 238.561095 \r\nL 473.505505 251.121633 \r\nL 474.724178 258.229166 \r\nL 475.942852 264.384873 \r\nL 477.161525 269.671206 \r\nL 478.380198 274.183397 \r\nL 479.598871 278.0192 \r\nL 480.817545 281.271503 \r\nL 482.036218 284.023931 \r\nL 483.254891 286.349134 \r\nL 484.473564 288.309204 \r\nL 485.692237 289.957524 \r\nL 486.910911 291.341292 \r\nL 488.73892 293.015748 \r\nL 490.56693 294.334362 \r\nL 493.004277 295.780842 \r\nL 496.660296 297.902213 \r\nL 499.097643 299.606311 \r\nL 501.534989 301.633048 \r\nL 504.581672 304.498043 \r\nL 508.847029 308.525068 \r\nL 511.284375 310.5275 \r\nL 513.721721 312.194387 \r\nL 516.159068 313.514754 \r\nL 518.596414 314.527148 \r\nL 521.033761 315.292563 \r\nL 524.080444 315.995526 \r\nL 527.736463 316.591645 \r\nL 532.611156 317.141052 \r\nL 539.923196 317.718301 \r\nL 549.063245 318.240109 \r\nL 556.984621 318.46696 \r\nL 568.562016 318.53231 \r\nL 691.648011 318.534545 \r\nL 691.648011 318.534545 \r\n\" style=\"fill:none;stroke:#1f77b4;stroke-linecap:round;stroke-width:1.5;\"/>\r\n   </g>\r\n   <g id=\"line2d_15\">\r\n    <path clip-path=\"url(#pe9a4b52c8e)\" d=\"M 143.50497 318.534545 \r\nL 215.470222 318.427821 \r\nL 220.610597 318.196526 \r\nL 224.465879 317.808956 \r\nL 227.464431 317.293964 \r\nL 230.034619 316.644798 \r\nL 232.604806 315.75359 \r\nL 234.746629 314.792894 \r\nL 236.888452 313.608716 \r\nL 239.030275 312.181136 \r\nL 241.172098 310.49354 \r\nL 243.313921 308.530742 \r\nL 245.455744 306.275323 \r\nL 247.597567 303.702314 \r\nL 249.73939 300.772786 \r\nL 251.881213 297.427333 \r\nL 254.023036 293.580892 \r\nL 255.736495 290.068073 \r\nL 257.449953 286.09313 \r\nL 259.163411 281.578434 \r\nL 260.87687 276.442834 \r\nL 262.590328 270.607726 \r\nL 264.303786 264.00454 \r\nL 266.017245 256.583078 \r\nL 268.159068 246.123018 \r\nL 270.300891 234.38125 \r\nL 272.871078 218.788341 \r\nL 275.869631 199.067503 \r\nL 283.580193 147.549392 \r\nL 286.150381 132.266569 \r\nL 288.292204 120.754948 \r\nL 290.434027 110.40725 \r\nL 292.57585 101.157116 \r\nL 294.717673 92.856829 \r\nL 297.287861 83.878215 \r\nL 300.286413 74.329982 \r\nL 304.141694 62.884522 \r\nL 308.853705 49.632558 \r\nL 312.280622 40.604087 \r\nL 314.850809 34.421665 \r\nL 316.992632 29.874854 \r\nL 318.706091 26.790421 \r\nL 319.991184 24.889346 \r\nL 321.276278 23.41432 \r\nL 322.133007 22.70225 \r\nL 322.989737 22.232148 \r\nL 323.846466 22.025455 \r\nL 324.703195 22.103175 \r\nL 325.559924 22.485388 \r\nL 326.416653 23.190718 \r\nL 327.273383 24.235795 \r\nL 328.130112 25.634707 \r\nL 328.986841 27.398479 \r\nL 330.271935 30.74351 \r\nL 331.557029 34.933354 \r\nL 332.842122 39.953346 \r\nL 334.127216 45.764668 \r\nL 335.840675 54.631421 \r\nL 337.982498 67.200642 \r\nL 340.98105 86.55934 \r\nL 345.69306 117.178367 \r\nL 347.834883 129.669244 \r\nL 349.548342 138.56998 \r\nL 351.2618 146.346911 \r\nL 352.975258 152.935269 \r\nL 354.260352 157.096105 \r\nL 355.545446 160.612409 \r\nL 356.83054 163.523279 \r\nL 358.115634 165.880075 \r\nL 359.400727 167.742978 \r\nL 360.685821 169.177672 \r\nL 361.970915 170.252341 \r\nL 363.256009 171.035118 \r\nL 364.541103 171.592064 \r\nL 366.254561 172.090819 \r\nL 369.681478 172.743303 \r\nL 371.823301 173.23926 \r\nL 373.536759 173.833803 \r\nL 375.250218 174.688732 \r\nL 376.535311 175.541921 \r\nL 377.820405 176.605231 \r\nL 379.105499 177.901244 \r\nL 380.390593 179.449634 \r\nL 382.104051 181.934754 \r\nL 383.81751 184.926621 \r\nL 385.530968 188.441586 \r\nL 387.244426 192.481725 \r\nL 388.957885 197.033832 \r\nL 391.099708 203.398631 \r\nL 393.669895 211.904069 \r\nL 396.668448 222.748427 \r\nL 401.808823 242.470216 \r\nL 406.092469 258.624704 \r\nL 409.091021 269.133495 \r\nL 411.661209 277.371879 \r\nL 413.803032 283.607537 \r\nL 415.944855 289.230745 \r\nL 418.086678 294.226594 \r\nL 420.228501 298.597521 \r\nL 421.941959 301.654368 \r\nL 423.655417 304.333163 \r\nL 425.368876 306.648561 \r\nL 427.082334 308.616754 \r\nL 428.795792 310.254787 \r\nL 430.509251 311.580151 \r\nL 432.222709 312.610641 \r\nL 433.936168 313.364471 \r\nL 435.649626 313.8606 \r\nL 437.363084 314.119236 \r\nL 439.076543 314.162435 \r\nL 441.218366 313.951096 \r\nL 443.360189 313.496119 \r\nL 445.930376 312.716887 \r\nL 454.926033 309.736231 \r\nL 457.067856 309.35478 \r\nL 459.209679 309.203705 \r\nL 461.351502 309.300153 \r\nL 463.493325 309.639164 \r\nL 465.635148 310.195254 \r\nL 468.205336 311.08912 \r\nL 472.060617 312.698573 \r\nL 477.629357 315.021098 \r\nL 481.056274 316.188137 \r\nL 484.054826 316.978091 \r\nL 487.053378 317.555904 \r\nL 490.480295 317.995313 \r\nL 494.763941 318.30269 \r\nL 500.761045 318.47549 \r\nL 512.755254 318.532562 \r\nL 571.441204 318.534545 \r\nL 571.441204 318.534545 \r\n\" style=\"fill:none;stroke:#ff7f0e;stroke-linecap:round;stroke-width:1.5;\"/>\r\n   </g>\r\n   <g id=\"patch_3\">\r\n    <path d=\"M 52.484375 333.36 \r\nL 52.484375 7.2 \r\n\" style=\"fill:none;stroke:#ffffff;stroke-linecap:square;stroke-linejoin:miter;stroke-width:0.8;\"/>\r\n   </g>\r\n   <g id=\"patch_4\">\r\n    <path d=\"M 722.084375 333.36 \r\nL 722.084375 7.2 \r\n\" style=\"fill:none;stroke:#ffffff;stroke-linecap:square;stroke-linejoin:miter;stroke-width:0.8;\"/>\r\n   </g>\r\n   <g id=\"patch_5\">\r\n    <path d=\"M 52.484375 333.36 \r\nL 722.084375 333.36 \r\n\" style=\"fill:none;stroke:#ffffff;stroke-linecap:square;stroke-linejoin:miter;stroke-width:0.8;\"/>\r\n   </g>\r\n   <g id=\"patch_6\">\r\n    <path d=\"M 52.484375 7.2 \r\nL 722.084375 7.2 \r\n\" style=\"fill:none;stroke:#ffffff;stroke-linecap:square;stroke-linejoin:miter;stroke-width:0.8;\"/>\r\n   </g>\r\n   <g id=\"legend_1\">\r\n    <g id=\"patch_7\">\r\n     <path d=\"M 640.85625 58.23125 \r\nL 715.084375 58.23125 \r\nQ 717.084375 58.23125 717.084375 56.23125 \r\nL 717.084375 14.2 \r\nQ 717.084375 12.2 715.084375 12.2 \r\nL 640.85625 12.2 \r\nQ 638.85625 12.2 638.85625 14.2 \r\nL 638.85625 56.23125 \r\nQ 638.85625 58.23125 640.85625 58.23125 \r\nz\r\n\" style=\"fill:#eaeaf2;opacity:0.8;stroke:#cccccc;stroke-linejoin:miter;\"/>\r\n    </g>\r\n    <g id=\"text_15\">\r\n     <!-- None,tag -->\r\n     <defs>\r\n      <path d=\"M 7.625 0 \r\nL 7.625 71.578125 \r\nL 17.328125 71.578125 \r\nL 54.9375 15.375 \r\nL 54.9375 71.578125 \r\nL 64.015625 71.578125 \r\nL 64.015625 0 \r\nL 54.296875 0 \r\nL 16.703125 56.25 \r\nL 16.703125 0 \r\nz\r\n\" id=\"ArialMT-78\"/>\r\n      <path d=\"M 3.328125 25.921875 \r\nQ 3.328125 40.328125 11.328125 47.265625 \r\nQ 18.015625 53.03125 27.640625 53.03125 \r\nQ 38.328125 53.03125 45.109375 46.015625 \r\nQ 51.90625 39.015625 51.90625 26.65625 \r\nQ 51.90625 16.65625 48.90625 10.90625 \r\nQ 45.90625 5.171875 40.15625 2 \r\nQ 34.421875 -1.171875 27.640625 -1.171875 \r\nQ 16.75 -1.171875 10.03125 5.8125 \r\nQ 3.328125 12.796875 3.328125 25.921875 \r\nz\r\nM 12.359375 25.921875 \r\nQ 12.359375 15.96875 16.703125 11.015625 \r\nQ 21.046875 6.0625 27.640625 6.0625 \r\nQ 34.1875 6.0625 38.53125 11.03125 \r\nQ 42.875 16.015625 42.875 26.21875 \r\nQ 42.875 35.84375 38.5 40.796875 \r\nQ 34.125 45.75 27.640625 45.75 \r\nQ 21.046875 45.75 16.703125 40.8125 \r\nQ 12.359375 35.890625 12.359375 25.921875 \r\nz\r\n\" id=\"ArialMT-111\"/>\r\n      <path d=\"M 8.890625 0 \r\nL 8.890625 10.015625 \r\nL 18.890625 10.015625 \r\nL 18.890625 0 \r\nQ 18.890625 -5.515625 16.9375 -8.90625 \r\nQ 14.984375 -12.3125 10.75 -14.15625 \r\nL 8.296875 -10.40625 \r\nQ 11.078125 -9.1875 12.390625 -6.8125 \r\nQ 13.71875 -4.4375 13.875 0 \r\nz\r\n\" id=\"ArialMT-44\"/>\r\n      <path d=\"M 40.4375 6.390625 \r\nQ 35.546875 2.25 31.03125 0.53125 \r\nQ 26.515625 -1.171875 21.34375 -1.171875 \r\nQ 12.796875 -1.171875 8.203125 3 \r\nQ 3.609375 7.171875 3.609375 13.671875 \r\nQ 3.609375 17.484375 5.34375 20.625 \r\nQ 7.078125 23.78125 9.890625 25.6875 \r\nQ 12.703125 27.59375 16.21875 28.5625 \r\nQ 18.796875 29.25 24.03125 29.890625 \r\nQ 34.671875 31.15625 39.703125 32.90625 \r\nQ 39.75 34.71875 39.75 35.203125 \r\nQ 39.75 40.578125 37.25 42.78125 \r\nQ 33.890625 45.75 27.25 45.75 \r\nQ 21.046875 45.75 18.09375 43.578125 \r\nQ 15.140625 41.40625 13.71875 35.890625 \r\nL 5.125 37.0625 \r\nQ 6.296875 42.578125 8.984375 45.96875 \r\nQ 11.671875 49.359375 16.75 51.1875 \r\nQ 21.828125 53.03125 28.515625 53.03125 \r\nQ 35.15625 53.03125 39.296875 51.46875 \r\nQ 43.453125 49.90625 45.40625 47.53125 \r\nQ 47.359375 45.171875 48.140625 41.546875 \r\nQ 48.578125 39.3125 48.578125 33.453125 \r\nL 48.578125 21.734375 \r\nQ 48.578125 9.46875 49.140625 6.21875 \r\nQ 49.703125 2.984375 51.375 0 \r\nL 42.1875 0 \r\nQ 40.828125 2.734375 40.4375 6.390625 \r\nz\r\nM 39.703125 26.03125 \r\nQ 34.90625 24.078125 25.34375 22.703125 \r\nQ 19.921875 21.921875 17.671875 20.9375 \r\nQ 15.4375 19.96875 14.203125 18.09375 \r\nQ 12.984375 16.21875 12.984375 13.921875 \r\nQ 12.984375 10.40625 15.640625 8.0625 \r\nQ 18.3125 5.71875 23.4375 5.71875 \r\nQ 28.515625 5.71875 32.46875 7.9375 \r\nQ 36.421875 10.15625 38.28125 14.015625 \r\nQ 39.703125 17 39.703125 22.796875 \r\nz\r\n\" id=\"ArialMT-97\"/>\r\n      <path d=\"M 4.984375 -4.296875 \r\nL 13.53125 -5.5625 \r\nQ 14.0625 -9.515625 16.5 -11.328125 \r\nQ 19.78125 -13.765625 25.4375 -13.765625 \r\nQ 31.546875 -13.765625 34.859375 -11.328125 \r\nQ 38.1875 -8.890625 39.359375 -4.5 \r\nQ 40.046875 -1.8125 39.984375 6.78125 \r\nQ 34.234375 0 25.640625 0 \r\nQ 14.9375 0 9.078125 7.71875 \r\nQ 3.21875 15.4375 3.21875 26.21875 \r\nQ 3.21875 33.640625 5.90625 39.90625 \r\nQ 8.59375 46.1875 13.6875 49.609375 \r\nQ 18.796875 53.03125 25.6875 53.03125 \r\nQ 34.859375 53.03125 40.828125 45.609375 \r\nL 40.828125 51.859375 \r\nL 48.921875 51.859375 \r\nL 48.921875 7.03125 \r\nQ 48.921875 -5.078125 46.453125 -10.125 \r\nQ 44 -15.1875 38.640625 -18.109375 \r\nQ 33.296875 -21.046875 25.484375 -21.046875 \r\nQ 16.21875 -21.046875 10.5 -16.875 \r\nQ 4.78125 -12.703125 4.984375 -4.296875 \r\nz\r\nM 12.25 26.859375 \r\nQ 12.25 16.65625 16.296875 11.96875 \r\nQ 20.359375 7.28125 26.46875 7.28125 \r\nQ 32.515625 7.28125 36.609375 11.9375 \r\nQ 40.71875 16.609375 40.71875 26.5625 \r\nQ 40.71875 36.078125 36.5 40.90625 \r\nQ 32.28125 45.75 26.3125 45.75 \r\nQ 20.453125 45.75 16.34375 40.984375 \r\nQ 12.25 36.234375 12.25 26.859375 \r\nz\r\n\" id=\"ArialMT-103\"/>\r\n     </defs>\r\n     <g style=\"fill:#262626;\" transform=\"translate(657.678906 23.357812)scale(0.1 -0.1)\">\r\n      <use xlink:href=\"#ArialMT-78\"/>\r\n      <use x=\"72.216797\" xlink:href=\"#ArialMT-111\"/>\r\n      <use x=\"127.832031\" xlink:href=\"#ArialMT-110\"/>\r\n      <use x=\"183.447266\" xlink:href=\"#ArialMT-101\"/>\r\n      <use x=\"239.0625\" xlink:href=\"#ArialMT-44\"/>\r\n      <use x=\"266.845703\" xlink:href=\"#ArialMT-116\"/>\r\n      <use x=\"294.628906\" xlink:href=\"#ArialMT-97\"/>\r\n      <use x=\"350.244141\" xlink:href=\"#ArialMT-103\"/>\r\n     </g>\r\n    </g>\r\n    <g id=\"line2d_16\">\r\n     <path d=\"M 642.85625 34.242187 \r\nL 662.85625 34.242187 \r\n\" style=\"fill:none;stroke:#1f77b4;stroke-linecap:round;stroke-width:1.5;\"/>\r\n    </g>\r\n    <g id=\"line2d_17\"/>\r\n    <g id=\"text_16\">\r\n     <!-- (score, 0) -->\r\n     <defs>\r\n      <path d=\"M 23.390625 -21.046875 \r\nQ 16.109375 -11.859375 11.078125 0.4375 \r\nQ 6.0625 12.75 6.0625 25.921875 \r\nQ 6.0625 37.546875 9.8125 48.1875 \r\nQ 14.203125 60.546875 23.390625 72.796875 \r\nL 29.6875 72.796875 \r\nQ 23.78125 62.640625 21.875 58.296875 \r\nQ 18.890625 51.5625 17.1875 44.234375 \r\nQ 15.09375 35.109375 15.09375 25.875 \r\nQ 15.09375 2.390625 29.6875 -21.046875 \r\nz\r\n\" id=\"ArialMT-40\"/>\r\n      <path d=\"M 40.4375 19 \r\nL 49.078125 17.875 \r\nQ 47.65625 8.9375 41.8125 3.875 \r\nQ 35.984375 -1.171875 27.484375 -1.171875 \r\nQ 16.84375 -1.171875 10.375 5.78125 \r\nQ 3.90625 12.75 3.90625 25.734375 \r\nQ 3.90625 34.125 6.6875 40.421875 \r\nQ 9.46875 46.734375 15.15625 49.875 \r\nQ 20.84375 53.03125 27.546875 53.03125 \r\nQ 35.984375 53.03125 41.359375 48.75 \r\nQ 46.734375 44.484375 48.25 36.625 \r\nL 39.703125 35.296875 \r\nQ 38.484375 40.53125 35.375 43.15625 \r\nQ 32.28125 45.796875 27.875 45.796875 \r\nQ 21.234375 45.796875 17.078125 41.03125 \r\nQ 12.9375 36.28125 12.9375 25.984375 \r\nQ 12.9375 15.53125 16.9375 10.796875 \r\nQ 20.953125 6.0625 27.390625 6.0625 \r\nQ 32.5625 6.0625 36.03125 9.234375 \r\nQ 39.5 12.40625 40.4375 19 \r\nz\r\n\" id=\"ArialMT-99\"/>\r\n      <path d=\"M 6.5 0 \r\nL 6.5 51.859375 \r\nL 14.40625 51.859375 \r\nL 14.40625 44 \r\nQ 17.4375 49.515625 20 51.265625 \r\nQ 22.5625 53.03125 25.640625 53.03125 \r\nQ 30.078125 53.03125 34.671875 50.203125 \r\nL 31.640625 42.046875 \r\nQ 28.421875 43.953125 25.203125 43.953125 \r\nQ 22.3125 43.953125 20.015625 42.21875 \r\nQ 17.71875 40.484375 16.75 37.40625 \r\nQ 15.28125 32.71875 15.28125 27.15625 \r\nL 15.28125 0 \r\nz\r\n\" id=\"ArialMT-114\"/>\r\n      <path id=\"ArialMT-32\"/>\r\n      <path d=\"M 12.359375 -21.046875 \r\nL 6.0625 -21.046875 \r\nQ 20.65625 2.390625 20.65625 25.875 \r\nQ 20.65625 35.0625 18.5625 44.09375 \r\nQ 16.890625 51.421875 13.921875 58.15625 \r\nQ 12.015625 62.546875 6.0625 72.796875 \r\nL 12.359375 72.796875 \r\nQ 21.53125 60.546875 25.921875 48.1875 \r\nQ 29.6875 37.546875 29.6875 25.921875 \r\nQ 29.6875 12.75 24.625 0.4375 \r\nQ 19.578125 -11.859375 12.359375 -21.046875 \r\nz\r\n\" id=\"ArialMT-41\"/>\r\n     </defs>\r\n     <g style=\"fill:#262626;\" transform=\"translate(670.85625 37.742187)scale(0.1 -0.1)\">\r\n      <use xlink:href=\"#ArialMT-40\"/>\r\n      <use x=\"33.300781\" xlink:href=\"#ArialMT-115\"/>\r\n      <use x=\"83.300781\" xlink:href=\"#ArialMT-99\"/>\r\n      <use x=\"133.300781\" xlink:href=\"#ArialMT-111\"/>\r\n      <use x=\"188.916016\" xlink:href=\"#ArialMT-114\"/>\r\n      <use x=\"222.216797\" xlink:href=\"#ArialMT-101\"/>\r\n      <use x=\"277.832031\" xlink:href=\"#ArialMT-44\"/>\r\n      <use x=\"305.615234\" xlink:href=\"#ArialMT-32\"/>\r\n      <use x=\"333.398438\" xlink:href=\"#ArialMT-48\"/>\r\n      <use x=\"389.013672\" xlink:href=\"#ArialMT-41\"/>\r\n     </g>\r\n    </g>\r\n    <g id=\"line2d_18\">\r\n     <path d=\"M 642.85625 48.626562 \r\nL 662.85625 48.626562 \r\n\" style=\"fill:none;stroke:#ff7f0e;stroke-linecap:round;stroke-width:1.5;\"/>\r\n    </g>\r\n    <g id=\"line2d_19\"/>\r\n    <g id=\"text_17\">\r\n     <!-- (score, 1) -->\r\n     <g style=\"fill:#262626;\" transform=\"translate(670.85625 52.126562)scale(0.1 -0.1)\">\r\n      <use xlink:href=\"#ArialMT-40\"/>\r\n      <use x=\"33.300781\" xlink:href=\"#ArialMT-115\"/>\r\n      <use x=\"83.300781\" xlink:href=\"#ArialMT-99\"/>\r\n      <use x=\"133.300781\" xlink:href=\"#ArialMT-111\"/>\r\n      <use x=\"188.916016\" xlink:href=\"#ArialMT-114\"/>\r\n      <use x=\"222.216797\" xlink:href=\"#ArialMT-101\"/>\r\n      <use x=\"277.832031\" xlink:href=\"#ArialMT-44\"/>\r\n      <use x=\"305.615234\" xlink:href=\"#ArialMT-32\"/>\r\n      <use x=\"333.398438\" xlink:href=\"#ArialMT-49\"/>\r\n      <use x=\"389.013672\" xlink:href=\"#ArialMT-41\"/>\r\n     </g>\r\n    </g>\r\n   </g>\r\n  </g>\r\n </g>\r\n <defs>\r\n  <clipPath id=\"pe9a4b52c8e\">\r\n   <rect height=\"326.16\" width=\"669.6\" x=\"52.484375\" y=\"7.2\"/>\r\n  </clipPath>\r\n </defs>\r\n</svg>\r\n",
      "image/png": "[encoded data removed]"
     },
     "metadata": {}
    }
   ],
   "source": [
    "pd.pivot_table(data=score[['tag','score']],index=score.index,values=['score'],columns=['tag']).plot.kde(figsize=(12,6))"
   ]
  },
  {
   "cell_type": "code",
   "execution_count": 62,
   "metadata": {
    "ExecuteTime": {
     "end_time": "2021-01-01T13:33:29.272123Z",
     "start_time": "2021-01-01T13:32:54.167Z"
    }
   },
   "outputs": [],
   "source": [
    "train_score = sc.scorecard_ply(tra_x,score_card_info,only_total_score=False)\n",
    "test_oot_score =  sc.scorecard_ply(test_x[test_x['oot']==1],score_card_info,only_total_score=False)\n",
    "test_dt_score = sc.scorecard_ply(test_x[test_x['oot']==0],score_card_info,only_total_score=False)\n",
    "test_score = sc.scorecard_ply(test_x,score_card_info,only_total_score=False)\n",
    "all_score = sc.scorecard_ply(pd.concat([tra_x,test_x]),score_card_info,only_total_score=False)"
   ]
  },
  {
   "cell_type": "code",
   "execution_count": 89,
   "metadata": {
    "ExecuteTime": {
     "end_time": "2021-01-01T13:33:29.275286Z",
     "start_time": "2021-01-01T13:32:54.172Z"
    }
   },
   "outputs": [],
   "source": [
    "# score['授信申请编号'] = main_dataset['授信申请编号']\n",
    "score.to_excel('final_result_2/score.xlsx',index=False)"
   ]
  },
  {
   "cell_type": "code",
   "execution_count": 87,
   "metadata": {},
   "outputs": [],
   "source": [
    "# 2021年1月05日新增划分评分\n",
    "score['bins'] = pd.cut(score['score'],bins=[326, 366, 406, 446, 486, 503, 514, 524, 534, 544, 549, 585, 614, 637,662,711, 762, 789, 960])\n",
    "score_counts = score[['tag','score','bins']]\n",
    "score_counts.groupby('bins').agg(total = ('tag','count'),bad=('tag','sum')).assign(\n",
    "        good = lambda x:x.total-x.bad,\n",
    "        BadRate = lambda x: x.bad/(x.bad+x.good),\n",
    "        DistrBad = lambda x: x.bad/sum(x.bad),\n",
    "        DistrGood = lambda x: x.good/sum(x.good)\n",
    ").to_csv('final_result_2/细分得分情况.csv',encoding='gbk')\n",
    "# [i for i in range(326,504,40)]\n"
   ]
  },
  {
   "cell_type": "code",
   "execution_count": null,
   "metadata": {
    "ExecuteTime": {
     "end_time": "2021-01-01T13:33:29.277772Z",
     "start_time": "2021-01-01T13:32:54.178Z"
    },
    "scrolled": true
   },
   "outputs": [],
   "source": [
    "# 时间外评估\n",
    "psi_info_oot = sc.perf_psi(score={'train':train_score,'test':test_oot_score},label={'train':tra_y,'test':test_y_oot})\n",
    "psi_info_oot['psi'].set_index('variable').sort_values(by=['PSI']).to_csv('final_result_2/时间外相对于训练集的PSI.csv',encoding='gbk')"
   ]
  },
  {
   "cell_type": "code",
   "execution_count": null,
   "metadata": {
    "ExecuteTime": {
     "end_time": "2021-01-01T13:33:29.279329Z",
     "start_time": "2021-01-01T13:32:54.182Z"
    }
   },
   "outputs": [],
   "source": [
    "sc.iv(pd.concat([test_x_woe_oot,test_y_oot],axis=1),y='tag').to_csv('final_result_2/时间外特征IV.csv',encoding='gbk')"
   ]
  },
  {
   "cell_type": "code",
   "execution_count": null,
   "metadata": {
    "ExecuteTime": {
     "end_time": "2021-01-01T13:33:29.280330Z",
     "start_time": "2021-01-01T13:32:54.187Z"
    }
   },
   "outputs": [],
   "source": [
    "score_counts = pd.concat([pd.qcut(test_oot_score['score'],10,duplicates='drop'),test_oot_score['score'],test_y_oot],axis=1)\n",
    "score_counts.columns=['bins','score','tag']\n",
    "score_counts.groupby('bins').agg(total = ('tag','count'),bad=('tag','sum')).assign(\n",
    "        good = lambda x:x.total-x.bad,\n",
    "        BadRate = lambda x: x.bad/(x.bad+x.good),\n",
    "        DistrBad = lambda x: x.bad/sum(x.bad),\n",
    "        DistrGood = lambda x: x.good/sum(x.good)\n",
    ").to_csv('final_result_2/时间外得分情况.csv',encoding='gbk')"
   ]
  },
  {
   "cell_type": "code",
   "execution_count": null,
   "metadata": {
    "ExecuteTime": {
     "end_time": "2021-01-01T13:33:29.285167Z",
     "start_time": "2021-01-01T13:32:54.193Z"
    }
   },
   "outputs": [],
   "source": [
    "# 测试集评估\n",
    "psi_info_dt = sc.perf_psi(score={'train':train_score,'test':test_dt_score},label={'train':tra_y,'test':test_y_dt})\n",
    "psi_info_dt['psi'].set_index('variable').sort_values(by=['PSI']).to_csv('final_result_2/测试集相对于训练集的PSI.csv',encoding='gbk')\n",
    "sc.iv(pd.concat([test_x_woe_dt,test_y_dt],axis=1),y='tag').to_csv('final_result_2/测试集特征IV.csv',encoding='gbk')"
   ]
  },
  {
   "cell_type": "code",
   "execution_count": null,
   "metadata": {
    "ExecuteTime": {
     "end_time": "2021-01-01T13:33:29.288612Z",
     "start_time": "2021-01-01T13:32:54.198Z"
    }
   },
   "outputs": [],
   "source": [
    "score_counts = pd.concat([pd.qcut(test_dt_score['score'],10),test_dt_score['score'],test_y_dt],axis=1)\n",
    "score_counts.columns=['bins','score','tag']\n",
    "score_counts.groupby('bins').agg(total = ('tag','count'),bad=('tag','sum')).assign(\n",
    "        good = lambda x:x.total-x.bad,\n",
    "        BadRate = lambda x: x.bad/(x.bad+x.good),\n",
    "        DistrBad = lambda x: x.bad/sum(x.bad),\n",
    "        DistrGood = lambda x: x.good/sum(x.good)\n",
    ").to_csv('final_result_2/测试集得分情况.csv',encoding='gbk')"
   ]
  },
  {
   "cell_type": "code",
   "execution_count": null,
   "metadata": {
    "ExecuteTime": {
     "end_time": "2021-01-01T13:33:29.290433Z",
     "start_time": "2021-01-01T13:32:54.203Z"
    }
   },
   "outputs": [],
   "source": [
    "# 训练集评估\n",
    "score_counts = pd.concat([pd.qcut(train_score['score'],10),train_score['score'],tra_y],axis=1)\n",
    "score_counts.columns=['bins','score','tag']\n",
    "score_counts.groupby('bins').agg(total = ('tag','count'),bad=('tag','sum')).assign(\n",
    "        good = lambda x:x.total-x.bad,\n",
    "        BadRate = lambda x: x.bad/(x.bad+x.good),\n",
    "        DistrBad = lambda x: x.bad/sum(x.bad),\n",
    "        DistrGood = lambda x: x.good/sum(x.good)\n",
    ").to_csv('final_result_2/训练集得分情况.csv',encoding='gbk')"
   ]
  },
  {
   "cell_type": "code",
   "execution_count": null,
   "metadata": {
    "ExecuteTime": {
     "end_time": "2021-01-01T13:33:29.292462Z",
     "start_time": "2021-01-01T13:32:54.210Z"
    }
   },
   "outputs": [],
   "source": [
    "# 所有样本评估\n",
    "score_counts = pd.concat([pd.qcut(all_score['score'],10),all_score['score'],pd.concat([tra_y,test_y])],axis=1)\n",
    "score_counts.columns=['bins','score','tag']\n",
    "score_counts.groupby('bins').agg(total = ('tag','count'),bad=('tag','sum')).assign(\n",
    "        good = lambda x:x.total-x.bad,\n",
    "        BadRate = lambda x: x.bad/(x.bad+x.good),\n",
    "        DistrBad = lambda x: x.bad/sum(x.bad),\n",
    "        DistrGood = lambda x: x.good/sum(x.good)\n",
    ").to_csv('final_result_2/全部样本得分情况.csv',encoding='gbk')"
   ]
  },
  {
   "cell_type": "code",
   "execution_count": null,
   "metadata": {
    "ExecuteTime": {
     "end_time": "2021-01-01T13:33:29.294286Z",
     "start_time": "2021-01-01T13:32:54.214Z"
    },
    "scrolled": true
   },
   "outputs": [],
   "source": [
    "# 全部训练集\n",
    "psi_info_test = sc.perf_psi(score={'train':train_score,'test':test_score},label={'train':tra_y,'test':test_y})\n",
    "psi_info_test['psi'].set_index('variable').sort_values(by=['PSI']).to_csv('final_result_2/全部测试集相对于训练集的PSI.csv',encoding='gbk')\n",
    "sc.iv(pd.concat([test_x_woe,test_y_oot],axis=1),y='tag').to_csv('final_result_2/全部测试集特征IV.csv',encoding='gbk')"
   ]
  },
  {
   "cell_type": "code",
   "execution_count": null,
   "metadata": {
    "ExecuteTime": {
     "end_time": "2021-01-01T13:33:29.296478Z",
     "start_time": "2021-01-01T13:32:54.219Z"
    }
   },
   "outputs": [],
   "source": [
    "# 特征分布情况报告\n",
    "import pandas_profiling\n",
    "profile = pandas_profiling.ProfileReport(pd.concat([tra_x_woe,test_x_woe_dt,test_x_woe_oot]))\n",
    "profile.to_file('final_result_2/output.html')"
   ]
  },
  {
   "cell_type": "code",
   "execution_count": null,
   "metadata": {
    "ExecuteTime": {
     "end_time": "2021-01-01T13:33:29.298472Z",
     "start_time": "2021-01-01T13:32:54.223Z"
    }
   },
   "outputs": [],
   "source": [
    "tra_x_woe.corr().to_csv('final_result_2/corr.csv',encoding='gbk')"
   ]
  },
  {
   "cell_type": "code",
   "execution_count": null,
   "metadata": {
    "ExecuteTime": {
     "end_time": "2021-01-01T13:33:29.299980Z",
     "start_time": "2021-01-01T13:32:54.228Z"
    }
   },
   "outputs": [],
   "source": [
    "check_vif(tra_x_woe)"
   ]
  },
  {
   "cell_type": "code",
   "execution_count": null,
   "metadata": {
    "ExecuteTime": {
     "end_time": "2021-01-01T13:33:29.301732Z",
     "start_time": "2021-01-01T13:32:54.233Z"
    }
   },
   "outputs": [],
   "source": [
    "# 征信白户分数\n",
    "score = pd.read_excel('final_result_2/score.xlsx')"
   ]
  },
  {
   "cell_type": "code",
   "execution_count": null,
   "metadata": {
    "ExecuteTime": {
     "end_time": "2021-01-01T13:33:29.302729Z",
     "start_time": "2021-01-01T13:32:54.237Z"
    }
   },
   "outputs": [],
   "source": [
    "white_cust = pd.concat([score[['score','tag']],main_dataset['征信白户']],axis=1)"
   ]
  },
  {
   "cell_type": "code",
   "execution_count": null,
   "metadata": {
    "ExecuteTime": {
     "end_time": "2021-01-01T13:33:29.305856Z",
     "start_time": "2021-01-01T13:32:54.242Z"
    }
   },
   "outputs": [],
   "source": [
    "white_cust.loc[white_cust['征信白户'] == 1,'score'].plot.kde(title='征信白户分数分布',figsize=(10,6))"
   ]
  },
  {
   "cell_type": "code",
   "execution_count": null,
   "metadata": {
    "ExecuteTime": {
     "end_time": "2021-01-01T13:33:29.307889Z",
     "start_time": "2021-01-01T13:32:54.247Z"
    }
   },
   "outputs": [],
   "source": [
    "white_cust.to_csv('征信白户分数分布.csv',encoding='gbk')"
   ]
  },
  {
   "cell_type": "code",
   "execution_count": null,
   "metadata": {
    "ExecuteTime": {
     "end_time": "2021-01-01T13:33:29.309367Z",
     "start_time": "2021-01-01T13:32:54.251Z"
    }
   },
   "outputs": [],
   "source": [
    "# 导出分箱结果"
   ]
  },
  {
   "cell_type": "code",
   "execution_count": null,
   "metadata": {
    "ExecuteTime": {
     "end_time": "2021-01-01T13:33:29.311352Z",
     "start_time": "2021-01-01T13:32:54.256Z"
    }
   },
   "outputs": [],
   "source": [
    "fin_bin_df_dic = {k:d for k,d in rf_bins_dic.items() if k+'_woe' in tra_x_woe.columns}"
   ]
  },
  {
   "cell_type": "code",
   "execution_count": null,
   "metadata": {
    "ExecuteTime": {
     "end_time": "2021-01-01T13:33:29.313071Z",
     "start_time": "2021-01-01T13:32:54.261Z"
    }
   },
   "outputs": [],
   "source": [
    "woe_score_dic = {c:pd.concat([tra_x_woe.append(test_x_woe)[c].value_counts().reset_index()['index'],\n",
    "                   score[c.split('_woe')[0]+'_points'].value_counts().reset_index()['index']],axis=1) \n",
    "                 for c in tra_x_woe.columns}\n",
    "\n",
    "with pd.ExcelWriter('woe_score.xlsx') as writer:\n",
    "        for n,d in woe_score_dic.items():\n",
    "            d.columns=['woe','score']\n",
    "            nd = fin_bin_df_dic[n.split('_woe')[0]][['bin','woe']].merge(d)\n",
    "            nd.to_excel(writer, sheet_name=n)"
   ]
  },
  {
   "cell_type": "code",
   "execution_count": null,
   "metadata": {
    "ExecuteTime": {
     "end_time": "2021-01-01T13:33:29.314401Z",
     "start_time": "2021-01-01T13:32:54.265Z"
    }
   },
   "outputs": [],
   "source": [
    "score.index = main_dataset['授信申请编号']"
   ]
  },
  {
   "cell_type": "code",
   "execution_count": null,
   "metadata": {
    "ExecuteTime": {
     "end_time": "2021-01-01T13:33:29.316430Z",
     "start_time": "2021-01-01T13:32:54.270Z"
    }
   },
   "outputs": [],
   "source": [
    "filter_cust = score[(score['score']>503)&(score['score']<=549)]"
   ]
  },
  {
   "cell_type": "code",
   "execution_count": null,
   "metadata": {
    "ExecuteTime": {
     "end_time": "2021-01-01T13:33:29.317883Z",
     "start_time": "2021-01-01T13:32:54.278Z"
    }
   },
   "outputs": [],
   "source": [
    "sele_cust = main_dataset[main_dataset['授信申请编号'].isin(filter_cust.index)]"
   ]
  },
  {
   "cell_type": "code",
   "execution_count": null,
   "metadata": {
    "ExecuteTime": {
     "end_time": "2021-01-01T13:33:29.319505Z",
     "start_time": "2021-01-01T13:32:54.284Z"
    }
   },
   "outputs": [],
   "source": [
    "sele_cust = sele_cust[[ '授信申请编号','近6月内查询机构数-贷款审批','近6月内查询机构数-信用卡审批','非银金融机构未结清贷款笔数',\n",
    "                       '近5年累计逾期','近2月内查询机构数-贷款审批','mr_近6月内查询机构数-贷款审批','mr_近6月内查询机构数-信用卡审批',\n",
    "                       'mr_近2月内查询机构数-贷款审批','mr_近5年累计逾期','mr_非银金融机构未结清贷款笔数',\n",
    "                       '当前逾期','mr_当前逾期','tag']]"
   ]
  },
  {
   "cell_type": "code",
   "execution_count": null,
   "metadata": {
    "ExecuteTime": {
     "end_time": "2021-01-01T13:33:29.322430Z",
     "start_time": "2021-01-01T13:32:54.290Z"
    }
   },
   "outputs": [],
   "source": [
    "sele_cust['近6月内查询机构数-贷款审批超过6个'] = 0\n",
    "sele_cust.loc[sele_cust['近6月内查询机构数-贷款审批']>=6,'近6月内查询机构数-贷款审批超过6个'] = 1\n",
    "sele_cust['近6月内查询机构数-信用卡审批超过6个'] = 0\n",
    "sele_cust.loc[sele_cust['近6月内查询机构数-信用卡审批']>=6,'近6月内查询机构数-信用卡审批超过6个'] = 1\n",
    "sele_cust['未结清高成本融资超过3笔'] = 0\n",
    "sele_cust.loc[sele_cust['非银金融机构未结清贷款笔数']>=3,'未结清高成本融资超过3笔'] = 1\n",
    "sele_cust['近5年累计逾期超过10次'] = 0\n",
    "sele_cust.loc[sele_cust['近5年累计逾期']>10,'近5年累计逾期超过10次'] = 1"
   ]
  },
  {
   "cell_type": "code",
   "execution_count": null,
   "metadata": {
    "ExecuteTime": {
     "end_time": "2021-01-01T13:33:29.324116Z",
     "start_time": "2021-01-01T13:32:54.295Z"
    }
   },
   "outputs": [],
   "source": [
    "sele_cust['标签1'] = 0\n",
    "sele_cust.loc[sele_cust[['近6月内查询机构数-贷款审批超过6个','近6月内查询机构数-信用卡审批超过6个','未结清高成本融资超过3笔',\n",
    "                        '近5年累计逾期超过10次','当前逾期']].sum(axis=1)>=2,'标签1'] = 1"
   ]
  },
  {
   "cell_type": "code",
   "execution_count": null,
   "metadata": {
    "ExecuteTime": {
     "end_time": "2021-01-01T13:33:29.325119Z",
     "start_time": "2021-01-01T13:32:54.299Z"
    }
   },
   "outputs": [],
   "source": [
    "sele_cust['标签2'] = 0\n",
    "sele_cust.loc[sele_cust['近2月内查询机构数-贷款审批']>=5,'标签2'] = 1"
   ]
  },
  {
   "cell_type": "code",
   "execution_count": null,
   "metadata": {
    "ExecuteTime": {
     "end_time": "2021-01-01T13:33:29.329331Z",
     "start_time": "2021-01-01T13:32:54.303Z"
    }
   },
   "outputs": [],
   "source": [
    "sele_cust['标签3'] = 0\n",
    "sele_cust.loc[sele_cust['近6月内查询机构数-贷款审批']>=8,'标签3'] = 1"
   ]
  },
  {
   "cell_type": "code",
   "execution_count": null,
   "metadata": {
    "ExecuteTime": {
     "end_time": "2021-01-01T13:33:29.331393Z",
     "start_time": "2021-01-01T13:32:54.310Z"
    }
   },
   "outputs": [],
   "source": [
    "sele_cust['mr_近6月内查询机构数-贷款审批超过6个'] = 0\n",
    "sele_cust.loc[sele_cust['mr_近6月内查询机构数-贷款审批']>=6,'mr_近6月内查询机构数-贷款审批超过6个'] = 1\n",
    "sele_cust['mr_近6月内查询机构数-信用卡审批超过6个'] = 0\n",
    "sele_cust.loc[sele_cust['mr_近6月内查询机构数-信用卡审批']>=6,'mr_近6月内查询机构数-信用卡审批超过6个'] = 1\n",
    "sele_cust['mr_未结清高成本融资超过3笔'] = 0\n",
    "sele_cust.loc[sele_cust['mr_非银金融机构未结清贷款笔数']>=3,'mr_未结清高成本融资超过3笔'] = 1\n",
    "sele_cust['mr_近5年累计逾期超过10次'] = 0\n",
    "sele_cust.loc[sele_cust['mr_近5年累计逾期']>10,'mr_近5年累计逾期超过10次'] = 1"
   ]
  },
  {
   "cell_type": "code",
   "execution_count": null,
   "metadata": {
    "ExecuteTime": {
     "end_time": "2021-01-01T13:33:29.332854Z",
     "start_time": "2021-01-01T13:32:54.314Z"
    }
   },
   "outputs": [],
   "source": [
    "sele_cust['标签4'] = 0\n",
    "sele_cust.loc[sele_cust[['mr_近6月内查询机构数-贷款审批超过6个','mr_近6月内查询机构数-信用卡审批超过6个','mr_未结清高成本融资超过3笔',\n",
    "                        'mr_近5年累计逾期超过10次','mr_当前逾期']].sum(axis=1)>=2,'标签4'] = 1"
   ]
  },
  {
   "cell_type": "code",
   "execution_count": null,
   "metadata": {
    "ExecuteTime": {
     "end_time": "2021-01-01T13:33:29.334380Z",
     "start_time": "2021-01-01T13:32:54.318Z"
    }
   },
   "outputs": [],
   "source": [
    "sele_cust_bad = sele_cust.loc[(sele_cust['tag']==1,sele_cust.columns.str.contains('标签|授信申请|tag'))]\n",
    "sele_cust_good = sele_cust.loc[(sele_cust['tag']==0,sele_cust.columns.str.contains('标签|授信申请|tag'))]"
   ]
  },
  {
   "cell_type": "code",
   "execution_count": null,
   "metadata": {
    "ExecuteTime": {
     "end_time": "2021-01-01T13:33:29.336375Z",
     "start_time": "2021-01-01T13:32:54.324Z"
    }
   },
   "outputs": [],
   "source": [
    "sele_cust_bad.to_csv('坏客户命中情况.csv',encoding='GBK')\n",
    "sele_cust_good.to_csv('好客户命中情况.csv',encoding='GBK')"
   ]
  },
  {
   "cell_type": "code",
   "execution_count": null,
   "metadata": {
    "ExecuteTime": {
     "end_time": "2021-01-01T13:33:29.338369Z",
     "start_time": "2021-01-01T13:32:54.329Z"
    }
   },
   "outputs": [],
   "source": [
    "sele_cust.to_csv('原始数据.csv',encoding='GBK')"
   ]
  },
  {
   "cell_type": "code",
   "execution_count": null,
   "metadata": {
    "ExecuteTime": {
     "end_time": "2021-01-01T13:33:29.340365Z",
     "start_time": "2021-01-01T13:32:54.333Z"
    }
   },
   "outputs": [],
   "source": [
    "sele_cust_feas = main_dataset.loc[main_dataset['授信申请编号'].isin(sele_cust['授信申请编号']),[c.split('_points')[0] for c in score.columns if 'score' not in c]]\n",
    "sele_cust_feas['授信申请编号'] = main_dataset.loc[sele_cust.index,'授信申请编号']\n",
    "sele_cust_feas.to_csv('入模原始指标.csv',encoding='gbk')"
   ]
  },
  {
   "cell_type": "code",
   "execution_count": null,
   "metadata": {
    "ExecuteTime": {
     "end_time": "2021-01-01T13:33:29.342721Z",
     "start_time": "2021-01-01T13:32:54.338Z"
    }
   },
   "outputs": [],
   "source": [
    "sele_cust_feas.loc[:,sele_cust_feas.columns.str.contains('逾期|查询')] = sele_cust_feas.fillna(0)\n",
    "sele_cust_feas.to_csv('入模指标.csv',encoding='gbk')"
   ]
  },
  {
   "cell_type": "code",
   "execution_count": null,
   "metadata": {
    "ExecuteTime": {
     "end_time": "2021-01-01T13:33:29.343717Z",
     "start_time": "2021-01-01T13:32:54.343Z"
    }
   },
   "outputs": [],
   "source": [
    "for c in sele_cust.columns:\n",
    "    if ('编' in c )|('名称' in c)|('证' in c)|('时间' in c )|('tag' in c ):\n",
    "        pass\n",
    "    else:\n",
    "        try:\n",
    "            f = plt.figure()\n",
    "            f = sele_cust[sele_cust['tag'] == 0][c].value_counts().plot.bar(title=c,figsize=(12,5),use_index=True)\n",
    "            plt.savefig('distplot/good/{}'.format(c))\n",
    "        except:\n",
    "            pass"
   ]
  },
  {
   "cell_type": "code",
   "execution_count": null,
   "metadata": {
    "ExecuteTime": {
     "end_time": "2021-01-01T13:33:29.346266Z",
     "start_time": "2021-01-01T13:32:54.348Z"
    }
   },
   "outputs": [],
   "source": [
    "sele_cust[sele_cust['tag'] == 1][c].value_counts()"
   ]
  },
  {
   "cell_type": "code",
   "execution_count": null,
   "metadata": {},
   "outputs": [],
   "source": []
  }
 ],
 "metadata": {
  "kernelspec": {
   "display_name": "Python 3",
   "language": "python",
   "name": "python3"
  },
  "language_info": {
   "codemirror_mode": {
    "name": "ipython",
    "version": 3
   },
   "file_extension": ".py",
   "mimetype": "text/x-python",
   "name": "python",
   "nbconvert_exporter": "python",
   "pygments_lexer": "ipython3",
   "version": "3.8.3-final"
  },
  "toc": {
   "base_numbering": 1,
   "nav_menu": {},
   "number_sections": false,
   "sideBar": true,
   "skip_h1_title": false,
   "title_cell": "Table of Contents",
   "title_sidebar": "Contents",
   "toc_cell": false,
   "toc_position": {},
   "toc_section_display": true,
   "toc_window_display": false
  },
  "varInspector": {
   "cols": {
    "lenName": 16,
    "lenType": 16,
    "lenVar": 40
   },
   "kernels_config": {
    "python": {
     "delete_cmd_postfix": "",
     "delete_cmd_prefix": "del ",
     "library": "var_list.py",
     "varRefreshCmd": "print(var_dic_list())"
    },
    "r": {
     "delete_cmd_postfix": ") ",
     "delete_cmd_prefix": "rm(",
     "library": "var_list.r",
     "varRefreshCmd": "cat(var_dic_list()) "
    }
   },
   "types_to_exclude": [
    "module",
    "function",
    "builtin_function_or_method",
    "instance",
    "_Feature"
   ],
   "window_display": false
  }
 },
 "nbformat": 4,
 "nbformat_minor": 4
}