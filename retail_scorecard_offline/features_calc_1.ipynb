{
 "cells": [
  {
   "cell_type": "code",
   "execution_count": 1,
   "metadata": {},
   "outputs": [],
   "source": [
    "import pandas as pd\n",
    "import numpy as np\n",
    "import re\n",
    "import datetime\n",
    "from functools import reduce\n",
    "from sklearn.preprocessing import OneHotEncoder\n",
    "pd.set_option('display.max_columns',100)"
   ]
  },
  {
   "cell_type": "code",
   "execution_count": 2,
   "metadata": {},
   "outputs": [],
   "source": [
    "tbl_per_loan_card_info = pd.read_excel('ciis1112/tbl_per_loan_card_info.xlsx')"
   ]
  },
  {
   "cell_type": "code",
   "execution_count": 3,
   "metadata": {},
   "outputs": [],
   "source": [
    "record_detail = pd.read_excel('ciis1112/tbl_per_recorddetail.xlsx')"
   ]
  },
  {
   "cell_type": "code",
   "execution_count": 4,
   "metadata": {},
   "outputs": [],
   "source": [
    "tbl_per_info_summary = pd.read_excel('ciis1112/tbl_per_info_summary.xlsx')"
   ]
  },
  {
   "cell_type": "code",
   "execution_count": 5,
   "metadata": {},
   "outputs": [],
   "source": [
    "tbl_per_loan_info = pd.read_excel('ciis1112/tbl_per_loan_info.xlsx')"
   ]
  },
  {
   "cell_type": "code",
   "execution_count": 6,
   "metadata": {},
   "outputs": [],
   "source": [
    "tbl_per_person_info = pd.read_excel('ciis1112/tbl_per_personal_info.xls')\n",
    "tbl_per_overdue_record = pd.read_excel('ciis1112/tbl_per_overduerecord.xls')"
   ]
  },
  {
   "cell_type": "code",
   "execution_count": 7,
   "metadata": {},
   "outputs": [],
   "source": [
    "tbl_per_result_info = pd.read_excel('ciis1112/tbl_per_result_info.xls')"
   ]
  },
  {
   "cell_type": "code",
   "execution_count": 8,
   "metadata": {},
   "outputs": [],
   "source": [
    "tbl_per_result_info.rename(columns={'REPORT_SN':'REPORT_ID'},inplace=True)"
   ]
  },
  {
   "cell_type": "code",
   "execution_count": 9,
   "metadata": {},
   "outputs": [],
   "source": [
    "tbl_per_result_info = tbl_per_result_info[['REPORT_ID','QUERY_REASON']]"
   ]
  },
  {
   "cell_type": "code",
   "execution_count": 10,
   "metadata": {
    "scrolled": true
   },
   "outputs": [],
   "source": [
    "main_table = pd.read_excel('ciis1112/table1030_temp.xlsx')  \n",
    "main_table = main_table.drop_duplicates()"
   ]
  },
  {
   "cell_type": "code",
   "execution_count": 11,
   "metadata": {},
   "outputs": [],
   "source": [
    "main_table.rename(columns={'report_id':'REPORT_ID'},inplace=True)\n",
    "temp1 = main_table.merge(tbl_per_result_info,on=['REPORT_ID'],how='inner')\n",
    "# temp1 = temp1[temp1['QUERY_REASON'] == '贷款审批']"
   ]
  },
  {
   "cell_type": "code",
   "execution_count": 12,
   "metadata": {},
   "outputs": [],
   "source": [
    "temp1 = main_table.merge(tbl_per_result_info,on=['REPORT_ID'],how='inner')\n",
    "# temp1 = temp1[temp1['QUERY_REASON'] == '贷款审批']"
   ]
  },
  {
   "cell_type": "code",
   "execution_count": 13,
   "metadata": {},
   "outputs": [],
   "source": [
    "dy = pd.read_excel('信贷数据调阅范围.xlsx')[['证件号码','基准时间','配偶客编','配偶证件号码']]\n",
    "dy = dy.drop_duplicates()"
   ]
  },
  {
   "cell_type": "code",
   "execution_count": 14,
   "metadata": {},
   "outputs": [],
   "source": [
    "dy_mr = dy.rename(columns={'证件号码':'配偶证件号码','配偶证件号码':'证件号码'})"
   ]
  },
  {
   "cell_type": "code",
   "execution_count": 15,
   "metadata": {},
   "outputs": [],
   "source": [
    "temp1.rename(columns={'cert_no':'证件号码','date':'基准时间'},inplace=True)\n",
    "final_main_1 = dy.merge(temp1[temp1['QUERY_REASON']=='贷款审批'],on=['证件号码','基准时间'],how='left')\n",
    "final_main_1['date_delta'] = abs((final_main_1['基准时间'].astype('datetime64[ns]') - final_main_1['report_date'].astype('datetime64[ns]')).dt.days)\n",
    "final_main_2 = final_main_1[final_main_1['QUERY_REASON'].isnull()][['证件号码','基准时间']]\n",
    "final_main_1 = final_main_1[~final_main_1['QUERY_REASON'].isnull()].sort_values(['证件号码','date_delta'],ascending=[0,1]).groupby('证件号码').first()\n",
    "final_main_2 = final_main_2.merge(temp1)\n",
    "final_main_2['date_delta'] = abs((final_main_2['基准时间'].astype('datetime64[ns]') - final_main_2['report_date'].astype('datetime64[ns]')).dt.days)\n",
    "final_main_2 = final_main_2.sort_values(['证件号码','date_delta'],ascending=[0,1]).groupby('证件号码').first()\n",
    "final_main = final_main_1.append(final_main_2)\n",
    "final_main = final_main.reset_index()\n",
    "final_main.rename(columns = {'report_date':'REPORTDATE'},inplace=True)\n",
    "main_table_use = final_main.copy()"
   ]
  },
  {
   "cell_type": "code",
   "execution_count": 16,
   "metadata": {},
   "outputs": [],
   "source": [
    "final_main_mr_1 = dy_mr.merge(temp1[temp1['QUERY_REASON']=='贷款审批'],on=['证件号码','基准时间'],how='left')\n",
    "final_main_mr_1['date_delta'] = abs((final_main_mr_1['基准时间'].astype('datetime64[ns]') - final_main_mr_1['report_date'].astype('datetime64[ns]')).dt.days)\n",
    "final_main_mr_2 = final_main_mr_1[final_main_mr_1['QUERY_REASON'].isnull()][['证件号码','基准时间']]\n",
    "final_main_mr_1 = final_main_mr_1[~final_main_mr_1['QUERY_REASON'].isnull()].sort_values(['证件号码','date_delta'],ascending=[0,1]).groupby('证件号码').first()\n",
    "final_main_mr_2 = final_main_mr_2.merge(temp1)\n",
    "final_main_mr_2['date_delta'] = abs((final_main_mr_2['基准时间'].astype('datetime64[ns]') - final_main_mr_2['report_date'].astype('datetime64[ns]')).dt.days)\n",
    "final_main_mr_2 = final_main_mr_2.sort_values(['证件号码','date_delta'],ascending=[0,1]).groupby('证件号码').first()\n",
    "final_main_mr = final_main_mr_1.append(final_main_mr_2)\n",
    "final_main_mr = final_main_mr.reset_index()\n",
    "final_main_mr.rename(columns = {'report_date':'REPORTDATE'},inplace=True)\n",
    "final_main_mr = final_main_mr.dropna(subset=['REPORT_ID'])\n",
    "main_table_use_mr = final_main_mr.copy()"
   ]
  },
  {
   "cell_type": "code",
   "execution_count": 17,
   "metadata": {},
   "outputs": [],
   "source": [
    "final_main_mr.rename(columns={'证件号码':'配偶证件号码','配偶证件号码':'证件号码'},inplace=True)"
   ]
  },
  {
   "cell_type": "code",
   "execution_count": 18,
   "metadata": {},
   "outputs": [],
   "source": [
    "# final_main.merge(final_main_mr,on=['证件号码','基准时间'],how='left').drop(['配偶客编_x','配偶证件号码_x'],axis=1)"
   ]
  },
  {
   "cell_type": "code",
   "execution_count": null,
   "metadata": {},
   "outputs": [],
   "source": []
  },
  {
   "cell_type": "code",
   "execution_count": 19,
   "metadata": {},
   "outputs": [],
   "source": [
    "# temp = pd.read_excel('loan_data/table1030_temp.xls')\n",
    "# temp = temp.drop_duplicates()"
   ]
  },
  {
   "cell_type": "code",
   "execution_count": 20,
   "metadata": {},
   "outputs": [],
   "source": [
    "# main_table_use_mr = main_table.rename(columns={'客户编号':'cust_no_1','cert_no':'cert_no_1','配偶客编':'客户编号',\n",
    "#                                                '配偶证件号码':'cert_no'})\n",
    "# main_table_use_mr = main_table_use_mr.merge(temp,on=['cert_no','date'],how='inner')\n",
    "# main_table_use_mr = main_table_use_mr[~main_table_use_mr['report_id'].isnull()]\n",
    "# main_table_use_mr.rename(columns={'report_id':'REPORT_ID','report_date':'REPORTDATE','date':'DATE'},inplace=True)\n",
    "# # main_table_use_mr.drop('report_date',axis=1,inplace=True)"
   ]
  },
  {
   "cell_type": "code",
   "execution_count": 21,
   "metadata": {},
   "outputs": [],
   "source": [
    "# main_table = main_table.merge(temp,on=['cert_no','date'],how='left')\n",
    "# main_table.rename(columns={'report_id':'REPORT_ID','report_date':'REPORTDATE','date':'DATE'},inplace=True)\n",
    "# # main_table.drop('report_date',axis=1,inplace=True)\n",
    "# main_table_use = main_table.copy()\n",
    "# main_table_use = main_table_use[~main_table_use['REPORT_ID'].isnull()]"
   ]
  },
  {
   "cell_type": "code",
   "execution_count": 22,
   "metadata": {},
   "outputs": [],
   "source": [
    "all_merge = lambda x,y: x.merge(y,on=['REPORT_ID'],how='left')"
   ]
  },
  {
   "cell_type": "markdown",
   "metadata": {},
   "source": [
    "## 1.累计逾期与最大逾期（近3月，近6月，近12月，近24月）"
   ]
  },
  {
   "cell_type": "code",
   "execution_count": 23,
   "metadata": {},
   "outputs": [],
   "source": [
    "def cumsum_overdue(s):\n",
    "    fetch_list = re.findall('(\\d)',s)\n",
    "    return len(fetch_list)\n",
    "\n",
    "def max_overdue(s):\n",
    "    fetch_list = re.findall('(\\d)',s)\n",
    "    if len(fetch_list) < 1:\n",
    "        return 0\n",
    "    else:\n",
    "        return int(max(fetch_list))"
   ]
  },
  {
   "cell_type": "markdown",
   "metadata": {},
   "source": [
    "### 1.1 普通贷款逾期数据"
   ]
  },
  {
   "cell_type": "code",
   "execution_count": 24,
   "metadata": {},
   "outputs": [],
   "source": [
    "overdue_data_1 = tbl_per_loan_info[['REPORT_ID','LATEST24STATE','LAST24MONTHBEGINMONTH','LAST24MONTHENDMONTH']]\n",
    "date_range_24_1 = overdue_data_1.groupby('REPORT_ID')[['LAST24MONTHBEGINMONTH','LAST24MONTHENDMONTH']].first()\n",
    "overdue_data_1 = overdue_data_1.dropna(subset=['LATEST24STATE'])\n",
    "overdue_data_1['LATEST3STATE'] = overdue_data_1['LATEST24STATE'].str.split(',').apply(lambda x:','.join(x[-4:]))\n",
    "overdue_data_1['LATEST6STATE'] = overdue_data_1['LATEST24STATE'].str.split(',').apply(lambda x:','.join(x[-7:]))\n",
    "overdue_data_1['LATEST12STATE'] = overdue_data_1['LATEST24STATE'].str.split(',').apply(lambda x:','.join(x[-13:]))\n",
    "overdue_data_1['max_overdue_3'] = overdue_data_1['LATEST3STATE'].apply(max_overdue)\n",
    "overdue_data_1['cumsum_overdue_3'] = overdue_data_1['LATEST3STATE'].apply(cumsum_overdue)\n",
    "overdue_data_1['max_overdue_6'] = overdue_data_1['LATEST6STATE'].apply(max_overdue)\n",
    "overdue_data_1['cumsum_overdue_6'] = overdue_data_1['LATEST6STATE'].apply(cumsum_overdue)\n",
    "overdue_data_1['max_overdue_12'] = overdue_data_1['LATEST12STATE'].apply(max_overdue)\n",
    "overdue_data_1['cumsum_overdue_12'] = overdue_data_1['LATEST12STATE'].apply(cumsum_overdue)\n",
    "overdue_data_1['max_overdue_24'] = overdue_data_1['LATEST24STATE'].apply(max_overdue)\n",
    "overdue_data_1['cumsum_overdue_24'] = overdue_data_1['LATEST24STATE'].apply(cumsum_overdue)\n",
    "overdue_data_1_3 = overdue_data_1.groupby('REPORT_ID').agg({'max_overdue_3':'max','cumsum_overdue_3':'sum'})\n",
    "overdue_data_1_6 = overdue_data_1.groupby('REPORT_ID').agg({'max_overdue_6':'max','cumsum_overdue_6':'sum'})\n",
    "overdue_data_1_12 = overdue_data_1.groupby('REPORT_ID').agg({'max_overdue_12':'max','cumsum_overdue_12':'sum'})\n",
    "overdue_data_1_24 = overdue_data_1.groupby('REPORT_ID').agg({'max_overdue_24':'max','cumsum_overdue_24':'sum'})\n",
    "# cumsum_overdue_24['CUMSUM_OVERDUE_24'] = cumsum_overdue_24['LATEST24STATE'].apply(max_overdue)"
   ]
  },
  {
   "cell_type": "markdown",
   "metadata": {},
   "source": [
    "### 1.2 贷记卡贷款逾期数据"
   ]
  },
  {
   "cell_type": "code",
   "execution_count": 25,
   "metadata": {},
   "outputs": [],
   "source": [
    "overdue_data_2 = tbl_per_loan_card_info[['REPORT_ID','LAST_24STATE','BEGINMONTH_24MONTH','ENDMONTH_24MONTH']]\n",
    "# date_range_24_2 = overdue_data_2.groupby('REPORT_ID')[['BEGINMONTH_24MONTH','ENDMONTH_24MONTH']].first()\n",
    "overdue_data_2 = overdue_data_2.dropna(subset=['LAST_24STATE'])\n",
    "overdue_data_2['LATEST3STATE'] = overdue_data_2['LAST_24STATE'].str.split(',').apply(lambda x:','.join(x[-4:]))\n",
    "overdue_data_2['LATEST6STATE'] = overdue_data_2['LAST_24STATE'].str.split(',').apply(lambda x:','.join(x[-7:]))\n",
    "overdue_data_2['LATEST12STATE'] = overdue_data_2['LAST_24STATE'].str.split(',').apply(lambda x:','.join(x[-13:]))\n",
    "overdue_data_2['max_overdue_3'] = overdue_data_2['LATEST3STATE'].apply(max_overdue)\n",
    "overdue_data_2['cumsum_overdue_3'] = overdue_data_2['LATEST3STATE'].apply(cumsum_overdue)\n",
    "overdue_data_2['max_overdue_6'] = overdue_data_2['LATEST6STATE'].apply(max_overdue)\n",
    "overdue_data_2['cumsum_overdue_6'] = overdue_data_2['LATEST6STATE'].apply(cumsum_overdue)\n",
    "overdue_data_2['max_overdue_12'] = overdue_data_2['LATEST12STATE'].apply(max_overdue)\n",
    "overdue_data_2['cumsum_overdue_12'] = overdue_data_2['LATEST12STATE'].apply(cumsum_overdue)\n",
    "overdue_data_2['max_overdue_24'] = overdue_data_2['LAST_24STATE'].apply(max_overdue)\n",
    "overdue_data_2['cumsum_overdue_24'] = overdue_data_2['LAST_24STATE'].apply(cumsum_overdue)\n",
    "overdue_data_2_3 = overdue_data_2.groupby('REPORT_ID').agg({'max_overdue_3':'max','cumsum_overdue_3':'sum'})\n",
    "overdue_data_2_6 = overdue_data_2.groupby('REPORT_ID').agg({'max_overdue_6':'max','cumsum_overdue_6':'sum'})\n",
    "overdue_data_2_12 = overdue_data_2.groupby('REPORT_ID').agg({'max_overdue_12':'max','cumsum_overdue_12':'sum'})\n",
    "overdue_data_2_24 = overdue_data_2.groupby('REPORT_ID').agg({'max_overdue_24':'max','cumsum_overdue_24':'sum'})"
   ]
  },
  {
   "cell_type": "markdown",
   "metadata": {},
   "source": [
    "### 1.3 已结清累计逾期特征（近5年）"
   ]
  },
  {
   "cell_type": "code",
   "execution_count": 26,
   "metadata": {},
   "outputs": [],
   "source": [
    "overdue_record = tbl_per_overdue_record[['REPORT_ID','LASTMONTHS','MONTH']]\n",
    "overdue_record_hs = overdue_record.groupby('REPORT_ID').agg({'LASTMONTHS':['max','sum']})\n",
    "overdue_record_hs = overdue_record_hs['LASTMONTHS'].reset_index()\n",
    "overdue_record_hs.columns = ['REPORT_ID','近5年已结清最大逾期','近5年已结清累计逾期']"
   ]
  },
  {
   "cell_type": "code",
   "execution_count": 27,
   "metadata": {},
   "outputs": [],
   "source": [
    "# tbl_per_overdue_record['MONTH'].astype(str).apply(lambda x:''.join(x.split('.'\n",
    "def minus_month_6(x):\n",
    "    if x.month <= 6:\n",
    "        mins = x.month - 6\n",
    "        month = 12+mins\n",
    "        return x.replace(x.year-1,month,1)\n",
    "    else:\n",
    "        return x.replace(x.year,x.month-6,1)\n",
    "    \n",
    "def minus_month_3(x):\n",
    "    if x.month <= 3:\n",
    "        mins = x.month - 3\n",
    "        month = 12+mins\n",
    "        return x.replace(x.year-1,month,1)\n",
    "    else:\n",
    "        return x.replace(x.year,x.month-3,1)\n",
    "    \n",
    "overdue_data_3 = overdue_record.merge(date_range_24_1.reset_index())\n",
    "overdue_data_3 = overdue_data_3.dropna(subset=['MONTH','LAST24MONTHBEGINMONTH','LAST24MONTHENDMONTH'])\n",
    "overdue_data_3['MONTH'] = pd.to_datetime(overdue_data_3['MONTH'].astype(str).apply(lambda x: x[:4]+'-'+x[5:]))\n",
    "overdue_data_3['LAST24MONTHBEGINMONTH'] = pd.to_datetime(overdue_data_3['LAST24MONTHBEGINMONTH'].astype(str).apply(lambda x: x[:4]+'-'+x[5:]))\n",
    "overdue_data_3['LAST24MONTHENDMONTH'] = pd.to_datetime(overdue_data_3['LAST24MONTHENDMONTH'].astype(str).apply(lambda x: x[:4]+'-'+x[5:]))\n",
    "overdue_data_3['LAST3MONTHBEGINMONTH'] = overdue_data_3['LAST24MONTHENDMONTH'].apply(minus_month_3)\n",
    "overdue_data_3['LAST6MONTHBEGINMONTH'] = overdue_data_3['LAST24MONTHENDMONTH'].apply(minus_month_6)\n",
    "overdue_data_3['LAST12MONTHBEGINMONTH'] = overdue_data_3['LAST24MONTHENDMONTH'].apply(lambda x: x.replace(x.year-1,x.month))\n",
    "overdue_data_3_24 = overdue_data_3[(overdue_data_3['MONTH']>=overdue_data_3['LAST24MONTHBEGINMONTH']\n",
    "                                   )&(overdue_data_3['MONTH']<=overdue_data_3['LAST24MONTHENDMONTH']\n",
    "                                     )]\n",
    "overdue_data_3_12 = overdue_data_3[overdue_data_3['MONTH']>=overdue_data_3['LAST12MONTHBEGINMONTH']]\n",
    "overdue_data_3_6 = overdue_data_3[overdue_data_3['MONTH']>=overdue_data_3['LAST6MONTHBEGINMONTH']]\n",
    "overdue_data_3_3 = overdue_data_3[overdue_data_3['MONTH']>=overdue_data_3['LAST3MONTHBEGINMONTH']]\n",
    "overdue_data_3_24 = overdue_data_3_24.groupby('REPORT_ID').agg({'LASTMONTHS':['sum','max']}).reset_index()\n",
    "overdue_data_3_24.columns = ['REPORT_ID','max_overdue_24','cumsum_overdue_24']\n",
    "overdue_data_3_12 = overdue_data_3_12.groupby('REPORT_ID').agg({'LASTMONTHS':['max','sum']}).reset_index()\n",
    "overdue_data_3_12.columns = ['REPORT_ID','max_overdue_12','cumsum_overdue_12']\n",
    "overdue_data_3_6 = overdue_data_3_6.groupby('REPORT_ID').agg({'LASTMONTHS':['max','sum']}).reset_index()\n",
    "overdue_data_3_6.columns = ['REPORT_ID','max_overdue_6','cumsum_overdue_6']\n",
    "overdue_data_3_3 = overdue_data_3_3.groupby('REPORT_ID').agg({'LASTMONTHS':['max','sum']}).reset_index()\n",
    "overdue_data_3_3.columns = ['REPORT_ID','max_overdue_3','cumsum_overdue_3']"
   ]
  },
  {
   "cell_type": "code",
   "execution_count": 28,
   "metadata": {},
   "outputs": [],
   "source": [
    "overdue_data_2_all = reduce(lambda x,y: x.merge(y,on='REPORT_ID',how='outer'),[overdue_data_2_3,overdue_data_2_6,overdue_data_2_12,overdue_data_2_24])\n",
    "overdue_data_1_all = reduce(lambda x,y: x.merge(y,on='REPORT_ID',how='outer'),[overdue_data_1_3,overdue_data_1_6,overdue_data_1_12,overdue_data_1_24])\n",
    "overdue_data_3_all = reduce(lambda x,y: x.merge(y,on='REPORT_ID',how='outer'),[overdue_data_3_3,overdue_data_3_6,overdue_data_3_12,overdue_data_3_24])"
   ]
  },
  {
   "cell_type": "code",
   "execution_count": 29,
   "metadata": {},
   "outputs": [],
   "source": [
    "overdue_data_3_all = overdue_data_3_all.set_index('REPORT_ID')"
   ]
  },
  {
   "cell_type": "code",
   "execution_count": 30,
   "metadata": {},
   "outputs": [],
   "source": [
    "overdue_data_all = overdue_data_1_all.merge(overdue_data_2_all,on='REPORT_ID',how='outer')\n",
    "overdue_data_all = overdue_data_all.merge(overdue_data_3_all,on='REPORT_ID',how='outer')\n",
    "for c in overdue_data_1_all.columns:\n",
    "    cols = overdue_data_all.columns\n",
    "    if 'max' in c:\n",
    "        overdue_data_all[c] = overdue_data_all[cols[cols.str.contains(c)]].max(axis=1)\n",
    "    else:\n",
    "        overdue_data_all[c] = overdue_data_all[cols[overdue_data_all.columns.str.contains(c)]].sum(axis=1)\n",
    "overdue_data_all = overdue_data_all.iloc[:,-8:]"
   ]
  },
  {
   "cell_type": "code",
   "execution_count": 31,
   "metadata": {},
   "outputs": [],
   "source": [
    "overdue_data_all.columns = ['近3月最大逾期','近3月累计逾期','近6月最大逾期','近6月累计逾期','近12月最大逾期','近12月累计逾期','近24月最大逾期','近24月累计逾期']\n",
    "overdue_data_all = overdue_data_all.reset_index()"
   ]
  },
  {
   "cell_type": "code",
   "execution_count": 32,
   "metadata": {
    "scrolled": true
   },
   "outputs": [
    {
     "data": {
      "text/html": [
       "<div>\n",
       "<style scoped>\n",
       "    .dataframe tbody tr th:only-of-type {\n",
       "        vertical-align: middle;\n",
       "    }\n",
       "\n",
       "    .dataframe tbody tr th {\n",
       "        vertical-align: top;\n",
       "    }\n",
       "\n",
       "    .dataframe thead th {\n",
       "        text-align: right;\n",
       "    }\n",
       "</style>\n",
       "<table border=\"1\" class=\"dataframe\">\n",
       "  <thead>\n",
       "    <tr style=\"text-align: right;\">\n",
       "      <th></th>\n",
       "      <th>REPORT_ID</th>\n",
       "      <th>近3月最大逾期</th>\n",
       "      <th>近3月累计逾期</th>\n",
       "      <th>近6月最大逾期</th>\n",
       "      <th>近6月累计逾期</th>\n",
       "      <th>近12月最大逾期</th>\n",
       "      <th>近12月累计逾期</th>\n",
       "      <th>近24月最大逾期</th>\n",
       "      <th>近24月累计逾期</th>\n",
       "    </tr>\n",
       "  </thead>\n",
       "  <tbody>\n",
       "    <tr>\n",
       "      <th>0</th>\n",
       "      <td>2018111300006460106371</td>\n",
       "      <td>0.0</td>\n",
       "      <td>0.0</td>\n",
       "      <td>0.0</td>\n",
       "      <td>0.0</td>\n",
       "      <td>0.0</td>\n",
       "      <td>0.0</td>\n",
       "      <td>0.0</td>\n",
       "      <td>0.0</td>\n",
       "    </tr>\n",
       "    <tr>\n",
       "      <th>1</th>\n",
       "      <td>2018111300006460120325</td>\n",
       "      <td>0.0</td>\n",
       "      <td>0.0</td>\n",
       "      <td>0.0</td>\n",
       "      <td>0.0</td>\n",
       "      <td>0.0</td>\n",
       "      <td>0.0</td>\n",
       "      <td>0.0</td>\n",
       "      <td>0.0</td>\n",
       "    </tr>\n",
       "    <tr>\n",
       "      <th>2</th>\n",
       "      <td>2018111300006460126410</td>\n",
       "      <td>1.0</td>\n",
       "      <td>1.0</td>\n",
       "      <td>1.0</td>\n",
       "      <td>1.0</td>\n",
       "      <td>1.0</td>\n",
       "      <td>1.0</td>\n",
       "      <td>1.0</td>\n",
       "      <td>2.0</td>\n",
       "    </tr>\n",
       "    <tr>\n",
       "      <th>3</th>\n",
       "      <td>2018111300006460193304</td>\n",
       "      <td>0.0</td>\n",
       "      <td>0.0</td>\n",
       "      <td>0.0</td>\n",
       "      <td>0.0</td>\n",
       "      <td>0.0</td>\n",
       "      <td>0.0</td>\n",
       "      <td>0.0</td>\n",
       "      <td>0.0</td>\n",
       "    </tr>\n",
       "    <tr>\n",
       "      <th>4</th>\n",
       "      <td>2018111300006460216344</td>\n",
       "      <td>0.0</td>\n",
       "      <td>0.0</td>\n",
       "      <td>1.0</td>\n",
       "      <td>1.0</td>\n",
       "      <td>1.0</td>\n",
       "      <td>1.0</td>\n",
       "      <td>1.0</td>\n",
       "      <td>1.0</td>\n",
       "    </tr>\n",
       "  </tbody>\n",
       "</table>\n",
       "</div>"
      ],
      "text/plain": [
       "                REPORT_ID  近3月最大逾期  近3月累计逾期  近6月最大逾期  近6月累计逾期  近12月最大逾期  \\\n",
       "0  2018111300006460106371      0.0      0.0      0.0      0.0       0.0   \n",
       "1  2018111300006460120325      0.0      0.0      0.0      0.0       0.0   \n",
       "2  2018111300006460126410      1.0      1.0      1.0      1.0       1.0   \n",
       "3  2018111300006460193304      0.0      0.0      0.0      0.0       0.0   \n",
       "4  2018111300006460216344      0.0      0.0      1.0      1.0       1.0   \n",
       "\n",
       "   近12月累计逾期  近24月最大逾期  近24月累计逾期  \n",
       "0       0.0       0.0       0.0  \n",
       "1       0.0       0.0       0.0  \n",
       "2       1.0       1.0       2.0  \n",
       "3       0.0       0.0       0.0  \n",
       "4       1.0       1.0       1.0  "
      ]
     },
     "execution_count": 32,
     "metadata": {},
     "output_type": "execute_result"
    }
   ],
   "source": [
    "overdue_data_all.head()"
   ]
  },
  {
   "cell_type": "markdown",
   "metadata": {},
   "source": [
    "## 2.查询次数与查询机构数（担保审批、贷款审批、信用卡审批）"
   ]
  },
  {
   "cell_type": "code",
   "execution_count": 33,
   "metadata": {},
   "outputs": [],
   "source": [
    "cur_date = datetime.datetime.today()"
   ]
  },
  {
   "cell_type": "code",
   "execution_count": 34,
   "metadata": {},
   "outputs": [
    {
     "name": "stderr",
     "output_type": "stream",
     "text": [
      "<ipython-input-34-2dabaaf75cad>:18: SettingWithCopyWarning: \n",
      "A value is trying to be set on a copy of a slice from a DataFrame.\n",
      "Try using .loc[row_indexer,col_indexer] = value instead\n",
      "\n",
      "See the caveats in the documentation: https://pandas.pydata.org/pandas-docs/stable/user_guide/indexing.html#returning-a-view-versus-a-copy\n",
      "  record_data['QUERIER'] = record_data['QUERIER'].astype(str)\n",
      "D:\\tools\\Anaconda3\\lib\\site-packages\\pandas\\core\\indexing.py:671: SettingWithCopyWarning: \n",
      "A value is trying to be set on a copy of a slice from a DataFrame\n",
      "\n",
      "See the caveats in the documentation: https://pandas.pydata.org/pandas-docs/stable/user_guide/indexing.html#returning-a-view-versus-a-copy\n",
      "  self._setitem_with_indexer(indexer, value)\n",
      "<ipython-input-34-2dabaaf75cad>:19: SettingWithCopyWarning: \n",
      "A value is trying to be set on a copy of a slice from a DataFrame\n",
      "\n",
      "See the caveats in the documentation: https://pandas.pydata.org/pandas-docs/stable/user_guide/indexing.html#returning-a-view-versus-a-copy\n",
      "  record_data.loc[record_data['QUERIER'].str.contains('厦门国际银行'),'QUERIER'] = '厦门国际银行'\n"
     ]
    }
   ],
   "source": [
    "def minus_month_6(x):\n",
    "    if x.month <= 6:\n",
    "        mins = x.month - 6\n",
    "        month = 12+mins\n",
    "        return x.replace(x.year-1,month,1)\n",
    "    else:\n",
    "        return x.replace(x.year,x.month-6,1)\n",
    "\n",
    "def minus_month_2(x):\n",
    "    if x.month <= 2:\n",
    "        mins = x.month - 2\n",
    "        month = 12+mins\n",
    "        return x.replace(x.year-1,month,1)\n",
    "    else:\n",
    "        return x.replace(x.year,x.month-2,1)\n",
    "    \n",
    "record_data = record_detail[['REPORT_ID','QUERIER','QUERYREASON','QUERYDATE']]\n",
    "record_data['QUERIER'] = record_data['QUERIER'].astype(str)\n",
    "record_data.loc[record_data['QUERIER'].str.contains('厦门国际银行'),'QUERIER'] = '厦门国际银行'\n",
    "record_data = record_data.merge(main_table_use[['REPORT_ID','REPORTDATE']],on=['REPORT_ID'])\n",
    "record_data['REPORTDATE'] = record_data['REPORTDATE'].astype(str).apply(lambda x:'-'.join([x[:4],x[5:7],x[8:10]]))\n",
    "record_data['REPORTDATE'] = pd.to_datetime(record_data['REPORTDATE'])\n",
    "record_data['QUERYDATE'] = record_data['QUERYDATE'].astype(str).apply(lambda x:'-'.join([x[:4],x[5:7],x[8:10]]))\n",
    "record_data['QUERYDATE'] = pd.to_datetime(record_data['QUERYDATE'])\n",
    "record_data['LAST24DATE'] = record_data['REPORTDATE'].apply(lambda x:x.replace(x.year-2))\n",
    "record_data['LAST12DATE'] = record_data['REPORTDATE'].apply(lambda x:x.replace(x.year-1))\n",
    "record_data['LAST6DATE'] = record_data['REPORTDATE'].apply(minus_month_6)\n",
    "record_data['LAST2DATE'] = record_data['REPORTDATE'].apply(minus_month_2)\n",
    "record_data = record_data[~record_data['QUERIER'].str.contains('厦门国际银行')]\n",
    "record_data_24 = record_data[record_data['QUERYDATE'] >= record_data['LAST24DATE']]\n",
    "record_data_12 = record_data[record_data['QUERYDATE'] >= record_data['LAST12DATE']]\n",
    "record_data_6 = record_data[record_data['QUERYDATE'] >= record_data['LAST6DATE']]\n",
    "record_data_2 = record_data[record_data['QUERYDATE'] >= record_data['LAST2DATE']]\n",
    "lastquerydate = record_data_12.groupby('REPORT_ID')[['QUERYDATE']].first()\n",
    "lastquerydate['LASTQUERYMONTHS'] = lastquerydate['QUERYDATE'].apply(lambda x:round((cur_date-x).days/30))\n",
    "lastquerydate = lastquerydate.reset_index()\n",
    "del lastquerydate['QUERYDATE']\n",
    "record_org_count_24 = record_data_24.groupby(['REPORT_ID','QUERYREASON'])['QUERIER'].apply(lambda x:len(x.unique())).unstack()\n",
    "record_count_24 = record_data_24.groupby(['REPORT_ID','QUERYREASON'])['QUERIER'].count().unstack()\n",
    "record_org_count_12 = record_data_12.groupby(['REPORT_ID','QUERYREASON'])['QUERIER'].apply(lambda x:len(x.unique())).unstack()\n",
    "record_count_12 = record_data_12.groupby(['REPORT_ID','QUERYREASON'])['QUERIER'].count().unstack()\n",
    "record_org_count_6 = record_data_6.groupby(['REPORT_ID','QUERYREASON'])['QUERIER'].apply(lambda x:len(x.unique())).unstack()\n",
    "record_count_6 = record_data_6.groupby(['REPORT_ID','QUERYREASON'])['QUERIER'].count().unstack()\n",
    "record_org_count_2 = record_data_2.groupby(['REPORT_ID','QUERYREASON'])['QUERIER'].apply(lambda x:len(x.unique())).unstack()\n",
    "record_count_2 = record_data_2.groupby(['REPORT_ID','QUERYREASON'])['QUERIER'].count().unstack()\n",
    "record_org_count_24 = record_org_count_24.add_prefix('近2年内查询机构数-')\n",
    "record_count_24 = record_count_24.add_prefix('近2年内查询次数-')\n",
    "record_org_count_12 = record_org_count_12.add_prefix('近12月内查询机构数-')\n",
    "record_count_12 = record_count_12.add_prefix('近12月内查询次数-')\n",
    "record_org_count_6 = record_org_count_6.add_prefix('近6月内查询机构数-')\n",
    "record_count_6 = record_count_6.add_prefix('近6月内查询次数-')\n",
    "record_org_count_2 = record_org_count_2.add_prefix('近2月内查询机构数-')\n",
    "record_count_2 = record_count_2.add_prefix('近2月内查询次数-')\n",
    "record_all = reduce(lambda x,y:x.merge(y,on='REPORT_ID',how='outer'),[record_count_2,record_org_count_2,record_count_6,record_org_count_6,\n",
    "                                                                      record_count_12,record_org_count_12,record_count_24,\n",
    "                                                                      record_org_count_24,lastquerydate])\n",
    "record_all.rename(columns={'LASTQUERYMONTHS':'十二个月内最近一次查询距今月份'},inplace=True)"
   ]
  },
  {
   "cell_type": "code",
   "execution_count": 35,
   "metadata": {
    "scrolled": true
   },
   "outputs": [
    {
     "data": {
      "text/html": [
       "<div>\n",
       "<style scoped>\n",
       "    .dataframe tbody tr th:only-of-type {\n",
       "        vertical-align: middle;\n",
       "    }\n",
       "\n",
       "    .dataframe tbody tr th {\n",
       "        vertical-align: top;\n",
       "    }\n",
       "\n",
       "    .dataframe thead th {\n",
       "        text-align: right;\n",
       "    }\n",
       "</style>\n",
       "<table border=\"1\" class=\"dataframe\">\n",
       "  <thead>\n",
       "    <tr style=\"text-align: right;\">\n",
       "      <th></th>\n",
       "      <th>REPORT_ID</th>\n",
       "      <th>近2月内查询次数-信用卡审批</th>\n",
       "      <th>近2月内查询次数-担保资格审查</th>\n",
       "      <th>近2月内查询次数-贷款审批</th>\n",
       "      <th>近2月内查询机构数-信用卡审批</th>\n",
       "      <th>近2月内查询机构数-担保资格审查</th>\n",
       "      <th>近2月内查询机构数-贷款审批</th>\n",
       "      <th>近6月内查询次数-信用卡审批</th>\n",
       "      <th>近6月内查询次数-担保资格审查</th>\n",
       "      <th>近6月内查询次数-贷款审批</th>\n",
       "      <th>近6月内查询机构数-信用卡审批</th>\n",
       "      <th>近6月内查询机构数-担保资格审查</th>\n",
       "      <th>近6月内查询机构数-贷款审批</th>\n",
       "      <th>近12月内查询次数-信用卡审批</th>\n",
       "      <th>近12月内查询次数-担保资格审查</th>\n",
       "      <th>近12月内查询次数-贷款审批</th>\n",
       "      <th>近12月内查询机构数-信用卡审批</th>\n",
       "      <th>近12月内查询机构数-担保资格审查</th>\n",
       "      <th>近12月内查询机构数-贷款审批</th>\n",
       "      <th>近2年内查询次数-信用卡审批</th>\n",
       "      <th>近2年内查询次数-担保资格审查</th>\n",
       "      <th>近2年内查询次数-贷款审批</th>\n",
       "      <th>近2年内查询机构数-信用卡审批</th>\n",
       "      <th>近2年内查询机构数-担保资格审查</th>\n",
       "      <th>近2年内查询机构数-贷款审批</th>\n",
       "      <th>十二个月内最近一次查询距今月份</th>\n",
       "    </tr>\n",
       "  </thead>\n",
       "  <tbody>\n",
       "    <tr>\n",
       "      <th>0</th>\n",
       "      <td>2018111300006460193304</td>\n",
       "      <td>NaN</td>\n",
       "      <td>NaN</td>\n",
       "      <td>1.0</td>\n",
       "      <td>NaN</td>\n",
       "      <td>NaN</td>\n",
       "      <td>1.0</td>\n",
       "      <td>NaN</td>\n",
       "      <td>NaN</td>\n",
       "      <td>3.0</td>\n",
       "      <td>NaN</td>\n",
       "      <td>NaN</td>\n",
       "      <td>3.0</td>\n",
       "      <td>NaN</td>\n",
       "      <td>NaN</td>\n",
       "      <td>3.0</td>\n",
       "      <td>NaN</td>\n",
       "      <td>NaN</td>\n",
       "      <td>3.0</td>\n",
       "      <td>NaN</td>\n",
       "      <td>NaN</td>\n",
       "      <td>4.0</td>\n",
       "      <td>NaN</td>\n",
       "      <td>NaN</td>\n",
       "      <td>4.0</td>\n",
       "      <td>26.0</td>\n",
       "    </tr>\n",
       "    <tr>\n",
       "      <th>1</th>\n",
       "      <td>2018111300006460216344</td>\n",
       "      <td>1.0</td>\n",
       "      <td>NaN</td>\n",
       "      <td>2.0</td>\n",
       "      <td>1.0</td>\n",
       "      <td>NaN</td>\n",
       "      <td>2.0</td>\n",
       "      <td>1.0</td>\n",
       "      <td>NaN</td>\n",
       "      <td>2.0</td>\n",
       "      <td>1.0</td>\n",
       "      <td>NaN</td>\n",
       "      <td>2.0</td>\n",
       "      <td>1.0</td>\n",
       "      <td>NaN</td>\n",
       "      <td>2.0</td>\n",
       "      <td>1.0</td>\n",
       "      <td>NaN</td>\n",
       "      <td>2.0</td>\n",
       "      <td>7.0</td>\n",
       "      <td>NaN</td>\n",
       "      <td>3.0</td>\n",
       "      <td>5.0</td>\n",
       "      <td>NaN</td>\n",
       "      <td>3.0</td>\n",
       "      <td>24.0</td>\n",
       "    </tr>\n",
       "    <tr>\n",
       "      <th>2</th>\n",
       "      <td>2018111300006460324975</td>\n",
       "      <td>NaN</td>\n",
       "      <td>NaN</td>\n",
       "      <td>3.0</td>\n",
       "      <td>NaN</td>\n",
       "      <td>NaN</td>\n",
       "      <td>1.0</td>\n",
       "      <td>NaN</td>\n",
       "      <td>1.0</td>\n",
       "      <td>9.0</td>\n",
       "      <td>NaN</td>\n",
       "      <td>1.0</td>\n",
       "      <td>6.0</td>\n",
       "      <td>NaN</td>\n",
       "      <td>1.0</td>\n",
       "      <td>13.0</td>\n",
       "      <td>NaN</td>\n",
       "      <td>1.0</td>\n",
       "      <td>7.0</td>\n",
       "      <td>NaN</td>\n",
       "      <td>1.0</td>\n",
       "      <td>16.0</td>\n",
       "      <td>NaN</td>\n",
       "      <td>1.0</td>\n",
       "      <td>10.0</td>\n",
       "      <td>25.0</td>\n",
       "    </tr>\n",
       "    <tr>\n",
       "      <th>3</th>\n",
       "      <td>2018111300006460325386</td>\n",
       "      <td>NaN</td>\n",
       "      <td>NaN</td>\n",
       "      <td>1.0</td>\n",
       "      <td>NaN</td>\n",
       "      <td>NaN</td>\n",
       "      <td>1.0</td>\n",
       "      <td>NaN</td>\n",
       "      <td>NaN</td>\n",
       "      <td>1.0</td>\n",
       "      <td>NaN</td>\n",
       "      <td>NaN</td>\n",
       "      <td>1.0</td>\n",
       "      <td>2.0</td>\n",
       "      <td>NaN</td>\n",
       "      <td>1.0</td>\n",
       "      <td>2.0</td>\n",
       "      <td>NaN</td>\n",
       "      <td>1.0</td>\n",
       "      <td>4.0</td>\n",
       "      <td>NaN</td>\n",
       "      <td>5.0</td>\n",
       "      <td>4.0</td>\n",
       "      <td>NaN</td>\n",
       "      <td>4.0</td>\n",
       "      <td>25.0</td>\n",
       "    </tr>\n",
       "    <tr>\n",
       "      <th>4</th>\n",
       "      <td>2018111300006460360719</td>\n",
       "      <td>NaN</td>\n",
       "      <td>2.0</td>\n",
       "      <td>1.0</td>\n",
       "      <td>NaN</td>\n",
       "      <td>1.0</td>\n",
       "      <td>1.0</td>\n",
       "      <td>1.0</td>\n",
       "      <td>3.0</td>\n",
       "      <td>4.0</td>\n",
       "      <td>1.0</td>\n",
       "      <td>1.0</td>\n",
       "      <td>4.0</td>\n",
       "      <td>3.0</td>\n",
       "      <td>6.0</td>\n",
       "      <td>9.0</td>\n",
       "      <td>3.0</td>\n",
       "      <td>1.0</td>\n",
       "      <td>9.0</td>\n",
       "      <td>6.0</td>\n",
       "      <td>10.0</td>\n",
       "      <td>13.0</td>\n",
       "      <td>5.0</td>\n",
       "      <td>1.0</td>\n",
       "      <td>11.0</td>\n",
       "      <td>25.0</td>\n",
       "    </tr>\n",
       "  </tbody>\n",
       "</table>\n",
       "</div>"
      ],
      "text/plain": [
       "                REPORT_ID  近2月内查询次数-信用卡审批  近2月内查询次数-担保资格审查  近2月内查询次数-贷款审批  \\\n",
       "0  2018111300006460193304             NaN              NaN            1.0   \n",
       "1  2018111300006460216344             1.0              NaN            2.0   \n",
       "2  2018111300006460324975             NaN              NaN            3.0   \n",
       "3  2018111300006460325386             NaN              NaN            1.0   \n",
       "4  2018111300006460360719             NaN              2.0            1.0   \n",
       "\n",
       "   近2月内查询机构数-信用卡审批  近2月内查询机构数-担保资格审查  近2月内查询机构数-贷款审批  近6月内查询次数-信用卡审批  \\\n",
       "0              NaN               NaN             1.0             NaN   \n",
       "1              1.0               NaN             2.0             1.0   \n",
       "2              NaN               NaN             1.0             NaN   \n",
       "3              NaN               NaN             1.0             NaN   \n",
       "4              NaN               1.0             1.0             1.0   \n",
       "\n",
       "   近6月内查询次数-担保资格审查  近6月内查询次数-贷款审批  近6月内查询机构数-信用卡审批  近6月内查询机构数-担保资格审查  \\\n",
       "0              NaN            3.0              NaN               NaN   \n",
       "1              NaN            2.0              1.0               NaN   \n",
       "2              1.0            9.0              NaN               1.0   \n",
       "3              NaN            1.0              NaN               NaN   \n",
       "4              3.0            4.0              1.0               1.0   \n",
       "\n",
       "   近6月内查询机构数-贷款审批  近12月内查询次数-信用卡审批  近12月内查询次数-担保资格审查  近12月内查询次数-贷款审批  \\\n",
       "0             3.0              NaN               NaN             3.0   \n",
       "1             2.0              1.0               NaN             2.0   \n",
       "2             6.0              NaN               1.0            13.0   \n",
       "3             1.0              2.0               NaN             1.0   \n",
       "4             4.0              3.0               6.0             9.0   \n",
       "\n",
       "   近12月内查询机构数-信用卡审批  近12月内查询机构数-担保资格审查  近12月内查询机构数-贷款审批  近2年内查询次数-信用卡审批  \\\n",
       "0               NaN                NaN              3.0             NaN   \n",
       "1               1.0                NaN              2.0             7.0   \n",
       "2               NaN                1.0              7.0             NaN   \n",
       "3               2.0                NaN              1.0             4.0   \n",
       "4               3.0                1.0              9.0             6.0   \n",
       "\n",
       "   近2年内查询次数-担保资格审查  近2年内查询次数-贷款审批  近2年内查询机构数-信用卡审批  近2年内查询机构数-担保资格审查  \\\n",
       "0              NaN            4.0              NaN               NaN   \n",
       "1              NaN            3.0              5.0               NaN   \n",
       "2              1.0           16.0              NaN               1.0   \n",
       "3              NaN            5.0              4.0               NaN   \n",
       "4             10.0           13.0              5.0               1.0   \n",
       "\n",
       "   近2年内查询机构数-贷款审批  十二个月内最近一次查询距今月份  \n",
       "0             4.0             26.0  \n",
       "1             3.0             24.0  \n",
       "2            10.0             25.0  \n",
       "3             4.0             25.0  \n",
       "4            11.0             25.0  "
      ]
     },
     "execution_count": 35,
     "metadata": {},
     "output_type": "execute_result"
    }
   ],
   "source": [
    "record_all.head()"
   ]
  },
  {
   "cell_type": "markdown",
   "metadata": {},
   "source": [
    "## 3.非银机构特征"
   ]
  },
  {
   "cell_type": "code",
   "execution_count": 36,
   "metadata": {},
   "outputs": [
    {
     "data": {
      "text/plain": [
       "Index(['FINANCEORG', 'LOAN_ORG'], dtype='object')"
      ]
     },
     "execution_count": 36,
     "metadata": {},
     "output_type": "execute_result"
    }
   ],
   "source": [
    "tbl_per_loan_info.columns[tbl_per_loan_info.columns.str.contains('ORG')]"
   ]
  },
  {
   "cell_type": "code",
   "execution_count": 37,
   "metadata": {},
   "outputs": [],
   "source": [
    "exp_bank_data = tbl_per_loan_info[['REPORT_ID','STATE','CUE','LOAN_ORG']]\n",
    "exp_bank_data = exp_bank_data[~exp_bank_data['CUE'].str.contains('银行')]\n",
    "exp_bank_org_count = exp_bank_data.groupby('REPORT_ID').apply(lambda x: len(x['LOAN_ORG'].unique()))\n",
    "exp_bank_no_settle = exp_bank_data[(exp_bank_data['STATE'] != '结清')].groupby('REPORT_ID').agg({'STATE':'count'})\n",
    "exp_bank_data_all = pd.concat([exp_bank_org_count,exp_bank_no_settle],axis=1)\n",
    "exp_bank_data_all.columns=['非银金融机构信贷历史机构数','非银金融机构未结清贷款笔数']\n",
    "exp_bank_data_all = exp_bank_data_all.reset_index()\n",
    "exp_bank_data_all = exp_bank_data_all.rename(columns={'index':'REPORT_ID'})"
   ]
  },
  {
   "cell_type": "code",
   "execution_count": 38,
   "metadata": {},
   "outputs": [
    {
     "data": {
      "text/html": [
       "<div>\n",
       "<style scoped>\n",
       "    .dataframe tbody tr th:only-of-type {\n",
       "        vertical-align: middle;\n",
       "    }\n",
       "\n",
       "    .dataframe tbody tr th {\n",
       "        vertical-align: top;\n",
       "    }\n",
       "\n",
       "    .dataframe thead th {\n",
       "        text-align: right;\n",
       "    }\n",
       "</style>\n",
       "<table border=\"1\" class=\"dataframe\">\n",
       "  <thead>\n",
       "    <tr style=\"text-align: right;\">\n",
       "      <th></th>\n",
       "      <th>REPORT_ID</th>\n",
       "      <th>非银金融机构信贷历史机构数</th>\n",
       "      <th>非银金融机构未结清贷款笔数</th>\n",
       "    </tr>\n",
       "  </thead>\n",
       "  <tbody>\n",
       "    <tr>\n",
       "      <th>0</th>\n",
       "      <td>2018111300006460106371</td>\n",
       "      <td>1</td>\n",
       "      <td>1.0</td>\n",
       "    </tr>\n",
       "    <tr>\n",
       "      <th>1</th>\n",
       "      <td>2018111300006460193304</td>\n",
       "      <td>1</td>\n",
       "      <td>1.0</td>\n",
       "    </tr>\n",
       "    <tr>\n",
       "      <th>2</th>\n",
       "      <td>2018111300006460360719</td>\n",
       "      <td>1</td>\n",
       "      <td>NaN</td>\n",
       "    </tr>\n",
       "    <tr>\n",
       "      <th>3</th>\n",
       "      <td>2018111300006460590451</td>\n",
       "      <td>3</td>\n",
       "      <td>2.0</td>\n",
       "    </tr>\n",
       "    <tr>\n",
       "      <th>4</th>\n",
       "      <td>2018111300006460599541</td>\n",
       "      <td>2</td>\n",
       "      <td>1.0</td>\n",
       "    </tr>\n",
       "  </tbody>\n",
       "</table>\n",
       "</div>"
      ],
      "text/plain": [
       "                REPORT_ID  非银金融机构信贷历史机构数  非银金融机构未结清贷款笔数\n",
       "0  2018111300006460106371              1            1.0\n",
       "1  2018111300006460193304              1            1.0\n",
       "2  2018111300006460360719              1            NaN\n",
       "3  2018111300006460590451              3            2.0\n",
       "4  2018111300006460599541              2            1.0"
      ]
     },
     "execution_count": 38,
     "metadata": {},
     "output_type": "execute_result"
    }
   ],
   "source": [
    "exp_bank_data_all.head()"
   ]
  },
  {
   "cell_type": "markdown",
   "metadata": {},
   "source": [
    "## 4.近6月平均使用额度、发卡法人机构总数、贷记卡平均额度、贷记卡最高额度、贷记卡透支余额汇总、贷记卡最高透支余额"
   ]
  },
  {
   "cell_type": "code",
   "execution_count": 39,
   "metadata": {},
   "outputs": [],
   "source": [
    "used_credit = tbl_per_info_summary[['REPORT_ID','UNDESTYRYLOANCARD_USED_AVG_6','UNDESTYRYLOANCARD_USED_CREDIT',\n",
    "                                    'UNDESTYRYLOANCARD_CREDIT_LIMIT','GUAR_BALANCE','UNDESTYRYSLOANCARD_MAX_CREDIT']]\n",
    "used_credit.columns = ['REPORT_ID','近6月平均使用额度','透支余额汇总','授信总额','担保本金余额','单家行最高授信总额']"
   ]
  },
  {
   "cell_type": "code",
   "execution_count": 40,
   "metadata": {},
   "outputs": [
    {
     "name": "stderr",
     "output_type": "stream",
     "text": [
      "<ipython-input-40-a37ecebab48c>:1: SettingWithCopyWarning: \n",
      "A value is trying to be set on a copy of a slice from a DataFrame.\n",
      "Try using .loc[row_indexer,col_indexer] = value instead\n",
      "\n",
      "See the caveats in the documentation: https://pandas.pydata.org/pandas-docs/stable/user_guide/indexing.html#returning-a-view-versus-a-copy\n",
      "  used_credit['发卡法人机构总数'] = tbl_per_info_summary[['UNDESTYRYLOANCARD_FANC_COUNT','UNDESTYRYSLOANCARD_FANC_COUNT']].fillna(0).sum(axis=1)\n",
      "<ipython-input-40-a37ecebab48c>:2: SettingWithCopyWarning: \n",
      "A value is trying to be set on a copy of a slice from a DataFrame.\n",
      "Try using .loc[row_indexer,col_indexer] = value instead\n",
      "\n",
      "See the caveats in the documentation: https://pandas.pydata.org/pandas-docs/stable/user_guide/indexing.html#returning-a-view-versus-a-copy\n",
      "  used_credit['平均额度'] = tbl_per_info_summary['UNDESTYRYLOANCARD_CREDIT_LIMIT']/tbl_per_info_summary['UNDESTYRYLOANCARD_FANC_COUNT']\n"
     ]
    }
   ],
   "source": [
    "used_credit['发卡法人机构总数'] = tbl_per_info_summary[['UNDESTYRYLOANCARD_FANC_COUNT','UNDESTYRYSLOANCARD_FANC_COUNT']].fillna(0).sum(axis=1)\n",
    "used_credit['平均额度'] = tbl_per_info_summary['UNDESTYRYLOANCARD_CREDIT_LIMIT']/tbl_per_info_summary['UNDESTYRYLOANCARD_FANC_COUNT']"
   ]
  },
  {
   "cell_type": "markdown",
   "metadata": {},
   "source": [
    "## 5.贷记透支比例(额度总使用率)"
   ]
  },
  {
   "cell_type": "code",
   "execution_count": 41,
   "metadata": {},
   "outputs": [
    {
     "name": "stderr",
     "output_type": "stream",
     "text": [
      "<ipython-input-41-1b59797ae44d>:1: SettingWithCopyWarning: \n",
      "A value is trying to be set on a copy of a slice from a DataFrame.\n",
      "Try using .loc[row_indexer,col_indexer] = value instead\n",
      "\n",
      "See the caveats in the documentation: https://pandas.pydata.org/pandas-docs/stable/user_guide/indexing.html#returning-a-view-versus-a-copy\n",
      "  used_credit['贷记透支比例'] = used_credit['透支余额汇总']/used_credit['授信总额']\n"
     ]
    }
   ],
   "source": [
    "used_credit['贷记透支比例'] = used_credit['透支余额汇总']/used_credit['授信总额']\n",
    "used_credit = used_credit.fillna(0)"
   ]
  },
  {
   "cell_type": "markdown",
   "metadata": {},
   "source": [
    "## 6.对外担保余额"
   ]
  },
  {
   "cell_type": "code",
   "execution_count": 42,
   "metadata": {},
   "outputs": [],
   "source": [
    "guar_balance = used_credit.groupby('REPORT_ID',as_index=False)['担保本金余额'].sum()\n",
    "guar_balance.columns = ['REPORT_ID','对外担保余额']"
   ]
  },
  {
   "cell_type": "code",
   "execution_count": 43,
   "metadata": {},
   "outputs": [
    {
     "data": {
      "text/html": [
       "<div>\n",
       "<style scoped>\n",
       "    .dataframe tbody tr th:only-of-type {\n",
       "        vertical-align: middle;\n",
       "    }\n",
       "\n",
       "    .dataframe tbody tr th {\n",
       "        vertical-align: top;\n",
       "    }\n",
       "\n",
       "    .dataframe thead th {\n",
       "        text-align: right;\n",
       "    }\n",
       "</style>\n",
       "<table border=\"1\" class=\"dataframe\">\n",
       "  <thead>\n",
       "    <tr style=\"text-align: right;\">\n",
       "      <th></th>\n",
       "      <th>REPORT_ID</th>\n",
       "      <th>对外担保余额</th>\n",
       "    </tr>\n",
       "  </thead>\n",
       "  <tbody>\n",
       "    <tr>\n",
       "      <th>0</th>\n",
       "      <td>2018111300006460106371</td>\n",
       "      <td>0.0</td>\n",
       "    </tr>\n",
       "    <tr>\n",
       "      <th>1</th>\n",
       "      <td>2018111300006460120325</td>\n",
       "      <td>0.0</td>\n",
       "    </tr>\n",
       "    <tr>\n",
       "      <th>2</th>\n",
       "      <td>2018111300006460126410</td>\n",
       "      <td>7000000.0</td>\n",
       "    </tr>\n",
       "    <tr>\n",
       "      <th>3</th>\n",
       "      <td>2018111300006460193304</td>\n",
       "      <td>330665.0</td>\n",
       "    </tr>\n",
       "    <tr>\n",
       "      <th>4</th>\n",
       "      <td>2018111300006460198247</td>\n",
       "      <td>0.0</td>\n",
       "    </tr>\n",
       "  </tbody>\n",
       "</table>\n",
       "</div>"
      ],
      "text/plain": [
       "                REPORT_ID     对外担保余额\n",
       "0  2018111300006460106371        0.0\n",
       "1  2018111300006460120325        0.0\n",
       "2  2018111300006460126410  7000000.0\n",
       "3  2018111300006460193304   330665.0\n",
       "4  2018111300006460198247        0.0"
      ]
     },
     "execution_count": 43,
     "metadata": {},
     "output_type": "execute_result"
    }
   ],
   "source": [
    "guar_balance.head()"
   ]
  },
  {
   "cell_type": "markdown",
   "metadata": {},
   "source": [
    "## 7.未结清贷款笔数，未结清贷款余额"
   ]
  },
  {
   "cell_type": "code",
   "execution_count": 44,
   "metadata": {},
   "outputs": [],
   "source": [
    "no_settle_info = tbl_per_loan_info[['REPORT_ID','STATE','BALANCE']]\n",
    "no_settle_info = no_settle_info[no_settle_info['STATE']!='结清']\n",
    "no_settle_info = no_settle_info.groupby('REPORT_ID',as_index=False).agg({'BALANCE':['count','sum']})\n",
    "no_settle_info.columns = ['REPORT_ID','未结清贷款笔数','未结清贷款余额']"
   ]
  },
  {
   "cell_type": "code",
   "execution_count": 45,
   "metadata": {},
   "outputs": [
    {
     "data": {
      "text/html": [
       "<div>\n",
       "<style scoped>\n",
       "    .dataframe tbody tr th:only-of-type {\n",
       "        vertical-align: middle;\n",
       "    }\n",
       "\n",
       "    .dataframe tbody tr th {\n",
       "        vertical-align: top;\n",
       "    }\n",
       "\n",
       "    .dataframe thead th {\n",
       "        text-align: right;\n",
       "    }\n",
       "</style>\n",
       "<table border=\"1\" class=\"dataframe\">\n",
       "  <thead>\n",
       "    <tr style=\"text-align: right;\">\n",
       "      <th></th>\n",
       "      <th>REPORT_ID</th>\n",
       "      <th>未结清贷款笔数</th>\n",
       "      <th>未结清贷款余额</th>\n",
       "    </tr>\n",
       "  </thead>\n",
       "  <tbody>\n",
       "    <tr>\n",
       "      <th>0</th>\n",
       "      <td>2018111300006460106371</td>\n",
       "      <td>81</td>\n",
       "      <td>5309813.0</td>\n",
       "    </tr>\n",
       "    <tr>\n",
       "      <th>1</th>\n",
       "      <td>2018111300006460120325</td>\n",
       "      <td>1</td>\n",
       "      <td>7000000.0</td>\n",
       "    </tr>\n",
       "    <tr>\n",
       "      <th>2</th>\n",
       "      <td>2018111300006460126410</td>\n",
       "      <td>1</td>\n",
       "      <td>1850000.0</td>\n",
       "    </tr>\n",
       "    <tr>\n",
       "      <th>3</th>\n",
       "      <td>2018111300006460193304</td>\n",
       "      <td>2</td>\n",
       "      <td>187381.0</td>\n",
       "    </tr>\n",
       "    <tr>\n",
       "      <th>4</th>\n",
       "      <td>2018111300006460216344</td>\n",
       "      <td>1</td>\n",
       "      <td>1000000.0</td>\n",
       "    </tr>\n",
       "  </tbody>\n",
       "</table>\n",
       "</div>"
      ],
      "text/plain": [
       "                REPORT_ID  未结清贷款笔数    未结清贷款余额\n",
       "0  2018111300006460106371       81  5309813.0\n",
       "1  2018111300006460120325        1  7000000.0\n",
       "2  2018111300006460126410        1  1850000.0\n",
       "3  2018111300006460193304        2   187381.0\n",
       "4  2018111300006460216344        1  1000000.0"
      ]
     },
     "execution_count": 45,
     "metadata": {},
     "output_type": "execute_result"
    }
   ],
   "source": [
    "no_settle_info.head()"
   ]
  },
  {
   "cell_type": "markdown",
   "metadata": {},
   "source": [
    "## 8.贷款历史机构数"
   ]
  },
  {
   "cell_type": "code",
   "execution_count": 46,
   "metadata": {},
   "outputs": [],
   "source": [
    "his_loan_org_count = tbl_per_loan_info[['REPORT_ID','LOAN_ORG']]\n",
    "his_loan_org_count = his_loan_org_count.groupby('REPORT_ID').apply(lambda x:len(x['LOAN_ORG'].unique())).reset_index()\n",
    "his_loan_org_count.columns = ['REPORT_ID','贷款历史机构数']"
   ]
  },
  {
   "cell_type": "code",
   "execution_count": 47,
   "metadata": {},
   "outputs": [
    {
     "data": {
      "text/html": [
       "<div>\n",
       "<style scoped>\n",
       "    .dataframe tbody tr th:only-of-type {\n",
       "        vertical-align: middle;\n",
       "    }\n",
       "\n",
       "    .dataframe tbody tr th {\n",
       "        vertical-align: top;\n",
       "    }\n",
       "\n",
       "    .dataframe thead th {\n",
       "        text-align: right;\n",
       "    }\n",
       "</style>\n",
       "<table border=\"1\" class=\"dataframe\">\n",
       "  <thead>\n",
       "    <tr style=\"text-align: right;\">\n",
       "      <th></th>\n",
       "      <th>REPORT_ID</th>\n",
       "      <th>贷款历史机构数</th>\n",
       "    </tr>\n",
       "  </thead>\n",
       "  <tbody>\n",
       "    <tr>\n",
       "      <th>0</th>\n",
       "      <td>2018111300006460106371</td>\n",
       "      <td>4</td>\n",
       "    </tr>\n",
       "    <tr>\n",
       "      <th>1</th>\n",
       "      <td>2018111300006460120325</td>\n",
       "      <td>2</td>\n",
       "    </tr>\n",
       "    <tr>\n",
       "      <th>2</th>\n",
       "      <td>2018111300006460126410</td>\n",
       "      <td>2</td>\n",
       "    </tr>\n",
       "    <tr>\n",
       "      <th>3</th>\n",
       "      <td>2018111300006460193304</td>\n",
       "      <td>2</td>\n",
       "    </tr>\n",
       "    <tr>\n",
       "      <th>4</th>\n",
       "      <td>2018111300006460216344</td>\n",
       "      <td>4</td>\n",
       "    </tr>\n",
       "  </tbody>\n",
       "</table>\n",
       "</div>"
      ],
      "text/plain": [
       "                REPORT_ID  贷款历史机构数\n",
       "0  2018111300006460106371        4\n",
       "1  2018111300006460120325        2\n",
       "2  2018111300006460126410        2\n",
       "3  2018111300006460193304        2\n",
       "4  2018111300006460216344        4"
      ]
     },
     "execution_count": 47,
     "metadata": {},
     "output_type": "execute_result"
    }
   ],
   "source": [
    "his_loan_org_count.head()"
   ]
  },
  {
   "cell_type": "markdown",
   "metadata": {},
   "source": [
    "## 9.贷款总额，贷款总笔数"
   ]
  },
  {
   "cell_type": "code",
   "execution_count": 48,
   "metadata": {},
   "outputs": [],
   "source": [
    "total_loan_info = tbl_per_info_summary[['REPORT_ID','UNPAIDLOAN_ACCOUNT_COUNT','UNPAIDLOAN_BALANCE']]\n",
    "total_loan_info = total_loan_info.groupby('REPORT_ID',as_index=False).sum()\n",
    "total_loan_info.columns = ['REPORT_ID','贷款总笔数','贷款总额']"
   ]
  },
  {
   "cell_type": "markdown",
   "metadata": {},
   "source": [
    "## <font color=red face=\"微软雅黑\">10.存在余额开户数、存在余额六个月内开户数、存在余额十二个月内开户数?</font>"
   ]
  },
  {
   "cell_type": "code",
   "execution_count": 49,
   "metadata": {},
   "outputs": [],
   "source": [
    "per_no_zero_accont = tbl_per_loan_info[tbl_per_loan_info['BALANCE'] != 0][['REPORT_ID','LOAN_START']]"
   ]
  },
  {
   "cell_type": "code",
   "execution_count": 50,
   "metadata": {},
   "outputs": [
    {
     "data": {
      "text/html": [
       "<div>\n",
       "<style scoped>\n",
       "    .dataframe tbody tr th:only-of-type {\n",
       "        vertical-align: middle;\n",
       "    }\n",
       "\n",
       "    .dataframe tbody tr th {\n",
       "        vertical-align: top;\n",
       "    }\n",
       "\n",
       "    .dataframe thead th {\n",
       "        text-align: right;\n",
       "    }\n",
       "</style>\n",
       "<table border=\"1\" class=\"dataframe\">\n",
       "  <thead>\n",
       "    <tr style=\"text-align: right;\">\n",
       "      <th></th>\n",
       "      <th>REPORT_ID</th>\n",
       "      <th>UNDESTYRYLOANCARD_ACCOUNTCOUN</th>\n",
       "      <th>UNDESTYRYSLOANCARD_ACCOUNTCOUN</th>\n",
       "    </tr>\n",
       "  </thead>\n",
       "  <tbody>\n",
       "  </tbody>\n",
       "</table>\n",
       "</div>"
      ],
      "text/plain": [
       "Empty DataFrame\n",
       "Columns: [REPORT_ID, UNDESTYRYLOANCARD_ACCOUNTCOUN, UNDESTYRYSLOANCARD_ACCOUNTCOUN]\n",
       "Index: []"
      ]
     },
     "execution_count": 50,
     "metadata": {},
     "output_type": "execute_result"
    }
   ],
   "source": [
    "tbl_per_info_summary[tbl_per_info_summary['REPORT_ID'] == '2018101200006278567160'][['REPORT_ID','UNDESTYRYLOANCARD_ACCOUNTCOUN',\n",
    "                                                                                     'UNDESTYRYSLOANCARD_ACCOUNTCOUN']]"
   ]
  },
  {
   "cell_type": "markdown",
   "metadata": {},
   "source": [
    "## 11.贷款最大剩余月数、贷款最大还款月数、其他贷款笔数占比、住房贷款笔数占比"
   ]
  },
  {
   "cell_type": "code",
   "execution_count": 51,
   "metadata": {},
   "outputs": [
    {
     "name": "stderr",
     "output_type": "stream",
     "text": [
      "<ipython-input-51-f2435d4223a0>:3: SettingWithCopyWarning: \n",
      "A value is trying to be set on a copy of a slice from a DataFrame.\n",
      "Try using .loc[row_indexer,col_indexer] = value instead\n",
      "\n",
      "See the caveats in the documentation: https://pandas.pydata.org/pandas-docs/stable/user_guide/indexing.html#returning-a-view-versus-a-copy\n",
      "  pay_info['NEEDPAYMONTHS'] = pay_info['CUE'].str.extract('，(\\d+)期').fillna(0).astype(int)\n",
      "<ipython-input-51-f2435d4223a0>:4: SettingWithCopyWarning: \n",
      "A value is trying to be set on a copy of a slice from a DataFrame.\n",
      "Try using .loc[row_indexer,col_indexer] = value instead\n",
      "\n",
      "See the caveats in the documentation: https://pandas.pydata.org/pandas-docs/stable/user_guide/indexing.html#returning-a-view-versus-a-copy\n",
      "  pay_info['HAVEPAY'] = pay_info['NEEDPAYMONTHS']-pay_info['REMAINPAYMENTCYC']\n"
     ]
    },
    {
     "data": {
      "text/html": [
       "<div>\n",
       "<style scoped>\n",
       "    .dataframe tbody tr th:only-of-type {\n",
       "        vertical-align: middle;\n",
       "    }\n",
       "\n",
       "    .dataframe tbody tr th {\n",
       "        vertical-align: top;\n",
       "    }\n",
       "\n",
       "    .dataframe thead th {\n",
       "        text-align: right;\n",
       "    }\n",
       "</style>\n",
       "<table border=\"1\" class=\"dataframe\">\n",
       "  <thead>\n",
       "    <tr style=\"text-align: right;\">\n",
       "      <th></th>\n",
       "      <th>REPORT_ID</th>\n",
       "      <th>贷款最大剩余月数</th>\n",
       "      <th>贷款最大还款月数</th>\n",
       "      <th>其他贷款占比</th>\n",
       "      <th>住房贷款占比</th>\n",
       "    </tr>\n",
       "  </thead>\n",
       "  <tbody>\n",
       "    <tr>\n",
       "      <th>0</th>\n",
       "      <td>2018111300006460106371</td>\n",
       "      <td>175.0</td>\n",
       "      <td>65.0</td>\n",
       "      <td>NaN</td>\n",
       "      <td>0.012346</td>\n",
       "    </tr>\n",
       "    <tr>\n",
       "      <th>1</th>\n",
       "      <td>2018111300006460120325</td>\n",
       "      <td>1.0</td>\n",
       "      <td>12.0</td>\n",
       "      <td>NaN</td>\n",
       "      <td>NaN</td>\n",
       "    </tr>\n",
       "    <tr>\n",
       "      <th>2</th>\n",
       "      <td>2018111300006460126410</td>\n",
       "      <td>24.0</td>\n",
       "      <td>12.0</td>\n",
       "      <td>NaN</td>\n",
       "      <td>NaN</td>\n",
       "    </tr>\n",
       "    <tr>\n",
       "      <th>3</th>\n",
       "      <td>2018111300006460193304</td>\n",
       "      <td>26.0</td>\n",
       "      <td>10.0</td>\n",
       "      <td>0.5</td>\n",
       "      <td>NaN</td>\n",
       "    </tr>\n",
       "    <tr>\n",
       "      <th>4</th>\n",
       "      <td>2018111300006460216344</td>\n",
       "      <td>2.0</td>\n",
       "      <td>11.0</td>\n",
       "      <td>NaN</td>\n",
       "      <td>NaN</td>\n",
       "    </tr>\n",
       "  </tbody>\n",
       "</table>\n",
       "</div>"
      ],
      "text/plain": [
       "                REPORT_ID  贷款最大剩余月数  贷款最大还款月数  其他贷款占比    住房贷款占比\n",
       "0  2018111300006460106371     175.0      65.0     NaN  0.012346\n",
       "1  2018111300006460120325       1.0      12.0     NaN       NaN\n",
       "2  2018111300006460126410      24.0      12.0     NaN       NaN\n",
       "3  2018111300006460193304      26.0      10.0     0.5       NaN\n",
       "4  2018111300006460216344       2.0      11.0     NaN       NaN"
      ]
     },
     "execution_count": 51,
     "metadata": {},
     "output_type": "execute_result"
    }
   ],
   "source": [
    "pay_info = tbl_per_loan_info[['REPORT_ID','REMAINPAYMENTCYC','CUE','TYPE','STATE']]\n",
    "# remain_pay_max = pay_info.groupby('REPORT_ID',as_index=False)[['REMAINPAYMENTCYC']].max()\n",
    "pay_info['NEEDPAYMONTHS'] = pay_info['CUE'].str.extract('，(\\d+)期').fillna(0).astype(int)\n",
    "pay_info['HAVEPAY'] = pay_info['NEEDPAYMONTHS']-pay_info['REMAINPAYMENTCYC']\n",
    "pay_max = pay_info.groupby('REPORT_ID',as_index=False).agg({'REMAINPAYMENTCYC':'max','HAVEPAY':'max'})\n",
    "pay_max.columns = ['REPORT_ID','贷款最大剩余月数','贷款最大还款月数']\n",
    "\n",
    "other_loan_count = pay_info[(pay_info['TYPE'] == '其他贷款')&(pay_info['STATE'] != '结清')].groupby('REPORT_ID',as_index=False)[['TYPE']].count()\n",
    "other_loan_ratio = other_loan_count.merge(total_loan_info,how='outer')\n",
    "other_loan_ratio['其他贷款占比'] = other_loan_ratio['TYPE']/other_loan_ratio['贷款总笔数']\n",
    "other_loan_ratio.drop(['贷款总额','贷款总笔数','TYPE'],axis=1,inplace=True)\n",
    "\n",
    "resid_loan_count = pay_info[(pay_info['TYPE'] == '个人住房贷款')&(pay_info['STATE'] != '结清')].groupby('REPORT_ID',as_index=False)[['TYPE']].count()\n",
    "resid_loan_ratio = resid_loan_count.merge(total_loan_info,how='outer')\n",
    "resid_loan_ratio['住房贷款占比'] = resid_loan_ratio['TYPE']/resid_loan_ratio['贷款总笔数']\n",
    "resid_loan_ratio.drop(['贷款总额','贷款总笔数','TYPE'],axis=1,inplace=True)\n",
    "\n",
    "pay_and_loan_ratio = reduce(lambda x,y:x.merge(y),[pay_max,other_loan_ratio,resid_loan_ratio])\n",
    "pay_and_loan_ratio.head()"
   ]
  },
  {
   "cell_type": "markdown",
   "metadata": {},
   "source": [
    "## 12.征信贷记卡最近一次M0距今月数、贷记卡最近一次M1及以上距今月数、贷记卡最近一次M2及以  上距今月数、贷记卡最近一次M3及以上距今月数、贷记卡最近一次M4及以上距今月数"
   ]
  },
  {
   "cell_type": "code",
   "execution_count": 52,
   "metadata": {},
   "outputs": [],
   "source": [
    "overdue_data_loan_card = tbl_per_loan_card_info[['REPORT_ID','LAST_24STATE','BEGINMONTH_24MONTH','ENDMONTH_24MONTH']]\n",
    "overdue_data_loan_card = overdue_data_loan_card.dropna(subset=['LAST_24STATE'])"
   ]
  },
  {
   "cell_type": "code",
   "execution_count": 53,
   "metadata": {},
   "outputs": [],
   "source": [
    "import re\n",
    "\n",
    "def check_index_m0(x):\n",
    "    try:\n",
    "        sparray = np.array(x.split(','))\n",
    "        a = 24-(np.where(sparray=='1')[0][-1]+1)\n",
    "    except:\n",
    "        a = np.nan\n",
    "    return a\n",
    "\n",
    "def check_index_m1(x):\n",
    "    try:\n",
    "        last_num = re.findall('(\\d)',x)[-1]\n",
    "        sparray = np.array(x.split(','))\n",
    "        a = 24-(np.where(sparray==last_num)[0][-1]+1)\n",
    "    except:\n",
    "        a = np.nan\n",
    "    return a\n",
    "\n",
    "def check_index_m2(x):\n",
    "    try:\n",
    "        over_array = np.array(re.findall('(\\d)',x)).astype(int)\n",
    "        last_num = str(over_array[over_array>1][-1])\n",
    "        sparray = np.array(x.split(','))\n",
    "        a = 24-(np.where(sparray==last_num)[0][-1]+1)\n",
    "    except:\n",
    "        a = np.nan\n",
    "    return a\n",
    "\n",
    "def check_index_m3(x):\n",
    "    try:\n",
    "        over_array = np.array(re.findall('(\\d)',x)).astype(int)\n",
    "        last_num = str(over_array[over_array>2][-1])\n",
    "        sparray = np.array(x.split(','))\n",
    "        a = 24-(np.where(sparray==last_num)[0][-1]+1)\n",
    "    except:\n",
    "        a = np.nan\n",
    "    return a\n",
    "\n",
    "def check_index_m4(x):\n",
    "    try:\n",
    "        over_array = np.array(re.findall('(\\d)',x)).astype(int)\n",
    "        last_num = str(over_array[over_array>3][-1])\n",
    "        sparray = np.array(x.split(','))\n",
    "        a = 24-(np.where(sparray==last_num)[0][-1]+1)\n",
    "    except:\n",
    "        a = np.nan\n",
    "    return a\n",
    "\n",
    "overdue_data_loan_card['贷记卡最近一次M0距今月数'] = overdue_data_loan_card['LAST_24STATE'].apply(check_index_m0)\n",
    "overdue_data_loan_card['贷记卡最近一次M1及以上距今月数'] = overdue_data_loan_card['LAST_24STATE'].apply(check_index_m1)\n",
    "overdue_data_loan_card['贷记卡最近一次M2及以上距今月数'] = overdue_data_loan_card['LAST_24STATE'].apply(check_index_m2)\n",
    "overdue_data_loan_card['贷记卡最近一次M3及以上距今月数'] = overdue_data_loan_card['LAST_24STATE'].apply(check_index_m3)\n",
    "overdue_data_loan_card['贷记卡最近一次M4及以上距今月数'] = overdue_data_loan_card['LAST_24STATE'].apply(check_index_m4)"
   ]
  },
  {
   "cell_type": "code",
   "execution_count": 54,
   "metadata": {
    "scrolled": true
   },
   "outputs": [
    {
     "data": {
      "text/html": [
       "<div>\n",
       "<style scoped>\n",
       "    .dataframe tbody tr th:only-of-type {\n",
       "        vertical-align: middle;\n",
       "    }\n",
       "\n",
       "    .dataframe tbody tr th {\n",
       "        vertical-align: top;\n",
       "    }\n",
       "\n",
       "    .dataframe thead th {\n",
       "        text-align: right;\n",
       "    }\n",
       "</style>\n",
       "<table border=\"1\" class=\"dataframe\">\n",
       "  <thead>\n",
       "    <tr style=\"text-align: right;\">\n",
       "      <th></th>\n",
       "      <th>REPORT_ID</th>\n",
       "      <th>贷记卡最近一次M0距今月数</th>\n",
       "      <th>贷记卡最近一次M1及以上距今月数</th>\n",
       "      <th>贷记卡最近一次M2及以上距今月数</th>\n",
       "      <th>贷记卡最近一次M3及以上距今月数</th>\n",
       "      <th>贷记卡最近一次M4及以上距今月数</th>\n",
       "    </tr>\n",
       "  </thead>\n",
       "  <tbody>\n",
       "    <tr>\n",
       "      <th>0</th>\n",
       "      <td>2018111300006460106371</td>\n",
       "      <td>NaN</td>\n",
       "      <td>NaN</td>\n",
       "      <td>NaN</td>\n",
       "      <td>NaN</td>\n",
       "      <td>NaN</td>\n",
       "    </tr>\n",
       "    <tr>\n",
       "      <th>1</th>\n",
       "      <td>2018111300006460120325</td>\n",
       "      <td>NaN</td>\n",
       "      <td>NaN</td>\n",
       "      <td>NaN</td>\n",
       "      <td>NaN</td>\n",
       "      <td>NaN</td>\n",
       "    </tr>\n",
       "    <tr>\n",
       "      <th>2</th>\n",
       "      <td>2018111300006460126410</td>\n",
       "      <td>1.0</td>\n",
       "      <td>1.0</td>\n",
       "      <td>NaN</td>\n",
       "      <td>NaN</td>\n",
       "      <td>NaN</td>\n",
       "    </tr>\n",
       "    <tr>\n",
       "      <th>3</th>\n",
       "      <td>2018111300006460193304</td>\n",
       "      <td>NaN</td>\n",
       "      <td>NaN</td>\n",
       "      <td>NaN</td>\n",
       "      <td>NaN</td>\n",
       "      <td>NaN</td>\n",
       "    </tr>\n",
       "    <tr>\n",
       "      <th>4</th>\n",
       "      <td>2018111300006460216344</td>\n",
       "      <td>3.0</td>\n",
       "      <td>3.0</td>\n",
       "      <td>NaN</td>\n",
       "      <td>NaN</td>\n",
       "      <td>NaN</td>\n",
       "    </tr>\n",
       "  </tbody>\n",
       "</table>\n",
       "</div>"
      ],
      "text/plain": [
       "                REPORT_ID  贷记卡最近一次M0距今月数  贷记卡最近一次M1及以上距今月数  贷记卡最近一次M2及以上距今月数  \\\n",
       "0  2018111300006460106371            NaN               NaN               NaN   \n",
       "1  2018111300006460120325            NaN               NaN               NaN   \n",
       "2  2018111300006460126410            1.0               1.0               NaN   \n",
       "3  2018111300006460193304            NaN               NaN               NaN   \n",
       "4  2018111300006460216344            3.0               3.0               NaN   \n",
       "\n",
       "   贷记卡最近一次M3及以上距今月数  贷记卡最近一次M4及以上距今月数  \n",
       "0               NaN               NaN  \n",
       "1               NaN               NaN  \n",
       "2               NaN               NaN  \n",
       "3               NaN               NaN  \n",
       "4               NaN               NaN  "
      ]
     },
     "execution_count": 54,
     "metadata": {},
     "output_type": "execute_result"
    }
   ],
   "source": [
    "accage_loan_card = overdue_data_loan_card.groupby('REPORT_ID',as_index=False)[['贷记卡最近一次M0距今月数','贷记卡最近一次M1及以上距今月数',\n",
    "                                                             '贷记卡最近一次M2及以上距今月数','贷记卡最近一次M3及以上距今月数',\n",
    "                                                             '贷记卡最近一次M4及以上距今月数']].min()\n",
    "accage_loan_card.head()"
   ]
  },
  {
   "cell_type": "markdown",
   "metadata": {},
   "source": [
    "## 13.贷款三个月内M1次数、贷款三个月内M2次数、贷款三个月内M3次数、贷款三个月内M4次数、贷款三个月内M7次数"
   ]
  },
  {
   "cell_type": "code",
   "execution_count": 55,
   "metadata": {},
   "outputs": [],
   "source": [
    "overdue_data_loan = tbl_per_loan_info[['REPORT_ID','LATEST24STATE','LAST24MONTHBEGINMONTH','LAST24MONTHENDMONTH']]\n",
    "overdue_data_loan = overdue_data_loan.dropna(subset=['LATEST24STATE'])\n",
    "overdue_data_loan['LATEST3STATE'] = overdue_data_loan['LATEST24STATE'].str.split(',').apply(lambda x:','.join(x[-4:]))\n",
    "overdue_data_loan['LATEST6STATE'] = overdue_data_loan['LATEST24STATE'].str.split(',').apply(lambda x:','.join(x[-7:]))\n",
    "overdue_data_loan['LATEST12STATE'] = overdue_data_loan['LATEST24STATE'].str.split(',').apply(lambda x:','.join(x[-13:]))"
   ]
  },
  {
   "cell_type": "code",
   "execution_count": 56,
   "metadata": {},
   "outputs": [],
   "source": [
    "overdue_data_loan['贷款三个月内M1次数'] = overdue_data_loan['LATEST3STATE'].str.findall('(1)').apply(lambda x:len(x))\n",
    "overdue_data_loan['贷款三个月内M2次数'] = overdue_data_loan['LATEST3STATE'].str.findall('(2)').apply(lambda x:len(x))\n",
    "overdue_data_loan['贷款三个月内M3次数'] = overdue_data_loan['LATEST3STATE'].str.findall('(3)').apply(lambda x:len(x))\n",
    "overdue_data_loan['贷款三个月内M4次数'] = overdue_data_loan['LATEST3STATE'].str.findall('(4)').apply(lambda x:len(x))\n",
    "overdue_data_loan['贷款三个月内M7次数'] = overdue_data_loan['LATEST3STATE'].str.findall('(7)').apply(lambda x:len(x))"
   ]
  },
  {
   "cell_type": "code",
   "execution_count": 57,
   "metadata": {},
   "outputs": [],
   "source": [
    "overdue_data_loan['贷款六个月内M1次数'] = overdue_data_loan['LATEST6STATE'].str.findall('(1)').apply(lambda x:len(x))\n",
    "overdue_data_loan['贷款六个月内M2次数'] = overdue_data_loan['LATEST6STATE'].str.findall('(2)').apply(lambda x:len(x))\n",
    "overdue_data_loan['贷款六个月内M3次数'] = overdue_data_loan['LATEST6STATE'].str.findall('(3)').apply(lambda x:len(x))\n",
    "overdue_data_loan['贷款六个月内M4次数'] = overdue_data_loan['LATEST6STATE'].str.findall('(4)').apply(lambda x:len(x))\n",
    "overdue_data_loan['贷款六个月内M7次数'] = overdue_data_loan['LATEST6STATE'].str.findall('(7)').apply(lambda x:len(x))"
   ]
  },
  {
   "cell_type": "code",
   "execution_count": 58,
   "metadata": {},
   "outputs": [],
   "source": [
    "overdue_data_loan['贷款十二个月内M1次数'] = overdue_data_loan['LATEST12STATE'].str.findall('(1)').apply(lambda x:len(x))\n",
    "overdue_data_loan['贷款十二个月内M2次数'] = overdue_data_loan['LATEST12STATE'].str.findall('(2)').apply(lambda x:len(x))\n",
    "overdue_data_loan['贷款十二个月内M3次数'] = overdue_data_loan['LATEST12STATE'].str.findall('(3)').apply(lambda x:len(x))\n",
    "overdue_data_loan['贷款十二个月内M4次数'] = overdue_data_loan['LATEST12STATE'].str.findall('(4)').apply(lambda x:len(x))\n",
    "overdue_data_loan['贷款十二个月内M7次数'] = overdue_data_loan['LATEST12STATE'].str.findall('(7)').apply(lambda x:len(x))"
   ]
  },
  {
   "cell_type": "code",
   "execution_count": 59,
   "metadata": {},
   "outputs": [],
   "source": [
    "cols = overdue_data_loan.columns\n",
    "accage_count_loan = overdue_data_loan.groupby('REPORT_ID',as_index=False)[cols[cols.str.contains('次数')]].sum()"
   ]
  },
  {
   "cell_type": "code",
   "execution_count": 60,
   "metadata": {},
   "outputs": [
    {
     "data": {
      "text/html": [
       "<div>\n",
       "<style scoped>\n",
       "    .dataframe tbody tr th:only-of-type {\n",
       "        vertical-align: middle;\n",
       "    }\n",
       "\n",
       "    .dataframe tbody tr th {\n",
       "        vertical-align: top;\n",
       "    }\n",
       "\n",
       "    .dataframe thead th {\n",
       "        text-align: right;\n",
       "    }\n",
       "</style>\n",
       "<table border=\"1\" class=\"dataframe\">\n",
       "  <thead>\n",
       "    <tr style=\"text-align: right;\">\n",
       "      <th></th>\n",
       "      <th>REPORT_ID</th>\n",
       "      <th>贷款三个月内M1次数</th>\n",
       "      <th>贷款三个月内M2次数</th>\n",
       "      <th>贷款三个月内M3次数</th>\n",
       "      <th>贷款三个月内M4次数</th>\n",
       "      <th>贷款三个月内M7次数</th>\n",
       "      <th>贷款六个月内M1次数</th>\n",
       "      <th>贷款六个月内M2次数</th>\n",
       "      <th>贷款六个月内M3次数</th>\n",
       "      <th>贷款六个月内M4次数</th>\n",
       "      <th>贷款六个月内M7次数</th>\n",
       "      <th>贷款十二个月内M1次数</th>\n",
       "      <th>贷款十二个月内M2次数</th>\n",
       "      <th>贷款十二个月内M3次数</th>\n",
       "      <th>贷款十二个月内M4次数</th>\n",
       "      <th>贷款十二个月内M7次数</th>\n",
       "    </tr>\n",
       "  </thead>\n",
       "  <tbody>\n",
       "    <tr>\n",
       "      <th>0</th>\n",
       "      <td>2018111300006460106371</td>\n",
       "      <td>0</td>\n",
       "      <td>0</td>\n",
       "      <td>0</td>\n",
       "      <td>0</td>\n",
       "      <td>0</td>\n",
       "      <td>0</td>\n",
       "      <td>0</td>\n",
       "      <td>0</td>\n",
       "      <td>0</td>\n",
       "      <td>0</td>\n",
       "      <td>0</td>\n",
       "      <td>0</td>\n",
       "      <td>0</td>\n",
       "      <td>0</td>\n",
       "      <td>0</td>\n",
       "    </tr>\n",
       "    <tr>\n",
       "      <th>1</th>\n",
       "      <td>2018111300006460120325</td>\n",
       "      <td>0</td>\n",
       "      <td>0</td>\n",
       "      <td>0</td>\n",
       "      <td>0</td>\n",
       "      <td>0</td>\n",
       "      <td>0</td>\n",
       "      <td>0</td>\n",
       "      <td>0</td>\n",
       "      <td>0</td>\n",
       "      <td>0</td>\n",
       "      <td>0</td>\n",
       "      <td>0</td>\n",
       "      <td>0</td>\n",
       "      <td>0</td>\n",
       "      <td>0</td>\n",
       "    </tr>\n",
       "    <tr>\n",
       "      <th>2</th>\n",
       "      <td>2018111300006460126410</td>\n",
       "      <td>0</td>\n",
       "      <td>0</td>\n",
       "      <td>0</td>\n",
       "      <td>0</td>\n",
       "      <td>0</td>\n",
       "      <td>0</td>\n",
       "      <td>0</td>\n",
       "      <td>0</td>\n",
       "      <td>0</td>\n",
       "      <td>0</td>\n",
       "      <td>0</td>\n",
       "      <td>0</td>\n",
       "      <td>0</td>\n",
       "      <td>0</td>\n",
       "      <td>0</td>\n",
       "    </tr>\n",
       "    <tr>\n",
       "      <th>3</th>\n",
       "      <td>2018111300006460193304</td>\n",
       "      <td>0</td>\n",
       "      <td>0</td>\n",
       "      <td>0</td>\n",
       "      <td>0</td>\n",
       "      <td>0</td>\n",
       "      <td>0</td>\n",
       "      <td>0</td>\n",
       "      <td>0</td>\n",
       "      <td>0</td>\n",
       "      <td>0</td>\n",
       "      <td>0</td>\n",
       "      <td>0</td>\n",
       "      <td>0</td>\n",
       "      <td>0</td>\n",
       "      <td>0</td>\n",
       "    </tr>\n",
       "    <tr>\n",
       "      <th>4</th>\n",
       "      <td>2018111300006460216344</td>\n",
       "      <td>0</td>\n",
       "      <td>0</td>\n",
       "      <td>0</td>\n",
       "      <td>0</td>\n",
       "      <td>0</td>\n",
       "      <td>0</td>\n",
       "      <td>0</td>\n",
       "      <td>0</td>\n",
       "      <td>0</td>\n",
       "      <td>0</td>\n",
       "      <td>0</td>\n",
       "      <td>0</td>\n",
       "      <td>0</td>\n",
       "      <td>0</td>\n",
       "      <td>0</td>\n",
       "    </tr>\n",
       "  </tbody>\n",
       "</table>\n",
       "</div>"
      ],
      "text/plain": [
       "                REPORT_ID  贷款三个月内M1次数  贷款三个月内M2次数  贷款三个月内M3次数  贷款三个月内M4次数  \\\n",
       "0  2018111300006460106371           0           0           0           0   \n",
       "1  2018111300006460120325           0           0           0           0   \n",
       "2  2018111300006460126410           0           0           0           0   \n",
       "3  2018111300006460193304           0           0           0           0   \n",
       "4  2018111300006460216344           0           0           0           0   \n",
       "\n",
       "   贷款三个月内M7次数  贷款六个月内M1次数  贷款六个月内M2次数  贷款六个月内M3次数  贷款六个月内M4次数  贷款六个月内M7次数  \\\n",
       "0           0           0           0           0           0           0   \n",
       "1           0           0           0           0           0           0   \n",
       "2           0           0           0           0           0           0   \n",
       "3           0           0           0           0           0           0   \n",
       "4           0           0           0           0           0           0   \n",
       "\n",
       "   贷款十二个月内M1次数  贷款十二个月内M2次数  贷款十二个月内M3次数  贷款十二个月内M4次数  贷款十二个月内M7次数  \n",
       "0            0            0            0            0            0  \n",
       "1            0            0            0            0            0  \n",
       "2            0            0            0            0            0  \n",
       "3            0            0            0            0            0  \n",
       "4            0            0            0            0            0  "
      ]
     },
     "execution_count": 60,
     "metadata": {},
     "output_type": "execute_result"
    }
   ],
   "source": [
    "accage_count_loan.head()"
   ]
  },
  {
   "cell_type": "markdown",
   "metadata": {},
   "source": [
    "## 14.征信贷款最近一次M0距今月数、征信贷款最近一次M1及以上距今月数、征信贷款最近一次M2及以上距今月数、征信贷款最近一次M3及以上距今月数、征信贷款最近一次M4及以上距今月数"
   ]
  },
  {
   "cell_type": "code",
   "execution_count": 61,
   "metadata": {},
   "outputs": [],
   "source": [
    "overdue_data_loan['贷款最近一次M0距今月数'] = overdue_data_loan['LATEST24STATE'].apply(check_index_m0)\n",
    "overdue_data_loan['贷款最近一次M1及以上距今月数'] = overdue_data_loan['LATEST24STATE'].apply(check_index_m1)\n",
    "overdue_data_loan['贷款最近一次M2及以上距今月数'] = overdue_data_loan['LATEST24STATE'].apply(check_index_m2)\n",
    "overdue_data_loan['贷款最近一次M3及以上距今月数'] = overdue_data_loan['LATEST24STATE'].apply(check_index_m3)\n",
    "overdue_data_loan['贷款最近一次M4及以上距今月数'] = overdue_data_loan['LATEST24STATE'].apply(check_index_m4)\n",
    "# overdue_data_loan = overdue_data_loan.fillna(0)\n",
    "accage_loan = overdue_data_loan.groupby('REPORT_ID',as_index=False)[['贷款最近一次M0距今月数','贷款最近一次M1及以上距今月数',\n",
    "                                                             '贷款最近一次M2及以上距今月数','贷款最近一次M3及以上距今月数',\n",
    "                                                             '贷款最近一次M4及以上距今月数']].min()"
   ]
  },
  {
   "cell_type": "code",
   "execution_count": 62,
   "metadata": {},
   "outputs": [
    {
     "data": {
      "text/html": [
       "<div>\n",
       "<style scoped>\n",
       "    .dataframe tbody tr th:only-of-type {\n",
       "        vertical-align: middle;\n",
       "    }\n",
       "\n",
       "    .dataframe tbody tr th {\n",
       "        vertical-align: top;\n",
       "    }\n",
       "\n",
       "    .dataframe thead th {\n",
       "        text-align: right;\n",
       "    }\n",
       "</style>\n",
       "<table border=\"1\" class=\"dataframe\">\n",
       "  <thead>\n",
       "    <tr style=\"text-align: right;\">\n",
       "      <th></th>\n",
       "      <th>REPORT_ID</th>\n",
       "      <th>贷款最近一次M0距今月数</th>\n",
       "      <th>贷款最近一次M1及以上距今月数</th>\n",
       "      <th>贷款最近一次M2及以上距今月数</th>\n",
       "      <th>贷款最近一次M3及以上距今月数</th>\n",
       "      <th>贷款最近一次M4及以上距今月数</th>\n",
       "    </tr>\n",
       "  </thead>\n",
       "  <tbody>\n",
       "    <tr>\n",
       "      <th>0</th>\n",
       "      <td>2018111300006460106371</td>\n",
       "      <td>NaN</td>\n",
       "      <td>NaN</td>\n",
       "      <td>NaN</td>\n",
       "      <td>NaN</td>\n",
       "      <td>NaN</td>\n",
       "    </tr>\n",
       "    <tr>\n",
       "      <th>1</th>\n",
       "      <td>2018111300006460120325</td>\n",
       "      <td>NaN</td>\n",
       "      <td>NaN</td>\n",
       "      <td>NaN</td>\n",
       "      <td>NaN</td>\n",
       "      <td>NaN</td>\n",
       "    </tr>\n",
       "    <tr>\n",
       "      <th>2</th>\n",
       "      <td>2018111300006460126410</td>\n",
       "      <td>NaN</td>\n",
       "      <td>NaN</td>\n",
       "      <td>NaN</td>\n",
       "      <td>NaN</td>\n",
       "      <td>NaN</td>\n",
       "    </tr>\n",
       "    <tr>\n",
       "      <th>3</th>\n",
       "      <td>2018111300006460193304</td>\n",
       "      <td>NaN</td>\n",
       "      <td>NaN</td>\n",
       "      <td>NaN</td>\n",
       "      <td>NaN</td>\n",
       "      <td>NaN</td>\n",
       "    </tr>\n",
       "    <tr>\n",
       "      <th>4</th>\n",
       "      <td>2018111300006460216344</td>\n",
       "      <td>NaN</td>\n",
       "      <td>NaN</td>\n",
       "      <td>NaN</td>\n",
       "      <td>NaN</td>\n",
       "      <td>NaN</td>\n",
       "    </tr>\n",
       "  </tbody>\n",
       "</table>\n",
       "</div>"
      ],
      "text/plain": [
       "                REPORT_ID  贷款最近一次M0距今月数  贷款最近一次M1及以上距今月数  贷款最近一次M2及以上距今月数  \\\n",
       "0  2018111300006460106371           NaN              NaN              NaN   \n",
       "1  2018111300006460120325           NaN              NaN              NaN   \n",
       "2  2018111300006460126410           NaN              NaN              NaN   \n",
       "3  2018111300006460193304           NaN              NaN              NaN   \n",
       "4  2018111300006460216344           NaN              NaN              NaN   \n",
       "\n",
       "   贷款最近一次M3及以上距今月数  贷款最近一次M4及以上距今月数  \n",
       "0              NaN              NaN  \n",
       "1              NaN              NaN  \n",
       "2              NaN              NaN  \n",
       "3              NaN              NaN  \n",
       "4              NaN              NaN  "
      ]
     },
     "execution_count": 62,
     "metadata": {},
     "output_type": "execute_result"
    }
   ],
   "source": [
    "accage_loan.head()"
   ]
  },
  {
   "cell_type": "markdown",
   "metadata": {},
   "source": [
    "## 15.性别、年龄、婚姻状况、学历"
   ]
  },
  {
   "cell_type": "code",
   "execution_count": 63,
   "metadata": {},
   "outputs": [
    {
     "name": "stderr",
     "output_type": "stream",
     "text": [
      "<ipython-input-63-327dc10e3e11>:2: SettingWithCopyWarning: \n",
      "A value is trying to be set on a copy of a slice from a DataFrame.\n",
      "Try using .loc[row_indexer,col_indexer] = value instead\n",
      "\n",
      "See the caveats in the documentation: https://pandas.pydata.org/pandas-docs/stable/user_guide/indexing.html#returning-a-view-versus-a-copy\n",
      "  personal_data['GENDER'] = personal_data['GENDER'].replace({'男性':1,'女性':0,'--':0})\n",
      "<ipython-input-63-327dc10e3e11>:4: SettingWithCopyWarning: \n",
      "A value is trying to be set on a copy of a slice from a DataFrame.\n",
      "Try using .loc[row_indexer,col_indexer] = value instead\n",
      "\n",
      "See the caveats in the documentation: https://pandas.pydata.org/pandas-docs/stable/user_guide/indexing.html#returning-a-view-versus-a-copy\n",
      "  personal_data['BIRTHDAY'] = personal_data['BIRTHDAY'].apply(lambda x:datetime.datetime.strptime(x,'%Y.%m.%d') if len(x) == 10 else x)\n",
      "<ipython-input-63-327dc10e3e11>:5: SettingWithCopyWarning: \n",
      "A value is trying to be set on a copy of a slice from a DataFrame.\n",
      "Try using .loc[row_indexer,col_indexer] = value instead\n",
      "\n",
      "See the caveats in the documentation: https://pandas.pydata.org/pandas-docs/stable/user_guide/indexing.html#returning-a-view-versus-a-copy\n",
      "  personal_data['AGE'] = personal_data['BIRTHDAY'].apply(lambda x:round((cur_date-x).days/365) if x != '--' else x)\n",
      "D:\\tools\\Anaconda3\\lib\\site-packages\\pandas\\core\\generic.py:6746: SettingWithCopyWarning: \n",
      "A value is trying to be set on a copy of a slice from a DataFrame\n",
      "\n",
      "See the caveats in the documentation: https://pandas.pydata.org/pandas-docs/stable/user_guide/indexing.html#returning-a-view-versus-a-copy\n",
      "  self._update_inplace(new_data)\n"
     ]
    }
   ],
   "source": [
    "personal_data = tbl_per_person_info[['REPORT_ID','GENDER','BIRTHDAY','MARITAL_STSTE','EDU_LEVEL']]\n",
    "personal_data['GENDER'] = personal_data['GENDER'].replace({'男性':1,'女性':0,'--':0})\n",
    "cur_date = datetime.datetime.today()\n",
    "personal_data['BIRTHDAY'] = personal_data['BIRTHDAY'].apply(lambda x:datetime.datetime.strptime(x,'%Y.%m.%d') if len(x) == 10 else x)\n",
    "personal_data['AGE'] = personal_data['BIRTHDAY'].apply(lambda x:round((cur_date-x).days/365) if x != '--' else x)\n",
    "personal_data['EDU_LEVEL'].replace({'研究生': 10,'大学本科（简称\"大学\"）':20,'大学专科和专科学校（简称\"大专\"）':21,\n",
    "                                    '高中':30,'中等专业学校或中等技术学校':31,'技术学校':32,'初中':40,'小学':50,\n",
    "                                    '文盲或半文盲':60,'--':np.nan}, inplace = True)\n",
    "personal_data['MARITAL_STSTE'].replace({'已婚': 1,'未婚':0,'离婚':0,'--':0}, inplace = True)\n",
    "del personal_data['BIRTHDAY']\n",
    "personal_data.columns = ['REPORT_ID','性别','婚姻状况','学历','年龄']"
   ]
  },
  {
   "cell_type": "code",
   "execution_count": 64,
   "metadata": {},
   "outputs": [
    {
     "data": {
      "text/html": [
       "<div>\n",
       "<style scoped>\n",
       "    .dataframe tbody tr th:only-of-type {\n",
       "        vertical-align: middle;\n",
       "    }\n",
       "\n",
       "    .dataframe tbody tr th {\n",
       "        vertical-align: top;\n",
       "    }\n",
       "\n",
       "    .dataframe thead th {\n",
       "        text-align: right;\n",
       "    }\n",
       "</style>\n",
       "<table border=\"1\" class=\"dataframe\">\n",
       "  <thead>\n",
       "    <tr style=\"text-align: right;\">\n",
       "      <th></th>\n",
       "      <th>REPORT_ID</th>\n",
       "      <th>性别</th>\n",
       "      <th>婚姻状况</th>\n",
       "      <th>学历</th>\n",
       "      <th>年龄</th>\n",
       "    </tr>\n",
       "  </thead>\n",
       "  <tbody>\n",
       "    <tr>\n",
       "      <th>0</th>\n",
       "      <td>2018111300006460120325</td>\n",
       "      <td>0</td>\n",
       "      <td>1</td>\n",
       "      <td>40.0</td>\n",
       "      <td>54</td>\n",
       "    </tr>\n",
       "    <tr>\n",
       "      <th>1</th>\n",
       "      <td>2018111300006460216344</td>\n",
       "      <td>1</td>\n",
       "      <td>1</td>\n",
       "      <td>40.0</td>\n",
       "      <td>58</td>\n",
       "    </tr>\n",
       "    <tr>\n",
       "      <th>2</th>\n",
       "      <td>2018111300006460324975</td>\n",
       "      <td>1</td>\n",
       "      <td>1</td>\n",
       "      <td>21.0</td>\n",
       "      <td>52</td>\n",
       "    </tr>\n",
       "    <tr>\n",
       "      <th>3</th>\n",
       "      <td>2018111300006460360719</td>\n",
       "      <td>1</td>\n",
       "      <td>丧偶</td>\n",
       "      <td>20.0</td>\n",
       "      <td>45</td>\n",
       "    </tr>\n",
       "    <tr>\n",
       "      <th>4</th>\n",
       "      <td>2018111300006460611616</td>\n",
       "      <td>1</td>\n",
       "      <td>1</td>\n",
       "      <td>21.0</td>\n",
       "      <td>49</td>\n",
       "    </tr>\n",
       "  </tbody>\n",
       "</table>\n",
       "</div>"
      ],
      "text/plain": [
       "                REPORT_ID  性别 婚姻状况    学历  年龄\n",
       "0  2018111300006460120325   0    1  40.0  54\n",
       "1  2018111300006460216344   1    1  40.0  58\n",
       "2  2018111300006460324975   1    1  21.0  52\n",
       "3  2018111300006460360719   1   丧偶  20.0  45\n",
       "4  2018111300006460611616   1    1  21.0  49"
      ]
     },
     "execution_count": 64,
     "metadata": {},
     "output_type": "execute_result"
    }
   ],
   "source": [
    "personal_data.head()"
   ]
  },
  {
   "cell_type": "markdown",
   "metadata": {},
   "source": [
    "## 16.近5年最大逾期与累计逾期"
   ]
  },
  {
   "cell_type": "code",
   "execution_count": 65,
   "metadata": {},
   "outputs": [],
   "source": [
    "overdue_record = tbl_per_overdue_record[['REPORT_ID','LASTMONTHS']]\n",
    "overdue_record = overdue_record.groupby('REPORT_ID').agg({'LASTMONTHS':['max','sum']})\n",
    "overdue_record = overdue_record['LASTMONTHS'].reset_index()\n",
    "overdue_record.columns = ['REPORT_ID','近5年已结清最大逾期','近5年已结清累计逾期']\n",
    "overdue_record = overdue_record.merge(overdue_data_all[['REPORT_ID','近24月累计逾期','近24月最大逾期']],how='outer').fillna(0)\n",
    "cols = overdue_record.columns\n",
    "overdue_record['近5年最大逾期'] = overdue_record[cols[cols.str.contains('最大')]].max(axis=1)\n",
    "overdue_record['近5年累计逾期'] = overdue_record[cols[cols.str.contains('累计')]].sum(axis=1)\n",
    "overdue_record = overdue_record[['REPORT_ID','近5年最大逾期','近5年累计逾期']]"
   ]
  },
  {
   "cell_type": "code",
   "execution_count": 66,
   "metadata": {},
   "outputs": [
    {
     "data": {
      "text/html": [
       "<div>\n",
       "<style scoped>\n",
       "    .dataframe tbody tr th:only-of-type {\n",
       "        vertical-align: middle;\n",
       "    }\n",
       "\n",
       "    .dataframe tbody tr th {\n",
       "        vertical-align: top;\n",
       "    }\n",
       "\n",
       "    .dataframe thead th {\n",
       "        text-align: right;\n",
       "    }\n",
       "</style>\n",
       "<table border=\"1\" class=\"dataframe\">\n",
       "  <thead>\n",
       "    <tr style=\"text-align: right;\">\n",
       "      <th></th>\n",
       "      <th>REPORT_ID</th>\n",
       "      <th>近5年最大逾期</th>\n",
       "      <th>近5年累计逾期</th>\n",
       "    </tr>\n",
       "  </thead>\n",
       "  <tbody>\n",
       "    <tr>\n",
       "      <th>0</th>\n",
       "      <td>2018111300006460120325</td>\n",
       "      <td>1.0</td>\n",
       "      <td>1.0</td>\n",
       "    </tr>\n",
       "    <tr>\n",
       "      <th>1</th>\n",
       "      <td>2018111300006460126410</td>\n",
       "      <td>1.0</td>\n",
       "      <td>4.0</td>\n",
       "    </tr>\n",
       "    <tr>\n",
       "      <th>2</th>\n",
       "      <td>2018111300006460216344</td>\n",
       "      <td>1.0</td>\n",
       "      <td>5.0</td>\n",
       "    </tr>\n",
       "    <tr>\n",
       "      <th>3</th>\n",
       "      <td>2018111300006460324975</td>\n",
       "      <td>1.0</td>\n",
       "      <td>7.0</td>\n",
       "    </tr>\n",
       "    <tr>\n",
       "      <th>4</th>\n",
       "      <td>2018111300006460325386</td>\n",
       "      <td>1.0</td>\n",
       "      <td>5.0</td>\n",
       "    </tr>\n",
       "  </tbody>\n",
       "</table>\n",
       "</div>"
      ],
      "text/plain": [
       "                REPORT_ID  近5年最大逾期  近5年累计逾期\n",
       "0  2018111300006460120325      1.0      1.0\n",
       "1  2018111300006460126410      1.0      4.0\n",
       "2  2018111300006460216344      1.0      5.0\n",
       "3  2018111300006460324975      1.0      7.0\n",
       "4  2018111300006460325386      1.0      5.0"
      ]
     },
     "execution_count": 66,
     "metadata": {},
     "output_type": "execute_result"
    }
   ],
   "source": [
    "overdue_record.head()"
   ]
  },
  {
   "cell_type": "markdown",
   "metadata": {},
   "source": [
    "## 17.征信白户"
   ]
  },
  {
   "cell_type": "code",
   "execution_count": 67,
   "metadata": {},
   "outputs": [],
   "source": [
    "customers = set(main_table_use['REPORT_ID'])\n",
    "account_count = tbl_per_info_summary[['REPORT_ID','LOAN_CARD_COUNT','LOAN_OVERDUE_COUNT','UNPAIDLOAN_FINANCE_ORG_COUNT','GUAR_COUNT',\n",
    "                                      'HOUSE_LOAN_COUNT','BUSI_HOUSE_LOAN_COUNT','STANDARD_LOAN_CARD_COUNT','OTHER_LOAN_COUNT']]\n",
    "account_count = account_count.set_index('REPORT_ID').fillna(0)\n",
    "white_customers = account_count[(account_count == 0).all(axis=1)].index"
   ]
  },
  {
   "cell_type": "code",
   "execution_count": 68,
   "metadata": {},
   "outputs": [],
   "source": [
    "# account_count[(account_count == 0).all(axis=1)]"
   ]
  },
  {
   "cell_type": "markdown",
   "metadata": {},
   "source": [
    "## 18.当前状态"
   ]
  },
  {
   "cell_type": "code",
   "execution_count": 69,
   "metadata": {},
   "outputs": [],
   "source": [
    "curr_state_1 = tbl_per_loan_info[['REPORT_ID','STATE']]\n",
    "curr_state_2 = tbl_per_loan_card_info[['REPORT_ID','STATE']]\n",
    "overdue_loan_ids = set(curr_state_1.loc[curr_state_1['STATE'] == '逾期','REPORT_ID'])\n",
    "overdue_loan_card_ids = set(curr_state_2.loc[curr_state_1['STATE'] == '逾期','REPORT_ID'])\n",
    "overdue_ids = overdue_loan_card_ids | overdue_loan_ids"
   ]
  },
  {
   "cell_type": "code",
   "execution_count": 70,
   "metadata": {},
   "outputs": [],
   "source": [
    "main_table_use['当前逾期'] = 0\n",
    "main_table_use.loc[main_table_use['REPORT_ID'].isin(overdue_ids),'当前逾期']\n",
    "main_table_use = reduce(all_merge,[main_table_use,overdue_data_all,record_all,exp_bank_data_all,used_credit,\n",
    "                                  guar_balance,no_settle_info,his_loan_org_count,personal_data,overdue_record,total_loan_info,\n",
    "                                   pay_and_loan_ratio,accage_loan_card,accage_count_loan,accage_loan])\n",
    "main_table_use['征信白户'] = 0\n",
    "main_table_use.loc[main_table_use['REPORT_ID'].isin(white_customers),'征信白户'] = 1"
   ]
  },
  {
   "cell_type": "code",
   "execution_count": 71,
   "metadata": {},
   "outputs": [],
   "source": [
    "main_table_use_mr['当前逾期'] = 0\n",
    "main_table_use_mr.loc[main_table_use_mr['REPORT_ID'].isin(overdue_ids),'当前逾期']\n",
    "main_table_use_table = main_table_use_mr.drop_duplicates()\n",
    "main_table_use_mr = reduce(all_merge,[main_table_use_mr,overdue_data_all,record_all,exp_bank_data_all,used_credit,\n",
    "                                  guar_balance,no_settle_info,his_loan_org_count,personal_data,overdue_record,total_loan_info,\n",
    "                                   pay_and_loan_ratio,accage_loan_card,accage_count_loan,accage_loan])\n",
    "\n",
    "main_table_use_mr['征信白户'] = 0\n",
    "main_table_use_mr.loc[main_table_use_mr['REPORT_ID'].isin(white_customers),'征信白户'] = 1"
   ]
  },
  {
   "cell_type": "code",
   "execution_count": 72,
   "metadata": {},
   "outputs": [],
   "source": [
    "main_table_use_mr = main_table_use_mr.add_prefix('mr_')"
   ]
  },
  {
   "cell_type": "code",
   "execution_count": 73,
   "metadata": {},
   "outputs": [],
   "source": [
    "main_table_use_mr.rename(columns={'mr_证件号码':'配偶证件号码','mr_配偶证件号码':'证件号码','mr_基准时间':'基准时间'},inplace=True)\n",
    "main_table_use_mr.drop(['mr_配偶客编'],axis=1,inplace=True)"
   ]
  },
  {
   "cell_type": "code",
   "execution_count": 74,
   "metadata": {},
   "outputs": [],
   "source": [
    "main_table_all = main_table_use.merge(main_table_use_mr,on=['证件号码','基准时间'],how='left').drop([\n",
    "                                                                           '配偶证件号码_x','REPORT_ID','REPORTDATE','QUERY_REASON',\n",
    "                                                                           'date_delta','mr_REPORT_ID','mr_REPORTDATE','mr_QUERY_REASON',\n",
    "                                                                           'mr_date_delta'],axis=1)"
   ]
  },
  {
   "cell_type": "code",
   "execution_count": 75,
   "metadata": {},
   "outputs": [],
   "source": [
    "dy = pd.read_excel('信贷数据调阅范围.xlsx')\n",
    "dy = dy.drop_duplicates()"
   ]
  },
  {
   "cell_type": "code",
   "execution_count": 76,
   "metadata": {},
   "outputs": [],
   "source": [
    "main_table_all = dy[['证件号码','客户编号']].merge(main_table_all,on=['证件号码'],how='right').drop_duplicates()"
   ]
  },
  {
   "cell_type": "code",
   "execution_count": 77,
   "metadata": {},
   "outputs": [],
   "source": [
    "main_table_all.to_excel('征信特征汇总2.xlsx',index=False)"
   ]
  }
 ],
 "metadata": {
  "kernelspec": {
   "display_name": "Python 3",
   "language": "python",
   "name": "python3"
  },
  "language_info": {
   "codemirror_mode": {
    "name": "ipython",
    "version": 3
   },
   "file_extension": ".py",
   "mimetype": "text/x-python",
   "name": "python",
   "nbconvert_exporter": "python",
   "pygments_lexer": "ipython3",
   "version": "3.8.3"
  },
  "toc": {
   "base_numbering": 1,
   "nav_menu": {},
   "number_sections": false,
   "sideBar": true,
   "skip_h1_title": false,
   "title_cell": "Table of Contents",
   "title_sidebar": "Contents",
   "toc_cell": false,
   "toc_position": {
    "height": "calc(100% - 180px)",
    "left": "10px",
    "top": "150px",
    "width": "264.594px"
   },
   "toc_section_display": true,
   "toc_window_display": true
  },
  "varInspector": {
   "cols": {
    "lenName": 16,
    "lenType": 16,
    "lenVar": 40
   },
   "kernels_config": {
    "python": {
     "delete_cmd_postfix": "",
     "delete_cmd_prefix": "del ",
     "library": "var_list.py",
     "varRefreshCmd": "print(var_dic_list())"
    },
    "r": {
     "delete_cmd_postfix": ") ",
     "delete_cmd_prefix": "rm(",
     "library": "var_list.r",
     "varRefreshCmd": "cat(var_dic_list()) "
    }
   },
   "types_to_exclude": [
    "module",
    "function",
    "builtin_function_or_method",
    "instance",
    "_Feature"
   ],
   "window_display": false
  }
 },
 "nbformat": 4,
 "nbformat_minor": 4
}
