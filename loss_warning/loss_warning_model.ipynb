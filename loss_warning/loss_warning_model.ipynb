{
 "cells": [
  {
   "cell_type": "code",
   "execution_count": 1,
   "metadata": {
    "ExecuteTime": {
     "end_time": "2021-09-21T05:31:04.804939Z",
     "start_time": "2021-09-21T05:31:00.624838Z"
    }
   },
   "outputs": [],
   "source": [
    "import sys\n",
    "sys.path.append('F:\\project\\python_project\\dswork')\n",
    "import pandas as pd\n",
    "import numpy as np\n",
    "from matplotlib import pyplot as plt\n",
    "import datetime\n",
    "from dateutil.relativedelta import relativedelta\n",
    "from sklearn.model_selection import train_test_split,cross_val_score\n",
    "from lightgbm import LGBMClassifier\n",
    "from sklearn.metrics import roc_auc_score,confusion_matrix,roc_curve\n",
    "from sklearn.model_selection import StratifiedKFold\n",
    "from bayes_opt import BayesianOptimization\n",
    "import scorecardpy as sc\n",
    "from unity.fea_eda_func import FeaEdaFunc\n",
    "from unity.perf_func import PertFunc\n",
    "import warnings\n",
    "plt.style.use('ggplot')"
   ]
  },
  {
   "cell_type": "code",
   "execution_count": 2,
   "metadata": {
    "ExecuteTime": {
     "end_time": "2021-09-21T05:31:04.854986Z",
     "start_time": "2021-09-21T05:31:04.841976Z"
    }
   },
   "outputs": [],
   "source": [
    "warnings.filterwarnings('ignore')"
   ]
  },
  {
   "cell_type": "code",
   "execution_count": 3,
   "metadata": {
    "ExecuteTime": {
     "end_time": "2021-09-21T05:31:05.277899Z",
     "start_time": "2021-09-21T05:31:04.888191Z"
    }
   },
   "outputs": [],
   "source": [
    "bhv = pd.read_csv('data\\附件1 CustBehavior.csv')\n",
    "tag = pd.read_csv('data\\附件2 TrainFlag.csv')\n",
    "out = pd.read_csv('data\\附件3 TestPRED.csv')"
   ]
  },
  {
   "cell_type": "code",
   "execution_count": 4,
   "metadata": {
    "ExecuteTime": {
     "end_time": "2021-09-21T05:31:05.357136Z",
     "start_time": "2021-09-21T05:31:05.342415Z"
    }
   },
   "outputs": [],
   "source": [
    "bhv = bhv.rename({'HIS_DW_DATE':'date','ACCOUNT':'uid'},axis=1)\n",
    "tag = tag.rename({'BAD_FLAG':'tag','ACCOUNT':'uid'},axis=1)\n",
    "out = out.rename({'ACCOUNT':'uid'},axis=1)"
   ]
  },
  {
   "cell_type": "markdown",
   "metadata": {},
   "source": [
    "解读说明：以2020年3月1日为观察点，构建行为特征与基本信息特征"
   ]
  },
  {
   "cell_type": "code",
   "execution_count": 5,
   "metadata": {
    "ExecuteTime": {
     "end_time": "2021-09-21T05:31:05.436245Z",
     "start_time": "2021-09-21T05:31:05.422223Z"
    }
   },
   "outputs": [
    {
     "data": {
      "text/plain": [
       "(188061, 37)"
      ]
     },
     "execution_count": 5,
     "metadata": {},
     "output_type": "execute_result"
    }
   ],
   "source": [
    "bhv.shape"
   ]
  },
  {
   "cell_type": "code",
   "execution_count": 6,
   "metadata": {
    "ExecuteTime": {
     "end_time": "2021-09-21T05:31:05.576135Z",
     "start_time": "2021-09-21T05:31:05.542110Z"
    },
    "scrolled": false
   },
   "outputs": [
    {
     "data": {
      "text/html": [
       "<div>\n",
       "<style scoped>\n",
       "    .dataframe tbody tr th:only-of-type {\n",
       "        vertical-align: middle;\n",
       "    }\n",
       "\n",
       "    .dataframe tbody tr th {\n",
       "        vertical-align: top;\n",
       "    }\n",
       "\n",
       "    .dataframe thead th {\n",
       "        text-align: right;\n",
       "    }\n",
       "</style>\n",
       "<table border=\"1\" class=\"dataframe\">\n",
       "  <thead>\n",
       "    <tr style=\"text-align: right;\">\n",
       "      <th></th>\n",
       "      <th>uid</th>\n",
       "      <th>FEE1</th>\n",
       "      <th>FEE2</th>\n",
       "      <th>FEE3</th>\n",
       "      <th>FEE4</th>\n",
       "      <th>FEE5</th>\n",
       "      <th>FEE6</th>\n",
       "      <th>TOTAL_FEE</th>\n",
       "      <th>SONG_LIS_NUM</th>\n",
       "      <th>SONG_DOW_NUM</th>\n",
       "      <th>SONG_TOTAL_FEE</th>\n",
       "      <th>COS_TOTAL_FEE</th>\n",
       "      <th>LIM_DOW_NUM</th>\n",
       "      <th>INV_TOTAL_FEE</th>\n",
       "      <th>ACU_TOTAL_FEE</th>\n",
       "      <th>CLOSE_BAL</th>\n",
       "      <th>CLSBAL_FLAG</th>\n",
       "      <th>PRE_LIMIT_FEE</th>\n",
       "      <th>INSTL_AMT</th>\n",
       "      <th>INT_CHDCMP</th>\n",
       "      <th>INT_CHGD</th>\n",
       "      <th>INT_CMPOND</th>\n",
       "      <th>INT_CUNOT</th>\n",
       "      <th>MIN_DUE</th>\n",
       "      <th>OPEN_BAL</th>\n",
       "      <th>OPBAL_FLAG</th>\n",
       "      <th>OTHER_FEES</th>\n",
       "      <th>PAYMENT</th>\n",
       "      <th>PURCHASES</th>\n",
       "      <th>BAL_MP</th>\n",
       "      <th>NBR_CASHAD_NEW</th>\n",
       "      <th>NBR_FEEDTY_NEW</th>\n",
       "      <th>NBR_OTHERS_NEW</th>\n",
       "      <th>NBR_PAYMNT_NEW</th>\n",
       "      <th>NBR_PURCH_NEW</th>\n",
       "      <th>MTHS_ODUE</th>\n",
       "      <th>date</th>\n",
       "    </tr>\n",
       "  </thead>\n",
       "  <tbody>\n",
       "    <tr>\n",
       "      <th>0</th>\n",
       "      <td>0</td>\n",
       "      <td>0.0</td>\n",
       "      <td>0.0</td>\n",
       "      <td>0.0</td>\n",
       "      <td>0.0</td>\n",
       "      <td>0.0</td>\n",
       "      <td>0.0</td>\n",
       "      <td>0.330408</td>\n",
       "      <td>0.678034</td>\n",
       "      <td>0.0</td>\n",
       "      <td>0.0</td>\n",
       "      <td>0.551596</td>\n",
       "      <td>0.0</td>\n",
       "      <td>0.0</td>\n",
       "      <td>0.0</td>\n",
       "      <td>0.678489</td>\n",
       "      <td>+</td>\n",
       "      <td>0.716874</td>\n",
       "      <td>0.594090</td>\n",
       "      <td>0.558967</td>\n",
       "      <td>0.552494</td>\n",
       "      <td>0.0</td>\n",
       "      <td>0.0</td>\n",
       "      <td>0.594090</td>\n",
       "      <td>0.649947</td>\n",
       "      <td>+</td>\n",
       "      <td>0.0</td>\n",
       "      <td>0.649937</td>\n",
       "      <td>0.678345</td>\n",
       "      <td>0.0</td>\n",
       "      <td>0</td>\n",
       "      <td>0</td>\n",
       "      <td>0</td>\n",
       "      <td>1</td>\n",
       "      <td>4</td>\n",
       "      <td>0</td>\n",
       "      <td>2020/3/1</td>\n",
       "    </tr>\n",
       "    <tr>\n",
       "      <th>1</th>\n",
       "      <td>0</td>\n",
       "      <td>0.0</td>\n",
       "      <td>0.0</td>\n",
       "      <td>0.0</td>\n",
       "      <td>0.0</td>\n",
       "      <td>0.0</td>\n",
       "      <td>0.0</td>\n",
       "      <td>0.339423</td>\n",
       "      <td>0.648463</td>\n",
       "      <td>0.0</td>\n",
       "      <td>0.0</td>\n",
       "      <td>0.570442</td>\n",
       "      <td>0.0</td>\n",
       "      <td>0.0</td>\n",
       "      <td>0.0</td>\n",
       "      <td>0.649947</td>\n",
       "      <td>+</td>\n",
       "      <td>0.716874</td>\n",
       "      <td>0.570037</td>\n",
       "      <td>0.574217</td>\n",
       "      <td>0.571536</td>\n",
       "      <td>0.0</td>\n",
       "      <td>0.0</td>\n",
       "      <td>0.570037</td>\n",
       "      <td>0.682880</td>\n",
       "      <td>+</td>\n",
       "      <td>0.0</td>\n",
       "      <td>0.682870</td>\n",
       "      <td>0.648760</td>\n",
       "      <td>0.0</td>\n",
       "      <td>0</td>\n",
       "      <td>0</td>\n",
       "      <td>0</td>\n",
       "      <td>1</td>\n",
       "      <td>1</td>\n",
       "      <td>0</td>\n",
       "      <td>2020/2/1</td>\n",
       "    </tr>\n",
       "    <tr>\n",
       "      <th>2</th>\n",
       "      <td>0</td>\n",
       "      <td>0.0</td>\n",
       "      <td>0.0</td>\n",
       "      <td>0.0</td>\n",
       "      <td>0.0</td>\n",
       "      <td>0.0</td>\n",
       "      <td>0.0</td>\n",
       "      <td>0.321717</td>\n",
       "      <td>0.682126</td>\n",
       "      <td>0.0</td>\n",
       "      <td>0.0</td>\n",
       "      <td>0.579808</td>\n",
       "      <td>0.0</td>\n",
       "      <td>0.0</td>\n",
       "      <td>0.0</td>\n",
       "      <td>0.682880</td>\n",
       "      <td>+</td>\n",
       "      <td>0.716874</td>\n",
       "      <td>0.601645</td>\n",
       "      <td>0.544263</td>\n",
       "      <td>0.580209</td>\n",
       "      <td>0.0</td>\n",
       "      <td>0.0</td>\n",
       "      <td>0.601645</td>\n",
       "      <td>0.639227</td>\n",
       "      <td>+</td>\n",
       "      <td>0.0</td>\n",
       "      <td>0.639217</td>\n",
       "      <td>0.682439</td>\n",
       "      <td>0.0</td>\n",
       "      <td>0</td>\n",
       "      <td>0</td>\n",
       "      <td>0</td>\n",
       "      <td>1</td>\n",
       "      <td>1</td>\n",
       "      <td>0</td>\n",
       "      <td>2020/1/1</td>\n",
       "    </tr>\n",
       "    <tr>\n",
       "      <th>3</th>\n",
       "      <td>0</td>\n",
       "      <td>0.0</td>\n",
       "      <td>0.0</td>\n",
       "      <td>0.0</td>\n",
       "      <td>0.0</td>\n",
       "      <td>0.0</td>\n",
       "      <td>0.0</td>\n",
       "      <td>0.000000</td>\n",
       "      <td>0.638989</td>\n",
       "      <td>0.0</td>\n",
       "      <td>0.0</td>\n",
       "      <td>0.477584</td>\n",
       "      <td>0.0</td>\n",
       "      <td>0.0</td>\n",
       "      <td>0.0</td>\n",
       "      <td>0.639227</td>\n",
       "      <td>+</td>\n",
       "      <td>0.716874</td>\n",
       "      <td>0.547541</td>\n",
       "      <td>0.000000</td>\n",
       "      <td>0.477584</td>\n",
       "      <td>0.0</td>\n",
       "      <td>0.0</td>\n",
       "      <td>0.547541</td>\n",
       "      <td>0.669317</td>\n",
       "      <td>+</td>\n",
       "      <td>0.0</td>\n",
       "      <td>0.669307</td>\n",
       "      <td>0.639282</td>\n",
       "      <td>0.0</td>\n",
       "      <td>0</td>\n",
       "      <td>0</td>\n",
       "      <td>0</td>\n",
       "      <td>1</td>\n",
       "      <td>1</td>\n",
       "      <td>0</td>\n",
       "      <td>2019/12/1</td>\n",
       "    </tr>\n",
       "    <tr>\n",
       "      <th>4</th>\n",
       "      <td>0</td>\n",
       "      <td>0.0</td>\n",
       "      <td>0.0</td>\n",
       "      <td>0.0</td>\n",
       "      <td>0.0</td>\n",
       "      <td>0.0</td>\n",
       "      <td>0.0</td>\n",
       "      <td>0.308998</td>\n",
       "      <td>0.669116</td>\n",
       "      <td>0.0</td>\n",
       "      <td>0.0</td>\n",
       "      <td>0.516747</td>\n",
       "      <td>0.0</td>\n",
       "      <td>0.0</td>\n",
       "      <td>0.0</td>\n",
       "      <td>0.669317</td>\n",
       "      <td>+</td>\n",
       "      <td>0.716874</td>\n",
       "      <td>0.581409</td>\n",
       "      <td>0.522745</td>\n",
       "      <td>0.516776</td>\n",
       "      <td>0.0</td>\n",
       "      <td>0.0</td>\n",
       "      <td>0.581409</td>\n",
       "      <td>0.625942</td>\n",
       "      <td>+</td>\n",
       "      <td>0.0</td>\n",
       "      <td>0.625933</td>\n",
       "      <td>0.669423</td>\n",
       "      <td>0.0</td>\n",
       "      <td>0</td>\n",
       "      <td>0</td>\n",
       "      <td>0</td>\n",
       "      <td>1</td>\n",
       "      <td>2</td>\n",
       "      <td>0</td>\n",
       "      <td>2019/11/1</td>\n",
       "    </tr>\n",
       "  </tbody>\n",
       "</table>\n",
       "</div>"
      ],
      "text/plain": [
       "   uid  FEE1  FEE2  FEE3  FEE4  FEE5  FEE6  TOTAL_FEE  SONG_LIS_NUM  \\\n",
       "0    0   0.0   0.0   0.0   0.0   0.0   0.0   0.330408      0.678034   \n",
       "1    0   0.0   0.0   0.0   0.0   0.0   0.0   0.339423      0.648463   \n",
       "2    0   0.0   0.0   0.0   0.0   0.0   0.0   0.321717      0.682126   \n",
       "3    0   0.0   0.0   0.0   0.0   0.0   0.0   0.000000      0.638989   \n",
       "4    0   0.0   0.0   0.0   0.0   0.0   0.0   0.308998      0.669116   \n",
       "\n",
       "   SONG_DOW_NUM  SONG_TOTAL_FEE  COS_TOTAL_FEE  LIM_DOW_NUM  INV_TOTAL_FEE  \\\n",
       "0           0.0             0.0       0.551596          0.0            0.0   \n",
       "1           0.0             0.0       0.570442          0.0            0.0   \n",
       "2           0.0             0.0       0.579808          0.0            0.0   \n",
       "3           0.0             0.0       0.477584          0.0            0.0   \n",
       "4           0.0             0.0       0.516747          0.0            0.0   \n",
       "\n",
       "   ACU_TOTAL_FEE  CLOSE_BAL CLSBAL_FLAG  PRE_LIMIT_FEE  INSTL_AMT  INT_CHDCMP  \\\n",
       "0            0.0   0.678489           +       0.716874   0.594090    0.558967   \n",
       "1            0.0   0.649947           +       0.716874   0.570037    0.574217   \n",
       "2            0.0   0.682880           +       0.716874   0.601645    0.544263   \n",
       "3            0.0   0.639227           +       0.716874   0.547541    0.000000   \n",
       "4            0.0   0.669317           +       0.716874   0.581409    0.522745   \n",
       "\n",
       "   INT_CHGD  INT_CMPOND  INT_CUNOT   MIN_DUE  OPEN_BAL OPBAL_FLAG  OTHER_FEES  \\\n",
       "0  0.552494         0.0        0.0  0.594090  0.649947          +         0.0   \n",
       "1  0.571536         0.0        0.0  0.570037  0.682880          +         0.0   \n",
       "2  0.580209         0.0        0.0  0.601645  0.639227          +         0.0   \n",
       "3  0.477584         0.0        0.0  0.547541  0.669317          +         0.0   \n",
       "4  0.516776         0.0        0.0  0.581409  0.625942          +         0.0   \n",
       "\n",
       "    PAYMENT  PURCHASES  BAL_MP  NBR_CASHAD_NEW  NBR_FEEDTY_NEW  \\\n",
       "0  0.649937   0.678345     0.0               0               0   \n",
       "1  0.682870   0.648760     0.0               0               0   \n",
       "2  0.639217   0.682439     0.0               0               0   \n",
       "3  0.669307   0.639282     0.0               0               0   \n",
       "4  0.625933   0.669423     0.0               0               0   \n",
       "\n",
       "   NBR_OTHERS_NEW  NBR_PAYMNT_NEW  NBR_PURCH_NEW  MTHS_ODUE       date  \n",
       "0               0               1              4          0   2020/3/1  \n",
       "1               0               1              1          0   2020/2/1  \n",
       "2               0               1              1          0   2020/1/1  \n",
       "3               0               1              1          0  2019/12/1  \n",
       "4               0               1              2          0  2019/11/1  "
      ]
     },
     "execution_count": 6,
     "metadata": {},
     "output_type": "execute_result"
    }
   ],
   "source": [
    "bhv.head()"
   ]
  },
  {
   "cell_type": "code",
   "execution_count": 7,
   "metadata": {
    "ExecuteTime": {
     "end_time": "2021-09-21T05:31:05.655704Z",
     "start_time": "2021-09-21T05:31:05.642071Z"
    },
    "scrolled": true
   },
   "outputs": [
    {
     "data": {
      "text/html": [
       "<div>\n",
       "<style scoped>\n",
       "    .dataframe tbody tr th:only-of-type {\n",
       "        vertical-align: middle;\n",
       "    }\n",
       "\n",
       "    .dataframe tbody tr th {\n",
       "        vertical-align: top;\n",
       "    }\n",
       "\n",
       "    .dataframe thead th {\n",
       "        text-align: right;\n",
       "    }\n",
       "</style>\n",
       "<table border=\"1\" class=\"dataframe\">\n",
       "  <thead>\n",
       "    <tr style=\"text-align: right;\">\n",
       "      <th></th>\n",
       "      <th>uid</th>\n",
       "      <th>DAY_OPENED</th>\n",
       "      <th>tag</th>\n",
       "    </tr>\n",
       "  </thead>\n",
       "  <tbody>\n",
       "    <tr>\n",
       "      <th>0</th>\n",
       "      <td>0</td>\n",
       "      <td>20190430</td>\n",
       "      <td>0</td>\n",
       "    </tr>\n",
       "    <tr>\n",
       "      <th>1</th>\n",
       "      <td>1</td>\n",
       "      <td>20170512</td>\n",
       "      <td>0</td>\n",
       "    </tr>\n",
       "    <tr>\n",
       "      <th>2</th>\n",
       "      <td>2</td>\n",
       "      <td>20190129</td>\n",
       "      <td>0</td>\n",
       "    </tr>\n",
       "    <tr>\n",
       "      <th>3</th>\n",
       "      <td>3</td>\n",
       "      <td>20161026</td>\n",
       "      <td>0</td>\n",
       "    </tr>\n",
       "    <tr>\n",
       "      <th>4</th>\n",
       "      <td>4</td>\n",
       "      <td>20180910</td>\n",
       "      <td>0</td>\n",
       "    </tr>\n",
       "  </tbody>\n",
       "</table>\n",
       "</div>"
      ],
      "text/plain": [
       "   uid  DAY_OPENED  tag\n",
       "0    0    20190430    0\n",
       "1    1    20170512    0\n",
       "2    2    20190129    0\n",
       "3    3    20161026    0\n",
       "4    4    20180910    0"
      ]
     },
     "execution_count": 7,
     "metadata": {},
     "output_type": "execute_result"
    }
   ],
   "source": [
    "tag.head()"
   ]
  },
  {
   "cell_type": "markdown",
   "metadata": {},
   "source": [
    "### 1.特征衍生与合并"
   ]
  },
  {
   "cell_type": "code",
   "execution_count": 8,
   "metadata": {
    "ExecuteTime": {
     "end_time": "2021-09-21T05:31:05.731078Z",
     "start_time": "2021-09-21T05:31:05.717649Z"
    }
   },
   "outputs": [],
   "source": [
    "# 观察点\n",
    "obj_date = datetime.date(2020,3,1)"
   ]
  },
  {
   "cell_type": "code",
   "execution_count": 9,
   "metadata": {
    "ExecuteTime": {
     "end_time": "2021-09-21T05:31:05.957503Z",
     "start_time": "2021-09-21T05:31:05.793089Z"
    }
   },
   "outputs": [],
   "source": [
    "bhv['date'] = pd.to_datetime(bhv['date']).dt.date\n",
    "bhv.loc[:,['CLSBAL_FLAG','OPBAL_FLAG']] = bhv.loc[:,['CLSBAL_FLAG','OPBAL_FLAG']].replace({'+':0,'-':1})"
   ]
  },
  {
   "cell_type": "code",
   "execution_count": 10,
   "metadata": {
    "ExecuteTime": {
     "end_time": "2021-09-21T05:31:06.034130Z",
     "start_time": "2021-09-21T05:31:06.020116Z"
    }
   },
   "outputs": [],
   "source": [
    "exp_feas = set(['uid','CLSBAL_FLAG','OPBAL_FLAG','date','NBR_PURCH_NEW','MTHS_ODUE'])\n",
    "num_feas = list(set(bhv.columns)-exp_feas)\n",
    "spc_feas = ['CLSBAL_FLAG','OPBAL_FLAG','CLOSE_BAL']"
   ]
  },
  {
   "cell_type": "code",
   "execution_count": 11,
   "metadata": {
    "ExecuteTime": {
     "end_time": "2021-09-21T05:31:06.110192Z",
     "start_time": "2021-09-21T05:31:06.097181Z"
    }
   },
   "outputs": [],
   "source": [
    "camp= lambda x:0 if x[x==1].count() == 0 else x[x==0].count()/x[x==1].count() \n",
    "pct = lambda x:np.nan if x.values[0] == 0 else x.values[-1]/x.values[0]-1 "
   ]
  },
  {
   "cell_type": "markdown",
   "metadata": {},
   "source": [
    "#### 1.1 滑动窗口行为特征衍生"
   ]
  },
  {
   "cell_type": "code",
   "execution_count": 12,
   "metadata": {
    "ExecuteTime": {
     "end_time": "2021-09-21T05:31:29.875879Z",
     "start_time": "2021-09-21T05:31:06.172133Z"
    },
    "scrolled": true
   },
   "outputs": [],
   "source": [
    "# 近N月消费、推荐、下载行为特征 N=1，3，6，9，12\n",
    "# 近N月累计会员次数、累计正向消费次数、负正向消费比，账户余额变化\n",
    "bhvn_lis = []\n",
    "for n in [1,3,6,9,12]:\n",
    "    ddate = obj_date - relativedelta(months=n)\n",
    "    bhvsele = bhv[bhv['date'].between(ddate,obj_date)]\n",
    "    bhvn = bhvsele.groupby(['uid'])[num_feas].agg(['sum','max','min','mean'])\n",
    "    bhvn.columns = [f'_{n}_'.join(col).upper() for col in bhvn.columns.values]\n",
    "    bhvs = bhvsele.groupby(['uid'])[spc_feas].agg({'OPBAL_FLAG':'sum','CLSBAL_FLAG':['sum',camp],'CLOSE_BAL':pct})\n",
    "    bhvs = bhvs.rename({'<lambda_0>':'camp','<lambda>':'pct'},axis=1)\n",
    "    bhvs.columns = [f'_{n}_'.join(col).upper() for col in bhvs.columns.values]\n",
    "    bhvn = pd.concat([bhvn,bhvs],axis=1)\n",
    "    bhvn_lis.append(bhvn)"
   ]
  },
  {
   "cell_type": "code",
   "execution_count": 13,
   "metadata": {
    "ExecuteTime": {
     "end_time": "2021-09-21T05:31:30.436121Z",
     "start_time": "2021-09-21T05:31:30.325632Z"
    }
   },
   "outputs": [],
   "source": [
    "bhvnall = pd.concat(bhvn_lis,axis=1).reset_index()"
   ]
  },
  {
   "cell_type": "code",
   "execution_count": 14,
   "metadata": {
    "ExecuteTime": {
     "end_time": "2021-09-21T05:31:32.045459Z",
     "start_time": "2021-09-21T05:31:31.061203Z"
    }
   },
   "outputs": [],
   "source": [
    "dataset = bhv[bhv['date'] == obj_date].merge(bhvnall,on=['uid'])"
   ]
  },
  {
   "cell_type": "code",
   "execution_count": 15,
   "metadata": {
    "ExecuteTime": {
     "end_time": "2021-09-21T05:31:32.909126Z",
     "start_time": "2021-09-21T05:31:32.850073Z"
    }
   },
   "outputs": [],
   "source": [
    "train_set = dataset.merge(tag,on=['uid'])\n",
    "out_set = dataset.merge(out,on=['uid'])"
   ]
  },
  {
   "cell_type": "markdown",
   "metadata": {},
   "source": [
    "#### 1.2 注册时间距离观察点时间特征衍生"
   ]
  },
  {
   "cell_type": "code",
   "execution_count": 16,
   "metadata": {
    "ExecuteTime": {
     "end_time": "2021-09-21T05:31:34.031566Z",
     "start_time": "2021-09-21T05:31:34.000563Z"
    }
   },
   "outputs": [],
   "source": [
    "train_set['DAY_OPENED'] = pd.to_datetime(train_set['DAY_OPENED'],format='%Y%m%d').dt.date\n",
    "out_set['DAY_OPENED'] = pd.to_datetime(out_set['DAY_OPENED'],format='%Y%m%d').dt.date"
   ]
  },
  {
   "cell_type": "code",
   "execution_count": 17,
   "metadata": {
    "ExecuteTime": {
     "end_time": "2021-09-21T05:31:35.339763Z",
     "start_time": "2021-09-21T05:31:35.124213Z"
    }
   },
   "outputs": [],
   "source": [
    "train_set['until_days'] = (obj_date-train_set['DAY_OPENED']).dt.days\n",
    "train_set['until_months'] = (obj_date-train_set['DAY_OPENED']).dt.days/30\n",
    "train_set['until_weeks'] = (obj_date-train_set['DAY_OPENED']).dt.days/7\n",
    "\n",
    "out_set['until_days'] = (obj_date-out_set['DAY_OPENED']).dt.days\n",
    "out_set['until_months'] = (obj_date-out_set['DAY_OPENED']).dt.days/30\n",
    "out_set['until_weeks'] = (obj_date-out_set['DAY_OPENED']).dt.days/7"
   ]
  },
  {
   "cell_type": "markdown",
   "metadata": {},
   "source": [
    "### 2.特征筛选"
   ]
  },
  {
   "cell_type": "markdown",
   "metadata": {},
   "source": [
    "#### 2.1 剔除缺失率大于0.7的特征"
   ]
  },
  {
   "cell_type": "code",
   "execution_count": 18,
   "metadata": {
    "ExecuteTime": {
     "end_time": "2021-09-21T05:31:36.474536Z",
     "start_time": "2021-09-21T05:31:36.459533Z"
    }
   },
   "outputs": [],
   "source": [
    "explore_drop_feas = []"
   ]
  },
  {
   "cell_type": "code",
   "execution_count": 19,
   "metadata": {
    "ExecuteTime": {
     "end_time": "2021-09-21T05:31:37.622006Z",
     "start_time": "2021-09-21T05:31:37.544414Z"
    }
   },
   "outputs": [],
   "source": [
    "null_cnt = 1-train_set.count()/15000\n",
    "explore_drop_feas.extend(list(null_cnt[null_cnt > 0.7].index))"
   ]
  },
  {
   "cell_type": "markdown",
   "metadata": {},
   "source": [
    "#### 2.2 剔除单一特征"
   ]
  },
  {
   "cell_type": "code",
   "execution_count": 20,
   "metadata": {
    "ExecuteTime": {
     "end_time": "2021-09-21T05:31:38.859961Z",
     "start_time": "2021-09-21T05:31:38.675801Z"
    }
   },
   "outputs": [],
   "source": [
    "unique_cnt = train_set.apply(lambda x:len(x.unique()))\n",
    "explore_drop_feas.extend(list(unique_cnt[unique_cnt == 1].index))"
   ]
  },
  {
   "cell_type": "code",
   "execution_count": 21,
   "metadata": {
    "ExecuteTime": {
     "end_time": "2021-09-21T05:31:39.956951Z",
     "start_time": "2021-09-21T05:31:39.909908Z"
    }
   },
   "outputs": [],
   "source": [
    "train_set = train_set.drop(explore_drop_feas,axis=1)\n",
    "out_set = out_set.drop(explore_drop_feas,axis=1)"
   ]
  },
  {
   "cell_type": "markdown",
   "metadata": {},
   "source": [
    "#### 2.3 划分数据集"
   ]
  },
  {
   "cell_type": "markdown",
   "metadata": {
    "ExecuteTime": {
     "end_time": "2021-09-20T07:15:37.104082Z",
     "start_time": "2021-09-20T07:15:37.093073Z"
    }
   },
   "source": [
    "* 因为聚合样本总共20000条，样本较少，为简化模型，所以不进行采用分注册月度分层采样操作"
   ]
  },
  {
   "cell_type": "code",
   "execution_count": 22,
   "metadata": {
    "ExecuteTime": {
     "end_time": "2021-09-21T05:31:41.060452Z",
     "start_time": "2021-09-21T05:31:41.029430Z"
    }
   },
   "outputs": [],
   "source": [
    "train_x = train_set.drop(['DAY_OPENED','uid','tag'],axis=1)\n",
    "train_y = train_set['tag']\n",
    "out_x = out_set.drop(['DAY_OPENED','uid'],axis=1)"
   ]
  },
  {
   "cell_type": "code",
   "execution_count": 23,
   "metadata": {
    "ExecuteTime": {
     "end_time": "2021-09-21T05:31:42.458406Z",
     "start_time": "2021-09-21T05:31:42.395356Z"
    }
   },
   "outputs": [],
   "source": [
    "tra_x,tst_x,tra_y,tst_y = train_test_split(train_x,train_y,test_size=0.3,random_state=0,shuffle=True)"
   ]
  },
  {
   "cell_type": "code",
   "execution_count": 24,
   "metadata": {
    "ExecuteTime": {
     "end_time": "2021-09-21T05:31:44.040774Z",
     "start_time": "2021-09-21T05:31:44.010379Z"
    }
   },
   "outputs": [],
   "source": [
    "tra_x = tra_x.reset_index(drop=True)\n",
    "tra_y = tra_y.reset_index(drop=True)\n",
    "tst_x = tst_x.reset_index(drop=True)\n",
    "tst_y = tst_y.reset_index(drop=True)"
   ]
  },
  {
   "cell_type": "code",
   "execution_count": 25,
   "metadata": {
    "ExecuteTime": {
     "end_time": "2021-09-21T05:31:45.611091Z",
     "start_time": "2021-09-21T05:31:45.596963Z"
    },
    "scrolled": false
   },
   "outputs": [
    {
     "data": {
      "text/plain": [
       "0    9773\n",
       "1     727\n",
       "Name: tag, dtype: int64"
      ]
     },
     "execution_count": 25,
     "metadata": {},
     "output_type": "execute_result"
    }
   ],
   "source": [
    "tra_y.value_counts()"
   ]
  },
  {
   "cell_type": "code",
   "execution_count": 26,
   "metadata": {
    "ExecuteTime": {
     "end_time": "2021-09-21T05:31:47.198144Z",
     "start_time": "2021-09-21T05:31:47.190590Z"
    },
    "scrolled": true
   },
   "outputs": [
    {
     "data": {
      "text/plain": [
       "0    4181\n",
       "1     319\n",
       "Name: tag, dtype: int64"
      ]
     },
     "execution_count": 26,
     "metadata": {},
     "output_type": "execute_result"
    }
   ],
   "source": [
    "tst_y.value_counts()"
   ]
  },
  {
   "cell_type": "markdown",
   "metadata": {},
   "source": [
    "#### 2.4 K折交叉验证筛选特征"
   ]
  },
  {
   "cell_type": "code",
   "execution_count": 27,
   "metadata": {
    "ExecuteTime": {
     "end_time": "2021-09-21T05:31:48.726171Z",
     "start_time": "2021-09-21T05:31:48.712169Z"
    },
    "scrolled": true
   },
   "outputs": [],
   "source": [
    "# skf = StratifiedKFold(10,shuffle=True,random_state=0)\n",
    "# sele = set()\n",
    "# n = 1\n",
    "# for tra_index,tst_index in skf.split(tra_x,tra_y):\n",
    "#     print(f'第{n}折')\n",
    "#     ktrax = tra_x.iloc[tra_index,:]\n",
    "#     ktray = tra_y.iloc[tra_index]\n",
    "#     ktstx = tra_x.iloc[tst_index,:]\n",
    "#     ktxty = tra_y.iloc[tst_index]\n",
    "#     clf = LGBMClassifier(random_state=0)\n",
    "#     clf.fit(ktrax,ktray)\n",
    "#     imp = pd.DataFrame(clf.feature_importances_,index=tra_x.columns,columns=['importance']).sort_values('importance',ascending=False)\n",
    "#     sele = sele | set(imp['importance'].head(50).index)\n",
    "#     n+=1"
   ]
  },
  {
   "cell_type": "code",
   "execution_count": 28,
   "metadata": {
    "ExecuteTime": {
     "end_time": "2021-09-21T05:31:51.653922Z",
     "start_time": "2021-09-21T05:31:50.242301Z"
    }
   },
   "outputs": [],
   "source": [
    "clf = LGBMClassifier(random_state=0)\n",
    "clf.fit(tra_x,tra_y)\n",
    "tra_pred_y = clf.predict_proba(tra_x)[:,1]\n",
    "imp = pd.DataFrame(clf.feature_importances_,index=tra_x.columns,columns=['importance']).sort_values('importance',ascending=False)\n",
    "sele = set(imp['importance'].head(200).index)"
   ]
  },
  {
   "cell_type": "code",
   "execution_count": 29,
   "metadata": {
    "ExecuteTime": {
     "end_time": "2021-09-21T05:31:53.230926Z",
     "start_time": "2021-09-21T05:31:53.200436Z"
    }
   },
   "outputs": [],
   "source": [
    "tra_x = tra_x[sele]\n",
    "tst_x = tst_x[sele]\n",
    "out_x = out_x[sele]"
   ]
  },
  {
   "cell_type": "markdown",
   "metadata": {},
   "source": [
    "#### 2.5 决策树分箱"
   ]
  },
  {
   "cell_type": "code",
   "execution_count": 30,
   "metadata": {
    "ExecuteTime": {
     "end_time": "2021-09-21T05:31:54.714113Z",
     "start_time": "2021-09-21T05:31:54.683727Z"
    }
   },
   "outputs": [],
   "source": [
    "tra_x = pd.concat([tra_x,tra_y],axis=1)\n",
    "tst_x = pd.concat([tst_x,tst_y],axis=1)"
   ]
  },
  {
   "cell_type": "code",
   "execution_count": 31,
   "metadata": {
    "ExecuteTime": {
     "end_time": "2021-09-21T05:32:37.121328Z",
     "start_time": "2021-09-21T05:31:56.238429Z"
    }
   },
   "outputs": [
    {
     "name": "stdout",
     "output_type": "stream",
     "text": [
      "[INFO] creating woe binning ...\n",
      "Binning on 10500 rows and 201 columns in 00:00:40\n"
     ]
    }
   ],
   "source": [
    "bins_dic = sc.woebin(tra_x,y='tag',var_skip=['CLSBAL_FLAG','OPBAL_FLAG'])"
   ]
  },
  {
   "cell_type": "markdown",
   "metadata": {},
   "source": [
    "#### 2.6 IV值筛选"
   ]
  },
  {
   "cell_type": "code",
   "execution_count": 32,
   "metadata": {
    "ExecuteTime": {
     "end_time": "2021-09-21T05:32:39.579825Z",
     "start_time": "2021-09-21T05:32:39.503813Z"
    }
   },
   "outputs": [],
   "source": [
    "iv_df = FeaEdaFunc.filter_fea(bins_dic)\n",
    "iv_drop = iv_df[iv_df['iv']<0.1].index.to_list()"
   ]
  },
  {
   "cell_type": "code",
   "execution_count": 33,
   "metadata": {
    "ExecuteTime": {
     "end_time": "2021-09-21T05:32:41.991146Z",
     "start_time": "2021-09-21T05:32:41.960967Z"
    }
   },
   "outputs": [],
   "source": [
    "tra_x = tra_x.drop(iv_drop,axis=1)\n",
    "tst_x = tst_x.drop(iv_drop,axis=1)\n",
    "out_x = out_x.drop(iv_drop,axis=1)"
   ]
  },
  {
   "cell_type": "code",
   "execution_count": 34,
   "metadata": {
    "ExecuteTime": {
     "end_time": "2021-09-21T05:32:44.316692Z",
     "start_time": "2021-09-21T05:32:44.302334Z"
    }
   },
   "outputs": [],
   "source": [
    "bins_drop_dic = [bins_dic.pop(k) for k in iv_drop]"
   ]
  },
  {
   "cell_type": "markdown",
   "metadata": {},
   "source": [
    "#### 2.7 PSI筛选"
   ]
  },
  {
   "cell_type": "code",
   "execution_count": 35,
   "metadata": {
    "ExecuteTime": {
     "end_time": "2021-09-21T05:32:58.608268Z",
     "start_time": "2021-09-21T05:32:46.612495Z"
    }
   },
   "outputs": [],
   "source": [
    "psi_info = FeaEdaFunc.calc_psi(bins_dic,tra_x,tst_x)[0]"
   ]
  },
  {
   "cell_type": "code",
   "execution_count": 36,
   "metadata": {
    "ExecuteTime": {
     "end_time": "2021-09-21T05:33:00.924244Z",
     "start_time": "2021-09-21T05:33:00.909231Z"
    }
   },
   "outputs": [],
   "source": [
    "psi_df = pd.DataFrame(psi_info,index=['psi']).T.sort_values('psi',ascending=False)"
   ]
  },
  {
   "cell_type": "code",
   "execution_count": 37,
   "metadata": {
    "ExecuteTime": {
     "end_time": "2021-09-21T05:33:03.233653Z",
     "start_time": "2021-09-21T05:33:03.218639Z"
    }
   },
   "outputs": [],
   "source": [
    "psi_drop = set(psi_df[psi_df['psi']>0.05].index)"
   ]
  },
  {
   "cell_type": "code",
   "execution_count": 38,
   "metadata": {
    "ExecuteTime": {
     "end_time": "2021-09-21T05:33:05.539820Z",
     "start_time": "2021-09-21T05:33:05.525346Z"
    }
   },
   "outputs": [],
   "source": [
    "tra_x = tra_x.drop(psi_drop,axis=1)\n",
    "tst_x = tst_x.drop(psi_drop,axis=1)\n",
    "out_x = out_x.drop(psi_drop,axis=1)"
   ]
  },
  {
   "cell_type": "markdown",
   "metadata": {},
   "source": [
    "#### 2.8 WOE转化"
   ]
  },
  {
   "cell_type": "code",
   "execution_count": 39,
   "metadata": {
    "ExecuteTime": {
     "end_time": "2021-09-21T05:33:07.862545Z",
     "start_time": "2021-09-21T05:33:07.847826Z"
    }
   },
   "outputs": [],
   "source": [
    "tra_x = tra_x.drop('tag',axis=1)\n",
    "tst_x = tst_x.drop('tag',axis=1)"
   ]
  },
  {
   "cell_type": "code",
   "execution_count": 40,
   "metadata": {
    "ExecuteTime": {
     "end_time": "2021-09-21T05:33:24.932851Z",
     "start_time": "2021-09-21T05:33:10.161953Z"
    },
    "scrolled": true
   },
   "outputs": [
    {
     "name": "stdout",
     "output_type": "stream",
     "text": [
      "[INFO] converting into woe values ...\n",
      "[INFO] converting into woe values ...\n",
      "[INFO] converting into woe values ...\n"
     ]
    }
   ],
   "source": [
    "tra_x_woe = sc.woebin_ply(tra_x,bins_dic)\n",
    "tst_x_woe = sc.woebin_ply(tst_x,bins_dic)\n",
    "out_x_woe = sc.woebin_ply(out_x,bins_dic)"
   ]
  },
  {
   "cell_type": "code",
   "execution_count": 41,
   "metadata": {
    "ExecuteTime": {
     "end_time": "2021-09-21T05:33:27.515503Z",
     "start_time": "2021-09-21T05:33:27.485826Z"
    }
   },
   "outputs": [
    {
     "data": {
      "text/plain": [
       "(array([], dtype=int64), array([], dtype=int64))"
      ]
     },
     "execution_count": 41,
     "metadata": {},
     "output_type": "execute_result"
    }
   ],
   "source": [
    "xv = tra_x_woe.values\n",
    "np.where(xv==np.nan)"
   ]
  },
  {
   "cell_type": "code",
   "execution_count": 42,
   "metadata": {
    "ExecuteTime": {
     "end_time": "2021-09-21T05:33:30.097852Z",
     "start_time": "2021-09-21T05:33:30.083840Z"
    }
   },
   "outputs": [
    {
     "data": {
      "text/plain": [
       "Series([], dtype: float64)"
      ]
     },
     "execution_count": 42,
     "metadata": {},
     "output_type": "execute_result"
    }
   ],
   "source": [
    "x = (1-tra_x_woe.count()/10500)\n",
    "x[x>0]"
   ]
  },
  {
   "cell_type": "markdown",
   "metadata": {},
   "source": [
    "### 3 建立模型"
   ]
  },
  {
   "cell_type": "markdown",
   "metadata": {
    "ExecuteTime": {
     "end_time": "2021-09-20T09:19:54.872331Z",
     "start_time": "2021-09-20T09:19:54.856353Z"
    }
   },
   "source": [
    "#### 3.1 初步模型"
   ]
  },
  {
   "cell_type": "code",
   "execution_count": 43,
   "metadata": {
    "ExecuteTime": {
     "end_time": "2021-09-21T05:33:32.878913Z",
     "start_time": "2021-09-21T05:33:32.626685Z"
    }
   },
   "outputs": [],
   "source": [
    "clf = LGBMClassifier(num_leaves=10,reg_alpha=0.01,reg_lambda=0.01,max_depth=10,random_state=0)\n",
    "clf.fit(tra_x_woe,tra_y)\n",
    "tra_pred_y = clf.predict_proba(tra_x_woe)[:,1]\n",
    "tra_pred_tag = clf.predict(tra_x_woe)\n",
    "tst_pred_y = clf.predict_proba(tst_x_woe)[:,1]\n",
    "tst_pred_tag = clf.predict(tst_x_woe)"
   ]
  },
  {
   "cell_type": "code",
   "execution_count": 44,
   "metadata": {
    "ExecuteTime": {
     "end_time": "2021-09-21T05:33:35.439511Z",
     "start_time": "2021-09-21T05:33:35.425494Z"
    }
   },
   "outputs": [
    {
     "data": {
      "text/plain": [
       "0.9252843537292411"
      ]
     },
     "execution_count": 44,
     "metadata": {},
     "output_type": "execute_result"
    }
   ],
   "source": [
    "roc_auc_score(tra_y,tra_pred_y)"
   ]
  },
  {
   "cell_type": "code",
   "execution_count": 45,
   "metadata": {
    "ExecuteTime": {
     "end_time": "2021-09-21T05:33:37.990809Z",
     "start_time": "2021-09-21T05:33:37.976967Z"
    },
    "scrolled": true
   },
   "outputs": [
    {
     "data": {
      "text/plain": [
       "0.8021666907843289"
      ]
     },
     "execution_count": 45,
     "metadata": {},
     "output_type": "execute_result"
    }
   ],
   "source": [
    "roc_auc_score(tst_y,tst_pred_y)"
   ]
  },
  {
   "cell_type": "code",
   "execution_count": 46,
   "metadata": {
    "ExecuteTime": {
     "end_time": "2021-09-21T05:33:40.510556Z",
     "start_time": "2021-09-21T05:33:40.495544Z"
    }
   },
   "outputs": [
    {
     "name": "stdout",
     "output_type": "stream",
     "text": [
      "recall:0.994260\n"
     ]
    }
   ],
   "source": [
    "mat = confusion_matrix(tst_y,tst_pred_tag)\n",
    "recall = mat[0,0]/(mat[0,0]+mat[0,1])\n",
    "print(f'recall:{recall:.6f}')"
   ]
  },
  {
   "cell_type": "code",
   "execution_count": 47,
   "metadata": {
    "ExecuteTime": {
     "end_time": "2021-09-21T05:33:43.041728Z",
     "start_time": "2021-09-21T05:33:43.027715Z"
    },
    "scrolled": true
   },
   "outputs": [
    {
     "name": "stdout",
     "output_type": "stream",
     "text": [
      "recall:0.997647\n"
     ]
    }
   ],
   "source": [
    "mat = confusion_matrix(tra_y,tra_pred_tag)\n",
    "recall = mat[0,0]/(mat[0,0]+mat[0,1])\n",
    "print(f'recall:{recall:.6f}')"
   ]
  },
  {
   "cell_type": "markdown",
   "metadata": {},
   "source": [
    "#### 3.2 贝叶斯调参"
   ]
  },
  {
   "cell_type": "code",
   "execution_count": 83,
   "metadata": {
    "ExecuteTime": {
     "end_time": "2021-09-21T05:48:45.440758Z",
     "start_time": "2021-09-21T05:47:34.256325Z"
    },
    "scrolled": false
   },
   "outputs": [
    {
     "name": "stdout",
     "output_type": "stream",
     "text": [
      "|   iter    |  target   | max_depth | n_esti... | num_le... | reg_la... |\n",
      "-------------------------------------------------------------------------\n",
      "| \u001b[0m 1       \u001b[0m | \u001b[0m 0.8092  \u001b[0m | \u001b[0m 18.72   \u001b[0m | \u001b[0m 201.6   \u001b[0m | \u001b[0m 18.88   \u001b[0m | \u001b[0m 0.05904 \u001b[0m |\n",
      "| \u001b[95m 2       \u001b[0m | \u001b[95m 0.811   \u001b[0m | \u001b[95m 15.59   \u001b[0m | \u001b[95m 189.8   \u001b[0m | \u001b[95m 14.25   \u001b[0m | \u001b[95m 0.09026 \u001b[0m |\n",
      "| \u001b[0m 3       \u001b[0m | \u001b[0m 0.8109  \u001b[0m | \u001b[0m 29.09   \u001b[0m | \u001b[0m 145.2   \u001b[0m | \u001b[0m 24.17   \u001b[0m | \u001b[0m 0.0576  \u001b[0m |\n",
      "| \u001b[95m 4       \u001b[0m | \u001b[95m 0.8278  \u001b[0m | \u001b[95m 19.2    \u001b[0m | \u001b[95m 237.4   \u001b[0m | \u001b[95m 3.989   \u001b[0m | \u001b[95m 0.01784 \u001b[0m |\n",
      "| \u001b[0m 5       \u001b[0m | \u001b[0m 0.8027  \u001b[0m | \u001b[0m 5.505   \u001b[0m | \u001b[0m 221.5   \u001b[0m | \u001b[0m 23.79   \u001b[0m | \u001b[0m 0.0883  \u001b[0m |\n",
      "| \u001b[0m 6       \u001b[0m | \u001b[0m 0.8275  \u001b[0m | \u001b[0m 27.66   \u001b[0m | \u001b[0m 238.4   \u001b[0m | \u001b[0m 2.0     \u001b[0m | \u001b[0m 0.01084 \u001b[0m |\n",
      "| \u001b[0m 7       \u001b[0m | \u001b[0m 0.8091  \u001b[0m | \u001b[0m 25.82   \u001b[0m | \u001b[0m 250.0   \u001b[0m | \u001b[0m 15.29   \u001b[0m | \u001b[0m 0.01    \u001b[0m |\n",
      "| \u001b[0m 8       \u001b[0m | \u001b[0m 0.8242  \u001b[0m | \u001b[0m 19.28   \u001b[0m | \u001b[0m 236.3   \u001b[0m | \u001b[0m 4.41    \u001b[0m | \u001b[0m 0.0593  \u001b[0m |\n",
      "| \u001b[0m 9       \u001b[0m | \u001b[0m 0.8276  \u001b[0m | \u001b[0m 22.36   \u001b[0m | \u001b[0m 240.9   \u001b[0m | \u001b[0m 2.0     \u001b[0m | \u001b[0m 0.01    \u001b[0m |\n",
      "| \u001b[0m 10      \u001b[0m | \u001b[0m 0.8276  \u001b[0m | \u001b[0m 13.61   \u001b[0m | \u001b[0m 241.2   \u001b[0m | \u001b[0m 3.552   \u001b[0m | \u001b[0m 0.04532 \u001b[0m |\n",
      "| \u001b[0m 11      \u001b[0m | \u001b[0m 0.8152  \u001b[0m | \u001b[0m 17.31   \u001b[0m | \u001b[0m 243.9   \u001b[0m | \u001b[0m 7.53    \u001b[0m | \u001b[0m 0.08691 \u001b[0m |\n",
      "| \u001b[0m 12      \u001b[0m | \u001b[0m 0.8274  \u001b[0m | \u001b[0m 10.91   \u001b[0m | \u001b[0m 235.5   \u001b[0m | \u001b[0m 2.512   \u001b[0m | \u001b[0m 0.02778 \u001b[0m |\n",
      "| \u001b[0m 13      \u001b[0m | \u001b[0m 0.8269  \u001b[0m | \u001b[0m 5.362   \u001b[0m | \u001b[0m 240.9   \u001b[0m | \u001b[0m 3.108   \u001b[0m | \u001b[0m 0.01276 \u001b[0m |\n",
      "| \u001b[0m 14      \u001b[0m | \u001b[0m 0.8272  \u001b[0m | \u001b[0m 5.0     \u001b[0m | \u001b[0m 230.8   \u001b[0m | \u001b[0m 2.0     \u001b[0m | \u001b[0m 0.01    \u001b[0m |\n",
      "| \u001b[0m 15      \u001b[0m | \u001b[0m 0.8118  \u001b[0m | \u001b[0m 5.108   \u001b[0m | \u001b[0m 233.1   \u001b[0m | \u001b[0m 9.958   \u001b[0m | \u001b[0m 0.03919 \u001b[0m |\n",
      "| \u001b[0m 16      \u001b[0m | \u001b[0m 0.8275  \u001b[0m | \u001b[0m 5.0     \u001b[0m | \u001b[0m 249.2   \u001b[0m | \u001b[0m 2.0     \u001b[0m | \u001b[0m 0.01    \u001b[0m |\n",
      "| \u001b[0m 17      \u001b[0m | \u001b[0m 0.8271  \u001b[0m | \u001b[0m 10.31   \u001b[0m | \u001b[0m 220.9   \u001b[0m | \u001b[0m 2.05    \u001b[0m | \u001b[0m 0.04159 \u001b[0m |\n",
      "| \u001b[0m 18      \u001b[0m | \u001b[0m 0.8271  \u001b[0m | \u001b[0m 17.59   \u001b[0m | \u001b[0m 215.5   \u001b[0m | \u001b[0m 2.323   \u001b[0m | \u001b[0m 0.02541 \u001b[0m |\n",
      "| \u001b[0m 19      \u001b[0m | \u001b[0m 0.8271  \u001b[0m | \u001b[0m 7.359   \u001b[0m | \u001b[0m 212.4   \u001b[0m | \u001b[0m 2.806   \u001b[0m | \u001b[0m 0.03389 \u001b[0m |\n",
      "| \u001b[0m 20      \u001b[0m | \u001b[0m 0.8271  \u001b[0m | \u001b[0m 13.69   \u001b[0m | \u001b[0m 207.1   \u001b[0m | \u001b[0m 2.677   \u001b[0m | \u001b[0m 0.09038 \u001b[0m |\n",
      "| \u001b[0m 21      \u001b[0m | \u001b[0m 0.827   \u001b[0m | \u001b[0m 24.6    \u001b[0m | \u001b[0m 208.1   \u001b[0m | \u001b[0m 2.0     \u001b[0m | \u001b[0m 0.1     \u001b[0m |\n",
      "| \u001b[0m 22      \u001b[0m | \u001b[0m 0.827   \u001b[0m | \u001b[0m 28.51   \u001b[0m | \u001b[0m 218.1   \u001b[0m | \u001b[0m 2.379   \u001b[0m | \u001b[0m 0.07469 \u001b[0m |\n",
      "| \u001b[0m 23      \u001b[0m | \u001b[0m 0.8145  \u001b[0m | \u001b[0m 30.0    \u001b[0m | \u001b[0m 213.0   \u001b[0m | \u001b[0m 9.753   \u001b[0m | \u001b[0m 0.01    \u001b[0m |\n",
      "| \u001b[95m 24      \u001b[0m | \u001b[95m 0.8286  \u001b[0m | \u001b[95m 5.497   \u001b[0m | \u001b[95m 203.0   \u001b[0m | \u001b[95m 3.96    \u001b[0m | \u001b[95m 0.0704  \u001b[0m |\n",
      "| \u001b[0m 25      \u001b[0m | \u001b[0m 0.8267  \u001b[0m | \u001b[0m 5.296   \u001b[0m | \u001b[0m 194.7   \u001b[0m | \u001b[0m 2.809   \u001b[0m | \u001b[0m 0.06    \u001b[0m |\n",
      "| \u001b[0m 26      \u001b[0m | \u001b[0m 0.8273  \u001b[0m | \u001b[0m 29.48   \u001b[0m | \u001b[0m 228.6   \u001b[0m | \u001b[0m 2.281   \u001b[0m | \u001b[0m 0.06707 \u001b[0m |\n",
      "| \u001b[0m 27      \u001b[0m | \u001b[0m 0.8205  \u001b[0m | \u001b[0m 5.605   \u001b[0m | \u001b[0m 80.45   \u001b[0m | \u001b[0m 2.807   \u001b[0m | \u001b[0m 0.03343 \u001b[0m |\n",
      "| \u001b[0m 28      \u001b[0m | \u001b[0m 0.8149  \u001b[0m | \u001b[0m 6.489   \u001b[0m | \u001b[0m 207.7   \u001b[0m | \u001b[0m 10.7    \u001b[0m | \u001b[0m 0.01485 \u001b[0m |\n",
      "| \u001b[0m 29      \u001b[0m | \u001b[0m 0.8271  \u001b[0m | \u001b[0m 22.07   \u001b[0m | \u001b[0m 222.8   \u001b[0m | \u001b[0m 2.0     \u001b[0m | \u001b[0m 0.01    \u001b[0m |\n",
      "| \u001b[0m 30      \u001b[0m | \u001b[0m 0.8267  \u001b[0m | \u001b[0m 18.92   \u001b[0m | \u001b[0m 199.3   \u001b[0m | \u001b[0m 2.0     \u001b[0m | \u001b[0m 0.01    \u001b[0m |\n",
      "=========================================================================\n"
     ]
    }
   ],
   "source": [
    "def lgb_cv(n_estimators,num_leaves,reg_lambda,max_depth):\n",
    "    params = {'n_estimators':int(n_estimators),'num_leaves':int(num_leaves),'reg_lambda':float(reg_lambda),'max_depth':int(max_depth)}\n",
    "    skf = StratifiedKFold(n_splits=10, shuffle=True, random_state=0)\n",
    "    auc_lis = []\n",
    "    for k,(tra_index,tst_index) in enumerate(skf.split(tra_x_woe,tra_y)):\n",
    "        ktrax = tra_x_woe.values[tra_index]\n",
    "        ktray = tra_y.values[tra_index]\n",
    "        ktstx = tra_x_woe.values[tst_index,:]\n",
    "        ktsty = tra_y.values[tst_index]\n",
    "        clf = LGBMClassifier(**params,random_state=0)\n",
    "        clf.fit(ktrax,ktray)\n",
    "        ktst_pred = clf.predict_proba(ktstx)[:,1]\n",
    "        auc = roc_auc_score(ktsty,ktst_pred)\n",
    "        auc_lis.append(auc)\n",
    "    mauc = np.mean(auc_lis)\n",
    "    return mauc\n",
    "                          \n",
    "lgb_op = BayesianOptimization(lgb_cv,{'n_estimators': (80, 250),\n",
    "                                      'num_leaves': (2, 30),\n",
    "                                      'reg_lambda':(0.01,0.1),\n",
    "                                      'max_depth': (5, 30)},\n",
    "                             random_state=0)\n",
    "\n",
    "lgb_op.maximize()"
   ]
  },
  {
   "cell_type": "code",
   "execution_count": 84,
   "metadata": {
    "ExecuteTime": {
     "end_time": "2021-09-21T05:48:54.278343Z",
     "start_time": "2021-09-21T05:48:54.266332Z"
    },
    "scrolled": true
   },
   "outputs": [
    {
     "data": {
      "text/plain": [
       "{'max_depth': 5.497347896169364,\n",
       " 'n_estimators': 202.9818343906113,\n",
       " 'num_leaves': 3.9603618069244106,\n",
       " 'reg_lambda': 0.0704018835550194}"
      ]
     },
     "execution_count": 84,
     "metadata": {},
     "output_type": "execute_result"
    }
   ],
   "source": [
    "lgb_op.max['params']"
   ]
  },
  {
   "cell_type": "markdown",
   "metadata": {},
   "source": [
    "#### 3.3 最终模型"
   ]
  },
  {
   "cell_type": "code",
   "execution_count": 85,
   "metadata": {
    "ExecuteTime": {
     "end_time": "2021-09-21T05:49:26.344099Z",
     "start_time": "2021-09-21T05:49:26.014045Z"
    }
   },
   "outputs": [],
   "source": [
    "# clf = LGBMClassifier(n_estimators=237,num_leaves=4,reg_lambda=0.01784,max_depth=19,random_state=0)\n",
    "clf = LGBMClassifier(n_estimators=203,num_leaves=4,reg_lambda=0.0704,max_depth=5,random_state=0)\n",
    "clf.fit(tra_x_woe,tra_y)\n",
    "tra_pred_y = clf.predict_proba(tra_x_woe)[:,1]\n",
    "tra_pred_tag = clf.predict(tra_x_woe)\n",
    "tst_pred_y = clf.predict_proba(tst_x_woe)[:,1]\n",
    "tst_pred_tag = clf.predict(tst_x_woe)"
   ]
  },
  {
   "cell_type": "code",
   "execution_count": 86,
   "metadata": {
    "ExecuteTime": {
     "end_time": "2021-09-21T05:49:28.890329Z",
     "start_time": "2021-09-21T05:49:28.877319Z"
    }
   },
   "outputs": [
    {
     "data": {
      "text/plain": [
       "0.883777076641129"
      ]
     },
     "execution_count": 86,
     "metadata": {},
     "output_type": "execute_result"
    }
   ],
   "source": [
    "roc_auc_score(tra_y,tra_pred_y)"
   ]
  },
  {
   "cell_type": "code",
   "execution_count": 87,
   "metadata": {
    "ExecuteTime": {
     "end_time": "2021-09-21T05:49:31.694479Z",
     "start_time": "2021-09-21T05:49:31.407218Z"
    },
    "scrolled": true
   },
   "outputs": [
    {
     "data": {
      "image/png": "[encoded data removed]",
      "text/plain": [
       "<Figure size 864x360 with 2 Axes>"
      ]
     },
     "metadata": {},
     "output_type": "display_data"
    }
   ],
   "source": [
    "PertFunc.eva_plot(tra_y,tra_pred_y)"
   ]
  },
  {
   "cell_type": "code",
   "execution_count": 88,
   "metadata": {
    "ExecuteTime": {
     "end_time": "2021-09-21T05:49:34.214039Z",
     "start_time": "2021-09-21T05:49:34.200021Z"
    }
   },
   "outputs": [
    {
     "data": {
      "text/plain": [
       "0.8085292549741742"
      ]
     },
     "execution_count": 88,
     "metadata": {},
     "output_type": "execute_result"
    }
   ],
   "source": [
    "roc_auc_score(tst_y,tst_pred_y)"
   ]
  },
  {
   "cell_type": "code",
   "execution_count": 89,
   "metadata": {
    "ExecuteTime": {
     "end_time": "2021-09-21T05:49:37.025144Z",
     "start_time": "2021-09-21T05:49:36.745380Z"
    }
   },
   "outputs": [
    {
     "data": {
      "image/png": "[encoded data removed]",
      "text/plain": [
       "<Figure size 864x360 with 2 Axes>"
      ]
     },
     "metadata": {},
     "output_type": "display_data"
    }
   ],
   "source": [
    "PertFunc.eva_plot(tst_y,tst_pred_y)"
   ]
  },
  {
   "cell_type": "code",
   "execution_count": 90,
   "metadata": {
    "ExecuteTime": {
     "end_time": "2021-09-21T05:49:50.766644Z",
     "start_time": "2021-09-21T05:49:50.741631Z"
    }
   },
   "outputs": [
    {
     "name": "stdout",
     "output_type": "stream",
     "text": [
      "recall:0.997033\n"
     ]
    }
   ],
   "source": [
    "mat = confusion_matrix(tra_y,tra_pred_tag)\n",
    "recall = mat[0,0]/(mat[0,0]+mat[0,1])\n",
    "print(f'recall:{recall:.6f}')"
   ]
  },
  {
   "cell_type": "code",
   "execution_count": 91,
   "metadata": {
    "ExecuteTime": {
     "end_time": "2021-09-21T05:49:53.301824Z",
     "start_time": "2021-09-21T05:49:53.286810Z"
    }
   },
   "outputs": [
    {
     "name": "stdout",
     "output_type": "stream",
     "text": [
      "recall:0.997033\n"
     ]
    }
   ],
   "source": [
    "mat = confusion_matrix(tst_y,tst_pred_tag)\n",
    "mat[0,0]/(mat[0,0]+mat[0,1])\n",
    "print(f'recall:{recall:.6f}')"
   ]
  },
  {
   "cell_type": "markdown",
   "metadata": {},
   "source": [
    "#### 3.4 预测测试集结果"
   ]
  },
  {
   "cell_type": "code",
   "execution_count": 92,
   "metadata": {
    "ExecuteTime": {
     "end_time": "2021-09-21T05:49:55.857255Z",
     "start_time": "2021-09-21T05:49:55.826228Z"
    }
   },
   "outputs": [],
   "source": [
    "out_pred_y = clf.predict_proba(out_x_woe)[:,1]"
   ]
  },
  {
   "cell_type": "code",
   "execution_count": 93,
   "metadata": {
    "ExecuteTime": {
     "end_time": "2021-09-21T05:49:58.434034Z",
     "start_time": "2021-09-21T05:49:58.420340Z"
    }
   },
   "outputs": [],
   "source": [
    "out['Y_PRED'] = out_pred_y"
   ]
  },
  {
   "cell_type": "code",
   "execution_count": 94,
   "metadata": {
    "ExecuteTime": {
     "end_time": "2021-09-21T05:50:00.992347Z",
     "start_time": "2021-09-21T05:50:00.961332Z"
    }
   },
   "outputs": [],
   "source": [
    "out.to_csv('out_pred.csv',index=False)"
   ]
  },
  {
   "cell_type": "code",
   "execution_count": null,
   "metadata": {},
   "outputs": [],
   "source": []
  }
 ],
 "metadata": {
  "interpreter": {
   "hash": "a8f61be024eba58adef938c9aa1e29e02cb3dece83a5348b1a2dafd16a070453"
  },
  "kernelspec": {
   "display_name": "Python 3",
   "language": "python",
   "name": "python3"
  },
  "language_info": {
   "codemirror_mode": {
    "name": "ipython",
    "version": 3
   },
   "file_extension": ".py",
   "mimetype": "text/x-python",
   "name": "python",
   "nbconvert_exporter": "python",
   "pygments_lexer": "ipython3",
   "version": "3.8.3"
  },
  "varInspector": {
   "cols": {
    "lenName": 16,
    "lenType": 16,
    "lenVar": 40
   },
   "kernels_config": {
    "python": {
     "delete_cmd_postfix": "",
     "delete_cmd_prefix": "del ",
     "library": "var_list.py",
     "varRefreshCmd": "print(var_dic_list())"
    },
    "r": {
     "delete_cmd_postfix": ") ",
     "delete_cmd_prefix": "rm(",
     "library": "var_list.r",
     "varRefreshCmd": "cat(var_dic_list()) "
    }
   },
   "position": {
    "height": "194px",
    "left": "1549px",
    "right": "20px",
    "top": "119px",
    "width": "344px"
   },
   "types_to_exclude": [
    "module",
    "function",
    "builtin_function_or_method",
    "instance",
    "_Feature"
   ],
   "window_display": false
  }
 },
 "nbformat": 4,
 "nbformat_minor": 2
}
