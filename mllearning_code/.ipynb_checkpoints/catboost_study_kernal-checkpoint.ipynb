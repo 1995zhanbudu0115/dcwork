{
 "cells": [
  {
   "cell_type": "markdown",
   "metadata": {},
   "source": [
    "# CatBoost算法\n",
    "  CatBoost用一种十分特殊的方式来进行Boosting算法，下面就是一个toy example，考虑在我们的数据中有按时序排序的10个数据点，如下图\n",
    "* 如果数据没有时间戳，CatBoost会人工为每个数据创造一个时间戳."
   ]
  },
  {
   "cell_type": "markdown",
   "metadata": {},
   "source": [
    "time|datapoint|class label|\n",
    ":---|:---:| ---:\n",
    "12:00|x1|10\n",
    "12:01|x2|12\n",
    "12:02|x3|9\n",
    "12:03|x4|4\n",
    "12:04|x5|52\n",
    "12:05|x6|22\n",
    "12:06|x7|33\n",
    "12:07|x8|34\n",
    "12:08|x9|32\n",
    "12:09|x10|12"
   ]
  },
  {
   "cell_type": "markdown",
   "metadata": {
    "ExecuteTime": {
     "end_time": "2021-01-20T03:00:27.034831Z",
     "start_time": "2021-01-20T03:00:27.029807Z"
    }
   },
   "source": [
    "* Step1:\n",
    "\n",
    "对于单一数据点，用除了这个数据点之外的数据作为建模模型来预测并计算残差。（比如我们要计算数据点x5的残差，我们可以用基于数据x1,x2,x3,x4的模型来建模计算残差）。按照这个步骤我们对于每个不同的数据点来建立不同的模型。到最终那一步时，我们等于每个预测值等于都是基于其他数据来预测一个模型从来没有见过的值"
   ]
  },
  {
   "cell_type": "markdown",
   "metadata": {
    "ExecuteTime": {
     "end_time": "2021-01-20T03:01:33.299870Z",
     "start_time": "2021-01-20T03:01:33.294884Z"
    }
   },
   "source": [
    "* Step2\n",
    "\n",
    "用第一步得到的残差来训练模型"
   ]
  },
  {
   "cell_type": "markdown",
   "metadata": {},
   "source": [
    "* Step3:\n",
    "\n",
    "重复步骤1和2 n次"
   ]
  },
  {
   "cell_type": "markdown",
   "metadata": {},
   "source": []
  },
  {
   "cell_type": "markdown",
   "metadata": {
    "ExecuteTime": {
     "end_time": "2021-01-20T03:02:54.547435Z",
     "start_time": "2021-01-20T03:02:54.542101Z"
    }
   },
   "source": [
    "对于上面的toy_sample数据集，我们为了得到9个数据点的残差谁需要训练9个不同的模型。这个计算量显然非常大。所以默认不是训练n个模型，而是log(n_samples)个模型。所以一个模型如果根据n个数据点来建立，他将会被用于预测下n个数据点的残差。\n",
    "* 根据第一个数据点训练出的模型，将用于训练下一个数据点的残差.\n",
    "* 由此可得，根据第x1x2,x3,x4个数据点训练出的模型，将被用于预测x5,x6,x7,x8的残差。 上面介绍的算法我们一般叫做OrderedBoosting\n",
    "* (随机排列)Random Permutation： CatBoost一般都会将训练数据集进行随机排列shuffle，然后对于这些shuffle过的数据来进行刚刚讲到的* OrderedBoosting算法。引入这样的随机性我们可以更好的避免过拟合模型。我们可以根据bagging_temperature来控制随机性。"
   ]
  }
 ],
 "metadata": {
  "kernelspec": {
   "display_name": "Python 3",
   "language": "python",
   "name": "python3"
  },
  "language_info": {
   "codemirror_mode": {
    "name": "ipython",
    "version": 3
   },
   "file_extension": ".py",
   "mimetype": "text/x-python",
   "name": "python",
   "nbconvert_exporter": "python",
   "pygments_lexer": "ipython3",
   "version": "3.8.3"
  },
  "toc": {
   "base_numbering": 1,
   "nav_menu": {},
   "number_sections": false,
   "sideBar": true,
   "skip_h1_title": false,
   "title_cell": "Table of Contents",
   "title_sidebar": "Contents",
   "toc_cell": false,
   "toc_position": {},
   "toc_section_display": true,
   "toc_window_display": false
  },
  "varInspector": {
   "cols": {
    "lenName": 16,
    "lenType": 16,
    "lenVar": 40
   },
   "kernels_config": {
    "python": {
     "delete_cmd_postfix": "",
     "delete_cmd_prefix": "del ",
     "library": "var_list.py",
     "varRefreshCmd": "print(var_dic_list())"
    },
    "r": {
     "delete_cmd_postfix": ") ",
     "delete_cmd_prefix": "rm(",
     "library": "var_list.r",
     "varRefreshCmd": "cat(var_dic_list()) "
    }
   },
   "types_to_exclude": [
    "module",
    "function",
    "builtin_function_or_method",
    "instance",
    "_Feature"
   ],
   "window_display": false
  }
 },
 "nbformat": 4,
 "nbformat_minor": 2
}
